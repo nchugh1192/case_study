{
 "cells": [
  {
   "cell_type": "markdown",
   "metadata": {
    "run_control": {
     "marked": true
    }
   },
   "source": [
    "# Pru Wealth Data Test\n",
    "\n",
    "Below we will explore a mock database of customers, policies and funds that are similar to the Pru Wealth data. The first section of this notebook will test your SQL skills, the second section will test your Python skills and visualisation skills.\n",
    "\n",
    "The database file is called Prudential_Data.db\n",
    "\n",
    "The three tables included in this database are:\n",
    "* Customer_Table\n",
    "* Policy_Table\n",
    "* Fund_Table\n",
    "\n",
    "You will need to have the following packages installed in your Python environment:\n",
    "* numpy\n",
    "* pandas\n",
    "* sqlite3\n",
    "\n",
    "For visualization use any package of your choice (e.g., matplotlib, seaborn, plotly).\n",
    "\n",
    "Please complete and return the test before the deadline by emailing your copy of this notebook to: Denholm.Hesse@Prudential.co.uk. If you do not know the answer to a question feel free to use Google and Stack Overflow. This is to give you the option to teach yourself a concept from the internet to address a question which you do not know the answer to, please refrain from skipping questions. The test is meant to be completed by you only.\n",
    "\n",
    "Good luck and have fun!"
   ]
  },
  {
   "cell_type": "code",
   "execution_count": 1,
   "metadata": {
    "run_control": {
     "marked": true
    }
   },
   "outputs": [],
   "source": [
    "import numpy as np\n",
    "import pandas as pd\n",
    "import sqlite3"
   ]
  },
  {
   "cell_type": "markdown",
   "metadata": {
    "run_control": {
     "marked": true
    }
   },
   "source": [
    "# SQL test\n",
    "\n",
    "IMPORANT: Please make sure all questions in this section are solved using SQL by only editing the content of the variable *sqlite_query*. Please do not edit the below cell:"
   ]
  },
  {
   "cell_type": "code",
   "execution_count": 2,
   "metadata": {
    "run_control": {
     "marked": true
    }
   },
   "outputs": [],
   "source": [
    "# Establish DB connection\n",
    "conn = sqlite3.connect('Prudential_Data.db')"
   ]
  },
  {
   "cell_type": "markdown",
   "metadata": {},
   "source": [
    "Below is an example of how to query the SQLlite databse from this Jupyter notebook. Please note that SQLlite might have a slightly different syntax from the SQL you normally use. Please do not edit the below cell:"
   ]
  },
  {
   "cell_type": "code",
   "execution_count": 3,
   "metadata": {},
   "outputs": [
    {
     "data": {
      "text/html": [
       "<div>\n",
       "<style scoped>\n",
       "    .dataframe tbody tr th:only-of-type {\n",
       "        vertical-align: middle;\n",
       "    }\n",
       "\n",
       "    .dataframe tbody tr th {\n",
       "        vertical-align: top;\n",
       "    }\n",
       "\n",
       "    .dataframe thead th {\n",
       "        text-align: right;\n",
       "    }\n",
       "</style>\n",
       "<table border=\"1\" class=\"dataframe\">\n",
       "  <thead>\n",
       "    <tr style=\"text-align: right;\">\n",
       "      <th></th>\n",
       "      <th>COUNT(*)</th>\n",
       "    </tr>\n",
       "  </thead>\n",
       "  <tbody>\n",
       "    <tr>\n",
       "      <th>0</th>\n",
       "      <td>1635</td>\n",
       "    </tr>\n",
       "  </tbody>\n",
       "</table>\n",
       "</div>"
      ],
      "text/plain": [
       "   COUNT(*)\n",
       "0      1635"
      ]
     },
     "execution_count": 3,
     "metadata": {},
     "output_type": "execute_result"
    }
   ],
   "source": [
    "sqlite_query = \"\"\"\n",
    "SELECT COUNT(*) \n",
    "from policy_table \n",
    "\"\"\"\n",
    "\n",
    "pd.read_sql(sqlite_query, conn)"
   ]
  },
  {
   "cell_type": "markdown",
   "metadata": {
    "run_control": {
     "marked": true
    }
   },
   "source": [
    "The first table \"Customer_Table\" contains personal information about the customers. Please do not edit the below cell:"
   ]
  },
  {
   "cell_type": "code",
   "execution_count": 4,
   "metadata": {
    "run_control": {
     "marked": true
    }
   },
   "outputs": [
    {
     "data": {
      "text/html": [
       "<div>\n",
       "<style scoped>\n",
       "    .dataframe tbody tr th:only-of-type {\n",
       "        vertical-align: middle;\n",
       "    }\n",
       "\n",
       "    .dataframe tbody tr th {\n",
       "        vertical-align: top;\n",
       "    }\n",
       "\n",
       "    .dataframe thead th {\n",
       "        text-align: right;\n",
       "    }\n",
       "</style>\n",
       "<table border=\"1\" class=\"dataframe\">\n",
       "  <thead>\n",
       "    <tr style=\"text-align: right;\">\n",
       "      <th></th>\n",
       "      <th>index</th>\n",
       "      <th>Customer ID</th>\n",
       "      <th>Email</th>\n",
       "      <th>Gender</th>\n",
       "      <th>Age</th>\n",
       "      <th>Postcode</th>\n",
       "    </tr>\n",
       "  </thead>\n",
       "  <tbody>\n",
       "    <tr>\n",
       "      <th>0</th>\n",
       "      <td>0</td>\n",
       "      <td>CO183683</td>\n",
       "      <td>NLUPPITT14@PARALLELS.COM</td>\n",
       "      <td>Male</td>\n",
       "      <td>90</td>\n",
       "      <td>None</td>\n",
       "    </tr>\n",
       "    <tr>\n",
       "      <th>1</th>\n",
       "      <td>1</td>\n",
       "      <td>CO314757</td>\n",
       "      <td>None</td>\n",
       "      <td>Female</td>\n",
       "      <td>90</td>\n",
       "      <td>None</td>\n",
       "    </tr>\n",
       "    <tr>\n",
       "      <th>2</th>\n",
       "      <td>2</td>\n",
       "      <td>CO720602</td>\n",
       "      <td>None</td>\n",
       "      <td>Female</td>\n",
       "      <td>90</td>\n",
       "      <td>None</td>\n",
       "    </tr>\n",
       "    <tr>\n",
       "      <th>3</th>\n",
       "      <td>3</td>\n",
       "      <td>CO34804</td>\n",
       "      <td>None</td>\n",
       "      <td>Female</td>\n",
       "      <td>90</td>\n",
       "      <td>1495-701</td>\n",
       "    </tr>\n",
       "    <tr>\n",
       "      <th>4</th>\n",
       "      <td>4</td>\n",
       "      <td>CO474411</td>\n",
       "      <td>None</td>\n",
       "      <td>Male</td>\n",
       "      <td>90</td>\n",
       "      <td>301288</td>\n",
       "    </tr>\n",
       "  </tbody>\n",
       "</table>\n",
       "</div>"
      ],
      "text/plain": [
       "   index Customer ID                     Email  Gender  Age  Postcode\n",
       "0      0    CO183683  NLUPPITT14@PARALLELS.COM    Male   90      None\n",
       "1      1    CO314757                      None  Female   90      None\n",
       "2      2    CO720602                      None  Female   90      None\n",
       "3      3     CO34804                      None  Female   90  1495-701\n",
       "4      4    CO474411                      None    Male   90    301288"
      ]
     },
     "execution_count": 4,
     "metadata": {},
     "output_type": "execute_result"
    }
   ],
   "source": [
    "sqlite_query = \"\"\"\n",
    "SELECT * \n",
    "from Customer_Table \n",
    "limit 5\n",
    "\"\"\"\n",
    "\n",
    "pd.read_sql(sqlite_query, conn)"
   ]
  },
  {
   "cell_type": "markdown",
   "metadata": {},
   "source": [
    "The second table \"Policy_Table\" contains data relating to customer policies. The policy value is the current value of the policy. Please do not edit the below cell:"
   ]
  },
  {
   "cell_type": "code",
   "execution_count": 5,
   "metadata": {},
   "outputs": [
    {
     "data": {
      "text/html": [
       "<div>\n",
       "<style scoped>\n",
       "    .dataframe tbody tr th:only-of-type {\n",
       "        vertical-align: middle;\n",
       "    }\n",
       "\n",
       "    .dataframe tbody tr th {\n",
       "        vertical-align: top;\n",
       "    }\n",
       "\n",
       "    .dataframe thead th {\n",
       "        text-align: right;\n",
       "    }\n",
       "</style>\n",
       "<table border=\"1\" class=\"dataframe\">\n",
       "  <thead>\n",
       "    <tr style=\"text-align: right;\">\n",
       "      <th></th>\n",
       "      <th>index</th>\n",
       "      <th>Policy Number</th>\n",
       "      <th>Customer ID</th>\n",
       "      <th>Product Category</th>\n",
       "      <th>Product Name</th>\n",
       "      <th>Policy Value</th>\n",
       "      <th>Policy Start Date</th>\n",
       "    </tr>\n",
       "  </thead>\n",
       "  <tbody>\n",
       "    <tr>\n",
       "      <th>0</th>\n",
       "      <td>0</td>\n",
       "      <td>RET100072</td>\n",
       "      <td>CO276506</td>\n",
       "      <td>RETIREMENT</td>\n",
       "      <td>RETIREMENT ACCOUNT</td>\n",
       "      <td>270033.0</td>\n",
       "      <td>2016-01-02 00:00:00</td>\n",
       "    </tr>\n",
       "    <tr>\n",
       "      <th>1</th>\n",
       "      <td>1</td>\n",
       "      <td>RET100931</td>\n",
       "      <td>CO831289</td>\n",
       "      <td>RETIREMENT</td>\n",
       "      <td>RETIREMENT ACCOUNT</td>\n",
       "      <td>26394.0</td>\n",
       "      <td>2016-01-04 00:00:00</td>\n",
       "    </tr>\n",
       "    <tr>\n",
       "      <th>2</th>\n",
       "      <td>2</td>\n",
       "      <td>RET100682</td>\n",
       "      <td>CO784249</td>\n",
       "      <td>RETIREMENT</td>\n",
       "      <td>RETIREMENT ACCOUNT</td>\n",
       "      <td>773567.0</td>\n",
       "      <td>2016-01-04 00:00:00</td>\n",
       "    </tr>\n",
       "    <tr>\n",
       "      <th>3</th>\n",
       "      <td>3</td>\n",
       "      <td>RET100447</td>\n",
       "      <td>CO295533</td>\n",
       "      <td>RETIREMENT</td>\n",
       "      <td>RETIREMENT ACCOUNT</td>\n",
       "      <td>35512.0</td>\n",
       "      <td>2016-01-07 00:00:00</td>\n",
       "    </tr>\n",
       "    <tr>\n",
       "      <th>4</th>\n",
       "      <td>4</td>\n",
       "      <td>RET100390</td>\n",
       "      <td>CO901735</td>\n",
       "      <td>RETIREMENT</td>\n",
       "      <td>RETIREMENT ACCOUNT</td>\n",
       "      <td>767580.0</td>\n",
       "      <td>2016-01-08 00:00:00</td>\n",
       "    </tr>\n",
       "  </tbody>\n",
       "</table>\n",
       "</div>"
      ],
      "text/plain": [
       "   index Policy Number Customer ID Product Category        Product Name  \\\n",
       "0      0     RET100072    CO276506       RETIREMENT  RETIREMENT ACCOUNT   \n",
       "1      1     RET100931    CO831289       RETIREMENT  RETIREMENT ACCOUNT   \n",
       "2      2     RET100682    CO784249       RETIREMENT  RETIREMENT ACCOUNT   \n",
       "3      3     RET100447    CO295533       RETIREMENT  RETIREMENT ACCOUNT   \n",
       "4      4     RET100390    CO901735       RETIREMENT  RETIREMENT ACCOUNT   \n",
       "\n",
       "   Policy Value    Policy Start Date  \n",
       "0      270033.0  2016-01-02 00:00:00  \n",
       "1       26394.0  2016-01-04 00:00:00  \n",
       "2      773567.0  2016-01-04 00:00:00  \n",
       "3       35512.0  2016-01-07 00:00:00  \n",
       "4      767580.0  2016-01-08 00:00:00  "
      ]
     },
     "execution_count": 5,
     "metadata": {},
     "output_type": "execute_result"
    }
   ],
   "source": [
    "sqlite_query = \"\"\"\n",
    "SELECT * \n",
    "from Policy_Table \n",
    "limit 5\n",
    "\"\"\"\n",
    "\n",
    "pd.read_sql(sqlite_query, conn)"
   ]
  },
  {
   "cell_type": "markdown",
   "metadata": {},
   "source": [
    "The final table \"Fund_Table\" contains historic data on the Policy Value (Policy_Value_Snapshot). The Policy_Value_Snapshot represents the value of the policy and the Date column is the date at which that value was recorded. The value may have changed overtime due to changes in the fund price or quanity of units the policy was invested in. Please do not edit the below cell:"
   ]
  },
  {
   "cell_type": "code",
   "execution_count": 6,
   "metadata": {},
   "outputs": [
    {
     "data": {
      "text/html": [
       "<div>\n",
       "<style scoped>\n",
       "    .dataframe tbody tr th:only-of-type {\n",
       "        vertical-align: middle;\n",
       "    }\n",
       "\n",
       "    .dataframe tbody tr th {\n",
       "        vertical-align: top;\n",
       "    }\n",
       "\n",
       "    .dataframe thead th {\n",
       "        text-align: right;\n",
       "    }\n",
       "</style>\n",
       "<table border=\"1\" class=\"dataframe\">\n",
       "  <thead>\n",
       "    <tr style=\"text-align: right;\">\n",
       "      <th></th>\n",
       "      <th>index</th>\n",
       "      <th>Policy Number</th>\n",
       "      <th>Customer ID</th>\n",
       "      <th>Date</th>\n",
       "      <th>Product Category</th>\n",
       "      <th>Product Name</th>\n",
       "      <th>Policy_Value_Snapshot</th>\n",
       "    </tr>\n",
       "  </thead>\n",
       "  <tbody>\n",
       "    <tr>\n",
       "      <th>0</th>\n",
       "      <td>0</td>\n",
       "      <td>ANN1221</td>\n",
       "      <td>CO408564</td>\n",
       "      <td>2009-10-31 00:00:00</td>\n",
       "      <td>ANNUITY</td>\n",
       "      <td>STANDARD ANNUITY</td>\n",
       "      <td>None</td>\n",
       "    </tr>\n",
       "    <tr>\n",
       "      <th>1</th>\n",
       "      <td>1</td>\n",
       "      <td>ANN1221</td>\n",
       "      <td>CO408564</td>\n",
       "      <td>2009-11-30 00:00:00</td>\n",
       "      <td>ANNUITY</td>\n",
       "      <td>STANDARD ANNUITY</td>\n",
       "      <td>None</td>\n",
       "    </tr>\n",
       "    <tr>\n",
       "      <th>2</th>\n",
       "      <td>2</td>\n",
       "      <td>ANN1221</td>\n",
       "      <td>CO408564</td>\n",
       "      <td>2009-12-31 00:00:00</td>\n",
       "      <td>ANNUITY</td>\n",
       "      <td>STANDARD ANNUITY</td>\n",
       "      <td>None</td>\n",
       "    </tr>\n",
       "    <tr>\n",
       "      <th>3</th>\n",
       "      <td>3</td>\n",
       "      <td>ANN1221</td>\n",
       "      <td>CO408564</td>\n",
       "      <td>2010-01-31 00:00:00</td>\n",
       "      <td>ANNUITY</td>\n",
       "      <td>STANDARD ANNUITY</td>\n",
       "      <td>None</td>\n",
       "    </tr>\n",
       "    <tr>\n",
       "      <th>4</th>\n",
       "      <td>4</td>\n",
       "      <td>ANN1221</td>\n",
       "      <td>CO408564</td>\n",
       "      <td>2010-02-28 00:00:00</td>\n",
       "      <td>ANNUITY</td>\n",
       "      <td>STANDARD ANNUITY</td>\n",
       "      <td>None</td>\n",
       "    </tr>\n",
       "  </tbody>\n",
       "</table>\n",
       "</div>"
      ],
      "text/plain": [
       "   index Policy Number Customer ID                 Date Product Category  \\\n",
       "0      0       ANN1221    CO408564  2009-10-31 00:00:00          ANNUITY   \n",
       "1      1       ANN1221    CO408564  2009-11-30 00:00:00          ANNUITY   \n",
       "2      2       ANN1221    CO408564  2009-12-31 00:00:00          ANNUITY   \n",
       "3      3       ANN1221    CO408564  2010-01-31 00:00:00          ANNUITY   \n",
       "4      4       ANN1221    CO408564  2010-02-28 00:00:00          ANNUITY   \n",
       "\n",
       "       Product Name Policy_Value_Snapshot  \n",
       "0  STANDARD ANNUITY                  None  \n",
       "1  STANDARD ANNUITY                  None  \n",
       "2  STANDARD ANNUITY                  None  \n",
       "3  STANDARD ANNUITY                  None  \n",
       "4  STANDARD ANNUITY                  None  "
      ]
     },
     "execution_count": 6,
     "metadata": {},
     "output_type": "execute_result"
    }
   ],
   "source": [
    "sqlite_query = \"\"\"\n",
    "SELECT \n",
    "*\n",
    "from Fund_Table\n",
    "limit 5\n",
    "\n",
    "\"\"\"\n",
    "\n",
    "pd.read_sql(sqlite_query, conn)"
   ]
  },
  {
   "cell_type": "markdown",
   "metadata": {},
   "source": [
    "If a question requires additional explanation for your answer, please add additional cells below the code. "
   ]
  },
  {
   "cell_type": "markdown",
   "metadata": {
    "run_control": {
     "marked": true
    }
   },
   "source": [
    "## Q1: What is the current average policy value split by each product name? "
   ]
  },
  {
   "cell_type": "code",
   "execution_count": 36,
   "metadata": {
    "run_control": {
     "marked": true
    }
   },
   "outputs": [
    {
     "data": {
      "text/html": [
       "<div>\n",
       "<style scoped>\n",
       "    .dataframe tbody tr th:only-of-type {\n",
       "        vertical-align: middle;\n",
       "    }\n",
       "\n",
       "    .dataframe tbody tr th {\n",
       "        vertical-align: top;\n",
       "    }\n",
       "\n",
       "    .dataframe thead th {\n",
       "        text-align: right;\n",
       "    }\n",
       "</style>\n",
       "<table border=\"1\" class=\"dataframe\">\n",
       "  <thead>\n",
       "    <tr style=\"text-align: right;\">\n",
       "      <th></th>\n",
       "      <th>Product Name</th>\n",
       "      <th>AVG(Policy_Value_Snapshot)</th>\n",
       "    </tr>\n",
       "  </thead>\n",
       "  <tbody>\n",
       "    <tr>\n",
       "      <th>0</th>\n",
       "      <td>CORPORATE MEMBERSHIP</td>\n",
       "      <td>5697.285714</td>\n",
       "    </tr>\n",
       "    <tr>\n",
       "      <th>1</th>\n",
       "      <td>FOCUSSED ISA</td>\n",
       "      <td>5746.341270</td>\n",
       "    </tr>\n",
       "    <tr>\n",
       "      <th>2</th>\n",
       "      <td>NHS PENSION</td>\n",
       "      <td>5241.500000</td>\n",
       "    </tr>\n",
       "    <tr>\n",
       "      <th>3</th>\n",
       "      <td>PRU BOND</td>\n",
       "      <td>4516.389831</td>\n",
       "    </tr>\n",
       "    <tr>\n",
       "      <th>4</th>\n",
       "      <td>PRUDENTIAL INVESTMENT PLAN</td>\n",
       "      <td>5084.515152</td>\n",
       "    </tr>\n",
       "    <tr>\n",
       "      <th>5</th>\n",
       "      <td>PRUDENTIAL ISA</td>\n",
       "      <td>5161.135593</td>\n",
       "    </tr>\n",
       "    <tr>\n",
       "      <th>6</th>\n",
       "      <td>RETIREMENT ACCOUNT</td>\n",
       "      <td>504964.959960</td>\n",
       "    </tr>\n",
       "    <tr>\n",
       "      <th>7</th>\n",
       "      <td>SIPP</td>\n",
       "      <td>5335.842466</td>\n",
       "    </tr>\n",
       "    <tr>\n",
       "      <th>8</th>\n",
       "      <td>STANDARD ANNUITY</td>\n",
       "      <td>NaN</td>\n",
       "    </tr>\n",
       "  </tbody>\n",
       "</table>\n",
       "</div>"
      ],
      "text/plain": [
       "                 Product Name  AVG(Policy_Value_Snapshot)\n",
       "0        CORPORATE MEMBERSHIP                 5697.285714\n",
       "1                FOCUSSED ISA                 5746.341270\n",
       "2                 NHS PENSION                 5241.500000\n",
       "3                    PRU BOND                 4516.389831\n",
       "4  PRUDENTIAL INVESTMENT PLAN                 5084.515152\n",
       "5              PRUDENTIAL ISA                 5161.135593\n",
       "6          RETIREMENT ACCOUNT               504964.959960\n",
       "7                        SIPP                 5335.842466\n",
       "8            STANDARD ANNUITY                         NaN"
      ]
     },
     "execution_count": 36,
     "metadata": {},
     "output_type": "execute_result"
    }
   ],
   "source": [
    "sqlite_query =  \"\"\"select F.\"Product Name\", AVG(Policy_Value_Snapshot) FROM \n",
    "( SELECT \"Customer ID\", \"Product Name\", MAX(\"Date\") \"Date\" \n",
    "FROM FUND_TABLE F\n",
    "GROUP BY \n",
    "\"Customer ID\", \"Product Name\"\n",
    ")F,\n",
    "\n",
    "FUND_TABLE F2\n",
    "\n",
    "WHERE F.\"Customer ID\"=F2.\"Customer ID\"\n",
    "AND F.\"Product Name\" = F2.\"Product Name\"\n",
    "AND F.\"Date\"=F2.\"Date\"\n",
    "\n",
    "GROUP BY \n",
    "F.\"Product Name\";\n",
    "\n",
    "\"\"\"\n",
    "\n",
    "pd.read_sql(sqlite_query, conn)"
   ]
  },
  {
   "cell_type": "markdown",
   "metadata": {
    "run_control": {
     "marked": true
    }
   },
   "source": [
    "## Q2: How many customers opened a new policy in Q1 2017 who already had an existing pension product? "
   ]
  },
  {
   "cell_type": "code",
   "execution_count": 79,
   "metadata": {},
   "outputs": [
    {
     "data": {
      "text/html": [
       "<div>\n",
       "<style scoped>\n",
       "    .dataframe tbody tr th:only-of-type {\n",
       "        vertical-align: middle;\n",
       "    }\n",
       "\n",
       "    .dataframe tbody tr th {\n",
       "        vertical-align: top;\n",
       "    }\n",
       "\n",
       "    .dataframe thead th {\n",
       "        text-align: right;\n",
       "    }\n",
       "</style>\n",
       "<table border=\"1\" class=\"dataframe\">\n",
       "  <thead>\n",
       "    <tr style=\"text-align: right;\">\n",
       "      <th></th>\n",
       "      <th>Count (Distinct \"Customer ID\")</th>\n",
       "    </tr>\n",
       "  </thead>\n",
       "  <tbody>\n",
       "    <tr>\n",
       "      <th>0</th>\n",
       "      <td>35</td>\n",
       "    </tr>\n",
       "  </tbody>\n",
       "</table>\n",
       "</div>"
      ],
      "text/plain": [
       "   Count (Distinct \"Customer ID\")\n",
       "0                              35"
      ]
     },
     "execution_count": 79,
     "metadata": {},
     "output_type": "execute_result"
    }
   ],
   "source": [
    "sqlite_query = \"\"\"\n",
    "\n",
    "Select Count (Distinct \"Customer ID\")\n",
    "from \n",
    "Policy_Table\n",
    "\n",
    "where strftime('%Y',\"Policy Start Date\") = \"2017\"\n",
    "and strftime ('%m' , \"Policy Start Date\") IN ('01','02','03')\n",
    "and \"Customer ID\" IN \n",
    "\n",
    "(\n",
    "Select \"Customer ID\" from Policy_Table \n",
    "where \"Product Category\" = \"PENSION\"\n",
    "and strftime ('%Y' , \"Policy Start Date\")<='2016'\n",
    ")\n",
    "\n",
    "\n",
    "\"\"\"\n",
    "pd.read_sql(sqlite_query, conn)"
   ]
  },
  {
   "cell_type": "markdown",
   "metadata": {
    "run_control": {
     "marked": true
    }
   },
   "source": [
    "## Q3: What was the customer ID that had the biggest difference in policy value between its earliest and latest date (for any product) ?"
   ]
  },
  {
   "cell_type": "code",
   "execution_count": 264,
   "metadata": {
    "run_control": {
     "marked": true
    }
   },
   "outputs": [
    {
     "data": {
      "text/html": [
       "<div>\n",
       "<style scoped>\n",
       "    .dataframe tbody tr th:only-of-type {\n",
       "        vertical-align: middle;\n",
       "    }\n",
       "\n",
       "    .dataframe tbody tr th {\n",
       "        vertical-align: top;\n",
       "    }\n",
       "\n",
       "    .dataframe thead th {\n",
       "        text-align: right;\n",
       "    }\n",
       "</style>\n",
       "<table border=\"1\" class=\"dataframe\">\n",
       "  <thead>\n",
       "    <tr style=\"text-align: right;\">\n",
       "      <th></th>\n",
       "      <th>Customer ID</th>\n",
       "    </tr>\n",
       "  </thead>\n",
       "  <tbody>\n",
       "    <tr>\n",
       "      <th>0</th>\n",
       "      <td>CO401070</td>\n",
       "    </tr>\n",
       "  </tbody>\n",
       "</table>\n",
       "</div>"
      ],
      "text/plain": [
       "  Customer ID\n",
       "0    CO401070"
      ]
     },
     "execution_count": 264,
     "metadata": {},
     "output_type": "execute_result"
    }
   ],
   "source": [
    "sqlite_query = \"\"\"\n",
    "\n",
    "\n",
    "With CTE1 AS\n",
    "(\n",
    "select \"Customer ID\", \"Policy Number\", \"Policy_Value_Snapshot\"\n",
    "from\n",
    "(\n",
    "select \"Customer ID\", \"Policy Number\", \"Policy_Value_Snapshot\", \"Date\", rank() over(partition by \"Customer ID\", \"Policy Number\" order by \"Date\") as rnk\n",
    "from Fund_Table\n",
    ") T1\n",
    "where rnk=1\n",
    ")\n",
    ",\n",
    "CTE2 AS\n",
    "(\n",
    "select \"Customer ID\", \"Policy Number\", \"Policy_Value_Snapshot\"\n",
    "from\n",
    "(\n",
    "select \"Customer ID\", \"Policy Number\", \"Policy_Value_Snapshot\", \"Date\", rank() over(partition by \"Customer ID\", \"Policy Number\" order by \"Date\" DESC) as rnk\n",
    "from Fund_Table\n",
    ") T2\n",
    "where rnk=1\n",
    ")\n",
    "\n",
    "\n",
    "select distinct \"Customer ID\"\n",
    "from\n",
    "(\n",
    "Select CTE1.\"Customer ID\", rank() over( order by CTE2.\"Policy_Value_Snapshot\"-CTE1.\"Policy_Value_Snapshot\" DESC) as rnk1\n",
    "from CTE1 Inner join CTE2\n",
    "On CTE1.\"Customer ID\"=CTE2.\"Customer ID\" and CTE1.\"Policy Number\"=CTE2.\"Policy Number\"\n",
    ") T\n",
    "where T.rnk1=1\n",
    "\n",
    "\"\"\"\n",
    "\n",
    "pd.read_sql(sqlite_query, conn)"
   ]
  },
  {
   "cell_type": "markdown",
   "metadata": {
    "run_control": {
     "marked": true
    }
   },
   "source": [
    "# Python Test\n",
    "\n",
    "Same data, but now let's have some fun in python. Please do not use SQL for this part of the exercise. \n",
    "\n",
    "Feel free to add more cells of code or text"
   ]
  },
  {
   "cell_type": "code",
   "execution_count": 84,
   "metadata": {
    "run_control": {
     "marked": true
    }
   },
   "outputs": [],
   "source": [
    "Customer_Table = pd.read_sql('SELECT * FROM Customer_Table', conn)\n",
    "Policy_Table = pd.read_sql('SELECT * FROM Policy_Table', conn)\n",
    "Fund_Table = pd.read_sql('SELECT * FROM Fund_Table', conn)"
   ]
  },
  {
   "cell_type": "markdown",
   "metadata": {
    "run_control": {
     "marked": true
    }
   },
   "source": [
    "## Q4: Produce a list of customers which have an invalid email address. What do you notice about these customers? ##\n",
    "\n",
    "Feel free to use any packages of your choice"
   ]
  },
  {
   "cell_type": "code",
   "execution_count": 124,
   "metadata": {
    "run_control": {
     "marked": true
    }
   },
   "outputs": [],
   "source": [
    "#Insert your answer below: \n"
   ]
  },
  {
   "cell_type": "code",
   "execution_count": 358,
   "metadata": {},
   "outputs": [],
   "source": [
    "#Dropping the Null values from the Email Column as we are focusing on the invalid email addresses and not missing\n",
    "new_Customer_Table=Customer_Table.dropna(subset=['Email']).reset_index()\n",
    "new_Customer_Table=new_Customer_Table.drop('level_0',axis=1)"
   ]
  },
  {
   "cell_type": "code",
   "execution_count": 359,
   "metadata": {},
   "outputs": [
    {
     "data": {
      "text/plain": [
       "NOEMAIL@MAIL.COM                3\n",
       "EDAWLTREY8Q@NETSCAPE.COM        1\n",
       "MDEDAM7J@CMU.EDU                1\n",
       "SYUSHMANOVOG@ABOUT.COM          1\n",
       "DLUCIENFO@SHUTTERFLY.COM        1\n",
       "                               ..\n",
       "SHODGENY@1688.COM               1\n",
       "JDELATOURQ4@BUSINESSWIRE.COM    1\n",
       "GHEYMESD8@NEWSVINE.COM          1\n",
       "FLINDSELLIW@BOSTON.COM          1\n",
       "SGRACEY8F@MOZILLA.ORG           1\n",
       "Name: Email, Length: 950, dtype: int64"
      ]
     },
     "execution_count": 359,
     "metadata": {},
     "output_type": "execute_result"
    }
   ],
   "source": [
    "new_Customer_Table['Email'].value_counts()"
   ]
  },
  {
   "cell_type": "code",
   "execution_count": 360,
   "metadata": {},
   "outputs": [],
   "source": [
    "#There are 3 customers with NOEMAIL@MAIL.COM, which needs further attendtion,\n",
    "#this can be auto generated inplace of missing data, but I am assuming it as invalid.\n",
    "\n",
    "df1=new_Customer_Table[new_Customer_Table['Email'].str.match('NOEMAIL@MAIL.COM')]"
   ]
  },
  {
   "cell_type": "code",
   "execution_count": 361,
   "metadata": {},
   "outputs": [],
   "source": [
    "#defining regex to check valid email address.\n",
    "\n",
    "regex = '^(\\w|\\.|\\_|\\-)+[@](\\w|\\_|\\-|\\.)+[.]\\w{2,3}$'"
   ]
  },
  {
   "cell_type": "code",
   "execution_count": 362,
   "metadata": {},
   "outputs": [],
   "source": [
    "#Here is the list of customers who has invalid email as per the regex\n",
    "df2=new_Customer_Table[new_Customer_Table['Email'].str.match(regex)==False]"
   ]
  },
  {
   "cell_type": "code",
   "execution_count": 363,
   "metadata": {},
   "outputs": [],
   "source": [
    "#concatinating both dataframes to get final dataframe of the customers with invlaid email address\n",
    "incorrect_email_customer=pd.concat([df1,df2])"
   ]
  },
  {
   "cell_type": "markdown",
   "metadata": {},
   "source": [
    "Here is the list of customers which have an invalid email address"
   ]
  },
  {
   "cell_type": "code",
   "execution_count": 364,
   "metadata": {},
   "outputs": [
    {
     "data": {
      "text/plain": [
       "406    CO426799\n",
       "529    CO634097\n",
       "902    CO550430\n",
       "84     CO609712\n",
       "178     CO71578\n",
       "179    CO545536\n",
       "295    CO795420\n",
       "355    CO205159\n",
       "883     CO37714\n",
       "926    CO922481\n",
       "Name: Customer ID, dtype: object"
      ]
     },
     "execution_count": 364,
     "metadata": {},
     "output_type": "execute_result"
    }
   ],
   "source": [
    "incorrect_email_customer['Customer ID']"
   ]
  },
  {
   "cell_type": "code",
   "execution_count": 365,
   "metadata": {},
   "outputs": [
    {
     "data": {
      "text/html": [
       "<div>\n",
       "<style scoped>\n",
       "    .dataframe tbody tr th:only-of-type {\n",
       "        vertical-align: middle;\n",
       "    }\n",
       "\n",
       "    .dataframe tbody tr th {\n",
       "        vertical-align: top;\n",
       "    }\n",
       "\n",
       "    .dataframe thead th {\n",
       "        text-align: right;\n",
       "    }\n",
       "</style>\n",
       "<table border=\"1\" class=\"dataframe\">\n",
       "  <thead>\n",
       "    <tr style=\"text-align: right;\">\n",
       "      <th></th>\n",
       "      <th>index</th>\n",
       "      <th>Customer ID</th>\n",
       "      <th>Email</th>\n",
       "      <th>Gender</th>\n",
       "      <th>Age</th>\n",
       "      <th>Postcode</th>\n",
       "    </tr>\n",
       "  </thead>\n",
       "  <tbody>\n",
       "    <tr>\n",
       "      <th>406</th>\n",
       "      <td>450</td>\n",
       "      <td>CO426799</td>\n",
       "      <td>NOEMAIL@MAIL.COM</td>\n",
       "      <td>Female</td>\n",
       "      <td>65</td>\n",
       "      <td>62972 CEDEX 9</td>\n",
       "    </tr>\n",
       "    <tr>\n",
       "      <th>529</th>\n",
       "      <td>576</td>\n",
       "      <td>CO634097</td>\n",
       "      <td>NOEMAIL@MAIL.COM</td>\n",
       "      <td>Male</td>\n",
       "      <td>62</td>\n",
       "      <td>80130</td>\n",
       "    </tr>\n",
       "    <tr>\n",
       "      <th>902</th>\n",
       "      <td>949</td>\n",
       "      <td>CO550430</td>\n",
       "      <td>NOEMAIL@MAIL.COM</td>\n",
       "      <td>Male</td>\n",
       "      <td>41</td>\n",
       "      <td>None</td>\n",
       "    </tr>\n",
       "    <tr>\n",
       "      <th>84</th>\n",
       "      <td>121</td>\n",
       "      <td>CO609712</td>\n",
       "      <td>NOEMAIL</td>\n",
       "      <td>Male</td>\n",
       "      <td>81</td>\n",
       "      <td>None</td>\n",
       "    </tr>\n",
       "    <tr>\n",
       "      <th>178</th>\n",
       "      <td>218</td>\n",
       "      <td>CO71578</td>\n",
       "      <td>TGADDIEHB@TOPSY</td>\n",
       "      <td>Female</td>\n",
       "      <td>74</td>\n",
       "      <td>None</td>\n",
       "    </tr>\n",
       "    <tr>\n",
       "      <th>179</th>\n",
       "      <td>219</td>\n",
       "      <td>CO545536</td>\n",
       "      <td>VPEGGSK3@@@SPRINGER.COM</td>\n",
       "      <td>Male</td>\n",
       "      <td>74</td>\n",
       "      <td>46100-000</td>\n",
       "    </tr>\n",
       "    <tr>\n",
       "      <th>295</th>\n",
       "      <td>337</td>\n",
       "      <td>CO795420</td>\n",
       "      <td>.</td>\n",
       "      <td>Female</td>\n",
       "      <td>68</td>\n",
       "      <td>680011</td>\n",
       "    </tr>\n",
       "    <tr>\n",
       "      <th>355</th>\n",
       "      <td>399</td>\n",
       "      <td>CO205159</td>\n",
       "      <td>ALOWSELYHF@#AMAZON.CO.JP</td>\n",
       "      <td>Female</td>\n",
       "      <td>65</td>\n",
       "      <td>None</td>\n",
       "    </tr>\n",
       "    <tr>\n",
       "      <th>883</th>\n",
       "      <td>930</td>\n",
       "      <td>CO37714</td>\n",
       "      <td>GSTEERSMR@ABOUTADS.INFO</td>\n",
       "      <td>Male</td>\n",
       "      <td>42</td>\n",
       "      <td>2600</td>\n",
       "    </tr>\n",
       "    <tr>\n",
       "      <th>926</th>\n",
       "      <td>973</td>\n",
       "      <td>CO922481</td>\n",
       "      <td>CUSTOMER TO FOLLOW UP</td>\n",
       "      <td>Male</td>\n",
       "      <td>33</td>\n",
       "      <td>8340</td>\n",
       "    </tr>\n",
       "  </tbody>\n",
       "</table>\n",
       "</div>"
      ],
      "text/plain": [
       "     index Customer ID                     Email  Gender  Age       Postcode\n",
       "406    450    CO426799          NOEMAIL@MAIL.COM  Female   65  62972 CEDEX 9\n",
       "529    576    CO634097          NOEMAIL@MAIL.COM    Male   62          80130\n",
       "902    949    CO550430          NOEMAIL@MAIL.COM    Male   41           None\n",
       "84     121    CO609712                   NOEMAIL    Male   81           None\n",
       "178    218     CO71578           TGADDIEHB@TOPSY  Female   74           None\n",
       "179    219    CO545536   VPEGGSK3@@@SPRINGER.COM    Male   74      46100-000\n",
       "295    337    CO795420                         .  Female   68         680011\n",
       "355    399    CO205159  ALOWSELYHF@#AMAZON.CO.JP  Female   65           None\n",
       "883    930     CO37714   GSTEERSMR@ABOUTADS.INFO    Male   42           2600\n",
       "926    973    CO922481     CUSTOMER TO FOLLOW UP    Male   33           8340"
      ]
     },
     "execution_count": 365,
     "metadata": {},
     "output_type": "execute_result"
    }
   ],
   "source": [
    "incorrect_email_customer"
   ]
  },
  {
   "cell_type": "code",
   "execution_count": 366,
   "metadata": {},
   "outputs": [
    {
     "data": {
      "text/plain": [
       "10"
      ]
     },
     "execution_count": 366,
     "metadata": {},
     "output_type": "execute_result"
    }
   ],
   "source": [
    "len(incorrect_email_customer)"
   ]
  },
  {
   "cell_type": "code",
   "execution_count": 371,
   "metadata": {
    "scrolled": true
   },
   "outputs": [
    {
     "data": {
      "text/plain": [
       "RETIREMENT ACCOUNT            191\n",
       "FOCUSSED ISA                  168\n",
       "SIPP                          167\n",
       "STANDARD ANNUITY               69\n",
       "PRUDENTIAL INVESTMENT PLAN     58\n",
       "Name: Product Name, dtype: int64"
      ]
     },
     "execution_count": 371,
     "metadata": {},
     "output_type": "execute_result"
    }
   ],
   "source": [
    "incorrect_email_customer.merge(Fund_Table, on='Customer ID', how='inner')['Product Name'].value_counts()"
   ]
  },
  {
   "cell_type": "code",
   "execution_count": 372,
   "metadata": {},
   "outputs": [
    {
     "data": {
      "text/plain": [
       "RETIREMENT ACCOUNT            19321\n",
       "SIPP                          12115\n",
       "FOCUSSED ISA                  10564\n",
       "STANDARD ANNUITY              10155\n",
       "PRUDENTIAL INVESTMENT PLAN     8156\n",
       "PRUDENTIAL ISA                 5031\n",
       "PRU BOND                       4814\n",
       "CORPORATE MEMBERSHIP           1629\n",
       "NHS PENSION                     336\n",
       "Name: Product Name, dtype: int64"
      ]
     },
     "execution_count": 372,
     "metadata": {},
     "output_type": "execute_result"
    }
   ],
   "source": [
    "Fund_Table['Product Name'].value_counts()"
   ]
  },
  {
   "cell_type": "markdown",
   "metadata": {},
   "source": [
    "The data for these 10 records is distributed like its population."
   ]
  },
  {
   "cell_type": "markdown",
   "metadata": {
    "run_control": {
     "marked": true
    }
   },
   "source": [
    "## Q5: The Managing Director of Pru Wealth needs to see how policy value differs between other variables in the database (e.g. customer demographics) . They don't have time to read a report, so have asked for a cool visualisation that tells a story.\n",
    "\n",
    "Visualise something cool, tell us a story! You can use packages like Matplotlib, Seaborn or Plotly.Tell us why you chose to visualise the data in this way and how it can be used from a business perspective.\n"
   ]
  },
  {
   "cell_type": "code",
   "execution_count": 132,
   "metadata": {
    "run_control": {
     "marked": true
    }
   },
   "outputs": [
    {
     "data": {
      "text/html": [
       "        <script type=\"text/javascript\">\n",
       "        window.PlotlyConfig = {MathJaxConfig: 'local'};\n",
       "        if (window.MathJax) {MathJax.Hub.Config({SVG: {font: \"STIX-Web\"}});}\n",
       "        if (typeof require !== 'undefined') {\n",
       "        require.undef(\"plotly\");\n",
       "        requirejs.config({\n",
       "            paths: {\n",
       "                'plotly': ['https://cdn.plot.ly/plotly-latest.min']\n",
       "            }\n",
       "        });\n",
       "        require(['plotly'], function(Plotly) {\n",
       "            window._Plotly = Plotly;\n",
       "        });\n",
       "        }\n",
       "        </script>\n",
       "        "
      ]
     },
     "metadata": {},
     "output_type": "display_data"
    },
    {
     "data": {
      "text/html": [
       "        <script type=\"text/javascript\">\n",
       "        window.PlotlyConfig = {MathJaxConfig: 'local'};\n",
       "        if (window.MathJax) {MathJax.Hub.Config({SVG: {font: \"STIX-Web\"}});}\n",
       "        if (typeof require !== 'undefined') {\n",
       "        require.undef(\"plotly\");\n",
       "        requirejs.config({\n",
       "            paths: {\n",
       "                'plotly': ['https://cdn.plot.ly/plotly-latest.min']\n",
       "            }\n",
       "        });\n",
       "        require(['plotly'], function(Plotly) {\n",
       "            window._Plotly = Plotly;\n",
       "        });\n",
       "        }\n",
       "        </script>\n",
       "        "
      ]
     },
     "metadata": {},
     "output_type": "display_data"
    }
   ],
   "source": [
    "# Insert your answer below: \n",
    "import matplotlib.pyplot as plt\n",
    "import seaborn as sns\n",
    "import plotly\n",
    "import cufflinks as cf\n",
    "import plotly.express as px\n",
    "import chart_studio.plotly as py\n",
    "from plotly.offline import download_plotlyjs,init_notebook_mode, plot, iplot\n",
    "import plotly.graph_objects as go\n",
    "init_notebook_mode(connected=True)\n",
    "cf.go_offline()"
   ]
  },
  {
   "cell_type": "code",
   "execution_count": 90,
   "metadata": {},
   "outputs": [],
   "source": [
    "Customer_Table = pd.read_sql('SELECT * FROM Customer_Table', conn)\n",
    "Policy_Table = pd.read_sql('SELECT * FROM Policy_Table', conn)\n",
    "Fund_Table = pd.read_sql('SELECT * FROM Fund_Table', conn)"
   ]
  },
  {
   "cell_type": "code",
   "execution_count": 263,
   "metadata": {},
   "outputs": [],
   "source": [
    "dfNew = Customer_Table.merge(Policy_Table, on='Customer ID',how='inner', suffixes=('', '_y'))\n",
    "dfNew.drop(dfNew.filter(regex='_y$').columns.tolist(),axis=1, inplace=True)"
   ]
  },
  {
   "cell_type": "code",
   "execution_count": 262,
   "metadata": {},
   "outputs": [],
   "source": [
    "Joined_Table = dfNew.merge(Fund_Table, on='Customer ID',how='inner', suffixes=('', '_y'))\n",
    "Joined_Table.drop(Joined_Table.filter(regex='_y$').columns.tolist(),axis=1, inplace=True)"
   ]
  },
  {
   "cell_type": "markdown",
   "metadata": {},
   "source": [
    "# Time series visuals"
   ]
  },
  {
   "cell_type": "code",
   "execution_count": null,
   "metadata": {},
   "outputs": [],
   "source": []
  },
  {
   "cell_type": "code",
   "execution_count": 335,
   "metadata": {},
   "outputs": [
    {
     "data": {
      "text/html": [
       "<div>\n",
       "<style scoped>\n",
       "    .dataframe tbody tr th:only-of-type {\n",
       "        vertical-align: middle;\n",
       "    }\n",
       "\n",
       "    .dataframe tbody tr th {\n",
       "        vertical-align: top;\n",
       "    }\n",
       "\n",
       "    .dataframe thead th {\n",
       "        text-align: right;\n",
       "    }\n",
       "</style>\n",
       "<table border=\"1\" class=\"dataframe\">\n",
       "  <thead>\n",
       "    <tr style=\"text-align: right;\">\n",
       "      <th></th>\n",
       "      <th>Policy Start Date</th>\n",
       "      <th>Policy Number</th>\n",
       "    </tr>\n",
       "  </thead>\n",
       "  <tbody>\n",
       "    <tr>\n",
       "      <th>0</th>\n",
       "      <td>2009-07-08 00:00:00</td>\n",
       "      <td>1</td>\n",
       "    </tr>\n",
       "    <tr>\n",
       "      <th>1</th>\n",
       "      <td>2009-07-10 00:00:00</td>\n",
       "      <td>1</td>\n",
       "    </tr>\n",
       "    <tr>\n",
       "      <th>2</th>\n",
       "      <td>2009-07-11 00:00:00</td>\n",
       "      <td>1</td>\n",
       "    </tr>\n",
       "    <tr>\n",
       "      <th>3</th>\n",
       "      <td>2009-07-14 00:00:00</td>\n",
       "      <td>1</td>\n",
       "    </tr>\n",
       "    <tr>\n",
       "      <th>4</th>\n",
       "      <td>2009-07-19 00:00:00</td>\n",
       "      <td>1</td>\n",
       "    </tr>\n",
       "    <tr>\n",
       "      <th>...</th>\n",
       "      <td>...</td>\n",
       "      <td>...</td>\n",
       "    </tr>\n",
       "    <tr>\n",
       "      <th>1201</th>\n",
       "      <td>2018-12-27 00:00:00</td>\n",
       "      <td>4</td>\n",
       "    </tr>\n",
       "    <tr>\n",
       "      <th>1202</th>\n",
       "      <td>2018-12-28 00:00:00</td>\n",
       "      <td>2</td>\n",
       "    </tr>\n",
       "    <tr>\n",
       "      <th>1203</th>\n",
       "      <td>2018-12-29 00:00:00</td>\n",
       "      <td>1</td>\n",
       "    </tr>\n",
       "    <tr>\n",
       "      <th>1204</th>\n",
       "      <td>2018-12-30 00:00:00</td>\n",
       "      <td>1</td>\n",
       "    </tr>\n",
       "    <tr>\n",
       "      <th>1205</th>\n",
       "      <td>2019-01-01 00:00:00</td>\n",
       "      <td>2</td>\n",
       "    </tr>\n",
       "  </tbody>\n",
       "</table>\n",
       "<p>1206 rows × 2 columns</p>\n",
       "</div>"
      ],
      "text/plain": [
       "        Policy Start Date  Policy Number\n",
       "0     2009-07-08 00:00:00              1\n",
       "1     2009-07-10 00:00:00              1\n",
       "2     2009-07-11 00:00:00              1\n",
       "3     2009-07-14 00:00:00              1\n",
       "4     2009-07-19 00:00:00              1\n",
       "...                   ...            ...\n",
       "1201  2018-12-27 00:00:00              4\n",
       "1202  2018-12-28 00:00:00              2\n",
       "1203  2018-12-29 00:00:00              1\n",
       "1204  2018-12-30 00:00:00              1\n",
       "1205  2019-01-01 00:00:00              2\n",
       "\n",
       "[1206 rows x 2 columns]"
      ]
     },
     "execution_count": 335,
     "metadata": {},
     "output_type": "execute_result"
    }
   ],
   "source": [
    "t=Policy_Table.groupby('Policy Start Date')['Policy Number'].count()\n",
    "t=t.reset_index()\n",
    "t"
   ]
  },
  {
   "cell_type": "code",
   "execution_count": 336,
   "metadata": {},
   "outputs": [
    {
     "data": {
      "text/html": [
       "<div>\n",
       "<style scoped>\n",
       "    .dataframe tbody tr th:only-of-type {\n",
       "        vertical-align: middle;\n",
       "    }\n",
       "\n",
       "    .dataframe tbody tr th {\n",
       "        vertical-align: top;\n",
       "    }\n",
       "\n",
       "    .dataframe thead th {\n",
       "        text-align: right;\n",
       "    }\n",
       "</style>\n",
       "<table border=\"1\" class=\"dataframe\">\n",
       "  <thead>\n",
       "    <tr style=\"text-align: right;\">\n",
       "      <th></th>\n",
       "      <th>Policy Start Date</th>\n",
       "      <th>Policy Value</th>\n",
       "    </tr>\n",
       "  </thead>\n",
       "  <tbody>\n",
       "    <tr>\n",
       "      <th>0</th>\n",
       "      <td>2009-07-08 00:00:00</td>\n",
       "      <td>2423.0</td>\n",
       "    </tr>\n",
       "    <tr>\n",
       "      <th>1</th>\n",
       "      <td>2009-07-10 00:00:00</td>\n",
       "      <td>6384.0</td>\n",
       "    </tr>\n",
       "    <tr>\n",
       "      <th>2</th>\n",
       "      <td>2009-07-11 00:00:00</td>\n",
       "      <td>6981.0</td>\n",
       "    </tr>\n",
       "    <tr>\n",
       "      <th>3</th>\n",
       "      <td>2009-07-14 00:00:00</td>\n",
       "      <td>5058.0</td>\n",
       "    </tr>\n",
       "    <tr>\n",
       "      <th>4</th>\n",
       "      <td>2009-07-19 00:00:00</td>\n",
       "      <td>2179.0</td>\n",
       "    </tr>\n",
       "    <tr>\n",
       "      <th>...</th>\n",
       "      <td>...</td>\n",
       "      <td>...</td>\n",
       "    </tr>\n",
       "    <tr>\n",
       "      <th>1201</th>\n",
       "      <td>2018-12-27 00:00:00</td>\n",
       "      <td>2477571.0</td>\n",
       "    </tr>\n",
       "    <tr>\n",
       "      <th>1202</th>\n",
       "      <td>2018-12-28 00:00:00</td>\n",
       "      <td>1359095.0</td>\n",
       "    </tr>\n",
       "    <tr>\n",
       "      <th>1203</th>\n",
       "      <td>2018-12-29 00:00:00</td>\n",
       "      <td>909480.0</td>\n",
       "    </tr>\n",
       "    <tr>\n",
       "      <th>1204</th>\n",
       "      <td>2018-12-30 00:00:00</td>\n",
       "      <td>891133.0</td>\n",
       "    </tr>\n",
       "    <tr>\n",
       "      <th>1205</th>\n",
       "      <td>2019-01-01 00:00:00</td>\n",
       "      <td>655579.0</td>\n",
       "    </tr>\n",
       "  </tbody>\n",
       "</table>\n",
       "<p>1206 rows × 2 columns</p>\n",
       "</div>"
      ],
      "text/plain": [
       "        Policy Start Date  Policy Value\n",
       "0     2009-07-08 00:00:00        2423.0\n",
       "1     2009-07-10 00:00:00        6384.0\n",
       "2     2009-07-11 00:00:00        6981.0\n",
       "3     2009-07-14 00:00:00        5058.0\n",
       "4     2009-07-19 00:00:00        2179.0\n",
       "...                   ...           ...\n",
       "1201  2018-12-27 00:00:00     2477571.0\n",
       "1202  2018-12-28 00:00:00     1359095.0\n",
       "1203  2018-12-29 00:00:00      909480.0\n",
       "1204  2018-12-30 00:00:00      891133.0\n",
       "1205  2019-01-01 00:00:00      655579.0\n",
       "\n",
       "[1206 rows x 2 columns]"
      ]
     },
     "execution_count": 336,
     "metadata": {},
     "output_type": "execute_result"
    }
   ],
   "source": [
    "t1=Policy_Table.groupby('Policy Start Date')['Policy Value'].sum()\n",
    "t1=t1.reset_index()\n",
    "t1"
   ]
  },
  {
   "cell_type": "code",
   "execution_count": 348,
   "metadata": {},
   "outputs": [
    {
     "data": {
      "text/html": [
       "<div>\n",
       "<style scoped>\n",
       "    .dataframe tbody tr th:only-of-type {\n",
       "        vertical-align: middle;\n",
       "    }\n",
       "\n",
       "    .dataframe tbody tr th {\n",
       "        vertical-align: top;\n",
       "    }\n",
       "\n",
       "    .dataframe thead th {\n",
       "        text-align: right;\n",
       "    }\n",
       "</style>\n",
       "<table border=\"1\" class=\"dataframe\">\n",
       "  <thead>\n",
       "    <tr style=\"text-align: right;\">\n",
       "      <th></th>\n",
       "      <th>index</th>\n",
       "      <th>Policy Start Date</th>\n",
       "      <th>Policy Number</th>\n",
       "      <th>Policy Value</th>\n",
       "      <th>year</th>\n",
       "      <th>month</th>\n",
       "      <th>quarter</th>\n",
       "    </tr>\n",
       "  </thead>\n",
       "  <tbody>\n",
       "    <tr>\n",
       "      <th>0</th>\n",
       "      <td>0</td>\n",
       "      <td>2009-07-08 00:00:00</td>\n",
       "      <td>1</td>\n",
       "      <td>2423.0</td>\n",
       "      <td>2009</td>\n",
       "      <td>7</td>\n",
       "      <td>3</td>\n",
       "    </tr>\n",
       "    <tr>\n",
       "      <th>1</th>\n",
       "      <td>1</td>\n",
       "      <td>2009-07-10 00:00:00</td>\n",
       "      <td>1</td>\n",
       "      <td>6384.0</td>\n",
       "      <td>2009</td>\n",
       "      <td>7</td>\n",
       "      <td>3</td>\n",
       "    </tr>\n",
       "    <tr>\n",
       "      <th>2</th>\n",
       "      <td>2</td>\n",
       "      <td>2009-07-11 00:00:00</td>\n",
       "      <td>1</td>\n",
       "      <td>6981.0</td>\n",
       "      <td>2009</td>\n",
       "      <td>7</td>\n",
       "      <td>3</td>\n",
       "    </tr>\n",
       "    <tr>\n",
       "      <th>3</th>\n",
       "      <td>3</td>\n",
       "      <td>2009-07-14 00:00:00</td>\n",
       "      <td>1</td>\n",
       "      <td>5058.0</td>\n",
       "      <td>2009</td>\n",
       "      <td>7</td>\n",
       "      <td>3</td>\n",
       "    </tr>\n",
       "    <tr>\n",
       "      <th>4</th>\n",
       "      <td>4</td>\n",
       "      <td>2009-07-19 00:00:00</td>\n",
       "      <td>1</td>\n",
       "      <td>2179.0</td>\n",
       "      <td>2009</td>\n",
       "      <td>7</td>\n",
       "      <td>3</td>\n",
       "    </tr>\n",
       "    <tr>\n",
       "      <th>...</th>\n",
       "      <td>...</td>\n",
       "      <td>...</td>\n",
       "      <td>...</td>\n",
       "      <td>...</td>\n",
       "      <td>...</td>\n",
       "      <td>...</td>\n",
       "      <td>...</td>\n",
       "    </tr>\n",
       "    <tr>\n",
       "      <th>1201</th>\n",
       "      <td>1201</td>\n",
       "      <td>2018-12-27 00:00:00</td>\n",
       "      <td>4</td>\n",
       "      <td>2477571.0</td>\n",
       "      <td>2018</td>\n",
       "      <td>12</td>\n",
       "      <td>4</td>\n",
       "    </tr>\n",
       "    <tr>\n",
       "      <th>1202</th>\n",
       "      <td>1202</td>\n",
       "      <td>2018-12-28 00:00:00</td>\n",
       "      <td>2</td>\n",
       "      <td>1359095.0</td>\n",
       "      <td>2018</td>\n",
       "      <td>12</td>\n",
       "      <td>4</td>\n",
       "    </tr>\n",
       "    <tr>\n",
       "      <th>1203</th>\n",
       "      <td>1203</td>\n",
       "      <td>2018-12-29 00:00:00</td>\n",
       "      <td>1</td>\n",
       "      <td>909480.0</td>\n",
       "      <td>2018</td>\n",
       "      <td>12</td>\n",
       "      <td>4</td>\n",
       "    </tr>\n",
       "    <tr>\n",
       "      <th>1204</th>\n",
       "      <td>1204</td>\n",
       "      <td>2018-12-30 00:00:00</td>\n",
       "      <td>1</td>\n",
       "      <td>891133.0</td>\n",
       "      <td>2018</td>\n",
       "      <td>12</td>\n",
       "      <td>4</td>\n",
       "    </tr>\n",
       "    <tr>\n",
       "      <th>1205</th>\n",
       "      <td>1205</td>\n",
       "      <td>2019-01-01 00:00:00</td>\n",
       "      <td>2</td>\n",
       "      <td>655579.0</td>\n",
       "      <td>2019</td>\n",
       "      <td>1</td>\n",
       "      <td>1</td>\n",
       "    </tr>\n",
       "  </tbody>\n",
       "</table>\n",
       "<p>1206 rows × 7 columns</p>\n",
       "</div>"
      ],
      "text/plain": [
       "      index    Policy Start Date  Policy Number  Policy Value  year  month  \\\n",
       "0         0  2009-07-08 00:00:00              1        2423.0  2009      7   \n",
       "1         1  2009-07-10 00:00:00              1        6384.0  2009      7   \n",
       "2         2  2009-07-11 00:00:00              1        6981.0  2009      7   \n",
       "3         3  2009-07-14 00:00:00              1        5058.0  2009      7   \n",
       "4         4  2009-07-19 00:00:00              1        2179.0  2009      7   \n",
       "...     ...                  ...            ...           ...   ...    ...   \n",
       "1201   1201  2018-12-27 00:00:00              4     2477571.0  2018     12   \n",
       "1202   1202  2018-12-28 00:00:00              2     1359095.0  2018     12   \n",
       "1203   1203  2018-12-29 00:00:00              1      909480.0  2018     12   \n",
       "1204   1204  2018-12-30 00:00:00              1      891133.0  2018     12   \n",
       "1205   1205  2019-01-01 00:00:00              2      655579.0  2019      1   \n",
       "\n",
       "      quarter  \n",
       "0           3  \n",
       "1           3  \n",
       "2           3  \n",
       "3           3  \n",
       "4           3  \n",
       "...       ...  \n",
       "1201        4  \n",
       "1202        4  \n",
       "1203        4  \n",
       "1204        4  \n",
       "1205        1  \n",
       "\n",
       "[1206 rows x 7 columns]"
      ]
     },
     "execution_count": 348,
     "metadata": {},
     "output_type": "execute_result"
    }
   ],
   "source": [
    "time=pd.merge(t, t1).reset_index()\n",
    "time['year'] = pd.DatetimeIndex(time['Policy Start Date']).year\n",
    "time['month'] = pd.DatetimeIndex(time['Policy Start Date']).month\n",
    "time['quarter'] = pd.DatetimeIndex(time['Policy Start Date']).quarter\n",
    "\n",
    "time"
   ]
  },
  {
   "cell_type": "code",
   "execution_count": 340,
   "metadata": {},
   "outputs": [
    {
     "name": "stderr",
     "output_type": "stream",
     "text": [
      "C:\\Users\\Asus\\Anaconda3\\lib\\site-packages\\ipykernel_launcher.py:1: FutureWarning:\n",
      "\n",
      "Indexing with multiple keys (implicitly converted to a tuple of keys) will be deprecated, use a list instead.\n",
      "\n"
     ]
    },
    {
     "data": {
      "text/html": [
       "<div>\n",
       "<style scoped>\n",
       "    .dataframe tbody tr th:only-of-type {\n",
       "        vertical-align: middle;\n",
       "    }\n",
       "\n",
       "    .dataframe tbody tr th {\n",
       "        vertical-align: top;\n",
       "    }\n",
       "\n",
       "    .dataframe thead th {\n",
       "        text-align: right;\n",
       "    }\n",
       "</style>\n",
       "<table border=\"1\" class=\"dataframe\">\n",
       "  <thead>\n",
       "    <tr style=\"text-align: right;\">\n",
       "      <th></th>\n",
       "      <th>year</th>\n",
       "      <th>Policy Value</th>\n",
       "      <th>Policy Number</th>\n",
       "    </tr>\n",
       "  </thead>\n",
       "  <tbody>\n",
       "    <tr>\n",
       "      <th>0</th>\n",
       "      <td>2009</td>\n",
       "      <td>284010.0</td>\n",
       "      <td>65</td>\n",
       "    </tr>\n",
       "    <tr>\n",
       "      <th>1</th>\n",
       "      <td>2010</td>\n",
       "      <td>475086.0</td>\n",
       "      <td>119</td>\n",
       "    </tr>\n",
       "    <tr>\n",
       "      <th>2</th>\n",
       "      <td>2011</td>\n",
       "      <td>455122.0</td>\n",
       "      <td>109</td>\n",
       "    </tr>\n",
       "    <tr>\n",
       "      <th>3</th>\n",
       "      <td>2012</td>\n",
       "      <td>541051.0</td>\n",
       "      <td>113</td>\n",
       "    </tr>\n",
       "    <tr>\n",
       "      <th>4</th>\n",
       "      <td>2013</td>\n",
       "      <td>532566.0</td>\n",
       "      <td>128</td>\n",
       "    </tr>\n",
       "    <tr>\n",
       "      <th>5</th>\n",
       "      <td>2014</td>\n",
       "      <td>430187.0</td>\n",
       "      <td>102</td>\n",
       "    </tr>\n",
       "    <tr>\n",
       "      <th>6</th>\n",
       "      <td>2016</td>\n",
       "      <td>157065199.0</td>\n",
       "      <td>321</td>\n",
       "    </tr>\n",
       "    <tr>\n",
       "      <th>7</th>\n",
       "      <td>2017</td>\n",
       "      <td>176332092.0</td>\n",
       "      <td>344</td>\n",
       "    </tr>\n",
       "    <tr>\n",
       "      <th>8</th>\n",
       "      <td>2018</td>\n",
       "      <td>170407125.0</td>\n",
       "      <td>332</td>\n",
       "    </tr>\n",
       "    <tr>\n",
       "      <th>9</th>\n",
       "      <td>2019</td>\n",
       "      <td>655579.0</td>\n",
       "      <td>2</td>\n",
       "    </tr>\n",
       "  </tbody>\n",
       "</table>\n",
       "</div>"
      ],
      "text/plain": [
       "   year  Policy Value  Policy Number\n",
       "0  2009      284010.0             65\n",
       "1  2010      475086.0            119\n",
       "2  2011      455122.0            109\n",
       "3  2012      541051.0            113\n",
       "4  2013      532566.0            128\n",
       "5  2014      430187.0            102\n",
       "6  2016   157065199.0            321\n",
       "7  2017   176332092.0            344\n",
       "8  2018   170407125.0            332\n",
       "9  2019      655579.0              2"
      ]
     },
     "execution_count": 340,
     "metadata": {},
     "output_type": "execute_result"
    }
   ],
   "source": [
    "time1=time.groupby('year')['Policy Value', 'Policy Number'].sum()\n",
    "time1=time1.reset_index()\n",
    "time1"
   ]
  },
  {
   "cell_type": "code",
   "execution_count": 344,
   "metadata": {},
   "outputs": [
    {
     "data": {
      "application/vnd.plotly.v1+json": {
       "config": {
        "plotlyServerURL": "https://plot.ly"
       },
       "data": [
        {
         "name": "POLICY VALUE",
         "type": "scatter",
         "x": [
          2009,
          2010,
          2011,
          2012,
          2013,
          2014,
          2016,
          2017,
          2018,
          2019
         ],
         "xaxis": "x",
         "y": [
          284010,
          475086,
          455122,
          541051,
          532566,
          430187,
          157065199,
          176332092,
          170407125,
          655579
         ],
         "yaxis": "y"
        },
        {
         "name": "NUMBER OF POLICY",
         "type": "scatter",
         "x": [
          2009,
          2010,
          2011,
          2012,
          2013,
          2014,
          2016,
          2017,
          2018,
          2019
         ],
         "xaxis": "x",
         "y": [
          65,
          119,
          109,
          113,
          128,
          102,
          321,
          344,
          332,
          2
         ],
         "yaxis": "y2"
        }
       ],
       "layout": {
        "template": {
         "data": {
          "bar": [
           {
            "error_x": {
             "color": "#2a3f5f"
            },
            "error_y": {
             "color": "#2a3f5f"
            },
            "marker": {
             "line": {
              "color": "#E5ECF6",
              "width": 0.5
             }
            },
            "type": "bar"
           }
          ],
          "barpolar": [
           {
            "marker": {
             "line": {
              "color": "#E5ECF6",
              "width": 0.5
             }
            },
            "type": "barpolar"
           }
          ],
          "carpet": [
           {
            "aaxis": {
             "endlinecolor": "#2a3f5f",
             "gridcolor": "white",
             "linecolor": "white",
             "minorgridcolor": "white",
             "startlinecolor": "#2a3f5f"
            },
            "baxis": {
             "endlinecolor": "#2a3f5f",
             "gridcolor": "white",
             "linecolor": "white",
             "minorgridcolor": "white",
             "startlinecolor": "#2a3f5f"
            },
            "type": "carpet"
           }
          ],
          "choropleth": [
           {
            "colorbar": {
             "outlinewidth": 0,
             "ticks": ""
            },
            "type": "choropleth"
           }
          ],
          "contour": [
           {
            "colorbar": {
             "outlinewidth": 0,
             "ticks": ""
            },
            "colorscale": [
             [
              0,
              "#0d0887"
             ],
             [
              0.1111111111111111,
              "#46039f"
             ],
             [
              0.2222222222222222,
              "#7201a8"
             ],
             [
              0.3333333333333333,
              "#9c179e"
             ],
             [
              0.4444444444444444,
              "#bd3786"
             ],
             [
              0.5555555555555556,
              "#d8576b"
             ],
             [
              0.6666666666666666,
              "#ed7953"
             ],
             [
              0.7777777777777778,
              "#fb9f3a"
             ],
             [
              0.8888888888888888,
              "#fdca26"
             ],
             [
              1,
              "#f0f921"
             ]
            ],
            "type": "contour"
           }
          ],
          "contourcarpet": [
           {
            "colorbar": {
             "outlinewidth": 0,
             "ticks": ""
            },
            "type": "contourcarpet"
           }
          ],
          "heatmap": [
           {
            "colorbar": {
             "outlinewidth": 0,
             "ticks": ""
            },
            "colorscale": [
             [
              0,
              "#0d0887"
             ],
             [
              0.1111111111111111,
              "#46039f"
             ],
             [
              0.2222222222222222,
              "#7201a8"
             ],
             [
              0.3333333333333333,
              "#9c179e"
             ],
             [
              0.4444444444444444,
              "#bd3786"
             ],
             [
              0.5555555555555556,
              "#d8576b"
             ],
             [
              0.6666666666666666,
              "#ed7953"
             ],
             [
              0.7777777777777778,
              "#fb9f3a"
             ],
             [
              0.8888888888888888,
              "#fdca26"
             ],
             [
              1,
              "#f0f921"
             ]
            ],
            "type": "heatmap"
           }
          ],
          "heatmapgl": [
           {
            "colorbar": {
             "outlinewidth": 0,
             "ticks": ""
            },
            "colorscale": [
             [
              0,
              "#0d0887"
             ],
             [
              0.1111111111111111,
              "#46039f"
             ],
             [
              0.2222222222222222,
              "#7201a8"
             ],
             [
              0.3333333333333333,
              "#9c179e"
             ],
             [
              0.4444444444444444,
              "#bd3786"
             ],
             [
              0.5555555555555556,
              "#d8576b"
             ],
             [
              0.6666666666666666,
              "#ed7953"
             ],
             [
              0.7777777777777778,
              "#fb9f3a"
             ],
             [
              0.8888888888888888,
              "#fdca26"
             ],
             [
              1,
              "#f0f921"
             ]
            ],
            "type": "heatmapgl"
           }
          ],
          "histogram": [
           {
            "marker": {
             "colorbar": {
              "outlinewidth": 0,
              "ticks": ""
             }
            },
            "type": "histogram"
           }
          ],
          "histogram2d": [
           {
            "colorbar": {
             "outlinewidth": 0,
             "ticks": ""
            },
            "colorscale": [
             [
              0,
              "#0d0887"
             ],
             [
              0.1111111111111111,
              "#46039f"
             ],
             [
              0.2222222222222222,
              "#7201a8"
             ],
             [
              0.3333333333333333,
              "#9c179e"
             ],
             [
              0.4444444444444444,
              "#bd3786"
             ],
             [
              0.5555555555555556,
              "#d8576b"
             ],
             [
              0.6666666666666666,
              "#ed7953"
             ],
             [
              0.7777777777777778,
              "#fb9f3a"
             ],
             [
              0.8888888888888888,
              "#fdca26"
             ],
             [
              1,
              "#f0f921"
             ]
            ],
            "type": "histogram2d"
           }
          ],
          "histogram2dcontour": [
           {
            "colorbar": {
             "outlinewidth": 0,
             "ticks": ""
            },
            "colorscale": [
             [
              0,
              "#0d0887"
             ],
             [
              0.1111111111111111,
              "#46039f"
             ],
             [
              0.2222222222222222,
              "#7201a8"
             ],
             [
              0.3333333333333333,
              "#9c179e"
             ],
             [
              0.4444444444444444,
              "#bd3786"
             ],
             [
              0.5555555555555556,
              "#d8576b"
             ],
             [
              0.6666666666666666,
              "#ed7953"
             ],
             [
              0.7777777777777778,
              "#fb9f3a"
             ],
             [
              0.8888888888888888,
              "#fdca26"
             ],
             [
              1,
              "#f0f921"
             ]
            ],
            "type": "histogram2dcontour"
           }
          ],
          "mesh3d": [
           {
            "colorbar": {
             "outlinewidth": 0,
             "ticks": ""
            },
            "type": "mesh3d"
           }
          ],
          "parcoords": [
           {
            "line": {
             "colorbar": {
              "outlinewidth": 0,
              "ticks": ""
             }
            },
            "type": "parcoords"
           }
          ],
          "pie": [
           {
            "automargin": true,
            "type": "pie"
           }
          ],
          "scatter": [
           {
            "marker": {
             "colorbar": {
              "outlinewidth": 0,
              "ticks": ""
             }
            },
            "type": "scatter"
           }
          ],
          "scatter3d": [
           {
            "line": {
             "colorbar": {
              "outlinewidth": 0,
              "ticks": ""
             }
            },
            "marker": {
             "colorbar": {
              "outlinewidth": 0,
              "ticks": ""
             }
            },
            "type": "scatter3d"
           }
          ],
          "scattercarpet": [
           {
            "marker": {
             "colorbar": {
              "outlinewidth": 0,
              "ticks": ""
             }
            },
            "type": "scattercarpet"
           }
          ],
          "scattergeo": [
           {
            "marker": {
             "colorbar": {
              "outlinewidth": 0,
              "ticks": ""
             }
            },
            "type": "scattergeo"
           }
          ],
          "scattergl": [
           {
            "marker": {
             "colorbar": {
              "outlinewidth": 0,
              "ticks": ""
             }
            },
            "type": "scattergl"
           }
          ],
          "scattermapbox": [
           {
            "marker": {
             "colorbar": {
              "outlinewidth": 0,
              "ticks": ""
             }
            },
            "type": "scattermapbox"
           }
          ],
          "scatterpolar": [
           {
            "marker": {
             "colorbar": {
              "outlinewidth": 0,
              "ticks": ""
             }
            },
            "type": "scatterpolar"
           }
          ],
          "scatterpolargl": [
           {
            "marker": {
             "colorbar": {
              "outlinewidth": 0,
              "ticks": ""
             }
            },
            "type": "scatterpolargl"
           }
          ],
          "scatterternary": [
           {
            "marker": {
             "colorbar": {
              "outlinewidth": 0,
              "ticks": ""
             }
            },
            "type": "scatterternary"
           }
          ],
          "surface": [
           {
            "colorbar": {
             "outlinewidth": 0,
             "ticks": ""
            },
            "colorscale": [
             [
              0,
              "#0d0887"
             ],
             [
              0.1111111111111111,
              "#46039f"
             ],
             [
              0.2222222222222222,
              "#7201a8"
             ],
             [
              0.3333333333333333,
              "#9c179e"
             ],
             [
              0.4444444444444444,
              "#bd3786"
             ],
             [
              0.5555555555555556,
              "#d8576b"
             ],
             [
              0.6666666666666666,
              "#ed7953"
             ],
             [
              0.7777777777777778,
              "#fb9f3a"
             ],
             [
              0.8888888888888888,
              "#fdca26"
             ],
             [
              1,
              "#f0f921"
             ]
            ],
            "type": "surface"
           }
          ],
          "table": [
           {
            "cells": {
             "fill": {
              "color": "#EBF0F8"
             },
             "line": {
              "color": "white"
             }
            },
            "header": {
             "fill": {
              "color": "#C8D4E3"
             },
             "line": {
              "color": "white"
             }
            },
            "type": "table"
           }
          ]
         },
         "layout": {
          "annotationdefaults": {
           "arrowcolor": "#2a3f5f",
           "arrowhead": 0,
           "arrowwidth": 1
          },
          "autotypenumbers": "strict",
          "coloraxis": {
           "colorbar": {
            "outlinewidth": 0,
            "ticks": ""
           }
          },
          "colorscale": {
           "diverging": [
            [
             0,
             "#8e0152"
            ],
            [
             0.1,
             "#c51b7d"
            ],
            [
             0.2,
             "#de77ae"
            ],
            [
             0.3,
             "#f1b6da"
            ],
            [
             0.4,
             "#fde0ef"
            ],
            [
             0.5,
             "#f7f7f7"
            ],
            [
             0.6,
             "#e6f5d0"
            ],
            [
             0.7,
             "#b8e186"
            ],
            [
             0.8,
             "#7fbc41"
            ],
            [
             0.9,
             "#4d9221"
            ],
            [
             1,
             "#276419"
            ]
           ],
           "sequential": [
            [
             0,
             "#0d0887"
            ],
            [
             0.1111111111111111,
             "#46039f"
            ],
            [
             0.2222222222222222,
             "#7201a8"
            ],
            [
             0.3333333333333333,
             "#9c179e"
            ],
            [
             0.4444444444444444,
             "#bd3786"
            ],
            [
             0.5555555555555556,
             "#d8576b"
            ],
            [
             0.6666666666666666,
             "#ed7953"
            ],
            [
             0.7777777777777778,
             "#fb9f3a"
            ],
            [
             0.8888888888888888,
             "#fdca26"
            ],
            [
             1,
             "#f0f921"
            ]
           ],
           "sequentialminus": [
            [
             0,
             "#0d0887"
            ],
            [
             0.1111111111111111,
             "#46039f"
            ],
            [
             0.2222222222222222,
             "#7201a8"
            ],
            [
             0.3333333333333333,
             "#9c179e"
            ],
            [
             0.4444444444444444,
             "#bd3786"
            ],
            [
             0.5555555555555556,
             "#d8576b"
            ],
            [
             0.6666666666666666,
             "#ed7953"
            ],
            [
             0.7777777777777778,
             "#fb9f3a"
            ],
            [
             0.8888888888888888,
             "#fdca26"
            ],
            [
             1,
             "#f0f921"
            ]
           ]
          },
          "colorway": [
           "#636efa",
           "#EF553B",
           "#00cc96",
           "#ab63fa",
           "#FFA15A",
           "#19d3f3",
           "#FF6692",
           "#B6E880",
           "#FF97FF",
           "#FECB52"
          ],
          "font": {
           "color": "#2a3f5f"
          },
          "geo": {
           "bgcolor": "white",
           "lakecolor": "white",
           "landcolor": "#E5ECF6",
           "showlakes": true,
           "showland": true,
           "subunitcolor": "white"
          },
          "hoverlabel": {
           "align": "left"
          },
          "hovermode": "closest",
          "mapbox": {
           "style": "light"
          },
          "paper_bgcolor": "white",
          "plot_bgcolor": "#E5ECF6",
          "polar": {
           "angularaxis": {
            "gridcolor": "white",
            "linecolor": "white",
            "ticks": ""
           },
           "bgcolor": "#E5ECF6",
           "radialaxis": {
            "gridcolor": "white",
            "linecolor": "white",
            "ticks": ""
           }
          },
          "scene": {
           "xaxis": {
            "backgroundcolor": "#E5ECF6",
            "gridcolor": "white",
            "gridwidth": 2,
            "linecolor": "white",
            "showbackground": true,
            "ticks": "",
            "zerolinecolor": "white"
           },
           "yaxis": {
            "backgroundcolor": "#E5ECF6",
            "gridcolor": "white",
            "gridwidth": 2,
            "linecolor": "white",
            "showbackground": true,
            "ticks": "",
            "zerolinecolor": "white"
           },
           "zaxis": {
            "backgroundcolor": "#E5ECF6",
            "gridcolor": "white",
            "gridwidth": 2,
            "linecolor": "white",
            "showbackground": true,
            "ticks": "",
            "zerolinecolor": "white"
           }
          },
          "shapedefaults": {
           "line": {
            "color": "#2a3f5f"
           }
          },
          "ternary": {
           "aaxis": {
            "gridcolor": "white",
            "linecolor": "white",
            "ticks": ""
           },
           "baxis": {
            "gridcolor": "white",
            "linecolor": "white",
            "ticks": ""
           },
           "bgcolor": "#E5ECF6",
           "caxis": {
            "gridcolor": "white",
            "linecolor": "white",
            "ticks": ""
           }
          },
          "title": {
           "x": 0.05
          },
          "xaxis": {
           "automargin": true,
           "gridcolor": "white",
           "linecolor": "white",
           "ticks": "",
           "title": {
            "standoff": 15
           },
           "zerolinecolor": "white",
           "zerolinewidth": 2
          },
          "yaxis": {
           "automargin": true,
           "gridcolor": "white",
           "linecolor": "white",
           "ticks": "",
           "title": {
            "standoff": 15
           },
           "zerolinecolor": "white",
           "zerolinewidth": 2
          }
         }
        },
        "title": {
         "text": "Current value of the policies and Number of Policies sold per year"
        },
        "xaxis": {
         "anchor": "y",
         "domain": [
          0,
          0.94
         ],
         "title": {
          "text": "YEAR"
         }
        },
        "yaxis": {
         "anchor": "x",
         "domain": [
          0,
          1
         ],
         "title": {
          "text": "<b>PRESENT POLICY VALUE"
         }
        },
        "yaxis2": {
         "anchor": "x",
         "overlaying": "y",
         "side": "right",
         "title": {
          "text": "<b>NUMBER OF POLICY SOLD"
         }
        }
       }
      },
      "text/html": [
       "<div>                            <div id=\"9870ca76-52ec-4b20-ad06-ccb1947e81d1\" class=\"plotly-graph-div\" style=\"height:525px; width:100%;\"></div>            <script type=\"text/javascript\">                require([\"plotly\"], function(Plotly) {                    window.PLOTLYENV=window.PLOTLYENV || {};                                    if (document.getElementById(\"9870ca76-52ec-4b20-ad06-ccb1947e81d1\")) {                    Plotly.newPlot(                        \"9870ca76-52ec-4b20-ad06-ccb1947e81d1\",                        [{\"name\": \"POLICY VALUE\", \"type\": \"scatter\", \"x\": [2009, 2010, 2011, 2012, 2013, 2014, 2016, 2017, 2018, 2019], \"xaxis\": \"x\", \"y\": [284010.0, 475086.0, 455122.0, 541051.0, 532566.0, 430187.0, 157065199.0, 176332092.0, 170407125.0, 655579.0], \"yaxis\": \"y\"}, {\"name\": \"NUMBER OF POLICY\", \"type\": \"scatter\", \"x\": [2009, 2010, 2011, 2012, 2013, 2014, 2016, 2017, 2018, 2019], \"xaxis\": \"x\", \"y\": [65, 119, 109, 113, 128, 102, 321, 344, 332, 2], \"yaxis\": \"y2\"}],                        {\"template\": {\"data\": {\"bar\": [{\"error_x\": {\"color\": \"#2a3f5f\"}, \"error_y\": {\"color\": \"#2a3f5f\"}, \"marker\": {\"line\": {\"color\": \"#E5ECF6\", \"width\": 0.5}}, \"type\": \"bar\"}], \"barpolar\": [{\"marker\": {\"line\": {\"color\": \"#E5ECF6\", \"width\": 0.5}}, \"type\": \"barpolar\"}], \"carpet\": [{\"aaxis\": {\"endlinecolor\": \"#2a3f5f\", \"gridcolor\": \"white\", \"linecolor\": \"white\", \"minorgridcolor\": \"white\", \"startlinecolor\": \"#2a3f5f\"}, \"baxis\": {\"endlinecolor\": \"#2a3f5f\", \"gridcolor\": \"white\", \"linecolor\": \"white\", \"minorgridcolor\": \"white\", \"startlinecolor\": \"#2a3f5f\"}, \"type\": \"carpet\"}], \"choropleth\": [{\"colorbar\": {\"outlinewidth\": 0, \"ticks\": \"\"}, \"type\": \"choropleth\"}], \"contour\": [{\"colorbar\": {\"outlinewidth\": 0, \"ticks\": \"\"}, \"colorscale\": [[0.0, \"#0d0887\"], [0.1111111111111111, \"#46039f\"], [0.2222222222222222, \"#7201a8\"], [0.3333333333333333, \"#9c179e\"], [0.4444444444444444, \"#bd3786\"], [0.5555555555555556, \"#d8576b\"], [0.6666666666666666, \"#ed7953\"], [0.7777777777777778, \"#fb9f3a\"], [0.8888888888888888, \"#fdca26\"], [1.0, \"#f0f921\"]], \"type\": \"contour\"}], \"contourcarpet\": [{\"colorbar\": {\"outlinewidth\": 0, \"ticks\": \"\"}, \"type\": \"contourcarpet\"}], \"heatmap\": [{\"colorbar\": {\"outlinewidth\": 0, \"ticks\": \"\"}, \"colorscale\": [[0.0, \"#0d0887\"], [0.1111111111111111, \"#46039f\"], [0.2222222222222222, \"#7201a8\"], [0.3333333333333333, \"#9c179e\"], [0.4444444444444444, \"#bd3786\"], [0.5555555555555556, \"#d8576b\"], [0.6666666666666666, \"#ed7953\"], [0.7777777777777778, \"#fb9f3a\"], [0.8888888888888888, \"#fdca26\"], [1.0, \"#f0f921\"]], \"type\": \"heatmap\"}], \"heatmapgl\": [{\"colorbar\": {\"outlinewidth\": 0, \"ticks\": \"\"}, \"colorscale\": [[0.0, \"#0d0887\"], [0.1111111111111111, \"#46039f\"], [0.2222222222222222, \"#7201a8\"], [0.3333333333333333, \"#9c179e\"], [0.4444444444444444, \"#bd3786\"], [0.5555555555555556, \"#d8576b\"], [0.6666666666666666, \"#ed7953\"], [0.7777777777777778, \"#fb9f3a\"], [0.8888888888888888, \"#fdca26\"], [1.0, \"#f0f921\"]], \"type\": \"heatmapgl\"}], \"histogram\": [{\"marker\": {\"colorbar\": {\"outlinewidth\": 0, \"ticks\": \"\"}}, \"type\": \"histogram\"}], \"histogram2d\": [{\"colorbar\": {\"outlinewidth\": 0, \"ticks\": \"\"}, \"colorscale\": [[0.0, \"#0d0887\"], [0.1111111111111111, \"#46039f\"], [0.2222222222222222, \"#7201a8\"], [0.3333333333333333, \"#9c179e\"], [0.4444444444444444, \"#bd3786\"], [0.5555555555555556, \"#d8576b\"], [0.6666666666666666, \"#ed7953\"], [0.7777777777777778, \"#fb9f3a\"], [0.8888888888888888, \"#fdca26\"], [1.0, \"#f0f921\"]], \"type\": \"histogram2d\"}], \"histogram2dcontour\": [{\"colorbar\": {\"outlinewidth\": 0, \"ticks\": \"\"}, \"colorscale\": [[0.0, \"#0d0887\"], [0.1111111111111111, \"#46039f\"], [0.2222222222222222, \"#7201a8\"], [0.3333333333333333, \"#9c179e\"], [0.4444444444444444, \"#bd3786\"], [0.5555555555555556, \"#d8576b\"], [0.6666666666666666, \"#ed7953\"], [0.7777777777777778, \"#fb9f3a\"], [0.8888888888888888, \"#fdca26\"], [1.0, \"#f0f921\"]], \"type\": \"histogram2dcontour\"}], \"mesh3d\": [{\"colorbar\": {\"outlinewidth\": 0, \"ticks\": \"\"}, \"type\": \"mesh3d\"}], \"parcoords\": [{\"line\": {\"colorbar\": {\"outlinewidth\": 0, \"ticks\": \"\"}}, \"type\": \"parcoords\"}], \"pie\": [{\"automargin\": true, \"type\": \"pie\"}], \"scatter\": [{\"marker\": {\"colorbar\": {\"outlinewidth\": 0, \"ticks\": \"\"}}, \"type\": \"scatter\"}], \"scatter3d\": [{\"line\": {\"colorbar\": {\"outlinewidth\": 0, \"ticks\": \"\"}}, \"marker\": {\"colorbar\": {\"outlinewidth\": 0, \"ticks\": \"\"}}, \"type\": \"scatter3d\"}], \"scattercarpet\": [{\"marker\": {\"colorbar\": {\"outlinewidth\": 0, \"ticks\": \"\"}}, \"type\": \"scattercarpet\"}], \"scattergeo\": [{\"marker\": {\"colorbar\": {\"outlinewidth\": 0, \"ticks\": \"\"}}, \"type\": \"scattergeo\"}], \"scattergl\": [{\"marker\": {\"colorbar\": {\"outlinewidth\": 0, \"ticks\": \"\"}}, \"type\": \"scattergl\"}], \"scattermapbox\": [{\"marker\": {\"colorbar\": {\"outlinewidth\": 0, \"ticks\": \"\"}}, \"type\": \"scattermapbox\"}], \"scatterpolar\": [{\"marker\": {\"colorbar\": {\"outlinewidth\": 0, \"ticks\": \"\"}}, \"type\": \"scatterpolar\"}], \"scatterpolargl\": [{\"marker\": {\"colorbar\": {\"outlinewidth\": 0, \"ticks\": \"\"}}, \"type\": \"scatterpolargl\"}], \"scatterternary\": [{\"marker\": {\"colorbar\": {\"outlinewidth\": 0, \"ticks\": \"\"}}, \"type\": \"scatterternary\"}], \"surface\": [{\"colorbar\": {\"outlinewidth\": 0, \"ticks\": \"\"}, \"colorscale\": [[0.0, \"#0d0887\"], [0.1111111111111111, \"#46039f\"], [0.2222222222222222, \"#7201a8\"], [0.3333333333333333, \"#9c179e\"], [0.4444444444444444, \"#bd3786\"], [0.5555555555555556, \"#d8576b\"], [0.6666666666666666, \"#ed7953\"], [0.7777777777777778, \"#fb9f3a\"], [0.8888888888888888, \"#fdca26\"], [1.0, \"#f0f921\"]], \"type\": \"surface\"}], \"table\": [{\"cells\": {\"fill\": {\"color\": \"#EBF0F8\"}, \"line\": {\"color\": \"white\"}}, \"header\": {\"fill\": {\"color\": \"#C8D4E3\"}, \"line\": {\"color\": \"white\"}}, \"type\": \"table\"}]}, \"layout\": {\"annotationdefaults\": {\"arrowcolor\": \"#2a3f5f\", \"arrowhead\": 0, \"arrowwidth\": 1}, \"autotypenumbers\": \"strict\", \"coloraxis\": {\"colorbar\": {\"outlinewidth\": 0, \"ticks\": \"\"}}, \"colorscale\": {\"diverging\": [[0, \"#8e0152\"], [0.1, \"#c51b7d\"], [0.2, \"#de77ae\"], [0.3, \"#f1b6da\"], [0.4, \"#fde0ef\"], [0.5, \"#f7f7f7\"], [0.6, \"#e6f5d0\"], [0.7, \"#b8e186\"], [0.8, \"#7fbc41\"], [0.9, \"#4d9221\"], [1, \"#276419\"]], \"sequential\": [[0.0, \"#0d0887\"], [0.1111111111111111, \"#46039f\"], [0.2222222222222222, \"#7201a8\"], [0.3333333333333333, \"#9c179e\"], [0.4444444444444444, \"#bd3786\"], [0.5555555555555556, \"#d8576b\"], [0.6666666666666666, \"#ed7953\"], [0.7777777777777778, \"#fb9f3a\"], [0.8888888888888888, \"#fdca26\"], [1.0, \"#f0f921\"]], \"sequentialminus\": [[0.0, \"#0d0887\"], [0.1111111111111111, \"#46039f\"], [0.2222222222222222, \"#7201a8\"], [0.3333333333333333, \"#9c179e\"], [0.4444444444444444, \"#bd3786\"], [0.5555555555555556, \"#d8576b\"], [0.6666666666666666, \"#ed7953\"], [0.7777777777777778, \"#fb9f3a\"], [0.8888888888888888, \"#fdca26\"], [1.0, \"#f0f921\"]]}, \"colorway\": [\"#636efa\", \"#EF553B\", \"#00cc96\", \"#ab63fa\", \"#FFA15A\", \"#19d3f3\", \"#FF6692\", \"#B6E880\", \"#FF97FF\", \"#FECB52\"], \"font\": {\"color\": \"#2a3f5f\"}, \"geo\": {\"bgcolor\": \"white\", \"lakecolor\": \"white\", \"landcolor\": \"#E5ECF6\", \"showlakes\": true, \"showland\": true, \"subunitcolor\": \"white\"}, \"hoverlabel\": {\"align\": \"left\"}, \"hovermode\": \"closest\", \"mapbox\": {\"style\": \"light\"}, \"paper_bgcolor\": \"white\", \"plot_bgcolor\": \"#E5ECF6\", \"polar\": {\"angularaxis\": {\"gridcolor\": \"white\", \"linecolor\": \"white\", \"ticks\": \"\"}, \"bgcolor\": \"#E5ECF6\", \"radialaxis\": {\"gridcolor\": \"white\", \"linecolor\": \"white\", \"ticks\": \"\"}}, \"scene\": {\"xaxis\": {\"backgroundcolor\": \"#E5ECF6\", \"gridcolor\": \"white\", \"gridwidth\": 2, \"linecolor\": \"white\", \"showbackground\": true, \"ticks\": \"\", \"zerolinecolor\": \"white\"}, \"yaxis\": {\"backgroundcolor\": \"#E5ECF6\", \"gridcolor\": \"white\", \"gridwidth\": 2, \"linecolor\": \"white\", \"showbackground\": true, \"ticks\": \"\", \"zerolinecolor\": \"white\"}, \"zaxis\": {\"backgroundcolor\": \"#E5ECF6\", \"gridcolor\": \"white\", \"gridwidth\": 2, \"linecolor\": \"white\", \"showbackground\": true, \"ticks\": \"\", \"zerolinecolor\": \"white\"}}, \"shapedefaults\": {\"line\": {\"color\": \"#2a3f5f\"}}, \"ternary\": {\"aaxis\": {\"gridcolor\": \"white\", \"linecolor\": \"white\", \"ticks\": \"\"}, \"baxis\": {\"gridcolor\": \"white\", \"linecolor\": \"white\", \"ticks\": \"\"}, \"bgcolor\": \"#E5ECF6\", \"caxis\": {\"gridcolor\": \"white\", \"linecolor\": \"white\", \"ticks\": \"\"}}, \"title\": {\"x\": 0.05}, \"xaxis\": {\"automargin\": true, \"gridcolor\": \"white\", \"linecolor\": \"white\", \"ticks\": \"\", \"title\": {\"standoff\": 15}, \"zerolinecolor\": \"white\", \"zerolinewidth\": 2}, \"yaxis\": {\"automargin\": true, \"gridcolor\": \"white\", \"linecolor\": \"white\", \"ticks\": \"\", \"title\": {\"standoff\": 15}, \"zerolinecolor\": \"white\", \"zerolinewidth\": 2}}}, \"title\": {\"text\": \"Current value of the policies and Number of Policies sold per year\"}, \"xaxis\": {\"anchor\": \"y\", \"domain\": [0.0, 0.94], \"title\": {\"text\": \"YEAR\"}}, \"yaxis\": {\"anchor\": \"x\", \"domain\": [0.0, 1.0], \"title\": {\"text\": \"<b>PRESENT POLICY VALUE\"}}, \"yaxis2\": {\"anchor\": \"x\", \"overlaying\": \"y\", \"side\": \"right\", \"title\": {\"text\": \"<b>NUMBER OF POLICY SOLD\"}}},                        {\"responsive\": true}                    ).then(function(){\n",
       "                            \n",
       "var gd = document.getElementById('9870ca76-52ec-4b20-ad06-ccb1947e81d1');\n",
       "var x = new MutationObserver(function (mutations, observer) {{\n",
       "        var display = window.getComputedStyle(gd).display;\n",
       "        if (!display || display === 'none') {{\n",
       "            console.log([gd, 'removed!']);\n",
       "            Plotly.purge(gd);\n",
       "            observer.disconnect();\n",
       "        }}\n",
       "}});\n",
       "\n",
       "// Listen for the removal of the full notebook cells\n",
       "var notebookContainer = gd.closest('#notebook-container');\n",
       "if (notebookContainer) {{\n",
       "    x.observe(notebookContainer, {childList: true});\n",
       "}}\n",
       "\n",
       "// Listen for the clearing of the current output cell\n",
       "var outputEl = gd.closest('.output');\n",
       "if (outputEl) {{\n",
       "    x.observe(outputEl, {childList: true});\n",
       "}}\n",
       "\n",
       "                        })                };                });            </script>        </div>"
      ]
     },
     "metadata": {},
     "output_type": "display_data"
    }
   ],
   "source": [
    "from plotly.subplots import make_subplots\n",
    "\n",
    "# Create figure with secondary y-axis\n",
    "fig = make_subplots(specs=[[{\"secondary_y\": True}]])\n",
    "\n",
    "# Add traces\n",
    "fig.add_trace(\n",
    "    go.Scatter(x=time1['year'], y=time1['Policy Value'], name=\"POLICY VALUE\"),\n",
    "    secondary_y=False,\n",
    ")\n",
    "\n",
    "fig.add_trace(\n",
    "    go.Scatter(x=time1['year'], y=time1['Policy Number'], name=\"NUMBER OF POLICY\"),\n",
    "    secondary_y=True,\n",
    ")\n",
    "\n",
    "# Add figure title\n",
    "fig.update_layout(\n",
    "    title_text=\"Current value of the policies and Number of Policies sold per year\"\n",
    ")\n",
    "\n",
    "# Set x-axis title\n",
    "fig.update_xaxes(title_text=\"YEAR\")\n",
    "\n",
    "# Set y-axes titles\n",
    "fig.update_yaxes(title_text=\"<b>PRESENT POLICY VALUE\", secondary_y=False)\n",
    "fig.update_yaxes(title_text=\"<b>NUMBER OF POLICY SOLD\", secondary_y=True)\n",
    "\n",
    "fig.show()\n"
   ]
  },
  {
   "cell_type": "code",
   "execution_count": 349,
   "metadata": {},
   "outputs": [
    {
     "name": "stderr",
     "output_type": "stream",
     "text": [
      "C:\\Users\\Asus\\Anaconda3\\lib\\site-packages\\ipykernel_launcher.py:1: FutureWarning:\n",
      "\n",
      "Indexing with multiple keys (implicitly converted to a tuple of keys) will be deprecated, use a list instead.\n",
      "\n"
     ]
    },
    {
     "data": {
      "text/html": [
       "<div>\n",
       "<style scoped>\n",
       "    .dataframe tbody tr th:only-of-type {\n",
       "        vertical-align: middle;\n",
       "    }\n",
       "\n",
       "    .dataframe tbody tr th {\n",
       "        vertical-align: top;\n",
       "    }\n",
       "\n",
       "    .dataframe thead th {\n",
       "        text-align: right;\n",
       "    }\n",
       "</style>\n",
       "<table border=\"1\" class=\"dataframe\">\n",
       "  <thead>\n",
       "    <tr style=\"text-align: right;\">\n",
       "      <th></th>\n",
       "      <th>quarter</th>\n",
       "      <th>Policy Value</th>\n",
       "      <th>Policy Number</th>\n",
       "    </tr>\n",
       "  </thead>\n",
       "  <tbody>\n",
       "    <tr>\n",
       "      <th>0</th>\n",
       "      <td>1</td>\n",
       "      <td>126166846.0</td>\n",
       "      <td>398</td>\n",
       "    </tr>\n",
       "    <tr>\n",
       "      <th>1</th>\n",
       "      <td>2</td>\n",
       "      <td>119867880.0</td>\n",
       "      <td>372</td>\n",
       "    </tr>\n",
       "    <tr>\n",
       "      <th>2</th>\n",
       "      <td>3</td>\n",
       "      <td>126482101.0</td>\n",
       "      <td>424</td>\n",
       "    </tr>\n",
       "    <tr>\n",
       "      <th>3</th>\n",
       "      <td>4</td>\n",
       "      <td>134661190.0</td>\n",
       "      <td>441</td>\n",
       "    </tr>\n",
       "  </tbody>\n",
       "</table>\n",
       "</div>"
      ],
      "text/plain": [
       "   quarter  Policy Value  Policy Number\n",
       "0        1   126166846.0            398\n",
       "1        2   119867880.0            372\n",
       "2        3   126482101.0            424\n",
       "3        4   134661190.0            441"
      ]
     },
     "execution_count": 349,
     "metadata": {},
     "output_type": "execute_result"
    }
   ],
   "source": [
    "time1=time.groupby('quarter')['Policy Value', 'Policy Number'].sum()\n",
    "time1=time1.reset_index()\n",
    "time1"
   ]
  },
  {
   "cell_type": "code",
   "execution_count": 355,
   "metadata": {},
   "outputs": [
    {
     "data": {
      "application/vnd.plotly.v1+json": {
       "config": {
        "plotlyServerURL": "https://plot.ly"
       },
       "data": [
        {
         "hovertemplate": "quarter=%{x}<br>Policy Value=%{y}<extra></extra>",
         "legendgroup": "",
         "line": {
          "color": "#636efa",
          "dash": "solid"
         },
         "mode": "lines",
         "name": "",
         "orientation": "v",
         "showlegend": false,
         "type": "scatter",
         "x": [
          1,
          2,
          3,
          4
         ],
         "xaxis": "x",
         "y": [
          126166846,
          119867880,
          126482101,
          134661190
         ],
         "yaxis": "y"
        }
       ],
       "layout": {
        "legend": {
         "tracegroupgap": 0
        },
        "template": {
         "data": {
          "bar": [
           {
            "error_x": {
             "color": "#2a3f5f"
            },
            "error_y": {
             "color": "#2a3f5f"
            },
            "marker": {
             "line": {
              "color": "#E5ECF6",
              "width": 0.5
             }
            },
            "type": "bar"
           }
          ],
          "barpolar": [
           {
            "marker": {
             "line": {
              "color": "#E5ECF6",
              "width": 0.5
             }
            },
            "type": "barpolar"
           }
          ],
          "carpet": [
           {
            "aaxis": {
             "endlinecolor": "#2a3f5f",
             "gridcolor": "white",
             "linecolor": "white",
             "minorgridcolor": "white",
             "startlinecolor": "#2a3f5f"
            },
            "baxis": {
             "endlinecolor": "#2a3f5f",
             "gridcolor": "white",
             "linecolor": "white",
             "minorgridcolor": "white",
             "startlinecolor": "#2a3f5f"
            },
            "type": "carpet"
           }
          ],
          "choropleth": [
           {
            "colorbar": {
             "outlinewidth": 0,
             "ticks": ""
            },
            "type": "choropleth"
           }
          ],
          "contour": [
           {
            "colorbar": {
             "outlinewidth": 0,
             "ticks": ""
            },
            "colorscale": [
             [
              0,
              "#0d0887"
             ],
             [
              0.1111111111111111,
              "#46039f"
             ],
             [
              0.2222222222222222,
              "#7201a8"
             ],
             [
              0.3333333333333333,
              "#9c179e"
             ],
             [
              0.4444444444444444,
              "#bd3786"
             ],
             [
              0.5555555555555556,
              "#d8576b"
             ],
             [
              0.6666666666666666,
              "#ed7953"
             ],
             [
              0.7777777777777778,
              "#fb9f3a"
             ],
             [
              0.8888888888888888,
              "#fdca26"
             ],
             [
              1,
              "#f0f921"
             ]
            ],
            "type": "contour"
           }
          ],
          "contourcarpet": [
           {
            "colorbar": {
             "outlinewidth": 0,
             "ticks": ""
            },
            "type": "contourcarpet"
           }
          ],
          "heatmap": [
           {
            "colorbar": {
             "outlinewidth": 0,
             "ticks": ""
            },
            "colorscale": [
             [
              0,
              "#0d0887"
             ],
             [
              0.1111111111111111,
              "#46039f"
             ],
             [
              0.2222222222222222,
              "#7201a8"
             ],
             [
              0.3333333333333333,
              "#9c179e"
             ],
             [
              0.4444444444444444,
              "#bd3786"
             ],
             [
              0.5555555555555556,
              "#d8576b"
             ],
             [
              0.6666666666666666,
              "#ed7953"
             ],
             [
              0.7777777777777778,
              "#fb9f3a"
             ],
             [
              0.8888888888888888,
              "#fdca26"
             ],
             [
              1,
              "#f0f921"
             ]
            ],
            "type": "heatmap"
           }
          ],
          "heatmapgl": [
           {
            "colorbar": {
             "outlinewidth": 0,
             "ticks": ""
            },
            "colorscale": [
             [
              0,
              "#0d0887"
             ],
             [
              0.1111111111111111,
              "#46039f"
             ],
             [
              0.2222222222222222,
              "#7201a8"
             ],
             [
              0.3333333333333333,
              "#9c179e"
             ],
             [
              0.4444444444444444,
              "#bd3786"
             ],
             [
              0.5555555555555556,
              "#d8576b"
             ],
             [
              0.6666666666666666,
              "#ed7953"
             ],
             [
              0.7777777777777778,
              "#fb9f3a"
             ],
             [
              0.8888888888888888,
              "#fdca26"
             ],
             [
              1,
              "#f0f921"
             ]
            ],
            "type": "heatmapgl"
           }
          ],
          "histogram": [
           {
            "marker": {
             "colorbar": {
              "outlinewidth": 0,
              "ticks": ""
             }
            },
            "type": "histogram"
           }
          ],
          "histogram2d": [
           {
            "colorbar": {
             "outlinewidth": 0,
             "ticks": ""
            },
            "colorscale": [
             [
              0,
              "#0d0887"
             ],
             [
              0.1111111111111111,
              "#46039f"
             ],
             [
              0.2222222222222222,
              "#7201a8"
             ],
             [
              0.3333333333333333,
              "#9c179e"
             ],
             [
              0.4444444444444444,
              "#bd3786"
             ],
             [
              0.5555555555555556,
              "#d8576b"
             ],
             [
              0.6666666666666666,
              "#ed7953"
             ],
             [
              0.7777777777777778,
              "#fb9f3a"
             ],
             [
              0.8888888888888888,
              "#fdca26"
             ],
             [
              1,
              "#f0f921"
             ]
            ],
            "type": "histogram2d"
           }
          ],
          "histogram2dcontour": [
           {
            "colorbar": {
             "outlinewidth": 0,
             "ticks": ""
            },
            "colorscale": [
             [
              0,
              "#0d0887"
             ],
             [
              0.1111111111111111,
              "#46039f"
             ],
             [
              0.2222222222222222,
              "#7201a8"
             ],
             [
              0.3333333333333333,
              "#9c179e"
             ],
             [
              0.4444444444444444,
              "#bd3786"
             ],
             [
              0.5555555555555556,
              "#d8576b"
             ],
             [
              0.6666666666666666,
              "#ed7953"
             ],
             [
              0.7777777777777778,
              "#fb9f3a"
             ],
             [
              0.8888888888888888,
              "#fdca26"
             ],
             [
              1,
              "#f0f921"
             ]
            ],
            "type": "histogram2dcontour"
           }
          ],
          "mesh3d": [
           {
            "colorbar": {
             "outlinewidth": 0,
             "ticks": ""
            },
            "type": "mesh3d"
           }
          ],
          "parcoords": [
           {
            "line": {
             "colorbar": {
              "outlinewidth": 0,
              "ticks": ""
             }
            },
            "type": "parcoords"
           }
          ],
          "pie": [
           {
            "automargin": true,
            "type": "pie"
           }
          ],
          "scatter": [
           {
            "marker": {
             "colorbar": {
              "outlinewidth": 0,
              "ticks": ""
             }
            },
            "type": "scatter"
           }
          ],
          "scatter3d": [
           {
            "line": {
             "colorbar": {
              "outlinewidth": 0,
              "ticks": ""
             }
            },
            "marker": {
             "colorbar": {
              "outlinewidth": 0,
              "ticks": ""
             }
            },
            "type": "scatter3d"
           }
          ],
          "scattercarpet": [
           {
            "marker": {
             "colorbar": {
              "outlinewidth": 0,
              "ticks": ""
             }
            },
            "type": "scattercarpet"
           }
          ],
          "scattergeo": [
           {
            "marker": {
             "colorbar": {
              "outlinewidth": 0,
              "ticks": ""
             }
            },
            "type": "scattergeo"
           }
          ],
          "scattergl": [
           {
            "marker": {
             "colorbar": {
              "outlinewidth": 0,
              "ticks": ""
             }
            },
            "type": "scattergl"
           }
          ],
          "scattermapbox": [
           {
            "marker": {
             "colorbar": {
              "outlinewidth": 0,
              "ticks": ""
             }
            },
            "type": "scattermapbox"
           }
          ],
          "scatterpolar": [
           {
            "marker": {
             "colorbar": {
              "outlinewidth": 0,
              "ticks": ""
             }
            },
            "type": "scatterpolar"
           }
          ],
          "scatterpolargl": [
           {
            "marker": {
             "colorbar": {
              "outlinewidth": 0,
              "ticks": ""
             }
            },
            "type": "scatterpolargl"
           }
          ],
          "scatterternary": [
           {
            "marker": {
             "colorbar": {
              "outlinewidth": 0,
              "ticks": ""
             }
            },
            "type": "scatterternary"
           }
          ],
          "surface": [
           {
            "colorbar": {
             "outlinewidth": 0,
             "ticks": ""
            },
            "colorscale": [
             [
              0,
              "#0d0887"
             ],
             [
              0.1111111111111111,
              "#46039f"
             ],
             [
              0.2222222222222222,
              "#7201a8"
             ],
             [
              0.3333333333333333,
              "#9c179e"
             ],
             [
              0.4444444444444444,
              "#bd3786"
             ],
             [
              0.5555555555555556,
              "#d8576b"
             ],
             [
              0.6666666666666666,
              "#ed7953"
             ],
             [
              0.7777777777777778,
              "#fb9f3a"
             ],
             [
              0.8888888888888888,
              "#fdca26"
             ],
             [
              1,
              "#f0f921"
             ]
            ],
            "type": "surface"
           }
          ],
          "table": [
           {
            "cells": {
             "fill": {
              "color": "#EBF0F8"
             },
             "line": {
              "color": "white"
             }
            },
            "header": {
             "fill": {
              "color": "#C8D4E3"
             },
             "line": {
              "color": "white"
             }
            },
            "type": "table"
           }
          ]
         },
         "layout": {
          "annotationdefaults": {
           "arrowcolor": "#2a3f5f",
           "arrowhead": 0,
           "arrowwidth": 1
          },
          "autotypenumbers": "strict",
          "coloraxis": {
           "colorbar": {
            "outlinewidth": 0,
            "ticks": ""
           }
          },
          "colorscale": {
           "diverging": [
            [
             0,
             "#8e0152"
            ],
            [
             0.1,
             "#c51b7d"
            ],
            [
             0.2,
             "#de77ae"
            ],
            [
             0.3,
             "#f1b6da"
            ],
            [
             0.4,
             "#fde0ef"
            ],
            [
             0.5,
             "#f7f7f7"
            ],
            [
             0.6,
             "#e6f5d0"
            ],
            [
             0.7,
             "#b8e186"
            ],
            [
             0.8,
             "#7fbc41"
            ],
            [
             0.9,
             "#4d9221"
            ],
            [
             1,
             "#276419"
            ]
           ],
           "sequential": [
            [
             0,
             "#0d0887"
            ],
            [
             0.1111111111111111,
             "#46039f"
            ],
            [
             0.2222222222222222,
             "#7201a8"
            ],
            [
             0.3333333333333333,
             "#9c179e"
            ],
            [
             0.4444444444444444,
             "#bd3786"
            ],
            [
             0.5555555555555556,
             "#d8576b"
            ],
            [
             0.6666666666666666,
             "#ed7953"
            ],
            [
             0.7777777777777778,
             "#fb9f3a"
            ],
            [
             0.8888888888888888,
             "#fdca26"
            ],
            [
             1,
             "#f0f921"
            ]
           ],
           "sequentialminus": [
            [
             0,
             "#0d0887"
            ],
            [
             0.1111111111111111,
             "#46039f"
            ],
            [
             0.2222222222222222,
             "#7201a8"
            ],
            [
             0.3333333333333333,
             "#9c179e"
            ],
            [
             0.4444444444444444,
             "#bd3786"
            ],
            [
             0.5555555555555556,
             "#d8576b"
            ],
            [
             0.6666666666666666,
             "#ed7953"
            ],
            [
             0.7777777777777778,
             "#fb9f3a"
            ],
            [
             0.8888888888888888,
             "#fdca26"
            ],
            [
             1,
             "#f0f921"
            ]
           ]
          },
          "colorway": [
           "#636efa",
           "#EF553B",
           "#00cc96",
           "#ab63fa",
           "#FFA15A",
           "#19d3f3",
           "#FF6692",
           "#B6E880",
           "#FF97FF",
           "#FECB52"
          ],
          "font": {
           "color": "#2a3f5f"
          },
          "geo": {
           "bgcolor": "white",
           "lakecolor": "white",
           "landcolor": "#E5ECF6",
           "showlakes": true,
           "showland": true,
           "subunitcolor": "white"
          },
          "hoverlabel": {
           "align": "left"
          },
          "hovermode": "closest",
          "mapbox": {
           "style": "light"
          },
          "paper_bgcolor": "white",
          "plot_bgcolor": "#E5ECF6",
          "polar": {
           "angularaxis": {
            "gridcolor": "white",
            "linecolor": "white",
            "ticks": ""
           },
           "bgcolor": "#E5ECF6",
           "radialaxis": {
            "gridcolor": "white",
            "linecolor": "white",
            "ticks": ""
           }
          },
          "scene": {
           "xaxis": {
            "backgroundcolor": "#E5ECF6",
            "gridcolor": "white",
            "gridwidth": 2,
            "linecolor": "white",
            "showbackground": true,
            "ticks": "",
            "zerolinecolor": "white"
           },
           "yaxis": {
            "backgroundcolor": "#E5ECF6",
            "gridcolor": "white",
            "gridwidth": 2,
            "linecolor": "white",
            "showbackground": true,
            "ticks": "",
            "zerolinecolor": "white"
           },
           "zaxis": {
            "backgroundcolor": "#E5ECF6",
            "gridcolor": "white",
            "gridwidth": 2,
            "linecolor": "white",
            "showbackground": true,
            "ticks": "",
            "zerolinecolor": "white"
           }
          },
          "shapedefaults": {
           "line": {
            "color": "#2a3f5f"
           }
          },
          "ternary": {
           "aaxis": {
            "gridcolor": "white",
            "linecolor": "white",
            "ticks": ""
           },
           "baxis": {
            "gridcolor": "white",
            "linecolor": "white",
            "ticks": ""
           },
           "bgcolor": "#E5ECF6",
           "caxis": {
            "gridcolor": "white",
            "linecolor": "white",
            "ticks": ""
           }
          },
          "title": {
           "x": 0.05
          },
          "xaxis": {
           "automargin": true,
           "gridcolor": "white",
           "linecolor": "white",
           "ticks": "",
           "title": {
            "standoff": 15
           },
           "zerolinecolor": "white",
           "zerolinewidth": 2
          },
          "yaxis": {
           "automargin": true,
           "gridcolor": "white",
           "linecolor": "white",
           "ticks": "",
           "title": {
            "standoff": 15
           },
           "zerolinecolor": "white",
           "zerolinewidth": 2
          }
         }
        },
        "title": {
         "text": "Policy Value and Quarters"
        },
        "xaxis": {
         "anchor": "y",
         "domain": [
          0,
          1
         ],
         "title": {
          "text": "quarter"
         }
        },
        "yaxis": {
         "anchor": "x",
         "domain": [
          0,
          1
         ],
         "title": {
          "text": "Policy Value"
         }
        }
       }
      },
      "text/html": [
       "<div>                            <div id=\"a890fcc0-10da-4e81-b054-aa49d2a90301\" class=\"plotly-graph-div\" style=\"height:525px; width:100%;\"></div>            <script type=\"text/javascript\">                require([\"plotly\"], function(Plotly) {                    window.PLOTLYENV=window.PLOTLYENV || {};                                    if (document.getElementById(\"a890fcc0-10da-4e81-b054-aa49d2a90301\")) {                    Plotly.newPlot(                        \"a890fcc0-10da-4e81-b054-aa49d2a90301\",                        [{\"hovertemplate\": \"quarter=%{x}<br>Policy Value=%{y}<extra></extra>\", \"legendgroup\": \"\", \"line\": {\"color\": \"#636efa\", \"dash\": \"solid\"}, \"mode\": \"lines\", \"name\": \"\", \"orientation\": \"v\", \"showlegend\": false, \"type\": \"scatter\", \"x\": [1, 2, 3, 4], \"xaxis\": \"x\", \"y\": [126166846.0, 119867880.0, 126482101.0, 134661190.0], \"yaxis\": \"y\"}],                        {\"legend\": {\"tracegroupgap\": 0}, \"template\": {\"data\": {\"bar\": [{\"error_x\": {\"color\": \"#2a3f5f\"}, \"error_y\": {\"color\": \"#2a3f5f\"}, \"marker\": {\"line\": {\"color\": \"#E5ECF6\", \"width\": 0.5}}, \"type\": \"bar\"}], \"barpolar\": [{\"marker\": {\"line\": {\"color\": \"#E5ECF6\", \"width\": 0.5}}, \"type\": \"barpolar\"}], \"carpet\": [{\"aaxis\": {\"endlinecolor\": \"#2a3f5f\", \"gridcolor\": \"white\", \"linecolor\": \"white\", \"minorgridcolor\": \"white\", \"startlinecolor\": \"#2a3f5f\"}, \"baxis\": {\"endlinecolor\": \"#2a3f5f\", \"gridcolor\": \"white\", \"linecolor\": \"white\", \"minorgridcolor\": \"white\", \"startlinecolor\": \"#2a3f5f\"}, \"type\": \"carpet\"}], \"choropleth\": [{\"colorbar\": {\"outlinewidth\": 0, \"ticks\": \"\"}, \"type\": \"choropleth\"}], \"contour\": [{\"colorbar\": {\"outlinewidth\": 0, \"ticks\": \"\"}, \"colorscale\": [[0.0, \"#0d0887\"], [0.1111111111111111, \"#46039f\"], [0.2222222222222222, \"#7201a8\"], [0.3333333333333333, \"#9c179e\"], [0.4444444444444444, \"#bd3786\"], [0.5555555555555556, \"#d8576b\"], [0.6666666666666666, \"#ed7953\"], [0.7777777777777778, \"#fb9f3a\"], [0.8888888888888888, \"#fdca26\"], [1.0, \"#f0f921\"]], \"type\": \"contour\"}], \"contourcarpet\": [{\"colorbar\": {\"outlinewidth\": 0, \"ticks\": \"\"}, \"type\": \"contourcarpet\"}], \"heatmap\": [{\"colorbar\": {\"outlinewidth\": 0, \"ticks\": \"\"}, \"colorscale\": [[0.0, \"#0d0887\"], [0.1111111111111111, \"#46039f\"], [0.2222222222222222, \"#7201a8\"], [0.3333333333333333, \"#9c179e\"], [0.4444444444444444, \"#bd3786\"], [0.5555555555555556, \"#d8576b\"], [0.6666666666666666, \"#ed7953\"], [0.7777777777777778, \"#fb9f3a\"], [0.8888888888888888, \"#fdca26\"], [1.0, \"#f0f921\"]], \"type\": \"heatmap\"}], \"heatmapgl\": [{\"colorbar\": {\"outlinewidth\": 0, \"ticks\": \"\"}, \"colorscale\": [[0.0, \"#0d0887\"], [0.1111111111111111, \"#46039f\"], [0.2222222222222222, \"#7201a8\"], [0.3333333333333333, \"#9c179e\"], [0.4444444444444444, \"#bd3786\"], [0.5555555555555556, \"#d8576b\"], [0.6666666666666666, \"#ed7953\"], [0.7777777777777778, \"#fb9f3a\"], [0.8888888888888888, \"#fdca26\"], [1.0, \"#f0f921\"]], \"type\": \"heatmapgl\"}], \"histogram\": [{\"marker\": {\"colorbar\": {\"outlinewidth\": 0, \"ticks\": \"\"}}, \"type\": \"histogram\"}], \"histogram2d\": [{\"colorbar\": {\"outlinewidth\": 0, \"ticks\": \"\"}, \"colorscale\": [[0.0, \"#0d0887\"], [0.1111111111111111, \"#46039f\"], [0.2222222222222222, \"#7201a8\"], [0.3333333333333333, \"#9c179e\"], [0.4444444444444444, \"#bd3786\"], [0.5555555555555556, \"#d8576b\"], [0.6666666666666666, \"#ed7953\"], [0.7777777777777778, \"#fb9f3a\"], [0.8888888888888888, \"#fdca26\"], [1.0, \"#f0f921\"]], \"type\": \"histogram2d\"}], \"histogram2dcontour\": [{\"colorbar\": {\"outlinewidth\": 0, \"ticks\": \"\"}, \"colorscale\": [[0.0, \"#0d0887\"], [0.1111111111111111, \"#46039f\"], [0.2222222222222222, \"#7201a8\"], [0.3333333333333333, \"#9c179e\"], [0.4444444444444444, \"#bd3786\"], [0.5555555555555556, \"#d8576b\"], [0.6666666666666666, \"#ed7953\"], [0.7777777777777778, \"#fb9f3a\"], [0.8888888888888888, \"#fdca26\"], [1.0, \"#f0f921\"]], \"type\": \"histogram2dcontour\"}], \"mesh3d\": [{\"colorbar\": {\"outlinewidth\": 0, \"ticks\": \"\"}, \"type\": \"mesh3d\"}], \"parcoords\": [{\"line\": {\"colorbar\": {\"outlinewidth\": 0, \"ticks\": \"\"}}, \"type\": \"parcoords\"}], \"pie\": [{\"automargin\": true, \"type\": \"pie\"}], \"scatter\": [{\"marker\": {\"colorbar\": {\"outlinewidth\": 0, \"ticks\": \"\"}}, \"type\": \"scatter\"}], \"scatter3d\": [{\"line\": {\"colorbar\": {\"outlinewidth\": 0, \"ticks\": \"\"}}, \"marker\": {\"colorbar\": {\"outlinewidth\": 0, \"ticks\": \"\"}}, \"type\": \"scatter3d\"}], \"scattercarpet\": [{\"marker\": {\"colorbar\": {\"outlinewidth\": 0, \"ticks\": \"\"}}, \"type\": \"scattercarpet\"}], \"scattergeo\": [{\"marker\": {\"colorbar\": {\"outlinewidth\": 0, \"ticks\": \"\"}}, \"type\": \"scattergeo\"}], \"scattergl\": [{\"marker\": {\"colorbar\": {\"outlinewidth\": 0, \"ticks\": \"\"}}, \"type\": \"scattergl\"}], \"scattermapbox\": [{\"marker\": {\"colorbar\": {\"outlinewidth\": 0, \"ticks\": \"\"}}, \"type\": \"scattermapbox\"}], \"scatterpolar\": [{\"marker\": {\"colorbar\": {\"outlinewidth\": 0, \"ticks\": \"\"}}, \"type\": \"scatterpolar\"}], \"scatterpolargl\": [{\"marker\": {\"colorbar\": {\"outlinewidth\": 0, \"ticks\": \"\"}}, \"type\": \"scatterpolargl\"}], \"scatterternary\": [{\"marker\": {\"colorbar\": {\"outlinewidth\": 0, \"ticks\": \"\"}}, \"type\": \"scatterternary\"}], \"surface\": [{\"colorbar\": {\"outlinewidth\": 0, \"ticks\": \"\"}, \"colorscale\": [[0.0, \"#0d0887\"], [0.1111111111111111, \"#46039f\"], [0.2222222222222222, \"#7201a8\"], [0.3333333333333333, \"#9c179e\"], [0.4444444444444444, \"#bd3786\"], [0.5555555555555556, \"#d8576b\"], [0.6666666666666666, \"#ed7953\"], [0.7777777777777778, \"#fb9f3a\"], [0.8888888888888888, \"#fdca26\"], [1.0, \"#f0f921\"]], \"type\": \"surface\"}], \"table\": [{\"cells\": {\"fill\": {\"color\": \"#EBF0F8\"}, \"line\": {\"color\": \"white\"}}, \"header\": {\"fill\": {\"color\": \"#C8D4E3\"}, \"line\": {\"color\": \"white\"}}, \"type\": \"table\"}]}, \"layout\": {\"annotationdefaults\": {\"arrowcolor\": \"#2a3f5f\", \"arrowhead\": 0, \"arrowwidth\": 1}, \"autotypenumbers\": \"strict\", \"coloraxis\": {\"colorbar\": {\"outlinewidth\": 0, \"ticks\": \"\"}}, \"colorscale\": {\"diverging\": [[0, \"#8e0152\"], [0.1, \"#c51b7d\"], [0.2, \"#de77ae\"], [0.3, \"#f1b6da\"], [0.4, \"#fde0ef\"], [0.5, \"#f7f7f7\"], [0.6, \"#e6f5d0\"], [0.7, \"#b8e186\"], [0.8, \"#7fbc41\"], [0.9, \"#4d9221\"], [1, \"#276419\"]], \"sequential\": [[0.0, \"#0d0887\"], [0.1111111111111111, \"#46039f\"], [0.2222222222222222, \"#7201a8\"], [0.3333333333333333, \"#9c179e\"], [0.4444444444444444, \"#bd3786\"], [0.5555555555555556, \"#d8576b\"], [0.6666666666666666, \"#ed7953\"], [0.7777777777777778, \"#fb9f3a\"], [0.8888888888888888, \"#fdca26\"], [1.0, \"#f0f921\"]], \"sequentialminus\": [[0.0, \"#0d0887\"], [0.1111111111111111, \"#46039f\"], [0.2222222222222222, \"#7201a8\"], [0.3333333333333333, \"#9c179e\"], [0.4444444444444444, \"#bd3786\"], [0.5555555555555556, \"#d8576b\"], [0.6666666666666666, \"#ed7953\"], [0.7777777777777778, \"#fb9f3a\"], [0.8888888888888888, \"#fdca26\"], [1.0, \"#f0f921\"]]}, \"colorway\": [\"#636efa\", \"#EF553B\", \"#00cc96\", \"#ab63fa\", \"#FFA15A\", \"#19d3f3\", \"#FF6692\", \"#B6E880\", \"#FF97FF\", \"#FECB52\"], \"font\": {\"color\": \"#2a3f5f\"}, \"geo\": {\"bgcolor\": \"white\", \"lakecolor\": \"white\", \"landcolor\": \"#E5ECF6\", \"showlakes\": true, \"showland\": true, \"subunitcolor\": \"white\"}, \"hoverlabel\": {\"align\": \"left\"}, \"hovermode\": \"closest\", \"mapbox\": {\"style\": \"light\"}, \"paper_bgcolor\": \"white\", \"plot_bgcolor\": \"#E5ECF6\", \"polar\": {\"angularaxis\": {\"gridcolor\": \"white\", \"linecolor\": \"white\", \"ticks\": \"\"}, \"bgcolor\": \"#E5ECF6\", \"radialaxis\": {\"gridcolor\": \"white\", \"linecolor\": \"white\", \"ticks\": \"\"}}, \"scene\": {\"xaxis\": {\"backgroundcolor\": \"#E5ECF6\", \"gridcolor\": \"white\", \"gridwidth\": 2, \"linecolor\": \"white\", \"showbackground\": true, \"ticks\": \"\", \"zerolinecolor\": \"white\"}, \"yaxis\": {\"backgroundcolor\": \"#E5ECF6\", \"gridcolor\": \"white\", \"gridwidth\": 2, \"linecolor\": \"white\", \"showbackground\": true, \"ticks\": \"\", \"zerolinecolor\": \"white\"}, \"zaxis\": {\"backgroundcolor\": \"#E5ECF6\", \"gridcolor\": \"white\", \"gridwidth\": 2, \"linecolor\": \"white\", \"showbackground\": true, \"ticks\": \"\", \"zerolinecolor\": \"white\"}}, \"shapedefaults\": {\"line\": {\"color\": \"#2a3f5f\"}}, \"ternary\": {\"aaxis\": {\"gridcolor\": \"white\", \"linecolor\": \"white\", \"ticks\": \"\"}, \"baxis\": {\"gridcolor\": \"white\", \"linecolor\": \"white\", \"ticks\": \"\"}, \"bgcolor\": \"#E5ECF6\", \"caxis\": {\"gridcolor\": \"white\", \"linecolor\": \"white\", \"ticks\": \"\"}}, \"title\": {\"x\": 0.05}, \"xaxis\": {\"automargin\": true, \"gridcolor\": \"white\", \"linecolor\": \"white\", \"ticks\": \"\", \"title\": {\"standoff\": 15}, \"zerolinecolor\": \"white\", \"zerolinewidth\": 2}, \"yaxis\": {\"automargin\": true, \"gridcolor\": \"white\", \"linecolor\": \"white\", \"ticks\": \"\", \"title\": {\"standoff\": 15}, \"zerolinecolor\": \"white\", \"zerolinewidth\": 2}}}, \"title\": {\"text\": \"Policy Value and Quarters\"}, \"xaxis\": {\"anchor\": \"y\", \"domain\": [0.0, 1.0], \"title\": {\"text\": \"quarter\"}}, \"yaxis\": {\"anchor\": \"x\", \"domain\": [0.0, 1.0], \"title\": {\"text\": \"Policy Value\"}}},                        {\"responsive\": true}                    ).then(function(){\n",
       "                            \n",
       "var gd = document.getElementById('a890fcc0-10da-4e81-b054-aa49d2a90301');\n",
       "var x = new MutationObserver(function (mutations, observer) {{\n",
       "        var display = window.getComputedStyle(gd).display;\n",
       "        if (!display || display === 'none') {{\n",
       "            console.log([gd, 'removed!']);\n",
       "            Plotly.purge(gd);\n",
       "            observer.disconnect();\n",
       "        }}\n",
       "}});\n",
       "\n",
       "// Listen for the removal of the full notebook cells\n",
       "var notebookContainer = gd.closest('#notebook-container');\n",
       "if (notebookContainer) {{\n",
       "    x.observe(notebookContainer, {childList: true});\n",
       "}}\n",
       "\n",
       "// Listen for the clearing of the current output cell\n",
       "var outputEl = gd.closest('.output');\n",
       "if (outputEl) {{\n",
       "    x.observe(outputEl, {childList: true});\n",
       "}}\n",
       "\n",
       "                        })                };                });            </script>        </div>"
      ]
     },
     "metadata": {},
     "output_type": "display_data"
    }
   ],
   "source": [
    "fig = px.line(time1, x=\"quarter\", y=\"Policy Value\", title='Policy Value and Quarters')\n",
    "fig.show()\n"
   ]
  },
  {
   "cell_type": "code",
   "execution_count": 356,
   "metadata": {},
   "outputs": [
    {
     "data": {
      "application/vnd.plotly.v1+json": {
       "config": {
        "plotlyServerURL": "https://plot.ly"
       },
       "data": [
        {
         "hovertemplate": "quarter=%{x}<br>Policy Number=%{y}<extra></extra>",
         "legendgroup": "",
         "line": {
          "color": "#636efa",
          "dash": "solid"
         },
         "mode": "lines",
         "name": "",
         "orientation": "v",
         "showlegend": false,
         "type": "scatter",
         "x": [
          1,
          2,
          3,
          4
         ],
         "xaxis": "x",
         "y": [
          398,
          372,
          424,
          441
         ],
         "yaxis": "y"
        }
       ],
       "layout": {
        "legend": {
         "tracegroupgap": 0
        },
        "template": {
         "data": {
          "bar": [
           {
            "error_x": {
             "color": "#2a3f5f"
            },
            "error_y": {
             "color": "#2a3f5f"
            },
            "marker": {
             "line": {
              "color": "#E5ECF6",
              "width": 0.5
             }
            },
            "type": "bar"
           }
          ],
          "barpolar": [
           {
            "marker": {
             "line": {
              "color": "#E5ECF6",
              "width": 0.5
             }
            },
            "type": "barpolar"
           }
          ],
          "carpet": [
           {
            "aaxis": {
             "endlinecolor": "#2a3f5f",
             "gridcolor": "white",
             "linecolor": "white",
             "minorgridcolor": "white",
             "startlinecolor": "#2a3f5f"
            },
            "baxis": {
             "endlinecolor": "#2a3f5f",
             "gridcolor": "white",
             "linecolor": "white",
             "minorgridcolor": "white",
             "startlinecolor": "#2a3f5f"
            },
            "type": "carpet"
           }
          ],
          "choropleth": [
           {
            "colorbar": {
             "outlinewidth": 0,
             "ticks": ""
            },
            "type": "choropleth"
           }
          ],
          "contour": [
           {
            "colorbar": {
             "outlinewidth": 0,
             "ticks": ""
            },
            "colorscale": [
             [
              0,
              "#0d0887"
             ],
             [
              0.1111111111111111,
              "#46039f"
             ],
             [
              0.2222222222222222,
              "#7201a8"
             ],
             [
              0.3333333333333333,
              "#9c179e"
             ],
             [
              0.4444444444444444,
              "#bd3786"
             ],
             [
              0.5555555555555556,
              "#d8576b"
             ],
             [
              0.6666666666666666,
              "#ed7953"
             ],
             [
              0.7777777777777778,
              "#fb9f3a"
             ],
             [
              0.8888888888888888,
              "#fdca26"
             ],
             [
              1,
              "#f0f921"
             ]
            ],
            "type": "contour"
           }
          ],
          "contourcarpet": [
           {
            "colorbar": {
             "outlinewidth": 0,
             "ticks": ""
            },
            "type": "contourcarpet"
           }
          ],
          "heatmap": [
           {
            "colorbar": {
             "outlinewidth": 0,
             "ticks": ""
            },
            "colorscale": [
             [
              0,
              "#0d0887"
             ],
             [
              0.1111111111111111,
              "#46039f"
             ],
             [
              0.2222222222222222,
              "#7201a8"
             ],
             [
              0.3333333333333333,
              "#9c179e"
             ],
             [
              0.4444444444444444,
              "#bd3786"
             ],
             [
              0.5555555555555556,
              "#d8576b"
             ],
             [
              0.6666666666666666,
              "#ed7953"
             ],
             [
              0.7777777777777778,
              "#fb9f3a"
             ],
             [
              0.8888888888888888,
              "#fdca26"
             ],
             [
              1,
              "#f0f921"
             ]
            ],
            "type": "heatmap"
           }
          ],
          "heatmapgl": [
           {
            "colorbar": {
             "outlinewidth": 0,
             "ticks": ""
            },
            "colorscale": [
             [
              0,
              "#0d0887"
             ],
             [
              0.1111111111111111,
              "#46039f"
             ],
             [
              0.2222222222222222,
              "#7201a8"
             ],
             [
              0.3333333333333333,
              "#9c179e"
             ],
             [
              0.4444444444444444,
              "#bd3786"
             ],
             [
              0.5555555555555556,
              "#d8576b"
             ],
             [
              0.6666666666666666,
              "#ed7953"
             ],
             [
              0.7777777777777778,
              "#fb9f3a"
             ],
             [
              0.8888888888888888,
              "#fdca26"
             ],
             [
              1,
              "#f0f921"
             ]
            ],
            "type": "heatmapgl"
           }
          ],
          "histogram": [
           {
            "marker": {
             "colorbar": {
              "outlinewidth": 0,
              "ticks": ""
             }
            },
            "type": "histogram"
           }
          ],
          "histogram2d": [
           {
            "colorbar": {
             "outlinewidth": 0,
             "ticks": ""
            },
            "colorscale": [
             [
              0,
              "#0d0887"
             ],
             [
              0.1111111111111111,
              "#46039f"
             ],
             [
              0.2222222222222222,
              "#7201a8"
             ],
             [
              0.3333333333333333,
              "#9c179e"
             ],
             [
              0.4444444444444444,
              "#bd3786"
             ],
             [
              0.5555555555555556,
              "#d8576b"
             ],
             [
              0.6666666666666666,
              "#ed7953"
             ],
             [
              0.7777777777777778,
              "#fb9f3a"
             ],
             [
              0.8888888888888888,
              "#fdca26"
             ],
             [
              1,
              "#f0f921"
             ]
            ],
            "type": "histogram2d"
           }
          ],
          "histogram2dcontour": [
           {
            "colorbar": {
             "outlinewidth": 0,
             "ticks": ""
            },
            "colorscale": [
             [
              0,
              "#0d0887"
             ],
             [
              0.1111111111111111,
              "#46039f"
             ],
             [
              0.2222222222222222,
              "#7201a8"
             ],
             [
              0.3333333333333333,
              "#9c179e"
             ],
             [
              0.4444444444444444,
              "#bd3786"
             ],
             [
              0.5555555555555556,
              "#d8576b"
             ],
             [
              0.6666666666666666,
              "#ed7953"
             ],
             [
              0.7777777777777778,
              "#fb9f3a"
             ],
             [
              0.8888888888888888,
              "#fdca26"
             ],
             [
              1,
              "#f0f921"
             ]
            ],
            "type": "histogram2dcontour"
           }
          ],
          "mesh3d": [
           {
            "colorbar": {
             "outlinewidth": 0,
             "ticks": ""
            },
            "type": "mesh3d"
           }
          ],
          "parcoords": [
           {
            "line": {
             "colorbar": {
              "outlinewidth": 0,
              "ticks": ""
             }
            },
            "type": "parcoords"
           }
          ],
          "pie": [
           {
            "automargin": true,
            "type": "pie"
           }
          ],
          "scatter": [
           {
            "marker": {
             "colorbar": {
              "outlinewidth": 0,
              "ticks": ""
             }
            },
            "type": "scatter"
           }
          ],
          "scatter3d": [
           {
            "line": {
             "colorbar": {
              "outlinewidth": 0,
              "ticks": ""
             }
            },
            "marker": {
             "colorbar": {
              "outlinewidth": 0,
              "ticks": ""
             }
            },
            "type": "scatter3d"
           }
          ],
          "scattercarpet": [
           {
            "marker": {
             "colorbar": {
              "outlinewidth": 0,
              "ticks": ""
             }
            },
            "type": "scattercarpet"
           }
          ],
          "scattergeo": [
           {
            "marker": {
             "colorbar": {
              "outlinewidth": 0,
              "ticks": ""
             }
            },
            "type": "scattergeo"
           }
          ],
          "scattergl": [
           {
            "marker": {
             "colorbar": {
              "outlinewidth": 0,
              "ticks": ""
             }
            },
            "type": "scattergl"
           }
          ],
          "scattermapbox": [
           {
            "marker": {
             "colorbar": {
              "outlinewidth": 0,
              "ticks": ""
             }
            },
            "type": "scattermapbox"
           }
          ],
          "scatterpolar": [
           {
            "marker": {
             "colorbar": {
              "outlinewidth": 0,
              "ticks": ""
             }
            },
            "type": "scatterpolar"
           }
          ],
          "scatterpolargl": [
           {
            "marker": {
             "colorbar": {
              "outlinewidth": 0,
              "ticks": ""
             }
            },
            "type": "scatterpolargl"
           }
          ],
          "scatterternary": [
           {
            "marker": {
             "colorbar": {
              "outlinewidth": 0,
              "ticks": ""
             }
            },
            "type": "scatterternary"
           }
          ],
          "surface": [
           {
            "colorbar": {
             "outlinewidth": 0,
             "ticks": ""
            },
            "colorscale": [
             [
              0,
              "#0d0887"
             ],
             [
              0.1111111111111111,
              "#46039f"
             ],
             [
              0.2222222222222222,
              "#7201a8"
             ],
             [
              0.3333333333333333,
              "#9c179e"
             ],
             [
              0.4444444444444444,
              "#bd3786"
             ],
             [
              0.5555555555555556,
              "#d8576b"
             ],
             [
              0.6666666666666666,
              "#ed7953"
             ],
             [
              0.7777777777777778,
              "#fb9f3a"
             ],
             [
              0.8888888888888888,
              "#fdca26"
             ],
             [
              1,
              "#f0f921"
             ]
            ],
            "type": "surface"
           }
          ],
          "table": [
           {
            "cells": {
             "fill": {
              "color": "#EBF0F8"
             },
             "line": {
              "color": "white"
             }
            },
            "header": {
             "fill": {
              "color": "#C8D4E3"
             },
             "line": {
              "color": "white"
             }
            },
            "type": "table"
           }
          ]
         },
         "layout": {
          "annotationdefaults": {
           "arrowcolor": "#2a3f5f",
           "arrowhead": 0,
           "arrowwidth": 1
          },
          "autotypenumbers": "strict",
          "coloraxis": {
           "colorbar": {
            "outlinewidth": 0,
            "ticks": ""
           }
          },
          "colorscale": {
           "diverging": [
            [
             0,
             "#8e0152"
            ],
            [
             0.1,
             "#c51b7d"
            ],
            [
             0.2,
             "#de77ae"
            ],
            [
             0.3,
             "#f1b6da"
            ],
            [
             0.4,
             "#fde0ef"
            ],
            [
             0.5,
             "#f7f7f7"
            ],
            [
             0.6,
             "#e6f5d0"
            ],
            [
             0.7,
             "#b8e186"
            ],
            [
             0.8,
             "#7fbc41"
            ],
            [
             0.9,
             "#4d9221"
            ],
            [
             1,
             "#276419"
            ]
           ],
           "sequential": [
            [
             0,
             "#0d0887"
            ],
            [
             0.1111111111111111,
             "#46039f"
            ],
            [
             0.2222222222222222,
             "#7201a8"
            ],
            [
             0.3333333333333333,
             "#9c179e"
            ],
            [
             0.4444444444444444,
             "#bd3786"
            ],
            [
             0.5555555555555556,
             "#d8576b"
            ],
            [
             0.6666666666666666,
             "#ed7953"
            ],
            [
             0.7777777777777778,
             "#fb9f3a"
            ],
            [
             0.8888888888888888,
             "#fdca26"
            ],
            [
             1,
             "#f0f921"
            ]
           ],
           "sequentialminus": [
            [
             0,
             "#0d0887"
            ],
            [
             0.1111111111111111,
             "#46039f"
            ],
            [
             0.2222222222222222,
             "#7201a8"
            ],
            [
             0.3333333333333333,
             "#9c179e"
            ],
            [
             0.4444444444444444,
             "#bd3786"
            ],
            [
             0.5555555555555556,
             "#d8576b"
            ],
            [
             0.6666666666666666,
             "#ed7953"
            ],
            [
             0.7777777777777778,
             "#fb9f3a"
            ],
            [
             0.8888888888888888,
             "#fdca26"
            ],
            [
             1,
             "#f0f921"
            ]
           ]
          },
          "colorway": [
           "#636efa",
           "#EF553B",
           "#00cc96",
           "#ab63fa",
           "#FFA15A",
           "#19d3f3",
           "#FF6692",
           "#B6E880",
           "#FF97FF",
           "#FECB52"
          ],
          "font": {
           "color": "#2a3f5f"
          },
          "geo": {
           "bgcolor": "white",
           "lakecolor": "white",
           "landcolor": "#E5ECF6",
           "showlakes": true,
           "showland": true,
           "subunitcolor": "white"
          },
          "hoverlabel": {
           "align": "left"
          },
          "hovermode": "closest",
          "mapbox": {
           "style": "light"
          },
          "paper_bgcolor": "white",
          "plot_bgcolor": "#E5ECF6",
          "polar": {
           "angularaxis": {
            "gridcolor": "white",
            "linecolor": "white",
            "ticks": ""
           },
           "bgcolor": "#E5ECF6",
           "radialaxis": {
            "gridcolor": "white",
            "linecolor": "white",
            "ticks": ""
           }
          },
          "scene": {
           "xaxis": {
            "backgroundcolor": "#E5ECF6",
            "gridcolor": "white",
            "gridwidth": 2,
            "linecolor": "white",
            "showbackground": true,
            "ticks": "",
            "zerolinecolor": "white"
           },
           "yaxis": {
            "backgroundcolor": "#E5ECF6",
            "gridcolor": "white",
            "gridwidth": 2,
            "linecolor": "white",
            "showbackground": true,
            "ticks": "",
            "zerolinecolor": "white"
           },
           "zaxis": {
            "backgroundcolor": "#E5ECF6",
            "gridcolor": "white",
            "gridwidth": 2,
            "linecolor": "white",
            "showbackground": true,
            "ticks": "",
            "zerolinecolor": "white"
           }
          },
          "shapedefaults": {
           "line": {
            "color": "#2a3f5f"
           }
          },
          "ternary": {
           "aaxis": {
            "gridcolor": "white",
            "linecolor": "white",
            "ticks": ""
           },
           "baxis": {
            "gridcolor": "white",
            "linecolor": "white",
            "ticks": ""
           },
           "bgcolor": "#E5ECF6",
           "caxis": {
            "gridcolor": "white",
            "linecolor": "white",
            "ticks": ""
           }
          },
          "title": {
           "x": 0.05
          },
          "xaxis": {
           "automargin": true,
           "gridcolor": "white",
           "linecolor": "white",
           "ticks": "",
           "title": {
            "standoff": 15
           },
           "zerolinecolor": "white",
           "zerolinewidth": 2
          },
          "yaxis": {
           "automargin": true,
           "gridcolor": "white",
           "linecolor": "white",
           "ticks": "",
           "title": {
            "standoff": 15
           },
           "zerolinecolor": "white",
           "zerolinewidth": 2
          }
         }
        },
        "title": {
         "text": "New Policies by Quarter"
        },
        "xaxis": {
         "anchor": "y",
         "domain": [
          0,
          1
         ],
         "title": {
          "text": "quarter"
         }
        },
        "yaxis": {
         "anchor": "x",
         "domain": [
          0,
          1
         ],
         "title": {
          "text": "Policy Number"
         }
        }
       }
      },
      "text/html": [
       "<div>                            <div id=\"a2350291-5d87-4bae-90aa-4aef20061095\" class=\"plotly-graph-div\" style=\"height:525px; width:100%;\"></div>            <script type=\"text/javascript\">                require([\"plotly\"], function(Plotly) {                    window.PLOTLYENV=window.PLOTLYENV || {};                                    if (document.getElementById(\"a2350291-5d87-4bae-90aa-4aef20061095\")) {                    Plotly.newPlot(                        \"a2350291-5d87-4bae-90aa-4aef20061095\",                        [{\"hovertemplate\": \"quarter=%{x}<br>Policy Number=%{y}<extra></extra>\", \"legendgroup\": \"\", \"line\": {\"color\": \"#636efa\", \"dash\": \"solid\"}, \"mode\": \"lines\", \"name\": \"\", \"orientation\": \"v\", \"showlegend\": false, \"type\": \"scatter\", \"x\": [1, 2, 3, 4], \"xaxis\": \"x\", \"y\": [398, 372, 424, 441], \"yaxis\": \"y\"}],                        {\"legend\": {\"tracegroupgap\": 0}, \"template\": {\"data\": {\"bar\": [{\"error_x\": {\"color\": \"#2a3f5f\"}, \"error_y\": {\"color\": \"#2a3f5f\"}, \"marker\": {\"line\": {\"color\": \"#E5ECF6\", \"width\": 0.5}}, \"type\": \"bar\"}], \"barpolar\": [{\"marker\": {\"line\": {\"color\": \"#E5ECF6\", \"width\": 0.5}}, \"type\": \"barpolar\"}], \"carpet\": [{\"aaxis\": {\"endlinecolor\": \"#2a3f5f\", \"gridcolor\": \"white\", \"linecolor\": \"white\", \"minorgridcolor\": \"white\", \"startlinecolor\": \"#2a3f5f\"}, \"baxis\": {\"endlinecolor\": \"#2a3f5f\", \"gridcolor\": \"white\", \"linecolor\": \"white\", \"minorgridcolor\": \"white\", \"startlinecolor\": \"#2a3f5f\"}, \"type\": \"carpet\"}], \"choropleth\": [{\"colorbar\": {\"outlinewidth\": 0, \"ticks\": \"\"}, \"type\": \"choropleth\"}], \"contour\": [{\"colorbar\": {\"outlinewidth\": 0, \"ticks\": \"\"}, \"colorscale\": [[0.0, \"#0d0887\"], [0.1111111111111111, \"#46039f\"], [0.2222222222222222, \"#7201a8\"], [0.3333333333333333, \"#9c179e\"], [0.4444444444444444, \"#bd3786\"], [0.5555555555555556, \"#d8576b\"], [0.6666666666666666, \"#ed7953\"], [0.7777777777777778, \"#fb9f3a\"], [0.8888888888888888, \"#fdca26\"], [1.0, \"#f0f921\"]], \"type\": \"contour\"}], \"contourcarpet\": [{\"colorbar\": {\"outlinewidth\": 0, \"ticks\": \"\"}, \"type\": \"contourcarpet\"}], \"heatmap\": [{\"colorbar\": {\"outlinewidth\": 0, \"ticks\": \"\"}, \"colorscale\": [[0.0, \"#0d0887\"], [0.1111111111111111, \"#46039f\"], [0.2222222222222222, \"#7201a8\"], [0.3333333333333333, \"#9c179e\"], [0.4444444444444444, \"#bd3786\"], [0.5555555555555556, \"#d8576b\"], [0.6666666666666666, \"#ed7953\"], [0.7777777777777778, \"#fb9f3a\"], [0.8888888888888888, \"#fdca26\"], [1.0, \"#f0f921\"]], \"type\": \"heatmap\"}], \"heatmapgl\": [{\"colorbar\": {\"outlinewidth\": 0, \"ticks\": \"\"}, \"colorscale\": [[0.0, \"#0d0887\"], [0.1111111111111111, \"#46039f\"], [0.2222222222222222, \"#7201a8\"], [0.3333333333333333, \"#9c179e\"], [0.4444444444444444, \"#bd3786\"], [0.5555555555555556, \"#d8576b\"], [0.6666666666666666, \"#ed7953\"], [0.7777777777777778, \"#fb9f3a\"], [0.8888888888888888, \"#fdca26\"], [1.0, \"#f0f921\"]], \"type\": \"heatmapgl\"}], \"histogram\": [{\"marker\": {\"colorbar\": {\"outlinewidth\": 0, \"ticks\": \"\"}}, \"type\": \"histogram\"}], \"histogram2d\": [{\"colorbar\": {\"outlinewidth\": 0, \"ticks\": \"\"}, \"colorscale\": [[0.0, \"#0d0887\"], [0.1111111111111111, \"#46039f\"], [0.2222222222222222, \"#7201a8\"], [0.3333333333333333, \"#9c179e\"], [0.4444444444444444, \"#bd3786\"], [0.5555555555555556, \"#d8576b\"], [0.6666666666666666, \"#ed7953\"], [0.7777777777777778, \"#fb9f3a\"], [0.8888888888888888, \"#fdca26\"], [1.0, \"#f0f921\"]], \"type\": \"histogram2d\"}], \"histogram2dcontour\": [{\"colorbar\": {\"outlinewidth\": 0, \"ticks\": \"\"}, \"colorscale\": [[0.0, \"#0d0887\"], [0.1111111111111111, \"#46039f\"], [0.2222222222222222, \"#7201a8\"], [0.3333333333333333, \"#9c179e\"], [0.4444444444444444, \"#bd3786\"], [0.5555555555555556, \"#d8576b\"], [0.6666666666666666, \"#ed7953\"], [0.7777777777777778, \"#fb9f3a\"], [0.8888888888888888, \"#fdca26\"], [1.0, \"#f0f921\"]], \"type\": \"histogram2dcontour\"}], \"mesh3d\": [{\"colorbar\": {\"outlinewidth\": 0, \"ticks\": \"\"}, \"type\": \"mesh3d\"}], \"parcoords\": [{\"line\": {\"colorbar\": {\"outlinewidth\": 0, \"ticks\": \"\"}}, \"type\": \"parcoords\"}], \"pie\": [{\"automargin\": true, \"type\": \"pie\"}], \"scatter\": [{\"marker\": {\"colorbar\": {\"outlinewidth\": 0, \"ticks\": \"\"}}, \"type\": \"scatter\"}], \"scatter3d\": [{\"line\": {\"colorbar\": {\"outlinewidth\": 0, \"ticks\": \"\"}}, \"marker\": {\"colorbar\": {\"outlinewidth\": 0, \"ticks\": \"\"}}, \"type\": \"scatter3d\"}], \"scattercarpet\": [{\"marker\": {\"colorbar\": {\"outlinewidth\": 0, \"ticks\": \"\"}}, \"type\": \"scattercarpet\"}], \"scattergeo\": [{\"marker\": {\"colorbar\": {\"outlinewidth\": 0, \"ticks\": \"\"}}, \"type\": \"scattergeo\"}], \"scattergl\": [{\"marker\": {\"colorbar\": {\"outlinewidth\": 0, \"ticks\": \"\"}}, \"type\": \"scattergl\"}], \"scattermapbox\": [{\"marker\": {\"colorbar\": {\"outlinewidth\": 0, \"ticks\": \"\"}}, \"type\": \"scattermapbox\"}], \"scatterpolar\": [{\"marker\": {\"colorbar\": {\"outlinewidth\": 0, \"ticks\": \"\"}}, \"type\": \"scatterpolar\"}], \"scatterpolargl\": [{\"marker\": {\"colorbar\": {\"outlinewidth\": 0, \"ticks\": \"\"}}, \"type\": \"scatterpolargl\"}], \"scatterternary\": [{\"marker\": {\"colorbar\": {\"outlinewidth\": 0, \"ticks\": \"\"}}, \"type\": \"scatterternary\"}], \"surface\": [{\"colorbar\": {\"outlinewidth\": 0, \"ticks\": \"\"}, \"colorscale\": [[0.0, \"#0d0887\"], [0.1111111111111111, \"#46039f\"], [0.2222222222222222, \"#7201a8\"], [0.3333333333333333, \"#9c179e\"], [0.4444444444444444, \"#bd3786\"], [0.5555555555555556, \"#d8576b\"], [0.6666666666666666, \"#ed7953\"], [0.7777777777777778, \"#fb9f3a\"], [0.8888888888888888, \"#fdca26\"], [1.0, \"#f0f921\"]], \"type\": \"surface\"}], \"table\": [{\"cells\": {\"fill\": {\"color\": \"#EBF0F8\"}, \"line\": {\"color\": \"white\"}}, \"header\": {\"fill\": {\"color\": \"#C8D4E3\"}, \"line\": {\"color\": \"white\"}}, \"type\": \"table\"}]}, \"layout\": {\"annotationdefaults\": {\"arrowcolor\": \"#2a3f5f\", \"arrowhead\": 0, \"arrowwidth\": 1}, \"autotypenumbers\": \"strict\", \"coloraxis\": {\"colorbar\": {\"outlinewidth\": 0, \"ticks\": \"\"}}, \"colorscale\": {\"diverging\": [[0, \"#8e0152\"], [0.1, \"#c51b7d\"], [0.2, \"#de77ae\"], [0.3, \"#f1b6da\"], [0.4, \"#fde0ef\"], [0.5, \"#f7f7f7\"], [0.6, \"#e6f5d0\"], [0.7, \"#b8e186\"], [0.8, \"#7fbc41\"], [0.9, \"#4d9221\"], [1, \"#276419\"]], \"sequential\": [[0.0, \"#0d0887\"], [0.1111111111111111, \"#46039f\"], [0.2222222222222222, \"#7201a8\"], [0.3333333333333333, \"#9c179e\"], [0.4444444444444444, \"#bd3786\"], [0.5555555555555556, \"#d8576b\"], [0.6666666666666666, \"#ed7953\"], [0.7777777777777778, \"#fb9f3a\"], [0.8888888888888888, \"#fdca26\"], [1.0, \"#f0f921\"]], \"sequentialminus\": [[0.0, \"#0d0887\"], [0.1111111111111111, \"#46039f\"], [0.2222222222222222, \"#7201a8\"], [0.3333333333333333, \"#9c179e\"], [0.4444444444444444, \"#bd3786\"], [0.5555555555555556, \"#d8576b\"], [0.6666666666666666, \"#ed7953\"], [0.7777777777777778, \"#fb9f3a\"], [0.8888888888888888, \"#fdca26\"], [1.0, \"#f0f921\"]]}, \"colorway\": [\"#636efa\", \"#EF553B\", \"#00cc96\", \"#ab63fa\", \"#FFA15A\", \"#19d3f3\", \"#FF6692\", \"#B6E880\", \"#FF97FF\", \"#FECB52\"], \"font\": {\"color\": \"#2a3f5f\"}, \"geo\": {\"bgcolor\": \"white\", \"lakecolor\": \"white\", \"landcolor\": \"#E5ECF6\", \"showlakes\": true, \"showland\": true, \"subunitcolor\": \"white\"}, \"hoverlabel\": {\"align\": \"left\"}, \"hovermode\": \"closest\", \"mapbox\": {\"style\": \"light\"}, \"paper_bgcolor\": \"white\", \"plot_bgcolor\": \"#E5ECF6\", \"polar\": {\"angularaxis\": {\"gridcolor\": \"white\", \"linecolor\": \"white\", \"ticks\": \"\"}, \"bgcolor\": \"#E5ECF6\", \"radialaxis\": {\"gridcolor\": \"white\", \"linecolor\": \"white\", \"ticks\": \"\"}}, \"scene\": {\"xaxis\": {\"backgroundcolor\": \"#E5ECF6\", \"gridcolor\": \"white\", \"gridwidth\": 2, \"linecolor\": \"white\", \"showbackground\": true, \"ticks\": \"\", \"zerolinecolor\": \"white\"}, \"yaxis\": {\"backgroundcolor\": \"#E5ECF6\", \"gridcolor\": \"white\", \"gridwidth\": 2, \"linecolor\": \"white\", \"showbackground\": true, \"ticks\": \"\", \"zerolinecolor\": \"white\"}, \"zaxis\": {\"backgroundcolor\": \"#E5ECF6\", \"gridcolor\": \"white\", \"gridwidth\": 2, \"linecolor\": \"white\", \"showbackground\": true, \"ticks\": \"\", \"zerolinecolor\": \"white\"}}, \"shapedefaults\": {\"line\": {\"color\": \"#2a3f5f\"}}, \"ternary\": {\"aaxis\": {\"gridcolor\": \"white\", \"linecolor\": \"white\", \"ticks\": \"\"}, \"baxis\": {\"gridcolor\": \"white\", \"linecolor\": \"white\", \"ticks\": \"\"}, \"bgcolor\": \"#E5ECF6\", \"caxis\": {\"gridcolor\": \"white\", \"linecolor\": \"white\", \"ticks\": \"\"}}, \"title\": {\"x\": 0.05}, \"xaxis\": {\"automargin\": true, \"gridcolor\": \"white\", \"linecolor\": \"white\", \"ticks\": \"\", \"title\": {\"standoff\": 15}, \"zerolinecolor\": \"white\", \"zerolinewidth\": 2}, \"yaxis\": {\"automargin\": true, \"gridcolor\": \"white\", \"linecolor\": \"white\", \"ticks\": \"\", \"title\": {\"standoff\": 15}, \"zerolinecolor\": \"white\", \"zerolinewidth\": 2}}}, \"title\": {\"text\": \"New Policies by Quarter\"}, \"xaxis\": {\"anchor\": \"y\", \"domain\": [0.0, 1.0], \"title\": {\"text\": \"quarter\"}}, \"yaxis\": {\"anchor\": \"x\", \"domain\": [0.0, 1.0], \"title\": {\"text\": \"Policy Number\"}}},                        {\"responsive\": true}                    ).then(function(){\n",
       "                            \n",
       "var gd = document.getElementById('a2350291-5d87-4bae-90aa-4aef20061095');\n",
       "var x = new MutationObserver(function (mutations, observer) {{\n",
       "        var display = window.getComputedStyle(gd).display;\n",
       "        if (!display || display === 'none') {{\n",
       "            console.log([gd, 'removed!']);\n",
       "            Plotly.purge(gd);\n",
       "            observer.disconnect();\n",
       "        }}\n",
       "}});\n",
       "\n",
       "// Listen for the removal of the full notebook cells\n",
       "var notebookContainer = gd.closest('#notebook-container');\n",
       "if (notebookContainer) {{\n",
       "    x.observe(notebookContainer, {childList: true});\n",
       "}}\n",
       "\n",
       "// Listen for the clearing of the current output cell\n",
       "var outputEl = gd.closest('.output');\n",
       "if (outputEl) {{\n",
       "    x.observe(outputEl, {childList: true});\n",
       "}}\n",
       "\n",
       "                        })                };                });            </script>        </div>"
      ]
     },
     "metadata": {},
     "output_type": "display_data"
    }
   ],
   "source": [
    "fig = px.line(time1, x=\"quarter\", y=\"Policy Number\", title='New Policies by Quarter')\n",
    "fig.show()\n"
   ]
  },
  {
   "cell_type": "markdown",
   "metadata": {},
   "source": [
    "# Visuals to understand Policy Value on customers demogrphics"
   ]
  },
  {
   "cell_type": "code",
   "execution_count": 216,
   "metadata": {
    "scrolled": false
   },
   "outputs": [
    {
     "data": {
      "application/vnd.plotly.v1+json": {
       "config": {
        "plotlyServerURL": "https://plot.ly"
       },
       "data": [
        {
         "alignmentgroup": "True",
         "bingroup": "x",
         "hovertemplate": "Gender=%{x}<br>count=%{y}<extra></extra>",
         "legendgroup": "Male",
         "marker": {
          "color": "#636efa"
         },
         "name": "Male",
         "offsetgroup": "Male",
         "orientation": "v",
         "showlegend": true,
         "type": "histogram",
         "x": [
          "Male",
          "Male",
          "Male",
          "Male",
          "Male",
          "Male",
          "Male",
          "Male",
          "Male",
          "Male",
          "Male",
          "Male",
          "Male",
          "Male",
          "Male",
          "Male",
          "Male",
          "Male",
          "Male",
          "Male",
          "Male",
          "Male",
          "Male",
          "Male",
          "Male",
          "Male",
          "Male",
          "Male",
          "Male",
          "Male",
          "Male",
          "Male",
          "Male",
          "Male",
          "Male",
          "Male",
          "Male",
          "Male",
          "Male",
          "Male",
          "Male",
          "Male",
          "Male",
          "Male",
          "Male",
          "Male",
          "Male",
          "Male",
          "Male",
          "Male",
          "Male",
          "Male",
          "Male",
          "Male",
          "Male",
          "Male",
          "Male",
          "Male",
          "Male",
          "Male",
          "Male",
          "Male",
          "Male",
          "Male",
          "Male",
          "Male",
          "Male",
          "Male",
          "Male",
          "Male",
          "Male",
          "Male",
          "Male",
          "Male",
          "Male",
          "Male",
          "Male",
          "Male",
          "Male",
          "Male",
          "Male",
          "Male",
          "Male",
          "Male",
          "Male",
          "Male",
          "Male",
          "Male",
          "Male",
          "Male",
          "Male",
          "Male",
          "Male",
          "Male",
          "Male",
          "Male",
          "Male",
          "Male",
          "Male",
          "Male",
          "Male",
          "Male",
          "Male",
          "Male",
          "Male",
          "Male",
          "Male",
          "Male",
          "Male",
          "Male",
          "Male",
          "Male",
          "Male",
          "Male",
          "Male",
          "Male",
          "Male",
          "Male",
          "Male",
          "Male",
          "Male",
          "Male",
          "Male",
          "Male",
          "Male",
          "Male",
          "Male",
          "Male",
          "Male",
          "Male",
          "Male",
          "Male",
          "Male",
          "Male",
          "Male",
          "Male",
          "Male",
          "Male",
          "Male",
          "Male",
          "Male",
          "Male",
          "Male",
          "Male",
          "Male",
          "Male",
          "Male",
          "Male",
          "Male",
          "Male",
          "Male",
          "Male",
          "Male",
          "Male",
          "Male",
          "Male",
          "Male",
          "Male",
          "Male",
          "Male",
          "Male",
          "Male",
          "Male",
          "Male",
          "Male",
          "Male",
          "Male",
          "Male",
          "Male",
          "Male",
          "Male",
          "Male",
          "Male",
          "Male",
          "Male",
          "Male",
          "Male",
          "Male",
          "Male",
          "Male",
          "Male",
          "Male",
          "Male",
          "Male",
          "Male",
          "Male",
          "Male",
          "Male",
          "Male",
          "Male",
          "Male",
          "Male",
          "Male",
          "Male",
          "Male",
          "Male",
          "Male",
          "Male",
          "Male",
          "Male",
          "Male",
          "Male",
          "Male",
          "Male",
          "Male",
          "Male",
          "Male",
          "Male",
          "Male",
          "Male",
          "Male",
          "Male",
          "Male",
          "Male",
          "Male",
          "Male",
          "Male",
          "Male",
          "Male",
          "Male",
          "Male",
          "Male",
          "Male",
          "Male",
          "Male",
          "Male",
          "Male",
          "Male",
          "Male",
          "Male",
          "Male",
          "Male",
          "Male",
          "Male",
          "Male",
          "Male",
          "Male",
          "Male",
          "Male",
          "Male",
          "Male",
          "Male",
          "Male",
          "Male",
          "Male",
          "Male",
          "Male",
          "Male",
          "Male",
          "Male",
          "Male",
          "Male",
          "Male",
          "Male",
          "Male",
          "Male",
          "Male",
          "Male",
          "Male",
          "Male",
          "Male",
          "Male",
          "Male",
          "Male",
          "Male",
          "Male",
          "Male",
          "Male",
          "Male",
          "Male",
          "Male",
          "Male",
          "Male",
          "Male",
          "Male",
          "Male",
          "Male",
          "Male",
          "Male",
          "Male",
          "Male",
          "Male",
          "Male",
          "Male",
          "Male",
          "Male",
          "Male",
          "Male",
          "Male",
          "Male",
          "Male",
          "Male",
          "Male",
          "Male",
          "Male",
          "Male",
          "Male",
          "Male",
          "Male",
          "Male",
          "Male",
          "Male",
          "Male",
          "Male",
          "Male",
          "Male",
          "Male",
          "Male",
          "Male",
          "Male",
          "Male",
          "Male",
          "Male",
          "Male",
          "Male",
          "Male",
          "Male",
          "Male",
          "Male",
          "Male",
          "Male",
          "Male",
          "Male",
          "Male",
          "Male",
          "Male",
          "Male",
          "Male",
          "Male",
          "Male",
          "Male",
          "Male",
          "Male",
          "Male",
          "Male",
          "Male",
          "Male",
          "Male",
          "Male",
          "Male",
          "Male",
          "Male",
          "Male",
          "Male",
          "Male",
          "Male",
          "Male",
          "Male",
          "Male",
          "Male",
          "Male",
          "Male",
          "Male",
          "Male",
          "Male",
          "Male",
          "Male",
          "Male",
          "Male",
          "Male",
          "Male",
          "Male",
          "Male",
          "Male",
          "Male",
          "Male",
          "Male",
          "Male",
          "Male",
          "Male",
          "Male",
          "Male",
          "Male",
          "Male",
          "Male",
          "Male",
          "Male",
          "Male",
          "Male",
          "Male",
          "Male",
          "Male",
          "Male",
          "Male",
          "Male",
          "Male",
          "Male",
          "Male",
          "Male",
          "Male",
          "Male",
          "Male",
          "Male",
          "Male",
          "Male",
          "Male",
          "Male",
          "Male",
          "Male",
          "Male",
          "Male",
          "Male",
          "Male",
          "Male",
          "Male",
          "Male",
          "Male",
          "Male",
          "Male",
          "Male",
          "Male",
          "Male",
          "Male",
          "Male",
          "Male",
          "Male",
          "Male",
          "Male",
          "Male",
          "Male",
          "Male",
          "Male",
          "Male",
          "Male",
          "Male",
          "Male",
          "Male",
          "Male",
          "Male",
          "Male",
          "Male",
          "Male",
          "Male",
          "Male",
          "Male",
          "Male",
          "Male",
          "Male",
          "Male",
          "Male",
          "Male",
          "Male",
          "Male",
          "Male",
          "Male",
          "Male",
          "Male",
          "Male",
          "Male",
          "Male",
          "Male",
          "Male",
          "Male",
          "Male",
          "Male",
          "Male",
          "Male",
          "Male",
          "Male",
          "Male",
          "Male",
          "Male",
          "Male",
          "Male",
          "Male",
          "Male",
          "Male",
          "Male",
          "Male",
          "Male",
          "Male",
          "Male",
          "Male",
          "Male",
          "Male",
          "Male",
          "Male",
          "Male",
          "Male",
          "Male",
          "Male",
          "Male",
          "Male",
          "Male",
          "Male",
          "Male",
          "Male",
          "Male",
          "Male",
          "Male",
          "Male",
          "Male",
          "Male",
          "Male",
          "Male",
          "Male",
          "Male",
          "Male",
          "Male",
          "Male",
          "Male",
          "Male",
          "Male",
          "Male",
          "Male",
          "Male",
          "Male",
          "Male",
          "Male"
         ],
         "xaxis": "x",
         "yaxis": "y"
        },
        {
         "alignmentgroup": "True",
         "bingroup": "x",
         "hovertemplate": "Gender=%{x}<br>count=%{y}<extra></extra>",
         "legendgroup": "Female",
         "marker": {
          "color": "#EF553B"
         },
         "name": "Female",
         "offsetgroup": "Female",
         "orientation": "v",
         "showlegend": true,
         "type": "histogram",
         "x": [
          "Female",
          "Female",
          "Female",
          "Female",
          "Female",
          "Female",
          "Female",
          "Female",
          "Female",
          "Female",
          "Female",
          "Female",
          "Female",
          "Female",
          "Female",
          "Female",
          "Female",
          "Female",
          "Female",
          "Female",
          "Female",
          "Female",
          "Female",
          "Female",
          "Female",
          "Female",
          "Female",
          "Female",
          "Female",
          "Female",
          "Female",
          "Female",
          "Female",
          "Female",
          "Female",
          "Female",
          "Female",
          "Female",
          "Female",
          "Female",
          "Female",
          "Female",
          "Female",
          "Female",
          "Female",
          "Female",
          "Female",
          "Female",
          "Female",
          "Female",
          "Female",
          "Female",
          "Female",
          "Female",
          "Female",
          "Female",
          "Female",
          "Female",
          "Female",
          "Female",
          "Female",
          "Female",
          "Female",
          "Female",
          "Female",
          "Female",
          "Female",
          "Female",
          "Female",
          "Female",
          "Female",
          "Female",
          "Female",
          "Female",
          "Female",
          "Female",
          "Female",
          "Female",
          "Female",
          "Female",
          "Female",
          "Female",
          "Female",
          "Female",
          "Female",
          "Female",
          "Female",
          "Female",
          "Female",
          "Female",
          "Female",
          "Female",
          "Female",
          "Female",
          "Female",
          "Female",
          "Female",
          "Female",
          "Female",
          "Female",
          "Female",
          "Female",
          "Female",
          "Female",
          "Female",
          "Female",
          "Female",
          "Female",
          "Female",
          "Female",
          "Female",
          "Female",
          "Female",
          "Female",
          "Female",
          "Female",
          "Female",
          "Female",
          "Female",
          "Female",
          "Female",
          "Female",
          "Female",
          "Female",
          "Female",
          "Female",
          "Female",
          "Female",
          "Female",
          "Female",
          "Female",
          "Female",
          "Female",
          "Female",
          "Female",
          "Female",
          "Female",
          "Female",
          "Female",
          "Female",
          "Female",
          "Female",
          "Female",
          "Female",
          "Female",
          "Female",
          "Female",
          "Female",
          "Female",
          "Female",
          "Female",
          "Female",
          "Female",
          "Female",
          "Female",
          "Female",
          "Female",
          "Female",
          "Female",
          "Female",
          "Female",
          "Female",
          "Female",
          "Female",
          "Female",
          "Female",
          "Female",
          "Female",
          "Female",
          "Female",
          "Female",
          "Female",
          "Female",
          "Female",
          "Female",
          "Female",
          "Female",
          "Female",
          "Female",
          "Female",
          "Female",
          "Female",
          "Female",
          "Female",
          "Female",
          "Female",
          "Female",
          "Female",
          "Female",
          "Female",
          "Female",
          "Female",
          "Female",
          "Female",
          "Female",
          "Female",
          "Female",
          "Female",
          "Female",
          "Female",
          "Female",
          "Female",
          "Female",
          "Female",
          "Female",
          "Female",
          "Female",
          "Female",
          "Female",
          "Female",
          "Female",
          "Female",
          "Female",
          "Female",
          "Female",
          "Female",
          "Female",
          "Female",
          "Female",
          "Female",
          "Female",
          "Female",
          "Female",
          "Female",
          "Female",
          "Female",
          "Female",
          "Female",
          "Female",
          "Female",
          "Female",
          "Female",
          "Female",
          "Female",
          "Female",
          "Female",
          "Female",
          "Female",
          "Female",
          "Female",
          "Female",
          "Female",
          "Female",
          "Female",
          "Female",
          "Female",
          "Female",
          "Female",
          "Female",
          "Female",
          "Female",
          "Female",
          "Female",
          "Female",
          "Female",
          "Female",
          "Female",
          "Female",
          "Female",
          "Female",
          "Female",
          "Female",
          "Female",
          "Female",
          "Female",
          "Female",
          "Female",
          "Female",
          "Female",
          "Female",
          "Female",
          "Female",
          "Female",
          "Female",
          "Female",
          "Female",
          "Female",
          "Female",
          "Female",
          "Female",
          "Female",
          "Female",
          "Female",
          "Female",
          "Female",
          "Female",
          "Female",
          "Female",
          "Female",
          "Female",
          "Female",
          "Female",
          "Female",
          "Female",
          "Female",
          "Female",
          "Female",
          "Female",
          "Female",
          "Female",
          "Female",
          "Female",
          "Female",
          "Female",
          "Female",
          "Female",
          "Female",
          "Female",
          "Female",
          "Female",
          "Female",
          "Female",
          "Female",
          "Female",
          "Female",
          "Female",
          "Female",
          "Female",
          "Female",
          "Female",
          "Female",
          "Female",
          "Female",
          "Female",
          "Female",
          "Female",
          "Female",
          "Female",
          "Female",
          "Female",
          "Female",
          "Female",
          "Female",
          "Female",
          "Female",
          "Female",
          "Female",
          "Female",
          "Female",
          "Female",
          "Female",
          "Female",
          "Female",
          "Female",
          "Female",
          "Female",
          "Female",
          "Female",
          "Female",
          "Female",
          "Female",
          "Female",
          "Female",
          "Female",
          "Female",
          "Female",
          "Female",
          "Female",
          "Female",
          "Female",
          "Female",
          "Female",
          "Female",
          "Female",
          "Female",
          "Female",
          "Female",
          "Female",
          "Female",
          "Female",
          "Female",
          "Female",
          "Female",
          "Female",
          "Female",
          "Female",
          "Female",
          "Female",
          "Female",
          "Female",
          "Female",
          "Female",
          "Female",
          "Female",
          "Female",
          "Female",
          "Female",
          "Female",
          "Female",
          "Female",
          "Female",
          "Female",
          "Female",
          "Female",
          "Female",
          "Female",
          "Female",
          "Female",
          "Female",
          "Female",
          "Female",
          "Female",
          "Female",
          "Female",
          "Female",
          "Female",
          "Female",
          "Female",
          "Female",
          "Female",
          "Female",
          "Female",
          "Female",
          "Female",
          "Female",
          "Female",
          "Female",
          "Female",
          "Female",
          "Female",
          "Female",
          "Female",
          "Female",
          "Female",
          "Female",
          "Female",
          "Female",
          "Female",
          "Female",
          "Female",
          "Female",
          "Female",
          "Female",
          "Female",
          "Female",
          "Female",
          "Female",
          "Female",
          "Female",
          "Female",
          "Female",
          "Female",
          "Female",
          "Female",
          "Female",
          "Female",
          "Female",
          "Female",
          "Female",
          "Female",
          "Female",
          "Female",
          "Female",
          "Female",
          "Female",
          "Female",
          "Female",
          "Female",
          "Female",
          "Female",
          "Female",
          "Female",
          "Female",
          "Female",
          "Female",
          "Female",
          "Female",
          "Female",
          "Female",
          "Female",
          "Female",
          "Female",
          "Female",
          "Female",
          "Female",
          "Female",
          "Female",
          "Female",
          "Female",
          "Female",
          "Female",
          "Female",
          "Female",
          "Female",
          "Female",
          "Female",
          "Female",
          "Female",
          "Female",
          "Female"
         ],
         "xaxis": "x",
         "yaxis": "y"
        }
       ],
       "layout": {
        "barmode": "relative",
        "legend": {
         "title": {
          "text": "Gender"
         },
         "tracegroupgap": 0
        },
        "template": {
         "data": {
          "bar": [
           {
            "error_x": {
             "color": "#2a3f5f"
            },
            "error_y": {
             "color": "#2a3f5f"
            },
            "marker": {
             "line": {
              "color": "#E5ECF6",
              "width": 0.5
             }
            },
            "type": "bar"
           }
          ],
          "barpolar": [
           {
            "marker": {
             "line": {
              "color": "#E5ECF6",
              "width": 0.5
             }
            },
            "type": "barpolar"
           }
          ],
          "carpet": [
           {
            "aaxis": {
             "endlinecolor": "#2a3f5f",
             "gridcolor": "white",
             "linecolor": "white",
             "minorgridcolor": "white",
             "startlinecolor": "#2a3f5f"
            },
            "baxis": {
             "endlinecolor": "#2a3f5f",
             "gridcolor": "white",
             "linecolor": "white",
             "minorgridcolor": "white",
             "startlinecolor": "#2a3f5f"
            },
            "type": "carpet"
           }
          ],
          "choropleth": [
           {
            "colorbar": {
             "outlinewidth": 0,
             "ticks": ""
            },
            "type": "choropleth"
           }
          ],
          "contour": [
           {
            "colorbar": {
             "outlinewidth": 0,
             "ticks": ""
            },
            "colorscale": [
             [
              0,
              "#0d0887"
             ],
             [
              0.1111111111111111,
              "#46039f"
             ],
             [
              0.2222222222222222,
              "#7201a8"
             ],
             [
              0.3333333333333333,
              "#9c179e"
             ],
             [
              0.4444444444444444,
              "#bd3786"
             ],
             [
              0.5555555555555556,
              "#d8576b"
             ],
             [
              0.6666666666666666,
              "#ed7953"
             ],
             [
              0.7777777777777778,
              "#fb9f3a"
             ],
             [
              0.8888888888888888,
              "#fdca26"
             ],
             [
              1,
              "#f0f921"
             ]
            ],
            "type": "contour"
           }
          ],
          "contourcarpet": [
           {
            "colorbar": {
             "outlinewidth": 0,
             "ticks": ""
            },
            "type": "contourcarpet"
           }
          ],
          "heatmap": [
           {
            "colorbar": {
             "outlinewidth": 0,
             "ticks": ""
            },
            "colorscale": [
             [
              0,
              "#0d0887"
             ],
             [
              0.1111111111111111,
              "#46039f"
             ],
             [
              0.2222222222222222,
              "#7201a8"
             ],
             [
              0.3333333333333333,
              "#9c179e"
             ],
             [
              0.4444444444444444,
              "#bd3786"
             ],
             [
              0.5555555555555556,
              "#d8576b"
             ],
             [
              0.6666666666666666,
              "#ed7953"
             ],
             [
              0.7777777777777778,
              "#fb9f3a"
             ],
             [
              0.8888888888888888,
              "#fdca26"
             ],
             [
              1,
              "#f0f921"
             ]
            ],
            "type": "heatmap"
           }
          ],
          "heatmapgl": [
           {
            "colorbar": {
             "outlinewidth": 0,
             "ticks": ""
            },
            "colorscale": [
             [
              0,
              "#0d0887"
             ],
             [
              0.1111111111111111,
              "#46039f"
             ],
             [
              0.2222222222222222,
              "#7201a8"
             ],
             [
              0.3333333333333333,
              "#9c179e"
             ],
             [
              0.4444444444444444,
              "#bd3786"
             ],
             [
              0.5555555555555556,
              "#d8576b"
             ],
             [
              0.6666666666666666,
              "#ed7953"
             ],
             [
              0.7777777777777778,
              "#fb9f3a"
             ],
             [
              0.8888888888888888,
              "#fdca26"
             ],
             [
              1,
              "#f0f921"
             ]
            ],
            "type": "heatmapgl"
           }
          ],
          "histogram": [
           {
            "marker": {
             "colorbar": {
              "outlinewidth": 0,
              "ticks": ""
             }
            },
            "type": "histogram"
           }
          ],
          "histogram2d": [
           {
            "colorbar": {
             "outlinewidth": 0,
             "ticks": ""
            },
            "colorscale": [
             [
              0,
              "#0d0887"
             ],
             [
              0.1111111111111111,
              "#46039f"
             ],
             [
              0.2222222222222222,
              "#7201a8"
             ],
             [
              0.3333333333333333,
              "#9c179e"
             ],
             [
              0.4444444444444444,
              "#bd3786"
             ],
             [
              0.5555555555555556,
              "#d8576b"
             ],
             [
              0.6666666666666666,
              "#ed7953"
             ],
             [
              0.7777777777777778,
              "#fb9f3a"
             ],
             [
              0.8888888888888888,
              "#fdca26"
             ],
             [
              1,
              "#f0f921"
             ]
            ],
            "type": "histogram2d"
           }
          ],
          "histogram2dcontour": [
           {
            "colorbar": {
             "outlinewidth": 0,
             "ticks": ""
            },
            "colorscale": [
             [
              0,
              "#0d0887"
             ],
             [
              0.1111111111111111,
              "#46039f"
             ],
             [
              0.2222222222222222,
              "#7201a8"
             ],
             [
              0.3333333333333333,
              "#9c179e"
             ],
             [
              0.4444444444444444,
              "#bd3786"
             ],
             [
              0.5555555555555556,
              "#d8576b"
             ],
             [
              0.6666666666666666,
              "#ed7953"
             ],
             [
              0.7777777777777778,
              "#fb9f3a"
             ],
             [
              0.8888888888888888,
              "#fdca26"
             ],
             [
              1,
              "#f0f921"
             ]
            ],
            "type": "histogram2dcontour"
           }
          ],
          "mesh3d": [
           {
            "colorbar": {
             "outlinewidth": 0,
             "ticks": ""
            },
            "type": "mesh3d"
           }
          ],
          "parcoords": [
           {
            "line": {
             "colorbar": {
              "outlinewidth": 0,
              "ticks": ""
             }
            },
            "type": "parcoords"
           }
          ],
          "pie": [
           {
            "automargin": true,
            "type": "pie"
           }
          ],
          "scatter": [
           {
            "marker": {
             "colorbar": {
              "outlinewidth": 0,
              "ticks": ""
             }
            },
            "type": "scatter"
           }
          ],
          "scatter3d": [
           {
            "line": {
             "colorbar": {
              "outlinewidth": 0,
              "ticks": ""
             }
            },
            "marker": {
             "colorbar": {
              "outlinewidth": 0,
              "ticks": ""
             }
            },
            "type": "scatter3d"
           }
          ],
          "scattercarpet": [
           {
            "marker": {
             "colorbar": {
              "outlinewidth": 0,
              "ticks": ""
             }
            },
            "type": "scattercarpet"
           }
          ],
          "scattergeo": [
           {
            "marker": {
             "colorbar": {
              "outlinewidth": 0,
              "ticks": ""
             }
            },
            "type": "scattergeo"
           }
          ],
          "scattergl": [
           {
            "marker": {
             "colorbar": {
              "outlinewidth": 0,
              "ticks": ""
             }
            },
            "type": "scattergl"
           }
          ],
          "scattermapbox": [
           {
            "marker": {
             "colorbar": {
              "outlinewidth": 0,
              "ticks": ""
             }
            },
            "type": "scattermapbox"
           }
          ],
          "scatterpolar": [
           {
            "marker": {
             "colorbar": {
              "outlinewidth": 0,
              "ticks": ""
             }
            },
            "type": "scatterpolar"
           }
          ],
          "scatterpolargl": [
           {
            "marker": {
             "colorbar": {
              "outlinewidth": 0,
              "ticks": ""
             }
            },
            "type": "scatterpolargl"
           }
          ],
          "scatterternary": [
           {
            "marker": {
             "colorbar": {
              "outlinewidth": 0,
              "ticks": ""
             }
            },
            "type": "scatterternary"
           }
          ],
          "surface": [
           {
            "colorbar": {
             "outlinewidth": 0,
             "ticks": ""
            },
            "colorscale": [
             [
              0,
              "#0d0887"
             ],
             [
              0.1111111111111111,
              "#46039f"
             ],
             [
              0.2222222222222222,
              "#7201a8"
             ],
             [
              0.3333333333333333,
              "#9c179e"
             ],
             [
              0.4444444444444444,
              "#bd3786"
             ],
             [
              0.5555555555555556,
              "#d8576b"
             ],
             [
              0.6666666666666666,
              "#ed7953"
             ],
             [
              0.7777777777777778,
              "#fb9f3a"
             ],
             [
              0.8888888888888888,
              "#fdca26"
             ],
             [
              1,
              "#f0f921"
             ]
            ],
            "type": "surface"
           }
          ],
          "table": [
           {
            "cells": {
             "fill": {
              "color": "#EBF0F8"
             },
             "line": {
              "color": "white"
             }
            },
            "header": {
             "fill": {
              "color": "#C8D4E3"
             },
             "line": {
              "color": "white"
             }
            },
            "type": "table"
           }
          ]
         },
         "layout": {
          "annotationdefaults": {
           "arrowcolor": "#2a3f5f",
           "arrowhead": 0,
           "arrowwidth": 1
          },
          "autotypenumbers": "strict",
          "coloraxis": {
           "colorbar": {
            "outlinewidth": 0,
            "ticks": ""
           }
          },
          "colorscale": {
           "diverging": [
            [
             0,
             "#8e0152"
            ],
            [
             0.1,
             "#c51b7d"
            ],
            [
             0.2,
             "#de77ae"
            ],
            [
             0.3,
             "#f1b6da"
            ],
            [
             0.4,
             "#fde0ef"
            ],
            [
             0.5,
             "#f7f7f7"
            ],
            [
             0.6,
             "#e6f5d0"
            ],
            [
             0.7,
             "#b8e186"
            ],
            [
             0.8,
             "#7fbc41"
            ],
            [
             0.9,
             "#4d9221"
            ],
            [
             1,
             "#276419"
            ]
           ],
           "sequential": [
            [
             0,
             "#0d0887"
            ],
            [
             0.1111111111111111,
             "#46039f"
            ],
            [
             0.2222222222222222,
             "#7201a8"
            ],
            [
             0.3333333333333333,
             "#9c179e"
            ],
            [
             0.4444444444444444,
             "#bd3786"
            ],
            [
             0.5555555555555556,
             "#d8576b"
            ],
            [
             0.6666666666666666,
             "#ed7953"
            ],
            [
             0.7777777777777778,
             "#fb9f3a"
            ],
            [
             0.8888888888888888,
             "#fdca26"
            ],
            [
             1,
             "#f0f921"
            ]
           ],
           "sequentialminus": [
            [
             0,
             "#0d0887"
            ],
            [
             0.1111111111111111,
             "#46039f"
            ],
            [
             0.2222222222222222,
             "#7201a8"
            ],
            [
             0.3333333333333333,
             "#9c179e"
            ],
            [
             0.4444444444444444,
             "#bd3786"
            ],
            [
             0.5555555555555556,
             "#d8576b"
            ],
            [
             0.6666666666666666,
             "#ed7953"
            ],
            [
             0.7777777777777778,
             "#fb9f3a"
            ],
            [
             0.8888888888888888,
             "#fdca26"
            ],
            [
             1,
             "#f0f921"
            ]
           ]
          },
          "colorway": [
           "#636efa",
           "#EF553B",
           "#00cc96",
           "#ab63fa",
           "#FFA15A",
           "#19d3f3",
           "#FF6692",
           "#B6E880",
           "#FF97FF",
           "#FECB52"
          ],
          "font": {
           "color": "#2a3f5f"
          },
          "geo": {
           "bgcolor": "white",
           "lakecolor": "white",
           "landcolor": "#E5ECF6",
           "showlakes": true,
           "showland": true,
           "subunitcolor": "white"
          },
          "hoverlabel": {
           "align": "left"
          },
          "hovermode": "closest",
          "mapbox": {
           "style": "light"
          },
          "paper_bgcolor": "white",
          "plot_bgcolor": "#E5ECF6",
          "polar": {
           "angularaxis": {
            "gridcolor": "white",
            "linecolor": "white",
            "ticks": ""
           },
           "bgcolor": "#E5ECF6",
           "radialaxis": {
            "gridcolor": "white",
            "linecolor": "white",
            "ticks": ""
           }
          },
          "scene": {
           "xaxis": {
            "backgroundcolor": "#E5ECF6",
            "gridcolor": "white",
            "gridwidth": 2,
            "linecolor": "white",
            "showbackground": true,
            "ticks": "",
            "zerolinecolor": "white"
           },
           "yaxis": {
            "backgroundcolor": "#E5ECF6",
            "gridcolor": "white",
            "gridwidth": 2,
            "linecolor": "white",
            "showbackground": true,
            "ticks": "",
            "zerolinecolor": "white"
           },
           "zaxis": {
            "backgroundcolor": "#E5ECF6",
            "gridcolor": "white",
            "gridwidth": 2,
            "linecolor": "white",
            "showbackground": true,
            "ticks": "",
            "zerolinecolor": "white"
           }
          },
          "shapedefaults": {
           "line": {
            "color": "#2a3f5f"
           }
          },
          "ternary": {
           "aaxis": {
            "gridcolor": "white",
            "linecolor": "white",
            "ticks": ""
           },
           "baxis": {
            "gridcolor": "white",
            "linecolor": "white",
            "ticks": ""
           },
           "bgcolor": "#E5ECF6",
           "caxis": {
            "gridcolor": "white",
            "linecolor": "white",
            "ticks": ""
           }
          },
          "title": {
           "x": 0.05
          },
          "xaxis": {
           "automargin": true,
           "gridcolor": "white",
           "linecolor": "white",
           "ticks": "",
           "title": {
            "standoff": 15
           },
           "zerolinecolor": "white",
           "zerolinewidth": 2
          },
          "yaxis": {
           "automargin": true,
           "gridcolor": "white",
           "linecolor": "white",
           "ticks": "",
           "title": {
            "standoff": 15
           },
           "zerolinecolor": "white",
           "zerolinewidth": 2
          }
         }
        },
        "title": {
         "text": "Count of Customers by Gender"
        },
        "xaxis": {
         "anchor": "y",
         "categoryarray": [
          "Male",
          "Female"
         ],
         "categoryorder": "array",
         "domain": [
          0,
          1
         ],
         "title": {
          "text": "Gender"
         }
        },
        "yaxis": {
         "anchor": "x",
         "domain": [
          0,
          1
         ],
         "title": {
          "text": "count"
         }
        }
       }
      },
      "text/html": [
       "<div>                            <div id=\"480ff2e2-9e91-4c9a-a88c-1e85ad329a06\" class=\"plotly-graph-div\" style=\"height:525px; width:100%;\"></div>            <script type=\"text/javascript\">                require([\"plotly\"], function(Plotly) {                    window.PLOTLYENV=window.PLOTLYENV || {};                                    if (document.getElementById(\"480ff2e2-9e91-4c9a-a88c-1e85ad329a06\")) {                    Plotly.newPlot(                        \"480ff2e2-9e91-4c9a-a88c-1e85ad329a06\",                        [{\"alignmentgroup\": \"True\", \"bingroup\": \"x\", \"hovertemplate\": \"Gender=%{x}<br>count=%{y}<extra></extra>\", \"legendgroup\": \"Male\", \"marker\": {\"color\": \"#636efa\"}, \"name\": \"Male\", \"offsetgroup\": \"Male\", \"orientation\": \"v\", \"showlegend\": true, \"type\": \"histogram\", \"x\": [\"Male\", \"Male\", \"Male\", \"Male\", \"Male\", \"Male\", \"Male\", \"Male\", \"Male\", \"Male\", \"Male\", \"Male\", \"Male\", \"Male\", \"Male\", \"Male\", \"Male\", \"Male\", \"Male\", \"Male\", \"Male\", \"Male\", \"Male\", \"Male\", \"Male\", \"Male\", \"Male\", \"Male\", \"Male\", \"Male\", \"Male\", \"Male\", \"Male\", \"Male\", \"Male\", \"Male\", \"Male\", \"Male\", \"Male\", \"Male\", \"Male\", \"Male\", \"Male\", \"Male\", \"Male\", \"Male\", \"Male\", \"Male\", \"Male\", \"Male\", \"Male\", \"Male\", \"Male\", \"Male\", \"Male\", \"Male\", \"Male\", \"Male\", \"Male\", \"Male\", \"Male\", \"Male\", \"Male\", \"Male\", \"Male\", \"Male\", \"Male\", \"Male\", \"Male\", \"Male\", \"Male\", \"Male\", \"Male\", \"Male\", \"Male\", \"Male\", \"Male\", \"Male\", \"Male\", \"Male\", \"Male\", \"Male\", \"Male\", \"Male\", \"Male\", \"Male\", \"Male\", \"Male\", \"Male\", \"Male\", \"Male\", \"Male\", \"Male\", \"Male\", \"Male\", \"Male\", \"Male\", \"Male\", \"Male\", \"Male\", \"Male\", \"Male\", \"Male\", \"Male\", \"Male\", \"Male\", \"Male\", \"Male\", \"Male\", \"Male\", \"Male\", \"Male\", \"Male\", \"Male\", \"Male\", \"Male\", \"Male\", \"Male\", \"Male\", \"Male\", \"Male\", \"Male\", \"Male\", \"Male\", \"Male\", \"Male\", \"Male\", \"Male\", \"Male\", \"Male\", \"Male\", \"Male\", \"Male\", \"Male\", \"Male\", \"Male\", \"Male\", \"Male\", \"Male\", \"Male\", \"Male\", \"Male\", \"Male\", \"Male\", \"Male\", \"Male\", \"Male\", \"Male\", \"Male\", \"Male\", \"Male\", \"Male\", \"Male\", \"Male\", \"Male\", \"Male\", \"Male\", \"Male\", \"Male\", \"Male\", \"Male\", \"Male\", \"Male\", \"Male\", \"Male\", \"Male\", \"Male\", \"Male\", \"Male\", \"Male\", \"Male\", \"Male\", \"Male\", \"Male\", \"Male\", \"Male\", \"Male\", \"Male\", \"Male\", \"Male\", \"Male\", \"Male\", \"Male\", \"Male\", \"Male\", \"Male\", \"Male\", \"Male\", \"Male\", \"Male\", \"Male\", \"Male\", \"Male\", \"Male\", \"Male\", \"Male\", \"Male\", \"Male\", \"Male\", \"Male\", \"Male\", \"Male\", \"Male\", \"Male\", \"Male\", \"Male\", \"Male\", \"Male\", \"Male\", \"Male\", \"Male\", \"Male\", \"Male\", \"Male\", \"Male\", \"Male\", \"Male\", \"Male\", \"Male\", \"Male\", \"Male\", \"Male\", \"Male\", \"Male\", \"Male\", \"Male\", \"Male\", \"Male\", \"Male\", \"Male\", \"Male\", \"Male\", \"Male\", \"Male\", \"Male\", \"Male\", \"Male\", \"Male\", \"Male\", \"Male\", \"Male\", \"Male\", \"Male\", \"Male\", \"Male\", \"Male\", \"Male\", \"Male\", \"Male\", \"Male\", \"Male\", \"Male\", \"Male\", \"Male\", \"Male\", \"Male\", \"Male\", \"Male\", \"Male\", \"Male\", \"Male\", \"Male\", \"Male\", \"Male\", \"Male\", \"Male\", \"Male\", \"Male\", \"Male\", \"Male\", \"Male\", \"Male\", \"Male\", \"Male\", \"Male\", \"Male\", \"Male\", \"Male\", \"Male\", \"Male\", \"Male\", \"Male\", \"Male\", \"Male\", \"Male\", \"Male\", \"Male\", \"Male\", \"Male\", \"Male\", \"Male\", \"Male\", \"Male\", \"Male\", \"Male\", \"Male\", \"Male\", \"Male\", \"Male\", \"Male\", \"Male\", \"Male\", \"Male\", \"Male\", \"Male\", \"Male\", \"Male\", \"Male\", \"Male\", \"Male\", \"Male\", \"Male\", \"Male\", \"Male\", \"Male\", \"Male\", \"Male\", \"Male\", \"Male\", \"Male\", \"Male\", \"Male\", \"Male\", \"Male\", \"Male\", \"Male\", \"Male\", \"Male\", \"Male\", \"Male\", \"Male\", \"Male\", \"Male\", \"Male\", \"Male\", \"Male\", \"Male\", \"Male\", \"Male\", \"Male\", \"Male\", \"Male\", \"Male\", \"Male\", \"Male\", \"Male\", \"Male\", \"Male\", \"Male\", \"Male\", \"Male\", \"Male\", \"Male\", \"Male\", \"Male\", \"Male\", \"Male\", \"Male\", \"Male\", \"Male\", \"Male\", \"Male\", \"Male\", \"Male\", \"Male\", \"Male\", \"Male\", \"Male\", \"Male\", \"Male\", \"Male\", \"Male\", \"Male\", \"Male\", \"Male\", \"Male\", \"Male\", \"Male\", \"Male\", \"Male\", \"Male\", \"Male\", \"Male\", \"Male\", \"Male\", \"Male\", \"Male\", \"Male\", \"Male\", \"Male\", \"Male\", \"Male\", \"Male\", \"Male\", \"Male\", \"Male\", \"Male\", \"Male\", \"Male\", \"Male\", \"Male\", \"Male\", \"Male\", \"Male\", \"Male\", \"Male\", \"Male\", \"Male\", \"Male\", \"Male\", \"Male\", \"Male\", \"Male\", \"Male\", \"Male\", \"Male\", \"Male\", \"Male\", \"Male\", \"Male\", \"Male\", \"Male\", \"Male\", \"Male\", \"Male\", \"Male\", \"Male\", \"Male\", \"Male\", \"Male\", \"Male\", \"Male\", \"Male\", \"Male\", \"Male\", \"Male\", \"Male\", \"Male\", \"Male\", \"Male\", \"Male\", \"Male\", \"Male\", \"Male\", \"Male\", \"Male\", \"Male\", \"Male\", \"Male\", \"Male\", \"Male\", \"Male\", \"Male\", \"Male\", \"Male\", \"Male\", \"Male\", \"Male\", \"Male\", \"Male\", \"Male\", \"Male\", \"Male\", \"Male\", \"Male\", \"Male\", \"Male\", \"Male\", \"Male\", \"Male\", \"Male\", \"Male\", \"Male\", \"Male\", \"Male\", \"Male\", \"Male\", \"Male\", \"Male\", \"Male\", \"Male\", \"Male\", \"Male\", \"Male\", \"Male\", \"Male\", \"Male\", \"Male\", \"Male\", \"Male\", \"Male\", \"Male\", \"Male\", \"Male\", \"Male\", \"Male\", \"Male\", \"Male\", \"Male\", \"Male\", \"Male\", \"Male\", \"Male\", \"Male\", \"Male\", \"Male\", \"Male\", \"Male\", \"Male\"], \"xaxis\": \"x\", \"yaxis\": \"y\"}, {\"alignmentgroup\": \"True\", \"bingroup\": \"x\", \"hovertemplate\": \"Gender=%{x}<br>count=%{y}<extra></extra>\", \"legendgroup\": \"Female\", \"marker\": {\"color\": \"#EF553B\"}, \"name\": \"Female\", \"offsetgroup\": \"Female\", \"orientation\": \"v\", \"showlegend\": true, \"type\": \"histogram\", \"x\": [\"Female\", \"Female\", \"Female\", \"Female\", \"Female\", \"Female\", \"Female\", \"Female\", \"Female\", \"Female\", \"Female\", \"Female\", \"Female\", \"Female\", \"Female\", \"Female\", \"Female\", \"Female\", \"Female\", \"Female\", \"Female\", \"Female\", \"Female\", \"Female\", \"Female\", \"Female\", \"Female\", \"Female\", \"Female\", \"Female\", \"Female\", \"Female\", \"Female\", \"Female\", \"Female\", \"Female\", \"Female\", \"Female\", \"Female\", \"Female\", \"Female\", \"Female\", \"Female\", \"Female\", \"Female\", \"Female\", \"Female\", \"Female\", \"Female\", \"Female\", \"Female\", \"Female\", \"Female\", \"Female\", \"Female\", \"Female\", \"Female\", \"Female\", \"Female\", \"Female\", \"Female\", \"Female\", \"Female\", \"Female\", \"Female\", \"Female\", \"Female\", \"Female\", \"Female\", \"Female\", \"Female\", \"Female\", \"Female\", \"Female\", \"Female\", \"Female\", \"Female\", \"Female\", \"Female\", \"Female\", \"Female\", \"Female\", \"Female\", \"Female\", \"Female\", \"Female\", \"Female\", \"Female\", \"Female\", \"Female\", \"Female\", \"Female\", \"Female\", \"Female\", \"Female\", \"Female\", \"Female\", \"Female\", \"Female\", \"Female\", \"Female\", \"Female\", \"Female\", \"Female\", \"Female\", \"Female\", \"Female\", \"Female\", \"Female\", \"Female\", \"Female\", \"Female\", \"Female\", \"Female\", \"Female\", \"Female\", \"Female\", \"Female\", \"Female\", \"Female\", \"Female\", \"Female\", \"Female\", \"Female\", \"Female\", \"Female\", \"Female\", \"Female\", \"Female\", \"Female\", \"Female\", \"Female\", \"Female\", \"Female\", \"Female\", \"Female\", \"Female\", \"Female\", \"Female\", \"Female\", \"Female\", \"Female\", \"Female\", \"Female\", \"Female\", \"Female\", \"Female\", \"Female\", \"Female\", \"Female\", \"Female\", \"Female\", \"Female\", \"Female\", \"Female\", \"Female\", \"Female\", \"Female\", \"Female\", \"Female\", \"Female\", \"Female\", \"Female\", \"Female\", \"Female\", \"Female\", \"Female\", \"Female\", \"Female\", \"Female\", \"Female\", \"Female\", \"Female\", \"Female\", \"Female\", \"Female\", \"Female\", \"Female\", \"Female\", \"Female\", \"Female\", \"Female\", \"Female\", \"Female\", \"Female\", \"Female\", \"Female\", \"Female\", \"Female\", \"Female\", \"Female\", \"Female\", \"Female\", \"Female\", \"Female\", \"Female\", \"Female\", \"Female\", \"Female\", \"Female\", \"Female\", \"Female\", \"Female\", \"Female\", \"Female\", \"Female\", \"Female\", \"Female\", \"Female\", \"Female\", \"Female\", \"Female\", \"Female\", \"Female\", \"Female\", \"Female\", \"Female\", \"Female\", \"Female\", \"Female\", \"Female\", \"Female\", \"Female\", \"Female\", \"Female\", \"Female\", \"Female\", \"Female\", \"Female\", \"Female\", \"Female\", \"Female\", \"Female\", \"Female\", \"Female\", \"Female\", \"Female\", \"Female\", \"Female\", \"Female\", \"Female\", \"Female\", \"Female\", \"Female\", \"Female\", \"Female\", \"Female\", \"Female\", \"Female\", \"Female\", \"Female\", \"Female\", \"Female\", \"Female\", \"Female\", \"Female\", \"Female\", \"Female\", \"Female\", \"Female\", \"Female\", \"Female\", \"Female\", \"Female\", \"Female\", \"Female\", \"Female\", \"Female\", \"Female\", \"Female\", \"Female\", \"Female\", \"Female\", \"Female\", \"Female\", \"Female\", \"Female\", \"Female\", \"Female\", \"Female\", \"Female\", \"Female\", \"Female\", \"Female\", \"Female\", \"Female\", \"Female\", \"Female\", \"Female\", \"Female\", \"Female\", \"Female\", \"Female\", \"Female\", \"Female\", \"Female\", \"Female\", \"Female\", \"Female\", \"Female\", \"Female\", \"Female\", \"Female\", \"Female\", \"Female\", \"Female\", \"Female\", \"Female\", \"Female\", \"Female\", \"Female\", \"Female\", \"Female\", \"Female\", \"Female\", \"Female\", \"Female\", \"Female\", \"Female\", \"Female\", \"Female\", \"Female\", \"Female\", \"Female\", \"Female\", \"Female\", \"Female\", \"Female\", \"Female\", \"Female\", \"Female\", \"Female\", \"Female\", \"Female\", \"Female\", \"Female\", \"Female\", \"Female\", \"Female\", \"Female\", \"Female\", \"Female\", \"Female\", \"Female\", \"Female\", \"Female\", \"Female\", \"Female\", \"Female\", \"Female\", \"Female\", \"Female\", \"Female\", \"Female\", \"Female\", \"Female\", \"Female\", \"Female\", \"Female\", \"Female\", \"Female\", \"Female\", \"Female\", \"Female\", \"Female\", \"Female\", \"Female\", \"Female\", \"Female\", \"Female\", \"Female\", \"Female\", \"Female\", \"Female\", \"Female\", \"Female\", \"Female\", \"Female\", \"Female\", \"Female\", \"Female\", \"Female\", \"Female\", \"Female\", \"Female\", \"Female\", \"Female\", \"Female\", \"Female\", \"Female\", \"Female\", \"Female\", \"Female\", \"Female\", \"Female\", \"Female\", \"Female\", \"Female\", \"Female\", \"Female\", \"Female\", \"Female\", \"Female\", \"Female\", \"Female\", \"Female\", \"Female\", \"Female\", \"Female\", \"Female\", \"Female\", \"Female\", \"Female\", \"Female\", \"Female\", \"Female\", \"Female\", \"Female\", \"Female\", \"Female\", \"Female\", \"Female\", \"Female\", \"Female\", \"Female\", \"Female\", \"Female\", \"Female\", \"Female\", \"Female\", \"Female\", \"Female\", \"Female\", \"Female\", \"Female\", \"Female\", \"Female\", \"Female\", \"Female\", \"Female\", \"Female\", \"Female\", \"Female\", \"Female\", \"Female\", \"Female\", \"Female\", \"Female\", \"Female\", \"Female\", \"Female\", \"Female\", \"Female\", \"Female\", \"Female\", \"Female\", \"Female\", \"Female\", \"Female\", \"Female\", \"Female\", \"Female\", \"Female\", \"Female\", \"Female\", \"Female\", \"Female\", \"Female\", \"Female\", \"Female\", \"Female\", \"Female\", \"Female\", \"Female\", \"Female\", \"Female\", \"Female\", \"Female\", \"Female\", \"Female\", \"Female\", \"Female\", \"Female\", \"Female\", \"Female\", \"Female\", \"Female\", \"Female\", \"Female\", \"Female\"], \"xaxis\": \"x\", \"yaxis\": \"y\"}],                        {\"barmode\": \"relative\", \"legend\": {\"title\": {\"text\": \"Gender\"}, \"tracegroupgap\": 0}, \"template\": {\"data\": {\"bar\": [{\"error_x\": {\"color\": \"#2a3f5f\"}, \"error_y\": {\"color\": \"#2a3f5f\"}, \"marker\": {\"line\": {\"color\": \"#E5ECF6\", \"width\": 0.5}}, \"type\": \"bar\"}], \"barpolar\": [{\"marker\": {\"line\": {\"color\": \"#E5ECF6\", \"width\": 0.5}}, \"type\": \"barpolar\"}], \"carpet\": [{\"aaxis\": {\"endlinecolor\": \"#2a3f5f\", \"gridcolor\": \"white\", \"linecolor\": \"white\", \"minorgridcolor\": \"white\", \"startlinecolor\": \"#2a3f5f\"}, \"baxis\": {\"endlinecolor\": \"#2a3f5f\", \"gridcolor\": \"white\", \"linecolor\": \"white\", \"minorgridcolor\": \"white\", \"startlinecolor\": \"#2a3f5f\"}, \"type\": \"carpet\"}], \"choropleth\": [{\"colorbar\": {\"outlinewidth\": 0, \"ticks\": \"\"}, \"type\": \"choropleth\"}], \"contour\": [{\"colorbar\": {\"outlinewidth\": 0, \"ticks\": \"\"}, \"colorscale\": [[0.0, \"#0d0887\"], [0.1111111111111111, \"#46039f\"], [0.2222222222222222, \"#7201a8\"], [0.3333333333333333, \"#9c179e\"], [0.4444444444444444, \"#bd3786\"], [0.5555555555555556, \"#d8576b\"], [0.6666666666666666, \"#ed7953\"], [0.7777777777777778, \"#fb9f3a\"], [0.8888888888888888, \"#fdca26\"], [1.0, \"#f0f921\"]], \"type\": \"contour\"}], \"contourcarpet\": [{\"colorbar\": {\"outlinewidth\": 0, \"ticks\": \"\"}, \"type\": \"contourcarpet\"}], \"heatmap\": [{\"colorbar\": {\"outlinewidth\": 0, \"ticks\": \"\"}, \"colorscale\": [[0.0, \"#0d0887\"], [0.1111111111111111, \"#46039f\"], [0.2222222222222222, \"#7201a8\"], [0.3333333333333333, \"#9c179e\"], [0.4444444444444444, \"#bd3786\"], [0.5555555555555556, \"#d8576b\"], [0.6666666666666666, \"#ed7953\"], [0.7777777777777778, \"#fb9f3a\"], [0.8888888888888888, \"#fdca26\"], [1.0, \"#f0f921\"]], \"type\": \"heatmap\"}], \"heatmapgl\": [{\"colorbar\": {\"outlinewidth\": 0, \"ticks\": \"\"}, \"colorscale\": [[0.0, \"#0d0887\"], [0.1111111111111111, \"#46039f\"], [0.2222222222222222, \"#7201a8\"], [0.3333333333333333, \"#9c179e\"], [0.4444444444444444, \"#bd3786\"], [0.5555555555555556, \"#d8576b\"], [0.6666666666666666, \"#ed7953\"], [0.7777777777777778, \"#fb9f3a\"], [0.8888888888888888, \"#fdca26\"], [1.0, \"#f0f921\"]], \"type\": \"heatmapgl\"}], \"histogram\": [{\"marker\": {\"colorbar\": {\"outlinewidth\": 0, \"ticks\": \"\"}}, \"type\": \"histogram\"}], \"histogram2d\": [{\"colorbar\": {\"outlinewidth\": 0, \"ticks\": \"\"}, \"colorscale\": [[0.0, \"#0d0887\"], [0.1111111111111111, \"#46039f\"], [0.2222222222222222, \"#7201a8\"], [0.3333333333333333, \"#9c179e\"], [0.4444444444444444, \"#bd3786\"], [0.5555555555555556, \"#d8576b\"], [0.6666666666666666, \"#ed7953\"], [0.7777777777777778, \"#fb9f3a\"], [0.8888888888888888, \"#fdca26\"], [1.0, \"#f0f921\"]], \"type\": \"histogram2d\"}], \"histogram2dcontour\": [{\"colorbar\": {\"outlinewidth\": 0, \"ticks\": \"\"}, \"colorscale\": [[0.0, \"#0d0887\"], [0.1111111111111111, \"#46039f\"], [0.2222222222222222, \"#7201a8\"], [0.3333333333333333, \"#9c179e\"], [0.4444444444444444, \"#bd3786\"], [0.5555555555555556, \"#d8576b\"], [0.6666666666666666, \"#ed7953\"], [0.7777777777777778, \"#fb9f3a\"], [0.8888888888888888, \"#fdca26\"], [1.0, \"#f0f921\"]], \"type\": \"histogram2dcontour\"}], \"mesh3d\": [{\"colorbar\": {\"outlinewidth\": 0, \"ticks\": \"\"}, \"type\": \"mesh3d\"}], \"parcoords\": [{\"line\": {\"colorbar\": {\"outlinewidth\": 0, \"ticks\": \"\"}}, \"type\": \"parcoords\"}], \"pie\": [{\"automargin\": true, \"type\": \"pie\"}], \"scatter\": [{\"marker\": {\"colorbar\": {\"outlinewidth\": 0, \"ticks\": \"\"}}, \"type\": \"scatter\"}], \"scatter3d\": [{\"line\": {\"colorbar\": {\"outlinewidth\": 0, \"ticks\": \"\"}}, \"marker\": {\"colorbar\": {\"outlinewidth\": 0, \"ticks\": \"\"}}, \"type\": \"scatter3d\"}], \"scattercarpet\": [{\"marker\": {\"colorbar\": {\"outlinewidth\": 0, \"ticks\": \"\"}}, \"type\": \"scattercarpet\"}], \"scattergeo\": [{\"marker\": {\"colorbar\": {\"outlinewidth\": 0, \"ticks\": \"\"}}, \"type\": \"scattergeo\"}], \"scattergl\": [{\"marker\": {\"colorbar\": {\"outlinewidth\": 0, \"ticks\": \"\"}}, \"type\": \"scattergl\"}], \"scattermapbox\": [{\"marker\": {\"colorbar\": {\"outlinewidth\": 0, \"ticks\": \"\"}}, \"type\": \"scattermapbox\"}], \"scatterpolar\": [{\"marker\": {\"colorbar\": {\"outlinewidth\": 0, \"ticks\": \"\"}}, \"type\": \"scatterpolar\"}], \"scatterpolargl\": [{\"marker\": {\"colorbar\": {\"outlinewidth\": 0, \"ticks\": \"\"}}, \"type\": \"scatterpolargl\"}], \"scatterternary\": [{\"marker\": {\"colorbar\": {\"outlinewidth\": 0, \"ticks\": \"\"}}, \"type\": \"scatterternary\"}], \"surface\": [{\"colorbar\": {\"outlinewidth\": 0, \"ticks\": \"\"}, \"colorscale\": [[0.0, \"#0d0887\"], [0.1111111111111111, \"#46039f\"], [0.2222222222222222, \"#7201a8\"], [0.3333333333333333, \"#9c179e\"], [0.4444444444444444, \"#bd3786\"], [0.5555555555555556, \"#d8576b\"], [0.6666666666666666, \"#ed7953\"], [0.7777777777777778, \"#fb9f3a\"], [0.8888888888888888, \"#fdca26\"], [1.0, \"#f0f921\"]], \"type\": \"surface\"}], \"table\": [{\"cells\": {\"fill\": {\"color\": \"#EBF0F8\"}, \"line\": {\"color\": \"white\"}}, \"header\": {\"fill\": {\"color\": \"#C8D4E3\"}, \"line\": {\"color\": \"white\"}}, \"type\": \"table\"}]}, \"layout\": {\"annotationdefaults\": {\"arrowcolor\": \"#2a3f5f\", \"arrowhead\": 0, \"arrowwidth\": 1}, \"autotypenumbers\": \"strict\", \"coloraxis\": {\"colorbar\": {\"outlinewidth\": 0, \"ticks\": \"\"}}, \"colorscale\": {\"diverging\": [[0, \"#8e0152\"], [0.1, \"#c51b7d\"], [0.2, \"#de77ae\"], [0.3, \"#f1b6da\"], [0.4, \"#fde0ef\"], [0.5, \"#f7f7f7\"], [0.6, \"#e6f5d0\"], [0.7, \"#b8e186\"], [0.8, \"#7fbc41\"], [0.9, \"#4d9221\"], [1, \"#276419\"]], \"sequential\": [[0.0, \"#0d0887\"], [0.1111111111111111, \"#46039f\"], [0.2222222222222222, \"#7201a8\"], [0.3333333333333333, \"#9c179e\"], [0.4444444444444444, \"#bd3786\"], [0.5555555555555556, \"#d8576b\"], [0.6666666666666666, \"#ed7953\"], [0.7777777777777778, \"#fb9f3a\"], [0.8888888888888888, \"#fdca26\"], [1.0, \"#f0f921\"]], \"sequentialminus\": [[0.0, \"#0d0887\"], [0.1111111111111111, \"#46039f\"], [0.2222222222222222, \"#7201a8\"], [0.3333333333333333, \"#9c179e\"], [0.4444444444444444, \"#bd3786\"], [0.5555555555555556, \"#d8576b\"], [0.6666666666666666, \"#ed7953\"], [0.7777777777777778, \"#fb9f3a\"], [0.8888888888888888, \"#fdca26\"], [1.0, \"#f0f921\"]]}, \"colorway\": [\"#636efa\", \"#EF553B\", \"#00cc96\", \"#ab63fa\", \"#FFA15A\", \"#19d3f3\", \"#FF6692\", \"#B6E880\", \"#FF97FF\", \"#FECB52\"], \"font\": {\"color\": \"#2a3f5f\"}, \"geo\": {\"bgcolor\": \"white\", \"lakecolor\": \"white\", \"landcolor\": \"#E5ECF6\", \"showlakes\": true, \"showland\": true, \"subunitcolor\": \"white\"}, \"hoverlabel\": {\"align\": \"left\"}, \"hovermode\": \"closest\", \"mapbox\": {\"style\": \"light\"}, \"paper_bgcolor\": \"white\", \"plot_bgcolor\": \"#E5ECF6\", \"polar\": {\"angularaxis\": {\"gridcolor\": \"white\", \"linecolor\": \"white\", \"ticks\": \"\"}, \"bgcolor\": \"#E5ECF6\", \"radialaxis\": {\"gridcolor\": \"white\", \"linecolor\": \"white\", \"ticks\": \"\"}}, \"scene\": {\"xaxis\": {\"backgroundcolor\": \"#E5ECF6\", \"gridcolor\": \"white\", \"gridwidth\": 2, \"linecolor\": \"white\", \"showbackground\": true, \"ticks\": \"\", \"zerolinecolor\": \"white\"}, \"yaxis\": {\"backgroundcolor\": \"#E5ECF6\", \"gridcolor\": \"white\", \"gridwidth\": 2, \"linecolor\": \"white\", \"showbackground\": true, \"ticks\": \"\", \"zerolinecolor\": \"white\"}, \"zaxis\": {\"backgroundcolor\": \"#E5ECF6\", \"gridcolor\": \"white\", \"gridwidth\": 2, \"linecolor\": \"white\", \"showbackground\": true, \"ticks\": \"\", \"zerolinecolor\": \"white\"}}, \"shapedefaults\": {\"line\": {\"color\": \"#2a3f5f\"}}, \"ternary\": {\"aaxis\": {\"gridcolor\": \"white\", \"linecolor\": \"white\", \"ticks\": \"\"}, \"baxis\": {\"gridcolor\": \"white\", \"linecolor\": \"white\", \"ticks\": \"\"}, \"bgcolor\": \"#E5ECF6\", \"caxis\": {\"gridcolor\": \"white\", \"linecolor\": \"white\", \"ticks\": \"\"}}, \"title\": {\"x\": 0.05}, \"xaxis\": {\"automargin\": true, \"gridcolor\": \"white\", \"linecolor\": \"white\", \"ticks\": \"\", \"title\": {\"standoff\": 15}, \"zerolinecolor\": \"white\", \"zerolinewidth\": 2}, \"yaxis\": {\"automargin\": true, \"gridcolor\": \"white\", \"linecolor\": \"white\", \"ticks\": \"\", \"title\": {\"standoff\": 15}, \"zerolinecolor\": \"white\", \"zerolinewidth\": 2}}}, \"title\": {\"text\": \"Count of Customers by Gender\"}, \"xaxis\": {\"anchor\": \"y\", \"categoryarray\": [\"Male\", \"Female\"], \"categoryorder\": \"array\", \"domain\": [0.0, 1.0], \"title\": {\"text\": \"Gender\"}}, \"yaxis\": {\"anchor\": \"x\", \"domain\": [0.0, 1.0], \"title\": {\"text\": \"count\"}}},                        {\"responsive\": true}                    ).then(function(){\n",
       "                            \n",
       "var gd = document.getElementById('480ff2e2-9e91-4c9a-a88c-1e85ad329a06');\n",
       "var x = new MutationObserver(function (mutations, observer) {{\n",
       "        var display = window.getComputedStyle(gd).display;\n",
       "        if (!display || display === 'none') {{\n",
       "            console.log([gd, 'removed!']);\n",
       "            Plotly.purge(gd);\n",
       "            observer.disconnect();\n",
       "        }}\n",
       "}});\n",
       "\n",
       "// Listen for the removal of the full notebook cells\n",
       "var notebookContainer = gd.closest('#notebook-container');\n",
       "if (notebookContainer) {{\n",
       "    x.observe(notebookContainer, {childList: true});\n",
       "}}\n",
       "\n",
       "// Listen for the clearing of the current output cell\n",
       "var outputEl = gd.closest('.output');\n",
       "if (outputEl) {{\n",
       "    x.observe(outputEl, {childList: true});\n",
       "}}\n",
       "\n",
       "                        })                };                });            </script>        </div>"
      ]
     },
     "metadata": {},
     "output_type": "display_data"
    }
   ],
   "source": [
    "fig = px.histogram(Customer_Table, x='Gender', title=\"Count of Customers by Gender\", color = 'Gender')\n",
    "fig.show()"
   ]
  },
  {
   "cell_type": "code",
   "execution_count": 217,
   "metadata": {
    "scrolled": false
   },
   "outputs": [
    {
     "data": {
      "application/vnd.plotly.v1+json": {
       "config": {
        "plotlyServerURL": "https://plot.ly"
       },
       "data": [
        {
         "alignmentgroup": "True",
         "bingroup": "x",
         "hovertemplate": "Gender=%{x}<br>count=%{y}<extra></extra>",
         "legendgroup": "Male",
         "marker": {
          "color": "#636efa"
         },
         "name": "Male",
         "offsetgroup": "Male",
         "orientation": "v",
         "showlegend": true,
         "type": "histogram",
         "x": [
          "Male",
          "Male",
          "Male",
          "Male",
          "Male",
          "Male",
          "Male",
          "Male",
          "Male",
          "Male",
          "Male",
          "Male",
          "Male",
          "Male",
          "Male",
          "Male",
          "Male",
          "Male",
          "Male",
          "Male",
          "Male",
          "Male",
          "Male",
          "Male",
          "Male",
          "Male",
          "Male",
          "Male",
          "Male",
          "Male",
          "Male",
          "Male",
          "Male",
          "Male",
          "Male",
          "Male",
          "Male",
          "Male",
          "Male",
          "Male",
          "Male",
          "Male",
          "Male",
          "Male",
          "Male",
          "Male",
          "Male",
          "Male",
          "Male",
          "Male",
          "Male",
          "Male",
          "Male",
          "Male",
          "Male",
          "Male",
          "Male",
          "Male",
          "Male",
          "Male",
          "Male",
          "Male",
          "Male",
          "Male",
          "Male",
          "Male",
          "Male",
          "Male",
          "Male",
          "Male",
          "Male",
          "Male",
          "Male",
          "Male",
          "Male",
          "Male",
          "Male",
          "Male",
          "Male",
          "Male",
          "Male",
          "Male",
          "Male",
          "Male",
          "Male",
          "Male",
          "Male",
          "Male",
          "Male",
          "Male",
          "Male",
          "Male",
          "Male",
          "Male",
          "Male",
          "Male",
          "Male",
          "Male",
          "Male",
          "Male",
          "Male",
          "Male",
          "Male",
          "Male",
          "Male",
          "Male",
          "Male",
          "Male",
          "Male",
          "Male",
          "Male",
          "Male",
          "Male",
          "Male",
          "Male",
          "Male",
          "Male",
          "Male",
          "Male",
          "Male",
          "Male",
          "Male",
          "Male",
          "Male",
          "Male",
          "Male",
          "Male",
          "Male",
          "Male",
          "Male",
          "Male",
          "Male",
          "Male",
          "Male",
          "Male",
          "Male",
          "Male",
          "Male",
          "Male",
          "Male",
          "Male",
          "Male",
          "Male",
          "Male",
          "Male",
          "Male",
          "Male",
          "Male",
          "Male",
          "Male",
          "Male",
          "Male",
          "Male",
          "Male",
          "Male",
          "Male",
          "Male",
          "Male",
          "Male",
          "Male",
          "Male",
          "Male",
          "Male",
          "Male",
          "Male",
          "Male",
          "Male",
          "Male",
          "Male",
          "Male",
          "Male",
          "Male",
          "Male",
          "Male",
          "Male",
          "Male",
          "Male",
          "Male",
          "Male",
          "Male",
          "Male",
          "Male",
          "Male",
          "Male",
          "Male",
          "Male",
          "Male",
          "Male",
          "Male",
          "Male",
          "Male",
          "Male",
          "Male",
          "Male",
          "Male",
          "Male",
          "Male",
          "Male",
          "Male",
          "Male",
          "Male",
          "Male",
          "Male",
          "Male",
          "Male",
          "Male",
          "Male",
          "Male",
          "Male",
          "Male",
          "Male",
          "Male",
          "Male",
          "Male",
          "Male",
          "Male",
          "Male",
          "Male",
          "Male",
          "Male",
          "Male",
          "Male",
          "Male",
          "Male",
          "Male",
          "Male",
          "Male",
          "Male",
          "Male",
          "Male",
          "Male",
          "Male",
          "Male",
          "Male",
          "Male",
          "Male",
          "Male",
          "Male",
          "Male",
          "Male",
          "Male",
          "Male",
          "Male",
          "Male",
          "Male",
          "Male",
          "Male",
          "Male",
          "Male",
          "Male",
          "Male",
          "Male",
          "Male",
          "Male",
          "Male",
          "Male",
          "Male",
          "Male",
          "Male",
          "Male",
          "Male",
          "Male",
          "Male",
          "Male",
          "Male",
          "Male",
          "Male",
          "Male",
          "Male",
          "Male",
          "Male",
          "Male",
          "Male",
          "Male",
          "Male",
          "Male",
          "Male",
          "Male",
          "Male",
          "Male",
          "Male",
          "Male",
          "Male",
          "Male",
          "Male",
          "Male",
          "Male",
          "Male",
          "Male",
          "Male",
          "Male",
          "Male",
          "Male",
          "Male",
          "Male",
          "Male",
          "Male",
          "Male",
          "Male",
          "Male",
          "Male",
          "Male",
          "Male",
          "Male",
          "Male",
          "Male",
          "Male",
          "Male",
          "Male",
          "Male",
          "Male",
          "Male",
          "Male",
          "Male",
          "Male",
          "Male",
          "Male",
          "Male",
          "Male",
          "Male",
          "Male",
          "Male",
          "Male",
          "Male",
          "Male",
          "Male",
          "Male",
          "Male",
          "Male",
          "Male",
          "Male",
          "Male",
          "Male",
          "Male",
          "Male",
          "Male",
          "Male",
          "Male",
          "Male",
          "Male",
          "Male",
          "Male",
          "Male",
          "Male",
          "Male",
          "Male",
          "Male",
          "Male",
          "Male",
          "Male",
          "Male",
          "Male",
          "Male",
          "Male",
          "Male",
          "Male",
          "Male",
          "Male",
          "Male",
          "Male",
          "Male",
          "Male",
          "Male",
          "Male",
          "Male",
          "Male",
          "Male",
          "Male",
          "Male",
          "Male",
          "Male",
          "Male",
          "Male",
          "Male",
          "Male",
          "Male",
          "Male",
          "Male",
          "Male",
          "Male",
          "Male",
          "Male",
          "Male",
          "Male",
          "Male",
          "Male",
          "Male",
          "Male",
          "Male",
          "Male",
          "Male",
          "Male",
          "Male",
          "Male",
          "Male",
          "Male",
          "Male",
          "Male",
          "Male",
          "Male",
          "Male",
          "Male",
          "Male",
          "Male",
          "Male",
          "Male",
          "Male",
          "Male",
          "Male",
          "Male",
          "Male",
          "Male",
          "Male",
          "Male",
          "Male",
          "Male",
          "Male",
          "Male",
          "Male",
          "Male",
          "Male",
          "Male",
          "Male",
          "Male",
          "Male",
          "Male",
          "Male",
          "Male",
          "Male",
          "Male",
          "Male",
          "Male",
          "Male",
          "Male",
          "Male",
          "Male",
          "Male",
          "Male",
          "Male",
          "Male",
          "Male",
          "Male",
          "Male",
          "Male",
          "Male",
          "Male",
          "Male",
          "Male",
          "Male",
          "Male",
          "Male",
          "Male",
          "Male",
          "Male",
          "Male",
          "Male",
          "Male",
          "Male",
          "Male",
          "Male",
          "Male",
          "Male",
          "Male",
          "Male",
          "Male",
          "Male",
          "Male",
          "Male",
          "Male",
          "Male",
          "Male",
          "Male",
          "Male",
          "Male",
          "Male",
          "Male",
          "Male",
          "Male",
          "Male",
          "Male",
          "Male",
          "Male",
          "Male",
          "Male",
          "Male",
          "Male",
          "Male",
          "Male",
          "Male",
          "Male",
          "Male",
          "Male",
          "Male",
          "Male",
          "Male",
          "Male",
          "Male",
          "Male",
          "Male",
          "Male",
          "Male",
          "Male",
          "Male",
          "Male",
          "Male",
          "Male",
          "Male",
          "Male",
          "Male",
          "Male",
          "Male",
          "Male",
          "Male",
          "Male",
          "Male",
          "Male",
          "Male",
          "Male",
          "Male",
          "Male",
          "Male",
          "Male",
          "Male",
          "Male",
          "Male",
          "Male",
          "Male",
          "Male",
          "Male",
          "Male",
          "Male",
          "Male",
          "Male",
          "Male",
          "Male",
          "Male",
          "Male",
          "Male",
          "Male",
          "Male",
          "Male",
          "Male",
          "Male",
          "Male",
          "Male",
          "Male",
          "Male",
          "Male",
          "Male",
          "Male",
          "Male",
          "Male",
          "Male",
          "Male",
          "Male",
          "Male",
          "Male",
          "Male",
          "Male",
          "Male",
          "Male",
          "Male",
          "Male",
          "Male",
          "Male",
          "Male",
          "Male",
          "Male",
          "Male",
          "Male",
          "Male",
          "Male",
          "Male",
          "Male",
          "Male",
          "Male",
          "Male",
          "Male",
          "Male",
          "Male",
          "Male",
          "Male",
          "Male",
          "Male",
          "Male",
          "Male",
          "Male",
          "Male",
          "Male",
          "Male",
          "Male",
          "Male",
          "Male",
          "Male",
          "Male",
          "Male",
          "Male",
          "Male",
          "Male",
          "Male",
          "Male",
          "Male",
          "Male",
          "Male",
          "Male",
          "Male",
          "Male",
          "Male",
          "Male",
          "Male",
          "Male",
          "Male",
          "Male",
          "Male",
          "Male",
          "Male",
          "Male",
          "Male",
          "Male",
          "Male",
          "Male",
          "Male",
          "Male",
          "Male",
          "Male",
          "Male",
          "Male",
          "Male",
          "Male",
          "Male",
          "Male",
          "Male",
          "Male",
          "Male",
          "Male",
          "Male",
          "Male",
          "Male",
          "Male",
          "Male",
          "Male",
          "Male",
          "Male",
          "Male",
          "Male",
          "Male",
          "Male",
          "Male",
          "Male",
          "Male",
          "Male",
          "Male",
          "Male",
          "Male",
          "Male",
          "Male",
          "Male",
          "Male",
          "Male",
          "Male",
          "Male",
          "Male",
          "Male",
          "Male",
          "Male",
          "Male",
          "Male",
          "Male",
          "Male",
          "Male",
          "Male",
          "Male",
          "Male",
          "Male",
          "Male",
          "Male",
          "Male",
          "Male",
          "Male",
          "Male",
          "Male",
          "Male",
          "Male",
          "Male",
          "Male",
          "Male",
          "Male",
          "Male",
          "Male",
          "Male",
          "Male",
          "Male",
          "Male",
          "Male",
          "Male",
          "Male",
          "Male",
          "Male",
          "Male",
          "Male",
          "Male",
          "Male",
          "Male",
          "Male",
          "Male",
          "Male",
          "Male",
          "Male",
          "Male",
          "Male",
          "Male",
          "Male",
          "Male",
          "Male",
          "Male",
          "Male",
          "Male",
          "Male",
          "Male",
          "Male",
          "Male",
          "Male",
          "Male",
          "Male",
          "Male",
          "Male",
          "Male",
          "Male",
          "Male",
          "Male",
          "Male",
          "Male",
          "Male",
          "Male",
          "Male",
          "Male",
          "Male",
          "Male",
          "Male",
          "Male",
          "Male",
          "Male",
          "Male",
          "Male",
          "Male",
          "Male",
          "Male",
          "Male",
          "Male",
          "Male",
          "Male",
          "Male",
          "Male",
          "Male",
          "Male",
          "Male",
          "Male",
          "Male",
          "Male",
          "Male",
          "Male",
          "Male",
          "Male",
          "Male",
          "Male",
          "Male",
          "Male",
          "Male",
          "Male",
          "Male",
          "Male",
          "Male",
          "Male",
          "Male",
          "Male",
          "Male",
          "Male",
          "Male",
          "Male",
          "Male",
          "Male",
          "Male",
          "Male",
          "Male",
          "Male",
          "Male",
          "Male",
          "Male",
          "Male",
          "Male",
          "Male",
          "Male",
          "Male",
          "Male",
          "Male",
          "Male",
          "Male",
          "Male",
          "Male",
          "Male",
          "Male",
          "Male",
          "Male",
          "Male",
          "Male",
          "Male",
          "Male",
          "Male",
          "Male",
          "Male",
          "Male",
          "Male",
          "Male",
          "Male",
          "Male",
          "Male",
          "Male",
          "Male",
          "Male",
          "Male",
          "Male",
          "Male",
          "Male",
          "Male",
          "Male",
          "Male",
          "Male"
         ],
         "xaxis": "x",
         "yaxis": "y"
        },
        {
         "alignmentgroup": "True",
         "bingroup": "x",
         "hovertemplate": "Gender=%{x}<br>count=%{y}<extra></extra>",
         "legendgroup": "Female",
         "marker": {
          "color": "#EF553B"
         },
         "name": "Female",
         "offsetgroup": "Female",
         "orientation": "v",
         "showlegend": true,
         "type": "histogram",
         "x": [
          "Female",
          "Female",
          "Female",
          "Female",
          "Female",
          "Female",
          "Female",
          "Female",
          "Female",
          "Female",
          "Female",
          "Female",
          "Female",
          "Female",
          "Female",
          "Female",
          "Female",
          "Female",
          "Female",
          "Female",
          "Female",
          "Female",
          "Female",
          "Female",
          "Female",
          "Female",
          "Female",
          "Female",
          "Female",
          "Female",
          "Female",
          "Female",
          "Female",
          "Female",
          "Female",
          "Female",
          "Female",
          "Female",
          "Female",
          "Female",
          "Female",
          "Female",
          "Female",
          "Female",
          "Female",
          "Female",
          "Female",
          "Female",
          "Female",
          "Female",
          "Female",
          "Female",
          "Female",
          "Female",
          "Female",
          "Female",
          "Female",
          "Female",
          "Female",
          "Female",
          "Female",
          "Female",
          "Female",
          "Female",
          "Female",
          "Female",
          "Female",
          "Female",
          "Female",
          "Female",
          "Female",
          "Female",
          "Female",
          "Female",
          "Female",
          "Female",
          "Female",
          "Female",
          "Female",
          "Female",
          "Female",
          "Female",
          "Female",
          "Female",
          "Female",
          "Female",
          "Female",
          "Female",
          "Female",
          "Female",
          "Female",
          "Female",
          "Female",
          "Female",
          "Female",
          "Female",
          "Female",
          "Female",
          "Female",
          "Female",
          "Female",
          "Female",
          "Female",
          "Female",
          "Female",
          "Female",
          "Female",
          "Female",
          "Female",
          "Female",
          "Female",
          "Female",
          "Female",
          "Female",
          "Female",
          "Female",
          "Female",
          "Female",
          "Female",
          "Female",
          "Female",
          "Female",
          "Female",
          "Female",
          "Female",
          "Female",
          "Female",
          "Female",
          "Female",
          "Female",
          "Female",
          "Female",
          "Female",
          "Female",
          "Female",
          "Female",
          "Female",
          "Female",
          "Female",
          "Female",
          "Female",
          "Female",
          "Female",
          "Female",
          "Female",
          "Female",
          "Female",
          "Female",
          "Female",
          "Female",
          "Female",
          "Female",
          "Female",
          "Female",
          "Female",
          "Female",
          "Female",
          "Female",
          "Female",
          "Female",
          "Female",
          "Female",
          "Female",
          "Female",
          "Female",
          "Female",
          "Female",
          "Female",
          "Female",
          "Female",
          "Female",
          "Female",
          "Female",
          "Female",
          "Female",
          "Female",
          "Female",
          "Female",
          "Female",
          "Female",
          "Female",
          "Female",
          "Female",
          "Female",
          "Female",
          "Female",
          "Female",
          "Female",
          "Female",
          "Female",
          "Female",
          "Female",
          "Female",
          "Female",
          "Female",
          "Female",
          "Female",
          "Female",
          "Female",
          "Female",
          "Female",
          "Female",
          "Female",
          "Female",
          "Female",
          "Female",
          "Female",
          "Female",
          "Female",
          "Female",
          "Female",
          "Female",
          "Female",
          "Female",
          "Female",
          "Female",
          "Female",
          "Female",
          "Female",
          "Female",
          "Female",
          "Female",
          "Female",
          "Female",
          "Female",
          "Female",
          "Female",
          "Female",
          "Female",
          "Female",
          "Female",
          "Female",
          "Female",
          "Female",
          "Female",
          "Female",
          "Female",
          "Female",
          "Female",
          "Female",
          "Female",
          "Female",
          "Female",
          "Female",
          "Female",
          "Female",
          "Female",
          "Female",
          "Female",
          "Female",
          "Female",
          "Female",
          "Female",
          "Female",
          "Female",
          "Female",
          "Female",
          "Female",
          "Female",
          "Female",
          "Female",
          "Female",
          "Female",
          "Female",
          "Female",
          "Female",
          "Female",
          "Female",
          "Female",
          "Female",
          "Female",
          "Female",
          "Female",
          "Female",
          "Female",
          "Female",
          "Female",
          "Female",
          "Female",
          "Female",
          "Female",
          "Female",
          "Female",
          "Female",
          "Female",
          "Female",
          "Female",
          "Female",
          "Female",
          "Female",
          "Female",
          "Female",
          "Female",
          "Female",
          "Female",
          "Female",
          "Female",
          "Female",
          "Female",
          "Female",
          "Female",
          "Female",
          "Female",
          "Female",
          "Female",
          "Female",
          "Female",
          "Female",
          "Female",
          "Female",
          "Female",
          "Female",
          "Female",
          "Female",
          "Female",
          "Female",
          "Female",
          "Female",
          "Female",
          "Female",
          "Female",
          "Female",
          "Female",
          "Female",
          "Female",
          "Female",
          "Female",
          "Female",
          "Female",
          "Female",
          "Female",
          "Female",
          "Female",
          "Female",
          "Female",
          "Female",
          "Female",
          "Female",
          "Female",
          "Female",
          "Female",
          "Female",
          "Female",
          "Female",
          "Female",
          "Female",
          "Female",
          "Female",
          "Female",
          "Female",
          "Female",
          "Female",
          "Female",
          "Female",
          "Female",
          "Female",
          "Female",
          "Female",
          "Female",
          "Female",
          "Female",
          "Female",
          "Female",
          "Female",
          "Female",
          "Female",
          "Female",
          "Female",
          "Female",
          "Female",
          "Female",
          "Female",
          "Female",
          "Female",
          "Female",
          "Female",
          "Female",
          "Female",
          "Female",
          "Female",
          "Female",
          "Female",
          "Female",
          "Female",
          "Female",
          "Female",
          "Female",
          "Female",
          "Female",
          "Female",
          "Female",
          "Female",
          "Female",
          "Female",
          "Female",
          "Female",
          "Female",
          "Female",
          "Female",
          "Female",
          "Female",
          "Female",
          "Female",
          "Female",
          "Female",
          "Female",
          "Female",
          "Female",
          "Female",
          "Female",
          "Female",
          "Female",
          "Female",
          "Female",
          "Female",
          "Female",
          "Female",
          "Female",
          "Female",
          "Female",
          "Female",
          "Female",
          "Female",
          "Female",
          "Female",
          "Female",
          "Female",
          "Female",
          "Female",
          "Female",
          "Female",
          "Female",
          "Female",
          "Female",
          "Female",
          "Female",
          "Female",
          "Female",
          "Female",
          "Female",
          "Female",
          "Female",
          "Female",
          "Female",
          "Female",
          "Female",
          "Female",
          "Female",
          "Female",
          "Female",
          "Female",
          "Female",
          "Female",
          "Female",
          "Female",
          "Female",
          "Female",
          "Female",
          "Female",
          "Female",
          "Female",
          "Female",
          "Female",
          "Female",
          "Female",
          "Female",
          "Female",
          "Female",
          "Female",
          "Female",
          "Female",
          "Female",
          "Female",
          "Female",
          "Female",
          "Female",
          "Female",
          "Female",
          "Female",
          "Female",
          "Female",
          "Female",
          "Female",
          "Female",
          "Female",
          "Female",
          "Female",
          "Female",
          "Female",
          "Female",
          "Female",
          "Female",
          "Female",
          "Female",
          "Female",
          "Female",
          "Female",
          "Female",
          "Female",
          "Female",
          "Female",
          "Female",
          "Female",
          "Female",
          "Female",
          "Female",
          "Female",
          "Female",
          "Female",
          "Female",
          "Female",
          "Female",
          "Female",
          "Female",
          "Female",
          "Female",
          "Female",
          "Female",
          "Female",
          "Female",
          "Female",
          "Female",
          "Female",
          "Female",
          "Female",
          "Female",
          "Female",
          "Female",
          "Female",
          "Female",
          "Female",
          "Female",
          "Female",
          "Female",
          "Female",
          "Female",
          "Female",
          "Female",
          "Female",
          "Female",
          "Female",
          "Female",
          "Female",
          "Female",
          "Female",
          "Female",
          "Female",
          "Female",
          "Female",
          "Female",
          "Female",
          "Female",
          "Female",
          "Female",
          "Female",
          "Female",
          "Female",
          "Female",
          "Female",
          "Female",
          "Female",
          "Female",
          "Female",
          "Female",
          "Female",
          "Female",
          "Female",
          "Female",
          "Female",
          "Female",
          "Female",
          "Female",
          "Female",
          "Female",
          "Female",
          "Female",
          "Female",
          "Female",
          "Female",
          "Female",
          "Female",
          "Female",
          "Female",
          "Female",
          "Female",
          "Female",
          "Female",
          "Female",
          "Female",
          "Female",
          "Female",
          "Female",
          "Female",
          "Female",
          "Female",
          "Female",
          "Female",
          "Female",
          "Female",
          "Female",
          "Female",
          "Female",
          "Female",
          "Female",
          "Female",
          "Female",
          "Female",
          "Female",
          "Female",
          "Female",
          "Female",
          "Female",
          "Female",
          "Female",
          "Female",
          "Female",
          "Female",
          "Female",
          "Female",
          "Female",
          "Female",
          "Female",
          "Female",
          "Female",
          "Female",
          "Female",
          "Female",
          "Female",
          "Female",
          "Female",
          "Female",
          "Female",
          "Female",
          "Female",
          "Female",
          "Female",
          "Female",
          "Female",
          "Female",
          "Female",
          "Female",
          "Female",
          "Female",
          "Female",
          "Female",
          "Female",
          "Female",
          "Female",
          "Female",
          "Female",
          "Female",
          "Female",
          "Female",
          "Female",
          "Female",
          "Female",
          "Female",
          "Female",
          "Female",
          "Female",
          "Female",
          "Female",
          "Female",
          "Female",
          "Female",
          "Female",
          "Female",
          "Female",
          "Female",
          "Female",
          "Female",
          "Female",
          "Female",
          "Female",
          "Female",
          "Female",
          "Female",
          "Female",
          "Female",
          "Female",
          "Female",
          "Female",
          "Female",
          "Female",
          "Female",
          "Female",
          "Female",
          "Female",
          "Female",
          "Female",
          "Female",
          "Female",
          "Female",
          "Female",
          "Female",
          "Female",
          "Female",
          "Female",
          "Female",
          "Female",
          "Female",
          "Female",
          "Female",
          "Female",
          "Female",
          "Female",
          "Female",
          "Female",
          "Female",
          "Female",
          "Female",
          "Female",
          "Female",
          "Female",
          "Female",
          "Female",
          "Female",
          "Female",
          "Female",
          "Female",
          "Female",
          "Female",
          "Female",
          "Female",
          "Female",
          "Female",
          "Female",
          "Female",
          "Female",
          "Female",
          "Female",
          "Female",
          "Female",
          "Female",
          "Female",
          "Female",
          "Female",
          "Female",
          "Female",
          "Female",
          "Female",
          "Female",
          "Female",
          "Female",
          "Female",
          "Female",
          "Female",
          "Female",
          "Female",
          "Female",
          "Female",
          "Female",
          "Female",
          "Female",
          "Female",
          "Female",
          "Female",
          "Female",
          "Female",
          "Female",
          "Female",
          "Female",
          "Female",
          "Female",
          "Female",
          "Female",
          "Female",
          "Female",
          "Female",
          "Female",
          "Female",
          "Female",
          "Female",
          "Female",
          "Female",
          "Female",
          "Female",
          "Female",
          "Female",
          "Female",
          "Female",
          "Female",
          "Female",
          "Female",
          "Female",
          "Female",
          "Female",
          "Female",
          "Female",
          "Female",
          "Female",
          "Female",
          "Female",
          "Female",
          "Female",
          "Female",
          "Female",
          "Female",
          "Female",
          "Female",
          "Female",
          "Female",
          "Female",
          "Female",
          "Female",
          "Female",
          "Female",
          "Female"
         ],
         "xaxis": "x",
         "yaxis": "y"
        }
       ],
       "layout": {
        "barmode": "relative",
        "legend": {
         "title": {
          "text": "Gender"
         },
         "tracegroupgap": 0
        },
        "template": {
         "data": {
          "bar": [
           {
            "error_x": {
             "color": "#2a3f5f"
            },
            "error_y": {
             "color": "#2a3f5f"
            },
            "marker": {
             "line": {
              "color": "#E5ECF6",
              "width": 0.5
             }
            },
            "type": "bar"
           }
          ],
          "barpolar": [
           {
            "marker": {
             "line": {
              "color": "#E5ECF6",
              "width": 0.5
             }
            },
            "type": "barpolar"
           }
          ],
          "carpet": [
           {
            "aaxis": {
             "endlinecolor": "#2a3f5f",
             "gridcolor": "white",
             "linecolor": "white",
             "minorgridcolor": "white",
             "startlinecolor": "#2a3f5f"
            },
            "baxis": {
             "endlinecolor": "#2a3f5f",
             "gridcolor": "white",
             "linecolor": "white",
             "minorgridcolor": "white",
             "startlinecolor": "#2a3f5f"
            },
            "type": "carpet"
           }
          ],
          "choropleth": [
           {
            "colorbar": {
             "outlinewidth": 0,
             "ticks": ""
            },
            "type": "choropleth"
           }
          ],
          "contour": [
           {
            "colorbar": {
             "outlinewidth": 0,
             "ticks": ""
            },
            "colorscale": [
             [
              0,
              "#0d0887"
             ],
             [
              0.1111111111111111,
              "#46039f"
             ],
             [
              0.2222222222222222,
              "#7201a8"
             ],
             [
              0.3333333333333333,
              "#9c179e"
             ],
             [
              0.4444444444444444,
              "#bd3786"
             ],
             [
              0.5555555555555556,
              "#d8576b"
             ],
             [
              0.6666666666666666,
              "#ed7953"
             ],
             [
              0.7777777777777778,
              "#fb9f3a"
             ],
             [
              0.8888888888888888,
              "#fdca26"
             ],
             [
              1,
              "#f0f921"
             ]
            ],
            "type": "contour"
           }
          ],
          "contourcarpet": [
           {
            "colorbar": {
             "outlinewidth": 0,
             "ticks": ""
            },
            "type": "contourcarpet"
           }
          ],
          "heatmap": [
           {
            "colorbar": {
             "outlinewidth": 0,
             "ticks": ""
            },
            "colorscale": [
             [
              0,
              "#0d0887"
             ],
             [
              0.1111111111111111,
              "#46039f"
             ],
             [
              0.2222222222222222,
              "#7201a8"
             ],
             [
              0.3333333333333333,
              "#9c179e"
             ],
             [
              0.4444444444444444,
              "#bd3786"
             ],
             [
              0.5555555555555556,
              "#d8576b"
             ],
             [
              0.6666666666666666,
              "#ed7953"
             ],
             [
              0.7777777777777778,
              "#fb9f3a"
             ],
             [
              0.8888888888888888,
              "#fdca26"
             ],
             [
              1,
              "#f0f921"
             ]
            ],
            "type": "heatmap"
           }
          ],
          "heatmapgl": [
           {
            "colorbar": {
             "outlinewidth": 0,
             "ticks": ""
            },
            "colorscale": [
             [
              0,
              "#0d0887"
             ],
             [
              0.1111111111111111,
              "#46039f"
             ],
             [
              0.2222222222222222,
              "#7201a8"
             ],
             [
              0.3333333333333333,
              "#9c179e"
             ],
             [
              0.4444444444444444,
              "#bd3786"
             ],
             [
              0.5555555555555556,
              "#d8576b"
             ],
             [
              0.6666666666666666,
              "#ed7953"
             ],
             [
              0.7777777777777778,
              "#fb9f3a"
             ],
             [
              0.8888888888888888,
              "#fdca26"
             ],
             [
              1,
              "#f0f921"
             ]
            ],
            "type": "heatmapgl"
           }
          ],
          "histogram": [
           {
            "marker": {
             "colorbar": {
              "outlinewidth": 0,
              "ticks": ""
             }
            },
            "type": "histogram"
           }
          ],
          "histogram2d": [
           {
            "colorbar": {
             "outlinewidth": 0,
             "ticks": ""
            },
            "colorscale": [
             [
              0,
              "#0d0887"
             ],
             [
              0.1111111111111111,
              "#46039f"
             ],
             [
              0.2222222222222222,
              "#7201a8"
             ],
             [
              0.3333333333333333,
              "#9c179e"
             ],
             [
              0.4444444444444444,
              "#bd3786"
             ],
             [
              0.5555555555555556,
              "#d8576b"
             ],
             [
              0.6666666666666666,
              "#ed7953"
             ],
             [
              0.7777777777777778,
              "#fb9f3a"
             ],
             [
              0.8888888888888888,
              "#fdca26"
             ],
             [
              1,
              "#f0f921"
             ]
            ],
            "type": "histogram2d"
           }
          ],
          "histogram2dcontour": [
           {
            "colorbar": {
             "outlinewidth": 0,
             "ticks": ""
            },
            "colorscale": [
             [
              0,
              "#0d0887"
             ],
             [
              0.1111111111111111,
              "#46039f"
             ],
             [
              0.2222222222222222,
              "#7201a8"
             ],
             [
              0.3333333333333333,
              "#9c179e"
             ],
             [
              0.4444444444444444,
              "#bd3786"
             ],
             [
              0.5555555555555556,
              "#d8576b"
             ],
             [
              0.6666666666666666,
              "#ed7953"
             ],
             [
              0.7777777777777778,
              "#fb9f3a"
             ],
             [
              0.8888888888888888,
              "#fdca26"
             ],
             [
              1,
              "#f0f921"
             ]
            ],
            "type": "histogram2dcontour"
           }
          ],
          "mesh3d": [
           {
            "colorbar": {
             "outlinewidth": 0,
             "ticks": ""
            },
            "type": "mesh3d"
           }
          ],
          "parcoords": [
           {
            "line": {
             "colorbar": {
              "outlinewidth": 0,
              "ticks": ""
             }
            },
            "type": "parcoords"
           }
          ],
          "pie": [
           {
            "automargin": true,
            "type": "pie"
           }
          ],
          "scatter": [
           {
            "marker": {
             "colorbar": {
              "outlinewidth": 0,
              "ticks": ""
             }
            },
            "type": "scatter"
           }
          ],
          "scatter3d": [
           {
            "line": {
             "colorbar": {
              "outlinewidth": 0,
              "ticks": ""
             }
            },
            "marker": {
             "colorbar": {
              "outlinewidth": 0,
              "ticks": ""
             }
            },
            "type": "scatter3d"
           }
          ],
          "scattercarpet": [
           {
            "marker": {
             "colorbar": {
              "outlinewidth": 0,
              "ticks": ""
             }
            },
            "type": "scattercarpet"
           }
          ],
          "scattergeo": [
           {
            "marker": {
             "colorbar": {
              "outlinewidth": 0,
              "ticks": ""
             }
            },
            "type": "scattergeo"
           }
          ],
          "scattergl": [
           {
            "marker": {
             "colorbar": {
              "outlinewidth": 0,
              "ticks": ""
             }
            },
            "type": "scattergl"
           }
          ],
          "scattermapbox": [
           {
            "marker": {
             "colorbar": {
              "outlinewidth": 0,
              "ticks": ""
             }
            },
            "type": "scattermapbox"
           }
          ],
          "scatterpolar": [
           {
            "marker": {
             "colorbar": {
              "outlinewidth": 0,
              "ticks": ""
             }
            },
            "type": "scatterpolar"
           }
          ],
          "scatterpolargl": [
           {
            "marker": {
             "colorbar": {
              "outlinewidth": 0,
              "ticks": ""
             }
            },
            "type": "scatterpolargl"
           }
          ],
          "scatterternary": [
           {
            "marker": {
             "colorbar": {
              "outlinewidth": 0,
              "ticks": ""
             }
            },
            "type": "scatterternary"
           }
          ],
          "surface": [
           {
            "colorbar": {
             "outlinewidth": 0,
             "ticks": ""
            },
            "colorscale": [
             [
              0,
              "#0d0887"
             ],
             [
              0.1111111111111111,
              "#46039f"
             ],
             [
              0.2222222222222222,
              "#7201a8"
             ],
             [
              0.3333333333333333,
              "#9c179e"
             ],
             [
              0.4444444444444444,
              "#bd3786"
             ],
             [
              0.5555555555555556,
              "#d8576b"
             ],
             [
              0.6666666666666666,
              "#ed7953"
             ],
             [
              0.7777777777777778,
              "#fb9f3a"
             ],
             [
              0.8888888888888888,
              "#fdca26"
             ],
             [
              1,
              "#f0f921"
             ]
            ],
            "type": "surface"
           }
          ],
          "table": [
           {
            "cells": {
             "fill": {
              "color": "#EBF0F8"
             },
             "line": {
              "color": "white"
             }
            },
            "header": {
             "fill": {
              "color": "#C8D4E3"
             },
             "line": {
              "color": "white"
             }
            },
            "type": "table"
           }
          ]
         },
         "layout": {
          "annotationdefaults": {
           "arrowcolor": "#2a3f5f",
           "arrowhead": 0,
           "arrowwidth": 1
          },
          "autotypenumbers": "strict",
          "coloraxis": {
           "colorbar": {
            "outlinewidth": 0,
            "ticks": ""
           }
          },
          "colorscale": {
           "diverging": [
            [
             0,
             "#8e0152"
            ],
            [
             0.1,
             "#c51b7d"
            ],
            [
             0.2,
             "#de77ae"
            ],
            [
             0.3,
             "#f1b6da"
            ],
            [
             0.4,
             "#fde0ef"
            ],
            [
             0.5,
             "#f7f7f7"
            ],
            [
             0.6,
             "#e6f5d0"
            ],
            [
             0.7,
             "#b8e186"
            ],
            [
             0.8,
             "#7fbc41"
            ],
            [
             0.9,
             "#4d9221"
            ],
            [
             1,
             "#276419"
            ]
           ],
           "sequential": [
            [
             0,
             "#0d0887"
            ],
            [
             0.1111111111111111,
             "#46039f"
            ],
            [
             0.2222222222222222,
             "#7201a8"
            ],
            [
             0.3333333333333333,
             "#9c179e"
            ],
            [
             0.4444444444444444,
             "#bd3786"
            ],
            [
             0.5555555555555556,
             "#d8576b"
            ],
            [
             0.6666666666666666,
             "#ed7953"
            ],
            [
             0.7777777777777778,
             "#fb9f3a"
            ],
            [
             0.8888888888888888,
             "#fdca26"
            ],
            [
             1,
             "#f0f921"
            ]
           ],
           "sequentialminus": [
            [
             0,
             "#0d0887"
            ],
            [
             0.1111111111111111,
             "#46039f"
            ],
            [
             0.2222222222222222,
             "#7201a8"
            ],
            [
             0.3333333333333333,
             "#9c179e"
            ],
            [
             0.4444444444444444,
             "#bd3786"
            ],
            [
             0.5555555555555556,
             "#d8576b"
            ],
            [
             0.6666666666666666,
             "#ed7953"
            ],
            [
             0.7777777777777778,
             "#fb9f3a"
            ],
            [
             0.8888888888888888,
             "#fdca26"
            ],
            [
             1,
             "#f0f921"
            ]
           ]
          },
          "colorway": [
           "#636efa",
           "#EF553B",
           "#00cc96",
           "#ab63fa",
           "#FFA15A",
           "#19d3f3",
           "#FF6692",
           "#B6E880",
           "#FF97FF",
           "#FECB52"
          ],
          "font": {
           "color": "#2a3f5f"
          },
          "geo": {
           "bgcolor": "white",
           "lakecolor": "white",
           "landcolor": "#E5ECF6",
           "showlakes": true,
           "showland": true,
           "subunitcolor": "white"
          },
          "hoverlabel": {
           "align": "left"
          },
          "hovermode": "closest",
          "mapbox": {
           "style": "light"
          },
          "paper_bgcolor": "white",
          "plot_bgcolor": "#E5ECF6",
          "polar": {
           "angularaxis": {
            "gridcolor": "white",
            "linecolor": "white",
            "ticks": ""
           },
           "bgcolor": "#E5ECF6",
           "radialaxis": {
            "gridcolor": "white",
            "linecolor": "white",
            "ticks": ""
           }
          },
          "scene": {
           "xaxis": {
            "backgroundcolor": "#E5ECF6",
            "gridcolor": "white",
            "gridwidth": 2,
            "linecolor": "white",
            "showbackground": true,
            "ticks": "",
            "zerolinecolor": "white"
           },
           "yaxis": {
            "backgroundcolor": "#E5ECF6",
            "gridcolor": "white",
            "gridwidth": 2,
            "linecolor": "white",
            "showbackground": true,
            "ticks": "",
            "zerolinecolor": "white"
           },
           "zaxis": {
            "backgroundcolor": "#E5ECF6",
            "gridcolor": "white",
            "gridwidth": 2,
            "linecolor": "white",
            "showbackground": true,
            "ticks": "",
            "zerolinecolor": "white"
           }
          },
          "shapedefaults": {
           "line": {
            "color": "#2a3f5f"
           }
          },
          "ternary": {
           "aaxis": {
            "gridcolor": "white",
            "linecolor": "white",
            "ticks": ""
           },
           "baxis": {
            "gridcolor": "white",
            "linecolor": "white",
            "ticks": ""
           },
           "bgcolor": "#E5ECF6",
           "caxis": {
            "gridcolor": "white",
            "linecolor": "white",
            "ticks": ""
           }
          },
          "title": {
           "x": 0.05
          },
          "xaxis": {
           "automargin": true,
           "gridcolor": "white",
           "linecolor": "white",
           "ticks": "",
           "title": {
            "standoff": 15
           },
           "zerolinecolor": "white",
           "zerolinewidth": 2
          },
          "yaxis": {
           "automargin": true,
           "gridcolor": "white",
           "linecolor": "white",
           "ticks": "",
           "title": {
            "standoff": 15
           },
           "zerolinecolor": "white",
           "zerolinewidth": 2
          }
         }
        },
        "title": {
         "text": "Count of Policies by Gender"
        },
        "xaxis": {
         "anchor": "y",
         "categoryarray": [
          "Male",
          "Female"
         ],
         "categoryorder": "array",
         "domain": [
          0,
          1
         ],
         "title": {
          "text": "Gender"
         }
        },
        "yaxis": {
         "anchor": "x",
         "domain": [
          0,
          1
         ],
         "title": {
          "text": "count"
         }
        }
       }
      },
      "text/html": [
       "<div>                            <div id=\"7c971d3f-ab40-4e22-aae4-3ed523ebea99\" class=\"plotly-graph-div\" style=\"height:525px; width:100%;\"></div>            <script type=\"text/javascript\">                require([\"plotly\"], function(Plotly) {                    window.PLOTLYENV=window.PLOTLYENV || {};                                    if (document.getElementById(\"7c971d3f-ab40-4e22-aae4-3ed523ebea99\")) {                    Plotly.newPlot(                        \"7c971d3f-ab40-4e22-aae4-3ed523ebea99\",                        [{\"alignmentgroup\": \"True\", \"bingroup\": \"x\", \"hovertemplate\": \"Gender=%{x}<br>count=%{y}<extra></extra>\", \"legendgroup\": \"Male\", \"marker\": {\"color\": \"#636efa\"}, \"name\": \"Male\", \"offsetgroup\": \"Male\", \"orientation\": \"v\", \"showlegend\": true, \"type\": \"histogram\", \"x\": [\"Male\", \"Male\", \"Male\", \"Male\", \"Male\", \"Male\", \"Male\", \"Male\", \"Male\", \"Male\", \"Male\", \"Male\", \"Male\", \"Male\", \"Male\", \"Male\", \"Male\", \"Male\", \"Male\", \"Male\", \"Male\", \"Male\", \"Male\", \"Male\", \"Male\", \"Male\", \"Male\", \"Male\", \"Male\", \"Male\", \"Male\", \"Male\", \"Male\", \"Male\", \"Male\", \"Male\", \"Male\", \"Male\", \"Male\", \"Male\", \"Male\", \"Male\", \"Male\", \"Male\", \"Male\", \"Male\", \"Male\", \"Male\", \"Male\", \"Male\", \"Male\", \"Male\", \"Male\", \"Male\", \"Male\", \"Male\", \"Male\", \"Male\", \"Male\", \"Male\", \"Male\", \"Male\", \"Male\", \"Male\", \"Male\", \"Male\", \"Male\", \"Male\", \"Male\", \"Male\", \"Male\", \"Male\", \"Male\", \"Male\", \"Male\", \"Male\", \"Male\", \"Male\", \"Male\", \"Male\", \"Male\", \"Male\", \"Male\", \"Male\", \"Male\", \"Male\", \"Male\", \"Male\", \"Male\", \"Male\", \"Male\", \"Male\", \"Male\", \"Male\", \"Male\", \"Male\", \"Male\", \"Male\", \"Male\", \"Male\", \"Male\", \"Male\", \"Male\", \"Male\", \"Male\", \"Male\", \"Male\", \"Male\", \"Male\", \"Male\", \"Male\", \"Male\", \"Male\", \"Male\", \"Male\", \"Male\", \"Male\", \"Male\", \"Male\", \"Male\", \"Male\", \"Male\", \"Male\", \"Male\", \"Male\", \"Male\", \"Male\", \"Male\", \"Male\", \"Male\", \"Male\", \"Male\", \"Male\", \"Male\", \"Male\", \"Male\", \"Male\", \"Male\", \"Male\", \"Male\", \"Male\", \"Male\", \"Male\", \"Male\", \"Male\", \"Male\", \"Male\", \"Male\", \"Male\", \"Male\", \"Male\", \"Male\", \"Male\", \"Male\", \"Male\", \"Male\", \"Male\", \"Male\", \"Male\", \"Male\", \"Male\", \"Male\", \"Male\", \"Male\", \"Male\", \"Male\", \"Male\", \"Male\", \"Male\", \"Male\", \"Male\", \"Male\", \"Male\", \"Male\", \"Male\", \"Male\", \"Male\", \"Male\", \"Male\", \"Male\", \"Male\", \"Male\", \"Male\", \"Male\", \"Male\", \"Male\", \"Male\", \"Male\", \"Male\", \"Male\", \"Male\", \"Male\", \"Male\", \"Male\", \"Male\", \"Male\", \"Male\", \"Male\", \"Male\", \"Male\", \"Male\", \"Male\", \"Male\", \"Male\", \"Male\", \"Male\", \"Male\", \"Male\", \"Male\", \"Male\", \"Male\", \"Male\", \"Male\", \"Male\", \"Male\", \"Male\", \"Male\", \"Male\", \"Male\", \"Male\", \"Male\", \"Male\", \"Male\", \"Male\", \"Male\", \"Male\", \"Male\", \"Male\", \"Male\", \"Male\", \"Male\", \"Male\", \"Male\", \"Male\", \"Male\", \"Male\", \"Male\", \"Male\", \"Male\", \"Male\", \"Male\", \"Male\", \"Male\", \"Male\", \"Male\", \"Male\", \"Male\", \"Male\", \"Male\", \"Male\", \"Male\", \"Male\", \"Male\", \"Male\", \"Male\", \"Male\", \"Male\", \"Male\", \"Male\", \"Male\", \"Male\", \"Male\", \"Male\", \"Male\", \"Male\", \"Male\", \"Male\", \"Male\", \"Male\", \"Male\", \"Male\", \"Male\", \"Male\", \"Male\", \"Male\", \"Male\", \"Male\", \"Male\", \"Male\", \"Male\", \"Male\", \"Male\", \"Male\", \"Male\", \"Male\", \"Male\", \"Male\", \"Male\", \"Male\", \"Male\", \"Male\", \"Male\", \"Male\", \"Male\", \"Male\", \"Male\", \"Male\", \"Male\", \"Male\", \"Male\", \"Male\", \"Male\", \"Male\", \"Male\", \"Male\", \"Male\", \"Male\", \"Male\", \"Male\", \"Male\", \"Male\", \"Male\", \"Male\", \"Male\", \"Male\", \"Male\", \"Male\", \"Male\", \"Male\", \"Male\", \"Male\", \"Male\", \"Male\", \"Male\", \"Male\", \"Male\", \"Male\", \"Male\", \"Male\", \"Male\", \"Male\", \"Male\", \"Male\", \"Male\", \"Male\", \"Male\", \"Male\", \"Male\", \"Male\", \"Male\", \"Male\", \"Male\", \"Male\", \"Male\", \"Male\", \"Male\", \"Male\", \"Male\", \"Male\", \"Male\", \"Male\", \"Male\", \"Male\", \"Male\", \"Male\", \"Male\", \"Male\", \"Male\", \"Male\", \"Male\", \"Male\", \"Male\", \"Male\", \"Male\", \"Male\", \"Male\", \"Male\", \"Male\", \"Male\", \"Male\", \"Male\", \"Male\", \"Male\", \"Male\", \"Male\", \"Male\", \"Male\", \"Male\", \"Male\", \"Male\", \"Male\", \"Male\", \"Male\", \"Male\", \"Male\", \"Male\", \"Male\", \"Male\", \"Male\", \"Male\", \"Male\", \"Male\", \"Male\", \"Male\", \"Male\", \"Male\", \"Male\", \"Male\", \"Male\", \"Male\", \"Male\", \"Male\", \"Male\", \"Male\", \"Male\", \"Male\", \"Male\", \"Male\", \"Male\", \"Male\", \"Male\", \"Male\", \"Male\", \"Male\", \"Male\", \"Male\", \"Male\", \"Male\", \"Male\", \"Male\", \"Male\", \"Male\", \"Male\", \"Male\", \"Male\", \"Male\", \"Male\", \"Male\", \"Male\", \"Male\", \"Male\", \"Male\", \"Male\", \"Male\", \"Male\", \"Male\", \"Male\", \"Male\", \"Male\", \"Male\", \"Male\", \"Male\", \"Male\", \"Male\", \"Male\", \"Male\", \"Male\", \"Male\", \"Male\", \"Male\", \"Male\", \"Male\", \"Male\", \"Male\", \"Male\", \"Male\", \"Male\", \"Male\", \"Male\", \"Male\", \"Male\", \"Male\", \"Male\", \"Male\", \"Male\", \"Male\", \"Male\", \"Male\", \"Male\", \"Male\", \"Male\", \"Male\", \"Male\", \"Male\", \"Male\", \"Male\", \"Male\", \"Male\", \"Male\", \"Male\", \"Male\", \"Male\", \"Male\", \"Male\", \"Male\", \"Male\", \"Male\", \"Male\", \"Male\", \"Male\", \"Male\", \"Male\", \"Male\", \"Male\", \"Male\", \"Male\", \"Male\", \"Male\", \"Male\", \"Male\", \"Male\", \"Male\", \"Male\", \"Male\", \"Male\", \"Male\", \"Male\", \"Male\", \"Male\", \"Male\", \"Male\", \"Male\", \"Male\", \"Male\", \"Male\", \"Male\", \"Male\", \"Male\", \"Male\", \"Male\", \"Male\", \"Male\", \"Male\", \"Male\", \"Male\", \"Male\", \"Male\", \"Male\", \"Male\", \"Male\", \"Male\", \"Male\", \"Male\", \"Male\", \"Male\", \"Male\", \"Male\", \"Male\", \"Male\", \"Male\", \"Male\", \"Male\", \"Male\", \"Male\", \"Male\", \"Male\", \"Male\", \"Male\", \"Male\", \"Male\", \"Male\", \"Male\", \"Male\", \"Male\", \"Male\", \"Male\", \"Male\", \"Male\", \"Male\", \"Male\", \"Male\", \"Male\", \"Male\", \"Male\", \"Male\", \"Male\", \"Male\", \"Male\", \"Male\", \"Male\", \"Male\", \"Male\", \"Male\", \"Male\", \"Male\", \"Male\", \"Male\", \"Male\", \"Male\", \"Male\", \"Male\", \"Male\", \"Male\", \"Male\", \"Male\", \"Male\", \"Male\", \"Male\", \"Male\", \"Male\", \"Male\", \"Male\", \"Male\", \"Male\", \"Male\", \"Male\", \"Male\", \"Male\", \"Male\", \"Male\", \"Male\", \"Male\", \"Male\", \"Male\", \"Male\", \"Male\", \"Male\", \"Male\", \"Male\", \"Male\", \"Male\", \"Male\", \"Male\", \"Male\", \"Male\", \"Male\", \"Male\", \"Male\", \"Male\", \"Male\", \"Male\", \"Male\", \"Male\", \"Male\", \"Male\", \"Male\", \"Male\", \"Male\", \"Male\", \"Male\", \"Male\", \"Male\", \"Male\", \"Male\", \"Male\", \"Male\", \"Male\", \"Male\", \"Male\", \"Male\", \"Male\", \"Male\", \"Male\", \"Male\", \"Male\", \"Male\", \"Male\", \"Male\", \"Male\", \"Male\", \"Male\", \"Male\", \"Male\", \"Male\", \"Male\", \"Male\", \"Male\", \"Male\", \"Male\", \"Male\", \"Male\", \"Male\", \"Male\", \"Male\", \"Male\", \"Male\", \"Male\", \"Male\", \"Male\", \"Male\", \"Male\", \"Male\", \"Male\", \"Male\", \"Male\", \"Male\", \"Male\", \"Male\", \"Male\", \"Male\", \"Male\", \"Male\", \"Male\", \"Male\", \"Male\", \"Male\", \"Male\", \"Male\", \"Male\", \"Male\", \"Male\", \"Male\", \"Male\", \"Male\", \"Male\", \"Male\", \"Male\", \"Male\", \"Male\", \"Male\", \"Male\", \"Male\", \"Male\", \"Male\", \"Male\", \"Male\", \"Male\", \"Male\", \"Male\", \"Male\", \"Male\", \"Male\", \"Male\", \"Male\", \"Male\", \"Male\", \"Male\", \"Male\", \"Male\", \"Male\", \"Male\", \"Male\", \"Male\", \"Male\", \"Male\", \"Male\", \"Male\", \"Male\", \"Male\", \"Male\", \"Male\", \"Male\", \"Male\", \"Male\", \"Male\", \"Male\", \"Male\", \"Male\", \"Male\", \"Male\", \"Male\", \"Male\", \"Male\", \"Male\", \"Male\", \"Male\", \"Male\", \"Male\", \"Male\", \"Male\", \"Male\", \"Male\", \"Male\", \"Male\", \"Male\", \"Male\", \"Male\", \"Male\", \"Male\", \"Male\", \"Male\", \"Male\", \"Male\", \"Male\", \"Male\", \"Male\", \"Male\", \"Male\", \"Male\", \"Male\", \"Male\", \"Male\", \"Male\", \"Male\", \"Male\", \"Male\", \"Male\", \"Male\", \"Male\", \"Male\", \"Male\", \"Male\", \"Male\", \"Male\", \"Male\", \"Male\", \"Male\", \"Male\", \"Male\", \"Male\", \"Male\", \"Male\", \"Male\", \"Male\", \"Male\", \"Male\", \"Male\", \"Male\", \"Male\", \"Male\", \"Male\", \"Male\", \"Male\", \"Male\", \"Male\", \"Male\", \"Male\", \"Male\", \"Male\", \"Male\", \"Male\", \"Male\", \"Male\", \"Male\", \"Male\", \"Male\", \"Male\", \"Male\", \"Male\", \"Male\", \"Male\", \"Male\", \"Male\", \"Male\", \"Male\", \"Male\", \"Male\"], \"xaxis\": \"x\", \"yaxis\": \"y\"}, {\"alignmentgroup\": \"True\", \"bingroup\": \"x\", \"hovertemplate\": \"Gender=%{x}<br>count=%{y}<extra></extra>\", \"legendgroup\": \"Female\", \"marker\": {\"color\": \"#EF553B\"}, \"name\": \"Female\", \"offsetgroup\": \"Female\", \"orientation\": \"v\", \"showlegend\": true, \"type\": \"histogram\", \"x\": [\"Female\", \"Female\", \"Female\", \"Female\", \"Female\", \"Female\", \"Female\", \"Female\", \"Female\", \"Female\", \"Female\", \"Female\", \"Female\", \"Female\", \"Female\", \"Female\", \"Female\", \"Female\", \"Female\", \"Female\", \"Female\", \"Female\", \"Female\", \"Female\", \"Female\", \"Female\", \"Female\", \"Female\", \"Female\", \"Female\", \"Female\", \"Female\", \"Female\", \"Female\", \"Female\", \"Female\", \"Female\", \"Female\", \"Female\", \"Female\", \"Female\", \"Female\", \"Female\", \"Female\", \"Female\", \"Female\", \"Female\", \"Female\", \"Female\", \"Female\", \"Female\", \"Female\", \"Female\", \"Female\", \"Female\", \"Female\", \"Female\", \"Female\", \"Female\", \"Female\", \"Female\", \"Female\", \"Female\", \"Female\", \"Female\", \"Female\", \"Female\", \"Female\", \"Female\", \"Female\", \"Female\", \"Female\", \"Female\", \"Female\", \"Female\", \"Female\", \"Female\", \"Female\", \"Female\", \"Female\", \"Female\", \"Female\", \"Female\", \"Female\", \"Female\", \"Female\", \"Female\", \"Female\", \"Female\", \"Female\", \"Female\", \"Female\", \"Female\", \"Female\", \"Female\", \"Female\", \"Female\", \"Female\", \"Female\", \"Female\", \"Female\", \"Female\", \"Female\", \"Female\", \"Female\", \"Female\", \"Female\", \"Female\", \"Female\", \"Female\", \"Female\", \"Female\", \"Female\", \"Female\", \"Female\", \"Female\", \"Female\", \"Female\", \"Female\", \"Female\", \"Female\", \"Female\", \"Female\", \"Female\", \"Female\", \"Female\", \"Female\", \"Female\", \"Female\", \"Female\", \"Female\", \"Female\", \"Female\", \"Female\", \"Female\", \"Female\", \"Female\", \"Female\", \"Female\", \"Female\", \"Female\", \"Female\", \"Female\", \"Female\", \"Female\", \"Female\", \"Female\", \"Female\", \"Female\", \"Female\", \"Female\", \"Female\", \"Female\", \"Female\", \"Female\", \"Female\", \"Female\", \"Female\", \"Female\", \"Female\", \"Female\", \"Female\", \"Female\", \"Female\", \"Female\", \"Female\", \"Female\", \"Female\", \"Female\", \"Female\", \"Female\", \"Female\", \"Female\", \"Female\", \"Female\", \"Female\", \"Female\", \"Female\", \"Female\", \"Female\", \"Female\", \"Female\", \"Female\", \"Female\", \"Female\", \"Female\", \"Female\", \"Female\", \"Female\", \"Female\", \"Female\", \"Female\", \"Female\", \"Female\", \"Female\", \"Female\", \"Female\", \"Female\", \"Female\", \"Female\", \"Female\", \"Female\", \"Female\", \"Female\", \"Female\", \"Female\", \"Female\", \"Female\", \"Female\", \"Female\", \"Female\", \"Female\", \"Female\", \"Female\", \"Female\", \"Female\", \"Female\", \"Female\", \"Female\", \"Female\", \"Female\", \"Female\", \"Female\", \"Female\", \"Female\", \"Female\", \"Female\", \"Female\", \"Female\", \"Female\", \"Female\", \"Female\", \"Female\", \"Female\", \"Female\", \"Female\", \"Female\", \"Female\", \"Female\", \"Female\", \"Female\", \"Female\", \"Female\", \"Female\", \"Female\", \"Female\", \"Female\", \"Female\", \"Female\", \"Female\", \"Female\", \"Female\", \"Female\", \"Female\", \"Female\", \"Female\", \"Female\", \"Female\", \"Female\", \"Female\", \"Female\", \"Female\", \"Female\", \"Female\", \"Female\", \"Female\", \"Female\", \"Female\", \"Female\", \"Female\", \"Female\", \"Female\", \"Female\", \"Female\", \"Female\", \"Female\", \"Female\", \"Female\", \"Female\", \"Female\", \"Female\", \"Female\", \"Female\", \"Female\", \"Female\", \"Female\", \"Female\", \"Female\", \"Female\", \"Female\", \"Female\", \"Female\", \"Female\", \"Female\", \"Female\", \"Female\", \"Female\", \"Female\", \"Female\", \"Female\", \"Female\", \"Female\", \"Female\", \"Female\", \"Female\", \"Female\", \"Female\", \"Female\", \"Female\", \"Female\", \"Female\", \"Female\", \"Female\", \"Female\", \"Female\", \"Female\", \"Female\", \"Female\", \"Female\", \"Female\", \"Female\", \"Female\", \"Female\", \"Female\", \"Female\", \"Female\", \"Female\", \"Female\", \"Female\", \"Female\", \"Female\", \"Female\", \"Female\", \"Female\", \"Female\", \"Female\", \"Female\", \"Female\", \"Female\", \"Female\", \"Female\", \"Female\", \"Female\", \"Female\", \"Female\", \"Female\", \"Female\", \"Female\", \"Female\", \"Female\", \"Female\", \"Female\", \"Female\", \"Female\", \"Female\", \"Female\", \"Female\", \"Female\", \"Female\", \"Female\", \"Female\", \"Female\", \"Female\", \"Female\", \"Female\", \"Female\", \"Female\", \"Female\", \"Female\", \"Female\", \"Female\", \"Female\", \"Female\", \"Female\", \"Female\", \"Female\", \"Female\", \"Female\", \"Female\", \"Female\", \"Female\", \"Female\", \"Female\", \"Female\", \"Female\", \"Female\", \"Female\", \"Female\", \"Female\", \"Female\", \"Female\", \"Female\", \"Female\", \"Female\", \"Female\", \"Female\", \"Female\", \"Female\", \"Female\", \"Female\", \"Female\", \"Female\", \"Female\", \"Female\", \"Female\", \"Female\", \"Female\", \"Female\", \"Female\", \"Female\", \"Female\", \"Female\", \"Female\", \"Female\", \"Female\", \"Female\", \"Female\", \"Female\", \"Female\", \"Female\", \"Female\", \"Female\", \"Female\", \"Female\", \"Female\", \"Female\", \"Female\", \"Female\", \"Female\", \"Female\", \"Female\", \"Female\", \"Female\", \"Female\", \"Female\", \"Female\", \"Female\", \"Female\", \"Female\", \"Female\", \"Female\", \"Female\", \"Female\", \"Female\", \"Female\", \"Female\", \"Female\", \"Female\", \"Female\", \"Female\", \"Female\", \"Female\", \"Female\", \"Female\", \"Female\", \"Female\", \"Female\", \"Female\", \"Female\", \"Female\", \"Female\", \"Female\", \"Female\", \"Female\", \"Female\", \"Female\", \"Female\", \"Female\", \"Female\", \"Female\", \"Female\", \"Female\", \"Female\", \"Female\", \"Female\", \"Female\", \"Female\", \"Female\", \"Female\", \"Female\", \"Female\", \"Female\", \"Female\", \"Female\", \"Female\", \"Female\", \"Female\", \"Female\", \"Female\", \"Female\", \"Female\", \"Female\", \"Female\", \"Female\", \"Female\", \"Female\", \"Female\", \"Female\", \"Female\", \"Female\", \"Female\", \"Female\", \"Female\", \"Female\", \"Female\", \"Female\", \"Female\", \"Female\", \"Female\", \"Female\", \"Female\", \"Female\", \"Female\", \"Female\", \"Female\", \"Female\", \"Female\", \"Female\", \"Female\", \"Female\", \"Female\", \"Female\", \"Female\", \"Female\", \"Female\", \"Female\", \"Female\", \"Female\", \"Female\", \"Female\", \"Female\", \"Female\", \"Female\", \"Female\", \"Female\", \"Female\", \"Female\", \"Female\", \"Female\", \"Female\", \"Female\", \"Female\", \"Female\", \"Female\", \"Female\", \"Female\", \"Female\", \"Female\", \"Female\", \"Female\", \"Female\", \"Female\", \"Female\", \"Female\", \"Female\", \"Female\", \"Female\", \"Female\", \"Female\", \"Female\", \"Female\", \"Female\", \"Female\", \"Female\", \"Female\", \"Female\", \"Female\", \"Female\", \"Female\", \"Female\", \"Female\", \"Female\", \"Female\", \"Female\", \"Female\", \"Female\", \"Female\", \"Female\", \"Female\", \"Female\", \"Female\", \"Female\", \"Female\", \"Female\", \"Female\", \"Female\", \"Female\", \"Female\", \"Female\", \"Female\", \"Female\", \"Female\", \"Female\", \"Female\", \"Female\", \"Female\", \"Female\", \"Female\", \"Female\", \"Female\", \"Female\", \"Female\", \"Female\", \"Female\", \"Female\", \"Female\", \"Female\", \"Female\", \"Female\", \"Female\", \"Female\", \"Female\", \"Female\", \"Female\", \"Female\", \"Female\", \"Female\", \"Female\", \"Female\", \"Female\", \"Female\", \"Female\", \"Female\", \"Female\", \"Female\", \"Female\", \"Female\", \"Female\", \"Female\", \"Female\", \"Female\", \"Female\", \"Female\", \"Female\", \"Female\", \"Female\", \"Female\", \"Female\", \"Female\", \"Female\", \"Female\", \"Female\", \"Female\", \"Female\", \"Female\", \"Female\", \"Female\", \"Female\", \"Female\", \"Female\", \"Female\", \"Female\", \"Female\", \"Female\", \"Female\", \"Female\", \"Female\", \"Female\", \"Female\", \"Female\", \"Female\", \"Female\", \"Female\", \"Female\", \"Female\", \"Female\", \"Female\", \"Female\", \"Female\", \"Female\", \"Female\", \"Female\", \"Female\", \"Female\", \"Female\", \"Female\", \"Female\", \"Female\", \"Female\", \"Female\", \"Female\", \"Female\", \"Female\", \"Female\", \"Female\", \"Female\", \"Female\", \"Female\", \"Female\", \"Female\", \"Female\", \"Female\", \"Female\", \"Female\", \"Female\", \"Female\", \"Female\", \"Female\", \"Female\", \"Female\", \"Female\", \"Female\", \"Female\", \"Female\", \"Female\", \"Female\", \"Female\", \"Female\", \"Female\", \"Female\", \"Female\", \"Female\", \"Female\", \"Female\", \"Female\", \"Female\", \"Female\", \"Female\", \"Female\", \"Female\", \"Female\", \"Female\", \"Female\", \"Female\", \"Female\", \"Female\", \"Female\", \"Female\", \"Female\", \"Female\", \"Female\", \"Female\", \"Female\", \"Female\", \"Female\", \"Female\", \"Female\", \"Female\", \"Female\", \"Female\", \"Female\", \"Female\", \"Female\", \"Female\", \"Female\", \"Female\", \"Female\", \"Female\", \"Female\", \"Female\", \"Female\", \"Female\", \"Female\", \"Female\", \"Female\", \"Female\", \"Female\", \"Female\", \"Female\", \"Female\", \"Female\", \"Female\", \"Female\", \"Female\", \"Female\", \"Female\", \"Female\", \"Female\", \"Female\", \"Female\", \"Female\", \"Female\", \"Female\", \"Female\", \"Female\", \"Female\", \"Female\", \"Female\", \"Female\", \"Female\", \"Female\", \"Female\", \"Female\", \"Female\", \"Female\", \"Female\", \"Female\", \"Female\", \"Female\", \"Female\", \"Female\", \"Female\", \"Female\", \"Female\", \"Female\", \"Female\", \"Female\", \"Female\", \"Female\", \"Female\", \"Female\", \"Female\", \"Female\", \"Female\", \"Female\", \"Female\", \"Female\", \"Female\"], \"xaxis\": \"x\", \"yaxis\": \"y\"}],                        {\"barmode\": \"relative\", \"legend\": {\"title\": {\"text\": \"Gender\"}, \"tracegroupgap\": 0}, \"template\": {\"data\": {\"bar\": [{\"error_x\": {\"color\": \"#2a3f5f\"}, \"error_y\": {\"color\": \"#2a3f5f\"}, \"marker\": {\"line\": {\"color\": \"#E5ECF6\", \"width\": 0.5}}, \"type\": \"bar\"}], \"barpolar\": [{\"marker\": {\"line\": {\"color\": \"#E5ECF6\", \"width\": 0.5}}, \"type\": \"barpolar\"}], \"carpet\": [{\"aaxis\": {\"endlinecolor\": \"#2a3f5f\", \"gridcolor\": \"white\", \"linecolor\": \"white\", \"minorgridcolor\": \"white\", \"startlinecolor\": \"#2a3f5f\"}, \"baxis\": {\"endlinecolor\": \"#2a3f5f\", \"gridcolor\": \"white\", \"linecolor\": \"white\", \"minorgridcolor\": \"white\", \"startlinecolor\": \"#2a3f5f\"}, \"type\": \"carpet\"}], \"choropleth\": [{\"colorbar\": {\"outlinewidth\": 0, \"ticks\": \"\"}, \"type\": \"choropleth\"}], \"contour\": [{\"colorbar\": {\"outlinewidth\": 0, \"ticks\": \"\"}, \"colorscale\": [[0.0, \"#0d0887\"], [0.1111111111111111, \"#46039f\"], [0.2222222222222222, \"#7201a8\"], [0.3333333333333333, \"#9c179e\"], [0.4444444444444444, \"#bd3786\"], [0.5555555555555556, \"#d8576b\"], [0.6666666666666666, \"#ed7953\"], [0.7777777777777778, \"#fb9f3a\"], [0.8888888888888888, \"#fdca26\"], [1.0, \"#f0f921\"]], \"type\": \"contour\"}], \"contourcarpet\": [{\"colorbar\": {\"outlinewidth\": 0, \"ticks\": \"\"}, \"type\": \"contourcarpet\"}], \"heatmap\": [{\"colorbar\": {\"outlinewidth\": 0, \"ticks\": \"\"}, \"colorscale\": [[0.0, \"#0d0887\"], [0.1111111111111111, \"#46039f\"], [0.2222222222222222, \"#7201a8\"], [0.3333333333333333, \"#9c179e\"], [0.4444444444444444, \"#bd3786\"], [0.5555555555555556, \"#d8576b\"], [0.6666666666666666, \"#ed7953\"], [0.7777777777777778, \"#fb9f3a\"], [0.8888888888888888, \"#fdca26\"], [1.0, \"#f0f921\"]], \"type\": \"heatmap\"}], \"heatmapgl\": [{\"colorbar\": {\"outlinewidth\": 0, \"ticks\": \"\"}, \"colorscale\": [[0.0, \"#0d0887\"], [0.1111111111111111, \"#46039f\"], [0.2222222222222222, \"#7201a8\"], [0.3333333333333333, \"#9c179e\"], [0.4444444444444444, \"#bd3786\"], [0.5555555555555556, \"#d8576b\"], [0.6666666666666666, \"#ed7953\"], [0.7777777777777778, \"#fb9f3a\"], [0.8888888888888888, \"#fdca26\"], [1.0, \"#f0f921\"]], \"type\": \"heatmapgl\"}], \"histogram\": [{\"marker\": {\"colorbar\": {\"outlinewidth\": 0, \"ticks\": \"\"}}, \"type\": \"histogram\"}], \"histogram2d\": [{\"colorbar\": {\"outlinewidth\": 0, \"ticks\": \"\"}, \"colorscale\": [[0.0, \"#0d0887\"], [0.1111111111111111, \"#46039f\"], [0.2222222222222222, \"#7201a8\"], [0.3333333333333333, \"#9c179e\"], [0.4444444444444444, \"#bd3786\"], [0.5555555555555556, \"#d8576b\"], [0.6666666666666666, \"#ed7953\"], [0.7777777777777778, \"#fb9f3a\"], [0.8888888888888888, \"#fdca26\"], [1.0, \"#f0f921\"]], \"type\": \"histogram2d\"}], \"histogram2dcontour\": [{\"colorbar\": {\"outlinewidth\": 0, \"ticks\": \"\"}, \"colorscale\": [[0.0, \"#0d0887\"], [0.1111111111111111, \"#46039f\"], [0.2222222222222222, \"#7201a8\"], [0.3333333333333333, \"#9c179e\"], [0.4444444444444444, \"#bd3786\"], [0.5555555555555556, \"#d8576b\"], [0.6666666666666666, \"#ed7953\"], [0.7777777777777778, \"#fb9f3a\"], [0.8888888888888888, \"#fdca26\"], [1.0, \"#f0f921\"]], \"type\": \"histogram2dcontour\"}], \"mesh3d\": [{\"colorbar\": {\"outlinewidth\": 0, \"ticks\": \"\"}, \"type\": \"mesh3d\"}], \"parcoords\": [{\"line\": {\"colorbar\": {\"outlinewidth\": 0, \"ticks\": \"\"}}, \"type\": \"parcoords\"}], \"pie\": [{\"automargin\": true, \"type\": \"pie\"}], \"scatter\": [{\"marker\": {\"colorbar\": {\"outlinewidth\": 0, \"ticks\": \"\"}}, \"type\": \"scatter\"}], \"scatter3d\": [{\"line\": {\"colorbar\": {\"outlinewidth\": 0, \"ticks\": \"\"}}, \"marker\": {\"colorbar\": {\"outlinewidth\": 0, \"ticks\": \"\"}}, \"type\": \"scatter3d\"}], \"scattercarpet\": [{\"marker\": {\"colorbar\": {\"outlinewidth\": 0, \"ticks\": \"\"}}, \"type\": \"scattercarpet\"}], \"scattergeo\": [{\"marker\": {\"colorbar\": {\"outlinewidth\": 0, \"ticks\": \"\"}}, \"type\": \"scattergeo\"}], \"scattergl\": [{\"marker\": {\"colorbar\": {\"outlinewidth\": 0, \"ticks\": \"\"}}, \"type\": \"scattergl\"}], \"scattermapbox\": [{\"marker\": {\"colorbar\": {\"outlinewidth\": 0, \"ticks\": \"\"}}, \"type\": \"scattermapbox\"}], \"scatterpolar\": [{\"marker\": {\"colorbar\": {\"outlinewidth\": 0, \"ticks\": \"\"}}, \"type\": \"scatterpolar\"}], \"scatterpolargl\": [{\"marker\": {\"colorbar\": {\"outlinewidth\": 0, \"ticks\": \"\"}}, \"type\": \"scatterpolargl\"}], \"scatterternary\": [{\"marker\": {\"colorbar\": {\"outlinewidth\": 0, \"ticks\": \"\"}}, \"type\": \"scatterternary\"}], \"surface\": [{\"colorbar\": {\"outlinewidth\": 0, \"ticks\": \"\"}, \"colorscale\": [[0.0, \"#0d0887\"], [0.1111111111111111, \"#46039f\"], [0.2222222222222222, \"#7201a8\"], [0.3333333333333333, \"#9c179e\"], [0.4444444444444444, \"#bd3786\"], [0.5555555555555556, \"#d8576b\"], [0.6666666666666666, \"#ed7953\"], [0.7777777777777778, \"#fb9f3a\"], [0.8888888888888888, \"#fdca26\"], [1.0, \"#f0f921\"]], \"type\": \"surface\"}], \"table\": [{\"cells\": {\"fill\": {\"color\": \"#EBF0F8\"}, \"line\": {\"color\": \"white\"}}, \"header\": {\"fill\": {\"color\": \"#C8D4E3\"}, \"line\": {\"color\": \"white\"}}, \"type\": \"table\"}]}, \"layout\": {\"annotationdefaults\": {\"arrowcolor\": \"#2a3f5f\", \"arrowhead\": 0, \"arrowwidth\": 1}, \"autotypenumbers\": \"strict\", \"coloraxis\": {\"colorbar\": {\"outlinewidth\": 0, \"ticks\": \"\"}}, \"colorscale\": {\"diverging\": [[0, \"#8e0152\"], [0.1, \"#c51b7d\"], [0.2, \"#de77ae\"], [0.3, \"#f1b6da\"], [0.4, \"#fde0ef\"], [0.5, \"#f7f7f7\"], [0.6, \"#e6f5d0\"], [0.7, \"#b8e186\"], [0.8, \"#7fbc41\"], [0.9, \"#4d9221\"], [1, \"#276419\"]], \"sequential\": [[0.0, \"#0d0887\"], [0.1111111111111111, \"#46039f\"], [0.2222222222222222, \"#7201a8\"], [0.3333333333333333, \"#9c179e\"], [0.4444444444444444, \"#bd3786\"], [0.5555555555555556, \"#d8576b\"], [0.6666666666666666, \"#ed7953\"], [0.7777777777777778, \"#fb9f3a\"], [0.8888888888888888, \"#fdca26\"], [1.0, \"#f0f921\"]], \"sequentialminus\": [[0.0, \"#0d0887\"], [0.1111111111111111, \"#46039f\"], [0.2222222222222222, \"#7201a8\"], [0.3333333333333333, \"#9c179e\"], [0.4444444444444444, \"#bd3786\"], [0.5555555555555556, \"#d8576b\"], [0.6666666666666666, \"#ed7953\"], [0.7777777777777778, \"#fb9f3a\"], [0.8888888888888888, \"#fdca26\"], [1.0, \"#f0f921\"]]}, \"colorway\": [\"#636efa\", \"#EF553B\", \"#00cc96\", \"#ab63fa\", \"#FFA15A\", \"#19d3f3\", \"#FF6692\", \"#B6E880\", \"#FF97FF\", \"#FECB52\"], \"font\": {\"color\": \"#2a3f5f\"}, \"geo\": {\"bgcolor\": \"white\", \"lakecolor\": \"white\", \"landcolor\": \"#E5ECF6\", \"showlakes\": true, \"showland\": true, \"subunitcolor\": \"white\"}, \"hoverlabel\": {\"align\": \"left\"}, \"hovermode\": \"closest\", \"mapbox\": {\"style\": \"light\"}, \"paper_bgcolor\": \"white\", \"plot_bgcolor\": \"#E5ECF6\", \"polar\": {\"angularaxis\": {\"gridcolor\": \"white\", \"linecolor\": \"white\", \"ticks\": \"\"}, \"bgcolor\": \"#E5ECF6\", \"radialaxis\": {\"gridcolor\": \"white\", \"linecolor\": \"white\", \"ticks\": \"\"}}, \"scene\": {\"xaxis\": {\"backgroundcolor\": \"#E5ECF6\", \"gridcolor\": \"white\", \"gridwidth\": 2, \"linecolor\": \"white\", \"showbackground\": true, \"ticks\": \"\", \"zerolinecolor\": \"white\"}, \"yaxis\": {\"backgroundcolor\": \"#E5ECF6\", \"gridcolor\": \"white\", \"gridwidth\": 2, \"linecolor\": \"white\", \"showbackground\": true, \"ticks\": \"\", \"zerolinecolor\": \"white\"}, \"zaxis\": {\"backgroundcolor\": \"#E5ECF6\", \"gridcolor\": \"white\", \"gridwidth\": 2, \"linecolor\": \"white\", \"showbackground\": true, \"ticks\": \"\", \"zerolinecolor\": \"white\"}}, \"shapedefaults\": {\"line\": {\"color\": \"#2a3f5f\"}}, \"ternary\": {\"aaxis\": {\"gridcolor\": \"white\", \"linecolor\": \"white\", \"ticks\": \"\"}, \"baxis\": {\"gridcolor\": \"white\", \"linecolor\": \"white\", \"ticks\": \"\"}, \"bgcolor\": \"#E5ECF6\", \"caxis\": {\"gridcolor\": \"white\", \"linecolor\": \"white\", \"ticks\": \"\"}}, \"title\": {\"x\": 0.05}, \"xaxis\": {\"automargin\": true, \"gridcolor\": \"white\", \"linecolor\": \"white\", \"ticks\": \"\", \"title\": {\"standoff\": 15}, \"zerolinecolor\": \"white\", \"zerolinewidth\": 2}, \"yaxis\": {\"automargin\": true, \"gridcolor\": \"white\", \"linecolor\": \"white\", \"ticks\": \"\", \"title\": {\"standoff\": 15}, \"zerolinecolor\": \"white\", \"zerolinewidth\": 2}}}, \"title\": {\"text\": \"Count of Policies by Gender\"}, \"xaxis\": {\"anchor\": \"y\", \"categoryarray\": [\"Male\", \"Female\"], \"categoryorder\": \"array\", \"domain\": [0.0, 1.0], \"title\": {\"text\": \"Gender\"}}, \"yaxis\": {\"anchor\": \"x\", \"domain\": [0.0, 1.0], \"title\": {\"text\": \"count\"}}},                        {\"responsive\": true}                    ).then(function(){\n",
       "                            \n",
       "var gd = document.getElementById('7c971d3f-ab40-4e22-aae4-3ed523ebea99');\n",
       "var x = new MutationObserver(function (mutations, observer) {{\n",
       "        var display = window.getComputedStyle(gd).display;\n",
       "        if (!display || display === 'none') {{\n",
       "            console.log([gd, 'removed!']);\n",
       "            Plotly.purge(gd);\n",
       "            observer.disconnect();\n",
       "        }}\n",
       "}});\n",
       "\n",
       "// Listen for the removal of the full notebook cells\n",
       "var notebookContainer = gd.closest('#notebook-container');\n",
       "if (notebookContainer) {{\n",
       "    x.observe(notebookContainer, {childList: true});\n",
       "}}\n",
       "\n",
       "// Listen for the clearing of the current output cell\n",
       "var outputEl = gd.closest('.output');\n",
       "if (outputEl) {{\n",
       "    x.observe(outputEl, {childList: true});\n",
       "}}\n",
       "\n",
       "                        })                };                });            </script>        </div>"
      ]
     },
     "metadata": {},
     "output_type": "display_data"
    }
   ],
   "source": [
    "fig = px.histogram(dfNew, x='Gender', title=\"Count of Policies by Gender\" ,hover_data=['Policy Value'], color= 'Gender')\n",
    "fig.show()"
   ]
  },
  {
   "cell_type": "markdown",
   "metadata": {},
   "source": [
    "Total policy value for the Male policy holders is more than the value for teh female policy holders"
   ]
  },
  {
   "cell_type": "code",
   "execution_count": 218,
   "metadata": {
    "scrolled": false
   },
   "outputs": [
    {
     "data": {
      "application/vnd.plotly.v1+json": {
       "config": {
        "plotlyServerURL": "https://plot.ly"
       },
       "data": [
        {
         "alignmentgroup": "True",
         "bingroup": "x",
         "histfunc": "sum",
         "hovertemplate": "Gender=%{x}<br>sum of Policy Value=%{y}<extra></extra>",
         "legendgroup": "Male",
         "marker": {
          "color": "#636efa"
         },
         "name": "Male",
         "offsetgroup": "Male",
         "orientation": "v",
         "showlegend": true,
         "type": "histogram",
         "x": [
          "Male",
          "Male",
          "Male",
          "Male",
          "Male",
          "Male",
          "Male",
          "Male",
          "Male",
          "Male",
          "Male",
          "Male",
          "Male",
          "Male",
          "Male",
          "Male",
          "Male",
          "Male",
          "Male",
          "Male",
          "Male",
          "Male",
          "Male",
          "Male",
          "Male",
          "Male",
          "Male",
          "Male",
          "Male",
          "Male",
          "Male",
          "Male",
          "Male",
          "Male",
          "Male",
          "Male",
          "Male",
          "Male",
          "Male",
          "Male",
          "Male",
          "Male",
          "Male",
          "Male",
          "Male",
          "Male",
          "Male",
          "Male",
          "Male",
          "Male",
          "Male",
          "Male",
          "Male",
          "Male",
          "Male",
          "Male",
          "Male",
          "Male",
          "Male",
          "Male",
          "Male",
          "Male",
          "Male",
          "Male",
          "Male",
          "Male",
          "Male",
          "Male",
          "Male",
          "Male",
          "Male",
          "Male",
          "Male",
          "Male",
          "Male",
          "Male",
          "Male",
          "Male",
          "Male",
          "Male",
          "Male",
          "Male",
          "Male",
          "Male",
          "Male",
          "Male",
          "Male",
          "Male",
          "Male",
          "Male",
          "Male",
          "Male",
          "Male",
          "Male",
          "Male",
          "Male",
          "Male",
          "Male",
          "Male",
          "Male",
          "Male",
          "Male",
          "Male",
          "Male",
          "Male",
          "Male",
          "Male",
          "Male",
          "Male",
          "Male",
          "Male",
          "Male",
          "Male",
          "Male",
          "Male",
          "Male",
          "Male",
          "Male",
          "Male",
          "Male",
          "Male",
          "Male",
          "Male",
          "Male",
          "Male",
          "Male",
          "Male",
          "Male",
          "Male",
          "Male",
          "Male",
          "Male",
          "Male",
          "Male",
          "Male",
          "Male",
          "Male",
          "Male",
          "Male",
          "Male",
          "Male",
          "Male",
          "Male",
          "Male",
          "Male",
          "Male",
          "Male",
          "Male",
          "Male",
          "Male",
          "Male",
          "Male",
          "Male",
          "Male",
          "Male",
          "Male",
          "Male",
          "Male",
          "Male",
          "Male",
          "Male",
          "Male",
          "Male",
          "Male",
          "Male",
          "Male",
          "Male",
          "Male",
          "Male",
          "Male",
          "Male",
          "Male",
          "Male",
          "Male",
          "Male",
          "Male",
          "Male",
          "Male",
          "Male",
          "Male",
          "Male",
          "Male",
          "Male",
          "Male",
          "Male",
          "Male",
          "Male",
          "Male",
          "Male",
          "Male",
          "Male",
          "Male",
          "Male",
          "Male",
          "Male",
          "Male",
          "Male",
          "Male",
          "Male",
          "Male",
          "Male",
          "Male",
          "Male",
          "Male",
          "Male",
          "Male",
          "Male",
          "Male",
          "Male",
          "Male",
          "Male",
          "Male",
          "Male",
          "Male",
          "Male",
          "Male",
          "Male",
          "Male",
          "Male",
          "Male",
          "Male",
          "Male",
          "Male",
          "Male",
          "Male",
          "Male",
          "Male",
          "Male",
          "Male",
          "Male",
          "Male",
          "Male",
          "Male",
          "Male",
          "Male",
          "Male",
          "Male",
          "Male",
          "Male",
          "Male",
          "Male",
          "Male",
          "Male",
          "Male",
          "Male",
          "Male",
          "Male",
          "Male",
          "Male",
          "Male",
          "Male",
          "Male",
          "Male",
          "Male",
          "Male",
          "Male",
          "Male",
          "Male",
          "Male",
          "Male",
          "Male",
          "Male",
          "Male",
          "Male",
          "Male",
          "Male",
          "Male",
          "Male",
          "Male",
          "Male",
          "Male",
          "Male",
          "Male",
          "Male",
          "Male",
          "Male",
          "Male",
          "Male",
          "Male",
          "Male",
          "Male",
          "Male",
          "Male",
          "Male",
          "Male",
          "Male",
          "Male",
          "Male",
          "Male",
          "Male",
          "Male",
          "Male",
          "Male",
          "Male",
          "Male",
          "Male",
          "Male",
          "Male",
          "Male",
          "Male",
          "Male",
          "Male",
          "Male",
          "Male",
          "Male",
          "Male",
          "Male",
          "Male",
          "Male",
          "Male",
          "Male",
          "Male",
          "Male",
          "Male",
          "Male",
          "Male",
          "Male",
          "Male",
          "Male",
          "Male",
          "Male",
          "Male",
          "Male",
          "Male",
          "Male",
          "Male",
          "Male",
          "Male",
          "Male",
          "Male",
          "Male",
          "Male",
          "Male",
          "Male",
          "Male",
          "Male",
          "Male",
          "Male",
          "Male",
          "Male",
          "Male",
          "Male",
          "Male",
          "Male",
          "Male",
          "Male",
          "Male",
          "Male",
          "Male",
          "Male",
          "Male",
          "Male",
          "Male",
          "Male",
          "Male",
          "Male",
          "Male",
          "Male",
          "Male",
          "Male",
          "Male",
          "Male",
          "Male",
          "Male",
          "Male",
          "Male",
          "Male",
          "Male",
          "Male",
          "Male",
          "Male",
          "Male",
          "Male",
          "Male",
          "Male",
          "Male",
          "Male",
          "Male",
          "Male",
          "Male",
          "Male",
          "Male",
          "Male",
          "Male",
          "Male",
          "Male",
          "Male",
          "Male",
          "Male",
          "Male",
          "Male",
          "Male",
          "Male",
          "Male",
          "Male",
          "Male",
          "Male",
          "Male",
          "Male",
          "Male",
          "Male",
          "Male",
          "Male",
          "Male",
          "Male",
          "Male",
          "Male",
          "Male",
          "Male",
          "Male",
          "Male",
          "Male",
          "Male",
          "Male",
          "Male",
          "Male",
          "Male",
          "Male",
          "Male",
          "Male",
          "Male",
          "Male",
          "Male",
          "Male",
          "Male",
          "Male",
          "Male",
          "Male",
          "Male",
          "Male",
          "Male",
          "Male",
          "Male",
          "Male",
          "Male",
          "Male",
          "Male",
          "Male",
          "Male",
          "Male",
          "Male",
          "Male",
          "Male",
          "Male",
          "Male",
          "Male",
          "Male",
          "Male",
          "Male",
          "Male",
          "Male",
          "Male",
          "Male",
          "Male",
          "Male",
          "Male",
          "Male",
          "Male",
          "Male",
          "Male",
          "Male",
          "Male",
          "Male",
          "Male",
          "Male",
          "Male",
          "Male",
          "Male",
          "Male",
          "Male",
          "Male",
          "Male",
          "Male",
          "Male",
          "Male",
          "Male",
          "Male",
          "Male",
          "Male",
          "Male",
          "Male",
          "Male",
          "Male",
          "Male",
          "Male",
          "Male",
          "Male",
          "Male",
          "Male",
          "Male",
          "Male",
          "Male",
          "Male",
          "Male",
          "Male",
          "Male",
          "Male",
          "Male",
          "Male",
          "Male",
          "Male",
          "Male",
          "Male",
          "Male",
          "Male",
          "Male",
          "Male",
          "Male",
          "Male",
          "Male",
          "Male",
          "Male",
          "Male",
          "Male",
          "Male",
          "Male",
          "Male",
          "Male",
          "Male",
          "Male",
          "Male",
          "Male",
          "Male",
          "Male",
          "Male",
          "Male",
          "Male",
          "Male",
          "Male",
          "Male",
          "Male",
          "Male",
          "Male",
          "Male",
          "Male",
          "Male",
          "Male",
          "Male",
          "Male",
          "Male",
          "Male",
          "Male",
          "Male",
          "Male",
          "Male",
          "Male",
          "Male",
          "Male",
          "Male",
          "Male",
          "Male",
          "Male",
          "Male",
          "Male",
          "Male",
          "Male",
          "Male",
          "Male",
          "Male",
          "Male",
          "Male",
          "Male",
          "Male",
          "Male",
          "Male",
          "Male",
          "Male",
          "Male",
          "Male",
          "Male",
          "Male",
          "Male",
          "Male",
          "Male",
          "Male",
          "Male",
          "Male",
          "Male",
          "Male",
          "Male",
          "Male",
          "Male",
          "Male",
          "Male",
          "Male",
          "Male",
          "Male",
          "Male",
          "Male",
          "Male",
          "Male",
          "Male",
          "Male",
          "Male",
          "Male",
          "Male",
          "Male",
          "Male",
          "Male",
          "Male",
          "Male",
          "Male",
          "Male",
          "Male",
          "Male",
          "Male",
          "Male",
          "Male",
          "Male",
          "Male",
          "Male",
          "Male",
          "Male",
          "Male",
          "Male",
          "Male",
          "Male",
          "Male",
          "Male",
          "Male",
          "Male",
          "Male",
          "Male",
          "Male",
          "Male",
          "Male",
          "Male",
          "Male",
          "Male",
          "Male",
          "Male",
          "Male",
          "Male",
          "Male",
          "Male",
          "Male",
          "Male",
          "Male",
          "Male",
          "Male",
          "Male",
          "Male",
          "Male",
          "Male",
          "Male",
          "Male",
          "Male",
          "Male",
          "Male",
          "Male",
          "Male",
          "Male",
          "Male",
          "Male",
          "Male",
          "Male",
          "Male",
          "Male",
          "Male",
          "Male",
          "Male",
          "Male",
          "Male",
          "Male",
          "Male",
          "Male",
          "Male",
          "Male",
          "Male",
          "Male",
          "Male",
          "Male",
          "Male",
          "Male",
          "Male",
          "Male",
          "Male",
          "Male",
          "Male",
          "Male",
          "Male",
          "Male",
          "Male",
          "Male",
          "Male",
          "Male",
          "Male",
          "Male",
          "Male",
          "Male",
          "Male",
          "Male",
          "Male",
          "Male",
          "Male",
          "Male",
          "Male",
          "Male",
          "Male",
          "Male",
          "Male",
          "Male",
          "Male",
          "Male",
          "Male",
          "Male",
          "Male",
          "Male",
          "Male",
          "Male",
          "Male",
          "Male",
          "Male",
          "Male",
          "Male",
          "Male",
          "Male",
          "Male",
          "Male",
          "Male",
          "Male",
          "Male",
          "Male",
          "Male",
          "Male",
          "Male",
          "Male",
          "Male",
          "Male",
          "Male",
          "Male",
          "Male",
          "Male",
          "Male",
          "Male",
          "Male",
          "Male",
          "Male",
          "Male",
          "Male",
          "Male",
          "Male",
          "Male",
          "Male",
          "Male",
          "Male",
          "Male",
          "Male",
          "Male",
          "Male",
          "Male",
          "Male",
          "Male",
          "Male",
          "Male",
          "Male",
          "Male",
          "Male",
          "Male",
          "Male",
          "Male",
          "Male",
          "Male",
          "Male",
          "Male",
          "Male",
          "Male",
          "Male",
          "Male",
          "Male",
          "Male",
          "Male",
          "Male",
          "Male",
          "Male",
          "Male",
          "Male",
          "Male",
          "Male",
          "Male",
          "Male",
          "Male",
          "Male",
          "Male",
          "Male",
          "Male",
          "Male",
          "Male",
          "Male",
          "Male",
          "Male",
          "Male",
          "Male",
          "Male",
          "Male",
          "Male",
          "Male",
          "Male",
          "Male",
          "Male",
          "Male",
          "Male",
          "Male",
          "Male",
          "Male",
          "Male",
          "Male",
          "Male",
          "Male",
          "Male",
          "Male",
          "Male",
          "Male",
          "Male",
          "Male",
          "Male",
          "Male",
          "Male",
          "Male",
          "Male",
          "Male",
          "Male",
          "Male",
          "Male",
          "Male",
          "Male",
          "Male"
         ],
         "xaxis": "x",
         "y": [
          744154,
          605286,
          248765,
          6792,
          720029,
          80458,
          2407,
          864398,
          333,
          226613,
          72533,
          6035,
          666725,
          9710,
          31310,
          null,
          109785,
          null,
          823918,
          3322,
          357534,
          3447,
          16636,
          228275,
          8080,
          659562,
          null,
          869238,
          447225,
          1291,
          57119,
          3153,
          181106,
          4983,
          2577,
          655530,
          2583,
          58068,
          8107,
          419803,
          174997,
          9620,
          131472,
          9833,
          278052,
          9334,
          229896,
          267045,
          747448,
          null,
          334388,
          6166,
          394221,
          337472,
          null,
          103332,
          7681,
          441025,
          null,
          303463,
          5247,
          987520,
          4912,
          724006,
          264554,
          4041,
          598499,
          964750,
          365567,
          1491,
          119898,
          586333,
          327780,
          null,
          205070,
          7100,
          344681,
          700750,
          865419,
          9168,
          748164,
          51350,
          445292,
          807863,
          4045,
          553463,
          8986,
          889684,
          876153,
          298404,
          6364,
          438871,
          3101,
          755123,
          1352,
          333576,
          8060,
          null,
          133643,
          6508,
          928819,
          1827,
          223084,
          6443,
          816287,
          682,
          527901,
          8503,
          846305,
          6119,
          504154,
          9985,
          27053,
          1612,
          33718,
          5657,
          655488,
          770633,
          null,
          758597,
          8134,
          168534,
          677211,
          789985,
          35522,
          4834,
          511037,
          7351,
          846778,
          944429,
          6038,
          361013,
          160419,
          7550,
          15414,
          5921,
          126827,
          529947,
          215026,
          620654,
          null,
          232561,
          909480,
          417502,
          420827,
          9353,
          890950,
          8519,
          752658,
          303894,
          null,
          734251,
          2121,
          912588,
          null,
          149625,
          832865,
          null,
          820401,
          2693,
          547840,
          8158,
          730730,
          3781,
          227640,
          520103,
          602280,
          7211,
          85552,
          912379,
          6083,
          474397,
          575563,
          9762,
          415070,
          6328,
          453413,
          8743,
          517982,
          735036,
          null,
          773788,
          8914,
          776763,
          298329,
          9452,
          444111,
          null,
          203912,
          9495,
          150396,
          9999,
          632446,
          2814,
          727125,
          363027,
          1627,
          983191,
          3058,
          804925,
          714110,
          9371,
          859250,
          7873,
          520006,
          157222,
          null,
          491870,
          14241,
          9422,
          858367,
          733471,
          null,
          192970,
          9371,
          368863,
          8675,
          155409,
          473135,
          9802,
          478297,
          1890,
          885894,
          null,
          298521,
          8673,
          291657,
          null,
          966013,
          2869,
          25583,
          6521,
          554971,
          null,
          582828,
          9086,
          897737,
          490579,
          412923,
          null,
          535579,
          5205,
          571529,
          4899,
          315744,
          195,
          912549,
          2099,
          945231,
          2480,
          228212,
          9179,
          300624,
          4996,
          687783,
          null,
          290172,
          108,
          527184,
          2049,
          962828,
          409640,
          5057,
          607492,
          7737,
          892868,
          2543,
          415650,
          6396,
          353917,
          402029,
          null,
          441414,
          8403,
          458969,
          101453,
          7905,
          404704,
          9708,
          169629,
          1301,
          643737,
          16600,
          5600,
          862817,
          130,
          984575,
          7415,
          58730,
          747814,
          null,
          873214,
          3990,
          145845,
          9591,
          848352,
          null,
          435677,
          979683,
          8131,
          266827,
          316008,
          null,
          891627,
          null,
          578023,
          311404,
          7743,
          731192,
          2291,
          377763,
          2845,
          236531,
          4008,
          847889,
          500929,
          9172,
          936737,
          null,
          923563,
          5573,
          958049,
          6267,
          235930,
          3266,
          473826,
          2033,
          913405,
          5473,
          839089,
          353841,
          null,
          322683,
          420861,
          null,
          981251,
          846907,
          962148,
          3778,
          272992,
          210054,
          5663,
          132789,
          280269,
          6030,
          430212,
          4855,
          634141,
          330511,
          7158,
          602853,
          6713,
          89681,
          5811,
          573150,
          96124,
          2777,
          126007,
          569818,
          923311,
          652685,
          null,
          215302,
          39072,
          578785,
          5900,
          786595,
          430671,
          126919,
          1009,
          220609,
          3646,
          35512,
          9914,
          56851,
          131328,
          279218,
          683481,
          933173,
          6715,
          76798,
          942955,
          783404,
          106296,
          3528,
          954432,
          8464,
          967643,
          820388,
          227581,
          47322,
          3895,
          691345,
          2369,
          327728,
          null,
          270422,
          187549,
          131370,
          583425,
          6419,
          760434,
          5142,
          409151,
          null,
          509182,
          5606,
          163081,
          346222,
          9083,
          225459,
          7131,
          339924,
          9575,
          270811,
          6605,
          380498,
          9312,
          59417,
          2939,
          967225,
          1569,
          147219,
          7047,
          405000,
          8068,
          33428,
          8888,
          595510,
          26661,
          null,
          973238,
          null,
          539448,
          756918,
          490364,
          1687,
          266098,
          312500,
          8729,
          660008,
          472317,
          545677,
          3487,
          445386,
          677097,
          null,
          273939,
          680119,
          592279,
          4293,
          497241,
          9420,
          879806,
          3703,
          493080,
          9305,
          56864,
          8269,
          254249,
          821953,
          null,
          141502,
          576329,
          2550,
          665201,
          9137,
          903476,
          null,
          791258,
          76286,
          699814,
          955918,
          268976,
          644349,
          995039,
          520487,
          748090,
          556199,
          null,
          793146,
          8178,
          690690,
          4491,
          632778,
          317054,
          1242,
          966492,
          538255,
          382433,
          null,
          802820,
          1578,
          8720,
          683442,
          151024,
          6771,
          650303,
          9566,
          896107,
          null,
          835937,
          9241,
          150281,
          5899,
          802983,
          3326,
          667176,
          42805,
          3341,
          99287,
          3516,
          746602,
          9460,
          749939,
          543712,
          73,
          199444,
          130050,
          891584,
          null,
          370532,
          9661,
          480455,
          7622,
          678866,
          190512,
          null,
          772326,
          3635,
          505329,
          706033,
          null,
          960571,
          223962,
          321497,
          361275,
          4542,
          839591,
          2120,
          812001,
          324951,
          4112,
          271641,
          5747,
          825126,
          704,
          721338,
          224271,
          608,
          977295,
          null,
          86794,
          null,
          72103,
          970920,
          84826,
          30,
          724164,
          8713,
          620195,
          356614,
          1043,
          272256,
          3042,
          597654,
          259421,
          588164,
          124546,
          null,
          87788,
          null,
          888450,
          76598,
          3689,
          981115,
          null,
          867145,
          164557,
          4410,
          498326,
          8115,
          310716,
          65533,
          6782,
          837408,
          7131,
          792814,
          3364,
          929106,
          524555,
          7841,
          876640,
          6681,
          177459,
          777088,
          null,
          389680,
          518148,
          583088,
          null,
          145547,
          4788,
          992466,
          6483,
          26394,
          2179,
          440966,
          9138,
          518705,
          45467,
          null,
          312480,
          922,
          394333,
          5764,
          33538,
          543320,
          6101,
          861711,
          690462,
          984,
          541479,
          null,
          248596,
          null,
          203025,
          581114,
          468989,
          210353,
          467693,
          null,
          615973,
          1194,
          126565,
          466978,
          7052,
          288866,
          291809,
          1932,
          421450,
          3523,
          537288,
          null,
          875818,
          2274,
          999674,
          870606,
          4978,
          212344,
          null,
          594095,
          9277,
          407477,
          508794,
          null,
          285029,
          null,
          323551,
          146900,
          8233,
          329578,
          544384,
          505320,
          9825,
          320332,
          436,
          483465,
          749256,
          9222,
          474765,
          634589,
          7175,
          658655,
          2958,
          83429,
          null,
          970827,
          1263,
          660173,
          4464,
          612173,
          555364,
          829,
          7353,
          494910,
          3938,
          932511,
          526616,
          270708,
          5242,
          991209,
          70030,
          3882,
          134371,
          5090,
          491225,
          null,
          10782,
          7426,
          357329,
          676471,
          1018,
          389592,
          1699,
          94965,
          6969,
          147194,
          245974,
          2341,
          752019,
          3976,
          74572,
          419050,
          1975,
          851847,
          4759,
          278435,
          2140,
          201056,
          4186,
          34872,
          null,
          980060,
          7132,
          187653,
          null,
          174958,
          8483,
          34215,
          4022,
          536445,
          9714,
          340457,
          null,
          662111,
          429152,
          null,
          925051,
          738849,
          null,
          444355,
          810582,
          612847,
          442,
          735306,
          170714,
          705823,
          5343,
          16837,
          3521,
          582685,
          348024,
          355485,
          71741,
          2089,
          475777,
          3268,
          523822,
          1563,
          371698,
          1565,
          786617,
          1204,
          978088,
          6384,
          402581,
          8534,
          591128,
          843157,
          null,
          330637,
          null,
          754843,
          513653,
          411914,
          184184,
          3409,
          751852,
          3435,
          351731,
          395731,
          570186,
          442907,
          363311,
          570440,
          969979,
          209031,
          432088,
          7289,
          504693,
          1294,
          742026,
          950135,
          97770,
          8770,
          945013,
          1642,
          274585,
          9788,
          994273,
          1836,
          699266,
          6867,
          317112,
          6350,
          817049,
          4987,
          547350,
          23989,
          2507,
          13198,
          474012,
          345649,
          860018,
          4729,
          813464,
          84778,
          1439,
          513589,
          5200,
          600943,
          null,
          533501,
          7176,
          667547,
          6740
         ],
         "yaxis": "y"
        },
        {
         "alignmentgroup": "True",
         "bingroup": "x",
         "histfunc": "sum",
         "hovertemplate": "Gender=%{x}<br>sum of Policy Value=%{y}<extra></extra>",
         "legendgroup": "Female",
         "marker": {
          "color": "#EF553B"
         },
         "name": "Female",
         "offsetgroup": "Female",
         "orientation": "v",
         "showlegend": true,
         "type": "histogram",
         "x": [
          "Female",
          "Female",
          "Female",
          "Female",
          "Female",
          "Female",
          "Female",
          "Female",
          "Female",
          "Female",
          "Female",
          "Female",
          "Female",
          "Female",
          "Female",
          "Female",
          "Female",
          "Female",
          "Female",
          "Female",
          "Female",
          "Female",
          "Female",
          "Female",
          "Female",
          "Female",
          "Female",
          "Female",
          "Female",
          "Female",
          "Female",
          "Female",
          "Female",
          "Female",
          "Female",
          "Female",
          "Female",
          "Female",
          "Female",
          "Female",
          "Female",
          "Female",
          "Female",
          "Female",
          "Female",
          "Female",
          "Female",
          "Female",
          "Female",
          "Female",
          "Female",
          "Female",
          "Female",
          "Female",
          "Female",
          "Female",
          "Female",
          "Female",
          "Female",
          "Female",
          "Female",
          "Female",
          "Female",
          "Female",
          "Female",
          "Female",
          "Female",
          "Female",
          "Female",
          "Female",
          "Female",
          "Female",
          "Female",
          "Female",
          "Female",
          "Female",
          "Female",
          "Female",
          "Female",
          "Female",
          "Female",
          "Female",
          "Female",
          "Female",
          "Female",
          "Female",
          "Female",
          "Female",
          "Female",
          "Female",
          "Female",
          "Female",
          "Female",
          "Female",
          "Female",
          "Female",
          "Female",
          "Female",
          "Female",
          "Female",
          "Female",
          "Female",
          "Female",
          "Female",
          "Female",
          "Female",
          "Female",
          "Female",
          "Female",
          "Female",
          "Female",
          "Female",
          "Female",
          "Female",
          "Female",
          "Female",
          "Female",
          "Female",
          "Female",
          "Female",
          "Female",
          "Female",
          "Female",
          "Female",
          "Female",
          "Female",
          "Female",
          "Female",
          "Female",
          "Female",
          "Female",
          "Female",
          "Female",
          "Female",
          "Female",
          "Female",
          "Female",
          "Female",
          "Female",
          "Female",
          "Female",
          "Female",
          "Female",
          "Female",
          "Female",
          "Female",
          "Female",
          "Female",
          "Female",
          "Female",
          "Female",
          "Female",
          "Female",
          "Female",
          "Female",
          "Female",
          "Female",
          "Female",
          "Female",
          "Female",
          "Female",
          "Female",
          "Female",
          "Female",
          "Female",
          "Female",
          "Female",
          "Female",
          "Female",
          "Female",
          "Female",
          "Female",
          "Female",
          "Female",
          "Female",
          "Female",
          "Female",
          "Female",
          "Female",
          "Female",
          "Female",
          "Female",
          "Female",
          "Female",
          "Female",
          "Female",
          "Female",
          "Female",
          "Female",
          "Female",
          "Female",
          "Female",
          "Female",
          "Female",
          "Female",
          "Female",
          "Female",
          "Female",
          "Female",
          "Female",
          "Female",
          "Female",
          "Female",
          "Female",
          "Female",
          "Female",
          "Female",
          "Female",
          "Female",
          "Female",
          "Female",
          "Female",
          "Female",
          "Female",
          "Female",
          "Female",
          "Female",
          "Female",
          "Female",
          "Female",
          "Female",
          "Female",
          "Female",
          "Female",
          "Female",
          "Female",
          "Female",
          "Female",
          "Female",
          "Female",
          "Female",
          "Female",
          "Female",
          "Female",
          "Female",
          "Female",
          "Female",
          "Female",
          "Female",
          "Female",
          "Female",
          "Female",
          "Female",
          "Female",
          "Female",
          "Female",
          "Female",
          "Female",
          "Female",
          "Female",
          "Female",
          "Female",
          "Female",
          "Female",
          "Female",
          "Female",
          "Female",
          "Female",
          "Female",
          "Female",
          "Female",
          "Female",
          "Female",
          "Female",
          "Female",
          "Female",
          "Female",
          "Female",
          "Female",
          "Female",
          "Female",
          "Female",
          "Female",
          "Female",
          "Female",
          "Female",
          "Female",
          "Female",
          "Female",
          "Female",
          "Female",
          "Female",
          "Female",
          "Female",
          "Female",
          "Female",
          "Female",
          "Female",
          "Female",
          "Female",
          "Female",
          "Female",
          "Female",
          "Female",
          "Female",
          "Female",
          "Female",
          "Female",
          "Female",
          "Female",
          "Female",
          "Female",
          "Female",
          "Female",
          "Female",
          "Female",
          "Female",
          "Female",
          "Female",
          "Female",
          "Female",
          "Female",
          "Female",
          "Female",
          "Female",
          "Female",
          "Female",
          "Female",
          "Female",
          "Female",
          "Female",
          "Female",
          "Female",
          "Female",
          "Female",
          "Female",
          "Female",
          "Female",
          "Female",
          "Female",
          "Female",
          "Female",
          "Female",
          "Female",
          "Female",
          "Female",
          "Female",
          "Female",
          "Female",
          "Female",
          "Female",
          "Female",
          "Female",
          "Female",
          "Female",
          "Female",
          "Female",
          "Female",
          "Female",
          "Female",
          "Female",
          "Female",
          "Female",
          "Female",
          "Female",
          "Female",
          "Female",
          "Female",
          "Female",
          "Female",
          "Female",
          "Female",
          "Female",
          "Female",
          "Female",
          "Female",
          "Female",
          "Female",
          "Female",
          "Female",
          "Female",
          "Female",
          "Female",
          "Female",
          "Female",
          "Female",
          "Female",
          "Female",
          "Female",
          "Female",
          "Female",
          "Female",
          "Female",
          "Female",
          "Female",
          "Female",
          "Female",
          "Female",
          "Female",
          "Female",
          "Female",
          "Female",
          "Female",
          "Female",
          "Female",
          "Female",
          "Female",
          "Female",
          "Female",
          "Female",
          "Female",
          "Female",
          "Female",
          "Female",
          "Female",
          "Female",
          "Female",
          "Female",
          "Female",
          "Female",
          "Female",
          "Female",
          "Female",
          "Female",
          "Female",
          "Female",
          "Female",
          "Female",
          "Female",
          "Female",
          "Female",
          "Female",
          "Female",
          "Female",
          "Female",
          "Female",
          "Female",
          "Female",
          "Female",
          "Female",
          "Female",
          "Female",
          "Female",
          "Female",
          "Female",
          "Female",
          "Female",
          "Female",
          "Female",
          "Female",
          "Female",
          "Female",
          "Female",
          "Female",
          "Female",
          "Female",
          "Female",
          "Female",
          "Female",
          "Female",
          "Female",
          "Female",
          "Female",
          "Female",
          "Female",
          "Female",
          "Female",
          "Female",
          "Female",
          "Female",
          "Female",
          "Female",
          "Female",
          "Female",
          "Female",
          "Female",
          "Female",
          "Female",
          "Female",
          "Female",
          "Female",
          "Female",
          "Female",
          "Female",
          "Female",
          "Female",
          "Female",
          "Female",
          "Female",
          "Female",
          "Female",
          "Female",
          "Female",
          "Female",
          "Female",
          "Female",
          "Female",
          "Female",
          "Female",
          "Female",
          "Female",
          "Female",
          "Female",
          "Female",
          "Female",
          "Female",
          "Female",
          "Female",
          "Female",
          "Female",
          "Female",
          "Female",
          "Female",
          "Female",
          "Female",
          "Female",
          "Female",
          "Female",
          "Female",
          "Female",
          "Female",
          "Female",
          "Female",
          "Female",
          "Female",
          "Female",
          "Female",
          "Female",
          "Female",
          "Female",
          "Female",
          "Female",
          "Female",
          "Female",
          "Female",
          "Female",
          "Female",
          "Female",
          "Female",
          "Female",
          "Female",
          "Female",
          "Female",
          "Female",
          "Female",
          "Female",
          "Female",
          "Female",
          "Female",
          "Female",
          "Female",
          "Female",
          "Female",
          "Female",
          "Female",
          "Female",
          "Female",
          "Female",
          "Female",
          "Female",
          "Female",
          "Female",
          "Female",
          "Female",
          "Female",
          "Female",
          "Female",
          "Female",
          "Female",
          "Female",
          "Female",
          "Female",
          "Female",
          "Female",
          "Female",
          "Female",
          "Female",
          "Female",
          "Female",
          "Female",
          "Female",
          "Female",
          "Female",
          "Female",
          "Female",
          "Female",
          "Female",
          "Female",
          "Female",
          "Female",
          "Female",
          "Female",
          "Female",
          "Female",
          "Female",
          "Female",
          "Female",
          "Female",
          "Female",
          "Female",
          "Female",
          "Female",
          "Female",
          "Female",
          "Female",
          "Female",
          "Female",
          "Female",
          "Female",
          "Female",
          "Female",
          "Female",
          "Female",
          "Female",
          "Female",
          "Female",
          "Female",
          "Female",
          "Female",
          "Female",
          "Female",
          "Female",
          "Female",
          "Female",
          "Female",
          "Female",
          "Female",
          "Female",
          "Female",
          "Female",
          "Female",
          "Female",
          "Female",
          "Female",
          "Female",
          "Female",
          "Female",
          "Female",
          "Female",
          "Female",
          "Female",
          "Female",
          "Female",
          "Female",
          "Female",
          "Female",
          "Female",
          "Female",
          "Female",
          "Female",
          "Female",
          "Female",
          "Female",
          "Female",
          "Female",
          "Female",
          "Female",
          "Female",
          "Female",
          "Female",
          "Female",
          "Female",
          "Female",
          "Female",
          "Female",
          "Female",
          "Female",
          "Female",
          "Female",
          "Female",
          "Female",
          "Female",
          "Female",
          "Female",
          "Female",
          "Female",
          "Female",
          "Female",
          "Female",
          "Female",
          "Female",
          "Female",
          "Female",
          "Female",
          "Female",
          "Female",
          "Female",
          "Female",
          "Female",
          "Female",
          "Female",
          "Female",
          "Female",
          "Female",
          "Female",
          "Female",
          "Female",
          "Female",
          "Female",
          "Female",
          "Female",
          "Female",
          "Female",
          "Female",
          "Female",
          "Female",
          "Female",
          "Female",
          "Female",
          "Female",
          "Female",
          "Female",
          "Female",
          "Female",
          "Female",
          "Female",
          "Female",
          "Female",
          "Female",
          "Female",
          "Female",
          "Female",
          "Female",
          "Female",
          "Female",
          "Female",
          "Female",
          "Female",
          "Female",
          "Female",
          "Female",
          "Female",
          "Female",
          "Female",
          "Female",
          "Female",
          "Female",
          "Female",
          "Female",
          "Female",
          "Female",
          "Female",
          "Female",
          "Female",
          "Female",
          "Female",
          "Female",
          "Female",
          "Female",
          "Female",
          "Female",
          "Female",
          "Female",
          "Female",
          "Female",
          "Female",
          "Female",
          "Female",
          "Female",
          "Female",
          "Female",
          "Female",
          "Female",
          "Female",
          "Female",
          "Female",
          "Female",
          "Female",
          "Female",
          "Female",
          "Female",
          "Female",
          "Female",
          "Female",
          "Female",
          "Female",
          "Female",
          "Female",
          "Female",
          "Female",
          "Female",
          "Female",
          "Female",
          "Female",
          "Female",
          "Female",
          "Female",
          "Female",
          "Female",
          "Female",
          "Female",
          "Female",
          "Female",
          "Female",
          "Female",
          "Female",
          "Female",
          "Female",
          "Female",
          "Female",
          "Female",
          "Female",
          "Female",
          "Female",
          "Female",
          "Female",
          "Female",
          "Female",
          "Female",
          "Female",
          "Female",
          "Female",
          "Female",
          "Female",
          "Female",
          "Female",
          "Female",
          "Female"
         ],
         "xaxis": "x",
         "y": [
          192389,
          null,
          904394,
          805735,
          null,
          56875,
          3898,
          961879,
          484,
          657784,
          8984,
          840895,
          845541,
          null,
          738466,
          256949,
          620090,
          6108,
          998530,
          4879,
          516953,
          799,
          694020,
          716935,
          3038,
          862064,
          836151,
          null,
          270033,
          5074,
          350672,
          null,
          901170,
          9607,
          827818,
          923702,
          426356,
          8371,
          106081,
          9445,
          87479,
          431,
          771578,
          298395,
          3657,
          626760,
          7848,
          509961,
          2895,
          950142,
          null,
          675939,
          3017,
          289735,
          190282,
          325179,
          789246,
          168510,
          926858,
          8588,
          987519,
          8055,
          972921,
          7437,
          364622,
          4336,
          518040,
          7421,
          723033,
          429,
          185161,
          3618,
          384605,
          7352,
          135646,
          598862,
          975914,
          3820,
          912634,
          536275,
          3788,
          238710,
          973337,
          null,
          755588,
          5992,
          34992,
          560120,
          6171,
          900020,
          null,
          398962,
          465755,
          2074,
          631714,
          656026,
          1913,
          341509,
          9414,
          852825,
          1941,
          834501,
          6730,
          171734,
          357555,
          8221,
          419404,
          8290,
          921854,
          503925,
          717086,
          4577,
          65379,
          5894,
          684966,
          9009,
          986831,
          361783,
          904286,
          null,
          65738,
          2033,
          647966,
          115845,
          3995,
          418479,
          2412,
          394590,
          5770,
          847871,
          311057,
          314454,
          680,
          185428,
          1596,
          515896,
          null,
          646954,
          991798,
          1617,
          853818,
          945903,
          130284,
          6120,
          126399,
          157103,
          5997,
          753454,
          2785,
          12171,
          7632,
          357760,
          1389,
          534934,
          8339,
          49555,
          1237,
          580765,
          98599,
          5076,
          746023,
          233674,
          8686,
          752647,
          4361,
          422146,
          140047,
          544,
          4904,
          2747,
          169219,
          131827,
          4810,
          186879,
          585332,
          null,
          662029,
          3579,
          786082,
          143092,
          180422,
          9307,
          27628,
          495595,
          8640,
          694305,
          615432,
          9864,
          495408,
          992,
          3455,
          8939,
          938821,
          1586,
          847761,
          243996,
          219069,
          7887,
          734814,
          4811,
          734698,
          303001,
          296,
          840875,
          466729,
          354611,
          281359,
          9952,
          930017,
          4590,
          754504,
          5152,
          31476,
          null,
          606494,
          715187,
          4733,
          173447,
          6558,
          864601,
          9979,
          203720,
          null,
          968229,
          4582,
          266793,
          392187,
          224124,
          8222,
          665644,
          2631,
          454007,
          286824,
          null,
          620638,
          499137,
          7112,
          145562,
          635488,
          null,
          561276,
          5093,
          792376,
          5058,
          513946,
          8659,
          546827,
          605446,
          2984,
          780753,
          3164,
          321582,
          519281,
          417616,
          2379,
          216732,
          3202,
          207462,
          9768,
          471568,
          4230,
          64758,
          9312,
          440398,
          6534,
          784505,
          4080,
          122084,
          850958,
          null,
          110025,
          49384,
          656629,
          4279,
          615701,
          2163,
          586726,
          5987,
          681174,
          6482,
          555607,
          710317,
          7643,
          623554,
          4338,
          31540,
          7786,
          843906,
          null,
          168408,
          4687,
          891395,
          null,
          869618,
          null,
          651960,
          1551,
          87626,
          217076,
          9314,
          937973,
          806330,
          568750,
          773641,
          8364,
          590601,
          387960,
          8683,
          804790,
          8252,
          953207,
          989049,
          334807,
          9692,
          431209,
          672331,
          231789,
          1254,
          355075,
          6245,
          865557,
          531192,
          724367,
          2145,
          445189,
          8701,
          533710,
          8562,
          156980,
          959183,
          179068,
          87582,
          109531,
          1821,
          433596,
          4344,
          614975,
          2423,
          903915,
          811672,
          8839,
          67058,
          282051,
          null,
          770621,
          null,
          648632,
          7840,
          190531,
          7540,
          632484,
          5625,
          39000,
          3096,
          505942,
          7035,
          705725,
          9369,
          780266,
          null,
          341249,
          611569,
          1299,
          299824,
          583,
          859115,
          8176,
          998602,
          955939,
          109508,
          589158,
          767742,
          null,
          310298,
          null,
          607250,
          3862,
          671331,
          415,
          802995,
          null,
          781957,
          null,
          151108,
          8449,
          527121,
          530532,
          null,
          737684,
          451353,
          null,
          634102,
          3693,
          292905,
          312042,
          4,
          66815,
          8784,
          47047,
          null,
          535112,
          null,
          273583,
          529358,
          1856,
          832447,
          585682,
          346,
          429642,
          1872,
          988444,
          null,
          517060,
          532721,
          8119,
          800075,
          4147,
          329718,
          518311,
          1453,
          158474,
          8611,
          512201,
          8809,
          502469,
          8553,
          317776,
          9104,
          999488,
          837545,
          1919,
          830422,
          110682,
          6031,
          38211,
          836089,
          163007,
          3789,
          578577,
          2465,
          41570,
          8992,
          531171,
          1942,
          583768,
          2535,
          940689,
          47849,
          7000,
          85983,
          515961,
          null,
          878955,
          981214,
          null,
          643023,
          293714,
          94799,
          401964,
          593404,
          260294,
          989181,
          408,
          694114,
          6897,
          799137,
          2997,
          224832,
          1171,
          888228,
          7859,
          927368,
          9775,
          956724,
          133443,
          9236,
          379059,
          311308,
          594280,
          4965,
          89266,
          2124,
          963385,
          7814,
          538288,
          481486,
          1696,
          868737,
          8120,
          469980,
          null,
          879738,
          556251,
          628617,
          2018,
          167107,
          8412,
          182779,
          4176,
          17482,
          3404,
          930888,
          928305,
          5247,
          298142,
          692427,
          572138,
          6667,
          194131,
          1144,
          807940,
          1570,
          274260,
          389257,
          1486,
          11718,
          null,
          601370,
          5162,
          970008,
          697789,
          4066,
          838324,
          987771,
          6359,
          957246,
          349016,
          461125,
          5796,
          223482,
          492023,
          6538,
          250240,
          949882,
          142,
          174922,
          347087,
          5851,
          537797,
          4817,
          780136,
          5560,
          890918,
          5600,
          747703,
          9594,
          997883,
          1027,
          777728,
          null,
          735144,
          null,
          30087,
          9703,
          829023,
          4101,
          911362,
          479218,
          3679,
          806789,
          null,
          113542,
          null,
          386644,
          8767,
          992966,
          1603,
          973578,
          610157,
          898645,
          null,
          353773,
          6469,
          687770,
          6146,
          473985,
          1769,
          863469,
          7222,
          823098,
          761724,
          858,
          838399,
          8758,
          327108,
          9093,
          226192,
          null,
          548096,
          116,
          517517,
          789,
          830299,
          368150,
          6392,
          489310,
          804035,
          326056,
          9834,
          415734,
          585207,
          7768,
          620916,
          209001,
          137686,
          4490,
          657756,
          3617,
          307009,
          1503,
          318947,
          1392,
          650249,
          6416,
          956290,
          270701,
          89024,
          3058,
          8492,
          865150,
          9083,
          773567,
          6538,
          957838,
          721472,
          2889,
          158530,
          9676,
          747861,
          171726,
          5741,
          925379,
          100560,
          null,
          833403,
          3438,
          194667,
          4018,
          344729,
          5110,
          525477,
          3421,
          909155,
          7278,
          804290,
          521386,
          null,
          7133,
          1739,
          863048,
          8151,
          2462,
          858812,
          6099,
          367536,
          8055,
          638082,
          733028,
          947261,
          8316,
          573582,
          552795,
          4731,
          678828,
          1256,
          17305,
          2193,
          3885,
          348616,
          null,
          261877,
          4086,
          685590,
          891204,
          null,
          585361,
          9615,
          163203,
          3020,
          15456,
          216566,
          4987,
          891133,
          76868,
          8755,
          205857,
          null,
          953641,
          null,
          412857,
          null,
          327493,
          864162,
          3242,
          330562,
          633837,
          4820,
          222859,
          318575,
          2179,
          388248,
          251,
          282069,
          4478,
          274159,
          524081,
          9533,
          842209,
          99972,
          155908,
          5645,
          804489,
          9972,
          510384,
          1218,
          34571,
          null,
          169888,
          3826,
          3757,
          948167,
          7116,
          9361,
          7637,
          865109,
          575,
          338003,
          7509,
          886371,
          6709,
          206175,
          null,
          255514,
          4171,
          413229,
          837295,
          8274,
          628296,
          897463,
          null,
          140163,
          281982,
          7772,
          123952,
          3827,
          835713,
          1347,
          432040,
          4742,
          831290,
          770574,
          901426,
          211953,
          488926,
          5450,
          689570,
          211629,
          6981,
          689028,
          4081,
          35952,
          null,
          904663,
          6046,
          380323,
          7646,
          168635,
          540683,
          6013,
          993034,
          923,
          994048,
          6467,
          584930,
          3027,
          903307,
          82831,
          767580,
          5035,
          955298,
          49756,
          161080,
          779301,
          682840,
          7763,
          172941,
          5355,
          901930,
          8430,
          855597,
          7678,
          921596,
          209,
          473703,
          964709,
          9025,
          412898,
          7367,
          486765,
          6022,
          28172,
          3566,
          401872,
          6681,
          617390,
          null,
          275909,
          280107
         ],
         "yaxis": "y"
        }
       ],
       "layout": {
        "barmode": "relative",
        "legend": {
         "title": {
          "text": "Gender"
         },
         "tracegroupgap": 0
        },
        "template": {
         "data": {
          "bar": [
           {
            "error_x": {
             "color": "#2a3f5f"
            },
            "error_y": {
             "color": "#2a3f5f"
            },
            "marker": {
             "line": {
              "color": "#E5ECF6",
              "width": 0.5
             }
            },
            "type": "bar"
           }
          ],
          "barpolar": [
           {
            "marker": {
             "line": {
              "color": "#E5ECF6",
              "width": 0.5
             }
            },
            "type": "barpolar"
           }
          ],
          "carpet": [
           {
            "aaxis": {
             "endlinecolor": "#2a3f5f",
             "gridcolor": "white",
             "linecolor": "white",
             "minorgridcolor": "white",
             "startlinecolor": "#2a3f5f"
            },
            "baxis": {
             "endlinecolor": "#2a3f5f",
             "gridcolor": "white",
             "linecolor": "white",
             "minorgridcolor": "white",
             "startlinecolor": "#2a3f5f"
            },
            "type": "carpet"
           }
          ],
          "choropleth": [
           {
            "colorbar": {
             "outlinewidth": 0,
             "ticks": ""
            },
            "type": "choropleth"
           }
          ],
          "contour": [
           {
            "colorbar": {
             "outlinewidth": 0,
             "ticks": ""
            },
            "colorscale": [
             [
              0,
              "#0d0887"
             ],
             [
              0.1111111111111111,
              "#46039f"
             ],
             [
              0.2222222222222222,
              "#7201a8"
             ],
             [
              0.3333333333333333,
              "#9c179e"
             ],
             [
              0.4444444444444444,
              "#bd3786"
             ],
             [
              0.5555555555555556,
              "#d8576b"
             ],
             [
              0.6666666666666666,
              "#ed7953"
             ],
             [
              0.7777777777777778,
              "#fb9f3a"
             ],
             [
              0.8888888888888888,
              "#fdca26"
             ],
             [
              1,
              "#f0f921"
             ]
            ],
            "type": "contour"
           }
          ],
          "contourcarpet": [
           {
            "colorbar": {
             "outlinewidth": 0,
             "ticks": ""
            },
            "type": "contourcarpet"
           }
          ],
          "heatmap": [
           {
            "colorbar": {
             "outlinewidth": 0,
             "ticks": ""
            },
            "colorscale": [
             [
              0,
              "#0d0887"
             ],
             [
              0.1111111111111111,
              "#46039f"
             ],
             [
              0.2222222222222222,
              "#7201a8"
             ],
             [
              0.3333333333333333,
              "#9c179e"
             ],
             [
              0.4444444444444444,
              "#bd3786"
             ],
             [
              0.5555555555555556,
              "#d8576b"
             ],
             [
              0.6666666666666666,
              "#ed7953"
             ],
             [
              0.7777777777777778,
              "#fb9f3a"
             ],
             [
              0.8888888888888888,
              "#fdca26"
             ],
             [
              1,
              "#f0f921"
             ]
            ],
            "type": "heatmap"
           }
          ],
          "heatmapgl": [
           {
            "colorbar": {
             "outlinewidth": 0,
             "ticks": ""
            },
            "colorscale": [
             [
              0,
              "#0d0887"
             ],
             [
              0.1111111111111111,
              "#46039f"
             ],
             [
              0.2222222222222222,
              "#7201a8"
             ],
             [
              0.3333333333333333,
              "#9c179e"
             ],
             [
              0.4444444444444444,
              "#bd3786"
             ],
             [
              0.5555555555555556,
              "#d8576b"
             ],
             [
              0.6666666666666666,
              "#ed7953"
             ],
             [
              0.7777777777777778,
              "#fb9f3a"
             ],
             [
              0.8888888888888888,
              "#fdca26"
             ],
             [
              1,
              "#f0f921"
             ]
            ],
            "type": "heatmapgl"
           }
          ],
          "histogram": [
           {
            "marker": {
             "colorbar": {
              "outlinewidth": 0,
              "ticks": ""
             }
            },
            "type": "histogram"
           }
          ],
          "histogram2d": [
           {
            "colorbar": {
             "outlinewidth": 0,
             "ticks": ""
            },
            "colorscale": [
             [
              0,
              "#0d0887"
             ],
             [
              0.1111111111111111,
              "#46039f"
             ],
             [
              0.2222222222222222,
              "#7201a8"
             ],
             [
              0.3333333333333333,
              "#9c179e"
             ],
             [
              0.4444444444444444,
              "#bd3786"
             ],
             [
              0.5555555555555556,
              "#d8576b"
             ],
             [
              0.6666666666666666,
              "#ed7953"
             ],
             [
              0.7777777777777778,
              "#fb9f3a"
             ],
             [
              0.8888888888888888,
              "#fdca26"
             ],
             [
              1,
              "#f0f921"
             ]
            ],
            "type": "histogram2d"
           }
          ],
          "histogram2dcontour": [
           {
            "colorbar": {
             "outlinewidth": 0,
             "ticks": ""
            },
            "colorscale": [
             [
              0,
              "#0d0887"
             ],
             [
              0.1111111111111111,
              "#46039f"
             ],
             [
              0.2222222222222222,
              "#7201a8"
             ],
             [
              0.3333333333333333,
              "#9c179e"
             ],
             [
              0.4444444444444444,
              "#bd3786"
             ],
             [
              0.5555555555555556,
              "#d8576b"
             ],
             [
              0.6666666666666666,
              "#ed7953"
             ],
             [
              0.7777777777777778,
              "#fb9f3a"
             ],
             [
              0.8888888888888888,
              "#fdca26"
             ],
             [
              1,
              "#f0f921"
             ]
            ],
            "type": "histogram2dcontour"
           }
          ],
          "mesh3d": [
           {
            "colorbar": {
             "outlinewidth": 0,
             "ticks": ""
            },
            "type": "mesh3d"
           }
          ],
          "parcoords": [
           {
            "line": {
             "colorbar": {
              "outlinewidth": 0,
              "ticks": ""
             }
            },
            "type": "parcoords"
           }
          ],
          "pie": [
           {
            "automargin": true,
            "type": "pie"
           }
          ],
          "scatter": [
           {
            "marker": {
             "colorbar": {
              "outlinewidth": 0,
              "ticks": ""
             }
            },
            "type": "scatter"
           }
          ],
          "scatter3d": [
           {
            "line": {
             "colorbar": {
              "outlinewidth": 0,
              "ticks": ""
             }
            },
            "marker": {
             "colorbar": {
              "outlinewidth": 0,
              "ticks": ""
             }
            },
            "type": "scatter3d"
           }
          ],
          "scattercarpet": [
           {
            "marker": {
             "colorbar": {
              "outlinewidth": 0,
              "ticks": ""
             }
            },
            "type": "scattercarpet"
           }
          ],
          "scattergeo": [
           {
            "marker": {
             "colorbar": {
              "outlinewidth": 0,
              "ticks": ""
             }
            },
            "type": "scattergeo"
           }
          ],
          "scattergl": [
           {
            "marker": {
             "colorbar": {
              "outlinewidth": 0,
              "ticks": ""
             }
            },
            "type": "scattergl"
           }
          ],
          "scattermapbox": [
           {
            "marker": {
             "colorbar": {
              "outlinewidth": 0,
              "ticks": ""
             }
            },
            "type": "scattermapbox"
           }
          ],
          "scatterpolar": [
           {
            "marker": {
             "colorbar": {
              "outlinewidth": 0,
              "ticks": ""
             }
            },
            "type": "scatterpolar"
           }
          ],
          "scatterpolargl": [
           {
            "marker": {
             "colorbar": {
              "outlinewidth": 0,
              "ticks": ""
             }
            },
            "type": "scatterpolargl"
           }
          ],
          "scatterternary": [
           {
            "marker": {
             "colorbar": {
              "outlinewidth": 0,
              "ticks": ""
             }
            },
            "type": "scatterternary"
           }
          ],
          "surface": [
           {
            "colorbar": {
             "outlinewidth": 0,
             "ticks": ""
            },
            "colorscale": [
             [
              0,
              "#0d0887"
             ],
             [
              0.1111111111111111,
              "#46039f"
             ],
             [
              0.2222222222222222,
              "#7201a8"
             ],
             [
              0.3333333333333333,
              "#9c179e"
             ],
             [
              0.4444444444444444,
              "#bd3786"
             ],
             [
              0.5555555555555556,
              "#d8576b"
             ],
             [
              0.6666666666666666,
              "#ed7953"
             ],
             [
              0.7777777777777778,
              "#fb9f3a"
             ],
             [
              0.8888888888888888,
              "#fdca26"
             ],
             [
              1,
              "#f0f921"
             ]
            ],
            "type": "surface"
           }
          ],
          "table": [
           {
            "cells": {
             "fill": {
              "color": "#EBF0F8"
             },
             "line": {
              "color": "white"
             }
            },
            "header": {
             "fill": {
              "color": "#C8D4E3"
             },
             "line": {
              "color": "white"
             }
            },
            "type": "table"
           }
          ]
         },
         "layout": {
          "annotationdefaults": {
           "arrowcolor": "#2a3f5f",
           "arrowhead": 0,
           "arrowwidth": 1
          },
          "autotypenumbers": "strict",
          "coloraxis": {
           "colorbar": {
            "outlinewidth": 0,
            "ticks": ""
           }
          },
          "colorscale": {
           "diverging": [
            [
             0,
             "#8e0152"
            ],
            [
             0.1,
             "#c51b7d"
            ],
            [
             0.2,
             "#de77ae"
            ],
            [
             0.3,
             "#f1b6da"
            ],
            [
             0.4,
             "#fde0ef"
            ],
            [
             0.5,
             "#f7f7f7"
            ],
            [
             0.6,
             "#e6f5d0"
            ],
            [
             0.7,
             "#b8e186"
            ],
            [
             0.8,
             "#7fbc41"
            ],
            [
             0.9,
             "#4d9221"
            ],
            [
             1,
             "#276419"
            ]
           ],
           "sequential": [
            [
             0,
             "#0d0887"
            ],
            [
             0.1111111111111111,
             "#46039f"
            ],
            [
             0.2222222222222222,
             "#7201a8"
            ],
            [
             0.3333333333333333,
             "#9c179e"
            ],
            [
             0.4444444444444444,
             "#bd3786"
            ],
            [
             0.5555555555555556,
             "#d8576b"
            ],
            [
             0.6666666666666666,
             "#ed7953"
            ],
            [
             0.7777777777777778,
             "#fb9f3a"
            ],
            [
             0.8888888888888888,
             "#fdca26"
            ],
            [
             1,
             "#f0f921"
            ]
           ],
           "sequentialminus": [
            [
             0,
             "#0d0887"
            ],
            [
             0.1111111111111111,
             "#46039f"
            ],
            [
             0.2222222222222222,
             "#7201a8"
            ],
            [
             0.3333333333333333,
             "#9c179e"
            ],
            [
             0.4444444444444444,
             "#bd3786"
            ],
            [
             0.5555555555555556,
             "#d8576b"
            ],
            [
             0.6666666666666666,
             "#ed7953"
            ],
            [
             0.7777777777777778,
             "#fb9f3a"
            ],
            [
             0.8888888888888888,
             "#fdca26"
            ],
            [
             1,
             "#f0f921"
            ]
           ]
          },
          "colorway": [
           "#636efa",
           "#EF553B",
           "#00cc96",
           "#ab63fa",
           "#FFA15A",
           "#19d3f3",
           "#FF6692",
           "#B6E880",
           "#FF97FF",
           "#FECB52"
          ],
          "font": {
           "color": "#2a3f5f"
          },
          "geo": {
           "bgcolor": "white",
           "lakecolor": "white",
           "landcolor": "#E5ECF6",
           "showlakes": true,
           "showland": true,
           "subunitcolor": "white"
          },
          "hoverlabel": {
           "align": "left"
          },
          "hovermode": "closest",
          "mapbox": {
           "style": "light"
          },
          "paper_bgcolor": "white",
          "plot_bgcolor": "#E5ECF6",
          "polar": {
           "angularaxis": {
            "gridcolor": "white",
            "linecolor": "white",
            "ticks": ""
           },
           "bgcolor": "#E5ECF6",
           "radialaxis": {
            "gridcolor": "white",
            "linecolor": "white",
            "ticks": ""
           }
          },
          "scene": {
           "xaxis": {
            "backgroundcolor": "#E5ECF6",
            "gridcolor": "white",
            "gridwidth": 2,
            "linecolor": "white",
            "showbackground": true,
            "ticks": "",
            "zerolinecolor": "white"
           },
           "yaxis": {
            "backgroundcolor": "#E5ECF6",
            "gridcolor": "white",
            "gridwidth": 2,
            "linecolor": "white",
            "showbackground": true,
            "ticks": "",
            "zerolinecolor": "white"
           },
           "zaxis": {
            "backgroundcolor": "#E5ECF6",
            "gridcolor": "white",
            "gridwidth": 2,
            "linecolor": "white",
            "showbackground": true,
            "ticks": "",
            "zerolinecolor": "white"
           }
          },
          "shapedefaults": {
           "line": {
            "color": "#2a3f5f"
           }
          },
          "ternary": {
           "aaxis": {
            "gridcolor": "white",
            "linecolor": "white",
            "ticks": ""
           },
           "baxis": {
            "gridcolor": "white",
            "linecolor": "white",
            "ticks": ""
           },
           "bgcolor": "#E5ECF6",
           "caxis": {
            "gridcolor": "white",
            "linecolor": "white",
            "ticks": ""
           }
          },
          "title": {
           "x": 0.05
          },
          "xaxis": {
           "automargin": true,
           "gridcolor": "white",
           "linecolor": "white",
           "ticks": "",
           "title": {
            "standoff": 15
           },
           "zerolinecolor": "white",
           "zerolinewidth": 2
          },
          "yaxis": {
           "automargin": true,
           "gridcolor": "white",
           "linecolor": "white",
           "ticks": "",
           "title": {
            "standoff": 15
           },
           "zerolinecolor": "white",
           "zerolinewidth": 2
          }
         }
        },
        "title": {
         "text": "Count of Policies by Gender"
        },
        "xaxis": {
         "anchor": "y",
         "categoryarray": [
          "Male",
          "Female"
         ],
         "categoryorder": "array",
         "domain": [
          0,
          1
         ],
         "title": {
          "text": "Gender"
         }
        },
        "yaxis": {
         "anchor": "x",
         "domain": [
          0,
          1
         ],
         "title": {
          "text": "sum of Policy Value"
         }
        }
       }
      },
      "text/html": [
       "<div>                            <div id=\"c5f6d45c-2c75-4928-9f60-248f070937e8\" class=\"plotly-graph-div\" style=\"height:525px; width:100%;\"></div>            <script type=\"text/javascript\">                require([\"plotly\"], function(Plotly) {                    window.PLOTLYENV=window.PLOTLYENV || {};                                    if (document.getElementById(\"c5f6d45c-2c75-4928-9f60-248f070937e8\")) {                    Plotly.newPlot(                        \"c5f6d45c-2c75-4928-9f60-248f070937e8\",                        [{\"alignmentgroup\": \"True\", \"bingroup\": \"x\", \"histfunc\": \"sum\", \"hovertemplate\": \"Gender=%{x}<br>sum of Policy Value=%{y}<extra></extra>\", \"legendgroup\": \"Male\", \"marker\": {\"color\": \"#636efa\"}, \"name\": \"Male\", \"offsetgroup\": \"Male\", \"orientation\": \"v\", \"showlegend\": true, \"type\": \"histogram\", \"x\": [\"Male\", \"Male\", \"Male\", \"Male\", \"Male\", \"Male\", \"Male\", \"Male\", \"Male\", \"Male\", \"Male\", \"Male\", \"Male\", \"Male\", \"Male\", \"Male\", \"Male\", \"Male\", \"Male\", \"Male\", \"Male\", \"Male\", \"Male\", \"Male\", \"Male\", \"Male\", \"Male\", \"Male\", \"Male\", \"Male\", \"Male\", \"Male\", \"Male\", \"Male\", \"Male\", \"Male\", \"Male\", \"Male\", \"Male\", \"Male\", \"Male\", \"Male\", \"Male\", \"Male\", \"Male\", \"Male\", \"Male\", \"Male\", \"Male\", \"Male\", \"Male\", \"Male\", \"Male\", \"Male\", \"Male\", \"Male\", \"Male\", \"Male\", \"Male\", \"Male\", \"Male\", \"Male\", \"Male\", \"Male\", \"Male\", \"Male\", \"Male\", \"Male\", \"Male\", \"Male\", \"Male\", \"Male\", \"Male\", \"Male\", \"Male\", \"Male\", \"Male\", \"Male\", \"Male\", \"Male\", \"Male\", \"Male\", \"Male\", \"Male\", \"Male\", \"Male\", \"Male\", \"Male\", \"Male\", \"Male\", \"Male\", \"Male\", \"Male\", \"Male\", \"Male\", \"Male\", \"Male\", \"Male\", \"Male\", \"Male\", \"Male\", \"Male\", \"Male\", \"Male\", \"Male\", \"Male\", \"Male\", \"Male\", \"Male\", \"Male\", \"Male\", \"Male\", \"Male\", \"Male\", \"Male\", \"Male\", \"Male\", \"Male\", \"Male\", \"Male\", \"Male\", \"Male\", \"Male\", \"Male\", \"Male\", \"Male\", \"Male\", \"Male\", \"Male\", \"Male\", \"Male\", \"Male\", \"Male\", \"Male\", \"Male\", \"Male\", \"Male\", \"Male\", \"Male\", \"Male\", \"Male\", \"Male\", \"Male\", \"Male\", \"Male\", \"Male\", \"Male\", \"Male\", \"Male\", \"Male\", \"Male\", \"Male\", \"Male\", \"Male\", \"Male\", \"Male\", \"Male\", \"Male\", \"Male\", \"Male\", \"Male\", \"Male\", \"Male\", \"Male\", \"Male\", \"Male\", \"Male\", \"Male\", \"Male\", \"Male\", \"Male\", \"Male\", \"Male\", \"Male\", \"Male\", \"Male\", \"Male\", \"Male\", \"Male\", \"Male\", \"Male\", \"Male\", \"Male\", \"Male\", \"Male\", \"Male\", \"Male\", \"Male\", \"Male\", \"Male\", \"Male\", \"Male\", \"Male\", \"Male\", \"Male\", \"Male\", \"Male\", \"Male\", \"Male\", \"Male\", \"Male\", \"Male\", \"Male\", \"Male\", \"Male\", \"Male\", \"Male\", \"Male\", \"Male\", \"Male\", \"Male\", \"Male\", \"Male\", \"Male\", \"Male\", \"Male\", \"Male\", \"Male\", \"Male\", \"Male\", \"Male\", \"Male\", \"Male\", \"Male\", \"Male\", \"Male\", \"Male\", \"Male\", \"Male\", \"Male\", \"Male\", \"Male\", \"Male\", \"Male\", \"Male\", \"Male\", \"Male\", \"Male\", \"Male\", \"Male\", \"Male\", \"Male\", \"Male\", \"Male\", \"Male\", \"Male\", \"Male\", \"Male\", \"Male\", \"Male\", \"Male\", \"Male\", \"Male\", \"Male\", \"Male\", \"Male\", \"Male\", \"Male\", \"Male\", \"Male\", \"Male\", \"Male\", \"Male\", \"Male\", \"Male\", \"Male\", \"Male\", \"Male\", \"Male\", \"Male\", \"Male\", \"Male\", \"Male\", \"Male\", \"Male\", \"Male\", \"Male\", \"Male\", \"Male\", \"Male\", \"Male\", \"Male\", \"Male\", \"Male\", \"Male\", \"Male\", \"Male\", \"Male\", \"Male\", \"Male\", \"Male\", \"Male\", \"Male\", \"Male\", \"Male\", \"Male\", \"Male\", \"Male\", \"Male\", \"Male\", \"Male\", \"Male\", \"Male\", \"Male\", \"Male\", \"Male\", \"Male\", \"Male\", \"Male\", \"Male\", \"Male\", \"Male\", \"Male\", \"Male\", \"Male\", \"Male\", \"Male\", \"Male\", \"Male\", \"Male\", \"Male\", \"Male\", \"Male\", \"Male\", \"Male\", \"Male\", \"Male\", \"Male\", \"Male\", \"Male\", \"Male\", \"Male\", \"Male\", \"Male\", \"Male\", \"Male\", \"Male\", \"Male\", \"Male\", \"Male\", \"Male\", \"Male\", \"Male\", \"Male\", \"Male\", \"Male\", \"Male\", \"Male\", \"Male\", \"Male\", \"Male\", \"Male\", \"Male\", \"Male\", \"Male\", \"Male\", \"Male\", \"Male\", \"Male\", \"Male\", \"Male\", \"Male\", \"Male\", \"Male\", \"Male\", \"Male\", \"Male\", \"Male\", \"Male\", \"Male\", \"Male\", \"Male\", \"Male\", \"Male\", \"Male\", \"Male\", \"Male\", \"Male\", \"Male\", \"Male\", \"Male\", \"Male\", \"Male\", \"Male\", \"Male\", \"Male\", \"Male\", \"Male\", \"Male\", \"Male\", \"Male\", \"Male\", \"Male\", \"Male\", \"Male\", \"Male\", \"Male\", \"Male\", \"Male\", \"Male\", \"Male\", \"Male\", \"Male\", \"Male\", \"Male\", \"Male\", \"Male\", \"Male\", \"Male\", \"Male\", \"Male\", \"Male\", \"Male\", \"Male\", \"Male\", \"Male\", \"Male\", \"Male\", \"Male\", \"Male\", \"Male\", \"Male\", \"Male\", \"Male\", \"Male\", \"Male\", \"Male\", \"Male\", \"Male\", \"Male\", \"Male\", \"Male\", \"Male\", \"Male\", \"Male\", \"Male\", \"Male\", \"Male\", \"Male\", \"Male\", \"Male\", \"Male\", \"Male\", \"Male\", \"Male\", \"Male\", \"Male\", \"Male\", \"Male\", \"Male\", \"Male\", \"Male\", \"Male\", \"Male\", \"Male\", \"Male\", \"Male\", \"Male\", \"Male\", \"Male\", \"Male\", \"Male\", \"Male\", \"Male\", \"Male\", \"Male\", \"Male\", \"Male\", \"Male\", \"Male\", \"Male\", \"Male\", \"Male\", \"Male\", \"Male\", \"Male\", \"Male\", \"Male\", \"Male\", \"Male\", \"Male\", \"Male\", \"Male\", \"Male\", \"Male\", \"Male\", \"Male\", \"Male\", \"Male\", \"Male\", \"Male\", \"Male\", \"Male\", \"Male\", \"Male\", \"Male\", \"Male\", \"Male\", \"Male\", \"Male\", \"Male\", \"Male\", \"Male\", \"Male\", \"Male\", \"Male\", \"Male\", \"Male\", \"Male\", \"Male\", \"Male\", \"Male\", \"Male\", \"Male\", \"Male\", \"Male\", \"Male\", \"Male\", \"Male\", \"Male\", \"Male\", \"Male\", \"Male\", \"Male\", \"Male\", \"Male\", \"Male\", \"Male\", \"Male\", \"Male\", \"Male\", \"Male\", \"Male\", \"Male\", \"Male\", \"Male\", \"Male\", \"Male\", \"Male\", \"Male\", \"Male\", \"Male\", \"Male\", \"Male\", \"Male\", \"Male\", \"Male\", \"Male\", \"Male\", \"Male\", \"Male\", \"Male\", \"Male\", \"Male\", \"Male\", \"Male\", \"Male\", \"Male\", \"Male\", \"Male\", \"Male\", \"Male\", \"Male\", \"Male\", \"Male\", \"Male\", \"Male\", \"Male\", \"Male\", \"Male\", \"Male\", \"Male\", \"Male\", \"Male\", \"Male\", \"Male\", \"Male\", \"Male\", \"Male\", \"Male\", \"Male\", \"Male\", \"Male\", \"Male\", \"Male\", \"Male\", \"Male\", \"Male\", \"Male\", \"Male\", \"Male\", \"Male\", \"Male\", \"Male\", \"Male\", \"Male\", \"Male\", \"Male\", \"Male\", \"Male\", \"Male\", \"Male\", \"Male\", \"Male\", \"Male\", \"Male\", \"Male\", \"Male\", \"Male\", \"Male\", \"Male\", \"Male\", \"Male\", \"Male\", \"Male\", \"Male\", \"Male\", \"Male\", \"Male\", \"Male\", \"Male\", \"Male\", \"Male\", \"Male\", \"Male\", \"Male\", \"Male\", \"Male\", \"Male\", \"Male\", \"Male\", \"Male\", \"Male\", \"Male\", \"Male\", \"Male\", \"Male\", \"Male\", \"Male\", \"Male\", \"Male\", \"Male\", \"Male\", \"Male\", \"Male\", \"Male\", \"Male\", \"Male\", \"Male\", \"Male\", \"Male\", \"Male\", \"Male\", \"Male\", \"Male\", \"Male\", \"Male\", \"Male\", \"Male\", \"Male\", \"Male\", \"Male\", \"Male\", \"Male\", \"Male\", \"Male\", \"Male\", \"Male\", \"Male\", \"Male\", \"Male\", \"Male\", \"Male\", \"Male\", \"Male\", \"Male\", \"Male\", \"Male\", \"Male\", \"Male\", \"Male\", \"Male\", \"Male\", \"Male\", \"Male\", \"Male\", \"Male\", \"Male\", \"Male\", \"Male\", \"Male\", \"Male\", \"Male\", \"Male\", \"Male\", \"Male\", \"Male\", \"Male\", \"Male\", \"Male\", \"Male\", \"Male\", \"Male\", \"Male\", \"Male\", \"Male\", \"Male\", \"Male\", \"Male\", \"Male\", \"Male\", \"Male\", \"Male\", \"Male\", \"Male\", \"Male\", \"Male\", \"Male\", \"Male\", \"Male\", \"Male\", \"Male\", \"Male\", \"Male\", \"Male\", \"Male\", \"Male\", \"Male\", \"Male\", \"Male\", \"Male\", \"Male\", \"Male\", \"Male\", \"Male\", \"Male\", \"Male\", \"Male\", \"Male\", \"Male\", \"Male\", \"Male\", \"Male\", \"Male\", \"Male\", \"Male\", \"Male\", \"Male\", \"Male\", \"Male\", \"Male\", \"Male\", \"Male\", \"Male\", \"Male\", \"Male\", \"Male\", \"Male\", \"Male\", \"Male\", \"Male\", \"Male\", \"Male\", \"Male\", \"Male\", \"Male\", \"Male\", \"Male\", \"Male\", \"Male\", \"Male\", \"Male\", \"Male\", \"Male\", \"Male\", \"Male\", \"Male\", \"Male\", \"Male\", \"Male\", \"Male\", \"Male\", \"Male\", \"Male\", \"Male\", \"Male\", \"Male\", \"Male\", \"Male\", \"Male\", \"Male\", \"Male\", \"Male\", \"Male\", \"Male\", \"Male\", \"Male\", \"Male\", \"Male\", \"Male\", \"Male\", \"Male\", \"Male\", \"Male\", \"Male\", \"Male\", \"Male\", \"Male\", \"Male\", \"Male\", \"Male\", \"Male\", \"Male\", \"Male\", \"Male\", \"Male\", \"Male\", \"Male\", \"Male\", \"Male\", \"Male\", \"Male\", \"Male\", \"Male\", \"Male\", \"Male\", \"Male\"], \"xaxis\": \"x\", \"y\": [744154.0, 605286.0, 248765.0, 6792.0, 720029.0, 80458.0, 2407.0, 864398.0, 333.0, 226613.0, 72533.0, 6035.0, 666725.0, 9710.0, 31310.0, null, 109785.0, null, 823918.0, 3322.0, 357534.0, 3447.0, 16636.0, 228275.0, 8080.0, 659562.0, null, 869238.0, 447225.0, 1291.0, 57119.0, 3153.0, 181106.0, 4983.0, 2577.0, 655530.0, 2583.0, 58068.0, 8107.0, 419803.0, 174997.0, 9620.0, 131472.0, 9833.0, 278052.0, 9334.0, 229896.0, 267045.0, 747448.0, null, 334388.0, 6166.0, 394221.0, 337472.0, null, 103332.0, 7681.0, 441025.0, null, 303463.0, 5247.0, 987520.0, 4912.0, 724006.0, 264554.0, 4041.0, 598499.0, 964750.0, 365567.0, 1491.0, 119898.0, 586333.0, 327780.0, null, 205070.0, 7100.0, 344681.0, 700750.0, 865419.0, 9168.0, 748164.0, 51350.0, 445292.0, 807863.0, 4045.0, 553463.0, 8986.0, 889684.0, 876153.0, 298404.0, 6364.0, 438871.0, 3101.0, 755123.0, 1352.0, 333576.0, 8060.0, null, 133643.0, 6508.0, 928819.0, 1827.0, 223084.0, 6443.0, 816287.0, 682.0, 527901.0, 8503.0, 846305.0, 6119.0, 504154.0, 9985.0, 27053.0, 1612.0, 33718.0, 5657.0, 655488.0, 770633.0, null, 758597.0, 8134.0, 168534.0, 677211.0, 789985.0, 35522.0, 4834.0, 511037.0, 7351.0, 846778.0, 944429.0, 6038.0, 361013.0, 160419.0, 7550.0, 15414.0, 5921.0, 126827.0, 529947.0, 215026.0, 620654.0, null, 232561.0, 909480.0, 417502.0, 420827.0, 9353.0, 890950.0, 8519.0, 752658.0, 303894.0, null, 734251.0, 2121.0, 912588.0, null, 149625.0, 832865.0, null, 820401.0, 2693.0, 547840.0, 8158.0, 730730.0, 3781.0, 227640.0, 520103.0, 602280.0, 7211.0, 85552.0, 912379.0, 6083.0, 474397.0, 575563.0, 9762.0, 415070.0, 6328.0, 453413.0, 8743.0, 517982.0, 735036.0, null, 773788.0, 8914.0, 776763.0, 298329.0, 9452.0, 444111.0, null, 203912.0, 9495.0, 150396.0, 9999.0, 632446.0, 2814.0, 727125.0, 363027.0, 1627.0, 983191.0, 3058.0, 804925.0, 714110.0, 9371.0, 859250.0, 7873.0, 520006.0, 157222.0, null, 491870.0, 14241.0, 9422.0, 858367.0, 733471.0, null, 192970.0, 9371.0, 368863.0, 8675.0, 155409.0, 473135.0, 9802.0, 478297.0, 1890.0, 885894.0, null, 298521.0, 8673.0, 291657.0, null, 966013.0, 2869.0, 25583.0, 6521.0, 554971.0, null, 582828.0, 9086.0, 897737.0, 490579.0, 412923.0, null, 535579.0, 5205.0, 571529.0, 4899.0, 315744.0, 195.0, 912549.0, 2099.0, 945231.0, 2480.0, 228212.0, 9179.0, 300624.0, 4996.0, 687783.0, null, 290172.0, 108.0, 527184.0, 2049.0, 962828.0, 409640.0, 5057.0, 607492.0, 7737.0, 892868.0, 2543.0, 415650.0, 6396.0, 353917.0, 402029.0, null, 441414.0, 8403.0, 458969.0, 101453.0, 7905.0, 404704.0, 9708.0, 169629.0, 1301.0, 643737.0, 16600.0, 5600.0, 862817.0, 130.0, 984575.0, 7415.0, 58730.0, 747814.0, null, 873214.0, 3990.0, 145845.0, 9591.0, 848352.0, null, 435677.0, 979683.0, 8131.0, 266827.0, 316008.0, null, 891627.0, null, 578023.0, 311404.0, 7743.0, 731192.0, 2291.0, 377763.0, 2845.0, 236531.0, 4008.0, 847889.0, 500929.0, 9172.0, 936737.0, null, 923563.0, 5573.0, 958049.0, 6267.0, 235930.0, 3266.0, 473826.0, 2033.0, 913405.0, 5473.0, 839089.0, 353841.0, null, 322683.0, 420861.0, null, 981251.0, 846907.0, 962148.0, 3778.0, 272992.0, 210054.0, 5663.0, 132789.0, 280269.0, 6030.0, 430212.0, 4855.0, 634141.0, 330511.0, 7158.0, 602853.0, 6713.0, 89681.0, 5811.0, 573150.0, 96124.0, 2777.0, 126007.0, 569818.0, 923311.0, 652685.0, null, 215302.0, 39072.0, 578785.0, 5900.0, 786595.0, 430671.0, 126919.0, 1009.0, 220609.0, 3646.0, 35512.0, 9914.0, 56851.0, 131328.0, 279218.0, 683481.0, 933173.0, 6715.0, 76798.0, 942955.0, 783404.0, 106296.0, 3528.0, 954432.0, 8464.0, 967643.0, 820388.0, 227581.0, 47322.0, 3895.0, 691345.0, 2369.0, 327728.0, null, 270422.0, 187549.0, 131370.0, 583425.0, 6419.0, 760434.0, 5142.0, 409151.0, null, 509182.0, 5606.0, 163081.0, 346222.0, 9083.0, 225459.0, 7131.0, 339924.0, 9575.0, 270811.0, 6605.0, 380498.0, 9312.0, 59417.0, 2939.0, 967225.0, 1569.0, 147219.0, 7047.0, 405000.0, 8068.0, 33428.0, 8888.0, 595510.0, 26661.0, null, 973238.0, null, 539448.0, 756918.0, 490364.0, 1687.0, 266098.0, 312500.0, 8729.0, 660008.0, 472317.0, 545677.0, 3487.0, 445386.0, 677097.0, null, 273939.0, 680119.0, 592279.0, 4293.0, 497241.0, 9420.0, 879806.0, 3703.0, 493080.0, 9305.0, 56864.0, 8269.0, 254249.0, 821953.0, null, 141502.0, 576329.0, 2550.0, 665201.0, 9137.0, 903476.0, null, 791258.0, 76286.0, 699814.0, 955918.0, 268976.0, 644349.0, 995039.0, 520487.0, 748090.0, 556199.0, null, 793146.0, 8178.0, 690690.0, 4491.0, 632778.0, 317054.0, 1242.0, 966492.0, 538255.0, 382433.0, null, 802820.0, 1578.0, 8720.0, 683442.0, 151024.0, 6771.0, 650303.0, 9566.0, 896107.0, null, 835937.0, 9241.0, 150281.0, 5899.0, 802983.0, 3326.0, 667176.0, 42805.0, 3341.0, 99287.0, 3516.0, 746602.0, 9460.0, 749939.0, 543712.0, 73.0, 199444.0, 130050.0, 891584.0, null, 370532.0, 9661.0, 480455.0, 7622.0, 678866.0, 190512.0, null, 772326.0, 3635.0, 505329.0, 706033.0, null, 960571.0, 223962.0, 321497.0, 361275.0, 4542.0, 839591.0, 2120.0, 812001.0, 324951.0, 4112.0, 271641.0, 5747.0, 825126.0, 704.0, 721338.0, 224271.0, 608.0, 977295.0, null, 86794.0, null, 72103.0, 970920.0, 84826.0, 30.0, 724164.0, 8713.0, 620195.0, 356614.0, 1043.0, 272256.0, 3042.0, 597654.0, 259421.0, 588164.0, 124546.0, null, 87788.0, null, 888450.0, 76598.0, 3689.0, 981115.0, null, 867145.0, 164557.0, 4410.0, 498326.0, 8115.0, 310716.0, 65533.0, 6782.0, 837408.0, 7131.0, 792814.0, 3364.0, 929106.0, 524555.0, 7841.0, 876640.0, 6681.0, 177459.0, 777088.0, null, 389680.0, 518148.0, 583088.0, null, 145547.0, 4788.0, 992466.0, 6483.0, 26394.0, 2179.0, 440966.0, 9138.0, 518705.0, 45467.0, null, 312480.0, 922.0, 394333.0, 5764.0, 33538.0, 543320.0, 6101.0, 861711.0, 690462.0, 984.0, 541479.0, null, 248596.0, null, 203025.0, 581114.0, 468989.0, 210353.0, 467693.0, null, 615973.0, 1194.0, 126565.0, 466978.0, 7052.0, 288866.0, 291809.0, 1932.0, 421450.0, 3523.0, 537288.0, null, 875818.0, 2274.0, 999674.0, 870606.0, 4978.0, 212344.0, null, 594095.0, 9277.0, 407477.0, 508794.0, null, 285029.0, null, 323551.0, 146900.0, 8233.0, 329578.0, 544384.0, 505320.0, 9825.0, 320332.0, 436.0, 483465.0, 749256.0, 9222.0, 474765.0, 634589.0, 7175.0, 658655.0, 2958.0, 83429.0, null, 970827.0, 1263.0, 660173.0, 4464.0, 612173.0, 555364.0, 829.0, 7353.0, 494910.0, 3938.0, 932511.0, 526616.0, 270708.0, 5242.0, 991209.0, 70030.0, 3882.0, 134371.0, 5090.0, 491225.0, null, 10782.0, 7426.0, 357329.0, 676471.0, 1018.0, 389592.0, 1699.0, 94965.0, 6969.0, 147194.0, 245974.0, 2341.0, 752019.0, 3976.0, 74572.0, 419050.0, 1975.0, 851847.0, 4759.0, 278435.0, 2140.0, 201056.0, 4186.0, 34872.0, null, 980060.0, 7132.0, 187653.0, null, 174958.0, 8483.0, 34215.0, 4022.0, 536445.0, 9714.0, 340457.0, null, 662111.0, 429152.0, null, 925051.0, 738849.0, null, 444355.0, 810582.0, 612847.0, 442.0, 735306.0, 170714.0, 705823.0, 5343.0, 16837.0, 3521.0, 582685.0, 348024.0, 355485.0, 71741.0, 2089.0, 475777.0, 3268.0, 523822.0, 1563.0, 371698.0, 1565.0, 786617.0, 1204.0, 978088.0, 6384.0, 402581.0, 8534.0, 591128.0, 843157.0, null, 330637.0, null, 754843.0, 513653.0, 411914.0, 184184.0, 3409.0, 751852.0, 3435.0, 351731.0, 395731.0, 570186.0, 442907.0, 363311.0, 570440.0, 969979.0, 209031.0, 432088.0, 7289.0, 504693.0, 1294.0, 742026.0, 950135.0, 97770.0, 8770.0, 945013.0, 1642.0, 274585.0, 9788.0, 994273.0, 1836.0, 699266.0, 6867.0, 317112.0, 6350.0, 817049.0, 4987.0, 547350.0, 23989.0, 2507.0, 13198.0, 474012.0, 345649.0, 860018.0, 4729.0, 813464.0, 84778.0, 1439.0, 513589.0, 5200.0, 600943.0, null, 533501.0, 7176.0, 667547.0, 6740.0], \"yaxis\": \"y\"}, {\"alignmentgroup\": \"True\", \"bingroup\": \"x\", \"histfunc\": \"sum\", \"hovertemplate\": \"Gender=%{x}<br>sum of Policy Value=%{y}<extra></extra>\", \"legendgroup\": \"Female\", \"marker\": {\"color\": \"#EF553B\"}, \"name\": \"Female\", \"offsetgroup\": \"Female\", \"orientation\": \"v\", \"showlegend\": true, \"type\": \"histogram\", \"x\": [\"Female\", \"Female\", \"Female\", \"Female\", \"Female\", \"Female\", \"Female\", \"Female\", \"Female\", \"Female\", \"Female\", \"Female\", \"Female\", \"Female\", \"Female\", \"Female\", \"Female\", \"Female\", \"Female\", \"Female\", \"Female\", \"Female\", \"Female\", \"Female\", \"Female\", \"Female\", \"Female\", \"Female\", \"Female\", \"Female\", \"Female\", \"Female\", \"Female\", \"Female\", \"Female\", \"Female\", \"Female\", \"Female\", \"Female\", \"Female\", \"Female\", \"Female\", \"Female\", \"Female\", \"Female\", \"Female\", \"Female\", \"Female\", \"Female\", \"Female\", \"Female\", \"Female\", \"Female\", \"Female\", \"Female\", \"Female\", \"Female\", \"Female\", \"Female\", \"Female\", \"Female\", \"Female\", \"Female\", \"Female\", \"Female\", \"Female\", \"Female\", \"Female\", \"Female\", \"Female\", \"Female\", \"Female\", \"Female\", \"Female\", \"Female\", \"Female\", \"Female\", \"Female\", \"Female\", \"Female\", \"Female\", \"Female\", \"Female\", \"Female\", \"Female\", \"Female\", \"Female\", \"Female\", \"Female\", \"Female\", \"Female\", \"Female\", \"Female\", \"Female\", \"Female\", \"Female\", \"Female\", \"Female\", \"Female\", \"Female\", \"Female\", \"Female\", \"Female\", \"Female\", \"Female\", \"Female\", \"Female\", \"Female\", \"Female\", \"Female\", \"Female\", \"Female\", \"Female\", \"Female\", \"Female\", \"Female\", \"Female\", \"Female\", \"Female\", \"Female\", \"Female\", \"Female\", \"Female\", \"Female\", \"Female\", \"Female\", \"Female\", \"Female\", \"Female\", \"Female\", \"Female\", \"Female\", \"Female\", \"Female\", \"Female\", \"Female\", \"Female\", \"Female\", \"Female\", \"Female\", \"Female\", \"Female\", \"Female\", \"Female\", \"Female\", \"Female\", \"Female\", \"Female\", \"Female\", \"Female\", \"Female\", \"Female\", \"Female\", \"Female\", \"Female\", \"Female\", \"Female\", \"Female\", \"Female\", \"Female\", \"Female\", \"Female\", \"Female\", \"Female\", \"Female\", \"Female\", \"Female\", \"Female\", \"Female\", \"Female\", \"Female\", \"Female\", \"Female\", \"Female\", \"Female\", \"Female\", \"Female\", \"Female\", \"Female\", \"Female\", \"Female\", \"Female\", \"Female\", \"Female\", \"Female\", \"Female\", \"Female\", \"Female\", \"Female\", \"Female\", \"Female\", \"Female\", \"Female\", \"Female\", \"Female\", \"Female\", \"Female\", \"Female\", \"Female\", \"Female\", \"Female\", \"Female\", \"Female\", \"Female\", \"Female\", \"Female\", \"Female\", \"Female\", \"Female\", \"Female\", \"Female\", \"Female\", \"Female\", \"Female\", \"Female\", \"Female\", \"Female\", \"Female\", \"Female\", \"Female\", \"Female\", \"Female\", \"Female\", \"Female\", \"Female\", \"Female\", \"Female\", \"Female\", \"Female\", \"Female\", \"Female\", \"Female\", \"Female\", \"Female\", \"Female\", \"Female\", \"Female\", \"Female\", \"Female\", \"Female\", \"Female\", \"Female\", \"Female\", \"Female\", \"Female\", \"Female\", \"Female\", \"Female\", \"Female\", \"Female\", \"Female\", \"Female\", \"Female\", \"Female\", \"Female\", \"Female\", \"Female\", \"Female\", \"Female\", \"Female\", \"Female\", \"Female\", \"Female\", \"Female\", \"Female\", \"Female\", \"Female\", \"Female\", \"Female\", \"Female\", \"Female\", \"Female\", \"Female\", \"Female\", \"Female\", \"Female\", \"Female\", \"Female\", \"Female\", \"Female\", \"Female\", \"Female\", \"Female\", \"Female\", \"Female\", \"Female\", \"Female\", \"Female\", \"Female\", \"Female\", \"Female\", \"Female\", \"Female\", \"Female\", \"Female\", \"Female\", \"Female\", \"Female\", \"Female\", \"Female\", \"Female\", \"Female\", \"Female\", \"Female\", \"Female\", \"Female\", \"Female\", \"Female\", \"Female\", \"Female\", \"Female\", \"Female\", \"Female\", \"Female\", \"Female\", \"Female\", \"Female\", \"Female\", \"Female\", \"Female\", \"Female\", \"Female\", \"Female\", \"Female\", \"Female\", \"Female\", \"Female\", \"Female\", \"Female\", \"Female\", \"Female\", \"Female\", \"Female\", \"Female\", \"Female\", \"Female\", \"Female\", \"Female\", \"Female\", \"Female\", \"Female\", \"Female\", \"Female\", \"Female\", \"Female\", \"Female\", \"Female\", \"Female\", \"Female\", \"Female\", \"Female\", \"Female\", \"Female\", \"Female\", \"Female\", \"Female\", \"Female\", \"Female\", \"Female\", \"Female\", \"Female\", \"Female\", \"Female\", \"Female\", \"Female\", \"Female\", \"Female\", \"Female\", \"Female\", \"Female\", \"Female\", \"Female\", \"Female\", \"Female\", \"Female\", \"Female\", \"Female\", \"Female\", \"Female\", \"Female\", \"Female\", \"Female\", \"Female\", \"Female\", \"Female\", \"Female\", \"Female\", \"Female\", \"Female\", \"Female\", \"Female\", \"Female\", \"Female\", \"Female\", \"Female\", \"Female\", \"Female\", \"Female\", \"Female\", \"Female\", \"Female\", \"Female\", \"Female\", \"Female\", \"Female\", \"Female\", \"Female\", \"Female\", \"Female\", \"Female\", \"Female\", \"Female\", \"Female\", \"Female\", \"Female\", \"Female\", \"Female\", \"Female\", \"Female\", \"Female\", \"Female\", \"Female\", \"Female\", \"Female\", \"Female\", \"Female\", \"Female\", \"Female\", \"Female\", \"Female\", \"Female\", \"Female\", \"Female\", \"Female\", \"Female\", \"Female\", \"Female\", \"Female\", \"Female\", \"Female\", \"Female\", \"Female\", \"Female\", \"Female\", \"Female\", \"Female\", \"Female\", \"Female\", \"Female\", \"Female\", \"Female\", \"Female\", \"Female\", \"Female\", \"Female\", \"Female\", \"Female\", \"Female\", \"Female\", \"Female\", \"Female\", \"Female\", \"Female\", \"Female\", \"Female\", \"Female\", \"Female\", \"Female\", \"Female\", \"Female\", \"Female\", \"Female\", \"Female\", \"Female\", \"Female\", \"Female\", \"Female\", \"Female\", \"Female\", \"Female\", \"Female\", \"Female\", \"Female\", \"Female\", \"Female\", \"Female\", \"Female\", \"Female\", \"Female\", \"Female\", \"Female\", \"Female\", \"Female\", \"Female\", \"Female\", \"Female\", \"Female\", \"Female\", \"Female\", \"Female\", \"Female\", \"Female\", \"Female\", \"Female\", \"Female\", \"Female\", \"Female\", \"Female\", \"Female\", \"Female\", \"Female\", \"Female\", \"Female\", \"Female\", \"Female\", \"Female\", \"Female\", \"Female\", \"Female\", \"Female\", \"Female\", \"Female\", \"Female\", \"Female\", \"Female\", \"Female\", \"Female\", \"Female\", \"Female\", \"Female\", \"Female\", \"Female\", \"Female\", \"Female\", \"Female\", \"Female\", \"Female\", \"Female\", \"Female\", \"Female\", \"Female\", \"Female\", \"Female\", \"Female\", \"Female\", \"Female\", \"Female\", \"Female\", \"Female\", \"Female\", \"Female\", \"Female\", \"Female\", \"Female\", \"Female\", \"Female\", \"Female\", \"Female\", \"Female\", \"Female\", \"Female\", \"Female\", \"Female\", \"Female\", \"Female\", \"Female\", \"Female\", \"Female\", \"Female\", \"Female\", \"Female\", \"Female\", \"Female\", \"Female\", \"Female\", \"Female\", \"Female\", \"Female\", \"Female\", \"Female\", \"Female\", \"Female\", \"Female\", \"Female\", \"Female\", \"Female\", \"Female\", \"Female\", \"Female\", \"Female\", \"Female\", \"Female\", \"Female\", \"Female\", \"Female\", \"Female\", \"Female\", \"Female\", \"Female\", \"Female\", \"Female\", \"Female\", \"Female\", \"Female\", \"Female\", \"Female\", \"Female\", \"Female\", \"Female\", \"Female\", \"Female\", \"Female\", \"Female\", \"Female\", \"Female\", \"Female\", \"Female\", \"Female\", \"Female\", \"Female\", \"Female\", \"Female\", \"Female\", \"Female\", \"Female\", \"Female\", \"Female\", \"Female\", \"Female\", \"Female\", \"Female\", \"Female\", \"Female\", \"Female\", \"Female\", \"Female\", \"Female\", \"Female\", \"Female\", \"Female\", \"Female\", \"Female\", \"Female\", \"Female\", \"Female\", \"Female\", \"Female\", \"Female\", \"Female\", \"Female\", \"Female\", \"Female\", \"Female\", \"Female\", \"Female\", \"Female\", \"Female\", \"Female\", \"Female\", \"Female\", \"Female\", \"Female\", \"Female\", \"Female\", \"Female\", \"Female\", \"Female\", \"Female\", \"Female\", \"Female\", \"Female\", \"Female\", \"Female\", \"Female\", \"Female\", \"Female\", \"Female\", \"Female\", \"Female\", \"Female\", \"Female\", \"Female\", \"Female\", \"Female\", \"Female\", \"Female\", \"Female\", \"Female\", \"Female\", \"Female\", \"Female\", \"Female\", \"Female\", \"Female\", \"Female\", \"Female\", \"Female\", \"Female\", \"Female\", \"Female\", \"Female\", \"Female\", \"Female\", \"Female\", \"Female\", \"Female\", \"Female\", \"Female\", \"Female\", \"Female\", \"Female\", \"Female\", \"Female\", \"Female\", \"Female\", \"Female\", \"Female\", \"Female\", \"Female\", \"Female\", \"Female\", \"Female\", \"Female\", \"Female\", \"Female\", \"Female\", \"Female\", \"Female\", \"Female\", \"Female\", \"Female\", \"Female\", \"Female\", \"Female\", \"Female\", \"Female\", \"Female\", \"Female\", \"Female\", \"Female\", \"Female\", \"Female\", \"Female\", \"Female\", \"Female\", \"Female\", \"Female\", \"Female\", \"Female\", \"Female\", \"Female\", \"Female\", \"Female\", \"Female\", \"Female\", \"Female\", \"Female\", \"Female\", \"Female\", \"Female\", \"Female\", \"Female\", \"Female\", \"Female\", \"Female\", \"Female\", \"Female\", \"Female\", \"Female\", \"Female\", \"Female\", \"Female\", \"Female\", \"Female\", \"Female\", \"Female\", \"Female\", \"Female\", \"Female\", \"Female\", \"Female\", \"Female\", \"Female\", \"Female\", \"Female\", \"Female\", \"Female\", \"Female\", \"Female\", \"Female\", \"Female\", \"Female\", \"Female\", \"Female\", \"Female\", \"Female\", \"Female\", \"Female\", \"Female\", \"Female\", \"Female\", \"Female\", \"Female\", \"Female\", \"Female\", \"Female\", \"Female\", \"Female\"], \"xaxis\": \"x\", \"y\": [192389.0, null, 904394.0, 805735.0, null, 56875.0, 3898.0, 961879.0, 484.0, 657784.0, 8984.0, 840895.0, 845541.0, null, 738466.0, 256949.0, 620090.0, 6108.0, 998530.0, 4879.0, 516953.0, 799.0, 694020.0, 716935.0, 3038.0, 862064.0, 836151.0, null, 270033.0, 5074.0, 350672.0, null, 901170.0, 9607.0, 827818.0, 923702.0, 426356.0, 8371.0, 106081.0, 9445.0, 87479.0, 431.0, 771578.0, 298395.0, 3657.0, 626760.0, 7848.0, 509961.0, 2895.0, 950142.0, null, 675939.0, 3017.0, 289735.0, 190282.0, 325179.0, 789246.0, 168510.0, 926858.0, 8588.0, 987519.0, 8055.0, 972921.0, 7437.0, 364622.0, 4336.0, 518040.0, 7421.0, 723033.0, 429.0, 185161.0, 3618.0, 384605.0, 7352.0, 135646.0, 598862.0, 975914.0, 3820.0, 912634.0, 536275.0, 3788.0, 238710.0, 973337.0, null, 755588.0, 5992.0, 34992.0, 560120.0, 6171.0, 900020.0, null, 398962.0, 465755.0, 2074.0, 631714.0, 656026.0, 1913.0, 341509.0, 9414.0, 852825.0, 1941.0, 834501.0, 6730.0, 171734.0, 357555.0, 8221.0, 419404.0, 8290.0, 921854.0, 503925.0, 717086.0, 4577.0, 65379.0, 5894.0, 684966.0, 9009.0, 986831.0, 361783.0, 904286.0, null, 65738.0, 2033.0, 647966.0, 115845.0, 3995.0, 418479.0, 2412.0, 394590.0, 5770.0, 847871.0, 311057.0, 314454.0, 680.0, 185428.0, 1596.0, 515896.0, null, 646954.0, 991798.0, 1617.0, 853818.0, 945903.0, 130284.0, 6120.0, 126399.0, 157103.0, 5997.0, 753454.0, 2785.0, 12171.0, 7632.0, 357760.0, 1389.0, 534934.0, 8339.0, 49555.0, 1237.0, 580765.0, 98599.0, 5076.0, 746023.0, 233674.0, 8686.0, 752647.0, 4361.0, 422146.0, 140047.0, 544.0, 4904.0, 2747.0, 169219.0, 131827.0, 4810.0, 186879.0, 585332.0, null, 662029.0, 3579.0, 786082.0, 143092.0, 180422.0, 9307.0, 27628.0, 495595.0, 8640.0, 694305.0, 615432.0, 9864.0, 495408.0, 992.0, 3455.0, 8939.0, 938821.0, 1586.0, 847761.0, 243996.0, 219069.0, 7887.0, 734814.0, 4811.0, 734698.0, 303001.0, 296.0, 840875.0, 466729.0, 354611.0, 281359.0, 9952.0, 930017.0, 4590.0, 754504.0, 5152.0, 31476.0, null, 606494.0, 715187.0, 4733.0, 173447.0, 6558.0, 864601.0, 9979.0, 203720.0, null, 968229.0, 4582.0, 266793.0, 392187.0, 224124.0, 8222.0, 665644.0, 2631.0, 454007.0, 286824.0, null, 620638.0, 499137.0, 7112.0, 145562.0, 635488.0, null, 561276.0, 5093.0, 792376.0, 5058.0, 513946.0, 8659.0, 546827.0, 605446.0, 2984.0, 780753.0, 3164.0, 321582.0, 519281.0, 417616.0, 2379.0, 216732.0, 3202.0, 207462.0, 9768.0, 471568.0, 4230.0, 64758.0, 9312.0, 440398.0, 6534.0, 784505.0, 4080.0, 122084.0, 850958.0, null, 110025.0, 49384.0, 656629.0, 4279.0, 615701.0, 2163.0, 586726.0, 5987.0, 681174.0, 6482.0, 555607.0, 710317.0, 7643.0, 623554.0, 4338.0, 31540.0, 7786.0, 843906.0, null, 168408.0, 4687.0, 891395.0, null, 869618.0, null, 651960.0, 1551.0, 87626.0, 217076.0, 9314.0, 937973.0, 806330.0, 568750.0, 773641.0, 8364.0, 590601.0, 387960.0, 8683.0, 804790.0, 8252.0, 953207.0, 989049.0, 334807.0, 9692.0, 431209.0, 672331.0, 231789.0, 1254.0, 355075.0, 6245.0, 865557.0, 531192.0, 724367.0, 2145.0, 445189.0, 8701.0, 533710.0, 8562.0, 156980.0, 959183.0, 179068.0, 87582.0, 109531.0, 1821.0, 433596.0, 4344.0, 614975.0, 2423.0, 903915.0, 811672.0, 8839.0, 67058.0, 282051.0, null, 770621.0, null, 648632.0, 7840.0, 190531.0, 7540.0, 632484.0, 5625.0, 39000.0, 3096.0, 505942.0, 7035.0, 705725.0, 9369.0, 780266.0, null, 341249.0, 611569.0, 1299.0, 299824.0, 583.0, 859115.0, 8176.0, 998602.0, 955939.0, 109508.0, 589158.0, 767742.0, null, 310298.0, null, 607250.0, 3862.0, 671331.0, 415.0, 802995.0, null, 781957.0, null, 151108.0, 8449.0, 527121.0, 530532.0, null, 737684.0, 451353.0, null, 634102.0, 3693.0, 292905.0, 312042.0, 4.0, 66815.0, 8784.0, 47047.0, null, 535112.0, null, 273583.0, 529358.0, 1856.0, 832447.0, 585682.0, 346.0, 429642.0, 1872.0, 988444.0, null, 517060.0, 532721.0, 8119.0, 800075.0, 4147.0, 329718.0, 518311.0, 1453.0, 158474.0, 8611.0, 512201.0, 8809.0, 502469.0, 8553.0, 317776.0, 9104.0, 999488.0, 837545.0, 1919.0, 830422.0, 110682.0, 6031.0, 38211.0, 836089.0, 163007.0, 3789.0, 578577.0, 2465.0, 41570.0, 8992.0, 531171.0, 1942.0, 583768.0, 2535.0, 940689.0, 47849.0, 7000.0, 85983.0, 515961.0, null, 878955.0, 981214.0, null, 643023.0, 293714.0, 94799.0, 401964.0, 593404.0, 260294.0, 989181.0, 408.0, 694114.0, 6897.0, 799137.0, 2997.0, 224832.0, 1171.0, 888228.0, 7859.0, 927368.0, 9775.0, 956724.0, 133443.0, 9236.0, 379059.0, 311308.0, 594280.0, 4965.0, 89266.0, 2124.0, 963385.0, 7814.0, 538288.0, 481486.0, 1696.0, 868737.0, 8120.0, 469980.0, null, 879738.0, 556251.0, 628617.0, 2018.0, 167107.0, 8412.0, 182779.0, 4176.0, 17482.0, 3404.0, 930888.0, 928305.0, 5247.0, 298142.0, 692427.0, 572138.0, 6667.0, 194131.0, 1144.0, 807940.0, 1570.0, 274260.0, 389257.0, 1486.0, 11718.0, null, 601370.0, 5162.0, 970008.0, 697789.0, 4066.0, 838324.0, 987771.0, 6359.0, 957246.0, 349016.0, 461125.0, 5796.0, 223482.0, 492023.0, 6538.0, 250240.0, 949882.0, 142.0, 174922.0, 347087.0, 5851.0, 537797.0, 4817.0, 780136.0, 5560.0, 890918.0, 5600.0, 747703.0, 9594.0, 997883.0, 1027.0, 777728.0, null, 735144.0, null, 30087.0, 9703.0, 829023.0, 4101.0, 911362.0, 479218.0, 3679.0, 806789.0, null, 113542.0, null, 386644.0, 8767.0, 992966.0, 1603.0, 973578.0, 610157.0, 898645.0, null, 353773.0, 6469.0, 687770.0, 6146.0, 473985.0, 1769.0, 863469.0, 7222.0, 823098.0, 761724.0, 858.0, 838399.0, 8758.0, 327108.0, 9093.0, 226192.0, null, 548096.0, 116.0, 517517.0, 789.0, 830299.0, 368150.0, 6392.0, 489310.0, 804035.0, 326056.0, 9834.0, 415734.0, 585207.0, 7768.0, 620916.0, 209001.0, 137686.0, 4490.0, 657756.0, 3617.0, 307009.0, 1503.0, 318947.0, 1392.0, 650249.0, 6416.0, 956290.0, 270701.0, 89024.0, 3058.0, 8492.0, 865150.0, 9083.0, 773567.0, 6538.0, 957838.0, 721472.0, 2889.0, 158530.0, 9676.0, 747861.0, 171726.0, 5741.0, 925379.0, 100560.0, null, 833403.0, 3438.0, 194667.0, 4018.0, 344729.0, 5110.0, 525477.0, 3421.0, 909155.0, 7278.0, 804290.0, 521386.0, null, 7133.0, 1739.0, 863048.0, 8151.0, 2462.0, 858812.0, 6099.0, 367536.0, 8055.0, 638082.0, 733028.0, 947261.0, 8316.0, 573582.0, 552795.0, 4731.0, 678828.0, 1256.0, 17305.0, 2193.0, 3885.0, 348616.0, null, 261877.0, 4086.0, 685590.0, 891204.0, null, 585361.0, 9615.0, 163203.0, 3020.0, 15456.0, 216566.0, 4987.0, 891133.0, 76868.0, 8755.0, 205857.0, null, 953641.0, null, 412857.0, null, 327493.0, 864162.0, 3242.0, 330562.0, 633837.0, 4820.0, 222859.0, 318575.0, 2179.0, 388248.0, 251.0, 282069.0, 4478.0, 274159.0, 524081.0, 9533.0, 842209.0, 99972.0, 155908.0, 5645.0, 804489.0, 9972.0, 510384.0, 1218.0, 34571.0, null, 169888.0, 3826.0, 3757.0, 948167.0, 7116.0, 9361.0, 7637.0, 865109.0, 575.0, 338003.0, 7509.0, 886371.0, 6709.0, 206175.0, null, 255514.0, 4171.0, 413229.0, 837295.0, 8274.0, 628296.0, 897463.0, null, 140163.0, 281982.0, 7772.0, 123952.0, 3827.0, 835713.0, 1347.0, 432040.0, 4742.0, 831290.0, 770574.0, 901426.0, 211953.0, 488926.0, 5450.0, 689570.0, 211629.0, 6981.0, 689028.0, 4081.0, 35952.0, null, 904663.0, 6046.0, 380323.0, 7646.0, 168635.0, 540683.0, 6013.0, 993034.0, 923.0, 994048.0, 6467.0, 584930.0, 3027.0, 903307.0, 82831.0, 767580.0, 5035.0, 955298.0, 49756.0, 161080.0, 779301.0, 682840.0, 7763.0, 172941.0, 5355.0, 901930.0, 8430.0, 855597.0, 7678.0, 921596.0, 209.0, 473703.0, 964709.0, 9025.0, 412898.0, 7367.0, 486765.0, 6022.0, 28172.0, 3566.0, 401872.0, 6681.0, 617390.0, null, 275909.0, 280107.0], \"yaxis\": \"y\"}],                        {\"barmode\": \"relative\", \"legend\": {\"title\": {\"text\": \"Gender\"}, \"tracegroupgap\": 0}, \"template\": {\"data\": {\"bar\": [{\"error_x\": {\"color\": \"#2a3f5f\"}, \"error_y\": {\"color\": \"#2a3f5f\"}, \"marker\": {\"line\": {\"color\": \"#E5ECF6\", \"width\": 0.5}}, \"type\": \"bar\"}], \"barpolar\": [{\"marker\": {\"line\": {\"color\": \"#E5ECF6\", \"width\": 0.5}}, \"type\": \"barpolar\"}], \"carpet\": [{\"aaxis\": {\"endlinecolor\": \"#2a3f5f\", \"gridcolor\": \"white\", \"linecolor\": \"white\", \"minorgridcolor\": \"white\", \"startlinecolor\": \"#2a3f5f\"}, \"baxis\": {\"endlinecolor\": \"#2a3f5f\", \"gridcolor\": \"white\", \"linecolor\": \"white\", \"minorgridcolor\": \"white\", \"startlinecolor\": \"#2a3f5f\"}, \"type\": \"carpet\"}], \"choropleth\": [{\"colorbar\": {\"outlinewidth\": 0, \"ticks\": \"\"}, \"type\": \"choropleth\"}], \"contour\": [{\"colorbar\": {\"outlinewidth\": 0, \"ticks\": \"\"}, \"colorscale\": [[0.0, \"#0d0887\"], [0.1111111111111111, \"#46039f\"], [0.2222222222222222, \"#7201a8\"], [0.3333333333333333, \"#9c179e\"], [0.4444444444444444, \"#bd3786\"], [0.5555555555555556, \"#d8576b\"], [0.6666666666666666, \"#ed7953\"], [0.7777777777777778, \"#fb9f3a\"], [0.8888888888888888, \"#fdca26\"], [1.0, \"#f0f921\"]], \"type\": \"contour\"}], \"contourcarpet\": [{\"colorbar\": {\"outlinewidth\": 0, \"ticks\": \"\"}, \"type\": \"contourcarpet\"}], \"heatmap\": [{\"colorbar\": {\"outlinewidth\": 0, \"ticks\": \"\"}, \"colorscale\": [[0.0, \"#0d0887\"], [0.1111111111111111, \"#46039f\"], [0.2222222222222222, \"#7201a8\"], [0.3333333333333333, \"#9c179e\"], [0.4444444444444444, \"#bd3786\"], [0.5555555555555556, \"#d8576b\"], [0.6666666666666666, \"#ed7953\"], [0.7777777777777778, \"#fb9f3a\"], [0.8888888888888888, \"#fdca26\"], [1.0, \"#f0f921\"]], \"type\": \"heatmap\"}], \"heatmapgl\": [{\"colorbar\": {\"outlinewidth\": 0, \"ticks\": \"\"}, \"colorscale\": [[0.0, \"#0d0887\"], [0.1111111111111111, \"#46039f\"], [0.2222222222222222, \"#7201a8\"], [0.3333333333333333, \"#9c179e\"], [0.4444444444444444, \"#bd3786\"], [0.5555555555555556, \"#d8576b\"], [0.6666666666666666, \"#ed7953\"], [0.7777777777777778, \"#fb9f3a\"], [0.8888888888888888, \"#fdca26\"], [1.0, \"#f0f921\"]], \"type\": \"heatmapgl\"}], \"histogram\": [{\"marker\": {\"colorbar\": {\"outlinewidth\": 0, \"ticks\": \"\"}}, \"type\": \"histogram\"}], \"histogram2d\": [{\"colorbar\": {\"outlinewidth\": 0, \"ticks\": \"\"}, \"colorscale\": [[0.0, \"#0d0887\"], [0.1111111111111111, \"#46039f\"], [0.2222222222222222, \"#7201a8\"], [0.3333333333333333, \"#9c179e\"], [0.4444444444444444, \"#bd3786\"], [0.5555555555555556, \"#d8576b\"], [0.6666666666666666, \"#ed7953\"], [0.7777777777777778, \"#fb9f3a\"], [0.8888888888888888, \"#fdca26\"], [1.0, \"#f0f921\"]], \"type\": \"histogram2d\"}], \"histogram2dcontour\": [{\"colorbar\": {\"outlinewidth\": 0, \"ticks\": \"\"}, \"colorscale\": [[0.0, \"#0d0887\"], [0.1111111111111111, \"#46039f\"], [0.2222222222222222, \"#7201a8\"], [0.3333333333333333, \"#9c179e\"], [0.4444444444444444, \"#bd3786\"], [0.5555555555555556, \"#d8576b\"], [0.6666666666666666, \"#ed7953\"], [0.7777777777777778, \"#fb9f3a\"], [0.8888888888888888, \"#fdca26\"], [1.0, \"#f0f921\"]], \"type\": \"histogram2dcontour\"}], \"mesh3d\": [{\"colorbar\": {\"outlinewidth\": 0, \"ticks\": \"\"}, \"type\": \"mesh3d\"}], \"parcoords\": [{\"line\": {\"colorbar\": {\"outlinewidth\": 0, \"ticks\": \"\"}}, \"type\": \"parcoords\"}], \"pie\": [{\"automargin\": true, \"type\": \"pie\"}], \"scatter\": [{\"marker\": {\"colorbar\": {\"outlinewidth\": 0, \"ticks\": \"\"}}, \"type\": \"scatter\"}], \"scatter3d\": [{\"line\": {\"colorbar\": {\"outlinewidth\": 0, \"ticks\": \"\"}}, \"marker\": {\"colorbar\": {\"outlinewidth\": 0, \"ticks\": \"\"}}, \"type\": \"scatter3d\"}], \"scattercarpet\": [{\"marker\": {\"colorbar\": {\"outlinewidth\": 0, \"ticks\": \"\"}}, \"type\": \"scattercarpet\"}], \"scattergeo\": [{\"marker\": {\"colorbar\": {\"outlinewidth\": 0, \"ticks\": \"\"}}, \"type\": \"scattergeo\"}], \"scattergl\": [{\"marker\": {\"colorbar\": {\"outlinewidth\": 0, \"ticks\": \"\"}}, \"type\": \"scattergl\"}], \"scattermapbox\": [{\"marker\": {\"colorbar\": {\"outlinewidth\": 0, \"ticks\": \"\"}}, \"type\": \"scattermapbox\"}], \"scatterpolar\": [{\"marker\": {\"colorbar\": {\"outlinewidth\": 0, \"ticks\": \"\"}}, \"type\": \"scatterpolar\"}], \"scatterpolargl\": [{\"marker\": {\"colorbar\": {\"outlinewidth\": 0, \"ticks\": \"\"}}, \"type\": \"scatterpolargl\"}], \"scatterternary\": [{\"marker\": {\"colorbar\": {\"outlinewidth\": 0, \"ticks\": \"\"}}, \"type\": \"scatterternary\"}], \"surface\": [{\"colorbar\": {\"outlinewidth\": 0, \"ticks\": \"\"}, \"colorscale\": [[0.0, \"#0d0887\"], [0.1111111111111111, \"#46039f\"], [0.2222222222222222, \"#7201a8\"], [0.3333333333333333, \"#9c179e\"], [0.4444444444444444, \"#bd3786\"], [0.5555555555555556, \"#d8576b\"], [0.6666666666666666, \"#ed7953\"], [0.7777777777777778, \"#fb9f3a\"], [0.8888888888888888, \"#fdca26\"], [1.0, \"#f0f921\"]], \"type\": \"surface\"}], \"table\": [{\"cells\": {\"fill\": {\"color\": \"#EBF0F8\"}, \"line\": {\"color\": \"white\"}}, \"header\": {\"fill\": {\"color\": \"#C8D4E3\"}, \"line\": {\"color\": \"white\"}}, \"type\": \"table\"}]}, \"layout\": {\"annotationdefaults\": {\"arrowcolor\": \"#2a3f5f\", \"arrowhead\": 0, \"arrowwidth\": 1}, \"autotypenumbers\": \"strict\", \"coloraxis\": {\"colorbar\": {\"outlinewidth\": 0, \"ticks\": \"\"}}, \"colorscale\": {\"diverging\": [[0, \"#8e0152\"], [0.1, \"#c51b7d\"], [0.2, \"#de77ae\"], [0.3, \"#f1b6da\"], [0.4, \"#fde0ef\"], [0.5, \"#f7f7f7\"], [0.6, \"#e6f5d0\"], [0.7, \"#b8e186\"], [0.8, \"#7fbc41\"], [0.9, \"#4d9221\"], [1, \"#276419\"]], \"sequential\": [[0.0, \"#0d0887\"], [0.1111111111111111, \"#46039f\"], [0.2222222222222222, \"#7201a8\"], [0.3333333333333333, \"#9c179e\"], [0.4444444444444444, \"#bd3786\"], [0.5555555555555556, \"#d8576b\"], [0.6666666666666666, \"#ed7953\"], [0.7777777777777778, \"#fb9f3a\"], [0.8888888888888888, \"#fdca26\"], [1.0, \"#f0f921\"]], \"sequentialminus\": [[0.0, \"#0d0887\"], [0.1111111111111111, \"#46039f\"], [0.2222222222222222, \"#7201a8\"], [0.3333333333333333, \"#9c179e\"], [0.4444444444444444, \"#bd3786\"], [0.5555555555555556, \"#d8576b\"], [0.6666666666666666, \"#ed7953\"], [0.7777777777777778, \"#fb9f3a\"], [0.8888888888888888, \"#fdca26\"], [1.0, \"#f0f921\"]]}, \"colorway\": [\"#636efa\", \"#EF553B\", \"#00cc96\", \"#ab63fa\", \"#FFA15A\", \"#19d3f3\", \"#FF6692\", \"#B6E880\", \"#FF97FF\", \"#FECB52\"], \"font\": {\"color\": \"#2a3f5f\"}, \"geo\": {\"bgcolor\": \"white\", \"lakecolor\": \"white\", \"landcolor\": \"#E5ECF6\", \"showlakes\": true, \"showland\": true, \"subunitcolor\": \"white\"}, \"hoverlabel\": {\"align\": \"left\"}, \"hovermode\": \"closest\", \"mapbox\": {\"style\": \"light\"}, \"paper_bgcolor\": \"white\", \"plot_bgcolor\": \"#E5ECF6\", \"polar\": {\"angularaxis\": {\"gridcolor\": \"white\", \"linecolor\": \"white\", \"ticks\": \"\"}, \"bgcolor\": \"#E5ECF6\", \"radialaxis\": {\"gridcolor\": \"white\", \"linecolor\": \"white\", \"ticks\": \"\"}}, \"scene\": {\"xaxis\": {\"backgroundcolor\": \"#E5ECF6\", \"gridcolor\": \"white\", \"gridwidth\": 2, \"linecolor\": \"white\", \"showbackground\": true, \"ticks\": \"\", \"zerolinecolor\": \"white\"}, \"yaxis\": {\"backgroundcolor\": \"#E5ECF6\", \"gridcolor\": \"white\", \"gridwidth\": 2, \"linecolor\": \"white\", \"showbackground\": true, \"ticks\": \"\", \"zerolinecolor\": \"white\"}, \"zaxis\": {\"backgroundcolor\": \"#E5ECF6\", \"gridcolor\": \"white\", \"gridwidth\": 2, \"linecolor\": \"white\", \"showbackground\": true, \"ticks\": \"\", \"zerolinecolor\": \"white\"}}, \"shapedefaults\": {\"line\": {\"color\": \"#2a3f5f\"}}, \"ternary\": {\"aaxis\": {\"gridcolor\": \"white\", \"linecolor\": \"white\", \"ticks\": \"\"}, \"baxis\": {\"gridcolor\": \"white\", \"linecolor\": \"white\", \"ticks\": \"\"}, \"bgcolor\": \"#E5ECF6\", \"caxis\": {\"gridcolor\": \"white\", \"linecolor\": \"white\", \"ticks\": \"\"}}, \"title\": {\"x\": 0.05}, \"xaxis\": {\"automargin\": true, \"gridcolor\": \"white\", \"linecolor\": \"white\", \"ticks\": \"\", \"title\": {\"standoff\": 15}, \"zerolinecolor\": \"white\", \"zerolinewidth\": 2}, \"yaxis\": {\"automargin\": true, \"gridcolor\": \"white\", \"linecolor\": \"white\", \"ticks\": \"\", \"title\": {\"standoff\": 15}, \"zerolinecolor\": \"white\", \"zerolinewidth\": 2}}}, \"title\": {\"text\": \"Count of Policies by Gender\"}, \"xaxis\": {\"anchor\": \"y\", \"categoryarray\": [\"Male\", \"Female\"], \"categoryorder\": \"array\", \"domain\": [0.0, 1.0], \"title\": {\"text\": \"Gender\"}}, \"yaxis\": {\"anchor\": \"x\", \"domain\": [0.0, 1.0], \"title\": {\"text\": \"sum of Policy Value\"}}},                        {\"responsive\": true}                    ).then(function(){\n",
       "                            \n",
       "var gd = document.getElementById('c5f6d45c-2c75-4928-9f60-248f070937e8');\n",
       "var x = new MutationObserver(function (mutations, observer) {{\n",
       "        var display = window.getComputedStyle(gd).display;\n",
       "        if (!display || display === 'none') {{\n",
       "            console.log([gd, 'removed!']);\n",
       "            Plotly.purge(gd);\n",
       "            observer.disconnect();\n",
       "        }}\n",
       "}});\n",
       "\n",
       "// Listen for the removal of the full notebook cells\n",
       "var notebookContainer = gd.closest('#notebook-container');\n",
       "if (notebookContainer) {{\n",
       "    x.observe(notebookContainer, {childList: true});\n",
       "}}\n",
       "\n",
       "// Listen for the clearing of the current output cell\n",
       "var outputEl = gd.closest('.output');\n",
       "if (outputEl) {{\n",
       "    x.observe(outputEl, {childList: true});\n",
       "}}\n",
       "\n",
       "                        })                };                });            </script>        </div>"
      ]
     },
     "metadata": {},
     "output_type": "display_data"
    }
   ],
   "source": [
    "fig = px.histogram(dfNew, x='Gender', y='Policy Value' ,title=\"Count of Policies by Gender\" ,color = 'Gender')\n",
    "fig.show()"
   ]
  },
  {
   "cell_type": "markdown",
   "metadata": {},
   "source": [
    "The age of the customers is nearly normally distributted, more that 50% of our customers are nearing retirement age.\n",
    "\n",
    "Our Sales team must \n",
    "        1. find a way to retain these customers and offer them relatable products\n",
    "        2. They should targets the young customers more aggresively to maintain the balance"
   ]
  },
  {
   "cell_type": "code",
   "execution_count": 194,
   "metadata": {},
   "outputs": [
    {
     "data": {
      "application/vnd.plotly.v1+json": {
       "config": {
        "plotlyServerURL": "https://plot.ly"
       },
       "data": [
        {
         "alignmentgroup": "True",
         "bingroup": "x",
         "hovertemplate": "variable=Age<br>value=%{x}<br>count=%{y}<extra></extra>",
         "legendgroup": "Age",
         "marker": {
          "color": "#636efa"
         },
         "name": "Age",
         "nbinsx": 10,
         "offsetgroup": "Age",
         "orientation": "v",
         "showlegend": true,
         "type": "histogram",
         "x": [
          90,
          90,
          90,
          90,
          90,
          90,
          90,
          89,
          89,
          89,
          89,
          89,
          88,
          88,
          88,
          88,
          88,
          88,
          88,
          88,
          88,
          88,
          88,
          88,
          88,
          88,
          88,
          88,
          88,
          88,
          88,
          87,
          87,
          87,
          87,
          87,
          87,
          87,
          87,
          87,
          87,
          87,
          87,
          87,
          87,
          87,
          87,
          87,
          87,
          87,
          86,
          86,
          86,
          86,
          86,
          86,
          86,
          86,
          86,
          86,
          86,
          86,
          86,
          86,
          86,
          85,
          85,
          85,
          85,
          85,
          85,
          85,
          85,
          85,
          85,
          85,
          84,
          84,
          84,
          84,
          84,
          84,
          84,
          84,
          84,
          84,
          84,
          84,
          84,
          84,
          84,
          84,
          84,
          84,
          84,
          84,
          83,
          83,
          83,
          83,
          83,
          83,
          83,
          83,
          82,
          82,
          82,
          82,
          82,
          82,
          82,
          82,
          82,
          82,
          82,
          82,
          82,
          82,
          82,
          82,
          81,
          81,
          81,
          81,
          81,
          81,
          81,
          81,
          81,
          81,
          80,
          80,
          80,
          80,
          80,
          80,
          80,
          80,
          80,
          80,
          80,
          80,
          80,
          80,
          80,
          80,
          80,
          80,
          79,
          78,
          78,
          78,
          78,
          78,
          78,
          77,
          77,
          77,
          77,
          77,
          77,
          77,
          77,
          77,
          77,
          77,
          77,
          77,
          77,
          77,
          77,
          77,
          77,
          77,
          76,
          76,
          76,
          76,
          76,
          76,
          76,
          76,
          76,
          76,
          76,
          76,
          76,
          76,
          75,
          75,
          75,
          75,
          75,
          75,
          75,
          75,
          75,
          75,
          75,
          75,
          75,
          75,
          75,
          75,
          75,
          75,
          75,
          75,
          75,
          74,
          74,
          74,
          74,
          74,
          74,
          74,
          74,
          74,
          74,
          74,
          74,
          74,
          74,
          74,
          74,
          74,
          74,
          74,
          73,
          73,
          73,
          73,
          73,
          73,
          73,
          73,
          73,
          73,
          72,
          71,
          71,
          71,
          71,
          71,
          71,
          71,
          71,
          71,
          71,
          71,
          71,
          71,
          71,
          71,
          71,
          71,
          71,
          71,
          71,
          71,
          71,
          71,
          71,
          71,
          71,
          71,
          71,
          71,
          71,
          70,
          70,
          70,
          70,
          70,
          70,
          70,
          70,
          70,
          70,
          70,
          70,
          70,
          70,
          70,
          70,
          70,
          70,
          70,
          70,
          70,
          70,
          70,
          70,
          70,
          70,
          70,
          70,
          70,
          70,
          70,
          70,
          70,
          70,
          70,
          70,
          70,
          69,
          69,
          69,
          69,
          69,
          69,
          69,
          69,
          69,
          69,
          69,
          69,
          69,
          69,
          69,
          69,
          69,
          69,
          68,
          68,
          68,
          68,
          68,
          68,
          68,
          68,
          68,
          68,
          68,
          68,
          68,
          68,
          67,
          67,
          67,
          67,
          67,
          67,
          67,
          67,
          67,
          67,
          67,
          67,
          67,
          67,
          67,
          67,
          67,
          67,
          67,
          67,
          67,
          67,
          67,
          67,
          67,
          67,
          67,
          66,
          66,
          65,
          65,
          65,
          65,
          65,
          65,
          65,
          65,
          65,
          65,
          65,
          65,
          65,
          65,
          65,
          65,
          65,
          65,
          65,
          65,
          65,
          65,
          65,
          65,
          65,
          65,
          65,
          65,
          65,
          65,
          65,
          65,
          65,
          65,
          65,
          65,
          65,
          65,
          65,
          65,
          65,
          65,
          65,
          65,
          65,
          65,
          65,
          65,
          65,
          65,
          65,
          65,
          65,
          65,
          65,
          65,
          65,
          65,
          65,
          65,
          65,
          65,
          65,
          65,
          65,
          65,
          65,
          65,
          65,
          65,
          65,
          65,
          65,
          65,
          65,
          65,
          65,
          65,
          65,
          65,
          65,
          65,
          65,
          65,
          65,
          65,
          65,
          65,
          65,
          65,
          65,
          65,
          65,
          65,
          65,
          65,
          65,
          65,
          65,
          65,
          65,
          65,
          65,
          65,
          65,
          65,
          65,
          65,
          65,
          65,
          65,
          65,
          65,
          65,
          65,
          65,
          65,
          65,
          65,
          65,
          65,
          65,
          65,
          65,
          64,
          64,
          64,
          64,
          64,
          64,
          64,
          64,
          64,
          64,
          64,
          64,
          64,
          64,
          64,
          64,
          64,
          64,
          64,
          64,
          64,
          64,
          64,
          64,
          64,
          64,
          64,
          64,
          64,
          64,
          64,
          64,
          64,
          64,
          64,
          64,
          64,
          64,
          64,
          64,
          64,
          64,
          64,
          64,
          64,
          64,
          64,
          64,
          64,
          64,
          64,
          64,
          64,
          64,
          64,
          64,
          64,
          64,
          64,
          64,
          63,
          63,
          63,
          63,
          63,
          63,
          63,
          63,
          63,
          63,
          63,
          62,
          62,
          62,
          62,
          62,
          62,
          62,
          62,
          62,
          62,
          62,
          62,
          62,
          62,
          62,
          62,
          62,
          62,
          62,
          62,
          62,
          62,
          62,
          62,
          62,
          62,
          62,
          62,
          61,
          61,
          61,
          61,
          61,
          61,
          61,
          61,
          61,
          61,
          61,
          61,
          61,
          61,
          61,
          61,
          61,
          61,
          61,
          61,
          61,
          60,
          60,
          60,
          60,
          60,
          60,
          60,
          60,
          60,
          60,
          60,
          60,
          60,
          60,
          60,
          60,
          60,
          60,
          60,
          60,
          60,
          60,
          60,
          60,
          60,
          60,
          60,
          60,
          60,
          60,
          60,
          60,
          60,
          60,
          60,
          60,
          60,
          60,
          60,
          60,
          60,
          60,
          60,
          60,
          60,
          60,
          60,
          60,
          60,
          60,
          59,
          59,
          59,
          59,
          59,
          59,
          59,
          59,
          59,
          59,
          58,
          58,
          58,
          58,
          58,
          58,
          58,
          58,
          58,
          58,
          58,
          58,
          58,
          58,
          58,
          58,
          58,
          58,
          58,
          58,
          58,
          58,
          58,
          58,
          58,
          58,
          58,
          58,
          58,
          58,
          58,
          58,
          58,
          58,
          57,
          57,
          57,
          57,
          57,
          57,
          57,
          57,
          57,
          57,
          57,
          57,
          56,
          56,
          56,
          56,
          56,
          56,
          56,
          56,
          56,
          56,
          56,
          56,
          56,
          56,
          56,
          56,
          56,
          56,
          56,
          56,
          55,
          55,
          55,
          55,
          55,
          55,
          54,
          54,
          53,
          53,
          53,
          53,
          53,
          53,
          53,
          53,
          53,
          53,
          53,
          53,
          53,
          53,
          53,
          53,
          53,
          53,
          53,
          53,
          53,
          53,
          53,
          53,
          53,
          53,
          53,
          53,
          53,
          53,
          53,
          53,
          53,
          53,
          53,
          53,
          53,
          53,
          53,
          53,
          53,
          53,
          53,
          53,
          53,
          52,
          52,
          52,
          52,
          52,
          52,
          52,
          52,
          52,
          52,
          52,
          52,
          52,
          52,
          51,
          51,
          51,
          51,
          51,
          51,
          51,
          51,
          51,
          51,
          50,
          50,
          50,
          50,
          50,
          50,
          50,
          50,
          50,
          50,
          50,
          50,
          49,
          49,
          49,
          49,
          49,
          49,
          49,
          49,
          49,
          49,
          49,
          49,
          49,
          49,
          49,
          49,
          49,
          49,
          49,
          49,
          49,
          49,
          49,
          49,
          49,
          49,
          49,
          49,
          49,
          49,
          48,
          48,
          48,
          48,
          48,
          48,
          48,
          48,
          48,
          48,
          48,
          48,
          48,
          48,
          47,
          47,
          47,
          47,
          47,
          47,
          47,
          47,
          47,
          46,
          46,
          46,
          46,
          46,
          46,
          46,
          46,
          46,
          45,
          45,
          45,
          45,
          45,
          44,
          44,
          44,
          44,
          44,
          44,
          44,
          44,
          44,
          44,
          44,
          44,
          44,
          44,
          43,
          43,
          43,
          43,
          43,
          43,
          43,
          43,
          43,
          42,
          42,
          42,
          42,
          42,
          42,
          42,
          42,
          42,
          42,
          42,
          42,
          42,
          42,
          42,
          42,
          42,
          42,
          42,
          42,
          42,
          42,
          42,
          42,
          42,
          42,
          42,
          42,
          42,
          42,
          42,
          42,
          42,
          41,
          40,
          40,
          40,
          40,
          40,
          40,
          40,
          40,
          38,
          38,
          37,
          37,
          37,
          37,
          37,
          37,
          37,
          37,
          34,
          34,
          33,
          33,
          33,
          33,
          33,
          32,
          32,
          32,
          32,
          32,
          32,
          32,
          32,
          30,
          30,
          30,
          30,
          30,
          30,
          30,
          30,
          28,
          28,
          27,
          27,
          24,
          22,
          22,
          20
         ],
         "xaxis": "x",
         "yaxis": "y"
        }
       ],
       "layout": {
        "barmode": "relative",
        "legend": {
         "title": {
          "text": "variable"
         },
         "tracegroupgap": 0
        },
        "template": {
         "data": {
          "bar": [
           {
            "error_x": {
             "color": "#2a3f5f"
            },
            "error_y": {
             "color": "#2a3f5f"
            },
            "marker": {
             "line": {
              "color": "#E5ECF6",
              "width": 0.5
             }
            },
            "type": "bar"
           }
          ],
          "barpolar": [
           {
            "marker": {
             "line": {
              "color": "#E5ECF6",
              "width": 0.5
             }
            },
            "type": "barpolar"
           }
          ],
          "carpet": [
           {
            "aaxis": {
             "endlinecolor": "#2a3f5f",
             "gridcolor": "white",
             "linecolor": "white",
             "minorgridcolor": "white",
             "startlinecolor": "#2a3f5f"
            },
            "baxis": {
             "endlinecolor": "#2a3f5f",
             "gridcolor": "white",
             "linecolor": "white",
             "minorgridcolor": "white",
             "startlinecolor": "#2a3f5f"
            },
            "type": "carpet"
           }
          ],
          "choropleth": [
           {
            "colorbar": {
             "outlinewidth": 0,
             "ticks": ""
            },
            "type": "choropleth"
           }
          ],
          "contour": [
           {
            "colorbar": {
             "outlinewidth": 0,
             "ticks": ""
            },
            "colorscale": [
             [
              0,
              "#0d0887"
             ],
             [
              0.1111111111111111,
              "#46039f"
             ],
             [
              0.2222222222222222,
              "#7201a8"
             ],
             [
              0.3333333333333333,
              "#9c179e"
             ],
             [
              0.4444444444444444,
              "#bd3786"
             ],
             [
              0.5555555555555556,
              "#d8576b"
             ],
             [
              0.6666666666666666,
              "#ed7953"
             ],
             [
              0.7777777777777778,
              "#fb9f3a"
             ],
             [
              0.8888888888888888,
              "#fdca26"
             ],
             [
              1,
              "#f0f921"
             ]
            ],
            "type": "contour"
           }
          ],
          "contourcarpet": [
           {
            "colorbar": {
             "outlinewidth": 0,
             "ticks": ""
            },
            "type": "contourcarpet"
           }
          ],
          "heatmap": [
           {
            "colorbar": {
             "outlinewidth": 0,
             "ticks": ""
            },
            "colorscale": [
             [
              0,
              "#0d0887"
             ],
             [
              0.1111111111111111,
              "#46039f"
             ],
             [
              0.2222222222222222,
              "#7201a8"
             ],
             [
              0.3333333333333333,
              "#9c179e"
             ],
             [
              0.4444444444444444,
              "#bd3786"
             ],
             [
              0.5555555555555556,
              "#d8576b"
             ],
             [
              0.6666666666666666,
              "#ed7953"
             ],
             [
              0.7777777777777778,
              "#fb9f3a"
             ],
             [
              0.8888888888888888,
              "#fdca26"
             ],
             [
              1,
              "#f0f921"
             ]
            ],
            "type": "heatmap"
           }
          ],
          "heatmapgl": [
           {
            "colorbar": {
             "outlinewidth": 0,
             "ticks": ""
            },
            "colorscale": [
             [
              0,
              "#0d0887"
             ],
             [
              0.1111111111111111,
              "#46039f"
             ],
             [
              0.2222222222222222,
              "#7201a8"
             ],
             [
              0.3333333333333333,
              "#9c179e"
             ],
             [
              0.4444444444444444,
              "#bd3786"
             ],
             [
              0.5555555555555556,
              "#d8576b"
             ],
             [
              0.6666666666666666,
              "#ed7953"
             ],
             [
              0.7777777777777778,
              "#fb9f3a"
             ],
             [
              0.8888888888888888,
              "#fdca26"
             ],
             [
              1,
              "#f0f921"
             ]
            ],
            "type": "heatmapgl"
           }
          ],
          "histogram": [
           {
            "marker": {
             "colorbar": {
              "outlinewidth": 0,
              "ticks": ""
             }
            },
            "type": "histogram"
           }
          ],
          "histogram2d": [
           {
            "colorbar": {
             "outlinewidth": 0,
             "ticks": ""
            },
            "colorscale": [
             [
              0,
              "#0d0887"
             ],
             [
              0.1111111111111111,
              "#46039f"
             ],
             [
              0.2222222222222222,
              "#7201a8"
             ],
             [
              0.3333333333333333,
              "#9c179e"
             ],
             [
              0.4444444444444444,
              "#bd3786"
             ],
             [
              0.5555555555555556,
              "#d8576b"
             ],
             [
              0.6666666666666666,
              "#ed7953"
             ],
             [
              0.7777777777777778,
              "#fb9f3a"
             ],
             [
              0.8888888888888888,
              "#fdca26"
             ],
             [
              1,
              "#f0f921"
             ]
            ],
            "type": "histogram2d"
           }
          ],
          "histogram2dcontour": [
           {
            "colorbar": {
             "outlinewidth": 0,
             "ticks": ""
            },
            "colorscale": [
             [
              0,
              "#0d0887"
             ],
             [
              0.1111111111111111,
              "#46039f"
             ],
             [
              0.2222222222222222,
              "#7201a8"
             ],
             [
              0.3333333333333333,
              "#9c179e"
             ],
             [
              0.4444444444444444,
              "#bd3786"
             ],
             [
              0.5555555555555556,
              "#d8576b"
             ],
             [
              0.6666666666666666,
              "#ed7953"
             ],
             [
              0.7777777777777778,
              "#fb9f3a"
             ],
             [
              0.8888888888888888,
              "#fdca26"
             ],
             [
              1,
              "#f0f921"
             ]
            ],
            "type": "histogram2dcontour"
           }
          ],
          "mesh3d": [
           {
            "colorbar": {
             "outlinewidth": 0,
             "ticks": ""
            },
            "type": "mesh3d"
           }
          ],
          "parcoords": [
           {
            "line": {
             "colorbar": {
              "outlinewidth": 0,
              "ticks": ""
             }
            },
            "type": "parcoords"
           }
          ],
          "pie": [
           {
            "automargin": true,
            "type": "pie"
           }
          ],
          "scatter": [
           {
            "marker": {
             "colorbar": {
              "outlinewidth": 0,
              "ticks": ""
             }
            },
            "type": "scatter"
           }
          ],
          "scatter3d": [
           {
            "line": {
             "colorbar": {
              "outlinewidth": 0,
              "ticks": ""
             }
            },
            "marker": {
             "colorbar": {
              "outlinewidth": 0,
              "ticks": ""
             }
            },
            "type": "scatter3d"
           }
          ],
          "scattercarpet": [
           {
            "marker": {
             "colorbar": {
              "outlinewidth": 0,
              "ticks": ""
             }
            },
            "type": "scattercarpet"
           }
          ],
          "scattergeo": [
           {
            "marker": {
             "colorbar": {
              "outlinewidth": 0,
              "ticks": ""
             }
            },
            "type": "scattergeo"
           }
          ],
          "scattergl": [
           {
            "marker": {
             "colorbar": {
              "outlinewidth": 0,
              "ticks": ""
             }
            },
            "type": "scattergl"
           }
          ],
          "scattermapbox": [
           {
            "marker": {
             "colorbar": {
              "outlinewidth": 0,
              "ticks": ""
             }
            },
            "type": "scattermapbox"
           }
          ],
          "scatterpolar": [
           {
            "marker": {
             "colorbar": {
              "outlinewidth": 0,
              "ticks": ""
             }
            },
            "type": "scatterpolar"
           }
          ],
          "scatterpolargl": [
           {
            "marker": {
             "colorbar": {
              "outlinewidth": 0,
              "ticks": ""
             }
            },
            "type": "scatterpolargl"
           }
          ],
          "scatterternary": [
           {
            "marker": {
             "colorbar": {
              "outlinewidth": 0,
              "ticks": ""
             }
            },
            "type": "scatterternary"
           }
          ],
          "surface": [
           {
            "colorbar": {
             "outlinewidth": 0,
             "ticks": ""
            },
            "colorscale": [
             [
              0,
              "#0d0887"
             ],
             [
              0.1111111111111111,
              "#46039f"
             ],
             [
              0.2222222222222222,
              "#7201a8"
             ],
             [
              0.3333333333333333,
              "#9c179e"
             ],
             [
              0.4444444444444444,
              "#bd3786"
             ],
             [
              0.5555555555555556,
              "#d8576b"
             ],
             [
              0.6666666666666666,
              "#ed7953"
             ],
             [
              0.7777777777777778,
              "#fb9f3a"
             ],
             [
              0.8888888888888888,
              "#fdca26"
             ],
             [
              1,
              "#f0f921"
             ]
            ],
            "type": "surface"
           }
          ],
          "table": [
           {
            "cells": {
             "fill": {
              "color": "#EBF0F8"
             },
             "line": {
              "color": "white"
             }
            },
            "header": {
             "fill": {
              "color": "#C8D4E3"
             },
             "line": {
              "color": "white"
             }
            },
            "type": "table"
           }
          ]
         },
         "layout": {
          "annotationdefaults": {
           "arrowcolor": "#2a3f5f",
           "arrowhead": 0,
           "arrowwidth": 1
          },
          "autotypenumbers": "strict",
          "coloraxis": {
           "colorbar": {
            "outlinewidth": 0,
            "ticks": ""
           }
          },
          "colorscale": {
           "diverging": [
            [
             0,
             "#8e0152"
            ],
            [
             0.1,
             "#c51b7d"
            ],
            [
             0.2,
             "#de77ae"
            ],
            [
             0.3,
             "#f1b6da"
            ],
            [
             0.4,
             "#fde0ef"
            ],
            [
             0.5,
             "#f7f7f7"
            ],
            [
             0.6,
             "#e6f5d0"
            ],
            [
             0.7,
             "#b8e186"
            ],
            [
             0.8,
             "#7fbc41"
            ],
            [
             0.9,
             "#4d9221"
            ],
            [
             1,
             "#276419"
            ]
           ],
           "sequential": [
            [
             0,
             "#0d0887"
            ],
            [
             0.1111111111111111,
             "#46039f"
            ],
            [
             0.2222222222222222,
             "#7201a8"
            ],
            [
             0.3333333333333333,
             "#9c179e"
            ],
            [
             0.4444444444444444,
             "#bd3786"
            ],
            [
             0.5555555555555556,
             "#d8576b"
            ],
            [
             0.6666666666666666,
             "#ed7953"
            ],
            [
             0.7777777777777778,
             "#fb9f3a"
            ],
            [
             0.8888888888888888,
             "#fdca26"
            ],
            [
             1,
             "#f0f921"
            ]
           ],
           "sequentialminus": [
            [
             0,
             "#0d0887"
            ],
            [
             0.1111111111111111,
             "#46039f"
            ],
            [
             0.2222222222222222,
             "#7201a8"
            ],
            [
             0.3333333333333333,
             "#9c179e"
            ],
            [
             0.4444444444444444,
             "#bd3786"
            ],
            [
             0.5555555555555556,
             "#d8576b"
            ],
            [
             0.6666666666666666,
             "#ed7953"
            ],
            [
             0.7777777777777778,
             "#fb9f3a"
            ],
            [
             0.8888888888888888,
             "#fdca26"
            ],
            [
             1,
             "#f0f921"
            ]
           ]
          },
          "colorway": [
           "#636efa",
           "#EF553B",
           "#00cc96",
           "#ab63fa",
           "#FFA15A",
           "#19d3f3",
           "#FF6692",
           "#B6E880",
           "#FF97FF",
           "#FECB52"
          ],
          "font": {
           "color": "#2a3f5f"
          },
          "geo": {
           "bgcolor": "white",
           "lakecolor": "white",
           "landcolor": "#E5ECF6",
           "showlakes": true,
           "showland": true,
           "subunitcolor": "white"
          },
          "hoverlabel": {
           "align": "left"
          },
          "hovermode": "closest",
          "mapbox": {
           "style": "light"
          },
          "paper_bgcolor": "white",
          "plot_bgcolor": "#E5ECF6",
          "polar": {
           "angularaxis": {
            "gridcolor": "white",
            "linecolor": "white",
            "ticks": ""
           },
           "bgcolor": "#E5ECF6",
           "radialaxis": {
            "gridcolor": "white",
            "linecolor": "white",
            "ticks": ""
           }
          },
          "scene": {
           "xaxis": {
            "backgroundcolor": "#E5ECF6",
            "gridcolor": "white",
            "gridwidth": 2,
            "linecolor": "white",
            "showbackground": true,
            "ticks": "",
            "zerolinecolor": "white"
           },
           "yaxis": {
            "backgroundcolor": "#E5ECF6",
            "gridcolor": "white",
            "gridwidth": 2,
            "linecolor": "white",
            "showbackground": true,
            "ticks": "",
            "zerolinecolor": "white"
           },
           "zaxis": {
            "backgroundcolor": "#E5ECF6",
            "gridcolor": "white",
            "gridwidth": 2,
            "linecolor": "white",
            "showbackground": true,
            "ticks": "",
            "zerolinecolor": "white"
           }
          },
          "shapedefaults": {
           "line": {
            "color": "#2a3f5f"
           }
          },
          "ternary": {
           "aaxis": {
            "gridcolor": "white",
            "linecolor": "white",
            "ticks": ""
           },
           "baxis": {
            "gridcolor": "white",
            "linecolor": "white",
            "ticks": ""
           },
           "bgcolor": "#E5ECF6",
           "caxis": {
            "gridcolor": "white",
            "linecolor": "white",
            "ticks": ""
           }
          },
          "title": {
           "x": 0.05
          },
          "xaxis": {
           "automargin": true,
           "gridcolor": "white",
           "linecolor": "white",
           "ticks": "",
           "title": {
            "standoff": 15
           },
           "zerolinecolor": "white",
           "zerolinewidth": 2
          },
          "yaxis": {
           "automargin": true,
           "gridcolor": "white",
           "linecolor": "white",
           "ticks": "",
           "title": {
            "standoff": 15
           },
           "zerolinecolor": "white",
           "zerolinewidth": 2
          }
         }
        },
        "title": {
         "text": "Distribution of Age"
        },
        "xaxis": {
         "anchor": "y",
         "domain": [
          0,
          1
         ],
         "title": {
          "text": "value"
         }
        },
        "yaxis": {
         "anchor": "x",
         "domain": [
          0,
          1
         ],
         "title": {
          "text": "count"
         }
        }
       }
      },
      "text/html": [
       "<div>                            <div id=\"a05e5342-d3ab-4b27-86bf-639a68393972\" class=\"plotly-graph-div\" style=\"height:525px; width:100%;\"></div>            <script type=\"text/javascript\">                require([\"plotly\"], function(Plotly) {                    window.PLOTLYENV=window.PLOTLYENV || {};                                    if (document.getElementById(\"a05e5342-d3ab-4b27-86bf-639a68393972\")) {                    Plotly.newPlot(                        \"a05e5342-d3ab-4b27-86bf-639a68393972\",                        [{\"alignmentgroup\": \"True\", \"bingroup\": \"x\", \"hovertemplate\": \"variable=Age<br>value=%{x}<br>count=%{y}<extra></extra>\", \"legendgroup\": \"Age\", \"marker\": {\"color\": \"#636efa\"}, \"name\": \"Age\", \"nbinsx\": 10, \"offsetgroup\": \"Age\", \"orientation\": \"v\", \"showlegend\": true, \"type\": \"histogram\", \"x\": [90, 90, 90, 90, 90, 90, 90, 89, 89, 89, 89, 89, 88, 88, 88, 88, 88, 88, 88, 88, 88, 88, 88, 88, 88, 88, 88, 88, 88, 88, 88, 87, 87, 87, 87, 87, 87, 87, 87, 87, 87, 87, 87, 87, 87, 87, 87, 87, 87, 87, 86, 86, 86, 86, 86, 86, 86, 86, 86, 86, 86, 86, 86, 86, 86, 85, 85, 85, 85, 85, 85, 85, 85, 85, 85, 85, 84, 84, 84, 84, 84, 84, 84, 84, 84, 84, 84, 84, 84, 84, 84, 84, 84, 84, 84, 84, 83, 83, 83, 83, 83, 83, 83, 83, 82, 82, 82, 82, 82, 82, 82, 82, 82, 82, 82, 82, 82, 82, 82, 82, 81, 81, 81, 81, 81, 81, 81, 81, 81, 81, 80, 80, 80, 80, 80, 80, 80, 80, 80, 80, 80, 80, 80, 80, 80, 80, 80, 80, 79, 78, 78, 78, 78, 78, 78, 77, 77, 77, 77, 77, 77, 77, 77, 77, 77, 77, 77, 77, 77, 77, 77, 77, 77, 77, 76, 76, 76, 76, 76, 76, 76, 76, 76, 76, 76, 76, 76, 76, 75, 75, 75, 75, 75, 75, 75, 75, 75, 75, 75, 75, 75, 75, 75, 75, 75, 75, 75, 75, 75, 74, 74, 74, 74, 74, 74, 74, 74, 74, 74, 74, 74, 74, 74, 74, 74, 74, 74, 74, 73, 73, 73, 73, 73, 73, 73, 73, 73, 73, 72, 71, 71, 71, 71, 71, 71, 71, 71, 71, 71, 71, 71, 71, 71, 71, 71, 71, 71, 71, 71, 71, 71, 71, 71, 71, 71, 71, 71, 71, 71, 70, 70, 70, 70, 70, 70, 70, 70, 70, 70, 70, 70, 70, 70, 70, 70, 70, 70, 70, 70, 70, 70, 70, 70, 70, 70, 70, 70, 70, 70, 70, 70, 70, 70, 70, 70, 70, 69, 69, 69, 69, 69, 69, 69, 69, 69, 69, 69, 69, 69, 69, 69, 69, 69, 69, 68, 68, 68, 68, 68, 68, 68, 68, 68, 68, 68, 68, 68, 68, 67, 67, 67, 67, 67, 67, 67, 67, 67, 67, 67, 67, 67, 67, 67, 67, 67, 67, 67, 67, 67, 67, 67, 67, 67, 67, 67, 66, 66, 65, 65, 65, 65, 65, 65, 65, 65, 65, 65, 65, 65, 65, 65, 65, 65, 65, 65, 65, 65, 65, 65, 65, 65, 65, 65, 65, 65, 65, 65, 65, 65, 65, 65, 65, 65, 65, 65, 65, 65, 65, 65, 65, 65, 65, 65, 65, 65, 65, 65, 65, 65, 65, 65, 65, 65, 65, 65, 65, 65, 65, 65, 65, 65, 65, 65, 65, 65, 65, 65, 65, 65, 65, 65, 65, 65, 65, 65, 65, 65, 65, 65, 65, 65, 65, 65, 65, 65, 65, 65, 65, 65, 65, 65, 65, 65, 65, 65, 65, 65, 65, 65, 65, 65, 65, 65, 65, 65, 65, 65, 65, 65, 65, 65, 65, 65, 65, 65, 65, 65, 65, 65, 65, 65, 64, 64, 64, 64, 64, 64, 64, 64, 64, 64, 64, 64, 64, 64, 64, 64, 64, 64, 64, 64, 64, 64, 64, 64, 64, 64, 64, 64, 64, 64, 64, 64, 64, 64, 64, 64, 64, 64, 64, 64, 64, 64, 64, 64, 64, 64, 64, 64, 64, 64, 64, 64, 64, 64, 64, 64, 64, 64, 64, 64, 63, 63, 63, 63, 63, 63, 63, 63, 63, 63, 63, 62, 62, 62, 62, 62, 62, 62, 62, 62, 62, 62, 62, 62, 62, 62, 62, 62, 62, 62, 62, 62, 62, 62, 62, 62, 62, 62, 62, 61, 61, 61, 61, 61, 61, 61, 61, 61, 61, 61, 61, 61, 61, 61, 61, 61, 61, 61, 61, 61, 60, 60, 60, 60, 60, 60, 60, 60, 60, 60, 60, 60, 60, 60, 60, 60, 60, 60, 60, 60, 60, 60, 60, 60, 60, 60, 60, 60, 60, 60, 60, 60, 60, 60, 60, 60, 60, 60, 60, 60, 60, 60, 60, 60, 60, 60, 60, 60, 60, 60, 59, 59, 59, 59, 59, 59, 59, 59, 59, 59, 58, 58, 58, 58, 58, 58, 58, 58, 58, 58, 58, 58, 58, 58, 58, 58, 58, 58, 58, 58, 58, 58, 58, 58, 58, 58, 58, 58, 58, 58, 58, 58, 58, 58, 57, 57, 57, 57, 57, 57, 57, 57, 57, 57, 57, 57, 56, 56, 56, 56, 56, 56, 56, 56, 56, 56, 56, 56, 56, 56, 56, 56, 56, 56, 56, 56, 55, 55, 55, 55, 55, 55, 54, 54, 53, 53, 53, 53, 53, 53, 53, 53, 53, 53, 53, 53, 53, 53, 53, 53, 53, 53, 53, 53, 53, 53, 53, 53, 53, 53, 53, 53, 53, 53, 53, 53, 53, 53, 53, 53, 53, 53, 53, 53, 53, 53, 53, 53, 53, 52, 52, 52, 52, 52, 52, 52, 52, 52, 52, 52, 52, 52, 52, 51, 51, 51, 51, 51, 51, 51, 51, 51, 51, 50, 50, 50, 50, 50, 50, 50, 50, 50, 50, 50, 50, 49, 49, 49, 49, 49, 49, 49, 49, 49, 49, 49, 49, 49, 49, 49, 49, 49, 49, 49, 49, 49, 49, 49, 49, 49, 49, 49, 49, 49, 49, 48, 48, 48, 48, 48, 48, 48, 48, 48, 48, 48, 48, 48, 48, 47, 47, 47, 47, 47, 47, 47, 47, 47, 46, 46, 46, 46, 46, 46, 46, 46, 46, 45, 45, 45, 45, 45, 44, 44, 44, 44, 44, 44, 44, 44, 44, 44, 44, 44, 44, 44, 43, 43, 43, 43, 43, 43, 43, 43, 43, 42, 42, 42, 42, 42, 42, 42, 42, 42, 42, 42, 42, 42, 42, 42, 42, 42, 42, 42, 42, 42, 42, 42, 42, 42, 42, 42, 42, 42, 42, 42, 42, 42, 41, 40, 40, 40, 40, 40, 40, 40, 40, 38, 38, 37, 37, 37, 37, 37, 37, 37, 37, 34, 34, 33, 33, 33, 33, 33, 32, 32, 32, 32, 32, 32, 32, 32, 30, 30, 30, 30, 30, 30, 30, 30, 28, 28, 27, 27, 24, 22, 22, 20], \"xaxis\": \"x\", \"yaxis\": \"y\"}],                        {\"barmode\": \"relative\", \"legend\": {\"title\": {\"text\": \"variable\"}, \"tracegroupgap\": 0}, \"template\": {\"data\": {\"bar\": [{\"error_x\": {\"color\": \"#2a3f5f\"}, \"error_y\": {\"color\": \"#2a3f5f\"}, \"marker\": {\"line\": {\"color\": \"#E5ECF6\", \"width\": 0.5}}, \"type\": \"bar\"}], \"barpolar\": [{\"marker\": {\"line\": {\"color\": \"#E5ECF6\", \"width\": 0.5}}, \"type\": \"barpolar\"}], \"carpet\": [{\"aaxis\": {\"endlinecolor\": \"#2a3f5f\", \"gridcolor\": \"white\", \"linecolor\": \"white\", \"minorgridcolor\": \"white\", \"startlinecolor\": \"#2a3f5f\"}, \"baxis\": {\"endlinecolor\": \"#2a3f5f\", \"gridcolor\": \"white\", \"linecolor\": \"white\", \"minorgridcolor\": \"white\", \"startlinecolor\": \"#2a3f5f\"}, \"type\": \"carpet\"}], \"choropleth\": [{\"colorbar\": {\"outlinewidth\": 0, \"ticks\": \"\"}, \"type\": \"choropleth\"}], \"contour\": [{\"colorbar\": {\"outlinewidth\": 0, \"ticks\": \"\"}, \"colorscale\": [[0.0, \"#0d0887\"], [0.1111111111111111, \"#46039f\"], [0.2222222222222222, \"#7201a8\"], [0.3333333333333333, \"#9c179e\"], [0.4444444444444444, \"#bd3786\"], [0.5555555555555556, \"#d8576b\"], [0.6666666666666666, \"#ed7953\"], [0.7777777777777778, \"#fb9f3a\"], [0.8888888888888888, \"#fdca26\"], [1.0, \"#f0f921\"]], \"type\": \"contour\"}], \"contourcarpet\": [{\"colorbar\": {\"outlinewidth\": 0, \"ticks\": \"\"}, \"type\": \"contourcarpet\"}], \"heatmap\": [{\"colorbar\": {\"outlinewidth\": 0, \"ticks\": \"\"}, \"colorscale\": [[0.0, \"#0d0887\"], [0.1111111111111111, \"#46039f\"], [0.2222222222222222, \"#7201a8\"], [0.3333333333333333, \"#9c179e\"], [0.4444444444444444, \"#bd3786\"], [0.5555555555555556, \"#d8576b\"], [0.6666666666666666, \"#ed7953\"], [0.7777777777777778, \"#fb9f3a\"], [0.8888888888888888, \"#fdca26\"], [1.0, \"#f0f921\"]], \"type\": \"heatmap\"}], \"heatmapgl\": [{\"colorbar\": {\"outlinewidth\": 0, \"ticks\": \"\"}, \"colorscale\": [[0.0, \"#0d0887\"], [0.1111111111111111, \"#46039f\"], [0.2222222222222222, \"#7201a8\"], [0.3333333333333333, \"#9c179e\"], [0.4444444444444444, \"#bd3786\"], [0.5555555555555556, \"#d8576b\"], [0.6666666666666666, \"#ed7953\"], [0.7777777777777778, \"#fb9f3a\"], [0.8888888888888888, \"#fdca26\"], [1.0, \"#f0f921\"]], \"type\": \"heatmapgl\"}], \"histogram\": [{\"marker\": {\"colorbar\": {\"outlinewidth\": 0, \"ticks\": \"\"}}, \"type\": \"histogram\"}], \"histogram2d\": [{\"colorbar\": {\"outlinewidth\": 0, \"ticks\": \"\"}, \"colorscale\": [[0.0, \"#0d0887\"], [0.1111111111111111, \"#46039f\"], [0.2222222222222222, \"#7201a8\"], [0.3333333333333333, \"#9c179e\"], [0.4444444444444444, \"#bd3786\"], [0.5555555555555556, \"#d8576b\"], [0.6666666666666666, \"#ed7953\"], [0.7777777777777778, \"#fb9f3a\"], [0.8888888888888888, \"#fdca26\"], [1.0, \"#f0f921\"]], \"type\": \"histogram2d\"}], \"histogram2dcontour\": [{\"colorbar\": {\"outlinewidth\": 0, \"ticks\": \"\"}, \"colorscale\": [[0.0, \"#0d0887\"], [0.1111111111111111, \"#46039f\"], [0.2222222222222222, \"#7201a8\"], [0.3333333333333333, \"#9c179e\"], [0.4444444444444444, \"#bd3786\"], [0.5555555555555556, \"#d8576b\"], [0.6666666666666666, \"#ed7953\"], [0.7777777777777778, \"#fb9f3a\"], [0.8888888888888888, \"#fdca26\"], [1.0, \"#f0f921\"]], \"type\": \"histogram2dcontour\"}], \"mesh3d\": [{\"colorbar\": {\"outlinewidth\": 0, \"ticks\": \"\"}, \"type\": \"mesh3d\"}], \"parcoords\": [{\"line\": {\"colorbar\": {\"outlinewidth\": 0, \"ticks\": \"\"}}, \"type\": \"parcoords\"}], \"pie\": [{\"automargin\": true, \"type\": \"pie\"}], \"scatter\": [{\"marker\": {\"colorbar\": {\"outlinewidth\": 0, \"ticks\": \"\"}}, \"type\": \"scatter\"}], \"scatter3d\": [{\"line\": {\"colorbar\": {\"outlinewidth\": 0, \"ticks\": \"\"}}, \"marker\": {\"colorbar\": {\"outlinewidth\": 0, \"ticks\": \"\"}}, \"type\": \"scatter3d\"}], \"scattercarpet\": [{\"marker\": {\"colorbar\": {\"outlinewidth\": 0, \"ticks\": \"\"}}, \"type\": \"scattercarpet\"}], \"scattergeo\": [{\"marker\": {\"colorbar\": {\"outlinewidth\": 0, \"ticks\": \"\"}}, \"type\": \"scattergeo\"}], \"scattergl\": [{\"marker\": {\"colorbar\": {\"outlinewidth\": 0, \"ticks\": \"\"}}, \"type\": \"scattergl\"}], \"scattermapbox\": [{\"marker\": {\"colorbar\": {\"outlinewidth\": 0, \"ticks\": \"\"}}, \"type\": \"scattermapbox\"}], \"scatterpolar\": [{\"marker\": {\"colorbar\": {\"outlinewidth\": 0, \"ticks\": \"\"}}, \"type\": \"scatterpolar\"}], \"scatterpolargl\": [{\"marker\": {\"colorbar\": {\"outlinewidth\": 0, \"ticks\": \"\"}}, \"type\": \"scatterpolargl\"}], \"scatterternary\": [{\"marker\": {\"colorbar\": {\"outlinewidth\": 0, \"ticks\": \"\"}}, \"type\": \"scatterternary\"}], \"surface\": [{\"colorbar\": {\"outlinewidth\": 0, \"ticks\": \"\"}, \"colorscale\": [[0.0, \"#0d0887\"], [0.1111111111111111, \"#46039f\"], [0.2222222222222222, \"#7201a8\"], [0.3333333333333333, \"#9c179e\"], [0.4444444444444444, \"#bd3786\"], [0.5555555555555556, \"#d8576b\"], [0.6666666666666666, \"#ed7953\"], [0.7777777777777778, \"#fb9f3a\"], [0.8888888888888888, \"#fdca26\"], [1.0, \"#f0f921\"]], \"type\": \"surface\"}], \"table\": [{\"cells\": {\"fill\": {\"color\": \"#EBF0F8\"}, \"line\": {\"color\": \"white\"}}, \"header\": {\"fill\": {\"color\": \"#C8D4E3\"}, \"line\": {\"color\": \"white\"}}, \"type\": \"table\"}]}, \"layout\": {\"annotationdefaults\": {\"arrowcolor\": \"#2a3f5f\", \"arrowhead\": 0, \"arrowwidth\": 1}, \"autotypenumbers\": \"strict\", \"coloraxis\": {\"colorbar\": {\"outlinewidth\": 0, \"ticks\": \"\"}}, \"colorscale\": {\"diverging\": [[0, \"#8e0152\"], [0.1, \"#c51b7d\"], [0.2, \"#de77ae\"], [0.3, \"#f1b6da\"], [0.4, \"#fde0ef\"], [0.5, \"#f7f7f7\"], [0.6, \"#e6f5d0\"], [0.7, \"#b8e186\"], [0.8, \"#7fbc41\"], [0.9, \"#4d9221\"], [1, \"#276419\"]], \"sequential\": [[0.0, \"#0d0887\"], [0.1111111111111111, \"#46039f\"], [0.2222222222222222, \"#7201a8\"], [0.3333333333333333, \"#9c179e\"], [0.4444444444444444, \"#bd3786\"], [0.5555555555555556, \"#d8576b\"], [0.6666666666666666, \"#ed7953\"], [0.7777777777777778, \"#fb9f3a\"], [0.8888888888888888, \"#fdca26\"], [1.0, \"#f0f921\"]], \"sequentialminus\": [[0.0, \"#0d0887\"], [0.1111111111111111, \"#46039f\"], [0.2222222222222222, \"#7201a8\"], [0.3333333333333333, \"#9c179e\"], [0.4444444444444444, \"#bd3786\"], [0.5555555555555556, \"#d8576b\"], [0.6666666666666666, \"#ed7953\"], [0.7777777777777778, \"#fb9f3a\"], [0.8888888888888888, \"#fdca26\"], [1.0, \"#f0f921\"]]}, \"colorway\": [\"#636efa\", \"#EF553B\", \"#00cc96\", \"#ab63fa\", \"#FFA15A\", \"#19d3f3\", \"#FF6692\", \"#B6E880\", \"#FF97FF\", \"#FECB52\"], \"font\": {\"color\": \"#2a3f5f\"}, \"geo\": {\"bgcolor\": \"white\", \"lakecolor\": \"white\", \"landcolor\": \"#E5ECF6\", \"showlakes\": true, \"showland\": true, \"subunitcolor\": \"white\"}, \"hoverlabel\": {\"align\": \"left\"}, \"hovermode\": \"closest\", \"mapbox\": {\"style\": \"light\"}, \"paper_bgcolor\": \"white\", \"plot_bgcolor\": \"#E5ECF6\", \"polar\": {\"angularaxis\": {\"gridcolor\": \"white\", \"linecolor\": \"white\", \"ticks\": \"\"}, \"bgcolor\": \"#E5ECF6\", \"radialaxis\": {\"gridcolor\": \"white\", \"linecolor\": \"white\", \"ticks\": \"\"}}, \"scene\": {\"xaxis\": {\"backgroundcolor\": \"#E5ECF6\", \"gridcolor\": \"white\", \"gridwidth\": 2, \"linecolor\": \"white\", \"showbackground\": true, \"ticks\": \"\", \"zerolinecolor\": \"white\"}, \"yaxis\": {\"backgroundcolor\": \"#E5ECF6\", \"gridcolor\": \"white\", \"gridwidth\": 2, \"linecolor\": \"white\", \"showbackground\": true, \"ticks\": \"\", \"zerolinecolor\": \"white\"}, \"zaxis\": {\"backgroundcolor\": \"#E5ECF6\", \"gridcolor\": \"white\", \"gridwidth\": 2, \"linecolor\": \"white\", \"showbackground\": true, \"ticks\": \"\", \"zerolinecolor\": \"white\"}}, \"shapedefaults\": {\"line\": {\"color\": \"#2a3f5f\"}}, \"ternary\": {\"aaxis\": {\"gridcolor\": \"white\", \"linecolor\": \"white\", \"ticks\": \"\"}, \"baxis\": {\"gridcolor\": \"white\", \"linecolor\": \"white\", \"ticks\": \"\"}, \"bgcolor\": \"#E5ECF6\", \"caxis\": {\"gridcolor\": \"white\", \"linecolor\": \"white\", \"ticks\": \"\"}}, \"title\": {\"x\": 0.05}, \"xaxis\": {\"automargin\": true, \"gridcolor\": \"white\", \"linecolor\": \"white\", \"ticks\": \"\", \"title\": {\"standoff\": 15}, \"zerolinecolor\": \"white\", \"zerolinewidth\": 2}, \"yaxis\": {\"automargin\": true, \"gridcolor\": \"white\", \"linecolor\": \"white\", \"ticks\": \"\", \"title\": {\"standoff\": 15}, \"zerolinecolor\": \"white\", \"zerolinewidth\": 2}}}, \"title\": {\"text\": \"Distribution of Age\"}, \"xaxis\": {\"anchor\": \"y\", \"domain\": [0.0, 1.0], \"title\": {\"text\": \"value\"}}, \"yaxis\": {\"anchor\": \"x\", \"domain\": [0.0, 1.0], \"title\": {\"text\": \"count\"}}},                        {\"responsive\": true}                    ).then(function(){\n",
       "                            \n",
       "var gd = document.getElementById('a05e5342-d3ab-4b27-86bf-639a68393972');\n",
       "var x = new MutationObserver(function (mutations, observer) {{\n",
       "        var display = window.getComputedStyle(gd).display;\n",
       "        if (!display || display === 'none') {{\n",
       "            console.log([gd, 'removed!']);\n",
       "            Plotly.purge(gd);\n",
       "            observer.disconnect();\n",
       "        }}\n",
       "}});\n",
       "\n",
       "// Listen for the removal of the full notebook cells\n",
       "var notebookContainer = gd.closest('#notebook-container');\n",
       "if (notebookContainer) {{\n",
       "    x.observe(notebookContainer, {childList: true});\n",
       "}}\n",
       "\n",
       "// Listen for the clearing of the current output cell\n",
       "var outputEl = gd.closest('.output');\n",
       "if (outputEl) {{\n",
       "    x.observe(outputEl, {childList: true});\n",
       "}}\n",
       "\n",
       "                        })                };                });            </script>        </div>"
      ]
     },
     "metadata": {},
     "output_type": "display_data"
    }
   ],
   "source": [
    "px.histogram(Customer_Table['Age'],nbins=10, title='Distribution of Age')"
   ]
  },
  {
   "cell_type": "code",
   "execution_count": 200,
   "metadata": {
    "scrolled": false
   },
   "outputs": [
    {
     "data": {
      "application/vnd.plotly.v1+json": {
       "config": {
        "plotlyServerURL": "https://plot.ly"
       },
       "data": [
        {
         "alignmentgroup": "True",
         "bingroup": "x",
         "hovertemplate": "color=RETIREMENT<br>value=%{x}<br>count=%{y}<extra></extra>",
         "legendgroup": "RETIREMENT",
         "marker": {
          "color": "#636efa"
         },
         "name": "RETIREMENT",
         "offsetgroup": "RETIREMENT",
         "orientation": "v",
         "showlegend": true,
         "type": "histogram",
         "x": [
          "RETIREMENT",
          "RETIREMENT",
          "RETIREMENT",
          "RETIREMENT",
          "RETIREMENT",
          "RETIREMENT",
          "RETIREMENT",
          "RETIREMENT",
          "RETIREMENT",
          "RETIREMENT",
          "RETIREMENT",
          "RETIREMENT",
          "RETIREMENT",
          "RETIREMENT",
          "RETIREMENT",
          "RETIREMENT",
          "RETIREMENT",
          "RETIREMENT",
          "RETIREMENT",
          "RETIREMENT",
          "RETIREMENT",
          "RETIREMENT",
          "RETIREMENT",
          "RETIREMENT",
          "RETIREMENT",
          "RETIREMENT",
          "RETIREMENT",
          "RETIREMENT",
          "RETIREMENT",
          "RETIREMENT",
          "RETIREMENT",
          "RETIREMENT",
          "RETIREMENT",
          "RETIREMENT",
          "RETIREMENT",
          "RETIREMENT",
          "RETIREMENT",
          "RETIREMENT",
          "RETIREMENT",
          "RETIREMENT",
          "RETIREMENT",
          "RETIREMENT",
          "RETIREMENT",
          "RETIREMENT",
          "RETIREMENT",
          "RETIREMENT",
          "RETIREMENT",
          "RETIREMENT",
          "RETIREMENT",
          "RETIREMENT",
          "RETIREMENT",
          "RETIREMENT",
          "RETIREMENT",
          "RETIREMENT",
          "RETIREMENT",
          "RETIREMENT",
          "RETIREMENT",
          "RETIREMENT",
          "RETIREMENT",
          "RETIREMENT",
          "RETIREMENT",
          "RETIREMENT",
          "RETIREMENT",
          "RETIREMENT",
          "RETIREMENT",
          "RETIREMENT",
          "RETIREMENT",
          "RETIREMENT",
          "RETIREMENT",
          "RETIREMENT",
          "RETIREMENT",
          "RETIREMENT",
          "RETIREMENT",
          "RETIREMENT",
          "RETIREMENT",
          "RETIREMENT",
          "RETIREMENT",
          "RETIREMENT",
          "RETIREMENT",
          "RETIREMENT",
          "RETIREMENT",
          "RETIREMENT",
          "RETIREMENT",
          "RETIREMENT",
          "RETIREMENT",
          "RETIREMENT",
          "RETIREMENT",
          "RETIREMENT",
          "RETIREMENT",
          "RETIREMENT",
          "RETIREMENT",
          "RETIREMENT",
          "RETIREMENT",
          "RETIREMENT",
          "RETIREMENT",
          "RETIREMENT",
          "RETIREMENT",
          "RETIREMENT",
          "RETIREMENT",
          "RETIREMENT",
          "RETIREMENT",
          "RETIREMENT",
          "RETIREMENT",
          "RETIREMENT",
          "RETIREMENT",
          "RETIREMENT",
          "RETIREMENT",
          "RETIREMENT",
          "RETIREMENT",
          "RETIREMENT",
          "RETIREMENT",
          "RETIREMENT",
          "RETIREMENT",
          "RETIREMENT",
          "RETIREMENT",
          "RETIREMENT",
          "RETIREMENT",
          "RETIREMENT",
          "RETIREMENT",
          "RETIREMENT",
          "RETIREMENT",
          "RETIREMENT",
          "RETIREMENT",
          "RETIREMENT",
          "RETIREMENT",
          "RETIREMENT",
          "RETIREMENT",
          "RETIREMENT",
          "RETIREMENT",
          "RETIREMENT",
          "RETIREMENT",
          "RETIREMENT",
          "RETIREMENT",
          "RETIREMENT",
          "RETIREMENT",
          "RETIREMENT",
          "RETIREMENT",
          "RETIREMENT",
          "RETIREMENT",
          "RETIREMENT",
          "RETIREMENT",
          "RETIREMENT",
          "RETIREMENT",
          "RETIREMENT",
          "RETIREMENT",
          "RETIREMENT",
          "RETIREMENT",
          "RETIREMENT",
          "RETIREMENT",
          "RETIREMENT",
          "RETIREMENT",
          "RETIREMENT",
          "RETIREMENT",
          "RETIREMENT",
          "RETIREMENT",
          "RETIREMENT",
          "RETIREMENT",
          "RETIREMENT",
          "RETIREMENT",
          "RETIREMENT",
          "RETIREMENT",
          "RETIREMENT",
          "RETIREMENT",
          "RETIREMENT",
          "RETIREMENT",
          "RETIREMENT",
          "RETIREMENT",
          "RETIREMENT",
          "RETIREMENT",
          "RETIREMENT",
          "RETIREMENT",
          "RETIREMENT",
          "RETIREMENT",
          "RETIREMENT",
          "RETIREMENT",
          "RETIREMENT",
          "RETIREMENT",
          "RETIREMENT",
          "RETIREMENT",
          "RETIREMENT",
          "RETIREMENT",
          "RETIREMENT",
          "RETIREMENT",
          "RETIREMENT",
          "RETIREMENT",
          "RETIREMENT",
          "RETIREMENT",
          "RETIREMENT",
          "RETIREMENT",
          "RETIREMENT",
          "RETIREMENT",
          "RETIREMENT",
          "RETIREMENT",
          "RETIREMENT",
          "RETIREMENT",
          "RETIREMENT",
          "RETIREMENT",
          "RETIREMENT",
          "RETIREMENT",
          "RETIREMENT",
          "RETIREMENT",
          "RETIREMENT",
          "RETIREMENT",
          "RETIREMENT",
          "RETIREMENT",
          "RETIREMENT",
          "RETIREMENT",
          "RETIREMENT",
          "RETIREMENT",
          "RETIREMENT",
          "RETIREMENT",
          "RETIREMENT",
          "RETIREMENT",
          "RETIREMENT",
          "RETIREMENT",
          "RETIREMENT",
          "RETIREMENT",
          "RETIREMENT",
          "RETIREMENT",
          "RETIREMENT",
          "RETIREMENT",
          "RETIREMENT",
          "RETIREMENT",
          "RETIREMENT",
          "RETIREMENT",
          "RETIREMENT",
          "RETIREMENT",
          "RETIREMENT",
          "RETIREMENT",
          "RETIREMENT",
          "RETIREMENT",
          "RETIREMENT",
          "RETIREMENT",
          "RETIREMENT",
          "RETIREMENT",
          "RETIREMENT",
          "RETIREMENT",
          "RETIREMENT",
          "RETIREMENT",
          "RETIREMENT",
          "RETIREMENT",
          "RETIREMENT",
          "RETIREMENT",
          "RETIREMENT",
          "RETIREMENT",
          "RETIREMENT",
          "RETIREMENT",
          "RETIREMENT",
          "RETIREMENT",
          "RETIREMENT",
          "RETIREMENT",
          "RETIREMENT",
          "RETIREMENT",
          "RETIREMENT",
          "RETIREMENT",
          "RETIREMENT",
          "RETIREMENT",
          "RETIREMENT",
          "RETIREMENT",
          "RETIREMENT",
          "RETIREMENT",
          "RETIREMENT",
          "RETIREMENT",
          "RETIREMENT",
          "RETIREMENT",
          "RETIREMENT",
          "RETIREMENT",
          "RETIREMENT",
          "RETIREMENT",
          "RETIREMENT",
          "RETIREMENT",
          "RETIREMENT",
          "RETIREMENT",
          "RETIREMENT",
          "RETIREMENT",
          "RETIREMENT",
          "RETIREMENT",
          "RETIREMENT",
          "RETIREMENT",
          "RETIREMENT",
          "RETIREMENT",
          "RETIREMENT",
          "RETIREMENT",
          "RETIREMENT",
          "RETIREMENT",
          "RETIREMENT",
          "RETIREMENT",
          "RETIREMENT",
          "RETIREMENT",
          "RETIREMENT",
          "RETIREMENT",
          "RETIREMENT",
          "RETIREMENT",
          "RETIREMENT",
          "RETIREMENT",
          "RETIREMENT",
          "RETIREMENT",
          "RETIREMENT",
          "RETIREMENT",
          "RETIREMENT",
          "RETIREMENT",
          "RETIREMENT",
          "RETIREMENT",
          "RETIREMENT",
          "RETIREMENT",
          "RETIREMENT",
          "RETIREMENT",
          "RETIREMENT",
          "RETIREMENT",
          "RETIREMENT",
          "RETIREMENT",
          "RETIREMENT",
          "RETIREMENT",
          "RETIREMENT",
          "RETIREMENT",
          "RETIREMENT",
          "RETIREMENT",
          "RETIREMENT",
          "RETIREMENT",
          "RETIREMENT",
          "RETIREMENT",
          "RETIREMENT",
          "RETIREMENT",
          "RETIREMENT",
          "RETIREMENT",
          "RETIREMENT",
          "RETIREMENT",
          "RETIREMENT",
          "RETIREMENT",
          "RETIREMENT",
          "RETIREMENT",
          "RETIREMENT",
          "RETIREMENT",
          "RETIREMENT",
          "RETIREMENT",
          "RETIREMENT",
          "RETIREMENT",
          "RETIREMENT",
          "RETIREMENT",
          "RETIREMENT",
          "RETIREMENT",
          "RETIREMENT",
          "RETIREMENT",
          "RETIREMENT",
          "RETIREMENT",
          "RETIREMENT",
          "RETIREMENT",
          "RETIREMENT",
          "RETIREMENT",
          "RETIREMENT",
          "RETIREMENT",
          "RETIREMENT",
          "RETIREMENT",
          "RETIREMENT",
          "RETIREMENT",
          "RETIREMENT",
          "RETIREMENT",
          "RETIREMENT",
          "RETIREMENT",
          "RETIREMENT",
          "RETIREMENT",
          "RETIREMENT",
          "RETIREMENT",
          "RETIREMENT",
          "RETIREMENT",
          "RETIREMENT",
          "RETIREMENT",
          "RETIREMENT",
          "RETIREMENT",
          "RETIREMENT",
          "RETIREMENT",
          "RETIREMENT",
          "RETIREMENT",
          "RETIREMENT",
          "RETIREMENT",
          "RETIREMENT",
          "RETIREMENT",
          "RETIREMENT",
          "RETIREMENT",
          "RETIREMENT",
          "RETIREMENT",
          "RETIREMENT",
          "RETIREMENT",
          "RETIREMENT",
          "RETIREMENT",
          "RETIREMENT",
          "RETIREMENT",
          "RETIREMENT",
          "RETIREMENT",
          "RETIREMENT",
          "RETIREMENT",
          "RETIREMENT",
          "RETIREMENT",
          "RETIREMENT",
          "RETIREMENT",
          "RETIREMENT",
          "RETIREMENT",
          "RETIREMENT",
          "RETIREMENT",
          "RETIREMENT",
          "RETIREMENT",
          "RETIREMENT",
          "RETIREMENT",
          "RETIREMENT",
          "RETIREMENT",
          "RETIREMENT",
          "RETIREMENT",
          "RETIREMENT",
          "RETIREMENT",
          "RETIREMENT",
          "RETIREMENT",
          "RETIREMENT",
          "RETIREMENT",
          "RETIREMENT",
          "RETIREMENT",
          "RETIREMENT",
          "RETIREMENT",
          "RETIREMENT",
          "RETIREMENT",
          "RETIREMENT",
          "RETIREMENT",
          "RETIREMENT",
          "RETIREMENT",
          "RETIREMENT",
          "RETIREMENT",
          "RETIREMENT",
          "RETIREMENT",
          "RETIREMENT",
          "RETIREMENT",
          "RETIREMENT",
          "RETIREMENT",
          "RETIREMENT",
          "RETIREMENT",
          "RETIREMENT",
          "RETIREMENT",
          "RETIREMENT",
          "RETIREMENT",
          "RETIREMENT",
          "RETIREMENT",
          "RETIREMENT",
          "RETIREMENT",
          "RETIREMENT",
          "RETIREMENT",
          "RETIREMENT",
          "RETIREMENT",
          "RETIREMENT",
          "RETIREMENT",
          "RETIREMENT",
          "RETIREMENT",
          "RETIREMENT",
          "RETIREMENT",
          "RETIREMENT",
          "RETIREMENT",
          "RETIREMENT",
          "RETIREMENT",
          "RETIREMENT",
          "RETIREMENT",
          "RETIREMENT",
          "RETIREMENT",
          "RETIREMENT",
          "RETIREMENT",
          "RETIREMENT",
          "RETIREMENT",
          "RETIREMENT",
          "RETIREMENT",
          "RETIREMENT",
          "RETIREMENT",
          "RETIREMENT",
          "RETIREMENT",
          "RETIREMENT",
          "RETIREMENT",
          "RETIREMENT",
          "RETIREMENT",
          "RETIREMENT",
          "RETIREMENT",
          "RETIREMENT",
          "RETIREMENT",
          "RETIREMENT",
          "RETIREMENT",
          "RETIREMENT",
          "RETIREMENT",
          "RETIREMENT",
          "RETIREMENT",
          "RETIREMENT",
          "RETIREMENT",
          "RETIREMENT",
          "RETIREMENT",
          "RETIREMENT",
          "RETIREMENT",
          "RETIREMENT",
          "RETIREMENT",
          "RETIREMENT",
          "RETIREMENT",
          "RETIREMENT",
          "RETIREMENT",
          "RETIREMENT",
          "RETIREMENT",
          "RETIREMENT",
          "RETIREMENT",
          "RETIREMENT",
          "RETIREMENT",
          "RETIREMENT",
          "RETIREMENT",
          "RETIREMENT",
          "RETIREMENT",
          "RETIREMENT",
          "RETIREMENT",
          "RETIREMENT",
          "RETIREMENT",
          "RETIREMENT",
          "RETIREMENT",
          "RETIREMENT",
          "RETIREMENT",
          "RETIREMENT",
          "RETIREMENT",
          "RETIREMENT",
          "RETIREMENT",
          "RETIREMENT",
          "RETIREMENT",
          "RETIREMENT",
          "RETIREMENT",
          "RETIREMENT",
          "RETIREMENT",
          "RETIREMENT",
          "RETIREMENT",
          "RETIREMENT",
          "RETIREMENT",
          "RETIREMENT",
          "RETIREMENT",
          "RETIREMENT",
          "RETIREMENT",
          "RETIREMENT",
          "RETIREMENT",
          "RETIREMENT",
          "RETIREMENT",
          "RETIREMENT",
          "RETIREMENT",
          "RETIREMENT",
          "RETIREMENT",
          "RETIREMENT",
          "RETIREMENT",
          "RETIREMENT",
          "RETIREMENT",
          "RETIREMENT",
          "RETIREMENT",
          "RETIREMENT",
          "RETIREMENT",
          "RETIREMENT",
          "RETIREMENT",
          "RETIREMENT",
          "RETIREMENT",
          "RETIREMENT",
          "RETIREMENT",
          "RETIREMENT",
          "RETIREMENT",
          "RETIREMENT",
          "RETIREMENT",
          "RETIREMENT",
          "RETIREMENT",
          "RETIREMENT",
          "RETIREMENT",
          "RETIREMENT",
          "RETIREMENT",
          "RETIREMENT",
          "RETIREMENT",
          "RETIREMENT",
          "RETIREMENT",
          "RETIREMENT",
          "RETIREMENT",
          "RETIREMENT",
          "RETIREMENT",
          "RETIREMENT",
          "RETIREMENT",
          "RETIREMENT",
          "RETIREMENT",
          "RETIREMENT",
          "RETIREMENT",
          "RETIREMENT",
          "RETIREMENT",
          "RETIREMENT",
          "RETIREMENT",
          "RETIREMENT",
          "RETIREMENT",
          "RETIREMENT",
          "RETIREMENT",
          "RETIREMENT",
          "RETIREMENT",
          "RETIREMENT",
          "RETIREMENT",
          "RETIREMENT",
          "RETIREMENT",
          "RETIREMENT",
          "RETIREMENT",
          "RETIREMENT",
          "RETIREMENT",
          "RETIREMENT",
          "RETIREMENT",
          "RETIREMENT",
          "RETIREMENT",
          "RETIREMENT",
          "RETIREMENT",
          "RETIREMENT",
          "RETIREMENT",
          "RETIREMENT",
          "RETIREMENT",
          "RETIREMENT",
          "RETIREMENT",
          "RETIREMENT",
          "RETIREMENT",
          "RETIREMENT",
          "RETIREMENT",
          "RETIREMENT",
          "RETIREMENT",
          "RETIREMENT",
          "RETIREMENT",
          "RETIREMENT",
          "RETIREMENT",
          "RETIREMENT",
          "RETIREMENT",
          "RETIREMENT",
          "RETIREMENT",
          "RETIREMENT",
          "RETIREMENT",
          "RETIREMENT",
          "RETIREMENT",
          "RETIREMENT",
          "RETIREMENT",
          "RETIREMENT",
          "RETIREMENT",
          "RETIREMENT",
          "RETIREMENT",
          "RETIREMENT",
          "RETIREMENT",
          "RETIREMENT",
          "RETIREMENT",
          "RETIREMENT",
          "RETIREMENT",
          "RETIREMENT",
          "RETIREMENT",
          "RETIREMENT",
          "RETIREMENT",
          "RETIREMENT",
          "RETIREMENT",
          "RETIREMENT",
          "RETIREMENT",
          "RETIREMENT",
          "RETIREMENT",
          "RETIREMENT",
          "RETIREMENT",
          "RETIREMENT",
          "RETIREMENT",
          "RETIREMENT",
          "RETIREMENT",
          "RETIREMENT",
          "RETIREMENT",
          "RETIREMENT",
          "RETIREMENT",
          "RETIREMENT",
          "RETIREMENT",
          "RETIREMENT",
          "RETIREMENT",
          "RETIREMENT",
          "RETIREMENT",
          "RETIREMENT",
          "RETIREMENT",
          "RETIREMENT",
          "RETIREMENT",
          "RETIREMENT",
          "RETIREMENT",
          "RETIREMENT",
          "RETIREMENT",
          "RETIREMENT",
          "RETIREMENT",
          "RETIREMENT",
          "RETIREMENT",
          "RETIREMENT",
          "RETIREMENT",
          "RETIREMENT",
          "RETIREMENT",
          "RETIREMENT",
          "RETIREMENT",
          "RETIREMENT",
          "RETIREMENT",
          "RETIREMENT",
          "RETIREMENT",
          "RETIREMENT",
          "RETIREMENT",
          "RETIREMENT",
          "RETIREMENT",
          "RETIREMENT",
          "RETIREMENT",
          "RETIREMENT",
          "RETIREMENT",
          "RETIREMENT",
          "RETIREMENT",
          "RETIREMENT",
          "RETIREMENT",
          "RETIREMENT",
          "RETIREMENT",
          "RETIREMENT",
          "RETIREMENT",
          "RETIREMENT",
          "RETIREMENT",
          "RETIREMENT",
          "RETIREMENT",
          "RETIREMENT",
          "RETIREMENT",
          "RETIREMENT",
          "RETIREMENT",
          "RETIREMENT",
          "RETIREMENT",
          "RETIREMENT",
          "RETIREMENT",
          "RETIREMENT",
          "RETIREMENT",
          "RETIREMENT",
          "RETIREMENT",
          "RETIREMENT",
          "RETIREMENT",
          "RETIREMENT",
          "RETIREMENT",
          "RETIREMENT",
          "RETIREMENT",
          "RETIREMENT",
          "RETIREMENT",
          "RETIREMENT",
          "RETIREMENT",
          "RETIREMENT",
          "RETIREMENT",
          "RETIREMENT",
          "RETIREMENT",
          "RETIREMENT",
          "RETIREMENT",
          "RETIREMENT",
          "RETIREMENT",
          "RETIREMENT",
          "RETIREMENT",
          "RETIREMENT",
          "RETIREMENT",
          "RETIREMENT",
          "RETIREMENT",
          "RETIREMENT",
          "RETIREMENT",
          "RETIREMENT",
          "RETIREMENT",
          "RETIREMENT",
          "RETIREMENT",
          "RETIREMENT",
          "RETIREMENT",
          "RETIREMENT",
          "RETIREMENT",
          "RETIREMENT",
          "RETIREMENT",
          "RETIREMENT",
          "RETIREMENT",
          "RETIREMENT",
          "RETIREMENT",
          "RETIREMENT",
          "RETIREMENT",
          "RETIREMENT",
          "RETIREMENT",
          "RETIREMENT",
          "RETIREMENT",
          "RETIREMENT",
          "RETIREMENT",
          "RETIREMENT",
          "RETIREMENT",
          "RETIREMENT",
          "RETIREMENT",
          "RETIREMENT",
          "RETIREMENT",
          "RETIREMENT",
          "RETIREMENT",
          "RETIREMENT",
          "RETIREMENT",
          "RETIREMENT",
          "RETIREMENT",
          "RETIREMENT",
          "RETIREMENT",
          "RETIREMENT",
          "RETIREMENT",
          "RETIREMENT",
          "RETIREMENT",
          "RETIREMENT",
          "RETIREMENT",
          "RETIREMENT",
          "RETIREMENT",
          "RETIREMENT",
          "RETIREMENT",
          "RETIREMENT",
          "RETIREMENT",
          "RETIREMENT",
          "RETIREMENT",
          "RETIREMENT",
          "RETIREMENT",
          "RETIREMENT",
          "RETIREMENT",
          "RETIREMENT",
          "RETIREMENT",
          "RETIREMENT",
          "RETIREMENT",
          "RETIREMENT",
          "RETIREMENT",
          "RETIREMENT",
          "RETIREMENT",
          "RETIREMENT",
          "RETIREMENT",
          "RETIREMENT",
          "RETIREMENT",
          "RETIREMENT",
          "RETIREMENT",
          "RETIREMENT",
          "RETIREMENT",
          "RETIREMENT",
          "RETIREMENT",
          "RETIREMENT",
          "RETIREMENT",
          "RETIREMENT",
          "RETIREMENT",
          "RETIREMENT",
          "RETIREMENT",
          "RETIREMENT",
          "RETIREMENT",
          "RETIREMENT",
          "RETIREMENT",
          "RETIREMENT",
          "RETIREMENT",
          "RETIREMENT",
          "RETIREMENT",
          "RETIREMENT",
          "RETIREMENT",
          "RETIREMENT",
          "RETIREMENT",
          "RETIREMENT",
          "RETIREMENT",
          "RETIREMENT",
          "RETIREMENT",
          "RETIREMENT",
          "RETIREMENT",
          "RETIREMENT",
          "RETIREMENT",
          "RETIREMENT",
          "RETIREMENT",
          "RETIREMENT",
          "RETIREMENT",
          "RETIREMENT",
          "RETIREMENT",
          "RETIREMENT",
          "RETIREMENT",
          "RETIREMENT",
          "RETIREMENT",
          "RETIREMENT",
          "RETIREMENT",
          "RETIREMENT",
          "RETIREMENT",
          "RETIREMENT",
          "RETIREMENT",
          "RETIREMENT",
          "RETIREMENT",
          "RETIREMENT",
          "RETIREMENT",
          "RETIREMENT",
          "RETIREMENT",
          "RETIREMENT",
          "RETIREMENT",
          "RETIREMENT",
          "RETIREMENT",
          "RETIREMENT",
          "RETIREMENT",
          "RETIREMENT",
          "RETIREMENT",
          "RETIREMENT",
          "RETIREMENT",
          "RETIREMENT",
          "RETIREMENT",
          "RETIREMENT",
          "RETIREMENT",
          "RETIREMENT",
          "RETIREMENT",
          "RETIREMENT",
          "RETIREMENT",
          "RETIREMENT",
          "RETIREMENT",
          "RETIREMENT",
          "RETIREMENT",
          "RETIREMENT",
          "RETIREMENT",
          "RETIREMENT",
          "RETIREMENT",
          "RETIREMENT",
          "RETIREMENT",
          "RETIREMENT",
          "RETIREMENT",
          "RETIREMENT",
          "RETIREMENT",
          "RETIREMENT",
          "RETIREMENT",
          "RETIREMENT",
          "RETIREMENT",
          "RETIREMENT",
          "RETIREMENT",
          "RETIREMENT",
          "RETIREMENT",
          "RETIREMENT",
          "RETIREMENT",
          "RETIREMENT",
          "RETIREMENT",
          "RETIREMENT",
          "RETIREMENT",
          "RETIREMENT",
          "RETIREMENT",
          "RETIREMENT",
          "RETIREMENT",
          "RETIREMENT",
          "RETIREMENT",
          "RETIREMENT",
          "RETIREMENT",
          "RETIREMENT",
          "RETIREMENT",
          "RETIREMENT",
          "RETIREMENT",
          "RETIREMENT",
          "RETIREMENT",
          "RETIREMENT",
          "RETIREMENT",
          "RETIREMENT",
          "RETIREMENT",
          "RETIREMENT",
          "RETIREMENT",
          "RETIREMENT",
          "RETIREMENT",
          "RETIREMENT",
          "RETIREMENT",
          "RETIREMENT",
          "RETIREMENT",
          "RETIREMENT",
          "RETIREMENT",
          "RETIREMENT",
          "RETIREMENT",
          "RETIREMENT",
          "RETIREMENT",
          "RETIREMENT",
          "RETIREMENT",
          "RETIREMENT",
          "RETIREMENT",
          "RETIREMENT",
          "RETIREMENT",
          "RETIREMENT",
          "RETIREMENT",
          "RETIREMENT",
          "RETIREMENT",
          "RETIREMENT",
          "RETIREMENT",
          "RETIREMENT",
          "RETIREMENT",
          "RETIREMENT",
          "RETIREMENT",
          "RETIREMENT",
          "RETIREMENT",
          "RETIREMENT",
          "RETIREMENT",
          "RETIREMENT",
          "RETIREMENT",
          "RETIREMENT",
          "RETIREMENT",
          "RETIREMENT",
          "RETIREMENT",
          "RETIREMENT",
          "RETIREMENT",
          "RETIREMENT",
          "RETIREMENT",
          "RETIREMENT",
          "RETIREMENT",
          "RETIREMENT",
          "RETIREMENT",
          "RETIREMENT",
          "RETIREMENT",
          "RETIREMENT",
          "RETIREMENT",
          "RETIREMENT",
          "RETIREMENT",
          "RETIREMENT",
          "RETIREMENT",
          "RETIREMENT",
          "RETIREMENT",
          "RETIREMENT",
          "RETIREMENT",
          "RETIREMENT",
          "RETIREMENT",
          "RETIREMENT",
          "RETIREMENT",
          "RETIREMENT",
          "RETIREMENT",
          "RETIREMENT",
          "RETIREMENT",
          "RETIREMENT",
          "RETIREMENT",
          "RETIREMENT",
          "RETIREMENT"
         ],
         "xaxis": "x",
         "yaxis": "y"
        },
        {
         "alignmentgroup": "True",
         "bingroup": "x",
         "hovertemplate": "color=ISA<br>value=%{x}<br>count=%{y}<extra></extra>",
         "legendgroup": "ISA",
         "marker": {
          "color": "#EF553B"
         },
         "name": "ISA",
         "offsetgroup": "ISA",
         "orientation": "v",
         "showlegend": true,
         "type": "histogram",
         "x": [
          "ISA",
          "ISA",
          "ISA",
          "ISA",
          "ISA",
          "ISA",
          "ISA",
          "ISA",
          "ISA",
          "ISA",
          "ISA",
          "ISA",
          "ISA",
          "ISA",
          "ISA",
          "ISA",
          "ISA",
          "ISA",
          "ISA",
          "ISA",
          "ISA",
          "ISA",
          "ISA",
          "ISA",
          "ISA",
          "ISA",
          "ISA",
          "ISA",
          "ISA",
          "ISA",
          "ISA",
          "ISA",
          "ISA",
          "ISA",
          "ISA",
          "ISA",
          "ISA",
          "ISA",
          "ISA",
          "ISA",
          "ISA",
          "ISA",
          "ISA",
          "ISA",
          "ISA",
          "ISA",
          "ISA",
          "ISA",
          "ISA",
          "ISA",
          "ISA",
          "ISA",
          "ISA",
          "ISA",
          "ISA",
          "ISA",
          "ISA",
          "ISA",
          "ISA",
          "ISA",
          "ISA",
          "ISA",
          "ISA",
          "ISA",
          "ISA",
          "ISA",
          "ISA",
          "ISA",
          "ISA",
          "ISA",
          "ISA",
          "ISA",
          "ISA",
          "ISA",
          "ISA",
          "ISA",
          "ISA",
          "ISA",
          "ISA",
          "ISA",
          "ISA",
          "ISA",
          "ISA",
          "ISA",
          "ISA",
          "ISA",
          "ISA",
          "ISA",
          "ISA",
          "ISA",
          "ISA",
          "ISA",
          "ISA",
          "ISA",
          "ISA",
          "ISA",
          "ISA",
          "ISA",
          "ISA",
          "ISA",
          "ISA",
          "ISA",
          "ISA",
          "ISA",
          "ISA",
          "ISA",
          "ISA",
          "ISA",
          "ISA",
          "ISA",
          "ISA",
          "ISA",
          "ISA",
          "ISA",
          "ISA",
          "ISA",
          "ISA",
          "ISA",
          "ISA",
          "ISA",
          "ISA",
          "ISA",
          "ISA",
          "ISA",
          "ISA",
          "ISA",
          "ISA",
          "ISA",
          "ISA",
          "ISA",
          "ISA",
          "ISA",
          "ISA",
          "ISA",
          "ISA",
          "ISA",
          "ISA",
          "ISA",
          "ISA",
          "ISA",
          "ISA",
          "ISA",
          "ISA",
          "ISA",
          "ISA",
          "ISA",
          "ISA",
          "ISA",
          "ISA",
          "ISA",
          "ISA",
          "ISA",
          "ISA",
          "ISA",
          "ISA",
          "ISA",
          "ISA",
          "ISA",
          "ISA",
          "ISA",
          "ISA",
          "ISA",
          "ISA",
          "ISA",
          "ISA",
          "ISA",
          "ISA",
          "ISA",
          "ISA",
          "ISA",
          "ISA",
          "ISA",
          "ISA",
          "ISA",
          "ISA",
          "ISA",
          "ISA",
          "ISA",
          "ISA",
          "ISA",
          "ISA",
          "ISA",
          "ISA",
          "ISA",
          "ISA"
         ],
         "xaxis": "x",
         "yaxis": "y"
        },
        {
         "alignmentgroup": "True",
         "bingroup": "x",
         "hovertemplate": "color=PENSION<br>value=%{x}<br>count=%{y}<extra></extra>",
         "legendgroup": "PENSION",
         "marker": {
          "color": "#00cc96"
         },
         "name": "PENSION",
         "offsetgroup": "PENSION",
         "orientation": "v",
         "showlegend": true,
         "type": "histogram",
         "x": [
          "PENSION",
          "PENSION",
          "PENSION",
          "PENSION",
          "PENSION",
          "PENSION",
          "PENSION",
          "PENSION",
          "PENSION",
          "PENSION",
          "PENSION",
          "PENSION",
          "PENSION",
          "PENSION",
          "PENSION",
          "PENSION",
          "PENSION",
          "PENSION",
          "PENSION",
          "PENSION",
          "PENSION",
          "PENSION",
          "PENSION",
          "PENSION",
          "PENSION",
          "PENSION",
          "PENSION",
          "PENSION",
          "PENSION",
          "PENSION",
          "PENSION",
          "PENSION",
          "PENSION",
          "PENSION",
          "PENSION",
          "PENSION",
          "PENSION",
          "PENSION",
          "PENSION",
          "PENSION",
          "PENSION",
          "PENSION",
          "PENSION",
          "PENSION",
          "PENSION",
          "PENSION",
          "PENSION",
          "PENSION",
          "PENSION",
          "PENSION",
          "PENSION",
          "PENSION",
          "PENSION",
          "PENSION",
          "PENSION",
          "PENSION",
          "PENSION",
          "PENSION",
          "PENSION",
          "PENSION",
          "PENSION",
          "PENSION",
          "PENSION",
          "PENSION",
          "PENSION",
          "PENSION",
          "PENSION",
          "PENSION",
          "PENSION",
          "PENSION",
          "PENSION",
          "PENSION",
          "PENSION",
          "PENSION",
          "PENSION",
          "PENSION",
          "PENSION",
          "PENSION",
          "PENSION",
          "PENSION",
          "PENSION",
          "PENSION",
          "PENSION",
          "PENSION",
          "PENSION",
          "PENSION",
          "PENSION",
          "PENSION",
          "PENSION",
          "PENSION",
          "PENSION",
          "PENSION",
          "PENSION",
          "PENSION",
          "PENSION",
          "PENSION",
          "PENSION",
          "PENSION",
          "PENSION",
          "PENSION",
          "PENSION",
          "PENSION",
          "PENSION",
          "PENSION",
          "PENSION",
          "PENSION",
          "PENSION",
          "PENSION",
          "PENSION",
          "PENSION",
          "PENSION",
          "PENSION",
          "PENSION",
          "PENSION",
          "PENSION",
          "PENSION",
          "PENSION",
          "PENSION",
          "PENSION",
          "PENSION",
          "PENSION",
          "PENSION",
          "PENSION",
          "PENSION",
          "PENSION",
          "PENSION",
          "PENSION",
          "PENSION",
          "PENSION",
          "PENSION",
          "PENSION",
          "PENSION",
          "PENSION",
          "PENSION",
          "PENSION",
          "PENSION",
          "PENSION",
          "PENSION",
          "PENSION",
          "PENSION",
          "PENSION",
          "PENSION",
          "PENSION",
          "PENSION",
          "PENSION",
          "PENSION",
          "PENSION",
          "PENSION",
          "PENSION",
          "PENSION",
          "PENSION",
          "PENSION",
          "PENSION",
          "PENSION",
          "PENSION",
          "PENSION",
          "PENSION",
          "PENSION",
          "PENSION",
          "PENSION",
          "PENSION",
          "PENSION",
          "PENSION",
          "PENSION",
          "PENSION",
          "PENSION",
          "PENSION",
          "PENSION",
          "PENSION",
          "PENSION",
          "PENSION"
         ],
         "xaxis": "x",
         "yaxis": "y"
        },
        {
         "alignmentgroup": "True",
         "bingroup": "x",
         "hovertemplate": "color=BOND<br>value=%{x}<br>count=%{y}<extra></extra>",
         "legendgroup": "BOND",
         "marker": {
          "color": "#ab63fa"
         },
         "name": "BOND",
         "offsetgroup": "BOND",
         "orientation": "v",
         "showlegend": true,
         "type": "histogram",
         "x": [
          "BOND",
          "BOND",
          "BOND",
          "BOND",
          "BOND",
          "BOND",
          "BOND",
          "BOND",
          "BOND",
          "BOND",
          "BOND",
          "BOND",
          "BOND",
          "BOND",
          "BOND",
          "BOND",
          "BOND",
          "BOND",
          "BOND",
          "BOND",
          "BOND",
          "BOND",
          "BOND",
          "BOND",
          "BOND",
          "BOND",
          "BOND",
          "BOND",
          "BOND",
          "BOND",
          "BOND",
          "BOND",
          "BOND",
          "BOND",
          "BOND",
          "BOND",
          "BOND",
          "BOND",
          "BOND",
          "BOND",
          "BOND",
          "BOND",
          "BOND",
          "BOND",
          "BOND",
          "BOND",
          "BOND",
          "BOND",
          "BOND",
          "BOND",
          "BOND",
          "BOND",
          "BOND",
          "BOND",
          "BOND",
          "BOND",
          "BOND",
          "BOND",
          "BOND",
          "BOND",
          "BOND",
          "BOND",
          "BOND",
          "BOND",
          "BOND",
          "BOND",
          "BOND",
          "BOND",
          "BOND",
          "BOND",
          "BOND",
          "BOND",
          "BOND",
          "BOND",
          "BOND",
          "BOND",
          "BOND",
          "BOND",
          "BOND",
          "BOND",
          "BOND",
          "BOND",
          "BOND",
          "BOND",
          "BOND",
          "BOND",
          "BOND",
          "BOND",
          "BOND",
          "BOND",
          "BOND",
          "BOND",
          "BOND",
          "BOND",
          "BOND",
          "BOND",
          "BOND",
          "BOND",
          "BOND",
          "BOND",
          "BOND",
          "BOND",
          "BOND",
          "BOND",
          "BOND",
          "BOND",
          "BOND",
          "BOND",
          "BOND",
          "BOND",
          "BOND",
          "BOND",
          "BOND",
          "BOND",
          "BOND",
          "BOND",
          "BOND",
          "BOND",
          "BOND",
          "BOND",
          "BOND",
          "BOND",
          "BOND",
          "BOND",
          "BOND",
          "BOND",
          "BOND",
          "BOND",
          "BOND",
          "BOND",
          "BOND",
          "BOND",
          "BOND",
          "BOND",
          "BOND",
          "BOND",
          "BOND",
          "BOND",
          "BOND",
          "BOND",
          "BOND",
          "BOND",
          "BOND",
          "BOND",
          "BOND",
          "BOND",
          "BOND",
          "BOND",
          "BOND",
          "BOND",
          "BOND",
          "BOND",
          "BOND",
          "BOND",
          "BOND",
          "BOND",
          "BOND",
          "BOND"
         ],
         "xaxis": "x",
         "yaxis": "y"
        },
        {
         "alignmentgroup": "True",
         "bingroup": "x",
         "hovertemplate": "color=ANNUITY<br>value=%{x}<br>count=%{y}<extra></extra>",
         "legendgroup": "ANNUITY",
         "marker": {
          "color": "#FFA15A"
         },
         "name": "ANNUITY",
         "offsetgroup": "ANNUITY",
         "orientation": "v",
         "showlegend": true,
         "type": "histogram",
         "x": [
          "ANNUITY",
          "ANNUITY",
          "ANNUITY",
          "ANNUITY",
          "ANNUITY",
          "ANNUITY",
          "ANNUITY",
          "ANNUITY",
          "ANNUITY",
          "ANNUITY",
          "ANNUITY",
          "ANNUITY",
          "ANNUITY",
          "ANNUITY",
          "ANNUITY",
          "ANNUITY",
          "ANNUITY",
          "ANNUITY",
          "ANNUITY",
          "ANNUITY",
          "ANNUITY",
          "ANNUITY",
          "ANNUITY",
          "ANNUITY",
          "ANNUITY",
          "ANNUITY",
          "ANNUITY",
          "ANNUITY",
          "ANNUITY",
          "ANNUITY",
          "ANNUITY",
          "ANNUITY",
          "ANNUITY",
          "ANNUITY",
          "ANNUITY",
          "ANNUITY",
          "ANNUITY",
          "ANNUITY",
          "ANNUITY",
          "ANNUITY",
          "ANNUITY",
          "ANNUITY",
          "ANNUITY",
          "ANNUITY",
          "ANNUITY",
          "ANNUITY",
          "ANNUITY",
          "ANNUITY",
          "ANNUITY",
          "ANNUITY",
          "ANNUITY",
          "ANNUITY",
          "ANNUITY",
          "ANNUITY",
          "ANNUITY",
          "ANNUITY",
          "ANNUITY",
          "ANNUITY",
          "ANNUITY",
          "ANNUITY",
          "ANNUITY",
          "ANNUITY",
          "ANNUITY",
          "ANNUITY",
          "ANNUITY",
          "ANNUITY",
          "ANNUITY",
          "ANNUITY",
          "ANNUITY",
          "ANNUITY",
          "ANNUITY",
          "ANNUITY",
          "ANNUITY",
          "ANNUITY",
          "ANNUITY",
          "ANNUITY",
          "ANNUITY",
          "ANNUITY",
          "ANNUITY",
          "ANNUITY",
          "ANNUITY",
          "ANNUITY",
          "ANNUITY",
          "ANNUITY",
          "ANNUITY",
          "ANNUITY",
          "ANNUITY",
          "ANNUITY",
          "ANNUITY",
          "ANNUITY",
          "ANNUITY",
          "ANNUITY",
          "ANNUITY",
          "ANNUITY",
          "ANNUITY",
          "ANNUITY",
          "ANNUITY",
          "ANNUITY",
          "ANNUITY",
          "ANNUITY",
          "ANNUITY",
          "ANNUITY",
          "ANNUITY",
          "ANNUITY",
          "ANNUITY",
          "ANNUITY",
          "ANNUITY",
          "ANNUITY",
          "ANNUITY",
          "ANNUITY",
          "ANNUITY",
          "ANNUITY",
          "ANNUITY",
          "ANNUITY",
          "ANNUITY",
          "ANNUITY",
          "ANNUITY",
          "ANNUITY",
          "ANNUITY",
          "ANNUITY",
          "ANNUITY",
          "ANNUITY"
         ],
         "xaxis": "x",
         "yaxis": "y"
        }
       ],
       "layout": {
        "barmode": "relative",
        "legend": {
         "title": {
          "text": "color"
         },
         "tracegroupgap": 0
        },
        "template": {
         "data": {
          "bar": [
           {
            "error_x": {
             "color": "#2a3f5f"
            },
            "error_y": {
             "color": "#2a3f5f"
            },
            "marker": {
             "line": {
              "color": "#E5ECF6",
              "width": 0.5
             }
            },
            "type": "bar"
           }
          ],
          "barpolar": [
           {
            "marker": {
             "line": {
              "color": "#E5ECF6",
              "width": 0.5
             }
            },
            "type": "barpolar"
           }
          ],
          "carpet": [
           {
            "aaxis": {
             "endlinecolor": "#2a3f5f",
             "gridcolor": "white",
             "linecolor": "white",
             "minorgridcolor": "white",
             "startlinecolor": "#2a3f5f"
            },
            "baxis": {
             "endlinecolor": "#2a3f5f",
             "gridcolor": "white",
             "linecolor": "white",
             "minorgridcolor": "white",
             "startlinecolor": "#2a3f5f"
            },
            "type": "carpet"
           }
          ],
          "choropleth": [
           {
            "colorbar": {
             "outlinewidth": 0,
             "ticks": ""
            },
            "type": "choropleth"
           }
          ],
          "contour": [
           {
            "colorbar": {
             "outlinewidth": 0,
             "ticks": ""
            },
            "colorscale": [
             [
              0,
              "#0d0887"
             ],
             [
              0.1111111111111111,
              "#46039f"
             ],
             [
              0.2222222222222222,
              "#7201a8"
             ],
             [
              0.3333333333333333,
              "#9c179e"
             ],
             [
              0.4444444444444444,
              "#bd3786"
             ],
             [
              0.5555555555555556,
              "#d8576b"
             ],
             [
              0.6666666666666666,
              "#ed7953"
             ],
             [
              0.7777777777777778,
              "#fb9f3a"
             ],
             [
              0.8888888888888888,
              "#fdca26"
             ],
             [
              1,
              "#f0f921"
             ]
            ],
            "type": "contour"
           }
          ],
          "contourcarpet": [
           {
            "colorbar": {
             "outlinewidth": 0,
             "ticks": ""
            },
            "type": "contourcarpet"
           }
          ],
          "heatmap": [
           {
            "colorbar": {
             "outlinewidth": 0,
             "ticks": ""
            },
            "colorscale": [
             [
              0,
              "#0d0887"
             ],
             [
              0.1111111111111111,
              "#46039f"
             ],
             [
              0.2222222222222222,
              "#7201a8"
             ],
             [
              0.3333333333333333,
              "#9c179e"
             ],
             [
              0.4444444444444444,
              "#bd3786"
             ],
             [
              0.5555555555555556,
              "#d8576b"
             ],
             [
              0.6666666666666666,
              "#ed7953"
             ],
             [
              0.7777777777777778,
              "#fb9f3a"
             ],
             [
              0.8888888888888888,
              "#fdca26"
             ],
             [
              1,
              "#f0f921"
             ]
            ],
            "type": "heatmap"
           }
          ],
          "heatmapgl": [
           {
            "colorbar": {
             "outlinewidth": 0,
             "ticks": ""
            },
            "colorscale": [
             [
              0,
              "#0d0887"
             ],
             [
              0.1111111111111111,
              "#46039f"
             ],
             [
              0.2222222222222222,
              "#7201a8"
             ],
             [
              0.3333333333333333,
              "#9c179e"
             ],
             [
              0.4444444444444444,
              "#bd3786"
             ],
             [
              0.5555555555555556,
              "#d8576b"
             ],
             [
              0.6666666666666666,
              "#ed7953"
             ],
             [
              0.7777777777777778,
              "#fb9f3a"
             ],
             [
              0.8888888888888888,
              "#fdca26"
             ],
             [
              1,
              "#f0f921"
             ]
            ],
            "type": "heatmapgl"
           }
          ],
          "histogram": [
           {
            "marker": {
             "colorbar": {
              "outlinewidth": 0,
              "ticks": ""
             }
            },
            "type": "histogram"
           }
          ],
          "histogram2d": [
           {
            "colorbar": {
             "outlinewidth": 0,
             "ticks": ""
            },
            "colorscale": [
             [
              0,
              "#0d0887"
             ],
             [
              0.1111111111111111,
              "#46039f"
             ],
             [
              0.2222222222222222,
              "#7201a8"
             ],
             [
              0.3333333333333333,
              "#9c179e"
             ],
             [
              0.4444444444444444,
              "#bd3786"
             ],
             [
              0.5555555555555556,
              "#d8576b"
             ],
             [
              0.6666666666666666,
              "#ed7953"
             ],
             [
              0.7777777777777778,
              "#fb9f3a"
             ],
             [
              0.8888888888888888,
              "#fdca26"
             ],
             [
              1,
              "#f0f921"
             ]
            ],
            "type": "histogram2d"
           }
          ],
          "histogram2dcontour": [
           {
            "colorbar": {
             "outlinewidth": 0,
             "ticks": ""
            },
            "colorscale": [
             [
              0,
              "#0d0887"
             ],
             [
              0.1111111111111111,
              "#46039f"
             ],
             [
              0.2222222222222222,
              "#7201a8"
             ],
             [
              0.3333333333333333,
              "#9c179e"
             ],
             [
              0.4444444444444444,
              "#bd3786"
             ],
             [
              0.5555555555555556,
              "#d8576b"
             ],
             [
              0.6666666666666666,
              "#ed7953"
             ],
             [
              0.7777777777777778,
              "#fb9f3a"
             ],
             [
              0.8888888888888888,
              "#fdca26"
             ],
             [
              1,
              "#f0f921"
             ]
            ],
            "type": "histogram2dcontour"
           }
          ],
          "mesh3d": [
           {
            "colorbar": {
             "outlinewidth": 0,
             "ticks": ""
            },
            "type": "mesh3d"
           }
          ],
          "parcoords": [
           {
            "line": {
             "colorbar": {
              "outlinewidth": 0,
              "ticks": ""
             }
            },
            "type": "parcoords"
           }
          ],
          "pie": [
           {
            "automargin": true,
            "type": "pie"
           }
          ],
          "scatter": [
           {
            "marker": {
             "colorbar": {
              "outlinewidth": 0,
              "ticks": ""
             }
            },
            "type": "scatter"
           }
          ],
          "scatter3d": [
           {
            "line": {
             "colorbar": {
              "outlinewidth": 0,
              "ticks": ""
             }
            },
            "marker": {
             "colorbar": {
              "outlinewidth": 0,
              "ticks": ""
             }
            },
            "type": "scatter3d"
           }
          ],
          "scattercarpet": [
           {
            "marker": {
             "colorbar": {
              "outlinewidth": 0,
              "ticks": ""
             }
            },
            "type": "scattercarpet"
           }
          ],
          "scattergeo": [
           {
            "marker": {
             "colorbar": {
              "outlinewidth": 0,
              "ticks": ""
             }
            },
            "type": "scattergeo"
           }
          ],
          "scattergl": [
           {
            "marker": {
             "colorbar": {
              "outlinewidth": 0,
              "ticks": ""
             }
            },
            "type": "scattergl"
           }
          ],
          "scattermapbox": [
           {
            "marker": {
             "colorbar": {
              "outlinewidth": 0,
              "ticks": ""
             }
            },
            "type": "scattermapbox"
           }
          ],
          "scatterpolar": [
           {
            "marker": {
             "colorbar": {
              "outlinewidth": 0,
              "ticks": ""
             }
            },
            "type": "scatterpolar"
           }
          ],
          "scatterpolargl": [
           {
            "marker": {
             "colorbar": {
              "outlinewidth": 0,
              "ticks": ""
             }
            },
            "type": "scatterpolargl"
           }
          ],
          "scatterternary": [
           {
            "marker": {
             "colorbar": {
              "outlinewidth": 0,
              "ticks": ""
             }
            },
            "type": "scatterternary"
           }
          ],
          "surface": [
           {
            "colorbar": {
             "outlinewidth": 0,
             "ticks": ""
            },
            "colorscale": [
             [
              0,
              "#0d0887"
             ],
             [
              0.1111111111111111,
              "#46039f"
             ],
             [
              0.2222222222222222,
              "#7201a8"
             ],
             [
              0.3333333333333333,
              "#9c179e"
             ],
             [
              0.4444444444444444,
              "#bd3786"
             ],
             [
              0.5555555555555556,
              "#d8576b"
             ],
             [
              0.6666666666666666,
              "#ed7953"
             ],
             [
              0.7777777777777778,
              "#fb9f3a"
             ],
             [
              0.8888888888888888,
              "#fdca26"
             ],
             [
              1,
              "#f0f921"
             ]
            ],
            "type": "surface"
           }
          ],
          "table": [
           {
            "cells": {
             "fill": {
              "color": "#EBF0F8"
             },
             "line": {
              "color": "white"
             }
            },
            "header": {
             "fill": {
              "color": "#C8D4E3"
             },
             "line": {
              "color": "white"
             }
            },
            "type": "table"
           }
          ]
         },
         "layout": {
          "annotationdefaults": {
           "arrowcolor": "#2a3f5f",
           "arrowhead": 0,
           "arrowwidth": 1
          },
          "autotypenumbers": "strict",
          "coloraxis": {
           "colorbar": {
            "outlinewidth": 0,
            "ticks": ""
           }
          },
          "colorscale": {
           "diverging": [
            [
             0,
             "#8e0152"
            ],
            [
             0.1,
             "#c51b7d"
            ],
            [
             0.2,
             "#de77ae"
            ],
            [
             0.3,
             "#f1b6da"
            ],
            [
             0.4,
             "#fde0ef"
            ],
            [
             0.5,
             "#f7f7f7"
            ],
            [
             0.6,
             "#e6f5d0"
            ],
            [
             0.7,
             "#b8e186"
            ],
            [
             0.8,
             "#7fbc41"
            ],
            [
             0.9,
             "#4d9221"
            ],
            [
             1,
             "#276419"
            ]
           ],
           "sequential": [
            [
             0,
             "#0d0887"
            ],
            [
             0.1111111111111111,
             "#46039f"
            ],
            [
             0.2222222222222222,
             "#7201a8"
            ],
            [
             0.3333333333333333,
             "#9c179e"
            ],
            [
             0.4444444444444444,
             "#bd3786"
            ],
            [
             0.5555555555555556,
             "#d8576b"
            ],
            [
             0.6666666666666666,
             "#ed7953"
            ],
            [
             0.7777777777777778,
             "#fb9f3a"
            ],
            [
             0.8888888888888888,
             "#fdca26"
            ],
            [
             1,
             "#f0f921"
            ]
           ],
           "sequentialminus": [
            [
             0,
             "#0d0887"
            ],
            [
             0.1111111111111111,
             "#46039f"
            ],
            [
             0.2222222222222222,
             "#7201a8"
            ],
            [
             0.3333333333333333,
             "#9c179e"
            ],
            [
             0.4444444444444444,
             "#bd3786"
            ],
            [
             0.5555555555555556,
             "#d8576b"
            ],
            [
             0.6666666666666666,
             "#ed7953"
            ],
            [
             0.7777777777777778,
             "#fb9f3a"
            ],
            [
             0.8888888888888888,
             "#fdca26"
            ],
            [
             1,
             "#f0f921"
            ]
           ]
          },
          "colorway": [
           "#636efa",
           "#EF553B",
           "#00cc96",
           "#ab63fa",
           "#FFA15A",
           "#19d3f3",
           "#FF6692",
           "#B6E880",
           "#FF97FF",
           "#FECB52"
          ],
          "font": {
           "color": "#2a3f5f"
          },
          "geo": {
           "bgcolor": "white",
           "lakecolor": "white",
           "landcolor": "#E5ECF6",
           "showlakes": true,
           "showland": true,
           "subunitcolor": "white"
          },
          "hoverlabel": {
           "align": "left"
          },
          "hovermode": "closest",
          "mapbox": {
           "style": "light"
          },
          "paper_bgcolor": "white",
          "plot_bgcolor": "#E5ECF6",
          "polar": {
           "angularaxis": {
            "gridcolor": "white",
            "linecolor": "white",
            "ticks": ""
           },
           "bgcolor": "#E5ECF6",
           "radialaxis": {
            "gridcolor": "white",
            "linecolor": "white",
            "ticks": ""
           }
          },
          "scene": {
           "xaxis": {
            "backgroundcolor": "#E5ECF6",
            "gridcolor": "white",
            "gridwidth": 2,
            "linecolor": "white",
            "showbackground": true,
            "ticks": "",
            "zerolinecolor": "white"
           },
           "yaxis": {
            "backgroundcolor": "#E5ECF6",
            "gridcolor": "white",
            "gridwidth": 2,
            "linecolor": "white",
            "showbackground": true,
            "ticks": "",
            "zerolinecolor": "white"
           },
           "zaxis": {
            "backgroundcolor": "#E5ECF6",
            "gridcolor": "white",
            "gridwidth": 2,
            "linecolor": "white",
            "showbackground": true,
            "ticks": "",
            "zerolinecolor": "white"
           }
          },
          "shapedefaults": {
           "line": {
            "color": "#2a3f5f"
           }
          },
          "ternary": {
           "aaxis": {
            "gridcolor": "white",
            "linecolor": "white",
            "ticks": ""
           },
           "baxis": {
            "gridcolor": "white",
            "linecolor": "white",
            "ticks": ""
           },
           "bgcolor": "#E5ECF6",
           "caxis": {
            "gridcolor": "white",
            "linecolor": "white",
            "ticks": ""
           }
          },
          "title": {
           "x": 0.05
          },
          "xaxis": {
           "automargin": true,
           "gridcolor": "white",
           "linecolor": "white",
           "ticks": "",
           "title": {
            "standoff": 15
           },
           "zerolinecolor": "white",
           "zerolinewidth": 2
          },
          "yaxis": {
           "automargin": true,
           "gridcolor": "white",
           "linecolor": "white",
           "ticks": "",
           "title": {
            "standoff": 15
           },
           "zerolinecolor": "white",
           "zerolinewidth": 2
          }
         }
        },
        "title": {
         "text": "Distribution of Product Category among Customers"
        },
        "xaxis": {
         "anchor": "y",
         "domain": [
          0,
          1
         ],
         "title": {
          "text": "value"
         }
        },
        "yaxis": {
         "anchor": "x",
         "domain": [
          0,
          1
         ],
         "title": {
          "text": "count"
         }
        }
       }
      },
      "text/html": [
       "<div>                            <div id=\"8aa2fcde-b523-43bb-8f9c-dc12f7eedd4c\" class=\"plotly-graph-div\" style=\"height:525px; width:100%;\"></div>            <script type=\"text/javascript\">                require([\"plotly\"], function(Plotly) {                    window.PLOTLYENV=window.PLOTLYENV || {};                                    if (document.getElementById(\"8aa2fcde-b523-43bb-8f9c-dc12f7eedd4c\")) {                    Plotly.newPlot(                        \"8aa2fcde-b523-43bb-8f9c-dc12f7eedd4c\",                        [{\"alignmentgroup\": \"True\", \"bingroup\": \"x\", \"hovertemplate\": \"color=RETIREMENT<br>value=%{x}<br>count=%{y}<extra></extra>\", \"legendgroup\": \"RETIREMENT\", \"marker\": {\"color\": \"#636efa\"}, \"name\": \"RETIREMENT\", \"offsetgroup\": \"RETIREMENT\", \"orientation\": \"v\", \"showlegend\": true, \"type\": \"histogram\", \"x\": [\"RETIREMENT\", \"RETIREMENT\", \"RETIREMENT\", \"RETIREMENT\", \"RETIREMENT\", \"RETIREMENT\", \"RETIREMENT\", \"RETIREMENT\", \"RETIREMENT\", \"RETIREMENT\", \"RETIREMENT\", \"RETIREMENT\", \"RETIREMENT\", \"RETIREMENT\", \"RETIREMENT\", \"RETIREMENT\", \"RETIREMENT\", \"RETIREMENT\", \"RETIREMENT\", \"RETIREMENT\", \"RETIREMENT\", \"RETIREMENT\", \"RETIREMENT\", \"RETIREMENT\", \"RETIREMENT\", \"RETIREMENT\", \"RETIREMENT\", \"RETIREMENT\", \"RETIREMENT\", \"RETIREMENT\", \"RETIREMENT\", \"RETIREMENT\", \"RETIREMENT\", \"RETIREMENT\", \"RETIREMENT\", \"RETIREMENT\", \"RETIREMENT\", \"RETIREMENT\", \"RETIREMENT\", \"RETIREMENT\", \"RETIREMENT\", \"RETIREMENT\", \"RETIREMENT\", \"RETIREMENT\", \"RETIREMENT\", \"RETIREMENT\", \"RETIREMENT\", \"RETIREMENT\", \"RETIREMENT\", \"RETIREMENT\", \"RETIREMENT\", \"RETIREMENT\", \"RETIREMENT\", \"RETIREMENT\", \"RETIREMENT\", \"RETIREMENT\", \"RETIREMENT\", \"RETIREMENT\", \"RETIREMENT\", \"RETIREMENT\", \"RETIREMENT\", \"RETIREMENT\", \"RETIREMENT\", \"RETIREMENT\", \"RETIREMENT\", \"RETIREMENT\", \"RETIREMENT\", \"RETIREMENT\", \"RETIREMENT\", \"RETIREMENT\", \"RETIREMENT\", \"RETIREMENT\", \"RETIREMENT\", \"RETIREMENT\", \"RETIREMENT\", \"RETIREMENT\", \"RETIREMENT\", \"RETIREMENT\", \"RETIREMENT\", \"RETIREMENT\", \"RETIREMENT\", \"RETIREMENT\", \"RETIREMENT\", \"RETIREMENT\", \"RETIREMENT\", \"RETIREMENT\", \"RETIREMENT\", \"RETIREMENT\", \"RETIREMENT\", \"RETIREMENT\", \"RETIREMENT\", \"RETIREMENT\", \"RETIREMENT\", \"RETIREMENT\", \"RETIREMENT\", \"RETIREMENT\", \"RETIREMENT\", \"RETIREMENT\", \"RETIREMENT\", \"RETIREMENT\", \"RETIREMENT\", \"RETIREMENT\", \"RETIREMENT\", \"RETIREMENT\", \"RETIREMENT\", \"RETIREMENT\", \"RETIREMENT\", \"RETIREMENT\", \"RETIREMENT\", \"RETIREMENT\", \"RETIREMENT\", \"RETIREMENT\", \"RETIREMENT\", \"RETIREMENT\", \"RETIREMENT\", \"RETIREMENT\", \"RETIREMENT\", \"RETIREMENT\", \"RETIREMENT\", \"RETIREMENT\", \"RETIREMENT\", \"RETIREMENT\", \"RETIREMENT\", \"RETIREMENT\", \"RETIREMENT\", \"RETIREMENT\", \"RETIREMENT\", \"RETIREMENT\", \"RETIREMENT\", \"RETIREMENT\", \"RETIREMENT\", \"RETIREMENT\", \"RETIREMENT\", \"RETIREMENT\", \"RETIREMENT\", \"RETIREMENT\", \"RETIREMENT\", \"RETIREMENT\", \"RETIREMENT\", \"RETIREMENT\", \"RETIREMENT\", \"RETIREMENT\", \"RETIREMENT\", \"RETIREMENT\", \"RETIREMENT\", \"RETIREMENT\", \"RETIREMENT\", \"RETIREMENT\", \"RETIREMENT\", \"RETIREMENT\", \"RETIREMENT\", \"RETIREMENT\", \"RETIREMENT\", \"RETIREMENT\", \"RETIREMENT\", \"RETIREMENT\", \"RETIREMENT\", \"RETIREMENT\", \"RETIREMENT\", \"RETIREMENT\", \"RETIREMENT\", \"RETIREMENT\", \"RETIREMENT\", \"RETIREMENT\", \"RETIREMENT\", \"RETIREMENT\", \"RETIREMENT\", \"RETIREMENT\", \"RETIREMENT\", \"RETIREMENT\", \"RETIREMENT\", \"RETIREMENT\", \"RETIREMENT\", \"RETIREMENT\", \"RETIREMENT\", \"RETIREMENT\", \"RETIREMENT\", \"RETIREMENT\", \"RETIREMENT\", \"RETIREMENT\", \"RETIREMENT\", \"RETIREMENT\", \"RETIREMENT\", \"RETIREMENT\", \"RETIREMENT\", \"RETIREMENT\", \"RETIREMENT\", \"RETIREMENT\", \"RETIREMENT\", \"RETIREMENT\", \"RETIREMENT\", \"RETIREMENT\", \"RETIREMENT\", \"RETIREMENT\", \"RETIREMENT\", \"RETIREMENT\", \"RETIREMENT\", \"RETIREMENT\", \"RETIREMENT\", \"RETIREMENT\", \"RETIREMENT\", \"RETIREMENT\", \"RETIREMENT\", \"RETIREMENT\", \"RETIREMENT\", \"RETIREMENT\", \"RETIREMENT\", \"RETIREMENT\", \"RETIREMENT\", \"RETIREMENT\", \"RETIREMENT\", \"RETIREMENT\", \"RETIREMENT\", \"RETIREMENT\", \"RETIREMENT\", \"RETIREMENT\", \"RETIREMENT\", \"RETIREMENT\", \"RETIREMENT\", \"RETIREMENT\", \"RETIREMENT\", \"RETIREMENT\", \"RETIREMENT\", \"RETIREMENT\", \"RETIREMENT\", \"RETIREMENT\", \"RETIREMENT\", \"RETIREMENT\", \"RETIREMENT\", \"RETIREMENT\", \"RETIREMENT\", \"RETIREMENT\", \"RETIREMENT\", \"RETIREMENT\", \"RETIREMENT\", \"RETIREMENT\", \"RETIREMENT\", \"RETIREMENT\", \"RETIREMENT\", \"RETIREMENT\", \"RETIREMENT\", \"RETIREMENT\", \"RETIREMENT\", \"RETIREMENT\", \"RETIREMENT\", \"RETIREMENT\", \"RETIREMENT\", \"RETIREMENT\", \"RETIREMENT\", \"RETIREMENT\", \"RETIREMENT\", \"RETIREMENT\", \"RETIREMENT\", \"RETIREMENT\", \"RETIREMENT\", \"RETIREMENT\", \"RETIREMENT\", \"RETIREMENT\", \"RETIREMENT\", \"RETIREMENT\", \"RETIREMENT\", \"RETIREMENT\", \"RETIREMENT\", \"RETIREMENT\", \"RETIREMENT\", \"RETIREMENT\", \"RETIREMENT\", \"RETIREMENT\", \"RETIREMENT\", \"RETIREMENT\", \"RETIREMENT\", \"RETIREMENT\", \"RETIREMENT\", \"RETIREMENT\", \"RETIREMENT\", \"RETIREMENT\", \"RETIREMENT\", \"RETIREMENT\", \"RETIREMENT\", \"RETIREMENT\", \"RETIREMENT\", \"RETIREMENT\", \"RETIREMENT\", \"RETIREMENT\", \"RETIREMENT\", \"RETIREMENT\", \"RETIREMENT\", \"RETIREMENT\", \"RETIREMENT\", \"RETIREMENT\", \"RETIREMENT\", \"RETIREMENT\", \"RETIREMENT\", \"RETIREMENT\", \"RETIREMENT\", \"RETIREMENT\", \"RETIREMENT\", \"RETIREMENT\", \"RETIREMENT\", \"RETIREMENT\", \"RETIREMENT\", \"RETIREMENT\", \"RETIREMENT\", \"RETIREMENT\", \"RETIREMENT\", \"RETIREMENT\", \"RETIREMENT\", \"RETIREMENT\", \"RETIREMENT\", \"RETIREMENT\", \"RETIREMENT\", \"RETIREMENT\", \"RETIREMENT\", \"RETIREMENT\", \"RETIREMENT\", \"RETIREMENT\", \"RETIREMENT\", \"RETIREMENT\", \"RETIREMENT\", \"RETIREMENT\", \"RETIREMENT\", \"RETIREMENT\", \"RETIREMENT\", \"RETIREMENT\", \"RETIREMENT\", \"RETIREMENT\", \"RETIREMENT\", \"RETIREMENT\", \"RETIREMENT\", \"RETIREMENT\", \"RETIREMENT\", \"RETIREMENT\", \"RETIREMENT\", \"RETIREMENT\", \"RETIREMENT\", \"RETIREMENT\", \"RETIREMENT\", \"RETIREMENT\", \"RETIREMENT\", \"RETIREMENT\", \"RETIREMENT\", \"RETIREMENT\", \"RETIREMENT\", \"RETIREMENT\", \"RETIREMENT\", \"RETIREMENT\", \"RETIREMENT\", \"RETIREMENT\", \"RETIREMENT\", \"RETIREMENT\", \"RETIREMENT\", \"RETIREMENT\", \"RETIREMENT\", \"RETIREMENT\", \"RETIREMENT\", \"RETIREMENT\", \"RETIREMENT\", \"RETIREMENT\", \"RETIREMENT\", \"RETIREMENT\", \"RETIREMENT\", \"RETIREMENT\", \"RETIREMENT\", \"RETIREMENT\", \"RETIREMENT\", \"RETIREMENT\", \"RETIREMENT\", \"RETIREMENT\", \"RETIREMENT\", \"RETIREMENT\", \"RETIREMENT\", \"RETIREMENT\", \"RETIREMENT\", \"RETIREMENT\", \"RETIREMENT\", \"RETIREMENT\", \"RETIREMENT\", \"RETIREMENT\", \"RETIREMENT\", \"RETIREMENT\", \"RETIREMENT\", \"RETIREMENT\", \"RETIREMENT\", \"RETIREMENT\", \"RETIREMENT\", \"RETIREMENT\", \"RETIREMENT\", \"RETIREMENT\", \"RETIREMENT\", \"RETIREMENT\", \"RETIREMENT\", \"RETIREMENT\", \"RETIREMENT\", \"RETIREMENT\", \"RETIREMENT\", \"RETIREMENT\", \"RETIREMENT\", \"RETIREMENT\", \"RETIREMENT\", \"RETIREMENT\", \"RETIREMENT\", \"RETIREMENT\", \"RETIREMENT\", \"RETIREMENT\", \"RETIREMENT\", \"RETIREMENT\", \"RETIREMENT\", \"RETIREMENT\", \"RETIREMENT\", \"RETIREMENT\", \"RETIREMENT\", \"RETIREMENT\", \"RETIREMENT\", \"RETIREMENT\", \"RETIREMENT\", \"RETIREMENT\", \"RETIREMENT\", \"RETIREMENT\", \"RETIREMENT\", \"RETIREMENT\", \"RETIREMENT\", \"RETIREMENT\", \"RETIREMENT\", \"RETIREMENT\", \"RETIREMENT\", \"RETIREMENT\", \"RETIREMENT\", \"RETIREMENT\", \"RETIREMENT\", \"RETIREMENT\", \"RETIREMENT\", \"RETIREMENT\", \"RETIREMENT\", \"RETIREMENT\", \"RETIREMENT\", \"RETIREMENT\", \"RETIREMENT\", \"RETIREMENT\", \"RETIREMENT\", \"RETIREMENT\", \"RETIREMENT\", \"RETIREMENT\", \"RETIREMENT\", \"RETIREMENT\", \"RETIREMENT\", \"RETIREMENT\", \"RETIREMENT\", \"RETIREMENT\", \"RETIREMENT\", \"RETIREMENT\", \"RETIREMENT\", \"RETIREMENT\", \"RETIREMENT\", \"RETIREMENT\", \"RETIREMENT\", \"RETIREMENT\", \"RETIREMENT\", \"RETIREMENT\", \"RETIREMENT\", \"RETIREMENT\", \"RETIREMENT\", \"RETIREMENT\", \"RETIREMENT\", \"RETIREMENT\", \"RETIREMENT\", \"RETIREMENT\", \"RETIREMENT\", \"RETIREMENT\", \"RETIREMENT\", \"RETIREMENT\", \"RETIREMENT\", \"RETIREMENT\", \"RETIREMENT\", \"RETIREMENT\", \"RETIREMENT\", \"RETIREMENT\", \"RETIREMENT\", \"RETIREMENT\", \"RETIREMENT\", \"RETIREMENT\", \"RETIREMENT\", \"RETIREMENT\", \"RETIREMENT\", \"RETIREMENT\", \"RETIREMENT\", \"RETIREMENT\", \"RETIREMENT\", \"RETIREMENT\", \"RETIREMENT\", \"RETIREMENT\", \"RETIREMENT\", \"RETIREMENT\", \"RETIREMENT\", \"RETIREMENT\", \"RETIREMENT\", \"RETIREMENT\", \"RETIREMENT\", \"RETIREMENT\", \"RETIREMENT\", \"RETIREMENT\", \"RETIREMENT\", \"RETIREMENT\", \"RETIREMENT\", \"RETIREMENT\", \"RETIREMENT\", \"RETIREMENT\", \"RETIREMENT\", \"RETIREMENT\", \"RETIREMENT\", \"RETIREMENT\", \"RETIREMENT\", \"RETIREMENT\", \"RETIREMENT\", \"RETIREMENT\", \"RETIREMENT\", \"RETIREMENT\", \"RETIREMENT\", \"RETIREMENT\", \"RETIREMENT\", \"RETIREMENT\", \"RETIREMENT\", \"RETIREMENT\", \"RETIREMENT\", \"RETIREMENT\", \"RETIREMENT\", \"RETIREMENT\", \"RETIREMENT\", \"RETIREMENT\", \"RETIREMENT\", \"RETIREMENT\", \"RETIREMENT\", \"RETIREMENT\", \"RETIREMENT\", \"RETIREMENT\", \"RETIREMENT\", \"RETIREMENT\", \"RETIREMENT\", \"RETIREMENT\", \"RETIREMENT\", \"RETIREMENT\", \"RETIREMENT\", \"RETIREMENT\", \"RETIREMENT\", \"RETIREMENT\", \"RETIREMENT\", \"RETIREMENT\", \"RETIREMENT\", \"RETIREMENT\", \"RETIREMENT\", \"RETIREMENT\", \"RETIREMENT\", \"RETIREMENT\", \"RETIREMENT\", \"RETIREMENT\", \"RETIREMENT\", \"RETIREMENT\", \"RETIREMENT\", \"RETIREMENT\", \"RETIREMENT\", \"RETIREMENT\", \"RETIREMENT\", \"RETIREMENT\", \"RETIREMENT\", \"RETIREMENT\", \"RETIREMENT\", \"RETIREMENT\", \"RETIREMENT\", \"RETIREMENT\", \"RETIREMENT\", \"RETIREMENT\", \"RETIREMENT\", \"RETIREMENT\", \"RETIREMENT\", \"RETIREMENT\", \"RETIREMENT\", \"RETIREMENT\", \"RETIREMENT\", \"RETIREMENT\", \"RETIREMENT\", \"RETIREMENT\", \"RETIREMENT\", \"RETIREMENT\", \"RETIREMENT\", \"RETIREMENT\", \"RETIREMENT\", \"RETIREMENT\", \"RETIREMENT\", \"RETIREMENT\", \"RETIREMENT\", \"RETIREMENT\", \"RETIREMENT\", \"RETIREMENT\", \"RETIREMENT\", \"RETIREMENT\", \"RETIREMENT\", \"RETIREMENT\", \"RETIREMENT\", \"RETIREMENT\", \"RETIREMENT\", \"RETIREMENT\", \"RETIREMENT\", \"RETIREMENT\", \"RETIREMENT\", \"RETIREMENT\", \"RETIREMENT\", \"RETIREMENT\", \"RETIREMENT\", \"RETIREMENT\", \"RETIREMENT\", \"RETIREMENT\", \"RETIREMENT\", \"RETIREMENT\", \"RETIREMENT\", \"RETIREMENT\", \"RETIREMENT\", \"RETIREMENT\", \"RETIREMENT\", \"RETIREMENT\", \"RETIREMENT\", \"RETIREMENT\", \"RETIREMENT\", \"RETIREMENT\", \"RETIREMENT\", \"RETIREMENT\", \"RETIREMENT\", \"RETIREMENT\", \"RETIREMENT\", \"RETIREMENT\", \"RETIREMENT\", \"RETIREMENT\", \"RETIREMENT\", \"RETIREMENT\", \"RETIREMENT\", \"RETIREMENT\", \"RETIREMENT\", \"RETIREMENT\", \"RETIREMENT\", \"RETIREMENT\", \"RETIREMENT\", \"RETIREMENT\", \"RETIREMENT\", \"RETIREMENT\", \"RETIREMENT\", \"RETIREMENT\", \"RETIREMENT\", \"RETIREMENT\", \"RETIREMENT\", \"RETIREMENT\", \"RETIREMENT\", \"RETIREMENT\", \"RETIREMENT\", \"RETIREMENT\", \"RETIREMENT\", \"RETIREMENT\", \"RETIREMENT\", \"RETIREMENT\", \"RETIREMENT\", \"RETIREMENT\", \"RETIREMENT\", \"RETIREMENT\", \"RETIREMENT\", \"RETIREMENT\", \"RETIREMENT\", \"RETIREMENT\", \"RETIREMENT\", \"RETIREMENT\", \"RETIREMENT\", \"RETIREMENT\", \"RETIREMENT\", \"RETIREMENT\", \"RETIREMENT\", \"RETIREMENT\", \"RETIREMENT\", \"RETIREMENT\", \"RETIREMENT\", \"RETIREMENT\", \"RETIREMENT\", \"RETIREMENT\", \"RETIREMENT\", \"RETIREMENT\", \"RETIREMENT\", \"RETIREMENT\", \"RETIREMENT\", \"RETIREMENT\", \"RETIREMENT\", \"RETIREMENT\", \"RETIREMENT\", \"RETIREMENT\", \"RETIREMENT\", \"RETIREMENT\", \"RETIREMENT\", \"RETIREMENT\", \"RETIREMENT\", \"RETIREMENT\", \"RETIREMENT\", \"RETIREMENT\", \"RETIREMENT\", \"RETIREMENT\", \"RETIREMENT\", \"RETIREMENT\", \"RETIREMENT\", \"RETIREMENT\", \"RETIREMENT\", \"RETIREMENT\", \"RETIREMENT\", \"RETIREMENT\", \"RETIREMENT\", \"RETIREMENT\", \"RETIREMENT\", \"RETIREMENT\", \"RETIREMENT\", \"RETIREMENT\", \"RETIREMENT\", \"RETIREMENT\", \"RETIREMENT\", \"RETIREMENT\", \"RETIREMENT\", \"RETIREMENT\", \"RETIREMENT\", \"RETIREMENT\", \"RETIREMENT\", \"RETIREMENT\", \"RETIREMENT\", \"RETIREMENT\", \"RETIREMENT\", \"RETIREMENT\", \"RETIREMENT\", \"RETIREMENT\", \"RETIREMENT\", \"RETIREMENT\", \"RETIREMENT\", \"RETIREMENT\", \"RETIREMENT\", \"RETIREMENT\", \"RETIREMENT\", \"RETIREMENT\", \"RETIREMENT\", \"RETIREMENT\", \"RETIREMENT\", \"RETIREMENT\", \"RETIREMENT\", \"RETIREMENT\", \"RETIREMENT\", \"RETIREMENT\", \"RETIREMENT\", \"RETIREMENT\", \"RETIREMENT\", \"RETIREMENT\", \"RETIREMENT\", \"RETIREMENT\", \"RETIREMENT\", \"RETIREMENT\", \"RETIREMENT\", \"RETIREMENT\", \"RETIREMENT\", \"RETIREMENT\", \"RETIREMENT\", \"RETIREMENT\", \"RETIREMENT\", \"RETIREMENT\", \"RETIREMENT\", \"RETIREMENT\", \"RETIREMENT\", \"RETIREMENT\", \"RETIREMENT\", \"RETIREMENT\", \"RETIREMENT\", \"RETIREMENT\", \"RETIREMENT\", \"RETIREMENT\", \"RETIREMENT\", \"RETIREMENT\", \"RETIREMENT\", \"RETIREMENT\", \"RETIREMENT\", \"RETIREMENT\", \"RETIREMENT\", \"RETIREMENT\", \"RETIREMENT\", \"RETIREMENT\", \"RETIREMENT\", \"RETIREMENT\", \"RETIREMENT\", \"RETIREMENT\", \"RETIREMENT\", \"RETIREMENT\", \"RETIREMENT\", \"RETIREMENT\", \"RETIREMENT\", \"RETIREMENT\", \"RETIREMENT\", \"RETIREMENT\", \"RETIREMENT\", \"RETIREMENT\", \"RETIREMENT\", \"RETIREMENT\", \"RETIREMENT\", \"RETIREMENT\", \"RETIREMENT\", \"RETIREMENT\", \"RETIREMENT\", \"RETIREMENT\", \"RETIREMENT\", \"RETIREMENT\", \"RETIREMENT\", \"RETIREMENT\", \"RETIREMENT\", \"RETIREMENT\", \"RETIREMENT\", \"RETIREMENT\", \"RETIREMENT\", \"RETIREMENT\", \"RETIREMENT\", \"RETIREMENT\", \"RETIREMENT\", \"RETIREMENT\", \"RETIREMENT\", \"RETIREMENT\", \"RETIREMENT\", \"RETIREMENT\", \"RETIREMENT\", \"RETIREMENT\", \"RETIREMENT\", \"RETIREMENT\", \"RETIREMENT\", \"RETIREMENT\", \"RETIREMENT\", \"RETIREMENT\", \"RETIREMENT\", \"RETIREMENT\", \"RETIREMENT\", \"RETIREMENT\", \"RETIREMENT\", \"RETIREMENT\", \"RETIREMENT\", \"RETIREMENT\", \"RETIREMENT\", \"RETIREMENT\", \"RETIREMENT\", \"RETIREMENT\", \"RETIREMENT\", \"RETIREMENT\", \"RETIREMENT\", \"RETIREMENT\", \"RETIREMENT\", \"RETIREMENT\", \"RETIREMENT\", \"RETIREMENT\", \"RETIREMENT\", \"RETIREMENT\", \"RETIREMENT\", \"RETIREMENT\", \"RETIREMENT\", \"RETIREMENT\", \"RETIREMENT\", \"RETIREMENT\", \"RETIREMENT\", \"RETIREMENT\", \"RETIREMENT\", \"RETIREMENT\", \"RETIREMENT\", \"RETIREMENT\", \"RETIREMENT\", \"RETIREMENT\", \"RETIREMENT\", \"RETIREMENT\", \"RETIREMENT\", \"RETIREMENT\", \"RETIREMENT\", \"RETIREMENT\", \"RETIREMENT\", \"RETIREMENT\", \"RETIREMENT\", \"RETIREMENT\", \"RETIREMENT\", \"RETIREMENT\", \"RETIREMENT\", \"RETIREMENT\", \"RETIREMENT\", \"RETIREMENT\", \"RETIREMENT\", \"RETIREMENT\", \"RETIREMENT\", \"RETIREMENT\", \"RETIREMENT\", \"RETIREMENT\", \"RETIREMENT\", \"RETIREMENT\", \"RETIREMENT\", \"RETIREMENT\", \"RETIREMENT\", \"RETIREMENT\", \"RETIREMENT\", \"RETIREMENT\", \"RETIREMENT\", \"RETIREMENT\", \"RETIREMENT\", \"RETIREMENT\", \"RETIREMENT\", \"RETIREMENT\", \"RETIREMENT\", \"RETIREMENT\", \"RETIREMENT\", \"RETIREMENT\", \"RETIREMENT\", \"RETIREMENT\", \"RETIREMENT\", \"RETIREMENT\", \"RETIREMENT\", \"RETIREMENT\", \"RETIREMENT\", \"RETIREMENT\", \"RETIREMENT\", \"RETIREMENT\", \"RETIREMENT\", \"RETIREMENT\", \"RETIREMENT\", \"RETIREMENT\", \"RETIREMENT\", \"RETIREMENT\", \"RETIREMENT\", \"RETIREMENT\", \"RETIREMENT\", \"RETIREMENT\", \"RETIREMENT\", \"RETIREMENT\", \"RETIREMENT\", \"RETIREMENT\", \"RETIREMENT\", \"RETIREMENT\", \"RETIREMENT\", \"RETIREMENT\", \"RETIREMENT\", \"RETIREMENT\", \"RETIREMENT\", \"RETIREMENT\", \"RETIREMENT\", \"RETIREMENT\", \"RETIREMENT\", \"RETIREMENT\", \"RETIREMENT\", \"RETIREMENT\", \"RETIREMENT\", \"RETIREMENT\", \"RETIREMENT\", \"RETIREMENT\", \"RETIREMENT\", \"RETIREMENT\", \"RETIREMENT\", \"RETIREMENT\", \"RETIREMENT\", \"RETIREMENT\", \"RETIREMENT\", \"RETIREMENT\", \"RETIREMENT\", \"RETIREMENT\", \"RETIREMENT\", \"RETIREMENT\", \"RETIREMENT\", \"RETIREMENT\", \"RETIREMENT\", \"RETIREMENT\", \"RETIREMENT\", \"RETIREMENT\", \"RETIREMENT\", \"RETIREMENT\", \"RETIREMENT\", \"RETIREMENT\", \"RETIREMENT\", \"RETIREMENT\", \"RETIREMENT\", \"RETIREMENT\", \"RETIREMENT\", \"RETIREMENT\", \"RETIREMENT\", \"RETIREMENT\", \"RETIREMENT\", \"RETIREMENT\", \"RETIREMENT\", \"RETIREMENT\", \"RETIREMENT\", \"RETIREMENT\", \"RETIREMENT\", \"RETIREMENT\", \"RETIREMENT\", \"RETIREMENT\", \"RETIREMENT\", \"RETIREMENT\", \"RETIREMENT\", \"RETIREMENT\", \"RETIREMENT\", \"RETIREMENT\", \"RETIREMENT\", \"RETIREMENT\", \"RETIREMENT\", \"RETIREMENT\", \"RETIREMENT\", \"RETIREMENT\", \"RETIREMENT\"], \"xaxis\": \"x\", \"yaxis\": \"y\"}, {\"alignmentgroup\": \"True\", \"bingroup\": \"x\", \"hovertemplate\": \"color=ISA<br>value=%{x}<br>count=%{y}<extra></extra>\", \"legendgroup\": \"ISA\", \"marker\": {\"color\": \"#EF553B\"}, \"name\": \"ISA\", \"offsetgroup\": \"ISA\", \"orientation\": \"v\", \"showlegend\": true, \"type\": \"histogram\", \"x\": [\"ISA\", \"ISA\", \"ISA\", \"ISA\", \"ISA\", \"ISA\", \"ISA\", \"ISA\", \"ISA\", \"ISA\", \"ISA\", \"ISA\", \"ISA\", \"ISA\", \"ISA\", \"ISA\", \"ISA\", \"ISA\", \"ISA\", \"ISA\", \"ISA\", \"ISA\", \"ISA\", \"ISA\", \"ISA\", \"ISA\", \"ISA\", \"ISA\", \"ISA\", \"ISA\", \"ISA\", \"ISA\", \"ISA\", \"ISA\", \"ISA\", \"ISA\", \"ISA\", \"ISA\", \"ISA\", \"ISA\", \"ISA\", \"ISA\", \"ISA\", \"ISA\", \"ISA\", \"ISA\", \"ISA\", \"ISA\", \"ISA\", \"ISA\", \"ISA\", \"ISA\", \"ISA\", \"ISA\", \"ISA\", \"ISA\", \"ISA\", \"ISA\", \"ISA\", \"ISA\", \"ISA\", \"ISA\", \"ISA\", \"ISA\", \"ISA\", \"ISA\", \"ISA\", \"ISA\", \"ISA\", \"ISA\", \"ISA\", \"ISA\", \"ISA\", \"ISA\", \"ISA\", \"ISA\", \"ISA\", \"ISA\", \"ISA\", \"ISA\", \"ISA\", \"ISA\", \"ISA\", \"ISA\", \"ISA\", \"ISA\", \"ISA\", \"ISA\", \"ISA\", \"ISA\", \"ISA\", \"ISA\", \"ISA\", \"ISA\", \"ISA\", \"ISA\", \"ISA\", \"ISA\", \"ISA\", \"ISA\", \"ISA\", \"ISA\", \"ISA\", \"ISA\", \"ISA\", \"ISA\", \"ISA\", \"ISA\", \"ISA\", \"ISA\", \"ISA\", \"ISA\", \"ISA\", \"ISA\", \"ISA\", \"ISA\", \"ISA\", \"ISA\", \"ISA\", \"ISA\", \"ISA\", \"ISA\", \"ISA\", \"ISA\", \"ISA\", \"ISA\", \"ISA\", \"ISA\", \"ISA\", \"ISA\", \"ISA\", \"ISA\", \"ISA\", \"ISA\", \"ISA\", \"ISA\", \"ISA\", \"ISA\", \"ISA\", \"ISA\", \"ISA\", \"ISA\", \"ISA\", \"ISA\", \"ISA\", \"ISA\", \"ISA\", \"ISA\", \"ISA\", \"ISA\", \"ISA\", \"ISA\", \"ISA\", \"ISA\", \"ISA\", \"ISA\", \"ISA\", \"ISA\", \"ISA\", \"ISA\", \"ISA\", \"ISA\", \"ISA\", \"ISA\", \"ISA\", \"ISA\", \"ISA\", \"ISA\", \"ISA\", \"ISA\", \"ISA\", \"ISA\", \"ISA\", \"ISA\", \"ISA\", \"ISA\", \"ISA\", \"ISA\", \"ISA\", \"ISA\", \"ISA\", \"ISA\", \"ISA\", \"ISA\", \"ISA\"], \"xaxis\": \"x\", \"yaxis\": \"y\"}, {\"alignmentgroup\": \"True\", \"bingroup\": \"x\", \"hovertemplate\": \"color=PENSION<br>value=%{x}<br>count=%{y}<extra></extra>\", \"legendgroup\": \"PENSION\", \"marker\": {\"color\": \"#00cc96\"}, \"name\": \"PENSION\", \"offsetgroup\": \"PENSION\", \"orientation\": \"v\", \"showlegend\": true, \"type\": \"histogram\", \"x\": [\"PENSION\", \"PENSION\", \"PENSION\", \"PENSION\", \"PENSION\", \"PENSION\", \"PENSION\", \"PENSION\", \"PENSION\", \"PENSION\", \"PENSION\", \"PENSION\", \"PENSION\", \"PENSION\", \"PENSION\", \"PENSION\", \"PENSION\", \"PENSION\", \"PENSION\", \"PENSION\", \"PENSION\", \"PENSION\", \"PENSION\", \"PENSION\", \"PENSION\", \"PENSION\", \"PENSION\", \"PENSION\", \"PENSION\", \"PENSION\", \"PENSION\", \"PENSION\", \"PENSION\", \"PENSION\", \"PENSION\", \"PENSION\", \"PENSION\", \"PENSION\", \"PENSION\", \"PENSION\", \"PENSION\", \"PENSION\", \"PENSION\", \"PENSION\", \"PENSION\", \"PENSION\", \"PENSION\", \"PENSION\", \"PENSION\", \"PENSION\", \"PENSION\", \"PENSION\", \"PENSION\", \"PENSION\", \"PENSION\", \"PENSION\", \"PENSION\", \"PENSION\", \"PENSION\", \"PENSION\", \"PENSION\", \"PENSION\", \"PENSION\", \"PENSION\", \"PENSION\", \"PENSION\", \"PENSION\", \"PENSION\", \"PENSION\", \"PENSION\", \"PENSION\", \"PENSION\", \"PENSION\", \"PENSION\", \"PENSION\", \"PENSION\", \"PENSION\", \"PENSION\", \"PENSION\", \"PENSION\", \"PENSION\", \"PENSION\", \"PENSION\", \"PENSION\", \"PENSION\", \"PENSION\", \"PENSION\", \"PENSION\", \"PENSION\", \"PENSION\", \"PENSION\", \"PENSION\", \"PENSION\", \"PENSION\", \"PENSION\", \"PENSION\", \"PENSION\", \"PENSION\", \"PENSION\", \"PENSION\", \"PENSION\", \"PENSION\", \"PENSION\", \"PENSION\", \"PENSION\", \"PENSION\", \"PENSION\", \"PENSION\", \"PENSION\", \"PENSION\", \"PENSION\", \"PENSION\", \"PENSION\", \"PENSION\", \"PENSION\", \"PENSION\", \"PENSION\", \"PENSION\", \"PENSION\", \"PENSION\", \"PENSION\", \"PENSION\", \"PENSION\", \"PENSION\", \"PENSION\", \"PENSION\", \"PENSION\", \"PENSION\", \"PENSION\", \"PENSION\", \"PENSION\", \"PENSION\", \"PENSION\", \"PENSION\", \"PENSION\", \"PENSION\", \"PENSION\", \"PENSION\", \"PENSION\", \"PENSION\", \"PENSION\", \"PENSION\", \"PENSION\", \"PENSION\", \"PENSION\", \"PENSION\", \"PENSION\", \"PENSION\", \"PENSION\", \"PENSION\", \"PENSION\", \"PENSION\", \"PENSION\", \"PENSION\", \"PENSION\", \"PENSION\", \"PENSION\", \"PENSION\", \"PENSION\", \"PENSION\", \"PENSION\", \"PENSION\", \"PENSION\", \"PENSION\", \"PENSION\", \"PENSION\", \"PENSION\", \"PENSION\", \"PENSION\", \"PENSION\", \"PENSION\"], \"xaxis\": \"x\", \"yaxis\": \"y\"}, {\"alignmentgroup\": \"True\", \"bingroup\": \"x\", \"hovertemplate\": \"color=BOND<br>value=%{x}<br>count=%{y}<extra></extra>\", \"legendgroup\": \"BOND\", \"marker\": {\"color\": \"#ab63fa\"}, \"name\": \"BOND\", \"offsetgroup\": \"BOND\", \"orientation\": \"v\", \"showlegend\": true, \"type\": \"histogram\", \"x\": [\"BOND\", \"BOND\", \"BOND\", \"BOND\", \"BOND\", \"BOND\", \"BOND\", \"BOND\", \"BOND\", \"BOND\", \"BOND\", \"BOND\", \"BOND\", \"BOND\", \"BOND\", \"BOND\", \"BOND\", \"BOND\", \"BOND\", \"BOND\", \"BOND\", \"BOND\", \"BOND\", \"BOND\", \"BOND\", \"BOND\", \"BOND\", \"BOND\", \"BOND\", \"BOND\", \"BOND\", \"BOND\", \"BOND\", \"BOND\", \"BOND\", \"BOND\", \"BOND\", \"BOND\", \"BOND\", \"BOND\", \"BOND\", \"BOND\", \"BOND\", \"BOND\", \"BOND\", \"BOND\", \"BOND\", \"BOND\", \"BOND\", \"BOND\", \"BOND\", \"BOND\", \"BOND\", \"BOND\", \"BOND\", \"BOND\", \"BOND\", \"BOND\", \"BOND\", \"BOND\", \"BOND\", \"BOND\", \"BOND\", \"BOND\", \"BOND\", \"BOND\", \"BOND\", \"BOND\", \"BOND\", \"BOND\", \"BOND\", \"BOND\", \"BOND\", \"BOND\", \"BOND\", \"BOND\", \"BOND\", \"BOND\", \"BOND\", \"BOND\", \"BOND\", \"BOND\", \"BOND\", \"BOND\", \"BOND\", \"BOND\", \"BOND\", \"BOND\", \"BOND\", \"BOND\", \"BOND\", \"BOND\", \"BOND\", \"BOND\", \"BOND\", \"BOND\", \"BOND\", \"BOND\", \"BOND\", \"BOND\", \"BOND\", \"BOND\", \"BOND\", \"BOND\", \"BOND\", \"BOND\", \"BOND\", \"BOND\", \"BOND\", \"BOND\", \"BOND\", \"BOND\", \"BOND\", \"BOND\", \"BOND\", \"BOND\", \"BOND\", \"BOND\", \"BOND\", \"BOND\", \"BOND\", \"BOND\", \"BOND\", \"BOND\", \"BOND\", \"BOND\", \"BOND\", \"BOND\", \"BOND\", \"BOND\", \"BOND\", \"BOND\", \"BOND\", \"BOND\", \"BOND\", \"BOND\", \"BOND\", \"BOND\", \"BOND\", \"BOND\", \"BOND\", \"BOND\", \"BOND\", \"BOND\", \"BOND\", \"BOND\", \"BOND\", \"BOND\", \"BOND\", \"BOND\", \"BOND\", \"BOND\", \"BOND\", \"BOND\", \"BOND\", \"BOND\", \"BOND\", \"BOND\"], \"xaxis\": \"x\", \"yaxis\": \"y\"}, {\"alignmentgroup\": \"True\", \"bingroup\": \"x\", \"hovertemplate\": \"color=ANNUITY<br>value=%{x}<br>count=%{y}<extra></extra>\", \"legendgroup\": \"ANNUITY\", \"marker\": {\"color\": \"#FFA15A\"}, \"name\": \"ANNUITY\", \"offsetgroup\": \"ANNUITY\", \"orientation\": \"v\", \"showlegend\": true, \"type\": \"histogram\", \"x\": [\"ANNUITY\", \"ANNUITY\", \"ANNUITY\", \"ANNUITY\", \"ANNUITY\", \"ANNUITY\", \"ANNUITY\", \"ANNUITY\", \"ANNUITY\", \"ANNUITY\", \"ANNUITY\", \"ANNUITY\", \"ANNUITY\", \"ANNUITY\", \"ANNUITY\", \"ANNUITY\", \"ANNUITY\", \"ANNUITY\", \"ANNUITY\", \"ANNUITY\", \"ANNUITY\", \"ANNUITY\", \"ANNUITY\", \"ANNUITY\", \"ANNUITY\", \"ANNUITY\", \"ANNUITY\", \"ANNUITY\", \"ANNUITY\", \"ANNUITY\", \"ANNUITY\", \"ANNUITY\", \"ANNUITY\", \"ANNUITY\", \"ANNUITY\", \"ANNUITY\", \"ANNUITY\", \"ANNUITY\", \"ANNUITY\", \"ANNUITY\", \"ANNUITY\", \"ANNUITY\", \"ANNUITY\", \"ANNUITY\", \"ANNUITY\", \"ANNUITY\", \"ANNUITY\", \"ANNUITY\", \"ANNUITY\", \"ANNUITY\", \"ANNUITY\", \"ANNUITY\", \"ANNUITY\", \"ANNUITY\", \"ANNUITY\", \"ANNUITY\", \"ANNUITY\", \"ANNUITY\", \"ANNUITY\", \"ANNUITY\", \"ANNUITY\", \"ANNUITY\", \"ANNUITY\", \"ANNUITY\", \"ANNUITY\", \"ANNUITY\", \"ANNUITY\", \"ANNUITY\", \"ANNUITY\", \"ANNUITY\", \"ANNUITY\", \"ANNUITY\", \"ANNUITY\", \"ANNUITY\", \"ANNUITY\", \"ANNUITY\", \"ANNUITY\", \"ANNUITY\", \"ANNUITY\", \"ANNUITY\", \"ANNUITY\", \"ANNUITY\", \"ANNUITY\", \"ANNUITY\", \"ANNUITY\", \"ANNUITY\", \"ANNUITY\", \"ANNUITY\", \"ANNUITY\", \"ANNUITY\", \"ANNUITY\", \"ANNUITY\", \"ANNUITY\", \"ANNUITY\", \"ANNUITY\", \"ANNUITY\", \"ANNUITY\", \"ANNUITY\", \"ANNUITY\", \"ANNUITY\", \"ANNUITY\", \"ANNUITY\", \"ANNUITY\", \"ANNUITY\", \"ANNUITY\", \"ANNUITY\", \"ANNUITY\", \"ANNUITY\", \"ANNUITY\", \"ANNUITY\", \"ANNUITY\", \"ANNUITY\", \"ANNUITY\", \"ANNUITY\", \"ANNUITY\", \"ANNUITY\", \"ANNUITY\", \"ANNUITY\", \"ANNUITY\", \"ANNUITY\", \"ANNUITY\", \"ANNUITY\"], \"xaxis\": \"x\", \"yaxis\": \"y\"}],                        {\"barmode\": \"relative\", \"legend\": {\"title\": {\"text\": \"color\"}, \"tracegroupgap\": 0}, \"template\": {\"data\": {\"bar\": [{\"error_x\": {\"color\": \"#2a3f5f\"}, \"error_y\": {\"color\": \"#2a3f5f\"}, \"marker\": {\"line\": {\"color\": \"#E5ECF6\", \"width\": 0.5}}, \"type\": \"bar\"}], \"barpolar\": [{\"marker\": {\"line\": {\"color\": \"#E5ECF6\", \"width\": 0.5}}, \"type\": \"barpolar\"}], \"carpet\": [{\"aaxis\": {\"endlinecolor\": \"#2a3f5f\", \"gridcolor\": \"white\", \"linecolor\": \"white\", \"minorgridcolor\": \"white\", \"startlinecolor\": \"#2a3f5f\"}, \"baxis\": {\"endlinecolor\": \"#2a3f5f\", \"gridcolor\": \"white\", \"linecolor\": \"white\", \"minorgridcolor\": \"white\", \"startlinecolor\": \"#2a3f5f\"}, \"type\": \"carpet\"}], \"choropleth\": [{\"colorbar\": {\"outlinewidth\": 0, \"ticks\": \"\"}, \"type\": \"choropleth\"}], \"contour\": [{\"colorbar\": {\"outlinewidth\": 0, \"ticks\": \"\"}, \"colorscale\": [[0.0, \"#0d0887\"], [0.1111111111111111, \"#46039f\"], [0.2222222222222222, \"#7201a8\"], [0.3333333333333333, \"#9c179e\"], [0.4444444444444444, \"#bd3786\"], [0.5555555555555556, \"#d8576b\"], [0.6666666666666666, \"#ed7953\"], [0.7777777777777778, \"#fb9f3a\"], [0.8888888888888888, \"#fdca26\"], [1.0, \"#f0f921\"]], \"type\": \"contour\"}], \"contourcarpet\": [{\"colorbar\": {\"outlinewidth\": 0, \"ticks\": \"\"}, \"type\": \"contourcarpet\"}], \"heatmap\": [{\"colorbar\": {\"outlinewidth\": 0, \"ticks\": \"\"}, \"colorscale\": [[0.0, \"#0d0887\"], [0.1111111111111111, \"#46039f\"], [0.2222222222222222, \"#7201a8\"], [0.3333333333333333, \"#9c179e\"], [0.4444444444444444, \"#bd3786\"], [0.5555555555555556, \"#d8576b\"], [0.6666666666666666, \"#ed7953\"], [0.7777777777777778, \"#fb9f3a\"], [0.8888888888888888, \"#fdca26\"], [1.0, \"#f0f921\"]], \"type\": \"heatmap\"}], \"heatmapgl\": [{\"colorbar\": {\"outlinewidth\": 0, \"ticks\": \"\"}, \"colorscale\": [[0.0, \"#0d0887\"], [0.1111111111111111, \"#46039f\"], [0.2222222222222222, \"#7201a8\"], [0.3333333333333333, \"#9c179e\"], [0.4444444444444444, \"#bd3786\"], [0.5555555555555556, \"#d8576b\"], [0.6666666666666666, \"#ed7953\"], [0.7777777777777778, \"#fb9f3a\"], [0.8888888888888888, \"#fdca26\"], [1.0, \"#f0f921\"]], \"type\": \"heatmapgl\"}], \"histogram\": [{\"marker\": {\"colorbar\": {\"outlinewidth\": 0, \"ticks\": \"\"}}, \"type\": \"histogram\"}], \"histogram2d\": [{\"colorbar\": {\"outlinewidth\": 0, \"ticks\": \"\"}, \"colorscale\": [[0.0, \"#0d0887\"], [0.1111111111111111, \"#46039f\"], [0.2222222222222222, \"#7201a8\"], [0.3333333333333333, \"#9c179e\"], [0.4444444444444444, \"#bd3786\"], [0.5555555555555556, \"#d8576b\"], [0.6666666666666666, \"#ed7953\"], [0.7777777777777778, \"#fb9f3a\"], [0.8888888888888888, \"#fdca26\"], [1.0, \"#f0f921\"]], \"type\": \"histogram2d\"}], \"histogram2dcontour\": [{\"colorbar\": {\"outlinewidth\": 0, \"ticks\": \"\"}, \"colorscale\": [[0.0, \"#0d0887\"], [0.1111111111111111, \"#46039f\"], [0.2222222222222222, \"#7201a8\"], [0.3333333333333333, \"#9c179e\"], [0.4444444444444444, \"#bd3786\"], [0.5555555555555556, \"#d8576b\"], [0.6666666666666666, \"#ed7953\"], [0.7777777777777778, \"#fb9f3a\"], [0.8888888888888888, \"#fdca26\"], [1.0, \"#f0f921\"]], \"type\": \"histogram2dcontour\"}], \"mesh3d\": [{\"colorbar\": {\"outlinewidth\": 0, \"ticks\": \"\"}, \"type\": \"mesh3d\"}], \"parcoords\": [{\"line\": {\"colorbar\": {\"outlinewidth\": 0, \"ticks\": \"\"}}, \"type\": \"parcoords\"}], \"pie\": [{\"automargin\": true, \"type\": \"pie\"}], \"scatter\": [{\"marker\": {\"colorbar\": {\"outlinewidth\": 0, \"ticks\": \"\"}}, \"type\": \"scatter\"}], \"scatter3d\": [{\"line\": {\"colorbar\": {\"outlinewidth\": 0, \"ticks\": \"\"}}, \"marker\": {\"colorbar\": {\"outlinewidth\": 0, \"ticks\": \"\"}}, \"type\": \"scatter3d\"}], \"scattercarpet\": [{\"marker\": {\"colorbar\": {\"outlinewidth\": 0, \"ticks\": \"\"}}, \"type\": \"scattercarpet\"}], \"scattergeo\": [{\"marker\": {\"colorbar\": {\"outlinewidth\": 0, \"ticks\": \"\"}}, \"type\": \"scattergeo\"}], \"scattergl\": [{\"marker\": {\"colorbar\": {\"outlinewidth\": 0, \"ticks\": \"\"}}, \"type\": \"scattergl\"}], \"scattermapbox\": [{\"marker\": {\"colorbar\": {\"outlinewidth\": 0, \"ticks\": \"\"}}, \"type\": \"scattermapbox\"}], \"scatterpolar\": [{\"marker\": {\"colorbar\": {\"outlinewidth\": 0, \"ticks\": \"\"}}, \"type\": \"scatterpolar\"}], \"scatterpolargl\": [{\"marker\": {\"colorbar\": {\"outlinewidth\": 0, \"ticks\": \"\"}}, \"type\": \"scatterpolargl\"}], \"scatterternary\": [{\"marker\": {\"colorbar\": {\"outlinewidth\": 0, \"ticks\": \"\"}}, \"type\": \"scatterternary\"}], \"surface\": [{\"colorbar\": {\"outlinewidth\": 0, \"ticks\": \"\"}, \"colorscale\": [[0.0, \"#0d0887\"], [0.1111111111111111, \"#46039f\"], [0.2222222222222222, \"#7201a8\"], [0.3333333333333333, \"#9c179e\"], [0.4444444444444444, \"#bd3786\"], [0.5555555555555556, \"#d8576b\"], [0.6666666666666666, \"#ed7953\"], [0.7777777777777778, \"#fb9f3a\"], [0.8888888888888888, \"#fdca26\"], [1.0, \"#f0f921\"]], \"type\": \"surface\"}], \"table\": [{\"cells\": {\"fill\": {\"color\": \"#EBF0F8\"}, \"line\": {\"color\": \"white\"}}, \"header\": {\"fill\": {\"color\": \"#C8D4E3\"}, \"line\": {\"color\": \"white\"}}, \"type\": \"table\"}]}, \"layout\": {\"annotationdefaults\": {\"arrowcolor\": \"#2a3f5f\", \"arrowhead\": 0, \"arrowwidth\": 1}, \"autotypenumbers\": \"strict\", \"coloraxis\": {\"colorbar\": {\"outlinewidth\": 0, \"ticks\": \"\"}}, \"colorscale\": {\"diverging\": [[0, \"#8e0152\"], [0.1, \"#c51b7d\"], [0.2, \"#de77ae\"], [0.3, \"#f1b6da\"], [0.4, \"#fde0ef\"], [0.5, \"#f7f7f7\"], [0.6, \"#e6f5d0\"], [0.7, \"#b8e186\"], [0.8, \"#7fbc41\"], [0.9, \"#4d9221\"], [1, \"#276419\"]], \"sequential\": [[0.0, \"#0d0887\"], [0.1111111111111111, \"#46039f\"], [0.2222222222222222, \"#7201a8\"], [0.3333333333333333, \"#9c179e\"], [0.4444444444444444, \"#bd3786\"], [0.5555555555555556, \"#d8576b\"], [0.6666666666666666, \"#ed7953\"], [0.7777777777777778, \"#fb9f3a\"], [0.8888888888888888, \"#fdca26\"], [1.0, \"#f0f921\"]], \"sequentialminus\": [[0.0, \"#0d0887\"], [0.1111111111111111, \"#46039f\"], [0.2222222222222222, \"#7201a8\"], [0.3333333333333333, \"#9c179e\"], [0.4444444444444444, \"#bd3786\"], [0.5555555555555556, \"#d8576b\"], [0.6666666666666666, \"#ed7953\"], [0.7777777777777778, \"#fb9f3a\"], [0.8888888888888888, \"#fdca26\"], [1.0, \"#f0f921\"]]}, \"colorway\": [\"#636efa\", \"#EF553B\", \"#00cc96\", \"#ab63fa\", \"#FFA15A\", \"#19d3f3\", \"#FF6692\", \"#B6E880\", \"#FF97FF\", \"#FECB52\"], \"font\": {\"color\": \"#2a3f5f\"}, \"geo\": {\"bgcolor\": \"white\", \"lakecolor\": \"white\", \"landcolor\": \"#E5ECF6\", \"showlakes\": true, \"showland\": true, \"subunitcolor\": \"white\"}, \"hoverlabel\": {\"align\": \"left\"}, \"hovermode\": \"closest\", \"mapbox\": {\"style\": \"light\"}, \"paper_bgcolor\": \"white\", \"plot_bgcolor\": \"#E5ECF6\", \"polar\": {\"angularaxis\": {\"gridcolor\": \"white\", \"linecolor\": \"white\", \"ticks\": \"\"}, \"bgcolor\": \"#E5ECF6\", \"radialaxis\": {\"gridcolor\": \"white\", \"linecolor\": \"white\", \"ticks\": \"\"}}, \"scene\": {\"xaxis\": {\"backgroundcolor\": \"#E5ECF6\", \"gridcolor\": \"white\", \"gridwidth\": 2, \"linecolor\": \"white\", \"showbackground\": true, \"ticks\": \"\", \"zerolinecolor\": \"white\"}, \"yaxis\": {\"backgroundcolor\": \"#E5ECF6\", \"gridcolor\": \"white\", \"gridwidth\": 2, \"linecolor\": \"white\", \"showbackground\": true, \"ticks\": \"\", \"zerolinecolor\": \"white\"}, \"zaxis\": {\"backgroundcolor\": \"#E5ECF6\", \"gridcolor\": \"white\", \"gridwidth\": 2, \"linecolor\": \"white\", \"showbackground\": true, \"ticks\": \"\", \"zerolinecolor\": \"white\"}}, \"shapedefaults\": {\"line\": {\"color\": \"#2a3f5f\"}}, \"ternary\": {\"aaxis\": {\"gridcolor\": \"white\", \"linecolor\": \"white\", \"ticks\": \"\"}, \"baxis\": {\"gridcolor\": \"white\", \"linecolor\": \"white\", \"ticks\": \"\"}, \"bgcolor\": \"#E5ECF6\", \"caxis\": {\"gridcolor\": \"white\", \"linecolor\": \"white\", \"ticks\": \"\"}}, \"title\": {\"x\": 0.05}, \"xaxis\": {\"automargin\": true, \"gridcolor\": \"white\", \"linecolor\": \"white\", \"ticks\": \"\", \"title\": {\"standoff\": 15}, \"zerolinecolor\": \"white\", \"zerolinewidth\": 2}, \"yaxis\": {\"automargin\": true, \"gridcolor\": \"white\", \"linecolor\": \"white\", \"ticks\": \"\", \"title\": {\"standoff\": 15}, \"zerolinecolor\": \"white\", \"zerolinewidth\": 2}}}, \"title\": {\"text\": \"Distribution of Product Category among Customers\"}, \"xaxis\": {\"anchor\": \"y\", \"domain\": [0.0, 1.0], \"title\": {\"text\": \"value\"}}, \"yaxis\": {\"anchor\": \"x\", \"domain\": [0.0, 1.0], \"title\": {\"text\": \"count\"}}},                        {\"responsive\": true}                    ).then(function(){\n",
       "                            \n",
       "var gd = document.getElementById('8aa2fcde-b523-43bb-8f9c-dc12f7eedd4c');\n",
       "var x = new MutationObserver(function (mutations, observer) {{\n",
       "        var display = window.getComputedStyle(gd).display;\n",
       "        if (!display || display === 'none') {{\n",
       "            console.log([gd, 'removed!']);\n",
       "            Plotly.purge(gd);\n",
       "            observer.disconnect();\n",
       "        }}\n",
       "}});\n",
       "\n",
       "// Listen for the removal of the full notebook cells\n",
       "var notebookContainer = gd.closest('#notebook-container');\n",
       "if (notebookContainer) {{\n",
       "    x.observe(notebookContainer, {childList: true});\n",
       "}}\n",
       "\n",
       "// Listen for the clearing of the current output cell\n",
       "var outputEl = gd.closest('.output');\n",
       "if (outputEl) {{\n",
       "    x.observe(outputEl, {childList: true});\n",
       "}}\n",
       "\n",
       "                        })                };                });            </script>        </div>"
      ]
     },
     "metadata": {},
     "output_type": "display_data"
    }
   ],
   "source": [
    "px.histogram(Policy_Table['Product Category'], title='Distribution of Product Category among Customers', \n",
    "             color=Policy_Table['Product Category'])"
   ]
  },
  {
   "cell_type": "markdown",
   "metadata": {},
   "source": [
    "999 count of Retirement Policy category states that each customer had opted this policy, which is a good condition for US."
   ]
  },
  {
   "cell_type": "code",
   "execution_count": 211,
   "metadata": {},
   "outputs": [],
   "source": [
    "cat=pd.DataFrame(dfNew.groupby(['Product Category','Product Name'])['Policy Value'].sum())\n",
    "cat=cat.reset_index()"
   ]
  },
  {
   "cell_type": "code",
   "execution_count": 215,
   "metadata": {},
   "outputs": [
    {
     "name": "stdout",
     "output_type": "stream",
     "text": [
      "  Product Category                Product Name  Policy Value\n",
      "0          ANNUITY            STANDARD ANNUITY           0.0\n",
      "1             BOND                    PRU BOND      266467.0\n",
      "2             BOND  PRUDENTIAL INVESTMENT PLAN      503367.0\n",
      "3              ISA                FOCUSSED ISA      724039.0\n",
      "4              ISA              PRUDENTIAL ISA      304507.0\n",
      "5          PENSION        CORPORATE MEMBERSHIP      119643.0\n",
      "6          PENSION                 NHS PENSION       20966.0\n",
      "7          PENSION                        SIPP      779033.0\n",
      "8       RETIREMENT          RETIREMENT ACCOUNT   504459995.0\n"
     ]
    }
   ],
   "source": [
    "print(cat)"
   ]
  },
  {
   "cell_type": "code",
   "execution_count": 212,
   "metadata": {},
   "outputs": [
    {
     "data": {
      "application/vnd.plotly.v1+json": {
       "config": {
        "plotlyServerURL": "https://plot.ly"
       },
       "data": [
        {
         "alignmentgroup": "True",
         "hovertemplate": "Product Category=%{x}<br>Policy Value=%{marker.color}<extra></extra>",
         "legendgroup": "",
         "marker": {
          "color": [
           0,
           266467,
           503367,
           724039,
           304507,
           119643,
           20966,
           779033,
           504459995
          ],
          "coloraxis": "coloraxis"
         },
         "name": "",
         "offsetgroup": "",
         "orientation": "v",
         "showlegend": false,
         "text": [
          0,
          266467,
          503367,
          724039,
          304507,
          119643,
          20966,
          779033,
          504459995
         ],
         "textposition": "outside",
         "texttemplate": "%{text:.2s}",
         "type": "bar",
         "x": [
          "ANNUITY",
          "BOND",
          "BOND",
          "ISA",
          "ISA",
          "PENSION",
          "PENSION",
          "PENSION",
          "RETIREMENT"
         ],
         "xaxis": "x",
         "y": [
          0,
          266467,
          503367,
          724039,
          304507,
          119643,
          20966,
          779033,
          504459995
         ],
         "yaxis": "y"
        }
       ],
       "layout": {
        "barmode": "relative",
        "coloraxis": {
         "colorbar": {
          "title": {
           "text": "Policy Value"
          }
         },
         "colorscale": [
          [
           0,
           "#0d0887"
          ],
          [
           0.1111111111111111,
           "#46039f"
          ],
          [
           0.2222222222222222,
           "#7201a8"
          ],
          [
           0.3333333333333333,
           "#9c179e"
          ],
          [
           0.4444444444444444,
           "#bd3786"
          ],
          [
           0.5555555555555556,
           "#d8576b"
          ],
          [
           0.6666666666666666,
           "#ed7953"
          ],
          [
           0.7777777777777778,
           "#fb9f3a"
          ],
          [
           0.8888888888888888,
           "#fdca26"
          ],
          [
           1,
           "#f0f921"
          ]
         ]
        },
        "legend": {
         "tracegroupgap": 0
        },
        "template": {
         "data": {
          "bar": [
           {
            "error_x": {
             "color": "#2a3f5f"
            },
            "error_y": {
             "color": "#2a3f5f"
            },
            "marker": {
             "line": {
              "color": "#E5ECF6",
              "width": 0.5
             }
            },
            "type": "bar"
           }
          ],
          "barpolar": [
           {
            "marker": {
             "line": {
              "color": "#E5ECF6",
              "width": 0.5
             }
            },
            "type": "barpolar"
           }
          ],
          "carpet": [
           {
            "aaxis": {
             "endlinecolor": "#2a3f5f",
             "gridcolor": "white",
             "linecolor": "white",
             "minorgridcolor": "white",
             "startlinecolor": "#2a3f5f"
            },
            "baxis": {
             "endlinecolor": "#2a3f5f",
             "gridcolor": "white",
             "linecolor": "white",
             "minorgridcolor": "white",
             "startlinecolor": "#2a3f5f"
            },
            "type": "carpet"
           }
          ],
          "choropleth": [
           {
            "colorbar": {
             "outlinewidth": 0,
             "ticks": ""
            },
            "type": "choropleth"
           }
          ],
          "contour": [
           {
            "colorbar": {
             "outlinewidth": 0,
             "ticks": ""
            },
            "colorscale": [
             [
              0,
              "#0d0887"
             ],
             [
              0.1111111111111111,
              "#46039f"
             ],
             [
              0.2222222222222222,
              "#7201a8"
             ],
             [
              0.3333333333333333,
              "#9c179e"
             ],
             [
              0.4444444444444444,
              "#bd3786"
             ],
             [
              0.5555555555555556,
              "#d8576b"
             ],
             [
              0.6666666666666666,
              "#ed7953"
             ],
             [
              0.7777777777777778,
              "#fb9f3a"
             ],
             [
              0.8888888888888888,
              "#fdca26"
             ],
             [
              1,
              "#f0f921"
             ]
            ],
            "type": "contour"
           }
          ],
          "contourcarpet": [
           {
            "colorbar": {
             "outlinewidth": 0,
             "ticks": ""
            },
            "type": "contourcarpet"
           }
          ],
          "heatmap": [
           {
            "colorbar": {
             "outlinewidth": 0,
             "ticks": ""
            },
            "colorscale": [
             [
              0,
              "#0d0887"
             ],
             [
              0.1111111111111111,
              "#46039f"
             ],
             [
              0.2222222222222222,
              "#7201a8"
             ],
             [
              0.3333333333333333,
              "#9c179e"
             ],
             [
              0.4444444444444444,
              "#bd3786"
             ],
             [
              0.5555555555555556,
              "#d8576b"
             ],
             [
              0.6666666666666666,
              "#ed7953"
             ],
             [
              0.7777777777777778,
              "#fb9f3a"
             ],
             [
              0.8888888888888888,
              "#fdca26"
             ],
             [
              1,
              "#f0f921"
             ]
            ],
            "type": "heatmap"
           }
          ],
          "heatmapgl": [
           {
            "colorbar": {
             "outlinewidth": 0,
             "ticks": ""
            },
            "colorscale": [
             [
              0,
              "#0d0887"
             ],
             [
              0.1111111111111111,
              "#46039f"
             ],
             [
              0.2222222222222222,
              "#7201a8"
             ],
             [
              0.3333333333333333,
              "#9c179e"
             ],
             [
              0.4444444444444444,
              "#bd3786"
             ],
             [
              0.5555555555555556,
              "#d8576b"
             ],
             [
              0.6666666666666666,
              "#ed7953"
             ],
             [
              0.7777777777777778,
              "#fb9f3a"
             ],
             [
              0.8888888888888888,
              "#fdca26"
             ],
             [
              1,
              "#f0f921"
             ]
            ],
            "type": "heatmapgl"
           }
          ],
          "histogram": [
           {
            "marker": {
             "colorbar": {
              "outlinewidth": 0,
              "ticks": ""
             }
            },
            "type": "histogram"
           }
          ],
          "histogram2d": [
           {
            "colorbar": {
             "outlinewidth": 0,
             "ticks": ""
            },
            "colorscale": [
             [
              0,
              "#0d0887"
             ],
             [
              0.1111111111111111,
              "#46039f"
             ],
             [
              0.2222222222222222,
              "#7201a8"
             ],
             [
              0.3333333333333333,
              "#9c179e"
             ],
             [
              0.4444444444444444,
              "#bd3786"
             ],
             [
              0.5555555555555556,
              "#d8576b"
             ],
             [
              0.6666666666666666,
              "#ed7953"
             ],
             [
              0.7777777777777778,
              "#fb9f3a"
             ],
             [
              0.8888888888888888,
              "#fdca26"
             ],
             [
              1,
              "#f0f921"
             ]
            ],
            "type": "histogram2d"
           }
          ],
          "histogram2dcontour": [
           {
            "colorbar": {
             "outlinewidth": 0,
             "ticks": ""
            },
            "colorscale": [
             [
              0,
              "#0d0887"
             ],
             [
              0.1111111111111111,
              "#46039f"
             ],
             [
              0.2222222222222222,
              "#7201a8"
             ],
             [
              0.3333333333333333,
              "#9c179e"
             ],
             [
              0.4444444444444444,
              "#bd3786"
             ],
             [
              0.5555555555555556,
              "#d8576b"
             ],
             [
              0.6666666666666666,
              "#ed7953"
             ],
             [
              0.7777777777777778,
              "#fb9f3a"
             ],
             [
              0.8888888888888888,
              "#fdca26"
             ],
             [
              1,
              "#f0f921"
             ]
            ],
            "type": "histogram2dcontour"
           }
          ],
          "mesh3d": [
           {
            "colorbar": {
             "outlinewidth": 0,
             "ticks": ""
            },
            "type": "mesh3d"
           }
          ],
          "parcoords": [
           {
            "line": {
             "colorbar": {
              "outlinewidth": 0,
              "ticks": ""
             }
            },
            "type": "parcoords"
           }
          ],
          "pie": [
           {
            "automargin": true,
            "type": "pie"
           }
          ],
          "scatter": [
           {
            "marker": {
             "colorbar": {
              "outlinewidth": 0,
              "ticks": ""
             }
            },
            "type": "scatter"
           }
          ],
          "scatter3d": [
           {
            "line": {
             "colorbar": {
              "outlinewidth": 0,
              "ticks": ""
             }
            },
            "marker": {
             "colorbar": {
              "outlinewidth": 0,
              "ticks": ""
             }
            },
            "type": "scatter3d"
           }
          ],
          "scattercarpet": [
           {
            "marker": {
             "colorbar": {
              "outlinewidth": 0,
              "ticks": ""
             }
            },
            "type": "scattercarpet"
           }
          ],
          "scattergeo": [
           {
            "marker": {
             "colorbar": {
              "outlinewidth": 0,
              "ticks": ""
             }
            },
            "type": "scattergeo"
           }
          ],
          "scattergl": [
           {
            "marker": {
             "colorbar": {
              "outlinewidth": 0,
              "ticks": ""
             }
            },
            "type": "scattergl"
           }
          ],
          "scattermapbox": [
           {
            "marker": {
             "colorbar": {
              "outlinewidth": 0,
              "ticks": ""
             }
            },
            "type": "scattermapbox"
           }
          ],
          "scatterpolar": [
           {
            "marker": {
             "colorbar": {
              "outlinewidth": 0,
              "ticks": ""
             }
            },
            "type": "scatterpolar"
           }
          ],
          "scatterpolargl": [
           {
            "marker": {
             "colorbar": {
              "outlinewidth": 0,
              "ticks": ""
             }
            },
            "type": "scatterpolargl"
           }
          ],
          "scatterternary": [
           {
            "marker": {
             "colorbar": {
              "outlinewidth": 0,
              "ticks": ""
             }
            },
            "type": "scatterternary"
           }
          ],
          "surface": [
           {
            "colorbar": {
             "outlinewidth": 0,
             "ticks": ""
            },
            "colorscale": [
             [
              0,
              "#0d0887"
             ],
             [
              0.1111111111111111,
              "#46039f"
             ],
             [
              0.2222222222222222,
              "#7201a8"
             ],
             [
              0.3333333333333333,
              "#9c179e"
             ],
             [
              0.4444444444444444,
              "#bd3786"
             ],
             [
              0.5555555555555556,
              "#d8576b"
             ],
             [
              0.6666666666666666,
              "#ed7953"
             ],
             [
              0.7777777777777778,
              "#fb9f3a"
             ],
             [
              0.8888888888888888,
              "#fdca26"
             ],
             [
              1,
              "#f0f921"
             ]
            ],
            "type": "surface"
           }
          ],
          "table": [
           {
            "cells": {
             "fill": {
              "color": "#EBF0F8"
             },
             "line": {
              "color": "white"
             }
            },
            "header": {
             "fill": {
              "color": "#C8D4E3"
             },
             "line": {
              "color": "white"
             }
            },
            "type": "table"
           }
          ]
         },
         "layout": {
          "annotationdefaults": {
           "arrowcolor": "#2a3f5f",
           "arrowhead": 0,
           "arrowwidth": 1
          },
          "autotypenumbers": "strict",
          "coloraxis": {
           "colorbar": {
            "outlinewidth": 0,
            "ticks": ""
           }
          },
          "colorscale": {
           "diverging": [
            [
             0,
             "#8e0152"
            ],
            [
             0.1,
             "#c51b7d"
            ],
            [
             0.2,
             "#de77ae"
            ],
            [
             0.3,
             "#f1b6da"
            ],
            [
             0.4,
             "#fde0ef"
            ],
            [
             0.5,
             "#f7f7f7"
            ],
            [
             0.6,
             "#e6f5d0"
            ],
            [
             0.7,
             "#b8e186"
            ],
            [
             0.8,
             "#7fbc41"
            ],
            [
             0.9,
             "#4d9221"
            ],
            [
             1,
             "#276419"
            ]
           ],
           "sequential": [
            [
             0,
             "#0d0887"
            ],
            [
             0.1111111111111111,
             "#46039f"
            ],
            [
             0.2222222222222222,
             "#7201a8"
            ],
            [
             0.3333333333333333,
             "#9c179e"
            ],
            [
             0.4444444444444444,
             "#bd3786"
            ],
            [
             0.5555555555555556,
             "#d8576b"
            ],
            [
             0.6666666666666666,
             "#ed7953"
            ],
            [
             0.7777777777777778,
             "#fb9f3a"
            ],
            [
             0.8888888888888888,
             "#fdca26"
            ],
            [
             1,
             "#f0f921"
            ]
           ],
           "sequentialminus": [
            [
             0,
             "#0d0887"
            ],
            [
             0.1111111111111111,
             "#46039f"
            ],
            [
             0.2222222222222222,
             "#7201a8"
            ],
            [
             0.3333333333333333,
             "#9c179e"
            ],
            [
             0.4444444444444444,
             "#bd3786"
            ],
            [
             0.5555555555555556,
             "#d8576b"
            ],
            [
             0.6666666666666666,
             "#ed7953"
            ],
            [
             0.7777777777777778,
             "#fb9f3a"
            ],
            [
             0.8888888888888888,
             "#fdca26"
            ],
            [
             1,
             "#f0f921"
            ]
           ]
          },
          "colorway": [
           "#636efa",
           "#EF553B",
           "#00cc96",
           "#ab63fa",
           "#FFA15A",
           "#19d3f3",
           "#FF6692",
           "#B6E880",
           "#FF97FF",
           "#FECB52"
          ],
          "font": {
           "color": "#2a3f5f"
          },
          "geo": {
           "bgcolor": "white",
           "lakecolor": "white",
           "landcolor": "#E5ECF6",
           "showlakes": true,
           "showland": true,
           "subunitcolor": "white"
          },
          "hoverlabel": {
           "align": "left"
          },
          "hovermode": "closest",
          "mapbox": {
           "style": "light"
          },
          "paper_bgcolor": "white",
          "plot_bgcolor": "#E5ECF6",
          "polar": {
           "angularaxis": {
            "gridcolor": "white",
            "linecolor": "white",
            "ticks": ""
           },
           "bgcolor": "#E5ECF6",
           "radialaxis": {
            "gridcolor": "white",
            "linecolor": "white",
            "ticks": ""
           }
          },
          "scene": {
           "xaxis": {
            "backgroundcolor": "#E5ECF6",
            "gridcolor": "white",
            "gridwidth": 2,
            "linecolor": "white",
            "showbackground": true,
            "ticks": "",
            "zerolinecolor": "white"
           },
           "yaxis": {
            "backgroundcolor": "#E5ECF6",
            "gridcolor": "white",
            "gridwidth": 2,
            "linecolor": "white",
            "showbackground": true,
            "ticks": "",
            "zerolinecolor": "white"
           },
           "zaxis": {
            "backgroundcolor": "#E5ECF6",
            "gridcolor": "white",
            "gridwidth": 2,
            "linecolor": "white",
            "showbackground": true,
            "ticks": "",
            "zerolinecolor": "white"
           }
          },
          "shapedefaults": {
           "line": {
            "color": "#2a3f5f"
           }
          },
          "ternary": {
           "aaxis": {
            "gridcolor": "white",
            "linecolor": "white",
            "ticks": ""
           },
           "baxis": {
            "gridcolor": "white",
            "linecolor": "white",
            "ticks": ""
           },
           "bgcolor": "#E5ECF6",
           "caxis": {
            "gridcolor": "white",
            "linecolor": "white",
            "ticks": ""
           }
          },
          "title": {
           "x": 0.05
          },
          "xaxis": {
           "automargin": true,
           "gridcolor": "white",
           "linecolor": "white",
           "ticks": "",
           "title": {
            "standoff": 15
           },
           "zerolinecolor": "white",
           "zerolinewidth": 2
          },
          "yaxis": {
           "automargin": true,
           "gridcolor": "white",
           "linecolor": "white",
           "ticks": "",
           "title": {
            "standoff": 15
           },
           "zerolinecolor": "white",
           "zerolinewidth": 2
          }
         }
        },
        "title": {
         "text": "Policy Value by Product Category"
        },
        "uniformtext": {
         "minsize": 8,
         "mode": "hide"
        },
        "xaxis": {
         "anchor": "y",
         "domain": [
          0,
          1
         ],
         "title": {
          "text": "Product Category"
         }
        },
        "yaxis": {
         "anchor": "x",
         "domain": [
          0,
          1
         ],
         "title": {
          "text": "Policy Value"
         }
        }
       }
      },
      "text/html": [
       "<div>                            <div id=\"880dcf89-91ee-4805-8700-48cc1abe7132\" class=\"plotly-graph-div\" style=\"height:525px; width:100%;\"></div>            <script type=\"text/javascript\">                require([\"plotly\"], function(Plotly) {                    window.PLOTLYENV=window.PLOTLYENV || {};                                    if (document.getElementById(\"880dcf89-91ee-4805-8700-48cc1abe7132\")) {                    Plotly.newPlot(                        \"880dcf89-91ee-4805-8700-48cc1abe7132\",                        [{\"alignmentgroup\": \"True\", \"hovertemplate\": \"Product Category=%{x}<br>Policy Value=%{marker.color}<extra></extra>\", \"legendgroup\": \"\", \"marker\": {\"color\": [0.0, 266467.0, 503367.0, 724039.0, 304507.0, 119643.0, 20966.0, 779033.0, 504459995.0], \"coloraxis\": \"coloraxis\"}, \"name\": \"\", \"offsetgroup\": \"\", \"orientation\": \"v\", \"showlegend\": false, \"text\": [0.0, 266467.0, 503367.0, 724039.0, 304507.0, 119643.0, 20966.0, 779033.0, 504459995.0], \"textposition\": \"outside\", \"texttemplate\": \"%{text:.2s}\", \"type\": \"bar\", \"x\": [\"ANNUITY\", \"BOND\", \"BOND\", \"ISA\", \"ISA\", \"PENSION\", \"PENSION\", \"PENSION\", \"RETIREMENT\"], \"xaxis\": \"x\", \"y\": [0.0, 266467.0, 503367.0, 724039.0, 304507.0, 119643.0, 20966.0, 779033.0, 504459995.0], \"yaxis\": \"y\"}],                        {\"barmode\": \"relative\", \"coloraxis\": {\"colorbar\": {\"title\": {\"text\": \"Policy Value\"}}, \"colorscale\": [[0.0, \"#0d0887\"], [0.1111111111111111, \"#46039f\"], [0.2222222222222222, \"#7201a8\"], [0.3333333333333333, \"#9c179e\"], [0.4444444444444444, \"#bd3786\"], [0.5555555555555556, \"#d8576b\"], [0.6666666666666666, \"#ed7953\"], [0.7777777777777778, \"#fb9f3a\"], [0.8888888888888888, \"#fdca26\"], [1.0, \"#f0f921\"]]}, \"legend\": {\"tracegroupgap\": 0}, \"template\": {\"data\": {\"bar\": [{\"error_x\": {\"color\": \"#2a3f5f\"}, \"error_y\": {\"color\": \"#2a3f5f\"}, \"marker\": {\"line\": {\"color\": \"#E5ECF6\", \"width\": 0.5}}, \"type\": \"bar\"}], \"barpolar\": [{\"marker\": {\"line\": {\"color\": \"#E5ECF6\", \"width\": 0.5}}, \"type\": \"barpolar\"}], \"carpet\": [{\"aaxis\": {\"endlinecolor\": \"#2a3f5f\", \"gridcolor\": \"white\", \"linecolor\": \"white\", \"minorgridcolor\": \"white\", \"startlinecolor\": \"#2a3f5f\"}, \"baxis\": {\"endlinecolor\": \"#2a3f5f\", \"gridcolor\": \"white\", \"linecolor\": \"white\", \"minorgridcolor\": \"white\", \"startlinecolor\": \"#2a3f5f\"}, \"type\": \"carpet\"}], \"choropleth\": [{\"colorbar\": {\"outlinewidth\": 0, \"ticks\": \"\"}, \"type\": \"choropleth\"}], \"contour\": [{\"colorbar\": {\"outlinewidth\": 0, \"ticks\": \"\"}, \"colorscale\": [[0.0, \"#0d0887\"], [0.1111111111111111, \"#46039f\"], [0.2222222222222222, \"#7201a8\"], [0.3333333333333333, \"#9c179e\"], [0.4444444444444444, \"#bd3786\"], [0.5555555555555556, \"#d8576b\"], [0.6666666666666666, \"#ed7953\"], [0.7777777777777778, \"#fb9f3a\"], [0.8888888888888888, \"#fdca26\"], [1.0, \"#f0f921\"]], \"type\": \"contour\"}], \"contourcarpet\": [{\"colorbar\": {\"outlinewidth\": 0, \"ticks\": \"\"}, \"type\": \"contourcarpet\"}], \"heatmap\": [{\"colorbar\": {\"outlinewidth\": 0, \"ticks\": \"\"}, \"colorscale\": [[0.0, \"#0d0887\"], [0.1111111111111111, \"#46039f\"], [0.2222222222222222, \"#7201a8\"], [0.3333333333333333, \"#9c179e\"], [0.4444444444444444, \"#bd3786\"], [0.5555555555555556, \"#d8576b\"], [0.6666666666666666, \"#ed7953\"], [0.7777777777777778, \"#fb9f3a\"], [0.8888888888888888, \"#fdca26\"], [1.0, \"#f0f921\"]], \"type\": \"heatmap\"}], \"heatmapgl\": [{\"colorbar\": {\"outlinewidth\": 0, \"ticks\": \"\"}, \"colorscale\": [[0.0, \"#0d0887\"], [0.1111111111111111, \"#46039f\"], [0.2222222222222222, \"#7201a8\"], [0.3333333333333333, \"#9c179e\"], [0.4444444444444444, \"#bd3786\"], [0.5555555555555556, \"#d8576b\"], [0.6666666666666666, \"#ed7953\"], [0.7777777777777778, \"#fb9f3a\"], [0.8888888888888888, \"#fdca26\"], [1.0, \"#f0f921\"]], \"type\": \"heatmapgl\"}], \"histogram\": [{\"marker\": {\"colorbar\": {\"outlinewidth\": 0, \"ticks\": \"\"}}, \"type\": \"histogram\"}], \"histogram2d\": [{\"colorbar\": {\"outlinewidth\": 0, \"ticks\": \"\"}, \"colorscale\": [[0.0, \"#0d0887\"], [0.1111111111111111, \"#46039f\"], [0.2222222222222222, \"#7201a8\"], [0.3333333333333333, \"#9c179e\"], [0.4444444444444444, \"#bd3786\"], [0.5555555555555556, \"#d8576b\"], [0.6666666666666666, \"#ed7953\"], [0.7777777777777778, \"#fb9f3a\"], [0.8888888888888888, \"#fdca26\"], [1.0, \"#f0f921\"]], \"type\": \"histogram2d\"}], \"histogram2dcontour\": [{\"colorbar\": {\"outlinewidth\": 0, \"ticks\": \"\"}, \"colorscale\": [[0.0, \"#0d0887\"], [0.1111111111111111, \"#46039f\"], [0.2222222222222222, \"#7201a8\"], [0.3333333333333333, \"#9c179e\"], [0.4444444444444444, \"#bd3786\"], [0.5555555555555556, \"#d8576b\"], [0.6666666666666666, \"#ed7953\"], [0.7777777777777778, \"#fb9f3a\"], [0.8888888888888888, \"#fdca26\"], [1.0, \"#f0f921\"]], \"type\": \"histogram2dcontour\"}], \"mesh3d\": [{\"colorbar\": {\"outlinewidth\": 0, \"ticks\": \"\"}, \"type\": \"mesh3d\"}], \"parcoords\": [{\"line\": {\"colorbar\": {\"outlinewidth\": 0, \"ticks\": \"\"}}, \"type\": \"parcoords\"}], \"pie\": [{\"automargin\": true, \"type\": \"pie\"}], \"scatter\": [{\"marker\": {\"colorbar\": {\"outlinewidth\": 0, \"ticks\": \"\"}}, \"type\": \"scatter\"}], \"scatter3d\": [{\"line\": {\"colorbar\": {\"outlinewidth\": 0, \"ticks\": \"\"}}, \"marker\": {\"colorbar\": {\"outlinewidth\": 0, \"ticks\": \"\"}}, \"type\": \"scatter3d\"}], \"scattercarpet\": [{\"marker\": {\"colorbar\": {\"outlinewidth\": 0, \"ticks\": \"\"}}, \"type\": \"scattercarpet\"}], \"scattergeo\": [{\"marker\": {\"colorbar\": {\"outlinewidth\": 0, \"ticks\": \"\"}}, \"type\": \"scattergeo\"}], \"scattergl\": [{\"marker\": {\"colorbar\": {\"outlinewidth\": 0, \"ticks\": \"\"}}, \"type\": \"scattergl\"}], \"scattermapbox\": [{\"marker\": {\"colorbar\": {\"outlinewidth\": 0, \"ticks\": \"\"}}, \"type\": \"scattermapbox\"}], \"scatterpolar\": [{\"marker\": {\"colorbar\": {\"outlinewidth\": 0, \"ticks\": \"\"}}, \"type\": \"scatterpolar\"}], \"scatterpolargl\": [{\"marker\": {\"colorbar\": {\"outlinewidth\": 0, \"ticks\": \"\"}}, \"type\": \"scatterpolargl\"}], \"scatterternary\": [{\"marker\": {\"colorbar\": {\"outlinewidth\": 0, \"ticks\": \"\"}}, \"type\": \"scatterternary\"}], \"surface\": [{\"colorbar\": {\"outlinewidth\": 0, \"ticks\": \"\"}, \"colorscale\": [[0.0, \"#0d0887\"], [0.1111111111111111, \"#46039f\"], [0.2222222222222222, \"#7201a8\"], [0.3333333333333333, \"#9c179e\"], [0.4444444444444444, \"#bd3786\"], [0.5555555555555556, \"#d8576b\"], [0.6666666666666666, \"#ed7953\"], [0.7777777777777778, \"#fb9f3a\"], [0.8888888888888888, \"#fdca26\"], [1.0, \"#f0f921\"]], \"type\": \"surface\"}], \"table\": [{\"cells\": {\"fill\": {\"color\": \"#EBF0F8\"}, \"line\": {\"color\": \"white\"}}, \"header\": {\"fill\": {\"color\": \"#C8D4E3\"}, \"line\": {\"color\": \"white\"}}, \"type\": \"table\"}]}, \"layout\": {\"annotationdefaults\": {\"arrowcolor\": \"#2a3f5f\", \"arrowhead\": 0, \"arrowwidth\": 1}, \"autotypenumbers\": \"strict\", \"coloraxis\": {\"colorbar\": {\"outlinewidth\": 0, \"ticks\": \"\"}}, \"colorscale\": {\"diverging\": [[0, \"#8e0152\"], [0.1, \"#c51b7d\"], [0.2, \"#de77ae\"], [0.3, \"#f1b6da\"], [0.4, \"#fde0ef\"], [0.5, \"#f7f7f7\"], [0.6, \"#e6f5d0\"], [0.7, \"#b8e186\"], [0.8, \"#7fbc41\"], [0.9, \"#4d9221\"], [1, \"#276419\"]], \"sequential\": [[0.0, \"#0d0887\"], [0.1111111111111111, \"#46039f\"], [0.2222222222222222, \"#7201a8\"], [0.3333333333333333, \"#9c179e\"], [0.4444444444444444, \"#bd3786\"], [0.5555555555555556, \"#d8576b\"], [0.6666666666666666, \"#ed7953\"], [0.7777777777777778, \"#fb9f3a\"], [0.8888888888888888, \"#fdca26\"], [1.0, \"#f0f921\"]], \"sequentialminus\": [[0.0, \"#0d0887\"], [0.1111111111111111, \"#46039f\"], [0.2222222222222222, \"#7201a8\"], [0.3333333333333333, \"#9c179e\"], [0.4444444444444444, \"#bd3786\"], [0.5555555555555556, \"#d8576b\"], [0.6666666666666666, \"#ed7953\"], [0.7777777777777778, \"#fb9f3a\"], [0.8888888888888888, \"#fdca26\"], [1.0, \"#f0f921\"]]}, \"colorway\": [\"#636efa\", \"#EF553B\", \"#00cc96\", \"#ab63fa\", \"#FFA15A\", \"#19d3f3\", \"#FF6692\", \"#B6E880\", \"#FF97FF\", \"#FECB52\"], \"font\": {\"color\": \"#2a3f5f\"}, \"geo\": {\"bgcolor\": \"white\", \"lakecolor\": \"white\", \"landcolor\": \"#E5ECF6\", \"showlakes\": true, \"showland\": true, \"subunitcolor\": \"white\"}, \"hoverlabel\": {\"align\": \"left\"}, \"hovermode\": \"closest\", \"mapbox\": {\"style\": \"light\"}, \"paper_bgcolor\": \"white\", \"plot_bgcolor\": \"#E5ECF6\", \"polar\": {\"angularaxis\": {\"gridcolor\": \"white\", \"linecolor\": \"white\", \"ticks\": \"\"}, \"bgcolor\": \"#E5ECF6\", \"radialaxis\": {\"gridcolor\": \"white\", \"linecolor\": \"white\", \"ticks\": \"\"}}, \"scene\": {\"xaxis\": {\"backgroundcolor\": \"#E5ECF6\", \"gridcolor\": \"white\", \"gridwidth\": 2, \"linecolor\": \"white\", \"showbackground\": true, \"ticks\": \"\", \"zerolinecolor\": \"white\"}, \"yaxis\": {\"backgroundcolor\": \"#E5ECF6\", \"gridcolor\": \"white\", \"gridwidth\": 2, \"linecolor\": \"white\", \"showbackground\": true, \"ticks\": \"\", \"zerolinecolor\": \"white\"}, \"zaxis\": {\"backgroundcolor\": \"#E5ECF6\", \"gridcolor\": \"white\", \"gridwidth\": 2, \"linecolor\": \"white\", \"showbackground\": true, \"ticks\": \"\", \"zerolinecolor\": \"white\"}}, \"shapedefaults\": {\"line\": {\"color\": \"#2a3f5f\"}}, \"ternary\": {\"aaxis\": {\"gridcolor\": \"white\", \"linecolor\": \"white\", \"ticks\": \"\"}, \"baxis\": {\"gridcolor\": \"white\", \"linecolor\": \"white\", \"ticks\": \"\"}, \"bgcolor\": \"#E5ECF6\", \"caxis\": {\"gridcolor\": \"white\", \"linecolor\": \"white\", \"ticks\": \"\"}}, \"title\": {\"x\": 0.05}, \"xaxis\": {\"automargin\": true, \"gridcolor\": \"white\", \"linecolor\": \"white\", \"ticks\": \"\", \"title\": {\"standoff\": 15}, \"zerolinecolor\": \"white\", \"zerolinewidth\": 2}, \"yaxis\": {\"automargin\": true, \"gridcolor\": \"white\", \"linecolor\": \"white\", \"ticks\": \"\", \"title\": {\"standoff\": 15}, \"zerolinecolor\": \"white\", \"zerolinewidth\": 2}}}, \"title\": {\"text\": \"Policy Value by Product Category\"}, \"uniformtext\": {\"minsize\": 8, \"mode\": \"hide\"}, \"xaxis\": {\"anchor\": \"y\", \"domain\": [0.0, 1.0], \"title\": {\"text\": \"Product Category\"}}, \"yaxis\": {\"anchor\": \"x\", \"domain\": [0.0, 1.0], \"title\": {\"text\": \"Policy Value\"}}},                        {\"responsive\": true}                    ).then(function(){\n",
       "                            \n",
       "var gd = document.getElementById('880dcf89-91ee-4805-8700-48cc1abe7132');\n",
       "var x = new MutationObserver(function (mutations, observer) {{\n",
       "        var display = window.getComputedStyle(gd).display;\n",
       "        if (!display || display === 'none') {{\n",
       "            console.log([gd, 'removed!']);\n",
       "            Plotly.purge(gd);\n",
       "            observer.disconnect();\n",
       "        }}\n",
       "}});\n",
       "\n",
       "// Listen for the removal of the full notebook cells\n",
       "var notebookContainer = gd.closest('#notebook-container');\n",
       "if (notebookContainer) {{\n",
       "    x.observe(notebookContainer, {childList: true});\n",
       "}}\n",
       "\n",
       "// Listen for the clearing of the current output cell\n",
       "var outputEl = gd.closest('.output');\n",
       "if (outputEl) {{\n",
       "    x.observe(outputEl, {childList: true});\n",
       "}}\n",
       "\n",
       "                        })                };                });            </script>        </div>"
      ]
     },
     "metadata": {},
     "output_type": "display_data"
    }
   ],
   "source": [
    "fig = px.bar(cat, x='Product Category',y='Policy Value', title='Policy Value by Product Category', \n",
    "             color=cat['Policy Value'], text = 'Policy Value')\n",
    "fig.update_traces(texttemplate='%{text:.2s}', textposition='outside')\n",
    "fig.update_layout(uniformtext_minsize=8, uniformtext_mode='hide')\n",
    "fig.show()"
   ]
  },
  {
   "cell_type": "code",
   "execution_count": 213,
   "metadata": {},
   "outputs": [
    {
     "data": {
      "application/vnd.plotly.v1+json": {
       "config": {
        "plotlyServerURL": "https://plot.ly"
       },
       "data": [
        {
         "alignmentgroup": "True",
         "bingroup": "x",
         "hovertemplate": "color=RETIREMENT ACCOUNT<br>value=%{x}<br>count=%{y}<extra></extra>",
         "legendgroup": "RETIREMENT ACCOUNT",
         "marker": {
          "color": "#636efa"
         },
         "name": "RETIREMENT ACCOUNT",
         "offsetgroup": "RETIREMENT ACCOUNT",
         "orientation": "v",
         "showlegend": true,
         "type": "histogram",
         "x": [
          "RETIREMENT ACCOUNT",
          "RETIREMENT ACCOUNT",
          "RETIREMENT ACCOUNT",
          "RETIREMENT ACCOUNT",
          "RETIREMENT ACCOUNT",
          "RETIREMENT ACCOUNT",
          "RETIREMENT ACCOUNT",
          "RETIREMENT ACCOUNT",
          "RETIREMENT ACCOUNT",
          "RETIREMENT ACCOUNT",
          "RETIREMENT ACCOUNT",
          "RETIREMENT ACCOUNT",
          "RETIREMENT ACCOUNT",
          "RETIREMENT ACCOUNT",
          "RETIREMENT ACCOUNT",
          "RETIREMENT ACCOUNT",
          "RETIREMENT ACCOUNT",
          "RETIREMENT ACCOUNT",
          "RETIREMENT ACCOUNT",
          "RETIREMENT ACCOUNT",
          "RETIREMENT ACCOUNT",
          "RETIREMENT ACCOUNT",
          "RETIREMENT ACCOUNT",
          "RETIREMENT ACCOUNT",
          "RETIREMENT ACCOUNT",
          "RETIREMENT ACCOUNT",
          "RETIREMENT ACCOUNT",
          "RETIREMENT ACCOUNT",
          "RETIREMENT ACCOUNT",
          "RETIREMENT ACCOUNT",
          "RETIREMENT ACCOUNT",
          "RETIREMENT ACCOUNT",
          "RETIREMENT ACCOUNT",
          "RETIREMENT ACCOUNT",
          "RETIREMENT ACCOUNT",
          "RETIREMENT ACCOUNT",
          "RETIREMENT ACCOUNT",
          "RETIREMENT ACCOUNT",
          "RETIREMENT ACCOUNT",
          "RETIREMENT ACCOUNT",
          "RETIREMENT ACCOUNT",
          "RETIREMENT ACCOUNT",
          "RETIREMENT ACCOUNT",
          "RETIREMENT ACCOUNT",
          "RETIREMENT ACCOUNT",
          "RETIREMENT ACCOUNT",
          "RETIREMENT ACCOUNT",
          "RETIREMENT ACCOUNT",
          "RETIREMENT ACCOUNT",
          "RETIREMENT ACCOUNT",
          "RETIREMENT ACCOUNT",
          "RETIREMENT ACCOUNT",
          "RETIREMENT ACCOUNT",
          "RETIREMENT ACCOUNT",
          "RETIREMENT ACCOUNT",
          "RETIREMENT ACCOUNT",
          "RETIREMENT ACCOUNT",
          "RETIREMENT ACCOUNT",
          "RETIREMENT ACCOUNT",
          "RETIREMENT ACCOUNT",
          "RETIREMENT ACCOUNT",
          "RETIREMENT ACCOUNT",
          "RETIREMENT ACCOUNT",
          "RETIREMENT ACCOUNT",
          "RETIREMENT ACCOUNT",
          "RETIREMENT ACCOUNT",
          "RETIREMENT ACCOUNT",
          "RETIREMENT ACCOUNT",
          "RETIREMENT ACCOUNT",
          "RETIREMENT ACCOUNT",
          "RETIREMENT ACCOUNT",
          "RETIREMENT ACCOUNT",
          "RETIREMENT ACCOUNT",
          "RETIREMENT ACCOUNT",
          "RETIREMENT ACCOUNT",
          "RETIREMENT ACCOUNT",
          "RETIREMENT ACCOUNT",
          "RETIREMENT ACCOUNT",
          "RETIREMENT ACCOUNT",
          "RETIREMENT ACCOUNT",
          "RETIREMENT ACCOUNT",
          "RETIREMENT ACCOUNT",
          "RETIREMENT ACCOUNT",
          "RETIREMENT ACCOUNT",
          "RETIREMENT ACCOUNT",
          "RETIREMENT ACCOUNT",
          "RETIREMENT ACCOUNT",
          "RETIREMENT ACCOUNT",
          "RETIREMENT ACCOUNT",
          "RETIREMENT ACCOUNT",
          "RETIREMENT ACCOUNT",
          "RETIREMENT ACCOUNT",
          "RETIREMENT ACCOUNT",
          "RETIREMENT ACCOUNT",
          "RETIREMENT ACCOUNT",
          "RETIREMENT ACCOUNT",
          "RETIREMENT ACCOUNT",
          "RETIREMENT ACCOUNT",
          "RETIREMENT ACCOUNT",
          "RETIREMENT ACCOUNT",
          "RETIREMENT ACCOUNT",
          "RETIREMENT ACCOUNT",
          "RETIREMENT ACCOUNT",
          "RETIREMENT ACCOUNT",
          "RETIREMENT ACCOUNT",
          "RETIREMENT ACCOUNT",
          "RETIREMENT ACCOUNT",
          "RETIREMENT ACCOUNT",
          "RETIREMENT ACCOUNT",
          "RETIREMENT ACCOUNT",
          "RETIREMENT ACCOUNT",
          "RETIREMENT ACCOUNT",
          "RETIREMENT ACCOUNT",
          "RETIREMENT ACCOUNT",
          "RETIREMENT ACCOUNT",
          "RETIREMENT ACCOUNT",
          "RETIREMENT ACCOUNT",
          "RETIREMENT ACCOUNT",
          "RETIREMENT ACCOUNT",
          "RETIREMENT ACCOUNT",
          "RETIREMENT ACCOUNT",
          "RETIREMENT ACCOUNT",
          "RETIREMENT ACCOUNT",
          "RETIREMENT ACCOUNT",
          "RETIREMENT ACCOUNT",
          "RETIREMENT ACCOUNT",
          "RETIREMENT ACCOUNT",
          "RETIREMENT ACCOUNT",
          "RETIREMENT ACCOUNT",
          "RETIREMENT ACCOUNT",
          "RETIREMENT ACCOUNT",
          "RETIREMENT ACCOUNT",
          "RETIREMENT ACCOUNT",
          "RETIREMENT ACCOUNT",
          "RETIREMENT ACCOUNT",
          "RETIREMENT ACCOUNT",
          "RETIREMENT ACCOUNT",
          "RETIREMENT ACCOUNT",
          "RETIREMENT ACCOUNT",
          "RETIREMENT ACCOUNT",
          "RETIREMENT ACCOUNT",
          "RETIREMENT ACCOUNT",
          "RETIREMENT ACCOUNT",
          "RETIREMENT ACCOUNT",
          "RETIREMENT ACCOUNT",
          "RETIREMENT ACCOUNT",
          "RETIREMENT ACCOUNT",
          "RETIREMENT ACCOUNT",
          "RETIREMENT ACCOUNT",
          "RETIREMENT ACCOUNT",
          "RETIREMENT ACCOUNT",
          "RETIREMENT ACCOUNT",
          "RETIREMENT ACCOUNT",
          "RETIREMENT ACCOUNT",
          "RETIREMENT ACCOUNT",
          "RETIREMENT ACCOUNT",
          "RETIREMENT ACCOUNT",
          "RETIREMENT ACCOUNT",
          "RETIREMENT ACCOUNT",
          "RETIREMENT ACCOUNT",
          "RETIREMENT ACCOUNT",
          "RETIREMENT ACCOUNT",
          "RETIREMENT ACCOUNT",
          "RETIREMENT ACCOUNT",
          "RETIREMENT ACCOUNT",
          "RETIREMENT ACCOUNT",
          "RETIREMENT ACCOUNT",
          "RETIREMENT ACCOUNT",
          "RETIREMENT ACCOUNT",
          "RETIREMENT ACCOUNT",
          "RETIREMENT ACCOUNT",
          "RETIREMENT ACCOUNT",
          "RETIREMENT ACCOUNT",
          "RETIREMENT ACCOUNT",
          "RETIREMENT ACCOUNT",
          "RETIREMENT ACCOUNT",
          "RETIREMENT ACCOUNT",
          "RETIREMENT ACCOUNT",
          "RETIREMENT ACCOUNT",
          "RETIREMENT ACCOUNT",
          "RETIREMENT ACCOUNT",
          "RETIREMENT ACCOUNT",
          "RETIREMENT ACCOUNT",
          "RETIREMENT ACCOUNT",
          "RETIREMENT ACCOUNT",
          "RETIREMENT ACCOUNT",
          "RETIREMENT ACCOUNT",
          "RETIREMENT ACCOUNT",
          "RETIREMENT ACCOUNT",
          "RETIREMENT ACCOUNT",
          "RETIREMENT ACCOUNT",
          "RETIREMENT ACCOUNT",
          "RETIREMENT ACCOUNT",
          "RETIREMENT ACCOUNT",
          "RETIREMENT ACCOUNT",
          "RETIREMENT ACCOUNT",
          "RETIREMENT ACCOUNT",
          "RETIREMENT ACCOUNT",
          "RETIREMENT ACCOUNT",
          "RETIREMENT ACCOUNT",
          "RETIREMENT ACCOUNT",
          "RETIREMENT ACCOUNT",
          "RETIREMENT ACCOUNT",
          "RETIREMENT ACCOUNT",
          "RETIREMENT ACCOUNT",
          "RETIREMENT ACCOUNT",
          "RETIREMENT ACCOUNT",
          "RETIREMENT ACCOUNT",
          "RETIREMENT ACCOUNT",
          "RETIREMENT ACCOUNT",
          "RETIREMENT ACCOUNT",
          "RETIREMENT ACCOUNT",
          "RETIREMENT ACCOUNT",
          "RETIREMENT ACCOUNT",
          "RETIREMENT ACCOUNT",
          "RETIREMENT ACCOUNT",
          "RETIREMENT ACCOUNT",
          "RETIREMENT ACCOUNT",
          "RETIREMENT ACCOUNT",
          "RETIREMENT ACCOUNT",
          "RETIREMENT ACCOUNT",
          "RETIREMENT ACCOUNT",
          "RETIREMENT ACCOUNT",
          "RETIREMENT ACCOUNT",
          "RETIREMENT ACCOUNT",
          "RETIREMENT ACCOUNT",
          "RETIREMENT ACCOUNT",
          "RETIREMENT ACCOUNT",
          "RETIREMENT ACCOUNT",
          "RETIREMENT ACCOUNT",
          "RETIREMENT ACCOUNT",
          "RETIREMENT ACCOUNT",
          "RETIREMENT ACCOUNT",
          "RETIREMENT ACCOUNT",
          "RETIREMENT ACCOUNT",
          "RETIREMENT ACCOUNT",
          "RETIREMENT ACCOUNT",
          "RETIREMENT ACCOUNT",
          "RETIREMENT ACCOUNT",
          "RETIREMENT ACCOUNT",
          "RETIREMENT ACCOUNT",
          "RETIREMENT ACCOUNT",
          "RETIREMENT ACCOUNT",
          "RETIREMENT ACCOUNT",
          "RETIREMENT ACCOUNT",
          "RETIREMENT ACCOUNT",
          "RETIREMENT ACCOUNT",
          "RETIREMENT ACCOUNT",
          "RETIREMENT ACCOUNT",
          "RETIREMENT ACCOUNT",
          "RETIREMENT ACCOUNT",
          "RETIREMENT ACCOUNT",
          "RETIREMENT ACCOUNT",
          "RETIREMENT ACCOUNT",
          "RETIREMENT ACCOUNT",
          "RETIREMENT ACCOUNT",
          "RETIREMENT ACCOUNT",
          "RETIREMENT ACCOUNT",
          "RETIREMENT ACCOUNT",
          "RETIREMENT ACCOUNT",
          "RETIREMENT ACCOUNT",
          "RETIREMENT ACCOUNT",
          "RETIREMENT ACCOUNT",
          "RETIREMENT ACCOUNT",
          "RETIREMENT ACCOUNT",
          "RETIREMENT ACCOUNT",
          "RETIREMENT ACCOUNT",
          "RETIREMENT ACCOUNT",
          "RETIREMENT ACCOUNT",
          "RETIREMENT ACCOUNT",
          "RETIREMENT ACCOUNT",
          "RETIREMENT ACCOUNT",
          "RETIREMENT ACCOUNT",
          "RETIREMENT ACCOUNT",
          "RETIREMENT ACCOUNT",
          "RETIREMENT ACCOUNT",
          "RETIREMENT ACCOUNT",
          "RETIREMENT ACCOUNT",
          "RETIREMENT ACCOUNT",
          "RETIREMENT ACCOUNT",
          "RETIREMENT ACCOUNT",
          "RETIREMENT ACCOUNT",
          "RETIREMENT ACCOUNT",
          "RETIREMENT ACCOUNT",
          "RETIREMENT ACCOUNT",
          "RETIREMENT ACCOUNT",
          "RETIREMENT ACCOUNT",
          "RETIREMENT ACCOUNT",
          "RETIREMENT ACCOUNT",
          "RETIREMENT ACCOUNT",
          "RETIREMENT ACCOUNT",
          "RETIREMENT ACCOUNT",
          "RETIREMENT ACCOUNT",
          "RETIREMENT ACCOUNT",
          "RETIREMENT ACCOUNT",
          "RETIREMENT ACCOUNT",
          "RETIREMENT ACCOUNT",
          "RETIREMENT ACCOUNT",
          "RETIREMENT ACCOUNT",
          "RETIREMENT ACCOUNT",
          "RETIREMENT ACCOUNT",
          "RETIREMENT ACCOUNT",
          "RETIREMENT ACCOUNT",
          "RETIREMENT ACCOUNT",
          "RETIREMENT ACCOUNT",
          "RETIREMENT ACCOUNT",
          "RETIREMENT ACCOUNT",
          "RETIREMENT ACCOUNT",
          "RETIREMENT ACCOUNT",
          "RETIREMENT ACCOUNT",
          "RETIREMENT ACCOUNT",
          "RETIREMENT ACCOUNT",
          "RETIREMENT ACCOUNT",
          "RETIREMENT ACCOUNT",
          "RETIREMENT ACCOUNT",
          "RETIREMENT ACCOUNT",
          "RETIREMENT ACCOUNT",
          "RETIREMENT ACCOUNT",
          "RETIREMENT ACCOUNT",
          "RETIREMENT ACCOUNT",
          "RETIREMENT ACCOUNT",
          "RETIREMENT ACCOUNT",
          "RETIREMENT ACCOUNT",
          "RETIREMENT ACCOUNT",
          "RETIREMENT ACCOUNT",
          "RETIREMENT ACCOUNT",
          "RETIREMENT ACCOUNT",
          "RETIREMENT ACCOUNT",
          "RETIREMENT ACCOUNT",
          "RETIREMENT ACCOUNT",
          "RETIREMENT ACCOUNT",
          "RETIREMENT ACCOUNT",
          "RETIREMENT ACCOUNT",
          "RETIREMENT ACCOUNT",
          "RETIREMENT ACCOUNT",
          "RETIREMENT ACCOUNT",
          "RETIREMENT ACCOUNT",
          "RETIREMENT ACCOUNT",
          "RETIREMENT ACCOUNT",
          "RETIREMENT ACCOUNT",
          "RETIREMENT ACCOUNT",
          "RETIREMENT ACCOUNT",
          "RETIREMENT ACCOUNT",
          "RETIREMENT ACCOUNT",
          "RETIREMENT ACCOUNT",
          "RETIREMENT ACCOUNT",
          "RETIREMENT ACCOUNT",
          "RETIREMENT ACCOUNT",
          "RETIREMENT ACCOUNT",
          "RETIREMENT ACCOUNT",
          "RETIREMENT ACCOUNT",
          "RETIREMENT ACCOUNT",
          "RETIREMENT ACCOUNT",
          "RETIREMENT ACCOUNT",
          "RETIREMENT ACCOUNT",
          "RETIREMENT ACCOUNT",
          "RETIREMENT ACCOUNT",
          "RETIREMENT ACCOUNT",
          "RETIREMENT ACCOUNT",
          "RETIREMENT ACCOUNT",
          "RETIREMENT ACCOUNT",
          "RETIREMENT ACCOUNT",
          "RETIREMENT ACCOUNT",
          "RETIREMENT ACCOUNT",
          "RETIREMENT ACCOUNT",
          "RETIREMENT ACCOUNT",
          "RETIREMENT ACCOUNT",
          "RETIREMENT ACCOUNT",
          "RETIREMENT ACCOUNT",
          "RETIREMENT ACCOUNT",
          "RETIREMENT ACCOUNT",
          "RETIREMENT ACCOUNT",
          "RETIREMENT ACCOUNT",
          "RETIREMENT ACCOUNT",
          "RETIREMENT ACCOUNT",
          "RETIREMENT ACCOUNT",
          "RETIREMENT ACCOUNT",
          "RETIREMENT ACCOUNT",
          "RETIREMENT ACCOUNT",
          "RETIREMENT ACCOUNT",
          "RETIREMENT ACCOUNT",
          "RETIREMENT ACCOUNT",
          "RETIREMENT ACCOUNT",
          "RETIREMENT ACCOUNT",
          "RETIREMENT ACCOUNT",
          "RETIREMENT ACCOUNT",
          "RETIREMENT ACCOUNT",
          "RETIREMENT ACCOUNT",
          "RETIREMENT ACCOUNT",
          "RETIREMENT ACCOUNT",
          "RETIREMENT ACCOUNT",
          "RETIREMENT ACCOUNT",
          "RETIREMENT ACCOUNT",
          "RETIREMENT ACCOUNT",
          "RETIREMENT ACCOUNT",
          "RETIREMENT ACCOUNT",
          "RETIREMENT ACCOUNT",
          "RETIREMENT ACCOUNT",
          "RETIREMENT ACCOUNT",
          "RETIREMENT ACCOUNT",
          "RETIREMENT ACCOUNT",
          "RETIREMENT ACCOUNT",
          "RETIREMENT ACCOUNT",
          "RETIREMENT ACCOUNT",
          "RETIREMENT ACCOUNT",
          "RETIREMENT ACCOUNT",
          "RETIREMENT ACCOUNT",
          "RETIREMENT ACCOUNT",
          "RETIREMENT ACCOUNT",
          "RETIREMENT ACCOUNT",
          "RETIREMENT ACCOUNT",
          "RETIREMENT ACCOUNT",
          "RETIREMENT ACCOUNT",
          "RETIREMENT ACCOUNT",
          "RETIREMENT ACCOUNT",
          "RETIREMENT ACCOUNT",
          "RETIREMENT ACCOUNT",
          "RETIREMENT ACCOUNT",
          "RETIREMENT ACCOUNT",
          "RETIREMENT ACCOUNT",
          "RETIREMENT ACCOUNT",
          "RETIREMENT ACCOUNT",
          "RETIREMENT ACCOUNT",
          "RETIREMENT ACCOUNT",
          "RETIREMENT ACCOUNT",
          "RETIREMENT ACCOUNT",
          "RETIREMENT ACCOUNT",
          "RETIREMENT ACCOUNT",
          "RETIREMENT ACCOUNT",
          "RETIREMENT ACCOUNT",
          "RETIREMENT ACCOUNT",
          "RETIREMENT ACCOUNT",
          "RETIREMENT ACCOUNT",
          "RETIREMENT ACCOUNT",
          "RETIREMENT ACCOUNT",
          "RETIREMENT ACCOUNT",
          "RETIREMENT ACCOUNT",
          "RETIREMENT ACCOUNT",
          "RETIREMENT ACCOUNT",
          "RETIREMENT ACCOUNT",
          "RETIREMENT ACCOUNT",
          "RETIREMENT ACCOUNT",
          "RETIREMENT ACCOUNT",
          "RETIREMENT ACCOUNT",
          "RETIREMENT ACCOUNT",
          "RETIREMENT ACCOUNT",
          "RETIREMENT ACCOUNT",
          "RETIREMENT ACCOUNT",
          "RETIREMENT ACCOUNT",
          "RETIREMENT ACCOUNT",
          "RETIREMENT ACCOUNT",
          "RETIREMENT ACCOUNT",
          "RETIREMENT ACCOUNT",
          "RETIREMENT ACCOUNT",
          "RETIREMENT ACCOUNT",
          "RETIREMENT ACCOUNT",
          "RETIREMENT ACCOUNT",
          "RETIREMENT ACCOUNT",
          "RETIREMENT ACCOUNT",
          "RETIREMENT ACCOUNT",
          "RETIREMENT ACCOUNT",
          "RETIREMENT ACCOUNT",
          "RETIREMENT ACCOUNT",
          "RETIREMENT ACCOUNT",
          "RETIREMENT ACCOUNT",
          "RETIREMENT ACCOUNT",
          "RETIREMENT ACCOUNT",
          "RETIREMENT ACCOUNT",
          "RETIREMENT ACCOUNT",
          "RETIREMENT ACCOUNT",
          "RETIREMENT ACCOUNT",
          "RETIREMENT ACCOUNT",
          "RETIREMENT ACCOUNT",
          "RETIREMENT ACCOUNT",
          "RETIREMENT ACCOUNT",
          "RETIREMENT ACCOUNT",
          "RETIREMENT ACCOUNT",
          "RETIREMENT ACCOUNT",
          "RETIREMENT ACCOUNT",
          "RETIREMENT ACCOUNT",
          "RETIREMENT ACCOUNT",
          "RETIREMENT ACCOUNT",
          "RETIREMENT ACCOUNT",
          "RETIREMENT ACCOUNT",
          "RETIREMENT ACCOUNT",
          "RETIREMENT ACCOUNT",
          "RETIREMENT ACCOUNT",
          "RETIREMENT ACCOUNT",
          "RETIREMENT ACCOUNT",
          "RETIREMENT ACCOUNT",
          "RETIREMENT ACCOUNT",
          "RETIREMENT ACCOUNT",
          "RETIREMENT ACCOUNT",
          "RETIREMENT ACCOUNT",
          "RETIREMENT ACCOUNT",
          "RETIREMENT ACCOUNT",
          "RETIREMENT ACCOUNT",
          "RETIREMENT ACCOUNT",
          "RETIREMENT ACCOUNT",
          "RETIREMENT ACCOUNT",
          "RETIREMENT ACCOUNT",
          "RETIREMENT ACCOUNT",
          "RETIREMENT ACCOUNT",
          "RETIREMENT ACCOUNT",
          "RETIREMENT ACCOUNT",
          "RETIREMENT ACCOUNT",
          "RETIREMENT ACCOUNT",
          "RETIREMENT ACCOUNT",
          "RETIREMENT ACCOUNT",
          "RETIREMENT ACCOUNT",
          "RETIREMENT ACCOUNT",
          "RETIREMENT ACCOUNT",
          "RETIREMENT ACCOUNT",
          "RETIREMENT ACCOUNT",
          "RETIREMENT ACCOUNT",
          "RETIREMENT ACCOUNT",
          "RETIREMENT ACCOUNT",
          "RETIREMENT ACCOUNT",
          "RETIREMENT ACCOUNT",
          "RETIREMENT ACCOUNT",
          "RETIREMENT ACCOUNT",
          "RETIREMENT ACCOUNT",
          "RETIREMENT ACCOUNT",
          "RETIREMENT ACCOUNT",
          "RETIREMENT ACCOUNT",
          "RETIREMENT ACCOUNT",
          "RETIREMENT ACCOUNT",
          "RETIREMENT ACCOUNT",
          "RETIREMENT ACCOUNT",
          "RETIREMENT ACCOUNT",
          "RETIREMENT ACCOUNT",
          "RETIREMENT ACCOUNT",
          "RETIREMENT ACCOUNT",
          "RETIREMENT ACCOUNT",
          "RETIREMENT ACCOUNT",
          "RETIREMENT ACCOUNT",
          "RETIREMENT ACCOUNT",
          "RETIREMENT ACCOUNT",
          "RETIREMENT ACCOUNT",
          "RETIREMENT ACCOUNT",
          "RETIREMENT ACCOUNT",
          "RETIREMENT ACCOUNT",
          "RETIREMENT ACCOUNT",
          "RETIREMENT ACCOUNT",
          "RETIREMENT ACCOUNT",
          "RETIREMENT ACCOUNT",
          "RETIREMENT ACCOUNT",
          "RETIREMENT ACCOUNT",
          "RETIREMENT ACCOUNT",
          "RETIREMENT ACCOUNT",
          "RETIREMENT ACCOUNT",
          "RETIREMENT ACCOUNT",
          "RETIREMENT ACCOUNT",
          "RETIREMENT ACCOUNT",
          "RETIREMENT ACCOUNT",
          "RETIREMENT ACCOUNT",
          "RETIREMENT ACCOUNT",
          "RETIREMENT ACCOUNT",
          "RETIREMENT ACCOUNT",
          "RETIREMENT ACCOUNT",
          "RETIREMENT ACCOUNT",
          "RETIREMENT ACCOUNT",
          "RETIREMENT ACCOUNT",
          "RETIREMENT ACCOUNT",
          "RETIREMENT ACCOUNT",
          "RETIREMENT ACCOUNT",
          "RETIREMENT ACCOUNT",
          "RETIREMENT ACCOUNT",
          "RETIREMENT ACCOUNT",
          "RETIREMENT ACCOUNT",
          "RETIREMENT ACCOUNT",
          "RETIREMENT ACCOUNT",
          "RETIREMENT ACCOUNT",
          "RETIREMENT ACCOUNT",
          "RETIREMENT ACCOUNT",
          "RETIREMENT ACCOUNT",
          "RETIREMENT ACCOUNT",
          "RETIREMENT ACCOUNT",
          "RETIREMENT ACCOUNT",
          "RETIREMENT ACCOUNT",
          "RETIREMENT ACCOUNT",
          "RETIREMENT ACCOUNT",
          "RETIREMENT ACCOUNT",
          "RETIREMENT ACCOUNT",
          "RETIREMENT ACCOUNT",
          "RETIREMENT ACCOUNT",
          "RETIREMENT ACCOUNT",
          "RETIREMENT ACCOUNT",
          "RETIREMENT ACCOUNT",
          "RETIREMENT ACCOUNT",
          "RETIREMENT ACCOUNT",
          "RETIREMENT ACCOUNT",
          "RETIREMENT ACCOUNT",
          "RETIREMENT ACCOUNT",
          "RETIREMENT ACCOUNT",
          "RETIREMENT ACCOUNT",
          "RETIREMENT ACCOUNT",
          "RETIREMENT ACCOUNT",
          "RETIREMENT ACCOUNT",
          "RETIREMENT ACCOUNT",
          "RETIREMENT ACCOUNT",
          "RETIREMENT ACCOUNT",
          "RETIREMENT ACCOUNT",
          "RETIREMENT ACCOUNT",
          "RETIREMENT ACCOUNT",
          "RETIREMENT ACCOUNT",
          "RETIREMENT ACCOUNT",
          "RETIREMENT ACCOUNT",
          "RETIREMENT ACCOUNT",
          "RETIREMENT ACCOUNT",
          "RETIREMENT ACCOUNT",
          "RETIREMENT ACCOUNT",
          "RETIREMENT ACCOUNT",
          "RETIREMENT ACCOUNT",
          "RETIREMENT ACCOUNT",
          "RETIREMENT ACCOUNT",
          "RETIREMENT ACCOUNT",
          "RETIREMENT ACCOUNT",
          "RETIREMENT ACCOUNT",
          "RETIREMENT ACCOUNT",
          "RETIREMENT ACCOUNT",
          "RETIREMENT ACCOUNT",
          "RETIREMENT ACCOUNT",
          "RETIREMENT ACCOUNT",
          "RETIREMENT ACCOUNT",
          "RETIREMENT ACCOUNT",
          "RETIREMENT ACCOUNT",
          "RETIREMENT ACCOUNT",
          "RETIREMENT ACCOUNT",
          "RETIREMENT ACCOUNT",
          "RETIREMENT ACCOUNT",
          "RETIREMENT ACCOUNT",
          "RETIREMENT ACCOUNT",
          "RETIREMENT ACCOUNT",
          "RETIREMENT ACCOUNT",
          "RETIREMENT ACCOUNT",
          "RETIREMENT ACCOUNT",
          "RETIREMENT ACCOUNT",
          "RETIREMENT ACCOUNT",
          "RETIREMENT ACCOUNT",
          "RETIREMENT ACCOUNT",
          "RETIREMENT ACCOUNT",
          "RETIREMENT ACCOUNT",
          "RETIREMENT ACCOUNT",
          "RETIREMENT ACCOUNT",
          "RETIREMENT ACCOUNT",
          "RETIREMENT ACCOUNT",
          "RETIREMENT ACCOUNT",
          "RETIREMENT ACCOUNT",
          "RETIREMENT ACCOUNT",
          "RETIREMENT ACCOUNT",
          "RETIREMENT ACCOUNT",
          "RETIREMENT ACCOUNT",
          "RETIREMENT ACCOUNT",
          "RETIREMENT ACCOUNT",
          "RETIREMENT ACCOUNT",
          "RETIREMENT ACCOUNT",
          "RETIREMENT ACCOUNT",
          "RETIREMENT ACCOUNT",
          "RETIREMENT ACCOUNT",
          "RETIREMENT ACCOUNT",
          "RETIREMENT ACCOUNT",
          "RETIREMENT ACCOUNT",
          "RETIREMENT ACCOUNT",
          "RETIREMENT ACCOUNT",
          "RETIREMENT ACCOUNT",
          "RETIREMENT ACCOUNT",
          "RETIREMENT ACCOUNT",
          "RETIREMENT ACCOUNT",
          "RETIREMENT ACCOUNT",
          "RETIREMENT ACCOUNT",
          "RETIREMENT ACCOUNT",
          "RETIREMENT ACCOUNT",
          "RETIREMENT ACCOUNT",
          "RETIREMENT ACCOUNT",
          "RETIREMENT ACCOUNT",
          "RETIREMENT ACCOUNT",
          "RETIREMENT ACCOUNT",
          "RETIREMENT ACCOUNT",
          "RETIREMENT ACCOUNT",
          "RETIREMENT ACCOUNT",
          "RETIREMENT ACCOUNT",
          "RETIREMENT ACCOUNT",
          "RETIREMENT ACCOUNT",
          "RETIREMENT ACCOUNT",
          "RETIREMENT ACCOUNT",
          "RETIREMENT ACCOUNT",
          "RETIREMENT ACCOUNT",
          "RETIREMENT ACCOUNT",
          "RETIREMENT ACCOUNT",
          "RETIREMENT ACCOUNT",
          "RETIREMENT ACCOUNT",
          "RETIREMENT ACCOUNT",
          "RETIREMENT ACCOUNT",
          "RETIREMENT ACCOUNT",
          "RETIREMENT ACCOUNT",
          "RETIREMENT ACCOUNT",
          "RETIREMENT ACCOUNT",
          "RETIREMENT ACCOUNT",
          "RETIREMENT ACCOUNT",
          "RETIREMENT ACCOUNT",
          "RETIREMENT ACCOUNT",
          "RETIREMENT ACCOUNT",
          "RETIREMENT ACCOUNT",
          "RETIREMENT ACCOUNT",
          "RETIREMENT ACCOUNT",
          "RETIREMENT ACCOUNT",
          "RETIREMENT ACCOUNT",
          "RETIREMENT ACCOUNT",
          "RETIREMENT ACCOUNT",
          "RETIREMENT ACCOUNT",
          "RETIREMENT ACCOUNT",
          "RETIREMENT ACCOUNT",
          "RETIREMENT ACCOUNT",
          "RETIREMENT ACCOUNT",
          "RETIREMENT ACCOUNT",
          "RETIREMENT ACCOUNT",
          "RETIREMENT ACCOUNT",
          "RETIREMENT ACCOUNT",
          "RETIREMENT ACCOUNT",
          "RETIREMENT ACCOUNT",
          "RETIREMENT ACCOUNT",
          "RETIREMENT ACCOUNT",
          "RETIREMENT ACCOUNT",
          "RETIREMENT ACCOUNT",
          "RETIREMENT ACCOUNT",
          "RETIREMENT ACCOUNT",
          "RETIREMENT ACCOUNT",
          "RETIREMENT ACCOUNT",
          "RETIREMENT ACCOUNT",
          "RETIREMENT ACCOUNT",
          "RETIREMENT ACCOUNT",
          "RETIREMENT ACCOUNT",
          "RETIREMENT ACCOUNT",
          "RETIREMENT ACCOUNT",
          "RETIREMENT ACCOUNT",
          "RETIREMENT ACCOUNT",
          "RETIREMENT ACCOUNT",
          "RETIREMENT ACCOUNT",
          "RETIREMENT ACCOUNT",
          "RETIREMENT ACCOUNT",
          "RETIREMENT ACCOUNT",
          "RETIREMENT ACCOUNT",
          "RETIREMENT ACCOUNT",
          "RETIREMENT ACCOUNT",
          "RETIREMENT ACCOUNT",
          "RETIREMENT ACCOUNT",
          "RETIREMENT ACCOUNT",
          "RETIREMENT ACCOUNT",
          "RETIREMENT ACCOUNT",
          "RETIREMENT ACCOUNT",
          "RETIREMENT ACCOUNT",
          "RETIREMENT ACCOUNT",
          "RETIREMENT ACCOUNT",
          "RETIREMENT ACCOUNT",
          "RETIREMENT ACCOUNT",
          "RETIREMENT ACCOUNT",
          "RETIREMENT ACCOUNT",
          "RETIREMENT ACCOUNT",
          "RETIREMENT ACCOUNT",
          "RETIREMENT ACCOUNT",
          "RETIREMENT ACCOUNT",
          "RETIREMENT ACCOUNT",
          "RETIREMENT ACCOUNT",
          "RETIREMENT ACCOUNT",
          "RETIREMENT ACCOUNT",
          "RETIREMENT ACCOUNT",
          "RETIREMENT ACCOUNT",
          "RETIREMENT ACCOUNT",
          "RETIREMENT ACCOUNT",
          "RETIREMENT ACCOUNT",
          "RETIREMENT ACCOUNT",
          "RETIREMENT ACCOUNT",
          "RETIREMENT ACCOUNT",
          "RETIREMENT ACCOUNT",
          "RETIREMENT ACCOUNT",
          "RETIREMENT ACCOUNT",
          "RETIREMENT ACCOUNT",
          "RETIREMENT ACCOUNT",
          "RETIREMENT ACCOUNT",
          "RETIREMENT ACCOUNT",
          "RETIREMENT ACCOUNT",
          "RETIREMENT ACCOUNT",
          "RETIREMENT ACCOUNT",
          "RETIREMENT ACCOUNT",
          "RETIREMENT ACCOUNT",
          "RETIREMENT ACCOUNT",
          "RETIREMENT ACCOUNT",
          "RETIREMENT ACCOUNT",
          "RETIREMENT ACCOUNT",
          "RETIREMENT ACCOUNT",
          "RETIREMENT ACCOUNT",
          "RETIREMENT ACCOUNT",
          "RETIREMENT ACCOUNT",
          "RETIREMENT ACCOUNT",
          "RETIREMENT ACCOUNT",
          "RETIREMENT ACCOUNT",
          "RETIREMENT ACCOUNT",
          "RETIREMENT ACCOUNT",
          "RETIREMENT ACCOUNT",
          "RETIREMENT ACCOUNT",
          "RETIREMENT ACCOUNT",
          "RETIREMENT ACCOUNT",
          "RETIREMENT ACCOUNT",
          "RETIREMENT ACCOUNT",
          "RETIREMENT ACCOUNT",
          "RETIREMENT ACCOUNT",
          "RETIREMENT ACCOUNT",
          "RETIREMENT ACCOUNT",
          "RETIREMENT ACCOUNT",
          "RETIREMENT ACCOUNT",
          "RETIREMENT ACCOUNT",
          "RETIREMENT ACCOUNT",
          "RETIREMENT ACCOUNT",
          "RETIREMENT ACCOUNT",
          "RETIREMENT ACCOUNT",
          "RETIREMENT ACCOUNT",
          "RETIREMENT ACCOUNT",
          "RETIREMENT ACCOUNT",
          "RETIREMENT ACCOUNT",
          "RETIREMENT ACCOUNT",
          "RETIREMENT ACCOUNT",
          "RETIREMENT ACCOUNT",
          "RETIREMENT ACCOUNT",
          "RETIREMENT ACCOUNT",
          "RETIREMENT ACCOUNT",
          "RETIREMENT ACCOUNT",
          "RETIREMENT ACCOUNT",
          "RETIREMENT ACCOUNT",
          "RETIREMENT ACCOUNT",
          "RETIREMENT ACCOUNT",
          "RETIREMENT ACCOUNT",
          "RETIREMENT ACCOUNT",
          "RETIREMENT ACCOUNT",
          "RETIREMENT ACCOUNT",
          "RETIREMENT ACCOUNT",
          "RETIREMENT ACCOUNT",
          "RETIREMENT ACCOUNT",
          "RETIREMENT ACCOUNT",
          "RETIREMENT ACCOUNT",
          "RETIREMENT ACCOUNT",
          "RETIREMENT ACCOUNT",
          "RETIREMENT ACCOUNT",
          "RETIREMENT ACCOUNT",
          "RETIREMENT ACCOUNT",
          "RETIREMENT ACCOUNT",
          "RETIREMENT ACCOUNT",
          "RETIREMENT ACCOUNT",
          "RETIREMENT ACCOUNT",
          "RETIREMENT ACCOUNT",
          "RETIREMENT ACCOUNT",
          "RETIREMENT ACCOUNT",
          "RETIREMENT ACCOUNT",
          "RETIREMENT ACCOUNT",
          "RETIREMENT ACCOUNT",
          "RETIREMENT ACCOUNT",
          "RETIREMENT ACCOUNT",
          "RETIREMENT ACCOUNT",
          "RETIREMENT ACCOUNT",
          "RETIREMENT ACCOUNT",
          "RETIREMENT ACCOUNT",
          "RETIREMENT ACCOUNT",
          "RETIREMENT ACCOUNT",
          "RETIREMENT ACCOUNT",
          "RETIREMENT ACCOUNT",
          "RETIREMENT ACCOUNT",
          "RETIREMENT ACCOUNT",
          "RETIREMENT ACCOUNT",
          "RETIREMENT ACCOUNT",
          "RETIREMENT ACCOUNT",
          "RETIREMENT ACCOUNT",
          "RETIREMENT ACCOUNT",
          "RETIREMENT ACCOUNT",
          "RETIREMENT ACCOUNT",
          "RETIREMENT ACCOUNT",
          "RETIREMENT ACCOUNT",
          "RETIREMENT ACCOUNT",
          "RETIREMENT ACCOUNT",
          "RETIREMENT ACCOUNT",
          "RETIREMENT ACCOUNT",
          "RETIREMENT ACCOUNT",
          "RETIREMENT ACCOUNT",
          "RETIREMENT ACCOUNT",
          "RETIREMENT ACCOUNT",
          "RETIREMENT ACCOUNT",
          "RETIREMENT ACCOUNT",
          "RETIREMENT ACCOUNT",
          "RETIREMENT ACCOUNT",
          "RETIREMENT ACCOUNT",
          "RETIREMENT ACCOUNT",
          "RETIREMENT ACCOUNT",
          "RETIREMENT ACCOUNT",
          "RETIREMENT ACCOUNT",
          "RETIREMENT ACCOUNT",
          "RETIREMENT ACCOUNT",
          "RETIREMENT ACCOUNT",
          "RETIREMENT ACCOUNT",
          "RETIREMENT ACCOUNT",
          "RETIREMENT ACCOUNT",
          "RETIREMENT ACCOUNT",
          "RETIREMENT ACCOUNT",
          "RETIREMENT ACCOUNT",
          "RETIREMENT ACCOUNT",
          "RETIREMENT ACCOUNT",
          "RETIREMENT ACCOUNT",
          "RETIREMENT ACCOUNT",
          "RETIREMENT ACCOUNT",
          "RETIREMENT ACCOUNT",
          "RETIREMENT ACCOUNT",
          "RETIREMENT ACCOUNT",
          "RETIREMENT ACCOUNT",
          "RETIREMENT ACCOUNT",
          "RETIREMENT ACCOUNT",
          "RETIREMENT ACCOUNT",
          "RETIREMENT ACCOUNT",
          "RETIREMENT ACCOUNT",
          "RETIREMENT ACCOUNT",
          "RETIREMENT ACCOUNT",
          "RETIREMENT ACCOUNT",
          "RETIREMENT ACCOUNT",
          "RETIREMENT ACCOUNT",
          "RETIREMENT ACCOUNT",
          "RETIREMENT ACCOUNT",
          "RETIREMENT ACCOUNT",
          "RETIREMENT ACCOUNT",
          "RETIREMENT ACCOUNT",
          "RETIREMENT ACCOUNT",
          "RETIREMENT ACCOUNT",
          "RETIREMENT ACCOUNT",
          "RETIREMENT ACCOUNT",
          "RETIREMENT ACCOUNT",
          "RETIREMENT ACCOUNT",
          "RETIREMENT ACCOUNT",
          "RETIREMENT ACCOUNT",
          "RETIREMENT ACCOUNT",
          "RETIREMENT ACCOUNT",
          "RETIREMENT ACCOUNT",
          "RETIREMENT ACCOUNT",
          "RETIREMENT ACCOUNT",
          "RETIREMENT ACCOUNT",
          "RETIREMENT ACCOUNT",
          "RETIREMENT ACCOUNT",
          "RETIREMENT ACCOUNT",
          "RETIREMENT ACCOUNT",
          "RETIREMENT ACCOUNT",
          "RETIREMENT ACCOUNT",
          "RETIREMENT ACCOUNT",
          "RETIREMENT ACCOUNT",
          "RETIREMENT ACCOUNT",
          "RETIREMENT ACCOUNT",
          "RETIREMENT ACCOUNT",
          "RETIREMENT ACCOUNT",
          "RETIREMENT ACCOUNT",
          "RETIREMENT ACCOUNT",
          "RETIREMENT ACCOUNT",
          "RETIREMENT ACCOUNT",
          "RETIREMENT ACCOUNT",
          "RETIREMENT ACCOUNT",
          "RETIREMENT ACCOUNT",
          "RETIREMENT ACCOUNT",
          "RETIREMENT ACCOUNT",
          "RETIREMENT ACCOUNT",
          "RETIREMENT ACCOUNT",
          "RETIREMENT ACCOUNT",
          "RETIREMENT ACCOUNT",
          "RETIREMENT ACCOUNT",
          "RETIREMENT ACCOUNT",
          "RETIREMENT ACCOUNT",
          "RETIREMENT ACCOUNT",
          "RETIREMENT ACCOUNT",
          "RETIREMENT ACCOUNT",
          "RETIREMENT ACCOUNT",
          "RETIREMENT ACCOUNT",
          "RETIREMENT ACCOUNT",
          "RETIREMENT ACCOUNT",
          "RETIREMENT ACCOUNT",
          "RETIREMENT ACCOUNT",
          "RETIREMENT ACCOUNT",
          "RETIREMENT ACCOUNT",
          "RETIREMENT ACCOUNT",
          "RETIREMENT ACCOUNT",
          "RETIREMENT ACCOUNT",
          "RETIREMENT ACCOUNT",
          "RETIREMENT ACCOUNT",
          "RETIREMENT ACCOUNT",
          "RETIREMENT ACCOUNT",
          "RETIREMENT ACCOUNT",
          "RETIREMENT ACCOUNT",
          "RETIREMENT ACCOUNT",
          "RETIREMENT ACCOUNT",
          "RETIREMENT ACCOUNT",
          "RETIREMENT ACCOUNT",
          "RETIREMENT ACCOUNT",
          "RETIREMENT ACCOUNT",
          "RETIREMENT ACCOUNT",
          "RETIREMENT ACCOUNT",
          "RETIREMENT ACCOUNT",
          "RETIREMENT ACCOUNT",
          "RETIREMENT ACCOUNT"
         ],
         "xaxis": "x",
         "yaxis": "y"
        },
        {
         "alignmentgroup": "True",
         "bingroup": "x",
         "hovertemplate": "color=PRUDENTIAL ISA<br>value=%{x}<br>count=%{y}<extra></extra>",
         "legendgroup": "PRUDENTIAL ISA",
         "marker": {
          "color": "#EF553B"
         },
         "name": "PRUDENTIAL ISA",
         "offsetgroup": "PRUDENTIAL ISA",
         "orientation": "v",
         "showlegend": true,
         "type": "histogram",
         "x": [
          "PRUDENTIAL ISA",
          "PRUDENTIAL ISA",
          "PRUDENTIAL ISA",
          "PRUDENTIAL ISA",
          "PRUDENTIAL ISA",
          "PRUDENTIAL ISA",
          "PRUDENTIAL ISA",
          "PRUDENTIAL ISA",
          "PRUDENTIAL ISA",
          "PRUDENTIAL ISA",
          "PRUDENTIAL ISA",
          "PRUDENTIAL ISA",
          "PRUDENTIAL ISA",
          "PRUDENTIAL ISA",
          "PRUDENTIAL ISA",
          "PRUDENTIAL ISA",
          "PRUDENTIAL ISA",
          "PRUDENTIAL ISA",
          "PRUDENTIAL ISA",
          "PRUDENTIAL ISA",
          "PRUDENTIAL ISA",
          "PRUDENTIAL ISA",
          "PRUDENTIAL ISA",
          "PRUDENTIAL ISA",
          "PRUDENTIAL ISA",
          "PRUDENTIAL ISA",
          "PRUDENTIAL ISA",
          "PRUDENTIAL ISA",
          "PRUDENTIAL ISA",
          "PRUDENTIAL ISA",
          "PRUDENTIAL ISA",
          "PRUDENTIAL ISA",
          "PRUDENTIAL ISA",
          "PRUDENTIAL ISA",
          "PRUDENTIAL ISA",
          "PRUDENTIAL ISA",
          "PRUDENTIAL ISA",
          "PRUDENTIAL ISA",
          "PRUDENTIAL ISA",
          "PRUDENTIAL ISA",
          "PRUDENTIAL ISA",
          "PRUDENTIAL ISA",
          "PRUDENTIAL ISA",
          "PRUDENTIAL ISA",
          "PRUDENTIAL ISA",
          "PRUDENTIAL ISA",
          "PRUDENTIAL ISA",
          "PRUDENTIAL ISA",
          "PRUDENTIAL ISA",
          "PRUDENTIAL ISA",
          "PRUDENTIAL ISA",
          "PRUDENTIAL ISA",
          "PRUDENTIAL ISA",
          "PRUDENTIAL ISA",
          "PRUDENTIAL ISA",
          "PRUDENTIAL ISA",
          "PRUDENTIAL ISA",
          "PRUDENTIAL ISA",
          "PRUDENTIAL ISA"
         ],
         "xaxis": "x",
         "yaxis": "y"
        },
        {
         "alignmentgroup": "True",
         "bingroup": "x",
         "hovertemplate": "color=FOCUSSED ISA<br>value=%{x}<br>count=%{y}<extra></extra>",
         "legendgroup": "FOCUSSED ISA",
         "marker": {
          "color": "#00cc96"
         },
         "name": "FOCUSSED ISA",
         "offsetgroup": "FOCUSSED ISA",
         "orientation": "v",
         "showlegend": true,
         "type": "histogram",
         "x": [
          "FOCUSSED ISA",
          "FOCUSSED ISA",
          "FOCUSSED ISA",
          "FOCUSSED ISA",
          "FOCUSSED ISA",
          "FOCUSSED ISA",
          "FOCUSSED ISA",
          "FOCUSSED ISA",
          "FOCUSSED ISA",
          "FOCUSSED ISA",
          "FOCUSSED ISA",
          "FOCUSSED ISA",
          "FOCUSSED ISA",
          "FOCUSSED ISA",
          "FOCUSSED ISA",
          "FOCUSSED ISA",
          "FOCUSSED ISA",
          "FOCUSSED ISA",
          "FOCUSSED ISA",
          "FOCUSSED ISA",
          "FOCUSSED ISA",
          "FOCUSSED ISA",
          "FOCUSSED ISA",
          "FOCUSSED ISA",
          "FOCUSSED ISA",
          "FOCUSSED ISA",
          "FOCUSSED ISA",
          "FOCUSSED ISA",
          "FOCUSSED ISA",
          "FOCUSSED ISA",
          "FOCUSSED ISA",
          "FOCUSSED ISA",
          "FOCUSSED ISA",
          "FOCUSSED ISA",
          "FOCUSSED ISA",
          "FOCUSSED ISA",
          "FOCUSSED ISA",
          "FOCUSSED ISA",
          "FOCUSSED ISA",
          "FOCUSSED ISA",
          "FOCUSSED ISA",
          "FOCUSSED ISA",
          "FOCUSSED ISA",
          "FOCUSSED ISA",
          "FOCUSSED ISA",
          "FOCUSSED ISA",
          "FOCUSSED ISA",
          "FOCUSSED ISA",
          "FOCUSSED ISA",
          "FOCUSSED ISA",
          "FOCUSSED ISA",
          "FOCUSSED ISA",
          "FOCUSSED ISA",
          "FOCUSSED ISA",
          "FOCUSSED ISA",
          "FOCUSSED ISA",
          "FOCUSSED ISA",
          "FOCUSSED ISA",
          "FOCUSSED ISA",
          "FOCUSSED ISA",
          "FOCUSSED ISA",
          "FOCUSSED ISA",
          "FOCUSSED ISA",
          "FOCUSSED ISA",
          "FOCUSSED ISA",
          "FOCUSSED ISA",
          "FOCUSSED ISA",
          "FOCUSSED ISA",
          "FOCUSSED ISA",
          "FOCUSSED ISA",
          "FOCUSSED ISA",
          "FOCUSSED ISA",
          "FOCUSSED ISA",
          "FOCUSSED ISA",
          "FOCUSSED ISA",
          "FOCUSSED ISA",
          "FOCUSSED ISA",
          "FOCUSSED ISA",
          "FOCUSSED ISA",
          "FOCUSSED ISA",
          "FOCUSSED ISA",
          "FOCUSSED ISA",
          "FOCUSSED ISA",
          "FOCUSSED ISA",
          "FOCUSSED ISA",
          "FOCUSSED ISA",
          "FOCUSSED ISA",
          "FOCUSSED ISA",
          "FOCUSSED ISA",
          "FOCUSSED ISA",
          "FOCUSSED ISA",
          "FOCUSSED ISA",
          "FOCUSSED ISA",
          "FOCUSSED ISA",
          "FOCUSSED ISA",
          "FOCUSSED ISA",
          "FOCUSSED ISA",
          "FOCUSSED ISA",
          "FOCUSSED ISA",
          "FOCUSSED ISA",
          "FOCUSSED ISA",
          "FOCUSSED ISA",
          "FOCUSSED ISA",
          "FOCUSSED ISA",
          "FOCUSSED ISA",
          "FOCUSSED ISA",
          "FOCUSSED ISA",
          "FOCUSSED ISA",
          "FOCUSSED ISA",
          "FOCUSSED ISA",
          "FOCUSSED ISA",
          "FOCUSSED ISA",
          "FOCUSSED ISA",
          "FOCUSSED ISA",
          "FOCUSSED ISA",
          "FOCUSSED ISA",
          "FOCUSSED ISA",
          "FOCUSSED ISA",
          "FOCUSSED ISA",
          "FOCUSSED ISA",
          "FOCUSSED ISA",
          "FOCUSSED ISA",
          "FOCUSSED ISA",
          "FOCUSSED ISA",
          "FOCUSSED ISA",
          "FOCUSSED ISA"
         ],
         "xaxis": "x",
         "yaxis": "y"
        },
        {
         "alignmentgroup": "True",
         "bingroup": "x",
         "hovertemplate": "color=SIPP<br>value=%{x}<br>count=%{y}<extra></extra>",
         "legendgroup": "SIPP",
         "marker": {
          "color": "#ab63fa"
         },
         "name": "SIPP",
         "offsetgroup": "SIPP",
         "orientation": "v",
         "showlegend": true,
         "type": "histogram",
         "x": [
          "SIPP",
          "SIPP",
          "SIPP",
          "SIPP",
          "SIPP",
          "SIPP",
          "SIPP",
          "SIPP",
          "SIPP",
          "SIPP",
          "SIPP",
          "SIPP",
          "SIPP",
          "SIPP",
          "SIPP",
          "SIPP",
          "SIPP",
          "SIPP",
          "SIPP",
          "SIPP",
          "SIPP",
          "SIPP",
          "SIPP",
          "SIPP",
          "SIPP",
          "SIPP",
          "SIPP",
          "SIPP",
          "SIPP",
          "SIPP",
          "SIPP",
          "SIPP",
          "SIPP",
          "SIPP",
          "SIPP",
          "SIPP",
          "SIPP",
          "SIPP",
          "SIPP",
          "SIPP",
          "SIPP",
          "SIPP",
          "SIPP",
          "SIPP",
          "SIPP",
          "SIPP",
          "SIPP",
          "SIPP",
          "SIPP",
          "SIPP",
          "SIPP",
          "SIPP",
          "SIPP",
          "SIPP",
          "SIPP",
          "SIPP",
          "SIPP",
          "SIPP",
          "SIPP",
          "SIPP",
          "SIPP",
          "SIPP",
          "SIPP",
          "SIPP",
          "SIPP",
          "SIPP",
          "SIPP",
          "SIPP",
          "SIPP",
          "SIPP",
          "SIPP",
          "SIPP",
          "SIPP",
          "SIPP",
          "SIPP",
          "SIPP",
          "SIPP",
          "SIPP",
          "SIPP",
          "SIPP",
          "SIPP",
          "SIPP",
          "SIPP",
          "SIPP",
          "SIPP",
          "SIPP",
          "SIPP",
          "SIPP",
          "SIPP",
          "SIPP",
          "SIPP",
          "SIPP",
          "SIPP",
          "SIPP",
          "SIPP",
          "SIPP",
          "SIPP",
          "SIPP",
          "SIPP",
          "SIPP",
          "SIPP",
          "SIPP",
          "SIPP",
          "SIPP",
          "SIPP",
          "SIPP",
          "SIPP",
          "SIPP",
          "SIPP",
          "SIPP",
          "SIPP",
          "SIPP",
          "SIPP",
          "SIPP",
          "SIPP",
          "SIPP",
          "SIPP",
          "SIPP",
          "SIPP",
          "SIPP",
          "SIPP",
          "SIPP",
          "SIPP",
          "SIPP",
          "SIPP",
          "SIPP",
          "SIPP",
          "SIPP",
          "SIPP",
          "SIPP",
          "SIPP",
          "SIPP",
          "SIPP",
          "SIPP",
          "SIPP",
          "SIPP",
          "SIPP",
          "SIPP",
          "SIPP",
          "SIPP",
          "SIPP",
          "SIPP",
          "SIPP",
          "SIPP",
          "SIPP",
          "SIPP"
         ],
         "xaxis": "x",
         "yaxis": "y"
        },
        {
         "alignmentgroup": "True",
         "bingroup": "x",
         "hovertemplate": "color=CORPORATE MEMBERSHIP<br>value=%{x}<br>count=%{y}<extra></extra>",
         "legendgroup": "CORPORATE MEMBERSHIP",
         "marker": {
          "color": "#FFA15A"
         },
         "name": "CORPORATE MEMBERSHIP",
         "offsetgroup": "CORPORATE MEMBERSHIP",
         "orientation": "v",
         "showlegend": true,
         "type": "histogram",
         "x": [
          "CORPORATE MEMBERSHIP",
          "CORPORATE MEMBERSHIP",
          "CORPORATE MEMBERSHIP",
          "CORPORATE MEMBERSHIP",
          "CORPORATE MEMBERSHIP",
          "CORPORATE MEMBERSHIP",
          "CORPORATE MEMBERSHIP",
          "CORPORATE MEMBERSHIP",
          "CORPORATE MEMBERSHIP",
          "CORPORATE MEMBERSHIP",
          "CORPORATE MEMBERSHIP",
          "CORPORATE MEMBERSHIP",
          "CORPORATE MEMBERSHIP",
          "CORPORATE MEMBERSHIP",
          "CORPORATE MEMBERSHIP",
          "CORPORATE MEMBERSHIP",
          "CORPORATE MEMBERSHIP",
          "CORPORATE MEMBERSHIP",
          "CORPORATE MEMBERSHIP",
          "CORPORATE MEMBERSHIP",
          "CORPORATE MEMBERSHIP"
         ],
         "xaxis": "x",
         "yaxis": "y"
        },
        {
         "alignmentgroup": "True",
         "bingroup": "x",
         "hovertemplate": "color=NHS PENSION<br>value=%{x}<br>count=%{y}<extra></extra>",
         "legendgroup": "NHS PENSION",
         "marker": {
          "color": "#19d3f3"
         },
         "name": "NHS PENSION",
         "offsetgroup": "NHS PENSION",
         "orientation": "v",
         "showlegend": true,
         "type": "histogram",
         "x": [
          "NHS PENSION",
          "NHS PENSION",
          "NHS PENSION",
          "NHS PENSION"
         ],
         "xaxis": "x",
         "yaxis": "y"
        },
        {
         "alignmentgroup": "True",
         "bingroup": "x",
         "hovertemplate": "color=PRU BOND<br>value=%{x}<br>count=%{y}<extra></extra>",
         "legendgroup": "PRU BOND",
         "marker": {
          "color": "#FF6692"
         },
         "name": "PRU BOND",
         "offsetgroup": "PRU BOND",
         "orientation": "v",
         "showlegend": true,
         "type": "histogram",
         "x": [
          "PRU BOND",
          "PRU BOND",
          "PRU BOND",
          "PRU BOND",
          "PRU BOND",
          "PRU BOND",
          "PRU BOND",
          "PRU BOND",
          "PRU BOND",
          "PRU BOND",
          "PRU BOND",
          "PRU BOND",
          "PRU BOND",
          "PRU BOND",
          "PRU BOND",
          "PRU BOND",
          "PRU BOND",
          "PRU BOND",
          "PRU BOND",
          "PRU BOND",
          "PRU BOND",
          "PRU BOND",
          "PRU BOND",
          "PRU BOND",
          "PRU BOND",
          "PRU BOND",
          "PRU BOND",
          "PRU BOND",
          "PRU BOND",
          "PRU BOND",
          "PRU BOND",
          "PRU BOND",
          "PRU BOND",
          "PRU BOND",
          "PRU BOND",
          "PRU BOND",
          "PRU BOND",
          "PRU BOND",
          "PRU BOND",
          "PRU BOND",
          "PRU BOND",
          "PRU BOND",
          "PRU BOND",
          "PRU BOND",
          "PRU BOND",
          "PRU BOND",
          "PRU BOND",
          "PRU BOND",
          "PRU BOND",
          "PRU BOND",
          "PRU BOND",
          "PRU BOND",
          "PRU BOND",
          "PRU BOND",
          "PRU BOND",
          "PRU BOND",
          "PRU BOND",
          "PRU BOND",
          "PRU BOND"
         ],
         "xaxis": "x",
         "yaxis": "y"
        },
        {
         "alignmentgroup": "True",
         "bingroup": "x",
         "hovertemplate": "color=PRUDENTIAL INVESTMENT PLAN<br>value=%{x}<br>count=%{y}<extra></extra>",
         "legendgroup": "PRUDENTIAL INVESTMENT PLAN",
         "marker": {
          "color": "#B6E880"
         },
         "name": "PRUDENTIAL INVESTMENT PLAN",
         "offsetgroup": "PRUDENTIAL INVESTMENT PLAN",
         "orientation": "v",
         "showlegend": true,
         "type": "histogram",
         "x": [
          "PRUDENTIAL INVESTMENT PLAN",
          "PRUDENTIAL INVESTMENT PLAN",
          "PRUDENTIAL INVESTMENT PLAN",
          "PRUDENTIAL INVESTMENT PLAN",
          "PRUDENTIAL INVESTMENT PLAN",
          "PRUDENTIAL INVESTMENT PLAN",
          "PRUDENTIAL INVESTMENT PLAN",
          "PRUDENTIAL INVESTMENT PLAN",
          "PRUDENTIAL INVESTMENT PLAN",
          "PRUDENTIAL INVESTMENT PLAN",
          "PRUDENTIAL INVESTMENT PLAN",
          "PRUDENTIAL INVESTMENT PLAN",
          "PRUDENTIAL INVESTMENT PLAN",
          "PRUDENTIAL INVESTMENT PLAN",
          "PRUDENTIAL INVESTMENT PLAN",
          "PRUDENTIAL INVESTMENT PLAN",
          "PRUDENTIAL INVESTMENT PLAN",
          "PRUDENTIAL INVESTMENT PLAN",
          "PRUDENTIAL INVESTMENT PLAN",
          "PRUDENTIAL INVESTMENT PLAN",
          "PRUDENTIAL INVESTMENT PLAN",
          "PRUDENTIAL INVESTMENT PLAN",
          "PRUDENTIAL INVESTMENT PLAN",
          "PRUDENTIAL INVESTMENT PLAN",
          "PRUDENTIAL INVESTMENT PLAN",
          "PRUDENTIAL INVESTMENT PLAN",
          "PRUDENTIAL INVESTMENT PLAN",
          "PRUDENTIAL INVESTMENT PLAN",
          "PRUDENTIAL INVESTMENT PLAN",
          "PRUDENTIAL INVESTMENT PLAN",
          "PRUDENTIAL INVESTMENT PLAN",
          "PRUDENTIAL INVESTMENT PLAN",
          "PRUDENTIAL INVESTMENT PLAN",
          "PRUDENTIAL INVESTMENT PLAN",
          "PRUDENTIAL INVESTMENT PLAN",
          "PRUDENTIAL INVESTMENT PLAN",
          "PRUDENTIAL INVESTMENT PLAN",
          "PRUDENTIAL INVESTMENT PLAN",
          "PRUDENTIAL INVESTMENT PLAN",
          "PRUDENTIAL INVESTMENT PLAN",
          "PRUDENTIAL INVESTMENT PLAN",
          "PRUDENTIAL INVESTMENT PLAN",
          "PRUDENTIAL INVESTMENT PLAN",
          "PRUDENTIAL INVESTMENT PLAN",
          "PRUDENTIAL INVESTMENT PLAN",
          "PRUDENTIAL INVESTMENT PLAN",
          "PRUDENTIAL INVESTMENT PLAN",
          "PRUDENTIAL INVESTMENT PLAN",
          "PRUDENTIAL INVESTMENT PLAN",
          "PRUDENTIAL INVESTMENT PLAN",
          "PRUDENTIAL INVESTMENT PLAN",
          "PRUDENTIAL INVESTMENT PLAN",
          "PRUDENTIAL INVESTMENT PLAN",
          "PRUDENTIAL INVESTMENT PLAN",
          "PRUDENTIAL INVESTMENT PLAN",
          "PRUDENTIAL INVESTMENT PLAN",
          "PRUDENTIAL INVESTMENT PLAN",
          "PRUDENTIAL INVESTMENT PLAN",
          "PRUDENTIAL INVESTMENT PLAN",
          "PRUDENTIAL INVESTMENT PLAN",
          "PRUDENTIAL INVESTMENT PLAN",
          "PRUDENTIAL INVESTMENT PLAN",
          "PRUDENTIAL INVESTMENT PLAN",
          "PRUDENTIAL INVESTMENT PLAN",
          "PRUDENTIAL INVESTMENT PLAN",
          "PRUDENTIAL INVESTMENT PLAN",
          "PRUDENTIAL INVESTMENT PLAN",
          "PRUDENTIAL INVESTMENT PLAN",
          "PRUDENTIAL INVESTMENT PLAN",
          "PRUDENTIAL INVESTMENT PLAN",
          "PRUDENTIAL INVESTMENT PLAN",
          "PRUDENTIAL INVESTMENT PLAN",
          "PRUDENTIAL INVESTMENT PLAN",
          "PRUDENTIAL INVESTMENT PLAN",
          "PRUDENTIAL INVESTMENT PLAN",
          "PRUDENTIAL INVESTMENT PLAN",
          "PRUDENTIAL INVESTMENT PLAN",
          "PRUDENTIAL INVESTMENT PLAN",
          "PRUDENTIAL INVESTMENT PLAN",
          "PRUDENTIAL INVESTMENT PLAN",
          "PRUDENTIAL INVESTMENT PLAN",
          "PRUDENTIAL INVESTMENT PLAN",
          "PRUDENTIAL INVESTMENT PLAN",
          "PRUDENTIAL INVESTMENT PLAN",
          "PRUDENTIAL INVESTMENT PLAN",
          "PRUDENTIAL INVESTMENT PLAN",
          "PRUDENTIAL INVESTMENT PLAN",
          "PRUDENTIAL INVESTMENT PLAN",
          "PRUDENTIAL INVESTMENT PLAN",
          "PRUDENTIAL INVESTMENT PLAN",
          "PRUDENTIAL INVESTMENT PLAN",
          "PRUDENTIAL INVESTMENT PLAN",
          "PRUDENTIAL INVESTMENT PLAN",
          "PRUDENTIAL INVESTMENT PLAN",
          "PRUDENTIAL INVESTMENT PLAN",
          "PRUDENTIAL INVESTMENT PLAN",
          "PRUDENTIAL INVESTMENT PLAN",
          "PRUDENTIAL INVESTMENT PLAN",
          "PRUDENTIAL INVESTMENT PLAN"
         ],
         "xaxis": "x",
         "yaxis": "y"
        },
        {
         "alignmentgroup": "True",
         "bingroup": "x",
         "hovertemplate": "color=STANDARD ANNUITY<br>value=%{x}<br>count=%{y}<extra></extra>",
         "legendgroup": "STANDARD ANNUITY",
         "marker": {
          "color": "#FF97FF"
         },
         "name": "STANDARD ANNUITY",
         "offsetgroup": "STANDARD ANNUITY",
         "orientation": "v",
         "showlegend": true,
         "type": "histogram",
         "x": [
          "STANDARD ANNUITY",
          "STANDARD ANNUITY",
          "STANDARD ANNUITY",
          "STANDARD ANNUITY",
          "STANDARD ANNUITY",
          "STANDARD ANNUITY",
          "STANDARD ANNUITY",
          "STANDARD ANNUITY",
          "STANDARD ANNUITY",
          "STANDARD ANNUITY",
          "STANDARD ANNUITY",
          "STANDARD ANNUITY",
          "STANDARD ANNUITY",
          "STANDARD ANNUITY",
          "STANDARD ANNUITY",
          "STANDARD ANNUITY",
          "STANDARD ANNUITY",
          "STANDARD ANNUITY",
          "STANDARD ANNUITY",
          "STANDARD ANNUITY",
          "STANDARD ANNUITY",
          "STANDARD ANNUITY",
          "STANDARD ANNUITY",
          "STANDARD ANNUITY",
          "STANDARD ANNUITY",
          "STANDARD ANNUITY",
          "STANDARD ANNUITY",
          "STANDARD ANNUITY",
          "STANDARD ANNUITY",
          "STANDARD ANNUITY",
          "STANDARD ANNUITY",
          "STANDARD ANNUITY",
          "STANDARD ANNUITY",
          "STANDARD ANNUITY",
          "STANDARD ANNUITY",
          "STANDARD ANNUITY",
          "STANDARD ANNUITY",
          "STANDARD ANNUITY",
          "STANDARD ANNUITY",
          "STANDARD ANNUITY",
          "STANDARD ANNUITY",
          "STANDARD ANNUITY",
          "STANDARD ANNUITY",
          "STANDARD ANNUITY",
          "STANDARD ANNUITY",
          "STANDARD ANNUITY",
          "STANDARD ANNUITY",
          "STANDARD ANNUITY",
          "STANDARD ANNUITY",
          "STANDARD ANNUITY",
          "STANDARD ANNUITY",
          "STANDARD ANNUITY",
          "STANDARD ANNUITY",
          "STANDARD ANNUITY",
          "STANDARD ANNUITY",
          "STANDARD ANNUITY",
          "STANDARD ANNUITY",
          "STANDARD ANNUITY",
          "STANDARD ANNUITY",
          "STANDARD ANNUITY",
          "STANDARD ANNUITY",
          "STANDARD ANNUITY",
          "STANDARD ANNUITY",
          "STANDARD ANNUITY",
          "STANDARD ANNUITY",
          "STANDARD ANNUITY",
          "STANDARD ANNUITY",
          "STANDARD ANNUITY",
          "STANDARD ANNUITY",
          "STANDARD ANNUITY",
          "STANDARD ANNUITY",
          "STANDARD ANNUITY",
          "STANDARD ANNUITY",
          "STANDARD ANNUITY",
          "STANDARD ANNUITY",
          "STANDARD ANNUITY",
          "STANDARD ANNUITY",
          "STANDARD ANNUITY",
          "STANDARD ANNUITY",
          "STANDARD ANNUITY",
          "STANDARD ANNUITY",
          "STANDARD ANNUITY",
          "STANDARD ANNUITY",
          "STANDARD ANNUITY",
          "STANDARD ANNUITY",
          "STANDARD ANNUITY",
          "STANDARD ANNUITY",
          "STANDARD ANNUITY",
          "STANDARD ANNUITY",
          "STANDARD ANNUITY",
          "STANDARD ANNUITY",
          "STANDARD ANNUITY",
          "STANDARD ANNUITY",
          "STANDARD ANNUITY",
          "STANDARD ANNUITY",
          "STANDARD ANNUITY",
          "STANDARD ANNUITY",
          "STANDARD ANNUITY",
          "STANDARD ANNUITY",
          "STANDARD ANNUITY",
          "STANDARD ANNUITY",
          "STANDARD ANNUITY",
          "STANDARD ANNUITY",
          "STANDARD ANNUITY",
          "STANDARD ANNUITY",
          "STANDARD ANNUITY",
          "STANDARD ANNUITY",
          "STANDARD ANNUITY",
          "STANDARD ANNUITY",
          "STANDARD ANNUITY",
          "STANDARD ANNUITY",
          "STANDARD ANNUITY",
          "STANDARD ANNUITY",
          "STANDARD ANNUITY",
          "STANDARD ANNUITY",
          "STANDARD ANNUITY",
          "STANDARD ANNUITY",
          "STANDARD ANNUITY",
          "STANDARD ANNUITY",
          "STANDARD ANNUITY",
          "STANDARD ANNUITY",
          "STANDARD ANNUITY"
         ],
         "xaxis": "x",
         "yaxis": "y"
        }
       ],
       "layout": {
        "barmode": "relative",
        "legend": {
         "title": {
          "text": "color"
         },
         "tracegroupgap": 0
        },
        "template": {
         "data": {
          "bar": [
           {
            "error_x": {
             "color": "#2a3f5f"
            },
            "error_y": {
             "color": "#2a3f5f"
            },
            "marker": {
             "line": {
              "color": "#E5ECF6",
              "width": 0.5
             }
            },
            "type": "bar"
           }
          ],
          "barpolar": [
           {
            "marker": {
             "line": {
              "color": "#E5ECF6",
              "width": 0.5
             }
            },
            "type": "barpolar"
           }
          ],
          "carpet": [
           {
            "aaxis": {
             "endlinecolor": "#2a3f5f",
             "gridcolor": "white",
             "linecolor": "white",
             "minorgridcolor": "white",
             "startlinecolor": "#2a3f5f"
            },
            "baxis": {
             "endlinecolor": "#2a3f5f",
             "gridcolor": "white",
             "linecolor": "white",
             "minorgridcolor": "white",
             "startlinecolor": "#2a3f5f"
            },
            "type": "carpet"
           }
          ],
          "choropleth": [
           {
            "colorbar": {
             "outlinewidth": 0,
             "ticks": ""
            },
            "type": "choropleth"
           }
          ],
          "contour": [
           {
            "colorbar": {
             "outlinewidth": 0,
             "ticks": ""
            },
            "colorscale": [
             [
              0,
              "#0d0887"
             ],
             [
              0.1111111111111111,
              "#46039f"
             ],
             [
              0.2222222222222222,
              "#7201a8"
             ],
             [
              0.3333333333333333,
              "#9c179e"
             ],
             [
              0.4444444444444444,
              "#bd3786"
             ],
             [
              0.5555555555555556,
              "#d8576b"
             ],
             [
              0.6666666666666666,
              "#ed7953"
             ],
             [
              0.7777777777777778,
              "#fb9f3a"
             ],
             [
              0.8888888888888888,
              "#fdca26"
             ],
             [
              1,
              "#f0f921"
             ]
            ],
            "type": "contour"
           }
          ],
          "contourcarpet": [
           {
            "colorbar": {
             "outlinewidth": 0,
             "ticks": ""
            },
            "type": "contourcarpet"
           }
          ],
          "heatmap": [
           {
            "colorbar": {
             "outlinewidth": 0,
             "ticks": ""
            },
            "colorscale": [
             [
              0,
              "#0d0887"
             ],
             [
              0.1111111111111111,
              "#46039f"
             ],
             [
              0.2222222222222222,
              "#7201a8"
             ],
             [
              0.3333333333333333,
              "#9c179e"
             ],
             [
              0.4444444444444444,
              "#bd3786"
             ],
             [
              0.5555555555555556,
              "#d8576b"
             ],
             [
              0.6666666666666666,
              "#ed7953"
             ],
             [
              0.7777777777777778,
              "#fb9f3a"
             ],
             [
              0.8888888888888888,
              "#fdca26"
             ],
             [
              1,
              "#f0f921"
             ]
            ],
            "type": "heatmap"
           }
          ],
          "heatmapgl": [
           {
            "colorbar": {
             "outlinewidth": 0,
             "ticks": ""
            },
            "colorscale": [
             [
              0,
              "#0d0887"
             ],
             [
              0.1111111111111111,
              "#46039f"
             ],
             [
              0.2222222222222222,
              "#7201a8"
             ],
             [
              0.3333333333333333,
              "#9c179e"
             ],
             [
              0.4444444444444444,
              "#bd3786"
             ],
             [
              0.5555555555555556,
              "#d8576b"
             ],
             [
              0.6666666666666666,
              "#ed7953"
             ],
             [
              0.7777777777777778,
              "#fb9f3a"
             ],
             [
              0.8888888888888888,
              "#fdca26"
             ],
             [
              1,
              "#f0f921"
             ]
            ],
            "type": "heatmapgl"
           }
          ],
          "histogram": [
           {
            "marker": {
             "colorbar": {
              "outlinewidth": 0,
              "ticks": ""
             }
            },
            "type": "histogram"
           }
          ],
          "histogram2d": [
           {
            "colorbar": {
             "outlinewidth": 0,
             "ticks": ""
            },
            "colorscale": [
             [
              0,
              "#0d0887"
             ],
             [
              0.1111111111111111,
              "#46039f"
             ],
             [
              0.2222222222222222,
              "#7201a8"
             ],
             [
              0.3333333333333333,
              "#9c179e"
             ],
             [
              0.4444444444444444,
              "#bd3786"
             ],
             [
              0.5555555555555556,
              "#d8576b"
             ],
             [
              0.6666666666666666,
              "#ed7953"
             ],
             [
              0.7777777777777778,
              "#fb9f3a"
             ],
             [
              0.8888888888888888,
              "#fdca26"
             ],
             [
              1,
              "#f0f921"
             ]
            ],
            "type": "histogram2d"
           }
          ],
          "histogram2dcontour": [
           {
            "colorbar": {
             "outlinewidth": 0,
             "ticks": ""
            },
            "colorscale": [
             [
              0,
              "#0d0887"
             ],
             [
              0.1111111111111111,
              "#46039f"
             ],
             [
              0.2222222222222222,
              "#7201a8"
             ],
             [
              0.3333333333333333,
              "#9c179e"
             ],
             [
              0.4444444444444444,
              "#bd3786"
             ],
             [
              0.5555555555555556,
              "#d8576b"
             ],
             [
              0.6666666666666666,
              "#ed7953"
             ],
             [
              0.7777777777777778,
              "#fb9f3a"
             ],
             [
              0.8888888888888888,
              "#fdca26"
             ],
             [
              1,
              "#f0f921"
             ]
            ],
            "type": "histogram2dcontour"
           }
          ],
          "mesh3d": [
           {
            "colorbar": {
             "outlinewidth": 0,
             "ticks": ""
            },
            "type": "mesh3d"
           }
          ],
          "parcoords": [
           {
            "line": {
             "colorbar": {
              "outlinewidth": 0,
              "ticks": ""
             }
            },
            "type": "parcoords"
           }
          ],
          "pie": [
           {
            "automargin": true,
            "type": "pie"
           }
          ],
          "scatter": [
           {
            "marker": {
             "colorbar": {
              "outlinewidth": 0,
              "ticks": ""
             }
            },
            "type": "scatter"
           }
          ],
          "scatter3d": [
           {
            "line": {
             "colorbar": {
              "outlinewidth": 0,
              "ticks": ""
             }
            },
            "marker": {
             "colorbar": {
              "outlinewidth": 0,
              "ticks": ""
             }
            },
            "type": "scatter3d"
           }
          ],
          "scattercarpet": [
           {
            "marker": {
             "colorbar": {
              "outlinewidth": 0,
              "ticks": ""
             }
            },
            "type": "scattercarpet"
           }
          ],
          "scattergeo": [
           {
            "marker": {
             "colorbar": {
              "outlinewidth": 0,
              "ticks": ""
             }
            },
            "type": "scattergeo"
           }
          ],
          "scattergl": [
           {
            "marker": {
             "colorbar": {
              "outlinewidth": 0,
              "ticks": ""
             }
            },
            "type": "scattergl"
           }
          ],
          "scattermapbox": [
           {
            "marker": {
             "colorbar": {
              "outlinewidth": 0,
              "ticks": ""
             }
            },
            "type": "scattermapbox"
           }
          ],
          "scatterpolar": [
           {
            "marker": {
             "colorbar": {
              "outlinewidth": 0,
              "ticks": ""
             }
            },
            "type": "scatterpolar"
           }
          ],
          "scatterpolargl": [
           {
            "marker": {
             "colorbar": {
              "outlinewidth": 0,
              "ticks": ""
             }
            },
            "type": "scatterpolargl"
           }
          ],
          "scatterternary": [
           {
            "marker": {
             "colorbar": {
              "outlinewidth": 0,
              "ticks": ""
             }
            },
            "type": "scatterternary"
           }
          ],
          "surface": [
           {
            "colorbar": {
             "outlinewidth": 0,
             "ticks": ""
            },
            "colorscale": [
             [
              0,
              "#0d0887"
             ],
             [
              0.1111111111111111,
              "#46039f"
             ],
             [
              0.2222222222222222,
              "#7201a8"
             ],
             [
              0.3333333333333333,
              "#9c179e"
             ],
             [
              0.4444444444444444,
              "#bd3786"
             ],
             [
              0.5555555555555556,
              "#d8576b"
             ],
             [
              0.6666666666666666,
              "#ed7953"
             ],
             [
              0.7777777777777778,
              "#fb9f3a"
             ],
             [
              0.8888888888888888,
              "#fdca26"
             ],
             [
              1,
              "#f0f921"
             ]
            ],
            "type": "surface"
           }
          ],
          "table": [
           {
            "cells": {
             "fill": {
              "color": "#EBF0F8"
             },
             "line": {
              "color": "white"
             }
            },
            "header": {
             "fill": {
              "color": "#C8D4E3"
             },
             "line": {
              "color": "white"
             }
            },
            "type": "table"
           }
          ]
         },
         "layout": {
          "annotationdefaults": {
           "arrowcolor": "#2a3f5f",
           "arrowhead": 0,
           "arrowwidth": 1
          },
          "autotypenumbers": "strict",
          "coloraxis": {
           "colorbar": {
            "outlinewidth": 0,
            "ticks": ""
           }
          },
          "colorscale": {
           "diverging": [
            [
             0,
             "#8e0152"
            ],
            [
             0.1,
             "#c51b7d"
            ],
            [
             0.2,
             "#de77ae"
            ],
            [
             0.3,
             "#f1b6da"
            ],
            [
             0.4,
             "#fde0ef"
            ],
            [
             0.5,
             "#f7f7f7"
            ],
            [
             0.6,
             "#e6f5d0"
            ],
            [
             0.7,
             "#b8e186"
            ],
            [
             0.8,
             "#7fbc41"
            ],
            [
             0.9,
             "#4d9221"
            ],
            [
             1,
             "#276419"
            ]
           ],
           "sequential": [
            [
             0,
             "#0d0887"
            ],
            [
             0.1111111111111111,
             "#46039f"
            ],
            [
             0.2222222222222222,
             "#7201a8"
            ],
            [
             0.3333333333333333,
             "#9c179e"
            ],
            [
             0.4444444444444444,
             "#bd3786"
            ],
            [
             0.5555555555555556,
             "#d8576b"
            ],
            [
             0.6666666666666666,
             "#ed7953"
            ],
            [
             0.7777777777777778,
             "#fb9f3a"
            ],
            [
             0.8888888888888888,
             "#fdca26"
            ],
            [
             1,
             "#f0f921"
            ]
           ],
           "sequentialminus": [
            [
             0,
             "#0d0887"
            ],
            [
             0.1111111111111111,
             "#46039f"
            ],
            [
             0.2222222222222222,
             "#7201a8"
            ],
            [
             0.3333333333333333,
             "#9c179e"
            ],
            [
             0.4444444444444444,
             "#bd3786"
            ],
            [
             0.5555555555555556,
             "#d8576b"
            ],
            [
             0.6666666666666666,
             "#ed7953"
            ],
            [
             0.7777777777777778,
             "#fb9f3a"
            ],
            [
             0.8888888888888888,
             "#fdca26"
            ],
            [
             1,
             "#f0f921"
            ]
           ]
          },
          "colorway": [
           "#636efa",
           "#EF553B",
           "#00cc96",
           "#ab63fa",
           "#FFA15A",
           "#19d3f3",
           "#FF6692",
           "#B6E880",
           "#FF97FF",
           "#FECB52"
          ],
          "font": {
           "color": "#2a3f5f"
          },
          "geo": {
           "bgcolor": "white",
           "lakecolor": "white",
           "landcolor": "#E5ECF6",
           "showlakes": true,
           "showland": true,
           "subunitcolor": "white"
          },
          "hoverlabel": {
           "align": "left"
          },
          "hovermode": "closest",
          "mapbox": {
           "style": "light"
          },
          "paper_bgcolor": "white",
          "plot_bgcolor": "#E5ECF6",
          "polar": {
           "angularaxis": {
            "gridcolor": "white",
            "linecolor": "white",
            "ticks": ""
           },
           "bgcolor": "#E5ECF6",
           "radialaxis": {
            "gridcolor": "white",
            "linecolor": "white",
            "ticks": ""
           }
          },
          "scene": {
           "xaxis": {
            "backgroundcolor": "#E5ECF6",
            "gridcolor": "white",
            "gridwidth": 2,
            "linecolor": "white",
            "showbackground": true,
            "ticks": "",
            "zerolinecolor": "white"
           },
           "yaxis": {
            "backgroundcolor": "#E5ECF6",
            "gridcolor": "white",
            "gridwidth": 2,
            "linecolor": "white",
            "showbackground": true,
            "ticks": "",
            "zerolinecolor": "white"
           },
           "zaxis": {
            "backgroundcolor": "#E5ECF6",
            "gridcolor": "white",
            "gridwidth": 2,
            "linecolor": "white",
            "showbackground": true,
            "ticks": "",
            "zerolinecolor": "white"
           }
          },
          "shapedefaults": {
           "line": {
            "color": "#2a3f5f"
           }
          },
          "ternary": {
           "aaxis": {
            "gridcolor": "white",
            "linecolor": "white",
            "ticks": ""
           },
           "baxis": {
            "gridcolor": "white",
            "linecolor": "white",
            "ticks": ""
           },
           "bgcolor": "#E5ECF6",
           "caxis": {
            "gridcolor": "white",
            "linecolor": "white",
            "ticks": ""
           }
          },
          "title": {
           "x": 0.05
          },
          "xaxis": {
           "automargin": true,
           "gridcolor": "white",
           "linecolor": "white",
           "ticks": "",
           "title": {
            "standoff": 15
           },
           "zerolinecolor": "white",
           "zerolinewidth": 2
          },
          "yaxis": {
           "automargin": true,
           "gridcolor": "white",
           "linecolor": "white",
           "ticks": "",
           "title": {
            "standoff": 15
           },
           "zerolinecolor": "white",
           "zerolinewidth": 2
          }
         }
        },
        "title": {
         "text": "Distribution of Product Name among Customers"
        },
        "xaxis": {
         "anchor": "y",
         "domain": [
          0,
          1
         ],
         "title": {
          "text": "value"
         }
        },
        "yaxis": {
         "anchor": "x",
         "domain": [
          0,
          1
         ],
         "title": {
          "text": "count"
         }
        }
       }
      },
      "text/html": [
       "<div>                            <div id=\"3b3bf022-3f49-475f-b0e7-246e8281dbaa\" class=\"plotly-graph-div\" style=\"height:525px; width:100%;\"></div>            <script type=\"text/javascript\">                require([\"plotly\"], function(Plotly) {                    window.PLOTLYENV=window.PLOTLYENV || {};                                    if (document.getElementById(\"3b3bf022-3f49-475f-b0e7-246e8281dbaa\")) {                    Plotly.newPlot(                        \"3b3bf022-3f49-475f-b0e7-246e8281dbaa\",                        [{\"alignmentgroup\": \"True\", \"bingroup\": \"x\", \"hovertemplate\": \"color=RETIREMENT ACCOUNT<br>value=%{x}<br>count=%{y}<extra></extra>\", \"legendgroup\": \"RETIREMENT ACCOUNT\", \"marker\": {\"color\": \"#636efa\"}, \"name\": \"RETIREMENT ACCOUNT\", \"offsetgroup\": \"RETIREMENT ACCOUNT\", \"orientation\": \"v\", \"showlegend\": true, \"type\": \"histogram\", \"x\": [\"RETIREMENT ACCOUNT\", \"RETIREMENT ACCOUNT\", \"RETIREMENT ACCOUNT\", \"RETIREMENT ACCOUNT\", \"RETIREMENT ACCOUNT\", \"RETIREMENT ACCOUNT\", \"RETIREMENT ACCOUNT\", \"RETIREMENT ACCOUNT\", \"RETIREMENT ACCOUNT\", \"RETIREMENT ACCOUNT\", \"RETIREMENT ACCOUNT\", \"RETIREMENT ACCOUNT\", \"RETIREMENT ACCOUNT\", \"RETIREMENT ACCOUNT\", \"RETIREMENT ACCOUNT\", \"RETIREMENT ACCOUNT\", \"RETIREMENT ACCOUNT\", \"RETIREMENT ACCOUNT\", \"RETIREMENT ACCOUNT\", \"RETIREMENT ACCOUNT\", \"RETIREMENT ACCOUNT\", \"RETIREMENT ACCOUNT\", \"RETIREMENT ACCOUNT\", \"RETIREMENT ACCOUNT\", \"RETIREMENT ACCOUNT\", \"RETIREMENT ACCOUNT\", \"RETIREMENT ACCOUNT\", \"RETIREMENT ACCOUNT\", \"RETIREMENT ACCOUNT\", \"RETIREMENT ACCOUNT\", \"RETIREMENT ACCOUNT\", \"RETIREMENT ACCOUNT\", \"RETIREMENT ACCOUNT\", \"RETIREMENT ACCOUNT\", \"RETIREMENT ACCOUNT\", \"RETIREMENT ACCOUNT\", \"RETIREMENT ACCOUNT\", \"RETIREMENT ACCOUNT\", \"RETIREMENT ACCOUNT\", \"RETIREMENT ACCOUNT\", \"RETIREMENT ACCOUNT\", \"RETIREMENT ACCOUNT\", \"RETIREMENT ACCOUNT\", \"RETIREMENT ACCOUNT\", \"RETIREMENT ACCOUNT\", \"RETIREMENT ACCOUNT\", \"RETIREMENT ACCOUNT\", \"RETIREMENT ACCOUNT\", \"RETIREMENT ACCOUNT\", \"RETIREMENT ACCOUNT\", \"RETIREMENT ACCOUNT\", \"RETIREMENT ACCOUNT\", \"RETIREMENT ACCOUNT\", \"RETIREMENT ACCOUNT\", \"RETIREMENT ACCOUNT\", \"RETIREMENT ACCOUNT\", \"RETIREMENT ACCOUNT\", \"RETIREMENT ACCOUNT\", \"RETIREMENT ACCOUNT\", \"RETIREMENT ACCOUNT\", \"RETIREMENT ACCOUNT\", \"RETIREMENT ACCOUNT\", \"RETIREMENT ACCOUNT\", \"RETIREMENT ACCOUNT\", \"RETIREMENT ACCOUNT\", \"RETIREMENT ACCOUNT\", \"RETIREMENT ACCOUNT\", \"RETIREMENT ACCOUNT\", \"RETIREMENT ACCOUNT\", \"RETIREMENT ACCOUNT\", \"RETIREMENT ACCOUNT\", \"RETIREMENT ACCOUNT\", \"RETIREMENT ACCOUNT\", \"RETIREMENT ACCOUNT\", \"RETIREMENT ACCOUNT\", \"RETIREMENT ACCOUNT\", \"RETIREMENT ACCOUNT\", \"RETIREMENT ACCOUNT\", \"RETIREMENT ACCOUNT\", \"RETIREMENT ACCOUNT\", \"RETIREMENT ACCOUNT\", \"RETIREMENT ACCOUNT\", \"RETIREMENT ACCOUNT\", \"RETIREMENT ACCOUNT\", \"RETIREMENT ACCOUNT\", \"RETIREMENT ACCOUNT\", \"RETIREMENT ACCOUNT\", \"RETIREMENT ACCOUNT\", \"RETIREMENT ACCOUNT\", \"RETIREMENT ACCOUNT\", \"RETIREMENT ACCOUNT\", \"RETIREMENT ACCOUNT\", \"RETIREMENT ACCOUNT\", \"RETIREMENT ACCOUNT\", \"RETIREMENT ACCOUNT\", \"RETIREMENT ACCOUNT\", \"RETIREMENT ACCOUNT\", \"RETIREMENT ACCOUNT\", \"RETIREMENT ACCOUNT\", \"RETIREMENT ACCOUNT\", \"RETIREMENT ACCOUNT\", \"RETIREMENT ACCOUNT\", \"RETIREMENT ACCOUNT\", \"RETIREMENT ACCOUNT\", \"RETIREMENT ACCOUNT\", \"RETIREMENT ACCOUNT\", \"RETIREMENT ACCOUNT\", \"RETIREMENT ACCOUNT\", \"RETIREMENT ACCOUNT\", \"RETIREMENT ACCOUNT\", \"RETIREMENT ACCOUNT\", \"RETIREMENT ACCOUNT\", \"RETIREMENT ACCOUNT\", \"RETIREMENT ACCOUNT\", \"RETIREMENT ACCOUNT\", \"RETIREMENT ACCOUNT\", \"RETIREMENT ACCOUNT\", \"RETIREMENT ACCOUNT\", \"RETIREMENT ACCOUNT\", \"RETIREMENT ACCOUNT\", \"RETIREMENT ACCOUNT\", \"RETIREMENT ACCOUNT\", \"RETIREMENT ACCOUNT\", \"RETIREMENT ACCOUNT\", \"RETIREMENT ACCOUNT\", \"RETIREMENT ACCOUNT\", \"RETIREMENT ACCOUNT\", \"RETIREMENT ACCOUNT\", \"RETIREMENT ACCOUNT\", \"RETIREMENT ACCOUNT\", \"RETIREMENT ACCOUNT\", \"RETIREMENT ACCOUNT\", \"RETIREMENT ACCOUNT\", \"RETIREMENT ACCOUNT\", \"RETIREMENT ACCOUNT\", \"RETIREMENT ACCOUNT\", \"RETIREMENT ACCOUNT\", \"RETIREMENT ACCOUNT\", \"RETIREMENT ACCOUNT\", \"RETIREMENT ACCOUNT\", \"RETIREMENT ACCOUNT\", \"RETIREMENT ACCOUNT\", \"RETIREMENT ACCOUNT\", \"RETIREMENT ACCOUNT\", \"RETIREMENT ACCOUNT\", \"RETIREMENT ACCOUNT\", \"RETIREMENT ACCOUNT\", \"RETIREMENT ACCOUNT\", \"RETIREMENT ACCOUNT\", \"RETIREMENT ACCOUNT\", \"RETIREMENT ACCOUNT\", \"RETIREMENT ACCOUNT\", \"RETIREMENT ACCOUNT\", \"RETIREMENT ACCOUNT\", \"RETIREMENT ACCOUNT\", \"RETIREMENT ACCOUNT\", \"RETIREMENT ACCOUNT\", \"RETIREMENT ACCOUNT\", \"RETIREMENT ACCOUNT\", \"RETIREMENT ACCOUNT\", \"RETIREMENT ACCOUNT\", \"RETIREMENT ACCOUNT\", \"RETIREMENT ACCOUNT\", \"RETIREMENT ACCOUNT\", \"RETIREMENT ACCOUNT\", \"RETIREMENT ACCOUNT\", \"RETIREMENT ACCOUNT\", \"RETIREMENT ACCOUNT\", \"RETIREMENT ACCOUNT\", \"RETIREMENT ACCOUNT\", \"RETIREMENT ACCOUNT\", \"RETIREMENT ACCOUNT\", \"RETIREMENT ACCOUNT\", \"RETIREMENT ACCOUNT\", \"RETIREMENT ACCOUNT\", \"RETIREMENT ACCOUNT\", \"RETIREMENT ACCOUNT\", \"RETIREMENT ACCOUNT\", \"RETIREMENT ACCOUNT\", \"RETIREMENT ACCOUNT\", \"RETIREMENT ACCOUNT\", \"RETIREMENT ACCOUNT\", \"RETIREMENT ACCOUNT\", \"RETIREMENT ACCOUNT\", \"RETIREMENT ACCOUNT\", \"RETIREMENT ACCOUNT\", \"RETIREMENT ACCOUNT\", \"RETIREMENT ACCOUNT\", \"RETIREMENT ACCOUNT\", \"RETIREMENT ACCOUNT\", \"RETIREMENT ACCOUNT\", \"RETIREMENT ACCOUNT\", \"RETIREMENT ACCOUNT\", \"RETIREMENT ACCOUNT\", \"RETIREMENT ACCOUNT\", \"RETIREMENT ACCOUNT\", \"RETIREMENT ACCOUNT\", \"RETIREMENT ACCOUNT\", \"RETIREMENT ACCOUNT\", \"RETIREMENT ACCOUNT\", \"RETIREMENT ACCOUNT\", \"RETIREMENT ACCOUNT\", \"RETIREMENT ACCOUNT\", \"RETIREMENT ACCOUNT\", \"RETIREMENT ACCOUNT\", \"RETIREMENT ACCOUNT\", \"RETIREMENT ACCOUNT\", \"RETIREMENT ACCOUNT\", \"RETIREMENT ACCOUNT\", \"RETIREMENT ACCOUNT\", \"RETIREMENT ACCOUNT\", \"RETIREMENT ACCOUNT\", \"RETIREMENT ACCOUNT\", \"RETIREMENT ACCOUNT\", \"RETIREMENT ACCOUNT\", \"RETIREMENT ACCOUNT\", \"RETIREMENT ACCOUNT\", \"RETIREMENT ACCOUNT\", \"RETIREMENT ACCOUNT\", \"RETIREMENT ACCOUNT\", \"RETIREMENT ACCOUNT\", \"RETIREMENT ACCOUNT\", \"RETIREMENT ACCOUNT\", \"RETIREMENT ACCOUNT\", \"RETIREMENT ACCOUNT\", \"RETIREMENT ACCOUNT\", \"RETIREMENT ACCOUNT\", \"RETIREMENT ACCOUNT\", \"RETIREMENT ACCOUNT\", \"RETIREMENT ACCOUNT\", \"RETIREMENT ACCOUNT\", \"RETIREMENT ACCOUNT\", \"RETIREMENT ACCOUNT\", \"RETIREMENT ACCOUNT\", \"RETIREMENT ACCOUNT\", \"RETIREMENT ACCOUNT\", \"RETIREMENT ACCOUNT\", \"RETIREMENT ACCOUNT\", \"RETIREMENT ACCOUNT\", \"RETIREMENT ACCOUNT\", \"RETIREMENT ACCOUNT\", \"RETIREMENT ACCOUNT\", \"RETIREMENT ACCOUNT\", \"RETIREMENT ACCOUNT\", \"RETIREMENT ACCOUNT\", \"RETIREMENT ACCOUNT\", \"RETIREMENT ACCOUNT\", \"RETIREMENT ACCOUNT\", \"RETIREMENT ACCOUNT\", \"RETIREMENT ACCOUNT\", \"RETIREMENT ACCOUNT\", \"RETIREMENT ACCOUNT\", \"RETIREMENT ACCOUNT\", \"RETIREMENT ACCOUNT\", \"RETIREMENT ACCOUNT\", \"RETIREMENT ACCOUNT\", \"RETIREMENT ACCOUNT\", \"RETIREMENT ACCOUNT\", \"RETIREMENT ACCOUNT\", \"RETIREMENT ACCOUNT\", \"RETIREMENT ACCOUNT\", \"RETIREMENT ACCOUNT\", \"RETIREMENT ACCOUNT\", \"RETIREMENT ACCOUNT\", \"RETIREMENT ACCOUNT\", \"RETIREMENT ACCOUNT\", \"RETIREMENT ACCOUNT\", \"RETIREMENT ACCOUNT\", \"RETIREMENT ACCOUNT\", \"RETIREMENT ACCOUNT\", \"RETIREMENT ACCOUNT\", \"RETIREMENT ACCOUNT\", \"RETIREMENT ACCOUNT\", \"RETIREMENT ACCOUNT\", \"RETIREMENT ACCOUNT\", \"RETIREMENT ACCOUNT\", \"RETIREMENT ACCOUNT\", \"RETIREMENT ACCOUNT\", \"RETIREMENT ACCOUNT\", \"RETIREMENT ACCOUNT\", \"RETIREMENT ACCOUNT\", \"RETIREMENT ACCOUNT\", \"RETIREMENT ACCOUNT\", \"RETIREMENT ACCOUNT\", \"RETIREMENT ACCOUNT\", \"RETIREMENT ACCOUNT\", \"RETIREMENT ACCOUNT\", \"RETIREMENT ACCOUNT\", \"RETIREMENT ACCOUNT\", \"RETIREMENT ACCOUNT\", \"RETIREMENT ACCOUNT\", \"RETIREMENT ACCOUNT\", \"RETIREMENT ACCOUNT\", \"RETIREMENT ACCOUNT\", \"RETIREMENT ACCOUNT\", \"RETIREMENT ACCOUNT\", \"RETIREMENT ACCOUNT\", \"RETIREMENT ACCOUNT\", \"RETIREMENT ACCOUNT\", \"RETIREMENT ACCOUNT\", \"RETIREMENT ACCOUNT\", \"RETIREMENT ACCOUNT\", \"RETIREMENT ACCOUNT\", \"RETIREMENT ACCOUNT\", \"RETIREMENT ACCOUNT\", \"RETIREMENT ACCOUNT\", \"RETIREMENT ACCOUNT\", \"RETIREMENT ACCOUNT\", \"RETIREMENT ACCOUNT\", \"RETIREMENT ACCOUNT\", \"RETIREMENT ACCOUNT\", \"RETIREMENT ACCOUNT\", \"RETIREMENT ACCOUNT\", \"RETIREMENT ACCOUNT\", \"RETIREMENT ACCOUNT\", \"RETIREMENT ACCOUNT\", \"RETIREMENT ACCOUNT\", \"RETIREMENT ACCOUNT\", \"RETIREMENT ACCOUNT\", \"RETIREMENT ACCOUNT\", \"RETIREMENT ACCOUNT\", \"RETIREMENT ACCOUNT\", \"RETIREMENT ACCOUNT\", \"RETIREMENT ACCOUNT\", \"RETIREMENT ACCOUNT\", \"RETIREMENT ACCOUNT\", \"RETIREMENT ACCOUNT\", \"RETIREMENT ACCOUNT\", \"RETIREMENT ACCOUNT\", \"RETIREMENT ACCOUNT\", \"RETIREMENT ACCOUNT\", \"RETIREMENT ACCOUNT\", \"RETIREMENT ACCOUNT\", \"RETIREMENT ACCOUNT\", \"RETIREMENT ACCOUNT\", \"RETIREMENT ACCOUNT\", \"RETIREMENT ACCOUNT\", \"RETIREMENT ACCOUNT\", \"RETIREMENT ACCOUNT\", \"RETIREMENT ACCOUNT\", \"RETIREMENT ACCOUNT\", \"RETIREMENT ACCOUNT\", \"RETIREMENT ACCOUNT\", \"RETIREMENT ACCOUNT\", \"RETIREMENT ACCOUNT\", \"RETIREMENT ACCOUNT\", \"RETIREMENT ACCOUNT\", \"RETIREMENT ACCOUNT\", \"RETIREMENT ACCOUNT\", \"RETIREMENT ACCOUNT\", \"RETIREMENT ACCOUNT\", \"RETIREMENT ACCOUNT\", \"RETIREMENT ACCOUNT\", \"RETIREMENT ACCOUNT\", \"RETIREMENT ACCOUNT\", \"RETIREMENT ACCOUNT\", \"RETIREMENT ACCOUNT\", \"RETIREMENT ACCOUNT\", \"RETIREMENT ACCOUNT\", \"RETIREMENT ACCOUNT\", \"RETIREMENT ACCOUNT\", \"RETIREMENT ACCOUNT\", \"RETIREMENT ACCOUNT\", \"RETIREMENT ACCOUNT\", \"RETIREMENT ACCOUNT\", \"RETIREMENT ACCOUNT\", \"RETIREMENT ACCOUNT\", \"RETIREMENT ACCOUNT\", \"RETIREMENT ACCOUNT\", \"RETIREMENT ACCOUNT\", \"RETIREMENT ACCOUNT\", \"RETIREMENT ACCOUNT\", \"RETIREMENT ACCOUNT\", \"RETIREMENT ACCOUNT\", \"RETIREMENT ACCOUNT\", \"RETIREMENT ACCOUNT\", \"RETIREMENT ACCOUNT\", \"RETIREMENT ACCOUNT\", \"RETIREMENT ACCOUNT\", \"RETIREMENT ACCOUNT\", \"RETIREMENT ACCOUNT\", \"RETIREMENT ACCOUNT\", \"RETIREMENT ACCOUNT\", \"RETIREMENT ACCOUNT\", \"RETIREMENT ACCOUNT\", \"RETIREMENT ACCOUNT\", \"RETIREMENT ACCOUNT\", \"RETIREMENT ACCOUNT\", \"RETIREMENT ACCOUNT\", \"RETIREMENT ACCOUNT\", \"RETIREMENT ACCOUNT\", \"RETIREMENT ACCOUNT\", \"RETIREMENT ACCOUNT\", \"RETIREMENT ACCOUNT\", \"RETIREMENT ACCOUNT\", \"RETIREMENT ACCOUNT\", \"RETIREMENT ACCOUNT\", \"RETIREMENT ACCOUNT\", \"RETIREMENT ACCOUNT\", \"RETIREMENT ACCOUNT\", \"RETIREMENT ACCOUNT\", \"RETIREMENT ACCOUNT\", \"RETIREMENT ACCOUNT\", \"RETIREMENT ACCOUNT\", \"RETIREMENT ACCOUNT\", \"RETIREMENT ACCOUNT\", \"RETIREMENT ACCOUNT\", \"RETIREMENT ACCOUNT\", \"RETIREMENT ACCOUNT\", \"RETIREMENT ACCOUNT\", \"RETIREMENT ACCOUNT\", \"RETIREMENT ACCOUNT\", \"RETIREMENT ACCOUNT\", \"RETIREMENT ACCOUNT\", \"RETIREMENT ACCOUNT\", \"RETIREMENT ACCOUNT\", \"RETIREMENT ACCOUNT\", \"RETIREMENT ACCOUNT\", \"RETIREMENT ACCOUNT\", \"RETIREMENT ACCOUNT\", \"RETIREMENT ACCOUNT\", \"RETIREMENT ACCOUNT\", \"RETIREMENT ACCOUNT\", \"RETIREMENT ACCOUNT\", \"RETIREMENT ACCOUNT\", \"RETIREMENT ACCOUNT\", \"RETIREMENT ACCOUNT\", \"RETIREMENT ACCOUNT\", \"RETIREMENT ACCOUNT\", \"RETIREMENT ACCOUNT\", \"RETIREMENT ACCOUNT\", \"RETIREMENT ACCOUNT\", \"RETIREMENT ACCOUNT\", \"RETIREMENT ACCOUNT\", \"RETIREMENT ACCOUNT\", \"RETIREMENT ACCOUNT\", \"RETIREMENT ACCOUNT\", \"RETIREMENT ACCOUNT\", \"RETIREMENT ACCOUNT\", \"RETIREMENT ACCOUNT\", \"RETIREMENT ACCOUNT\", \"RETIREMENT ACCOUNT\", \"RETIREMENT ACCOUNT\", \"RETIREMENT ACCOUNT\", \"RETIREMENT ACCOUNT\", \"RETIREMENT ACCOUNT\", \"RETIREMENT ACCOUNT\", \"RETIREMENT ACCOUNT\", \"RETIREMENT ACCOUNT\", \"RETIREMENT ACCOUNT\", \"RETIREMENT ACCOUNT\", \"RETIREMENT ACCOUNT\", \"RETIREMENT ACCOUNT\", \"RETIREMENT ACCOUNT\", \"RETIREMENT ACCOUNT\", \"RETIREMENT ACCOUNT\", \"RETIREMENT ACCOUNT\", \"RETIREMENT ACCOUNT\", \"RETIREMENT ACCOUNT\", \"RETIREMENT ACCOUNT\", \"RETIREMENT ACCOUNT\", \"RETIREMENT ACCOUNT\", \"RETIREMENT ACCOUNT\", \"RETIREMENT ACCOUNT\", \"RETIREMENT ACCOUNT\", \"RETIREMENT ACCOUNT\", \"RETIREMENT ACCOUNT\", \"RETIREMENT ACCOUNT\", \"RETIREMENT ACCOUNT\", \"RETIREMENT ACCOUNT\", \"RETIREMENT ACCOUNT\", \"RETIREMENT ACCOUNT\", \"RETIREMENT ACCOUNT\", \"RETIREMENT ACCOUNT\", \"RETIREMENT ACCOUNT\", \"RETIREMENT ACCOUNT\", \"RETIREMENT ACCOUNT\", \"RETIREMENT ACCOUNT\", \"RETIREMENT ACCOUNT\", \"RETIREMENT ACCOUNT\", \"RETIREMENT ACCOUNT\", \"RETIREMENT ACCOUNT\", \"RETIREMENT ACCOUNT\", \"RETIREMENT ACCOUNT\", \"RETIREMENT ACCOUNT\", \"RETIREMENT ACCOUNT\", \"RETIREMENT ACCOUNT\", \"RETIREMENT ACCOUNT\", \"RETIREMENT ACCOUNT\", \"RETIREMENT ACCOUNT\", \"RETIREMENT ACCOUNT\", \"RETIREMENT ACCOUNT\", \"RETIREMENT ACCOUNT\", \"RETIREMENT ACCOUNT\", \"RETIREMENT ACCOUNT\", \"RETIREMENT ACCOUNT\", \"RETIREMENT ACCOUNT\", \"RETIREMENT ACCOUNT\", \"RETIREMENT ACCOUNT\", \"RETIREMENT ACCOUNT\", \"RETIREMENT ACCOUNT\", \"RETIREMENT ACCOUNT\", \"RETIREMENT ACCOUNT\", \"RETIREMENT ACCOUNT\", \"RETIREMENT ACCOUNT\", \"RETIREMENT ACCOUNT\", \"RETIREMENT ACCOUNT\", \"RETIREMENT ACCOUNT\", \"RETIREMENT ACCOUNT\", \"RETIREMENT ACCOUNT\", \"RETIREMENT ACCOUNT\", \"RETIREMENT ACCOUNT\", \"RETIREMENT ACCOUNT\", \"RETIREMENT ACCOUNT\", \"RETIREMENT ACCOUNT\", \"RETIREMENT ACCOUNT\", \"RETIREMENT ACCOUNT\", \"RETIREMENT ACCOUNT\", \"RETIREMENT ACCOUNT\", \"RETIREMENT ACCOUNT\", \"RETIREMENT ACCOUNT\", \"RETIREMENT ACCOUNT\", \"RETIREMENT ACCOUNT\", \"RETIREMENT ACCOUNT\", \"RETIREMENT ACCOUNT\", \"RETIREMENT ACCOUNT\", \"RETIREMENT ACCOUNT\", \"RETIREMENT ACCOUNT\", \"RETIREMENT ACCOUNT\", \"RETIREMENT ACCOUNT\", \"RETIREMENT ACCOUNT\", \"RETIREMENT ACCOUNT\", \"RETIREMENT ACCOUNT\", \"RETIREMENT ACCOUNT\", \"RETIREMENT ACCOUNT\", \"RETIREMENT ACCOUNT\", \"RETIREMENT ACCOUNT\", \"RETIREMENT ACCOUNT\", \"RETIREMENT ACCOUNT\", \"RETIREMENT ACCOUNT\", \"RETIREMENT ACCOUNT\", \"RETIREMENT ACCOUNT\", \"RETIREMENT ACCOUNT\", \"RETIREMENT ACCOUNT\", \"RETIREMENT ACCOUNT\", \"RETIREMENT ACCOUNT\", \"RETIREMENT ACCOUNT\", \"RETIREMENT ACCOUNT\", \"RETIREMENT ACCOUNT\", \"RETIREMENT ACCOUNT\", \"RETIREMENT ACCOUNT\", \"RETIREMENT ACCOUNT\", \"RETIREMENT ACCOUNT\", \"RETIREMENT ACCOUNT\", \"RETIREMENT ACCOUNT\", \"RETIREMENT ACCOUNT\", \"RETIREMENT ACCOUNT\", \"RETIREMENT ACCOUNT\", \"RETIREMENT ACCOUNT\", \"RETIREMENT ACCOUNT\", \"RETIREMENT ACCOUNT\", \"RETIREMENT ACCOUNT\", \"RETIREMENT ACCOUNT\", \"RETIREMENT ACCOUNT\", \"RETIREMENT ACCOUNT\", \"RETIREMENT ACCOUNT\", \"RETIREMENT ACCOUNT\", \"RETIREMENT ACCOUNT\", \"RETIREMENT ACCOUNT\", \"RETIREMENT ACCOUNT\", \"RETIREMENT ACCOUNT\", \"RETIREMENT ACCOUNT\", \"RETIREMENT ACCOUNT\", \"RETIREMENT ACCOUNT\", \"RETIREMENT ACCOUNT\", \"RETIREMENT ACCOUNT\", \"RETIREMENT ACCOUNT\", \"RETIREMENT ACCOUNT\", \"RETIREMENT ACCOUNT\", \"RETIREMENT ACCOUNT\", \"RETIREMENT ACCOUNT\", \"RETIREMENT ACCOUNT\", \"RETIREMENT ACCOUNT\", \"RETIREMENT ACCOUNT\", \"RETIREMENT ACCOUNT\", \"RETIREMENT ACCOUNT\", \"RETIREMENT ACCOUNT\", \"RETIREMENT ACCOUNT\", \"RETIREMENT ACCOUNT\", \"RETIREMENT ACCOUNT\", \"RETIREMENT ACCOUNT\", \"RETIREMENT ACCOUNT\", \"RETIREMENT ACCOUNT\", \"RETIREMENT ACCOUNT\", \"RETIREMENT ACCOUNT\", \"RETIREMENT ACCOUNT\", \"RETIREMENT ACCOUNT\", \"RETIREMENT ACCOUNT\", \"RETIREMENT ACCOUNT\", \"RETIREMENT ACCOUNT\", \"RETIREMENT ACCOUNT\", \"RETIREMENT ACCOUNT\", \"RETIREMENT ACCOUNT\", \"RETIREMENT ACCOUNT\", \"RETIREMENT ACCOUNT\", \"RETIREMENT ACCOUNT\", \"RETIREMENT ACCOUNT\", \"RETIREMENT ACCOUNT\", \"RETIREMENT ACCOUNT\", \"RETIREMENT ACCOUNT\", \"RETIREMENT ACCOUNT\", \"RETIREMENT ACCOUNT\", \"RETIREMENT ACCOUNT\", \"RETIREMENT ACCOUNT\", \"RETIREMENT ACCOUNT\", \"RETIREMENT ACCOUNT\", \"RETIREMENT ACCOUNT\", \"RETIREMENT ACCOUNT\", \"RETIREMENT ACCOUNT\", \"RETIREMENT ACCOUNT\", \"RETIREMENT ACCOUNT\", \"RETIREMENT ACCOUNT\", \"RETIREMENT ACCOUNT\", \"RETIREMENT ACCOUNT\", \"RETIREMENT ACCOUNT\", \"RETIREMENT ACCOUNT\", \"RETIREMENT ACCOUNT\", \"RETIREMENT ACCOUNT\", \"RETIREMENT ACCOUNT\", \"RETIREMENT ACCOUNT\", \"RETIREMENT ACCOUNT\", \"RETIREMENT ACCOUNT\", \"RETIREMENT ACCOUNT\", \"RETIREMENT ACCOUNT\", \"RETIREMENT ACCOUNT\", \"RETIREMENT ACCOUNT\", \"RETIREMENT ACCOUNT\", \"RETIREMENT ACCOUNT\", \"RETIREMENT ACCOUNT\", \"RETIREMENT ACCOUNT\", \"RETIREMENT ACCOUNT\", \"RETIREMENT ACCOUNT\", \"RETIREMENT ACCOUNT\", \"RETIREMENT ACCOUNT\", \"RETIREMENT ACCOUNT\", \"RETIREMENT ACCOUNT\", \"RETIREMENT ACCOUNT\", \"RETIREMENT ACCOUNT\", \"RETIREMENT ACCOUNT\", \"RETIREMENT ACCOUNT\", \"RETIREMENT ACCOUNT\", \"RETIREMENT ACCOUNT\", \"RETIREMENT ACCOUNT\", \"RETIREMENT ACCOUNT\", \"RETIREMENT ACCOUNT\", \"RETIREMENT ACCOUNT\", \"RETIREMENT ACCOUNT\", \"RETIREMENT ACCOUNT\", \"RETIREMENT ACCOUNT\", \"RETIREMENT ACCOUNT\", \"RETIREMENT ACCOUNT\", \"RETIREMENT ACCOUNT\", \"RETIREMENT ACCOUNT\", \"RETIREMENT ACCOUNT\", \"RETIREMENT ACCOUNT\", \"RETIREMENT ACCOUNT\", \"RETIREMENT ACCOUNT\", \"RETIREMENT ACCOUNT\", \"RETIREMENT ACCOUNT\", \"RETIREMENT ACCOUNT\", \"RETIREMENT ACCOUNT\", \"RETIREMENT ACCOUNT\", \"RETIREMENT ACCOUNT\", \"RETIREMENT ACCOUNT\", \"RETIREMENT ACCOUNT\", \"RETIREMENT ACCOUNT\", \"RETIREMENT ACCOUNT\", \"RETIREMENT ACCOUNT\", \"RETIREMENT ACCOUNT\", \"RETIREMENT ACCOUNT\", \"RETIREMENT ACCOUNT\", \"RETIREMENT ACCOUNT\", \"RETIREMENT ACCOUNT\", \"RETIREMENT ACCOUNT\", \"RETIREMENT ACCOUNT\", \"RETIREMENT ACCOUNT\", \"RETIREMENT ACCOUNT\", \"RETIREMENT ACCOUNT\", \"RETIREMENT ACCOUNT\", \"RETIREMENT ACCOUNT\", \"RETIREMENT ACCOUNT\", \"RETIREMENT ACCOUNT\", \"RETIREMENT ACCOUNT\", \"RETIREMENT ACCOUNT\", \"RETIREMENT ACCOUNT\", \"RETIREMENT ACCOUNT\", \"RETIREMENT ACCOUNT\", \"RETIREMENT ACCOUNT\", \"RETIREMENT ACCOUNT\", \"RETIREMENT ACCOUNT\", \"RETIREMENT ACCOUNT\", \"RETIREMENT ACCOUNT\", \"RETIREMENT ACCOUNT\", \"RETIREMENT ACCOUNT\", \"RETIREMENT ACCOUNT\", \"RETIREMENT ACCOUNT\", \"RETIREMENT ACCOUNT\", \"RETIREMENT ACCOUNT\", \"RETIREMENT ACCOUNT\", \"RETIREMENT ACCOUNT\", \"RETIREMENT ACCOUNT\", \"RETIREMENT ACCOUNT\", \"RETIREMENT ACCOUNT\", \"RETIREMENT ACCOUNT\", \"RETIREMENT ACCOUNT\", \"RETIREMENT ACCOUNT\", \"RETIREMENT ACCOUNT\", \"RETIREMENT ACCOUNT\", \"RETIREMENT ACCOUNT\", \"RETIREMENT ACCOUNT\", \"RETIREMENT ACCOUNT\", \"RETIREMENT ACCOUNT\", \"RETIREMENT ACCOUNT\", \"RETIREMENT ACCOUNT\", \"RETIREMENT ACCOUNT\", \"RETIREMENT ACCOUNT\", \"RETIREMENT ACCOUNT\", \"RETIREMENT ACCOUNT\", \"RETIREMENT ACCOUNT\", \"RETIREMENT ACCOUNT\", \"RETIREMENT ACCOUNT\", \"RETIREMENT ACCOUNT\", \"RETIREMENT ACCOUNT\", \"RETIREMENT ACCOUNT\", \"RETIREMENT ACCOUNT\", \"RETIREMENT ACCOUNT\", \"RETIREMENT ACCOUNT\", \"RETIREMENT ACCOUNT\", \"RETIREMENT ACCOUNT\", \"RETIREMENT ACCOUNT\", \"RETIREMENT ACCOUNT\", \"RETIREMENT ACCOUNT\", \"RETIREMENT ACCOUNT\", \"RETIREMENT ACCOUNT\", \"RETIREMENT ACCOUNT\", \"RETIREMENT ACCOUNT\", \"RETIREMENT ACCOUNT\", \"RETIREMENT ACCOUNT\", \"RETIREMENT ACCOUNT\", \"RETIREMENT ACCOUNT\", \"RETIREMENT ACCOUNT\", \"RETIREMENT ACCOUNT\", \"RETIREMENT ACCOUNT\", \"RETIREMENT ACCOUNT\", \"RETIREMENT ACCOUNT\", \"RETIREMENT ACCOUNT\", \"RETIREMENT ACCOUNT\", \"RETIREMENT ACCOUNT\", \"RETIREMENT ACCOUNT\", \"RETIREMENT ACCOUNT\", \"RETIREMENT ACCOUNT\", \"RETIREMENT ACCOUNT\", \"RETIREMENT ACCOUNT\", \"RETIREMENT ACCOUNT\", \"RETIREMENT ACCOUNT\", \"RETIREMENT ACCOUNT\", \"RETIREMENT ACCOUNT\", \"RETIREMENT ACCOUNT\", \"RETIREMENT ACCOUNT\", \"RETIREMENT ACCOUNT\", \"RETIREMENT ACCOUNT\", \"RETIREMENT ACCOUNT\", \"RETIREMENT ACCOUNT\", \"RETIREMENT ACCOUNT\", \"RETIREMENT ACCOUNT\", \"RETIREMENT ACCOUNT\", \"RETIREMENT ACCOUNT\", \"RETIREMENT ACCOUNT\", \"RETIREMENT ACCOUNT\", \"RETIREMENT ACCOUNT\", \"RETIREMENT ACCOUNT\", \"RETIREMENT ACCOUNT\", \"RETIREMENT ACCOUNT\", \"RETIREMENT ACCOUNT\", \"RETIREMENT ACCOUNT\", \"RETIREMENT ACCOUNT\", \"RETIREMENT ACCOUNT\", \"RETIREMENT ACCOUNT\", \"RETIREMENT ACCOUNT\", \"RETIREMENT ACCOUNT\", \"RETIREMENT ACCOUNT\", \"RETIREMENT ACCOUNT\", \"RETIREMENT ACCOUNT\", \"RETIREMENT ACCOUNT\", \"RETIREMENT ACCOUNT\", \"RETIREMENT ACCOUNT\", \"RETIREMENT ACCOUNT\", \"RETIREMENT ACCOUNT\", \"RETIREMENT ACCOUNT\", \"RETIREMENT ACCOUNT\", \"RETIREMENT ACCOUNT\", \"RETIREMENT ACCOUNT\", \"RETIREMENT ACCOUNT\", \"RETIREMENT ACCOUNT\", \"RETIREMENT ACCOUNT\", \"RETIREMENT ACCOUNT\", \"RETIREMENT ACCOUNT\", \"RETIREMENT ACCOUNT\", \"RETIREMENT ACCOUNT\", \"RETIREMENT ACCOUNT\", \"RETIREMENT ACCOUNT\", \"RETIREMENT ACCOUNT\", \"RETIREMENT ACCOUNT\", \"RETIREMENT ACCOUNT\", \"RETIREMENT ACCOUNT\", \"RETIREMENT ACCOUNT\", \"RETIREMENT ACCOUNT\", \"RETIREMENT ACCOUNT\", \"RETIREMENT ACCOUNT\", \"RETIREMENT ACCOUNT\", \"RETIREMENT ACCOUNT\", \"RETIREMENT ACCOUNT\", \"RETIREMENT ACCOUNT\", \"RETIREMENT ACCOUNT\", \"RETIREMENT ACCOUNT\", \"RETIREMENT ACCOUNT\", \"RETIREMENT ACCOUNT\", \"RETIREMENT ACCOUNT\", \"RETIREMENT ACCOUNT\", \"RETIREMENT ACCOUNT\", \"RETIREMENT ACCOUNT\", \"RETIREMENT ACCOUNT\", \"RETIREMENT ACCOUNT\", \"RETIREMENT ACCOUNT\", \"RETIREMENT ACCOUNT\", \"RETIREMENT ACCOUNT\", \"RETIREMENT ACCOUNT\", \"RETIREMENT ACCOUNT\", \"RETIREMENT ACCOUNT\", \"RETIREMENT ACCOUNT\", \"RETIREMENT ACCOUNT\", \"RETIREMENT ACCOUNT\", \"RETIREMENT ACCOUNT\", \"RETIREMENT ACCOUNT\", \"RETIREMENT ACCOUNT\", \"RETIREMENT ACCOUNT\", \"RETIREMENT ACCOUNT\", \"RETIREMENT ACCOUNT\", \"RETIREMENT ACCOUNT\", \"RETIREMENT ACCOUNT\", \"RETIREMENT ACCOUNT\", \"RETIREMENT ACCOUNT\", \"RETIREMENT ACCOUNT\", \"RETIREMENT ACCOUNT\", \"RETIREMENT ACCOUNT\", \"RETIREMENT ACCOUNT\", \"RETIREMENT ACCOUNT\", \"RETIREMENT ACCOUNT\", \"RETIREMENT ACCOUNT\", \"RETIREMENT ACCOUNT\", \"RETIREMENT ACCOUNT\", \"RETIREMENT ACCOUNT\", \"RETIREMENT ACCOUNT\", \"RETIREMENT ACCOUNT\", \"RETIREMENT ACCOUNT\", \"RETIREMENT ACCOUNT\", \"RETIREMENT ACCOUNT\", \"RETIREMENT ACCOUNT\", \"RETIREMENT ACCOUNT\", \"RETIREMENT ACCOUNT\", \"RETIREMENT ACCOUNT\", \"RETIREMENT ACCOUNT\", \"RETIREMENT ACCOUNT\", \"RETIREMENT ACCOUNT\", \"RETIREMENT ACCOUNT\", \"RETIREMENT ACCOUNT\", \"RETIREMENT ACCOUNT\", \"RETIREMENT ACCOUNT\", \"RETIREMENT ACCOUNT\", \"RETIREMENT ACCOUNT\", \"RETIREMENT ACCOUNT\", \"RETIREMENT ACCOUNT\", \"RETIREMENT ACCOUNT\", \"RETIREMENT ACCOUNT\", \"RETIREMENT ACCOUNT\", \"RETIREMENT ACCOUNT\", \"RETIREMENT ACCOUNT\", \"RETIREMENT ACCOUNT\", \"RETIREMENT ACCOUNT\", \"RETIREMENT ACCOUNT\", \"RETIREMENT ACCOUNT\", \"RETIREMENT ACCOUNT\", \"RETIREMENT ACCOUNT\", \"RETIREMENT ACCOUNT\", \"RETIREMENT ACCOUNT\", \"RETIREMENT ACCOUNT\", \"RETIREMENT ACCOUNT\", \"RETIREMENT ACCOUNT\", \"RETIREMENT ACCOUNT\", \"RETIREMENT ACCOUNT\", \"RETIREMENT ACCOUNT\", \"RETIREMENT ACCOUNT\", \"RETIREMENT ACCOUNT\", \"RETIREMENT ACCOUNT\", \"RETIREMENT ACCOUNT\", \"RETIREMENT ACCOUNT\", \"RETIREMENT ACCOUNT\", \"RETIREMENT ACCOUNT\", \"RETIREMENT ACCOUNT\", \"RETIREMENT ACCOUNT\", \"RETIREMENT ACCOUNT\", \"RETIREMENT ACCOUNT\", \"RETIREMENT ACCOUNT\", \"RETIREMENT ACCOUNT\", \"RETIREMENT ACCOUNT\", \"RETIREMENT ACCOUNT\", \"RETIREMENT ACCOUNT\", \"RETIREMENT ACCOUNT\", \"RETIREMENT ACCOUNT\", \"RETIREMENT ACCOUNT\", \"RETIREMENT ACCOUNT\", \"RETIREMENT ACCOUNT\", \"RETIREMENT ACCOUNT\", \"RETIREMENT ACCOUNT\", \"RETIREMENT ACCOUNT\", \"RETIREMENT ACCOUNT\", \"RETIREMENT ACCOUNT\", \"RETIREMENT ACCOUNT\", \"RETIREMENT ACCOUNT\", \"RETIREMENT ACCOUNT\", \"RETIREMENT ACCOUNT\", \"RETIREMENT ACCOUNT\", \"RETIREMENT ACCOUNT\", \"RETIREMENT ACCOUNT\", \"RETIREMENT ACCOUNT\", \"RETIREMENT ACCOUNT\", \"RETIREMENT ACCOUNT\", \"RETIREMENT ACCOUNT\", \"RETIREMENT ACCOUNT\", \"RETIREMENT ACCOUNT\", \"RETIREMENT ACCOUNT\", \"RETIREMENT ACCOUNT\", \"RETIREMENT ACCOUNT\", \"RETIREMENT ACCOUNT\", \"RETIREMENT ACCOUNT\", \"RETIREMENT ACCOUNT\", \"RETIREMENT ACCOUNT\", \"RETIREMENT ACCOUNT\", \"RETIREMENT ACCOUNT\", \"RETIREMENT ACCOUNT\", \"RETIREMENT ACCOUNT\", \"RETIREMENT ACCOUNT\", \"RETIREMENT ACCOUNT\", \"RETIREMENT ACCOUNT\", \"RETIREMENT ACCOUNT\", \"RETIREMENT ACCOUNT\", \"RETIREMENT ACCOUNT\", \"RETIREMENT ACCOUNT\", \"RETIREMENT ACCOUNT\", \"RETIREMENT ACCOUNT\", \"RETIREMENT ACCOUNT\", \"RETIREMENT ACCOUNT\", \"RETIREMENT ACCOUNT\", \"RETIREMENT ACCOUNT\", \"RETIREMENT ACCOUNT\", \"RETIREMENT ACCOUNT\", \"RETIREMENT ACCOUNT\", \"RETIREMENT ACCOUNT\", \"RETIREMENT ACCOUNT\", \"RETIREMENT ACCOUNT\", \"RETIREMENT ACCOUNT\", \"RETIREMENT ACCOUNT\", \"RETIREMENT ACCOUNT\", \"RETIREMENT ACCOUNT\", \"RETIREMENT ACCOUNT\", \"RETIREMENT ACCOUNT\", \"RETIREMENT ACCOUNT\", \"RETIREMENT ACCOUNT\", \"RETIREMENT ACCOUNT\", \"RETIREMENT ACCOUNT\", \"RETIREMENT ACCOUNT\", \"RETIREMENT ACCOUNT\", \"RETIREMENT ACCOUNT\", \"RETIREMENT ACCOUNT\", \"RETIREMENT ACCOUNT\", \"RETIREMENT ACCOUNT\", \"RETIREMENT ACCOUNT\", \"RETIREMENT ACCOUNT\", \"RETIREMENT ACCOUNT\", \"RETIREMENT ACCOUNT\", \"RETIREMENT ACCOUNT\", \"RETIREMENT ACCOUNT\", \"RETIREMENT ACCOUNT\", \"RETIREMENT ACCOUNT\", \"RETIREMENT ACCOUNT\", \"RETIREMENT ACCOUNT\", \"RETIREMENT ACCOUNT\", \"RETIREMENT ACCOUNT\", \"RETIREMENT ACCOUNT\"], \"xaxis\": \"x\", \"yaxis\": \"y\"}, {\"alignmentgroup\": \"True\", \"bingroup\": \"x\", \"hovertemplate\": \"color=PRUDENTIAL ISA<br>value=%{x}<br>count=%{y}<extra></extra>\", \"legendgroup\": \"PRUDENTIAL ISA\", \"marker\": {\"color\": \"#EF553B\"}, \"name\": \"PRUDENTIAL ISA\", \"offsetgroup\": \"PRUDENTIAL ISA\", \"orientation\": \"v\", \"showlegend\": true, \"type\": \"histogram\", \"x\": [\"PRUDENTIAL ISA\", \"PRUDENTIAL ISA\", \"PRUDENTIAL ISA\", \"PRUDENTIAL ISA\", \"PRUDENTIAL ISA\", \"PRUDENTIAL ISA\", \"PRUDENTIAL ISA\", \"PRUDENTIAL ISA\", \"PRUDENTIAL ISA\", \"PRUDENTIAL ISA\", \"PRUDENTIAL ISA\", \"PRUDENTIAL ISA\", \"PRUDENTIAL ISA\", \"PRUDENTIAL ISA\", \"PRUDENTIAL ISA\", \"PRUDENTIAL ISA\", \"PRUDENTIAL ISA\", \"PRUDENTIAL ISA\", \"PRUDENTIAL ISA\", \"PRUDENTIAL ISA\", \"PRUDENTIAL ISA\", \"PRUDENTIAL ISA\", \"PRUDENTIAL ISA\", \"PRUDENTIAL ISA\", \"PRUDENTIAL ISA\", \"PRUDENTIAL ISA\", \"PRUDENTIAL ISA\", \"PRUDENTIAL ISA\", \"PRUDENTIAL ISA\", \"PRUDENTIAL ISA\", \"PRUDENTIAL ISA\", \"PRUDENTIAL ISA\", \"PRUDENTIAL ISA\", \"PRUDENTIAL ISA\", \"PRUDENTIAL ISA\", \"PRUDENTIAL ISA\", \"PRUDENTIAL ISA\", \"PRUDENTIAL ISA\", \"PRUDENTIAL ISA\", \"PRUDENTIAL ISA\", \"PRUDENTIAL ISA\", \"PRUDENTIAL ISA\", \"PRUDENTIAL ISA\", \"PRUDENTIAL ISA\", \"PRUDENTIAL ISA\", \"PRUDENTIAL ISA\", \"PRUDENTIAL ISA\", \"PRUDENTIAL ISA\", \"PRUDENTIAL ISA\", \"PRUDENTIAL ISA\", \"PRUDENTIAL ISA\", \"PRUDENTIAL ISA\", \"PRUDENTIAL ISA\", \"PRUDENTIAL ISA\", \"PRUDENTIAL ISA\", \"PRUDENTIAL ISA\", \"PRUDENTIAL ISA\", \"PRUDENTIAL ISA\", \"PRUDENTIAL ISA\"], \"xaxis\": \"x\", \"yaxis\": \"y\"}, {\"alignmentgroup\": \"True\", \"bingroup\": \"x\", \"hovertemplate\": \"color=FOCUSSED ISA<br>value=%{x}<br>count=%{y}<extra></extra>\", \"legendgroup\": \"FOCUSSED ISA\", \"marker\": {\"color\": \"#00cc96\"}, \"name\": \"FOCUSSED ISA\", \"offsetgroup\": \"FOCUSSED ISA\", \"orientation\": \"v\", \"showlegend\": true, \"type\": \"histogram\", \"x\": [\"FOCUSSED ISA\", \"FOCUSSED ISA\", \"FOCUSSED ISA\", \"FOCUSSED ISA\", \"FOCUSSED ISA\", \"FOCUSSED ISA\", \"FOCUSSED ISA\", \"FOCUSSED ISA\", \"FOCUSSED ISA\", \"FOCUSSED ISA\", \"FOCUSSED ISA\", \"FOCUSSED ISA\", \"FOCUSSED ISA\", \"FOCUSSED ISA\", \"FOCUSSED ISA\", \"FOCUSSED ISA\", \"FOCUSSED ISA\", \"FOCUSSED ISA\", \"FOCUSSED ISA\", \"FOCUSSED ISA\", \"FOCUSSED ISA\", \"FOCUSSED ISA\", \"FOCUSSED ISA\", \"FOCUSSED ISA\", \"FOCUSSED ISA\", \"FOCUSSED ISA\", \"FOCUSSED ISA\", \"FOCUSSED ISA\", \"FOCUSSED ISA\", \"FOCUSSED ISA\", \"FOCUSSED ISA\", \"FOCUSSED ISA\", \"FOCUSSED ISA\", \"FOCUSSED ISA\", \"FOCUSSED ISA\", \"FOCUSSED ISA\", \"FOCUSSED ISA\", \"FOCUSSED ISA\", \"FOCUSSED ISA\", \"FOCUSSED ISA\", \"FOCUSSED ISA\", \"FOCUSSED ISA\", \"FOCUSSED ISA\", \"FOCUSSED ISA\", \"FOCUSSED ISA\", \"FOCUSSED ISA\", \"FOCUSSED ISA\", \"FOCUSSED ISA\", \"FOCUSSED ISA\", \"FOCUSSED ISA\", \"FOCUSSED ISA\", \"FOCUSSED ISA\", \"FOCUSSED ISA\", \"FOCUSSED ISA\", \"FOCUSSED ISA\", \"FOCUSSED ISA\", \"FOCUSSED ISA\", \"FOCUSSED ISA\", \"FOCUSSED ISA\", \"FOCUSSED ISA\", \"FOCUSSED ISA\", \"FOCUSSED ISA\", \"FOCUSSED ISA\", \"FOCUSSED ISA\", \"FOCUSSED ISA\", \"FOCUSSED ISA\", \"FOCUSSED ISA\", \"FOCUSSED ISA\", \"FOCUSSED ISA\", \"FOCUSSED ISA\", \"FOCUSSED ISA\", \"FOCUSSED ISA\", \"FOCUSSED ISA\", \"FOCUSSED ISA\", \"FOCUSSED ISA\", \"FOCUSSED ISA\", \"FOCUSSED ISA\", \"FOCUSSED ISA\", \"FOCUSSED ISA\", \"FOCUSSED ISA\", \"FOCUSSED ISA\", \"FOCUSSED ISA\", \"FOCUSSED ISA\", \"FOCUSSED ISA\", \"FOCUSSED ISA\", \"FOCUSSED ISA\", \"FOCUSSED ISA\", \"FOCUSSED ISA\", \"FOCUSSED ISA\", \"FOCUSSED ISA\", \"FOCUSSED ISA\", \"FOCUSSED ISA\", \"FOCUSSED ISA\", \"FOCUSSED ISA\", \"FOCUSSED ISA\", \"FOCUSSED ISA\", \"FOCUSSED ISA\", \"FOCUSSED ISA\", \"FOCUSSED ISA\", \"FOCUSSED ISA\", \"FOCUSSED ISA\", \"FOCUSSED ISA\", \"FOCUSSED ISA\", \"FOCUSSED ISA\", \"FOCUSSED ISA\", \"FOCUSSED ISA\", \"FOCUSSED ISA\", \"FOCUSSED ISA\", \"FOCUSSED ISA\", \"FOCUSSED ISA\", \"FOCUSSED ISA\", \"FOCUSSED ISA\", \"FOCUSSED ISA\", \"FOCUSSED ISA\", \"FOCUSSED ISA\", \"FOCUSSED ISA\", \"FOCUSSED ISA\", \"FOCUSSED ISA\", \"FOCUSSED ISA\", \"FOCUSSED ISA\", \"FOCUSSED ISA\", \"FOCUSSED ISA\", \"FOCUSSED ISA\", \"FOCUSSED ISA\", \"FOCUSSED ISA\", \"FOCUSSED ISA\"], \"xaxis\": \"x\", \"yaxis\": \"y\"}, {\"alignmentgroup\": \"True\", \"bingroup\": \"x\", \"hovertemplate\": \"color=SIPP<br>value=%{x}<br>count=%{y}<extra></extra>\", \"legendgroup\": \"SIPP\", \"marker\": {\"color\": \"#ab63fa\"}, \"name\": \"SIPP\", \"offsetgroup\": \"SIPP\", \"orientation\": \"v\", \"showlegend\": true, \"type\": \"histogram\", \"x\": [\"SIPP\", \"SIPP\", \"SIPP\", \"SIPP\", \"SIPP\", \"SIPP\", \"SIPP\", \"SIPP\", \"SIPP\", \"SIPP\", \"SIPP\", \"SIPP\", \"SIPP\", \"SIPP\", \"SIPP\", \"SIPP\", \"SIPP\", \"SIPP\", \"SIPP\", \"SIPP\", \"SIPP\", \"SIPP\", \"SIPP\", \"SIPP\", \"SIPP\", \"SIPP\", \"SIPP\", \"SIPP\", \"SIPP\", \"SIPP\", \"SIPP\", \"SIPP\", \"SIPP\", \"SIPP\", \"SIPP\", \"SIPP\", \"SIPP\", \"SIPP\", \"SIPP\", \"SIPP\", \"SIPP\", \"SIPP\", \"SIPP\", \"SIPP\", \"SIPP\", \"SIPP\", \"SIPP\", \"SIPP\", \"SIPP\", \"SIPP\", \"SIPP\", \"SIPP\", \"SIPP\", \"SIPP\", \"SIPP\", \"SIPP\", \"SIPP\", \"SIPP\", \"SIPP\", \"SIPP\", \"SIPP\", \"SIPP\", \"SIPP\", \"SIPP\", \"SIPP\", \"SIPP\", \"SIPP\", \"SIPP\", \"SIPP\", \"SIPP\", \"SIPP\", \"SIPP\", \"SIPP\", \"SIPP\", \"SIPP\", \"SIPP\", \"SIPP\", \"SIPP\", \"SIPP\", \"SIPP\", \"SIPP\", \"SIPP\", \"SIPP\", \"SIPP\", \"SIPP\", \"SIPP\", \"SIPP\", \"SIPP\", \"SIPP\", \"SIPP\", \"SIPP\", \"SIPP\", \"SIPP\", \"SIPP\", \"SIPP\", \"SIPP\", \"SIPP\", \"SIPP\", \"SIPP\", \"SIPP\", \"SIPP\", \"SIPP\", \"SIPP\", \"SIPP\", \"SIPP\", \"SIPP\", \"SIPP\", \"SIPP\", \"SIPP\", \"SIPP\", \"SIPP\", \"SIPP\", \"SIPP\", \"SIPP\", \"SIPP\", \"SIPP\", \"SIPP\", \"SIPP\", \"SIPP\", \"SIPP\", \"SIPP\", \"SIPP\", \"SIPP\", \"SIPP\", \"SIPP\", \"SIPP\", \"SIPP\", \"SIPP\", \"SIPP\", \"SIPP\", \"SIPP\", \"SIPP\", \"SIPP\", \"SIPP\", \"SIPP\", \"SIPP\", \"SIPP\", \"SIPP\", \"SIPP\", \"SIPP\", \"SIPP\", \"SIPP\", \"SIPP\", \"SIPP\", \"SIPP\", \"SIPP\"], \"xaxis\": \"x\", \"yaxis\": \"y\"}, {\"alignmentgroup\": \"True\", \"bingroup\": \"x\", \"hovertemplate\": \"color=CORPORATE MEMBERSHIP<br>value=%{x}<br>count=%{y}<extra></extra>\", \"legendgroup\": \"CORPORATE MEMBERSHIP\", \"marker\": {\"color\": \"#FFA15A\"}, \"name\": \"CORPORATE MEMBERSHIP\", \"offsetgroup\": \"CORPORATE MEMBERSHIP\", \"orientation\": \"v\", \"showlegend\": true, \"type\": \"histogram\", \"x\": [\"CORPORATE MEMBERSHIP\", \"CORPORATE MEMBERSHIP\", \"CORPORATE MEMBERSHIP\", \"CORPORATE MEMBERSHIP\", \"CORPORATE MEMBERSHIP\", \"CORPORATE MEMBERSHIP\", \"CORPORATE MEMBERSHIP\", \"CORPORATE MEMBERSHIP\", \"CORPORATE MEMBERSHIP\", \"CORPORATE MEMBERSHIP\", \"CORPORATE MEMBERSHIP\", \"CORPORATE MEMBERSHIP\", \"CORPORATE MEMBERSHIP\", \"CORPORATE MEMBERSHIP\", \"CORPORATE MEMBERSHIP\", \"CORPORATE MEMBERSHIP\", \"CORPORATE MEMBERSHIP\", \"CORPORATE MEMBERSHIP\", \"CORPORATE MEMBERSHIP\", \"CORPORATE MEMBERSHIP\", \"CORPORATE MEMBERSHIP\"], \"xaxis\": \"x\", \"yaxis\": \"y\"}, {\"alignmentgroup\": \"True\", \"bingroup\": \"x\", \"hovertemplate\": \"color=NHS PENSION<br>value=%{x}<br>count=%{y}<extra></extra>\", \"legendgroup\": \"NHS PENSION\", \"marker\": {\"color\": \"#19d3f3\"}, \"name\": \"NHS PENSION\", \"offsetgroup\": \"NHS PENSION\", \"orientation\": \"v\", \"showlegend\": true, \"type\": \"histogram\", \"x\": [\"NHS PENSION\", \"NHS PENSION\", \"NHS PENSION\", \"NHS PENSION\"], \"xaxis\": \"x\", \"yaxis\": \"y\"}, {\"alignmentgroup\": \"True\", \"bingroup\": \"x\", \"hovertemplate\": \"color=PRU BOND<br>value=%{x}<br>count=%{y}<extra></extra>\", \"legendgroup\": \"PRU BOND\", \"marker\": {\"color\": \"#FF6692\"}, \"name\": \"PRU BOND\", \"offsetgroup\": \"PRU BOND\", \"orientation\": \"v\", \"showlegend\": true, \"type\": \"histogram\", \"x\": [\"PRU BOND\", \"PRU BOND\", \"PRU BOND\", \"PRU BOND\", \"PRU BOND\", \"PRU BOND\", \"PRU BOND\", \"PRU BOND\", \"PRU BOND\", \"PRU BOND\", \"PRU BOND\", \"PRU BOND\", \"PRU BOND\", \"PRU BOND\", \"PRU BOND\", \"PRU BOND\", \"PRU BOND\", \"PRU BOND\", \"PRU BOND\", \"PRU BOND\", \"PRU BOND\", \"PRU BOND\", \"PRU BOND\", \"PRU BOND\", \"PRU BOND\", \"PRU BOND\", \"PRU BOND\", \"PRU BOND\", \"PRU BOND\", \"PRU BOND\", \"PRU BOND\", \"PRU BOND\", \"PRU BOND\", \"PRU BOND\", \"PRU BOND\", \"PRU BOND\", \"PRU BOND\", \"PRU BOND\", \"PRU BOND\", \"PRU BOND\", \"PRU BOND\", \"PRU BOND\", \"PRU BOND\", \"PRU BOND\", \"PRU BOND\", \"PRU BOND\", \"PRU BOND\", \"PRU BOND\", \"PRU BOND\", \"PRU BOND\", \"PRU BOND\", \"PRU BOND\", \"PRU BOND\", \"PRU BOND\", \"PRU BOND\", \"PRU BOND\", \"PRU BOND\", \"PRU BOND\", \"PRU BOND\"], \"xaxis\": \"x\", \"yaxis\": \"y\"}, {\"alignmentgroup\": \"True\", \"bingroup\": \"x\", \"hovertemplate\": \"color=PRUDENTIAL INVESTMENT PLAN<br>value=%{x}<br>count=%{y}<extra></extra>\", \"legendgroup\": \"PRUDENTIAL INVESTMENT PLAN\", \"marker\": {\"color\": \"#B6E880\"}, \"name\": \"PRUDENTIAL INVESTMENT PLAN\", \"offsetgroup\": \"PRUDENTIAL INVESTMENT PLAN\", \"orientation\": \"v\", \"showlegend\": true, \"type\": \"histogram\", \"x\": [\"PRUDENTIAL INVESTMENT PLAN\", \"PRUDENTIAL INVESTMENT PLAN\", \"PRUDENTIAL INVESTMENT PLAN\", \"PRUDENTIAL INVESTMENT PLAN\", \"PRUDENTIAL INVESTMENT PLAN\", \"PRUDENTIAL INVESTMENT PLAN\", \"PRUDENTIAL INVESTMENT PLAN\", \"PRUDENTIAL INVESTMENT PLAN\", \"PRUDENTIAL INVESTMENT PLAN\", \"PRUDENTIAL INVESTMENT PLAN\", \"PRUDENTIAL INVESTMENT PLAN\", \"PRUDENTIAL INVESTMENT PLAN\", \"PRUDENTIAL INVESTMENT PLAN\", \"PRUDENTIAL INVESTMENT PLAN\", \"PRUDENTIAL INVESTMENT PLAN\", \"PRUDENTIAL INVESTMENT PLAN\", \"PRUDENTIAL INVESTMENT PLAN\", \"PRUDENTIAL INVESTMENT PLAN\", \"PRUDENTIAL INVESTMENT PLAN\", \"PRUDENTIAL INVESTMENT PLAN\", \"PRUDENTIAL INVESTMENT PLAN\", \"PRUDENTIAL INVESTMENT PLAN\", \"PRUDENTIAL INVESTMENT PLAN\", \"PRUDENTIAL INVESTMENT PLAN\", \"PRUDENTIAL INVESTMENT PLAN\", \"PRUDENTIAL INVESTMENT PLAN\", \"PRUDENTIAL INVESTMENT PLAN\", \"PRUDENTIAL INVESTMENT PLAN\", \"PRUDENTIAL INVESTMENT PLAN\", \"PRUDENTIAL INVESTMENT PLAN\", \"PRUDENTIAL INVESTMENT PLAN\", \"PRUDENTIAL INVESTMENT PLAN\", \"PRUDENTIAL INVESTMENT PLAN\", \"PRUDENTIAL INVESTMENT PLAN\", \"PRUDENTIAL INVESTMENT PLAN\", \"PRUDENTIAL INVESTMENT PLAN\", \"PRUDENTIAL INVESTMENT PLAN\", \"PRUDENTIAL INVESTMENT PLAN\", \"PRUDENTIAL INVESTMENT PLAN\", \"PRUDENTIAL INVESTMENT PLAN\", \"PRUDENTIAL INVESTMENT PLAN\", \"PRUDENTIAL INVESTMENT PLAN\", \"PRUDENTIAL INVESTMENT PLAN\", \"PRUDENTIAL INVESTMENT PLAN\", \"PRUDENTIAL INVESTMENT PLAN\", \"PRUDENTIAL INVESTMENT PLAN\", \"PRUDENTIAL INVESTMENT PLAN\", \"PRUDENTIAL INVESTMENT PLAN\", \"PRUDENTIAL INVESTMENT PLAN\", \"PRUDENTIAL INVESTMENT PLAN\", \"PRUDENTIAL INVESTMENT PLAN\", \"PRUDENTIAL INVESTMENT PLAN\", \"PRUDENTIAL INVESTMENT PLAN\", \"PRUDENTIAL INVESTMENT PLAN\", \"PRUDENTIAL INVESTMENT PLAN\", \"PRUDENTIAL INVESTMENT PLAN\", \"PRUDENTIAL INVESTMENT PLAN\", \"PRUDENTIAL INVESTMENT PLAN\", \"PRUDENTIAL INVESTMENT PLAN\", \"PRUDENTIAL INVESTMENT PLAN\", \"PRUDENTIAL INVESTMENT PLAN\", \"PRUDENTIAL INVESTMENT PLAN\", \"PRUDENTIAL INVESTMENT PLAN\", \"PRUDENTIAL INVESTMENT PLAN\", \"PRUDENTIAL INVESTMENT PLAN\", \"PRUDENTIAL INVESTMENT PLAN\", \"PRUDENTIAL INVESTMENT PLAN\", \"PRUDENTIAL INVESTMENT PLAN\", \"PRUDENTIAL INVESTMENT PLAN\", \"PRUDENTIAL INVESTMENT PLAN\", \"PRUDENTIAL INVESTMENT PLAN\", \"PRUDENTIAL INVESTMENT PLAN\", \"PRUDENTIAL INVESTMENT PLAN\", \"PRUDENTIAL INVESTMENT PLAN\", \"PRUDENTIAL INVESTMENT PLAN\", \"PRUDENTIAL INVESTMENT PLAN\", \"PRUDENTIAL INVESTMENT PLAN\", \"PRUDENTIAL INVESTMENT PLAN\", \"PRUDENTIAL INVESTMENT PLAN\", \"PRUDENTIAL INVESTMENT PLAN\", \"PRUDENTIAL INVESTMENT PLAN\", \"PRUDENTIAL INVESTMENT PLAN\", \"PRUDENTIAL INVESTMENT PLAN\", \"PRUDENTIAL INVESTMENT PLAN\", \"PRUDENTIAL INVESTMENT PLAN\", \"PRUDENTIAL INVESTMENT PLAN\", \"PRUDENTIAL INVESTMENT PLAN\", \"PRUDENTIAL INVESTMENT PLAN\", \"PRUDENTIAL INVESTMENT PLAN\", \"PRUDENTIAL INVESTMENT PLAN\", \"PRUDENTIAL INVESTMENT PLAN\", \"PRUDENTIAL INVESTMENT PLAN\", \"PRUDENTIAL INVESTMENT PLAN\", \"PRUDENTIAL INVESTMENT PLAN\", \"PRUDENTIAL INVESTMENT PLAN\", \"PRUDENTIAL INVESTMENT PLAN\", \"PRUDENTIAL INVESTMENT PLAN\", \"PRUDENTIAL INVESTMENT PLAN\", \"PRUDENTIAL INVESTMENT PLAN\"], \"xaxis\": \"x\", \"yaxis\": \"y\"}, {\"alignmentgroup\": \"True\", \"bingroup\": \"x\", \"hovertemplate\": \"color=STANDARD ANNUITY<br>value=%{x}<br>count=%{y}<extra></extra>\", \"legendgroup\": \"STANDARD ANNUITY\", \"marker\": {\"color\": \"#FF97FF\"}, \"name\": \"STANDARD ANNUITY\", \"offsetgroup\": \"STANDARD ANNUITY\", \"orientation\": \"v\", \"showlegend\": true, \"type\": \"histogram\", \"x\": [\"STANDARD ANNUITY\", \"STANDARD ANNUITY\", \"STANDARD ANNUITY\", \"STANDARD ANNUITY\", \"STANDARD ANNUITY\", \"STANDARD ANNUITY\", \"STANDARD ANNUITY\", \"STANDARD ANNUITY\", \"STANDARD ANNUITY\", \"STANDARD ANNUITY\", \"STANDARD ANNUITY\", \"STANDARD ANNUITY\", \"STANDARD ANNUITY\", \"STANDARD ANNUITY\", \"STANDARD ANNUITY\", \"STANDARD ANNUITY\", \"STANDARD ANNUITY\", \"STANDARD ANNUITY\", \"STANDARD ANNUITY\", \"STANDARD ANNUITY\", \"STANDARD ANNUITY\", \"STANDARD ANNUITY\", \"STANDARD ANNUITY\", \"STANDARD ANNUITY\", \"STANDARD ANNUITY\", \"STANDARD ANNUITY\", \"STANDARD ANNUITY\", \"STANDARD ANNUITY\", \"STANDARD ANNUITY\", \"STANDARD ANNUITY\", \"STANDARD ANNUITY\", \"STANDARD ANNUITY\", \"STANDARD ANNUITY\", \"STANDARD ANNUITY\", \"STANDARD ANNUITY\", \"STANDARD ANNUITY\", \"STANDARD ANNUITY\", \"STANDARD ANNUITY\", \"STANDARD ANNUITY\", \"STANDARD ANNUITY\", \"STANDARD ANNUITY\", \"STANDARD ANNUITY\", \"STANDARD ANNUITY\", \"STANDARD ANNUITY\", \"STANDARD ANNUITY\", \"STANDARD ANNUITY\", \"STANDARD ANNUITY\", \"STANDARD ANNUITY\", \"STANDARD ANNUITY\", \"STANDARD ANNUITY\", \"STANDARD ANNUITY\", \"STANDARD ANNUITY\", \"STANDARD ANNUITY\", \"STANDARD ANNUITY\", \"STANDARD ANNUITY\", \"STANDARD ANNUITY\", \"STANDARD ANNUITY\", \"STANDARD ANNUITY\", \"STANDARD ANNUITY\", \"STANDARD ANNUITY\", \"STANDARD ANNUITY\", \"STANDARD ANNUITY\", \"STANDARD ANNUITY\", \"STANDARD ANNUITY\", \"STANDARD ANNUITY\", \"STANDARD ANNUITY\", \"STANDARD ANNUITY\", \"STANDARD ANNUITY\", \"STANDARD ANNUITY\", \"STANDARD ANNUITY\", \"STANDARD ANNUITY\", \"STANDARD ANNUITY\", \"STANDARD ANNUITY\", \"STANDARD ANNUITY\", \"STANDARD ANNUITY\", \"STANDARD ANNUITY\", \"STANDARD ANNUITY\", \"STANDARD ANNUITY\", \"STANDARD ANNUITY\", \"STANDARD ANNUITY\", \"STANDARD ANNUITY\", \"STANDARD ANNUITY\", \"STANDARD ANNUITY\", \"STANDARD ANNUITY\", \"STANDARD ANNUITY\", \"STANDARD ANNUITY\", \"STANDARD ANNUITY\", \"STANDARD ANNUITY\", \"STANDARD ANNUITY\", \"STANDARD ANNUITY\", \"STANDARD ANNUITY\", \"STANDARD ANNUITY\", \"STANDARD ANNUITY\", \"STANDARD ANNUITY\", \"STANDARD ANNUITY\", \"STANDARD ANNUITY\", \"STANDARD ANNUITY\", \"STANDARD ANNUITY\", \"STANDARD ANNUITY\", \"STANDARD ANNUITY\", \"STANDARD ANNUITY\", \"STANDARD ANNUITY\", \"STANDARD ANNUITY\", \"STANDARD ANNUITY\", \"STANDARD ANNUITY\", \"STANDARD ANNUITY\", \"STANDARD ANNUITY\", \"STANDARD ANNUITY\", \"STANDARD ANNUITY\", \"STANDARD ANNUITY\", \"STANDARD ANNUITY\", \"STANDARD ANNUITY\", \"STANDARD ANNUITY\", \"STANDARD ANNUITY\", \"STANDARD ANNUITY\", \"STANDARD ANNUITY\", \"STANDARD ANNUITY\", \"STANDARD ANNUITY\", \"STANDARD ANNUITY\", \"STANDARD ANNUITY\", \"STANDARD ANNUITY\", \"STANDARD ANNUITY\"], \"xaxis\": \"x\", \"yaxis\": \"y\"}],                        {\"barmode\": \"relative\", \"legend\": {\"title\": {\"text\": \"color\"}, \"tracegroupgap\": 0}, \"template\": {\"data\": {\"bar\": [{\"error_x\": {\"color\": \"#2a3f5f\"}, \"error_y\": {\"color\": \"#2a3f5f\"}, \"marker\": {\"line\": {\"color\": \"#E5ECF6\", \"width\": 0.5}}, \"type\": \"bar\"}], \"barpolar\": [{\"marker\": {\"line\": {\"color\": \"#E5ECF6\", \"width\": 0.5}}, \"type\": \"barpolar\"}], \"carpet\": [{\"aaxis\": {\"endlinecolor\": \"#2a3f5f\", \"gridcolor\": \"white\", \"linecolor\": \"white\", \"minorgridcolor\": \"white\", \"startlinecolor\": \"#2a3f5f\"}, \"baxis\": {\"endlinecolor\": \"#2a3f5f\", \"gridcolor\": \"white\", \"linecolor\": \"white\", \"minorgridcolor\": \"white\", \"startlinecolor\": \"#2a3f5f\"}, \"type\": \"carpet\"}], \"choropleth\": [{\"colorbar\": {\"outlinewidth\": 0, \"ticks\": \"\"}, \"type\": \"choropleth\"}], \"contour\": [{\"colorbar\": {\"outlinewidth\": 0, \"ticks\": \"\"}, \"colorscale\": [[0.0, \"#0d0887\"], [0.1111111111111111, \"#46039f\"], [0.2222222222222222, \"#7201a8\"], [0.3333333333333333, \"#9c179e\"], [0.4444444444444444, \"#bd3786\"], [0.5555555555555556, \"#d8576b\"], [0.6666666666666666, \"#ed7953\"], [0.7777777777777778, \"#fb9f3a\"], [0.8888888888888888, \"#fdca26\"], [1.0, \"#f0f921\"]], \"type\": \"contour\"}], \"contourcarpet\": [{\"colorbar\": {\"outlinewidth\": 0, \"ticks\": \"\"}, \"type\": \"contourcarpet\"}], \"heatmap\": [{\"colorbar\": {\"outlinewidth\": 0, \"ticks\": \"\"}, \"colorscale\": [[0.0, \"#0d0887\"], [0.1111111111111111, \"#46039f\"], [0.2222222222222222, \"#7201a8\"], [0.3333333333333333, \"#9c179e\"], [0.4444444444444444, \"#bd3786\"], [0.5555555555555556, \"#d8576b\"], [0.6666666666666666, \"#ed7953\"], [0.7777777777777778, \"#fb9f3a\"], [0.8888888888888888, \"#fdca26\"], [1.0, \"#f0f921\"]], \"type\": \"heatmap\"}], \"heatmapgl\": [{\"colorbar\": {\"outlinewidth\": 0, \"ticks\": \"\"}, \"colorscale\": [[0.0, \"#0d0887\"], [0.1111111111111111, \"#46039f\"], [0.2222222222222222, \"#7201a8\"], [0.3333333333333333, \"#9c179e\"], [0.4444444444444444, \"#bd3786\"], [0.5555555555555556, \"#d8576b\"], [0.6666666666666666, \"#ed7953\"], [0.7777777777777778, \"#fb9f3a\"], [0.8888888888888888, \"#fdca26\"], [1.0, \"#f0f921\"]], \"type\": \"heatmapgl\"}], \"histogram\": [{\"marker\": {\"colorbar\": {\"outlinewidth\": 0, \"ticks\": \"\"}}, \"type\": \"histogram\"}], \"histogram2d\": [{\"colorbar\": {\"outlinewidth\": 0, \"ticks\": \"\"}, \"colorscale\": [[0.0, \"#0d0887\"], [0.1111111111111111, \"#46039f\"], [0.2222222222222222, \"#7201a8\"], [0.3333333333333333, \"#9c179e\"], [0.4444444444444444, \"#bd3786\"], [0.5555555555555556, \"#d8576b\"], [0.6666666666666666, \"#ed7953\"], [0.7777777777777778, \"#fb9f3a\"], [0.8888888888888888, \"#fdca26\"], [1.0, \"#f0f921\"]], \"type\": \"histogram2d\"}], \"histogram2dcontour\": [{\"colorbar\": {\"outlinewidth\": 0, \"ticks\": \"\"}, \"colorscale\": [[0.0, \"#0d0887\"], [0.1111111111111111, \"#46039f\"], [0.2222222222222222, \"#7201a8\"], [0.3333333333333333, \"#9c179e\"], [0.4444444444444444, \"#bd3786\"], [0.5555555555555556, \"#d8576b\"], [0.6666666666666666, \"#ed7953\"], [0.7777777777777778, \"#fb9f3a\"], [0.8888888888888888, \"#fdca26\"], [1.0, \"#f0f921\"]], \"type\": \"histogram2dcontour\"}], \"mesh3d\": [{\"colorbar\": {\"outlinewidth\": 0, \"ticks\": \"\"}, \"type\": \"mesh3d\"}], \"parcoords\": [{\"line\": {\"colorbar\": {\"outlinewidth\": 0, \"ticks\": \"\"}}, \"type\": \"parcoords\"}], \"pie\": [{\"automargin\": true, \"type\": \"pie\"}], \"scatter\": [{\"marker\": {\"colorbar\": {\"outlinewidth\": 0, \"ticks\": \"\"}}, \"type\": \"scatter\"}], \"scatter3d\": [{\"line\": {\"colorbar\": {\"outlinewidth\": 0, \"ticks\": \"\"}}, \"marker\": {\"colorbar\": {\"outlinewidth\": 0, \"ticks\": \"\"}}, \"type\": \"scatter3d\"}], \"scattercarpet\": [{\"marker\": {\"colorbar\": {\"outlinewidth\": 0, \"ticks\": \"\"}}, \"type\": \"scattercarpet\"}], \"scattergeo\": [{\"marker\": {\"colorbar\": {\"outlinewidth\": 0, \"ticks\": \"\"}}, \"type\": \"scattergeo\"}], \"scattergl\": [{\"marker\": {\"colorbar\": {\"outlinewidth\": 0, \"ticks\": \"\"}}, \"type\": \"scattergl\"}], \"scattermapbox\": [{\"marker\": {\"colorbar\": {\"outlinewidth\": 0, \"ticks\": \"\"}}, \"type\": \"scattermapbox\"}], \"scatterpolar\": [{\"marker\": {\"colorbar\": {\"outlinewidth\": 0, \"ticks\": \"\"}}, \"type\": \"scatterpolar\"}], \"scatterpolargl\": [{\"marker\": {\"colorbar\": {\"outlinewidth\": 0, \"ticks\": \"\"}}, \"type\": \"scatterpolargl\"}], \"scatterternary\": [{\"marker\": {\"colorbar\": {\"outlinewidth\": 0, \"ticks\": \"\"}}, \"type\": \"scatterternary\"}], \"surface\": [{\"colorbar\": {\"outlinewidth\": 0, \"ticks\": \"\"}, \"colorscale\": [[0.0, \"#0d0887\"], [0.1111111111111111, \"#46039f\"], [0.2222222222222222, \"#7201a8\"], [0.3333333333333333, \"#9c179e\"], [0.4444444444444444, \"#bd3786\"], [0.5555555555555556, \"#d8576b\"], [0.6666666666666666, \"#ed7953\"], [0.7777777777777778, \"#fb9f3a\"], [0.8888888888888888, \"#fdca26\"], [1.0, \"#f0f921\"]], \"type\": \"surface\"}], \"table\": [{\"cells\": {\"fill\": {\"color\": \"#EBF0F8\"}, \"line\": {\"color\": \"white\"}}, \"header\": {\"fill\": {\"color\": \"#C8D4E3\"}, \"line\": {\"color\": \"white\"}}, \"type\": \"table\"}]}, \"layout\": {\"annotationdefaults\": {\"arrowcolor\": \"#2a3f5f\", \"arrowhead\": 0, \"arrowwidth\": 1}, \"autotypenumbers\": \"strict\", \"coloraxis\": {\"colorbar\": {\"outlinewidth\": 0, \"ticks\": \"\"}}, \"colorscale\": {\"diverging\": [[0, \"#8e0152\"], [0.1, \"#c51b7d\"], [0.2, \"#de77ae\"], [0.3, \"#f1b6da\"], [0.4, \"#fde0ef\"], [0.5, \"#f7f7f7\"], [0.6, \"#e6f5d0\"], [0.7, \"#b8e186\"], [0.8, \"#7fbc41\"], [0.9, \"#4d9221\"], [1, \"#276419\"]], \"sequential\": [[0.0, \"#0d0887\"], [0.1111111111111111, \"#46039f\"], [0.2222222222222222, \"#7201a8\"], [0.3333333333333333, \"#9c179e\"], [0.4444444444444444, \"#bd3786\"], [0.5555555555555556, \"#d8576b\"], [0.6666666666666666, \"#ed7953\"], [0.7777777777777778, \"#fb9f3a\"], [0.8888888888888888, \"#fdca26\"], [1.0, \"#f0f921\"]], \"sequentialminus\": [[0.0, \"#0d0887\"], [0.1111111111111111, \"#46039f\"], [0.2222222222222222, \"#7201a8\"], [0.3333333333333333, \"#9c179e\"], [0.4444444444444444, \"#bd3786\"], [0.5555555555555556, \"#d8576b\"], [0.6666666666666666, \"#ed7953\"], [0.7777777777777778, \"#fb9f3a\"], [0.8888888888888888, \"#fdca26\"], [1.0, \"#f0f921\"]]}, \"colorway\": [\"#636efa\", \"#EF553B\", \"#00cc96\", \"#ab63fa\", \"#FFA15A\", \"#19d3f3\", \"#FF6692\", \"#B6E880\", \"#FF97FF\", \"#FECB52\"], \"font\": {\"color\": \"#2a3f5f\"}, \"geo\": {\"bgcolor\": \"white\", \"lakecolor\": \"white\", \"landcolor\": \"#E5ECF6\", \"showlakes\": true, \"showland\": true, \"subunitcolor\": \"white\"}, \"hoverlabel\": {\"align\": \"left\"}, \"hovermode\": \"closest\", \"mapbox\": {\"style\": \"light\"}, \"paper_bgcolor\": \"white\", \"plot_bgcolor\": \"#E5ECF6\", \"polar\": {\"angularaxis\": {\"gridcolor\": \"white\", \"linecolor\": \"white\", \"ticks\": \"\"}, \"bgcolor\": \"#E5ECF6\", \"radialaxis\": {\"gridcolor\": \"white\", \"linecolor\": \"white\", \"ticks\": \"\"}}, \"scene\": {\"xaxis\": {\"backgroundcolor\": \"#E5ECF6\", \"gridcolor\": \"white\", \"gridwidth\": 2, \"linecolor\": \"white\", \"showbackground\": true, \"ticks\": \"\", \"zerolinecolor\": \"white\"}, \"yaxis\": {\"backgroundcolor\": \"#E5ECF6\", \"gridcolor\": \"white\", \"gridwidth\": 2, \"linecolor\": \"white\", \"showbackground\": true, \"ticks\": \"\", \"zerolinecolor\": \"white\"}, \"zaxis\": {\"backgroundcolor\": \"#E5ECF6\", \"gridcolor\": \"white\", \"gridwidth\": 2, \"linecolor\": \"white\", \"showbackground\": true, \"ticks\": \"\", \"zerolinecolor\": \"white\"}}, \"shapedefaults\": {\"line\": {\"color\": \"#2a3f5f\"}}, \"ternary\": {\"aaxis\": {\"gridcolor\": \"white\", \"linecolor\": \"white\", \"ticks\": \"\"}, \"baxis\": {\"gridcolor\": \"white\", \"linecolor\": \"white\", \"ticks\": \"\"}, \"bgcolor\": \"#E5ECF6\", \"caxis\": {\"gridcolor\": \"white\", \"linecolor\": \"white\", \"ticks\": \"\"}}, \"title\": {\"x\": 0.05}, \"xaxis\": {\"automargin\": true, \"gridcolor\": \"white\", \"linecolor\": \"white\", \"ticks\": \"\", \"title\": {\"standoff\": 15}, \"zerolinecolor\": \"white\", \"zerolinewidth\": 2}, \"yaxis\": {\"automargin\": true, \"gridcolor\": \"white\", \"linecolor\": \"white\", \"ticks\": \"\", \"title\": {\"standoff\": 15}, \"zerolinecolor\": \"white\", \"zerolinewidth\": 2}}}, \"title\": {\"text\": \"Distribution of Product Name among Customers\"}, \"xaxis\": {\"anchor\": \"y\", \"domain\": [0.0, 1.0], \"title\": {\"text\": \"value\"}}, \"yaxis\": {\"anchor\": \"x\", \"domain\": [0.0, 1.0], \"title\": {\"text\": \"count\"}}},                        {\"responsive\": true}                    ).then(function(){\n",
       "                            \n",
       "var gd = document.getElementById('3b3bf022-3f49-475f-b0e7-246e8281dbaa');\n",
       "var x = new MutationObserver(function (mutations, observer) {{\n",
       "        var display = window.getComputedStyle(gd).display;\n",
       "        if (!display || display === 'none') {{\n",
       "            console.log([gd, 'removed!']);\n",
       "            Plotly.purge(gd);\n",
       "            observer.disconnect();\n",
       "        }}\n",
       "}});\n",
       "\n",
       "// Listen for the removal of the full notebook cells\n",
       "var notebookContainer = gd.closest('#notebook-container');\n",
       "if (notebookContainer) {{\n",
       "    x.observe(notebookContainer, {childList: true});\n",
       "}}\n",
       "\n",
       "// Listen for the clearing of the current output cell\n",
       "var outputEl = gd.closest('.output');\n",
       "if (outputEl) {{\n",
       "    x.observe(outputEl, {childList: true});\n",
       "}}\n",
       "\n",
       "                        })                };                });            </script>        </div>"
      ]
     },
     "metadata": {},
     "output_type": "display_data"
    }
   ],
   "source": [
    "px.histogram(Policy_Table['Product Name'], title='Distribution of Product Name among Customers', color=Policy_Table['Product Name'])"
   ]
  },
  {
   "cell_type": "code",
   "execution_count": 214,
   "metadata": {},
   "outputs": [
    {
     "data": {
      "application/vnd.plotly.v1+json": {
       "config": {
        "plotlyServerURL": "https://plot.ly"
       },
       "data": [
        {
         "alignmentgroup": "True",
         "hovertemplate": "Product Name=%{x}<br>Policy Value=%{marker.color}<extra></extra>",
         "legendgroup": "",
         "marker": {
          "color": [
           0,
           266467,
           503367,
           724039,
           304507,
           119643,
           20966,
           779033,
           504459995
          ],
          "coloraxis": "coloraxis"
         },
         "name": "",
         "offsetgroup": "",
         "orientation": "v",
         "showlegend": false,
         "text": [
          0,
          266467,
          503367,
          724039,
          304507,
          119643,
          20966,
          779033,
          504459995
         ],
         "textposition": "outside",
         "texttemplate": "%{text:.2s}",
         "type": "bar",
         "x": [
          "STANDARD ANNUITY",
          "PRU BOND",
          "PRUDENTIAL INVESTMENT PLAN",
          "FOCUSSED ISA",
          "PRUDENTIAL ISA",
          "CORPORATE MEMBERSHIP",
          "NHS PENSION",
          "SIPP",
          "RETIREMENT ACCOUNT"
         ],
         "xaxis": "x",
         "y": [
          0,
          266467,
          503367,
          724039,
          304507,
          119643,
          20966,
          779033,
          504459995
         ],
         "yaxis": "y"
        }
       ],
       "layout": {
        "barmode": "relative",
        "coloraxis": {
         "colorbar": {
          "title": {
           "text": "Policy Value"
          }
         },
         "colorscale": [
          [
           0,
           "#0d0887"
          ],
          [
           0.1111111111111111,
           "#46039f"
          ],
          [
           0.2222222222222222,
           "#7201a8"
          ],
          [
           0.3333333333333333,
           "#9c179e"
          ],
          [
           0.4444444444444444,
           "#bd3786"
          ],
          [
           0.5555555555555556,
           "#d8576b"
          ],
          [
           0.6666666666666666,
           "#ed7953"
          ],
          [
           0.7777777777777778,
           "#fb9f3a"
          ],
          [
           0.8888888888888888,
           "#fdca26"
          ],
          [
           1,
           "#f0f921"
          ]
         ]
        },
        "legend": {
         "tracegroupgap": 0
        },
        "template": {
         "data": {
          "bar": [
           {
            "error_x": {
             "color": "#2a3f5f"
            },
            "error_y": {
             "color": "#2a3f5f"
            },
            "marker": {
             "line": {
              "color": "#E5ECF6",
              "width": 0.5
             }
            },
            "type": "bar"
           }
          ],
          "barpolar": [
           {
            "marker": {
             "line": {
              "color": "#E5ECF6",
              "width": 0.5
             }
            },
            "type": "barpolar"
           }
          ],
          "carpet": [
           {
            "aaxis": {
             "endlinecolor": "#2a3f5f",
             "gridcolor": "white",
             "linecolor": "white",
             "minorgridcolor": "white",
             "startlinecolor": "#2a3f5f"
            },
            "baxis": {
             "endlinecolor": "#2a3f5f",
             "gridcolor": "white",
             "linecolor": "white",
             "minorgridcolor": "white",
             "startlinecolor": "#2a3f5f"
            },
            "type": "carpet"
           }
          ],
          "choropleth": [
           {
            "colorbar": {
             "outlinewidth": 0,
             "ticks": ""
            },
            "type": "choropleth"
           }
          ],
          "contour": [
           {
            "colorbar": {
             "outlinewidth": 0,
             "ticks": ""
            },
            "colorscale": [
             [
              0,
              "#0d0887"
             ],
             [
              0.1111111111111111,
              "#46039f"
             ],
             [
              0.2222222222222222,
              "#7201a8"
             ],
             [
              0.3333333333333333,
              "#9c179e"
             ],
             [
              0.4444444444444444,
              "#bd3786"
             ],
             [
              0.5555555555555556,
              "#d8576b"
             ],
             [
              0.6666666666666666,
              "#ed7953"
             ],
             [
              0.7777777777777778,
              "#fb9f3a"
             ],
             [
              0.8888888888888888,
              "#fdca26"
             ],
             [
              1,
              "#f0f921"
             ]
            ],
            "type": "contour"
           }
          ],
          "contourcarpet": [
           {
            "colorbar": {
             "outlinewidth": 0,
             "ticks": ""
            },
            "type": "contourcarpet"
           }
          ],
          "heatmap": [
           {
            "colorbar": {
             "outlinewidth": 0,
             "ticks": ""
            },
            "colorscale": [
             [
              0,
              "#0d0887"
             ],
             [
              0.1111111111111111,
              "#46039f"
             ],
             [
              0.2222222222222222,
              "#7201a8"
             ],
             [
              0.3333333333333333,
              "#9c179e"
             ],
             [
              0.4444444444444444,
              "#bd3786"
             ],
             [
              0.5555555555555556,
              "#d8576b"
             ],
             [
              0.6666666666666666,
              "#ed7953"
             ],
             [
              0.7777777777777778,
              "#fb9f3a"
             ],
             [
              0.8888888888888888,
              "#fdca26"
             ],
             [
              1,
              "#f0f921"
             ]
            ],
            "type": "heatmap"
           }
          ],
          "heatmapgl": [
           {
            "colorbar": {
             "outlinewidth": 0,
             "ticks": ""
            },
            "colorscale": [
             [
              0,
              "#0d0887"
             ],
             [
              0.1111111111111111,
              "#46039f"
             ],
             [
              0.2222222222222222,
              "#7201a8"
             ],
             [
              0.3333333333333333,
              "#9c179e"
             ],
             [
              0.4444444444444444,
              "#bd3786"
             ],
             [
              0.5555555555555556,
              "#d8576b"
             ],
             [
              0.6666666666666666,
              "#ed7953"
             ],
             [
              0.7777777777777778,
              "#fb9f3a"
             ],
             [
              0.8888888888888888,
              "#fdca26"
             ],
             [
              1,
              "#f0f921"
             ]
            ],
            "type": "heatmapgl"
           }
          ],
          "histogram": [
           {
            "marker": {
             "colorbar": {
              "outlinewidth": 0,
              "ticks": ""
             }
            },
            "type": "histogram"
           }
          ],
          "histogram2d": [
           {
            "colorbar": {
             "outlinewidth": 0,
             "ticks": ""
            },
            "colorscale": [
             [
              0,
              "#0d0887"
             ],
             [
              0.1111111111111111,
              "#46039f"
             ],
             [
              0.2222222222222222,
              "#7201a8"
             ],
             [
              0.3333333333333333,
              "#9c179e"
             ],
             [
              0.4444444444444444,
              "#bd3786"
             ],
             [
              0.5555555555555556,
              "#d8576b"
             ],
             [
              0.6666666666666666,
              "#ed7953"
             ],
             [
              0.7777777777777778,
              "#fb9f3a"
             ],
             [
              0.8888888888888888,
              "#fdca26"
             ],
             [
              1,
              "#f0f921"
             ]
            ],
            "type": "histogram2d"
           }
          ],
          "histogram2dcontour": [
           {
            "colorbar": {
             "outlinewidth": 0,
             "ticks": ""
            },
            "colorscale": [
             [
              0,
              "#0d0887"
             ],
             [
              0.1111111111111111,
              "#46039f"
             ],
             [
              0.2222222222222222,
              "#7201a8"
             ],
             [
              0.3333333333333333,
              "#9c179e"
             ],
             [
              0.4444444444444444,
              "#bd3786"
             ],
             [
              0.5555555555555556,
              "#d8576b"
             ],
             [
              0.6666666666666666,
              "#ed7953"
             ],
             [
              0.7777777777777778,
              "#fb9f3a"
             ],
             [
              0.8888888888888888,
              "#fdca26"
             ],
             [
              1,
              "#f0f921"
             ]
            ],
            "type": "histogram2dcontour"
           }
          ],
          "mesh3d": [
           {
            "colorbar": {
             "outlinewidth": 0,
             "ticks": ""
            },
            "type": "mesh3d"
           }
          ],
          "parcoords": [
           {
            "line": {
             "colorbar": {
              "outlinewidth": 0,
              "ticks": ""
             }
            },
            "type": "parcoords"
           }
          ],
          "pie": [
           {
            "automargin": true,
            "type": "pie"
           }
          ],
          "scatter": [
           {
            "marker": {
             "colorbar": {
              "outlinewidth": 0,
              "ticks": ""
             }
            },
            "type": "scatter"
           }
          ],
          "scatter3d": [
           {
            "line": {
             "colorbar": {
              "outlinewidth": 0,
              "ticks": ""
             }
            },
            "marker": {
             "colorbar": {
              "outlinewidth": 0,
              "ticks": ""
             }
            },
            "type": "scatter3d"
           }
          ],
          "scattercarpet": [
           {
            "marker": {
             "colorbar": {
              "outlinewidth": 0,
              "ticks": ""
             }
            },
            "type": "scattercarpet"
           }
          ],
          "scattergeo": [
           {
            "marker": {
             "colorbar": {
              "outlinewidth": 0,
              "ticks": ""
             }
            },
            "type": "scattergeo"
           }
          ],
          "scattergl": [
           {
            "marker": {
             "colorbar": {
              "outlinewidth": 0,
              "ticks": ""
             }
            },
            "type": "scattergl"
           }
          ],
          "scattermapbox": [
           {
            "marker": {
             "colorbar": {
              "outlinewidth": 0,
              "ticks": ""
             }
            },
            "type": "scattermapbox"
           }
          ],
          "scatterpolar": [
           {
            "marker": {
             "colorbar": {
              "outlinewidth": 0,
              "ticks": ""
             }
            },
            "type": "scatterpolar"
           }
          ],
          "scatterpolargl": [
           {
            "marker": {
             "colorbar": {
              "outlinewidth": 0,
              "ticks": ""
             }
            },
            "type": "scatterpolargl"
           }
          ],
          "scatterternary": [
           {
            "marker": {
             "colorbar": {
              "outlinewidth": 0,
              "ticks": ""
             }
            },
            "type": "scatterternary"
           }
          ],
          "surface": [
           {
            "colorbar": {
             "outlinewidth": 0,
             "ticks": ""
            },
            "colorscale": [
             [
              0,
              "#0d0887"
             ],
             [
              0.1111111111111111,
              "#46039f"
             ],
             [
              0.2222222222222222,
              "#7201a8"
             ],
             [
              0.3333333333333333,
              "#9c179e"
             ],
             [
              0.4444444444444444,
              "#bd3786"
             ],
             [
              0.5555555555555556,
              "#d8576b"
             ],
             [
              0.6666666666666666,
              "#ed7953"
             ],
             [
              0.7777777777777778,
              "#fb9f3a"
             ],
             [
              0.8888888888888888,
              "#fdca26"
             ],
             [
              1,
              "#f0f921"
             ]
            ],
            "type": "surface"
           }
          ],
          "table": [
           {
            "cells": {
             "fill": {
              "color": "#EBF0F8"
             },
             "line": {
              "color": "white"
             }
            },
            "header": {
             "fill": {
              "color": "#C8D4E3"
             },
             "line": {
              "color": "white"
             }
            },
            "type": "table"
           }
          ]
         },
         "layout": {
          "annotationdefaults": {
           "arrowcolor": "#2a3f5f",
           "arrowhead": 0,
           "arrowwidth": 1
          },
          "autotypenumbers": "strict",
          "coloraxis": {
           "colorbar": {
            "outlinewidth": 0,
            "ticks": ""
           }
          },
          "colorscale": {
           "diverging": [
            [
             0,
             "#8e0152"
            ],
            [
             0.1,
             "#c51b7d"
            ],
            [
             0.2,
             "#de77ae"
            ],
            [
             0.3,
             "#f1b6da"
            ],
            [
             0.4,
             "#fde0ef"
            ],
            [
             0.5,
             "#f7f7f7"
            ],
            [
             0.6,
             "#e6f5d0"
            ],
            [
             0.7,
             "#b8e186"
            ],
            [
             0.8,
             "#7fbc41"
            ],
            [
             0.9,
             "#4d9221"
            ],
            [
             1,
             "#276419"
            ]
           ],
           "sequential": [
            [
             0,
             "#0d0887"
            ],
            [
             0.1111111111111111,
             "#46039f"
            ],
            [
             0.2222222222222222,
             "#7201a8"
            ],
            [
             0.3333333333333333,
             "#9c179e"
            ],
            [
             0.4444444444444444,
             "#bd3786"
            ],
            [
             0.5555555555555556,
             "#d8576b"
            ],
            [
             0.6666666666666666,
             "#ed7953"
            ],
            [
             0.7777777777777778,
             "#fb9f3a"
            ],
            [
             0.8888888888888888,
             "#fdca26"
            ],
            [
             1,
             "#f0f921"
            ]
           ],
           "sequentialminus": [
            [
             0,
             "#0d0887"
            ],
            [
             0.1111111111111111,
             "#46039f"
            ],
            [
             0.2222222222222222,
             "#7201a8"
            ],
            [
             0.3333333333333333,
             "#9c179e"
            ],
            [
             0.4444444444444444,
             "#bd3786"
            ],
            [
             0.5555555555555556,
             "#d8576b"
            ],
            [
             0.6666666666666666,
             "#ed7953"
            ],
            [
             0.7777777777777778,
             "#fb9f3a"
            ],
            [
             0.8888888888888888,
             "#fdca26"
            ],
            [
             1,
             "#f0f921"
            ]
           ]
          },
          "colorway": [
           "#636efa",
           "#EF553B",
           "#00cc96",
           "#ab63fa",
           "#FFA15A",
           "#19d3f3",
           "#FF6692",
           "#B6E880",
           "#FF97FF",
           "#FECB52"
          ],
          "font": {
           "color": "#2a3f5f"
          },
          "geo": {
           "bgcolor": "white",
           "lakecolor": "white",
           "landcolor": "#E5ECF6",
           "showlakes": true,
           "showland": true,
           "subunitcolor": "white"
          },
          "hoverlabel": {
           "align": "left"
          },
          "hovermode": "closest",
          "mapbox": {
           "style": "light"
          },
          "paper_bgcolor": "white",
          "plot_bgcolor": "#E5ECF6",
          "polar": {
           "angularaxis": {
            "gridcolor": "white",
            "linecolor": "white",
            "ticks": ""
           },
           "bgcolor": "#E5ECF6",
           "radialaxis": {
            "gridcolor": "white",
            "linecolor": "white",
            "ticks": ""
           }
          },
          "scene": {
           "xaxis": {
            "backgroundcolor": "#E5ECF6",
            "gridcolor": "white",
            "gridwidth": 2,
            "linecolor": "white",
            "showbackground": true,
            "ticks": "",
            "zerolinecolor": "white"
           },
           "yaxis": {
            "backgroundcolor": "#E5ECF6",
            "gridcolor": "white",
            "gridwidth": 2,
            "linecolor": "white",
            "showbackground": true,
            "ticks": "",
            "zerolinecolor": "white"
           },
           "zaxis": {
            "backgroundcolor": "#E5ECF6",
            "gridcolor": "white",
            "gridwidth": 2,
            "linecolor": "white",
            "showbackground": true,
            "ticks": "",
            "zerolinecolor": "white"
           }
          },
          "shapedefaults": {
           "line": {
            "color": "#2a3f5f"
           }
          },
          "ternary": {
           "aaxis": {
            "gridcolor": "white",
            "linecolor": "white",
            "ticks": ""
           },
           "baxis": {
            "gridcolor": "white",
            "linecolor": "white",
            "ticks": ""
           },
           "bgcolor": "#E5ECF6",
           "caxis": {
            "gridcolor": "white",
            "linecolor": "white",
            "ticks": ""
           }
          },
          "title": {
           "x": 0.05
          },
          "xaxis": {
           "automargin": true,
           "gridcolor": "white",
           "linecolor": "white",
           "ticks": "",
           "title": {
            "standoff": 15
           },
           "zerolinecolor": "white",
           "zerolinewidth": 2
          },
          "yaxis": {
           "automargin": true,
           "gridcolor": "white",
           "linecolor": "white",
           "ticks": "",
           "title": {
            "standoff": 15
           },
           "zerolinecolor": "white",
           "zerolinewidth": 2
          }
         }
        },
        "title": {
         "text": "Policy Value by Product Name"
        },
        "uniformtext": {
         "minsize": 8,
         "mode": "hide"
        },
        "xaxis": {
         "anchor": "y",
         "domain": [
          0,
          1
         ],
         "title": {
          "text": "Product Name"
         }
        },
        "yaxis": {
         "anchor": "x",
         "domain": [
          0,
          1
         ],
         "title": {
          "text": "Policy Value"
         }
        }
       }
      },
      "text/html": [
       "<div>                            <div id=\"2eb69343-ec87-445c-ac2c-a0eea6a05833\" class=\"plotly-graph-div\" style=\"height:525px; width:100%;\"></div>            <script type=\"text/javascript\">                require([\"plotly\"], function(Plotly) {                    window.PLOTLYENV=window.PLOTLYENV || {};                                    if (document.getElementById(\"2eb69343-ec87-445c-ac2c-a0eea6a05833\")) {                    Plotly.newPlot(                        \"2eb69343-ec87-445c-ac2c-a0eea6a05833\",                        [{\"alignmentgroup\": \"True\", \"hovertemplate\": \"Product Name=%{x}<br>Policy Value=%{marker.color}<extra></extra>\", \"legendgroup\": \"\", \"marker\": {\"color\": [0.0, 266467.0, 503367.0, 724039.0, 304507.0, 119643.0, 20966.0, 779033.0, 504459995.0], \"coloraxis\": \"coloraxis\"}, \"name\": \"\", \"offsetgroup\": \"\", \"orientation\": \"v\", \"showlegend\": false, \"text\": [0.0, 266467.0, 503367.0, 724039.0, 304507.0, 119643.0, 20966.0, 779033.0, 504459995.0], \"textposition\": \"outside\", \"texttemplate\": \"%{text:.2s}\", \"type\": \"bar\", \"x\": [\"STANDARD ANNUITY\", \"PRU BOND\", \"PRUDENTIAL INVESTMENT PLAN\", \"FOCUSSED ISA\", \"PRUDENTIAL ISA\", \"CORPORATE MEMBERSHIP\", \"NHS PENSION\", \"SIPP\", \"RETIREMENT ACCOUNT\"], \"xaxis\": \"x\", \"y\": [0.0, 266467.0, 503367.0, 724039.0, 304507.0, 119643.0, 20966.0, 779033.0, 504459995.0], \"yaxis\": \"y\"}],                        {\"barmode\": \"relative\", \"coloraxis\": {\"colorbar\": {\"title\": {\"text\": \"Policy Value\"}}, \"colorscale\": [[0.0, \"#0d0887\"], [0.1111111111111111, \"#46039f\"], [0.2222222222222222, \"#7201a8\"], [0.3333333333333333, \"#9c179e\"], [0.4444444444444444, \"#bd3786\"], [0.5555555555555556, \"#d8576b\"], [0.6666666666666666, \"#ed7953\"], [0.7777777777777778, \"#fb9f3a\"], [0.8888888888888888, \"#fdca26\"], [1.0, \"#f0f921\"]]}, \"legend\": {\"tracegroupgap\": 0}, \"template\": {\"data\": {\"bar\": [{\"error_x\": {\"color\": \"#2a3f5f\"}, \"error_y\": {\"color\": \"#2a3f5f\"}, \"marker\": {\"line\": {\"color\": \"#E5ECF6\", \"width\": 0.5}}, \"type\": \"bar\"}], \"barpolar\": [{\"marker\": {\"line\": {\"color\": \"#E5ECF6\", \"width\": 0.5}}, \"type\": \"barpolar\"}], \"carpet\": [{\"aaxis\": {\"endlinecolor\": \"#2a3f5f\", \"gridcolor\": \"white\", \"linecolor\": \"white\", \"minorgridcolor\": \"white\", \"startlinecolor\": \"#2a3f5f\"}, \"baxis\": {\"endlinecolor\": \"#2a3f5f\", \"gridcolor\": \"white\", \"linecolor\": \"white\", \"minorgridcolor\": \"white\", \"startlinecolor\": \"#2a3f5f\"}, \"type\": \"carpet\"}], \"choropleth\": [{\"colorbar\": {\"outlinewidth\": 0, \"ticks\": \"\"}, \"type\": \"choropleth\"}], \"contour\": [{\"colorbar\": {\"outlinewidth\": 0, \"ticks\": \"\"}, \"colorscale\": [[0.0, \"#0d0887\"], [0.1111111111111111, \"#46039f\"], [0.2222222222222222, \"#7201a8\"], [0.3333333333333333, \"#9c179e\"], [0.4444444444444444, \"#bd3786\"], [0.5555555555555556, \"#d8576b\"], [0.6666666666666666, \"#ed7953\"], [0.7777777777777778, \"#fb9f3a\"], [0.8888888888888888, \"#fdca26\"], [1.0, \"#f0f921\"]], \"type\": \"contour\"}], \"contourcarpet\": [{\"colorbar\": {\"outlinewidth\": 0, \"ticks\": \"\"}, \"type\": \"contourcarpet\"}], \"heatmap\": [{\"colorbar\": {\"outlinewidth\": 0, \"ticks\": \"\"}, \"colorscale\": [[0.0, \"#0d0887\"], [0.1111111111111111, \"#46039f\"], [0.2222222222222222, \"#7201a8\"], [0.3333333333333333, \"#9c179e\"], [0.4444444444444444, \"#bd3786\"], [0.5555555555555556, \"#d8576b\"], [0.6666666666666666, \"#ed7953\"], [0.7777777777777778, \"#fb9f3a\"], [0.8888888888888888, \"#fdca26\"], [1.0, \"#f0f921\"]], \"type\": \"heatmap\"}], \"heatmapgl\": [{\"colorbar\": {\"outlinewidth\": 0, \"ticks\": \"\"}, \"colorscale\": [[0.0, \"#0d0887\"], [0.1111111111111111, \"#46039f\"], [0.2222222222222222, \"#7201a8\"], [0.3333333333333333, \"#9c179e\"], [0.4444444444444444, \"#bd3786\"], [0.5555555555555556, \"#d8576b\"], [0.6666666666666666, \"#ed7953\"], [0.7777777777777778, \"#fb9f3a\"], [0.8888888888888888, \"#fdca26\"], [1.0, \"#f0f921\"]], \"type\": \"heatmapgl\"}], \"histogram\": [{\"marker\": {\"colorbar\": {\"outlinewidth\": 0, \"ticks\": \"\"}}, \"type\": \"histogram\"}], \"histogram2d\": [{\"colorbar\": {\"outlinewidth\": 0, \"ticks\": \"\"}, \"colorscale\": [[0.0, \"#0d0887\"], [0.1111111111111111, \"#46039f\"], [0.2222222222222222, \"#7201a8\"], [0.3333333333333333, \"#9c179e\"], [0.4444444444444444, \"#bd3786\"], [0.5555555555555556, \"#d8576b\"], [0.6666666666666666, \"#ed7953\"], [0.7777777777777778, \"#fb9f3a\"], [0.8888888888888888, \"#fdca26\"], [1.0, \"#f0f921\"]], \"type\": \"histogram2d\"}], \"histogram2dcontour\": [{\"colorbar\": {\"outlinewidth\": 0, \"ticks\": \"\"}, \"colorscale\": [[0.0, \"#0d0887\"], [0.1111111111111111, \"#46039f\"], [0.2222222222222222, \"#7201a8\"], [0.3333333333333333, \"#9c179e\"], [0.4444444444444444, \"#bd3786\"], [0.5555555555555556, \"#d8576b\"], [0.6666666666666666, \"#ed7953\"], [0.7777777777777778, \"#fb9f3a\"], [0.8888888888888888, \"#fdca26\"], [1.0, \"#f0f921\"]], \"type\": \"histogram2dcontour\"}], \"mesh3d\": [{\"colorbar\": {\"outlinewidth\": 0, \"ticks\": \"\"}, \"type\": \"mesh3d\"}], \"parcoords\": [{\"line\": {\"colorbar\": {\"outlinewidth\": 0, \"ticks\": \"\"}}, \"type\": \"parcoords\"}], \"pie\": [{\"automargin\": true, \"type\": \"pie\"}], \"scatter\": [{\"marker\": {\"colorbar\": {\"outlinewidth\": 0, \"ticks\": \"\"}}, \"type\": \"scatter\"}], \"scatter3d\": [{\"line\": {\"colorbar\": {\"outlinewidth\": 0, \"ticks\": \"\"}}, \"marker\": {\"colorbar\": {\"outlinewidth\": 0, \"ticks\": \"\"}}, \"type\": \"scatter3d\"}], \"scattercarpet\": [{\"marker\": {\"colorbar\": {\"outlinewidth\": 0, \"ticks\": \"\"}}, \"type\": \"scattercarpet\"}], \"scattergeo\": [{\"marker\": {\"colorbar\": {\"outlinewidth\": 0, \"ticks\": \"\"}}, \"type\": \"scattergeo\"}], \"scattergl\": [{\"marker\": {\"colorbar\": {\"outlinewidth\": 0, \"ticks\": \"\"}}, \"type\": \"scattergl\"}], \"scattermapbox\": [{\"marker\": {\"colorbar\": {\"outlinewidth\": 0, \"ticks\": \"\"}}, \"type\": \"scattermapbox\"}], \"scatterpolar\": [{\"marker\": {\"colorbar\": {\"outlinewidth\": 0, \"ticks\": \"\"}}, \"type\": \"scatterpolar\"}], \"scatterpolargl\": [{\"marker\": {\"colorbar\": {\"outlinewidth\": 0, \"ticks\": \"\"}}, \"type\": \"scatterpolargl\"}], \"scatterternary\": [{\"marker\": {\"colorbar\": {\"outlinewidth\": 0, \"ticks\": \"\"}}, \"type\": \"scatterternary\"}], \"surface\": [{\"colorbar\": {\"outlinewidth\": 0, \"ticks\": \"\"}, \"colorscale\": [[0.0, \"#0d0887\"], [0.1111111111111111, \"#46039f\"], [0.2222222222222222, \"#7201a8\"], [0.3333333333333333, \"#9c179e\"], [0.4444444444444444, \"#bd3786\"], [0.5555555555555556, \"#d8576b\"], [0.6666666666666666, \"#ed7953\"], [0.7777777777777778, \"#fb9f3a\"], [0.8888888888888888, \"#fdca26\"], [1.0, \"#f0f921\"]], \"type\": \"surface\"}], \"table\": [{\"cells\": {\"fill\": {\"color\": \"#EBF0F8\"}, \"line\": {\"color\": \"white\"}}, \"header\": {\"fill\": {\"color\": \"#C8D4E3\"}, \"line\": {\"color\": \"white\"}}, \"type\": \"table\"}]}, \"layout\": {\"annotationdefaults\": {\"arrowcolor\": \"#2a3f5f\", \"arrowhead\": 0, \"arrowwidth\": 1}, \"autotypenumbers\": \"strict\", \"coloraxis\": {\"colorbar\": {\"outlinewidth\": 0, \"ticks\": \"\"}}, \"colorscale\": {\"diverging\": [[0, \"#8e0152\"], [0.1, \"#c51b7d\"], [0.2, \"#de77ae\"], [0.3, \"#f1b6da\"], [0.4, \"#fde0ef\"], [0.5, \"#f7f7f7\"], [0.6, \"#e6f5d0\"], [0.7, \"#b8e186\"], [0.8, \"#7fbc41\"], [0.9, \"#4d9221\"], [1, \"#276419\"]], \"sequential\": [[0.0, \"#0d0887\"], [0.1111111111111111, \"#46039f\"], [0.2222222222222222, \"#7201a8\"], [0.3333333333333333, \"#9c179e\"], [0.4444444444444444, \"#bd3786\"], [0.5555555555555556, \"#d8576b\"], [0.6666666666666666, \"#ed7953\"], [0.7777777777777778, \"#fb9f3a\"], [0.8888888888888888, \"#fdca26\"], [1.0, \"#f0f921\"]], \"sequentialminus\": [[0.0, \"#0d0887\"], [0.1111111111111111, \"#46039f\"], [0.2222222222222222, \"#7201a8\"], [0.3333333333333333, \"#9c179e\"], [0.4444444444444444, \"#bd3786\"], [0.5555555555555556, \"#d8576b\"], [0.6666666666666666, \"#ed7953\"], [0.7777777777777778, \"#fb9f3a\"], [0.8888888888888888, \"#fdca26\"], [1.0, \"#f0f921\"]]}, \"colorway\": [\"#636efa\", \"#EF553B\", \"#00cc96\", \"#ab63fa\", \"#FFA15A\", \"#19d3f3\", \"#FF6692\", \"#B6E880\", \"#FF97FF\", \"#FECB52\"], \"font\": {\"color\": \"#2a3f5f\"}, \"geo\": {\"bgcolor\": \"white\", \"lakecolor\": \"white\", \"landcolor\": \"#E5ECF6\", \"showlakes\": true, \"showland\": true, \"subunitcolor\": \"white\"}, \"hoverlabel\": {\"align\": \"left\"}, \"hovermode\": \"closest\", \"mapbox\": {\"style\": \"light\"}, \"paper_bgcolor\": \"white\", \"plot_bgcolor\": \"#E5ECF6\", \"polar\": {\"angularaxis\": {\"gridcolor\": \"white\", \"linecolor\": \"white\", \"ticks\": \"\"}, \"bgcolor\": \"#E5ECF6\", \"radialaxis\": {\"gridcolor\": \"white\", \"linecolor\": \"white\", \"ticks\": \"\"}}, \"scene\": {\"xaxis\": {\"backgroundcolor\": \"#E5ECF6\", \"gridcolor\": \"white\", \"gridwidth\": 2, \"linecolor\": \"white\", \"showbackground\": true, \"ticks\": \"\", \"zerolinecolor\": \"white\"}, \"yaxis\": {\"backgroundcolor\": \"#E5ECF6\", \"gridcolor\": \"white\", \"gridwidth\": 2, \"linecolor\": \"white\", \"showbackground\": true, \"ticks\": \"\", \"zerolinecolor\": \"white\"}, \"zaxis\": {\"backgroundcolor\": \"#E5ECF6\", \"gridcolor\": \"white\", \"gridwidth\": 2, \"linecolor\": \"white\", \"showbackground\": true, \"ticks\": \"\", \"zerolinecolor\": \"white\"}}, \"shapedefaults\": {\"line\": {\"color\": \"#2a3f5f\"}}, \"ternary\": {\"aaxis\": {\"gridcolor\": \"white\", \"linecolor\": \"white\", \"ticks\": \"\"}, \"baxis\": {\"gridcolor\": \"white\", \"linecolor\": \"white\", \"ticks\": \"\"}, \"bgcolor\": \"#E5ECF6\", \"caxis\": {\"gridcolor\": \"white\", \"linecolor\": \"white\", \"ticks\": \"\"}}, \"title\": {\"x\": 0.05}, \"xaxis\": {\"automargin\": true, \"gridcolor\": \"white\", \"linecolor\": \"white\", \"ticks\": \"\", \"title\": {\"standoff\": 15}, \"zerolinecolor\": \"white\", \"zerolinewidth\": 2}, \"yaxis\": {\"automargin\": true, \"gridcolor\": \"white\", \"linecolor\": \"white\", \"ticks\": \"\", \"title\": {\"standoff\": 15}, \"zerolinecolor\": \"white\", \"zerolinewidth\": 2}}}, \"title\": {\"text\": \"Policy Value by Product Name\"}, \"uniformtext\": {\"minsize\": 8, \"mode\": \"hide\"}, \"xaxis\": {\"anchor\": \"y\", \"domain\": [0.0, 1.0], \"title\": {\"text\": \"Product Name\"}}, \"yaxis\": {\"anchor\": \"x\", \"domain\": [0.0, 1.0], \"title\": {\"text\": \"Policy Value\"}}},                        {\"responsive\": true}                    ).then(function(){\n",
       "                            \n",
       "var gd = document.getElementById('2eb69343-ec87-445c-ac2c-a0eea6a05833');\n",
       "var x = new MutationObserver(function (mutations, observer) {{\n",
       "        var display = window.getComputedStyle(gd).display;\n",
       "        if (!display || display === 'none') {{\n",
       "            console.log([gd, 'removed!']);\n",
       "            Plotly.purge(gd);\n",
       "            observer.disconnect();\n",
       "        }}\n",
       "}});\n",
       "\n",
       "// Listen for the removal of the full notebook cells\n",
       "var notebookContainer = gd.closest('#notebook-container');\n",
       "if (notebookContainer) {{\n",
       "    x.observe(notebookContainer, {childList: true});\n",
       "}}\n",
       "\n",
       "// Listen for the clearing of the current output cell\n",
       "var outputEl = gd.closest('.output');\n",
       "if (outputEl) {{\n",
       "    x.observe(outputEl, {childList: true});\n",
       "}}\n",
       "\n",
       "                        })                };                });            </script>        </div>"
      ]
     },
     "metadata": {},
     "output_type": "display_data"
    }
   ],
   "source": [
    "fig = px.bar(cat, x='Product Name',y='Policy Value', title='Policy Value by Product Name', \n",
    "             color=cat['Policy Value'], text = 'Policy Value')\n",
    "fig.update_traces(texttemplate='%{text:.2s}', textposition='outside')\n",
    "fig.update_layout(uniformtext_minsize=8, uniformtext_mode='hide')\n",
    "fig.show()"
   ]
  },
  {
   "cell_type": "code",
   "execution_count": 160,
   "metadata": {},
   "outputs": [
    {
     "data": {
      "text/plain": [
       "Gender\n",
       "Female    808\n",
       "Male      827\n",
       "Name: Policy Number, dtype: int64"
      ]
     },
     "execution_count": 160,
     "metadata": {},
     "output_type": "execute_result"
    }
   ],
   "source": [
    "dfNew.groupby(\"Gender\")[\"Policy Number\"].count()"
   ]
  },
  {
   "cell_type": "code",
   "execution_count": 192,
   "metadata": {},
   "outputs": [
    {
     "data": {
      "text/html": [
       "<div>\n",
       "<style scoped>\n",
       "    .dataframe tbody tr th:only-of-type {\n",
       "        vertical-align: middle;\n",
       "    }\n",
       "\n",
       "    .dataframe tbody tr th {\n",
       "        vertical-align: top;\n",
       "    }\n",
       "\n",
       "    .dataframe thead th {\n",
       "        text-align: right;\n",
       "    }\n",
       "</style>\n",
       "<table border=\"1\" class=\"dataframe\">\n",
       "  <thead>\n",
       "    <tr style=\"text-align: right;\">\n",
       "      <th></th>\n",
       "      <th>Product Category</th>\n",
       "      <th>Policy Value</th>\n",
       "    </tr>\n",
       "  </thead>\n",
       "  <tbody>\n",
       "    <tr>\n",
       "      <th>0</th>\n",
       "      <td>ANNUITY</td>\n",
       "      <td>0.0</td>\n",
       "    </tr>\n",
       "    <tr>\n",
       "      <th>1</th>\n",
       "      <td>BOND</td>\n",
       "      <td>769834.0</td>\n",
       "    </tr>\n",
       "    <tr>\n",
       "      <th>2</th>\n",
       "      <td>ISA</td>\n",
       "      <td>1028546.0</td>\n",
       "    </tr>\n",
       "    <tr>\n",
       "      <th>3</th>\n",
       "      <td>PENSION</td>\n",
       "      <td>919642.0</td>\n",
       "    </tr>\n",
       "    <tr>\n",
       "      <th>4</th>\n",
       "      <td>RETIREMENT</td>\n",
       "      <td>504459995.0</td>\n",
       "    </tr>\n",
       "  </tbody>\n",
       "</table>\n",
       "</div>"
      ],
      "text/plain": [
       "  Product Category  Policy Value\n",
       "0          ANNUITY           0.0\n",
       "1             BOND      769834.0\n",
       "2              ISA     1028546.0\n",
       "3          PENSION      919642.0\n",
       "4       RETIREMENT   504459995.0"
      ]
     },
     "execution_count": 192,
     "metadata": {},
     "output_type": "execute_result"
    }
   ],
   "source": [
    "cat=pd.DataFrame(dfNew.groupby('Product Category')['Policy Value'].sum())\n",
    "cat=cat.reset_index()\n",
    "cat"
   ]
  },
  {
   "cell_type": "markdown",
   "metadata": {},
   "source": [
    "# Working around to see the relation of policy value geographically using available Postcodes"
   ]
  },
  {
   "cell_type": "code",
   "execution_count": 289,
   "metadata": {},
   "outputs": [],
   "source": [
    "import pgeocode"
   ]
  },
  {
   "cell_type": "code",
   "execution_count": 275,
   "metadata": {},
   "outputs": [
    {
     "name": "stderr",
     "output_type": "stream",
     "text": [
      "C:\\Users\\Asus\\Anaconda3\\lib\\site-packages\\ipykernel_launcher.py:1: FutureWarning:\n",
      "\n",
      "Indexing with multiple keys (implicitly converted to a tuple of keys) will be deprecated, use a list instead.\n",
      "\n"
     ]
    }
   ],
   "source": [
    "loc = dfNew.groupby('Postcode')['Age','Policy Value'].median()\n",
    "loc=loc.reset_index()"
   ]
  },
  {
   "cell_type": "code",
   "execution_count": 292,
   "metadata": {},
   "outputs": [
    {
     "data": {
      "text/html": [
       "<div>\n",
       "<style scoped>\n",
       "    .dataframe tbody tr th:only-of-type {\n",
       "        vertical-align: middle;\n",
       "    }\n",
       "\n",
       "    .dataframe tbody tr th {\n",
       "        vertical-align: top;\n",
       "    }\n",
       "\n",
       "    .dataframe thead th {\n",
       "        text-align: right;\n",
       "    }\n",
       "</style>\n",
       "<table border=\"1\" class=\"dataframe\">\n",
       "  <thead>\n",
       "    <tr style=\"text-align: right;\">\n",
       "      <th></th>\n",
       "      <th>Postcode</th>\n",
       "      <th>Age</th>\n",
       "      <th>Policy Value</th>\n",
       "      <th>index</th>\n",
       "    </tr>\n",
       "  </thead>\n",
       "  <tbody>\n",
       "    <tr>\n",
       "      <th>0</th>\n",
       "      <td>04-358</td>\n",
       "      <td>30</td>\n",
       "      <td>813464.0</td>\n",
       "      <td>989</td>\n",
       "    </tr>\n",
       "    <tr>\n",
       "      <th>1</th>\n",
       "      <td>05-094</td>\n",
       "      <td>71</td>\n",
       "      <td>490579.0</td>\n",
       "      <td>268</td>\n",
       "    </tr>\n",
       "    <tr>\n",
       "      <th>2</th>\n",
       "      <td>05-280</td>\n",
       "      <td>75</td>\n",
       "      <td>1237.0</td>\n",
       "      <td>201</td>\n",
       "    </tr>\n",
       "    <tr>\n",
       "      <th>3</th>\n",
       "      <td>05-280</td>\n",
       "      <td>75</td>\n",
       "      <td>49555.0</td>\n",
       "      <td>201</td>\n",
       "    </tr>\n",
       "    <tr>\n",
       "      <th>4</th>\n",
       "      <td>05-340</td>\n",
       "      <td>65</td>\n",
       "      <td>903915.0</td>\n",
       "      <td>418</td>\n",
       "    </tr>\n",
       "    <tr>\n",
       "      <th>...</th>\n",
       "      <td>...</td>\n",
       "      <td>...</td>\n",
       "      <td>...</td>\n",
       "      <td>...</td>\n",
       "    </tr>\n",
       "    <tr>\n",
       "      <th>689</th>\n",
       "      <td>N1G</td>\n",
       "      <td>70</td>\n",
       "      <td>31476.0</td>\n",
       "      <td>284</td>\n",
       "    </tr>\n",
       "    <tr>\n",
       "      <th>690</th>\n",
       "      <td>N9A</td>\n",
       "      <td>82</td>\n",
       "      <td>238710.0</td>\n",
       "      <td>104</td>\n",
       "    </tr>\n",
       "    <tr>\n",
       "      <th>691</th>\n",
       "      <td>P56</td>\n",
       "      <td>67</td>\n",
       "      <td>555607.0</td>\n",
       "      <td>349</td>\n",
       "    </tr>\n",
       "    <tr>\n",
       "      <th>692</th>\n",
       "      <td>R42</td>\n",
       "      <td>69</td>\n",
       "      <td>9768.0</td>\n",
       "      <td>321</td>\n",
       "    </tr>\n",
       "    <tr>\n",
       "      <th>693</th>\n",
       "      <td>R42</td>\n",
       "      <td>69</td>\n",
       "      <td>207462.0</td>\n",
       "      <td>321</td>\n",
       "    </tr>\n",
       "  </tbody>\n",
       "</table>\n",
       "<p>694 rows × 4 columns</p>\n",
       "</div>"
      ],
      "text/plain": [
       "    Postcode  Age  Policy Value  index\n",
       "0     04-358   30      813464.0    989\n",
       "1     05-094   71      490579.0    268\n",
       "2     05-280   75        1237.0    201\n",
       "3     05-280   75       49555.0    201\n",
       "4     05-340   65      903915.0    418\n",
       "..       ...  ...           ...    ...\n",
       "689      N1G   70       31476.0    284\n",
       "690      N9A   82      238710.0    104\n",
       "691      P56   67      555607.0    349\n",
       "692      R42   69        9768.0    321\n",
       "693      R42   69      207462.0    321\n",
       "\n",
       "[694 rows x 4 columns]"
      ]
     },
     "execution_count": 292,
     "metadata": {},
     "output_type": "execute_result"
    }
   ],
   "source": [
    "loc=dfNew.groupby(['Postcode','Age','Policy Value'])['index'].median()\n",
    "loc=loc.reset_index()\n",
    "loc"
   ]
  },
  {
   "cell_type": "code",
   "execution_count": 270,
   "metadata": {},
   "outputs": [],
   "source": [
    "nomi = pgeocode.Nominatim('US')"
   ]
  },
  {
   "cell_type": "code",
   "execution_count": 293,
   "metadata": {},
   "outputs": [],
   "source": [
    "state=[]\n",
    "for i in range(len(loc)):\n",
    "    state.append(nomi.query_postal_code(loc['Postcode'][i]).state_name)"
   ]
  },
  {
   "cell_type": "code",
   "execution_count": 294,
   "metadata": {},
   "outputs": [],
   "source": [
    "loc['State Name']=state"
   ]
  },
  {
   "cell_type": "code",
   "execution_count": 295,
   "metadata": {},
   "outputs": [],
   "source": [
    "loc_avail=loc[loc['State Name'].notnull()]"
   ]
  },
  {
   "cell_type": "code",
   "execution_count": 303,
   "metadata": {
    "scrolled": true
   },
   "outputs": [
    {
     "name": "stderr",
     "output_type": "stream",
     "text": [
      "C:\\Users\\Asus\\Anaconda3\\lib\\site-packages\\ipykernel_launcher.py:1: FutureWarning:\n",
      "\n",
      "Indexing with multiple keys (implicitly converted to a tuple of keys) will be deprecated, use a list instead.\n",
      "\n"
     ]
    },
    {
     "data": {
      "text/html": [
       "<div>\n",
       "<style scoped>\n",
       "    .dataframe tbody tr th:only-of-type {\n",
       "        vertical-align: middle;\n",
       "    }\n",
       "\n",
       "    .dataframe tbody tr th {\n",
       "        vertical-align: top;\n",
       "    }\n",
       "\n",
       "    .dataframe thead th {\n",
       "        text-align: right;\n",
       "    }\n",
       "</style>\n",
       "<table border=\"1\" class=\"dataframe\">\n",
       "  <thead>\n",
       "    <tr style=\"text-align: right;\">\n",
       "      <th></th>\n",
       "      <th>State Name</th>\n",
       "      <th>Policy Value</th>\n",
       "      <th>Age</th>\n",
       "    </tr>\n",
       "  </thead>\n",
       "  <tbody>\n",
       "    <tr>\n",
       "      <th>0</th>\n",
       "      <td>Arizona</td>\n",
       "      <td>950135.0</td>\n",
       "      <td>34.0</td>\n",
       "    </tr>\n",
       "    <tr>\n",
       "      <th>1</th>\n",
       "      <td>Arkansas</td>\n",
       "      <td>116295.0</td>\n",
       "      <td>64.0</td>\n",
       "    </tr>\n",
       "    <tr>\n",
       "      <th>2</th>\n",
       "      <td>California</td>\n",
       "      <td>263916.5</td>\n",
       "      <td>58.5</td>\n",
       "    </tr>\n",
       "    <tr>\n",
       "      <th>3</th>\n",
       "      <td>Colorado</td>\n",
       "      <td>644349.0</td>\n",
       "      <td>62.0</td>\n",
       "    </tr>\n",
       "    <tr>\n",
       "      <th>4</th>\n",
       "      <td>District of Columbia</td>\n",
       "      <td>742026.0</td>\n",
       "      <td>34.0</td>\n",
       "    </tr>\n",
       "    <tr>\n",
       "      <th>5</th>\n",
       "      <td>Florida</td>\n",
       "      <td>66815.0</td>\n",
       "      <td>65.0</td>\n",
       "    </tr>\n",
       "    <tr>\n",
       "      <th>6</th>\n",
       "      <td>Georgia</td>\n",
       "      <td>694305.0</td>\n",
       "      <td>71.0</td>\n",
       "    </tr>\n",
       "    <tr>\n",
       "      <th>7</th>\n",
       "      <td>Illinois</td>\n",
       "      <td>445292.0</td>\n",
       "      <td>61.0</td>\n",
       "    </tr>\n",
       "    <tr>\n",
       "      <th>8</th>\n",
       "      <td>Indiana</td>\n",
       "      <td>368868.5</td>\n",
       "      <td>62.0</td>\n",
       "    </tr>\n",
       "    <tr>\n",
       "      <th>9</th>\n",
       "      <td>Iowa</td>\n",
       "      <td>677211.0</td>\n",
       "      <td>53.0</td>\n",
       "    </tr>\n",
       "    <tr>\n",
       "      <th>10</th>\n",
       "      <td>Kansas</td>\n",
       "      <td>270392.0</td>\n",
       "      <td>70.0</td>\n",
       "    </tr>\n",
       "    <tr>\n",
       "      <th>11</th>\n",
       "      <td>Kentucky</td>\n",
       "      <td>981251.0</td>\n",
       "      <td>65.0</td>\n",
       "    </tr>\n",
       "    <tr>\n",
       "      <th>12</th>\n",
       "      <td>Louisiana</td>\n",
       "      <td>289735.0</td>\n",
       "      <td>85.0</td>\n",
       "    </tr>\n",
       "    <tr>\n",
       "      <th>13</th>\n",
       "      <td>Maryland</td>\n",
       "      <td>411018.0</td>\n",
       "      <td>32.0</td>\n",
       "    </tr>\n",
       "    <tr>\n",
       "      <th>14</th>\n",
       "      <td>Michigan</td>\n",
       "      <td>174997.0</td>\n",
       "      <td>86.0</td>\n",
       "    </tr>\n",
       "    <tr>\n",
       "      <th>15</th>\n",
       "      <td>Minnesota</td>\n",
       "      <td>874074.5</td>\n",
       "      <td>50.5</td>\n",
       "    </tr>\n",
       "    <tr>\n",
       "      <th>16</th>\n",
       "      <td>Missouri</td>\n",
       "      <td>346958.0</td>\n",
       "      <td>57.0</td>\n",
       "    </tr>\n",
       "    <tr>\n",
       "      <th>17</th>\n",
       "      <td>Montana</td>\n",
       "      <td>258876.0</td>\n",
       "      <td>88.0</td>\n",
       "    </tr>\n",
       "    <tr>\n",
       "      <th>18</th>\n",
       "      <td>New York</td>\n",
       "      <td>151377.5</td>\n",
       "      <td>67.5</td>\n",
       "    </tr>\n",
       "    <tr>\n",
       "      <th>19</th>\n",
       "      <td>Ohio</td>\n",
       "      <td>411547.0</td>\n",
       "      <td>76.0</td>\n",
       "    </tr>\n",
       "    <tr>\n",
       "      <th>20</th>\n",
       "      <td>Pennsylvania</td>\n",
       "      <td>74572.0</td>\n",
       "      <td>48.0</td>\n",
       "    </tr>\n",
       "    <tr>\n",
       "      <th>21</th>\n",
       "      <td>Texas</td>\n",
       "      <td>754504.0</td>\n",
       "      <td>70.0</td>\n",
       "    </tr>\n",
       "    <tr>\n",
       "      <th>22</th>\n",
       "      <td>Virginia</td>\n",
       "      <td>76598.0</td>\n",
       "      <td>58.0</td>\n",
       "    </tr>\n",
       "    <tr>\n",
       "      <th>23</th>\n",
       "      <td>West Virginia</td>\n",
       "      <td>418420.5</td>\n",
       "      <td>53.0</td>\n",
       "    </tr>\n",
       "  </tbody>\n",
       "</table>\n",
       "</div>"
      ],
      "text/plain": [
       "              State Name  Policy Value   Age\n",
       "0                Arizona      950135.0  34.0\n",
       "1               Arkansas      116295.0  64.0\n",
       "2             California      263916.5  58.5\n",
       "3               Colorado      644349.0  62.0\n",
       "4   District of Columbia      742026.0  34.0\n",
       "5                Florida       66815.0  65.0\n",
       "6                Georgia      694305.0  71.0\n",
       "7               Illinois      445292.0  61.0\n",
       "8                Indiana      368868.5  62.0\n",
       "9                   Iowa      677211.0  53.0\n",
       "10                Kansas      270392.0  70.0\n",
       "11              Kentucky      981251.0  65.0\n",
       "12             Louisiana      289735.0  85.0\n",
       "13              Maryland      411018.0  32.0\n",
       "14              Michigan      174997.0  86.0\n",
       "15             Minnesota      874074.5  50.5\n",
       "16              Missouri      346958.0  57.0\n",
       "17               Montana      258876.0  88.0\n",
       "18              New York      151377.5  67.5\n",
       "19                  Ohio      411547.0  76.0\n",
       "20          Pennsylvania       74572.0  48.0\n",
       "21                 Texas      754504.0  70.0\n",
       "22              Virginia       76598.0  58.0\n",
       "23         West Virginia      418420.5  53.0"
      ]
     },
     "execution_count": 303,
     "metadata": {},
     "output_type": "execute_result"
    }
   ],
   "source": [
    "loc_avail1=loc_avail.groupby('State Name')['Policy Value','Age'].median()\n",
    "loc_avail1=loc_avail1.reset_index()\n",
    "loc_avail1"
   ]
  },
  {
   "cell_type": "code",
   "execution_count": 304,
   "metadata": {},
   "outputs": [
    {
     "data": {
      "application/vnd.plotly.v1+json": {
       "config": {
        "plotlyServerURL": "https://plot.ly"
       },
       "data": [
        {
         "alignmentgroup": "True",
         "hovertemplate": "State Name=%{x}<br>Policy Value=%{text}<br>Age=%{marker.color}<extra></extra>",
         "legendgroup": "",
         "marker": {
          "color": [
           34,
           64,
           58.5,
           62,
           34,
           65,
           71,
           61,
           62,
           53,
           70,
           65,
           85,
           32,
           86,
           50.5,
           57,
           88,
           67.5,
           76,
           48,
           70,
           58,
           53
          ],
          "coloraxis": "coloraxis"
         },
         "name": "",
         "offsetgroup": "",
         "orientation": "v",
         "showlegend": false,
         "text": [
          950135,
          116295,
          263916.5,
          644349,
          742026,
          66815,
          694305,
          445292,
          368868.5,
          677211,
          270392,
          981251,
          289735,
          411018,
          174997,
          874074.5,
          346958,
          258876,
          151377.5,
          411547,
          74572,
          754504,
          76598,
          418420.5
         ],
         "textposition": "outside",
         "texttemplate": "%{text:.2s}",
         "type": "bar",
         "x": [
          "Arizona",
          "Arkansas",
          "California",
          "Colorado",
          "District of Columbia",
          "Florida",
          "Georgia",
          "Illinois",
          "Indiana",
          "Iowa",
          "Kansas",
          "Kentucky",
          "Louisiana",
          "Maryland",
          "Michigan",
          "Minnesota",
          "Missouri",
          "Montana",
          "New York",
          "Ohio",
          "Pennsylvania",
          "Texas",
          "Virginia",
          "West Virginia"
         ],
         "xaxis": "x",
         "y": [
          950135,
          116295,
          263916.5,
          644349,
          742026,
          66815,
          694305,
          445292,
          368868.5,
          677211,
          270392,
          981251,
          289735,
          411018,
          174997,
          874074.5,
          346958,
          258876,
          151377.5,
          411547,
          74572,
          754504,
          76598,
          418420.5
         ],
         "yaxis": "y"
        }
       ],
       "layout": {
        "barmode": "relative",
        "coloraxis": {
         "colorbar": {
          "title": {
           "text": "Age"
          }
         },
         "colorscale": [
          [
           0,
           "#0d0887"
          ],
          [
           0.1111111111111111,
           "#46039f"
          ],
          [
           0.2222222222222222,
           "#7201a8"
          ],
          [
           0.3333333333333333,
           "#9c179e"
          ],
          [
           0.4444444444444444,
           "#bd3786"
          ],
          [
           0.5555555555555556,
           "#d8576b"
          ],
          [
           0.6666666666666666,
           "#ed7953"
          ],
          [
           0.7777777777777778,
           "#fb9f3a"
          ],
          [
           0.8888888888888888,
           "#fdca26"
          ],
          [
           1,
           "#f0f921"
          ]
         ]
        },
        "legend": {
         "tracegroupgap": 0
        },
        "margin": {
         "t": 60
        },
        "template": {
         "data": {
          "bar": [
           {
            "error_x": {
             "color": "#2a3f5f"
            },
            "error_y": {
             "color": "#2a3f5f"
            },
            "marker": {
             "line": {
              "color": "#E5ECF6",
              "width": 0.5
             }
            },
            "type": "bar"
           }
          ],
          "barpolar": [
           {
            "marker": {
             "line": {
              "color": "#E5ECF6",
              "width": 0.5
             }
            },
            "type": "barpolar"
           }
          ],
          "carpet": [
           {
            "aaxis": {
             "endlinecolor": "#2a3f5f",
             "gridcolor": "white",
             "linecolor": "white",
             "minorgridcolor": "white",
             "startlinecolor": "#2a3f5f"
            },
            "baxis": {
             "endlinecolor": "#2a3f5f",
             "gridcolor": "white",
             "linecolor": "white",
             "minorgridcolor": "white",
             "startlinecolor": "#2a3f5f"
            },
            "type": "carpet"
           }
          ],
          "choropleth": [
           {
            "colorbar": {
             "outlinewidth": 0,
             "ticks": ""
            },
            "type": "choropleth"
           }
          ],
          "contour": [
           {
            "colorbar": {
             "outlinewidth": 0,
             "ticks": ""
            },
            "colorscale": [
             [
              0,
              "#0d0887"
             ],
             [
              0.1111111111111111,
              "#46039f"
             ],
             [
              0.2222222222222222,
              "#7201a8"
             ],
             [
              0.3333333333333333,
              "#9c179e"
             ],
             [
              0.4444444444444444,
              "#bd3786"
             ],
             [
              0.5555555555555556,
              "#d8576b"
             ],
             [
              0.6666666666666666,
              "#ed7953"
             ],
             [
              0.7777777777777778,
              "#fb9f3a"
             ],
             [
              0.8888888888888888,
              "#fdca26"
             ],
             [
              1,
              "#f0f921"
             ]
            ],
            "type": "contour"
           }
          ],
          "contourcarpet": [
           {
            "colorbar": {
             "outlinewidth": 0,
             "ticks": ""
            },
            "type": "contourcarpet"
           }
          ],
          "heatmap": [
           {
            "colorbar": {
             "outlinewidth": 0,
             "ticks": ""
            },
            "colorscale": [
             [
              0,
              "#0d0887"
             ],
             [
              0.1111111111111111,
              "#46039f"
             ],
             [
              0.2222222222222222,
              "#7201a8"
             ],
             [
              0.3333333333333333,
              "#9c179e"
             ],
             [
              0.4444444444444444,
              "#bd3786"
             ],
             [
              0.5555555555555556,
              "#d8576b"
             ],
             [
              0.6666666666666666,
              "#ed7953"
             ],
             [
              0.7777777777777778,
              "#fb9f3a"
             ],
             [
              0.8888888888888888,
              "#fdca26"
             ],
             [
              1,
              "#f0f921"
             ]
            ],
            "type": "heatmap"
           }
          ],
          "heatmapgl": [
           {
            "colorbar": {
             "outlinewidth": 0,
             "ticks": ""
            },
            "colorscale": [
             [
              0,
              "#0d0887"
             ],
             [
              0.1111111111111111,
              "#46039f"
             ],
             [
              0.2222222222222222,
              "#7201a8"
             ],
             [
              0.3333333333333333,
              "#9c179e"
             ],
             [
              0.4444444444444444,
              "#bd3786"
             ],
             [
              0.5555555555555556,
              "#d8576b"
             ],
             [
              0.6666666666666666,
              "#ed7953"
             ],
             [
              0.7777777777777778,
              "#fb9f3a"
             ],
             [
              0.8888888888888888,
              "#fdca26"
             ],
             [
              1,
              "#f0f921"
             ]
            ],
            "type": "heatmapgl"
           }
          ],
          "histogram": [
           {
            "marker": {
             "colorbar": {
              "outlinewidth": 0,
              "ticks": ""
             }
            },
            "type": "histogram"
           }
          ],
          "histogram2d": [
           {
            "colorbar": {
             "outlinewidth": 0,
             "ticks": ""
            },
            "colorscale": [
             [
              0,
              "#0d0887"
             ],
             [
              0.1111111111111111,
              "#46039f"
             ],
             [
              0.2222222222222222,
              "#7201a8"
             ],
             [
              0.3333333333333333,
              "#9c179e"
             ],
             [
              0.4444444444444444,
              "#bd3786"
             ],
             [
              0.5555555555555556,
              "#d8576b"
             ],
             [
              0.6666666666666666,
              "#ed7953"
             ],
             [
              0.7777777777777778,
              "#fb9f3a"
             ],
             [
              0.8888888888888888,
              "#fdca26"
             ],
             [
              1,
              "#f0f921"
             ]
            ],
            "type": "histogram2d"
           }
          ],
          "histogram2dcontour": [
           {
            "colorbar": {
             "outlinewidth": 0,
             "ticks": ""
            },
            "colorscale": [
             [
              0,
              "#0d0887"
             ],
             [
              0.1111111111111111,
              "#46039f"
             ],
             [
              0.2222222222222222,
              "#7201a8"
             ],
             [
              0.3333333333333333,
              "#9c179e"
             ],
             [
              0.4444444444444444,
              "#bd3786"
             ],
             [
              0.5555555555555556,
              "#d8576b"
             ],
             [
              0.6666666666666666,
              "#ed7953"
             ],
             [
              0.7777777777777778,
              "#fb9f3a"
             ],
             [
              0.8888888888888888,
              "#fdca26"
             ],
             [
              1,
              "#f0f921"
             ]
            ],
            "type": "histogram2dcontour"
           }
          ],
          "mesh3d": [
           {
            "colorbar": {
             "outlinewidth": 0,
             "ticks": ""
            },
            "type": "mesh3d"
           }
          ],
          "parcoords": [
           {
            "line": {
             "colorbar": {
              "outlinewidth": 0,
              "ticks": ""
             }
            },
            "type": "parcoords"
           }
          ],
          "pie": [
           {
            "automargin": true,
            "type": "pie"
           }
          ],
          "scatter": [
           {
            "marker": {
             "colorbar": {
              "outlinewidth": 0,
              "ticks": ""
             }
            },
            "type": "scatter"
           }
          ],
          "scatter3d": [
           {
            "line": {
             "colorbar": {
              "outlinewidth": 0,
              "ticks": ""
             }
            },
            "marker": {
             "colorbar": {
              "outlinewidth": 0,
              "ticks": ""
             }
            },
            "type": "scatter3d"
           }
          ],
          "scattercarpet": [
           {
            "marker": {
             "colorbar": {
              "outlinewidth": 0,
              "ticks": ""
             }
            },
            "type": "scattercarpet"
           }
          ],
          "scattergeo": [
           {
            "marker": {
             "colorbar": {
              "outlinewidth": 0,
              "ticks": ""
             }
            },
            "type": "scattergeo"
           }
          ],
          "scattergl": [
           {
            "marker": {
             "colorbar": {
              "outlinewidth": 0,
              "ticks": ""
             }
            },
            "type": "scattergl"
           }
          ],
          "scattermapbox": [
           {
            "marker": {
             "colorbar": {
              "outlinewidth": 0,
              "ticks": ""
             }
            },
            "type": "scattermapbox"
           }
          ],
          "scatterpolar": [
           {
            "marker": {
             "colorbar": {
              "outlinewidth": 0,
              "ticks": ""
             }
            },
            "type": "scatterpolar"
           }
          ],
          "scatterpolargl": [
           {
            "marker": {
             "colorbar": {
              "outlinewidth": 0,
              "ticks": ""
             }
            },
            "type": "scatterpolargl"
           }
          ],
          "scatterternary": [
           {
            "marker": {
             "colorbar": {
              "outlinewidth": 0,
              "ticks": ""
             }
            },
            "type": "scatterternary"
           }
          ],
          "surface": [
           {
            "colorbar": {
             "outlinewidth": 0,
             "ticks": ""
            },
            "colorscale": [
             [
              0,
              "#0d0887"
             ],
             [
              0.1111111111111111,
              "#46039f"
             ],
             [
              0.2222222222222222,
              "#7201a8"
             ],
             [
              0.3333333333333333,
              "#9c179e"
             ],
             [
              0.4444444444444444,
              "#bd3786"
             ],
             [
              0.5555555555555556,
              "#d8576b"
             ],
             [
              0.6666666666666666,
              "#ed7953"
             ],
             [
              0.7777777777777778,
              "#fb9f3a"
             ],
             [
              0.8888888888888888,
              "#fdca26"
             ],
             [
              1,
              "#f0f921"
             ]
            ],
            "type": "surface"
           }
          ],
          "table": [
           {
            "cells": {
             "fill": {
              "color": "#EBF0F8"
             },
             "line": {
              "color": "white"
             }
            },
            "header": {
             "fill": {
              "color": "#C8D4E3"
             },
             "line": {
              "color": "white"
             }
            },
            "type": "table"
           }
          ]
         },
         "layout": {
          "annotationdefaults": {
           "arrowcolor": "#2a3f5f",
           "arrowhead": 0,
           "arrowwidth": 1
          },
          "autotypenumbers": "strict",
          "coloraxis": {
           "colorbar": {
            "outlinewidth": 0,
            "ticks": ""
           }
          },
          "colorscale": {
           "diverging": [
            [
             0,
             "#8e0152"
            ],
            [
             0.1,
             "#c51b7d"
            ],
            [
             0.2,
             "#de77ae"
            ],
            [
             0.3,
             "#f1b6da"
            ],
            [
             0.4,
             "#fde0ef"
            ],
            [
             0.5,
             "#f7f7f7"
            ],
            [
             0.6,
             "#e6f5d0"
            ],
            [
             0.7,
             "#b8e186"
            ],
            [
             0.8,
             "#7fbc41"
            ],
            [
             0.9,
             "#4d9221"
            ],
            [
             1,
             "#276419"
            ]
           ],
           "sequential": [
            [
             0,
             "#0d0887"
            ],
            [
             0.1111111111111111,
             "#46039f"
            ],
            [
             0.2222222222222222,
             "#7201a8"
            ],
            [
             0.3333333333333333,
             "#9c179e"
            ],
            [
             0.4444444444444444,
             "#bd3786"
            ],
            [
             0.5555555555555556,
             "#d8576b"
            ],
            [
             0.6666666666666666,
             "#ed7953"
            ],
            [
             0.7777777777777778,
             "#fb9f3a"
            ],
            [
             0.8888888888888888,
             "#fdca26"
            ],
            [
             1,
             "#f0f921"
            ]
           ],
           "sequentialminus": [
            [
             0,
             "#0d0887"
            ],
            [
             0.1111111111111111,
             "#46039f"
            ],
            [
             0.2222222222222222,
             "#7201a8"
            ],
            [
             0.3333333333333333,
             "#9c179e"
            ],
            [
             0.4444444444444444,
             "#bd3786"
            ],
            [
             0.5555555555555556,
             "#d8576b"
            ],
            [
             0.6666666666666666,
             "#ed7953"
            ],
            [
             0.7777777777777778,
             "#fb9f3a"
            ],
            [
             0.8888888888888888,
             "#fdca26"
            ],
            [
             1,
             "#f0f921"
            ]
           ]
          },
          "colorway": [
           "#636efa",
           "#EF553B",
           "#00cc96",
           "#ab63fa",
           "#FFA15A",
           "#19d3f3",
           "#FF6692",
           "#B6E880",
           "#FF97FF",
           "#FECB52"
          ],
          "font": {
           "color": "#2a3f5f"
          },
          "geo": {
           "bgcolor": "white",
           "lakecolor": "white",
           "landcolor": "#E5ECF6",
           "showlakes": true,
           "showland": true,
           "subunitcolor": "white"
          },
          "hoverlabel": {
           "align": "left"
          },
          "hovermode": "closest",
          "mapbox": {
           "style": "light"
          },
          "paper_bgcolor": "white",
          "plot_bgcolor": "#E5ECF6",
          "polar": {
           "angularaxis": {
            "gridcolor": "white",
            "linecolor": "white",
            "ticks": ""
           },
           "bgcolor": "#E5ECF6",
           "radialaxis": {
            "gridcolor": "white",
            "linecolor": "white",
            "ticks": ""
           }
          },
          "scene": {
           "xaxis": {
            "backgroundcolor": "#E5ECF6",
            "gridcolor": "white",
            "gridwidth": 2,
            "linecolor": "white",
            "showbackground": true,
            "ticks": "",
            "zerolinecolor": "white"
           },
           "yaxis": {
            "backgroundcolor": "#E5ECF6",
            "gridcolor": "white",
            "gridwidth": 2,
            "linecolor": "white",
            "showbackground": true,
            "ticks": "",
            "zerolinecolor": "white"
           },
           "zaxis": {
            "backgroundcolor": "#E5ECF6",
            "gridcolor": "white",
            "gridwidth": 2,
            "linecolor": "white",
            "showbackground": true,
            "ticks": "",
            "zerolinecolor": "white"
           }
          },
          "shapedefaults": {
           "line": {
            "color": "#2a3f5f"
           }
          },
          "ternary": {
           "aaxis": {
            "gridcolor": "white",
            "linecolor": "white",
            "ticks": ""
           },
           "baxis": {
            "gridcolor": "white",
            "linecolor": "white",
            "ticks": ""
           },
           "bgcolor": "#E5ECF6",
           "caxis": {
            "gridcolor": "white",
            "linecolor": "white",
            "ticks": ""
           }
          },
          "title": {
           "x": 0.05
          },
          "xaxis": {
           "automargin": true,
           "gridcolor": "white",
           "linecolor": "white",
           "ticks": "",
           "title": {
            "standoff": 15
           },
           "zerolinecolor": "white",
           "zerolinewidth": 2
          },
          "yaxis": {
           "automargin": true,
           "gridcolor": "white",
           "linecolor": "white",
           "ticks": "",
           "title": {
            "standoff": 15
           },
           "zerolinecolor": "white",
           "zerolinewidth": 2
          }
         }
        },
        "uniformtext": {
         "minsize": 8,
         "mode": "hide"
        },
        "xaxis": {
         "anchor": "y",
         "domain": [
          0,
          1
         ],
         "title": {
          "text": "State Name"
         }
        },
        "yaxis": {
         "anchor": "x",
         "domain": [
          0,
          1
         ],
         "title": {
          "text": "Policy Value"
         }
        }
       }
      },
      "text/html": [
       "<div>                            <div id=\"77976416-9479-4b3a-9896-b1da765ee2bc\" class=\"plotly-graph-div\" style=\"height:525px; width:100%;\"></div>            <script type=\"text/javascript\">                require([\"plotly\"], function(Plotly) {                    window.PLOTLYENV=window.PLOTLYENV || {};                                    if (document.getElementById(\"77976416-9479-4b3a-9896-b1da765ee2bc\")) {                    Plotly.newPlot(                        \"77976416-9479-4b3a-9896-b1da765ee2bc\",                        [{\"alignmentgroup\": \"True\", \"hovertemplate\": \"State Name=%{x}<br>Policy Value=%{text}<br>Age=%{marker.color}<extra></extra>\", \"legendgroup\": \"\", \"marker\": {\"color\": [34.0, 64.0, 58.5, 62.0, 34.0, 65.0, 71.0, 61.0, 62.0, 53.0, 70.0, 65.0, 85.0, 32.0, 86.0, 50.5, 57.0, 88.0, 67.5, 76.0, 48.0, 70.0, 58.0, 53.0], \"coloraxis\": \"coloraxis\"}, \"name\": \"\", \"offsetgroup\": \"\", \"orientation\": \"v\", \"showlegend\": false, \"text\": [950135.0, 116295.0, 263916.5, 644349.0, 742026.0, 66815.0, 694305.0, 445292.0, 368868.5, 677211.0, 270392.0, 981251.0, 289735.0, 411018.0, 174997.0, 874074.5, 346958.0, 258876.0, 151377.5, 411547.0, 74572.0, 754504.0, 76598.0, 418420.5], \"textposition\": \"outside\", \"texttemplate\": \"%{text:.2s}\", \"type\": \"bar\", \"x\": [\"Arizona\", \"Arkansas\", \"California\", \"Colorado\", \"District of Columbia\", \"Florida\", \"Georgia\", \"Illinois\", \"Indiana\", \"Iowa\", \"Kansas\", \"Kentucky\", \"Louisiana\", \"Maryland\", \"Michigan\", \"Minnesota\", \"Missouri\", \"Montana\", \"New York\", \"Ohio\", \"Pennsylvania\", \"Texas\", \"Virginia\", \"West Virginia\"], \"xaxis\": \"x\", \"y\": [950135.0, 116295.0, 263916.5, 644349.0, 742026.0, 66815.0, 694305.0, 445292.0, 368868.5, 677211.0, 270392.0, 981251.0, 289735.0, 411018.0, 174997.0, 874074.5, 346958.0, 258876.0, 151377.5, 411547.0, 74572.0, 754504.0, 76598.0, 418420.5], \"yaxis\": \"y\"}],                        {\"barmode\": \"relative\", \"coloraxis\": {\"colorbar\": {\"title\": {\"text\": \"Age\"}}, \"colorscale\": [[0.0, \"#0d0887\"], [0.1111111111111111, \"#46039f\"], [0.2222222222222222, \"#7201a8\"], [0.3333333333333333, \"#9c179e\"], [0.4444444444444444, \"#bd3786\"], [0.5555555555555556, \"#d8576b\"], [0.6666666666666666, \"#ed7953\"], [0.7777777777777778, \"#fb9f3a\"], [0.8888888888888888, \"#fdca26\"], [1.0, \"#f0f921\"]]}, \"legend\": {\"tracegroupgap\": 0}, \"margin\": {\"t\": 60}, \"template\": {\"data\": {\"bar\": [{\"error_x\": {\"color\": \"#2a3f5f\"}, \"error_y\": {\"color\": \"#2a3f5f\"}, \"marker\": {\"line\": {\"color\": \"#E5ECF6\", \"width\": 0.5}}, \"type\": \"bar\"}], \"barpolar\": [{\"marker\": {\"line\": {\"color\": \"#E5ECF6\", \"width\": 0.5}}, \"type\": \"barpolar\"}], \"carpet\": [{\"aaxis\": {\"endlinecolor\": \"#2a3f5f\", \"gridcolor\": \"white\", \"linecolor\": \"white\", \"minorgridcolor\": \"white\", \"startlinecolor\": \"#2a3f5f\"}, \"baxis\": {\"endlinecolor\": \"#2a3f5f\", \"gridcolor\": \"white\", \"linecolor\": \"white\", \"minorgridcolor\": \"white\", \"startlinecolor\": \"#2a3f5f\"}, \"type\": \"carpet\"}], \"choropleth\": [{\"colorbar\": {\"outlinewidth\": 0, \"ticks\": \"\"}, \"type\": \"choropleth\"}], \"contour\": [{\"colorbar\": {\"outlinewidth\": 0, \"ticks\": \"\"}, \"colorscale\": [[0.0, \"#0d0887\"], [0.1111111111111111, \"#46039f\"], [0.2222222222222222, \"#7201a8\"], [0.3333333333333333, \"#9c179e\"], [0.4444444444444444, \"#bd3786\"], [0.5555555555555556, \"#d8576b\"], [0.6666666666666666, \"#ed7953\"], [0.7777777777777778, \"#fb9f3a\"], [0.8888888888888888, \"#fdca26\"], [1.0, \"#f0f921\"]], \"type\": \"contour\"}], \"contourcarpet\": [{\"colorbar\": {\"outlinewidth\": 0, \"ticks\": \"\"}, \"type\": \"contourcarpet\"}], \"heatmap\": [{\"colorbar\": {\"outlinewidth\": 0, \"ticks\": \"\"}, \"colorscale\": [[0.0, \"#0d0887\"], [0.1111111111111111, \"#46039f\"], [0.2222222222222222, \"#7201a8\"], [0.3333333333333333, \"#9c179e\"], [0.4444444444444444, \"#bd3786\"], [0.5555555555555556, \"#d8576b\"], [0.6666666666666666, \"#ed7953\"], [0.7777777777777778, \"#fb9f3a\"], [0.8888888888888888, \"#fdca26\"], [1.0, \"#f0f921\"]], \"type\": \"heatmap\"}], \"heatmapgl\": [{\"colorbar\": {\"outlinewidth\": 0, \"ticks\": \"\"}, \"colorscale\": [[0.0, \"#0d0887\"], [0.1111111111111111, \"#46039f\"], [0.2222222222222222, \"#7201a8\"], [0.3333333333333333, \"#9c179e\"], [0.4444444444444444, \"#bd3786\"], [0.5555555555555556, \"#d8576b\"], [0.6666666666666666, \"#ed7953\"], [0.7777777777777778, \"#fb9f3a\"], [0.8888888888888888, \"#fdca26\"], [1.0, \"#f0f921\"]], \"type\": \"heatmapgl\"}], \"histogram\": [{\"marker\": {\"colorbar\": {\"outlinewidth\": 0, \"ticks\": \"\"}}, \"type\": \"histogram\"}], \"histogram2d\": [{\"colorbar\": {\"outlinewidth\": 0, \"ticks\": \"\"}, \"colorscale\": [[0.0, \"#0d0887\"], [0.1111111111111111, \"#46039f\"], [0.2222222222222222, \"#7201a8\"], [0.3333333333333333, \"#9c179e\"], [0.4444444444444444, \"#bd3786\"], [0.5555555555555556, \"#d8576b\"], [0.6666666666666666, \"#ed7953\"], [0.7777777777777778, \"#fb9f3a\"], [0.8888888888888888, \"#fdca26\"], [1.0, \"#f0f921\"]], \"type\": \"histogram2d\"}], \"histogram2dcontour\": [{\"colorbar\": {\"outlinewidth\": 0, \"ticks\": \"\"}, \"colorscale\": [[0.0, \"#0d0887\"], [0.1111111111111111, \"#46039f\"], [0.2222222222222222, \"#7201a8\"], [0.3333333333333333, \"#9c179e\"], [0.4444444444444444, \"#bd3786\"], [0.5555555555555556, \"#d8576b\"], [0.6666666666666666, \"#ed7953\"], [0.7777777777777778, \"#fb9f3a\"], [0.8888888888888888, \"#fdca26\"], [1.0, \"#f0f921\"]], \"type\": \"histogram2dcontour\"}], \"mesh3d\": [{\"colorbar\": {\"outlinewidth\": 0, \"ticks\": \"\"}, \"type\": \"mesh3d\"}], \"parcoords\": [{\"line\": {\"colorbar\": {\"outlinewidth\": 0, \"ticks\": \"\"}}, \"type\": \"parcoords\"}], \"pie\": [{\"automargin\": true, \"type\": \"pie\"}], \"scatter\": [{\"marker\": {\"colorbar\": {\"outlinewidth\": 0, \"ticks\": \"\"}}, \"type\": \"scatter\"}], \"scatter3d\": [{\"line\": {\"colorbar\": {\"outlinewidth\": 0, \"ticks\": \"\"}}, \"marker\": {\"colorbar\": {\"outlinewidth\": 0, \"ticks\": \"\"}}, \"type\": \"scatter3d\"}], \"scattercarpet\": [{\"marker\": {\"colorbar\": {\"outlinewidth\": 0, \"ticks\": \"\"}}, \"type\": \"scattercarpet\"}], \"scattergeo\": [{\"marker\": {\"colorbar\": {\"outlinewidth\": 0, \"ticks\": \"\"}}, \"type\": \"scattergeo\"}], \"scattergl\": [{\"marker\": {\"colorbar\": {\"outlinewidth\": 0, \"ticks\": \"\"}}, \"type\": \"scattergl\"}], \"scattermapbox\": [{\"marker\": {\"colorbar\": {\"outlinewidth\": 0, \"ticks\": \"\"}}, \"type\": \"scattermapbox\"}], \"scatterpolar\": [{\"marker\": {\"colorbar\": {\"outlinewidth\": 0, \"ticks\": \"\"}}, \"type\": \"scatterpolar\"}], \"scatterpolargl\": [{\"marker\": {\"colorbar\": {\"outlinewidth\": 0, \"ticks\": \"\"}}, \"type\": \"scatterpolargl\"}], \"scatterternary\": [{\"marker\": {\"colorbar\": {\"outlinewidth\": 0, \"ticks\": \"\"}}, \"type\": \"scatterternary\"}], \"surface\": [{\"colorbar\": {\"outlinewidth\": 0, \"ticks\": \"\"}, \"colorscale\": [[0.0, \"#0d0887\"], [0.1111111111111111, \"#46039f\"], [0.2222222222222222, \"#7201a8\"], [0.3333333333333333, \"#9c179e\"], [0.4444444444444444, \"#bd3786\"], [0.5555555555555556, \"#d8576b\"], [0.6666666666666666, \"#ed7953\"], [0.7777777777777778, \"#fb9f3a\"], [0.8888888888888888, \"#fdca26\"], [1.0, \"#f0f921\"]], \"type\": \"surface\"}], \"table\": [{\"cells\": {\"fill\": {\"color\": \"#EBF0F8\"}, \"line\": {\"color\": \"white\"}}, \"header\": {\"fill\": {\"color\": \"#C8D4E3\"}, \"line\": {\"color\": \"white\"}}, \"type\": \"table\"}]}, \"layout\": {\"annotationdefaults\": {\"arrowcolor\": \"#2a3f5f\", \"arrowhead\": 0, \"arrowwidth\": 1}, \"autotypenumbers\": \"strict\", \"coloraxis\": {\"colorbar\": {\"outlinewidth\": 0, \"ticks\": \"\"}}, \"colorscale\": {\"diverging\": [[0, \"#8e0152\"], [0.1, \"#c51b7d\"], [0.2, \"#de77ae\"], [0.3, \"#f1b6da\"], [0.4, \"#fde0ef\"], [0.5, \"#f7f7f7\"], [0.6, \"#e6f5d0\"], [0.7, \"#b8e186\"], [0.8, \"#7fbc41\"], [0.9, \"#4d9221\"], [1, \"#276419\"]], \"sequential\": [[0.0, \"#0d0887\"], [0.1111111111111111, \"#46039f\"], [0.2222222222222222, \"#7201a8\"], [0.3333333333333333, \"#9c179e\"], [0.4444444444444444, \"#bd3786\"], [0.5555555555555556, \"#d8576b\"], [0.6666666666666666, \"#ed7953\"], [0.7777777777777778, \"#fb9f3a\"], [0.8888888888888888, \"#fdca26\"], [1.0, \"#f0f921\"]], \"sequentialminus\": [[0.0, \"#0d0887\"], [0.1111111111111111, \"#46039f\"], [0.2222222222222222, \"#7201a8\"], [0.3333333333333333, \"#9c179e\"], [0.4444444444444444, \"#bd3786\"], [0.5555555555555556, \"#d8576b\"], [0.6666666666666666, \"#ed7953\"], [0.7777777777777778, \"#fb9f3a\"], [0.8888888888888888, \"#fdca26\"], [1.0, \"#f0f921\"]]}, \"colorway\": [\"#636efa\", \"#EF553B\", \"#00cc96\", \"#ab63fa\", \"#FFA15A\", \"#19d3f3\", \"#FF6692\", \"#B6E880\", \"#FF97FF\", \"#FECB52\"], \"font\": {\"color\": \"#2a3f5f\"}, \"geo\": {\"bgcolor\": \"white\", \"lakecolor\": \"white\", \"landcolor\": \"#E5ECF6\", \"showlakes\": true, \"showland\": true, \"subunitcolor\": \"white\"}, \"hoverlabel\": {\"align\": \"left\"}, \"hovermode\": \"closest\", \"mapbox\": {\"style\": \"light\"}, \"paper_bgcolor\": \"white\", \"plot_bgcolor\": \"#E5ECF6\", \"polar\": {\"angularaxis\": {\"gridcolor\": \"white\", \"linecolor\": \"white\", \"ticks\": \"\"}, \"bgcolor\": \"#E5ECF6\", \"radialaxis\": {\"gridcolor\": \"white\", \"linecolor\": \"white\", \"ticks\": \"\"}}, \"scene\": {\"xaxis\": {\"backgroundcolor\": \"#E5ECF6\", \"gridcolor\": \"white\", \"gridwidth\": 2, \"linecolor\": \"white\", \"showbackground\": true, \"ticks\": \"\", \"zerolinecolor\": \"white\"}, \"yaxis\": {\"backgroundcolor\": \"#E5ECF6\", \"gridcolor\": \"white\", \"gridwidth\": 2, \"linecolor\": \"white\", \"showbackground\": true, \"ticks\": \"\", \"zerolinecolor\": \"white\"}, \"zaxis\": {\"backgroundcolor\": \"#E5ECF6\", \"gridcolor\": \"white\", \"gridwidth\": 2, \"linecolor\": \"white\", \"showbackground\": true, \"ticks\": \"\", \"zerolinecolor\": \"white\"}}, \"shapedefaults\": {\"line\": {\"color\": \"#2a3f5f\"}}, \"ternary\": {\"aaxis\": {\"gridcolor\": \"white\", \"linecolor\": \"white\", \"ticks\": \"\"}, \"baxis\": {\"gridcolor\": \"white\", \"linecolor\": \"white\", \"ticks\": \"\"}, \"bgcolor\": \"#E5ECF6\", \"caxis\": {\"gridcolor\": \"white\", \"linecolor\": \"white\", \"ticks\": \"\"}}, \"title\": {\"x\": 0.05}, \"xaxis\": {\"automargin\": true, \"gridcolor\": \"white\", \"linecolor\": \"white\", \"ticks\": \"\", \"title\": {\"standoff\": 15}, \"zerolinecolor\": \"white\", \"zerolinewidth\": 2}, \"yaxis\": {\"automargin\": true, \"gridcolor\": \"white\", \"linecolor\": \"white\", \"ticks\": \"\", \"title\": {\"standoff\": 15}, \"zerolinecolor\": \"white\", \"zerolinewidth\": 2}}}, \"uniformtext\": {\"minsize\": 8, \"mode\": \"hide\"}, \"xaxis\": {\"anchor\": \"y\", \"domain\": [0.0, 1.0], \"title\": {\"text\": \"State Name\"}}, \"yaxis\": {\"anchor\": \"x\", \"domain\": [0.0, 1.0], \"title\": {\"text\": \"Policy Value\"}}},                        {\"responsive\": true}                    ).then(function(){\n",
       "                            \n",
       "var gd = document.getElementById('77976416-9479-4b3a-9896-b1da765ee2bc');\n",
       "var x = new MutationObserver(function (mutations, observer) {{\n",
       "        var display = window.getComputedStyle(gd).display;\n",
       "        if (!display || display === 'none') {{\n",
       "            console.log([gd, 'removed!']);\n",
       "            Plotly.purge(gd);\n",
       "            observer.disconnect();\n",
       "        }}\n",
       "}});\n",
       "\n",
       "// Listen for the removal of the full notebook cells\n",
       "var notebookContainer = gd.closest('#notebook-container');\n",
       "if (notebookContainer) {{\n",
       "    x.observe(notebookContainer, {childList: true});\n",
       "}}\n",
       "\n",
       "// Listen for the clearing of the current output cell\n",
       "var outputEl = gd.closest('.output');\n",
       "if (outputEl) {{\n",
       "    x.observe(outputEl, {childList: true});\n",
       "}}\n",
       "\n",
       "                        })                };                });            </script>        </div>"
      ]
     },
     "metadata": {},
     "output_type": "display_data"
    }
   ],
   "source": [
    "fig = px.bar(loc_avail1, y='Policy Value', x='State Name', text='Policy Value', color='Age')\n",
    "fig.update_traces(texttemplate='%{text:.2s}', textposition='outside')\n",
    "fig.update_layout(uniformtext_minsize=8, uniformtext_mode='hide')\n",
    "fig.show()"
   ]
  },
  {
   "cell_type": "code",
   "execution_count": null,
   "metadata": {},
   "outputs": [],
   "source": []
  }
 ],
 "metadata": {
  "celltoolbar": "Raw Cell Format",
  "kernelspec": {
   "display_name": "Python 3",
   "language": "python",
   "name": "python3"
  },
  "language_info": {
   "codemirror_mode": {
    "name": "ipython",
    "version": 3
   },
   "file_extension": ".py",
   "mimetype": "text/x-python",
   "name": "python",
   "nbconvert_exporter": "python",
   "pygments_lexer": "ipython3",
   "version": "3.6.9"
  },
  "toc": {
   "colors": {
    "hover_highlight": "#DAA520",
    "running_highlight": "#FF0000",
    "selected_highlight": "#FFD700"
   },
   "moveMenuLeft": true,
   "nav_menu": {},
   "navigate_menu": true,
   "number_sections": true,
   "sideBar": true,
   "skip_h1_title": false,
   "threshold": 4,
   "toc_cell": false,
   "toc_position": {
    "height": "977px",
    "left": "0px",
    "right": "1457.01px",
    "top": "107px",
    "width": "214px"
   },
   "toc_section_display": "block",
   "toc_window_display": true
  }
 },
 "nbformat": 4,
 "nbformat_minor": 1
}
