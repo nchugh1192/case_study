{
 "cells": [
  {
   "cell_type": "markdown",
   "metadata": {
    "run_control": {
     "marked": true
    }
   },
   "source": [
    "# Pru Wealth Data Test\n",
    "\n",
    "Below we will explore a mock database of customers, policies and funds that are similar to the Pru Wealth data. The first section of this notebook will test your SQL skills, the second section will test your Python skills and visualisation skills.\n",
    "\n",
    "The database file is called Prudential_Data.db\n",
    "\n",
    "The three tables included in this database are:\n",
    "* Customer_Table\n",
    "* Policy_Table\n",
    "* Fund_Table\n",
    "\n",
    "You will need to have the following packages installed in your Python environment:\n",
    "* numpy\n",
    "* pandas\n",
    "* sqlite3\n",
    "\n",
    "For visualization use any package of your choice (e.g., matplotlib, seaborn, plotly).\n",
    "\n",
    "Please complete and return the test before the deadline by emailing your copy of this notebook to: Denholm.Hesse@Prudential.co.uk. If you do not know the answer to a question feel free to use Google and Stack Overflow. This is to give you the option to teach yourself a concept from the internet to address a question which you do not know the answer to, please refrain from skipping questions. The test is meant to be completed by you only.\n",
    "\n",
    "Good luck and have fun!"
   ]
  },
  {
   "cell_type": "code",
   "execution_count": 1,
   "metadata": {
    "run_control": {
     "marked": true
    }
   },
   "outputs": [],
   "source": [
    "import numpy as np\n",
    "import pandas as pd\n",
    "import sqlite3"
   ]
  },
  {
   "cell_type": "markdown",
   "metadata": {
    "run_control": {
     "marked": true
    }
   },
   "source": [
    "# SQL test\n",
    "\n",
    "IMPORANT: Please make sure all questions in this section are solved using SQL by only editing the content of the variable *sqlite_query*. Please do not edit the below cell:"
   ]
  },
  {
   "cell_type": "code",
   "execution_count": 2,
   "metadata": {
    "run_control": {
     "marked": true
    }
   },
   "outputs": [],
   "source": [
    "# Establish DB connection\n",
    "conn = sqlite3.connect('Prudential_Data.db')"
   ]
  },
  {
   "cell_type": "markdown",
   "metadata": {},
   "source": [
    "Below is an example of how to query the SQLlite databse from this Jupyter notebook. Please note that SQLlite might have a slightly different syntax from the SQL you normally use. Please do not edit the below cell:"
   ]
  },
  {
   "cell_type": "code",
   "execution_count": 3,
   "metadata": {},
   "outputs": [
    {
     "data": {
      "text/html": [
       "<div>\n",
       "<style scoped>\n",
       "    .dataframe tbody tr th:only-of-type {\n",
       "        vertical-align: middle;\n",
       "    }\n",
       "\n",
       "    .dataframe tbody tr th {\n",
       "        vertical-align: top;\n",
       "    }\n",
       "\n",
       "    .dataframe thead th {\n",
       "        text-align: right;\n",
       "    }\n",
       "</style>\n",
       "<table border=\"1\" class=\"dataframe\">\n",
       "  <thead>\n",
       "    <tr style=\"text-align: right;\">\n",
       "      <th></th>\n",
       "      <th>COUNT(*)</th>\n",
       "    </tr>\n",
       "  </thead>\n",
       "  <tbody>\n",
       "    <tr>\n",
       "      <th>0</th>\n",
       "      <td>1635</td>\n",
       "    </tr>\n",
       "  </tbody>\n",
       "</table>\n",
       "</div>"
      ],
      "text/plain": [
       "   COUNT(*)\n",
       "0      1635"
      ]
     },
     "execution_count": 3,
     "metadata": {},
     "output_type": "execute_result"
    }
   ],
   "source": [
    "sqlite_query = \"\"\"\n",
    "SELECT COUNT(*) \n",
    "from policy_table \n",
    "\"\"\"\n",
    "\n",
    "pd.read_sql(sqlite_query, conn)"
   ]
  },
  {
   "cell_type": "markdown",
   "metadata": {
    "run_control": {
     "marked": true
    }
   },
   "source": [
    "The first table \"Customer_Table\" contains personal information about the customers. Please do not edit the below cell:"
   ]
  },
  {
   "cell_type": "code",
   "execution_count": 4,
   "metadata": {
    "run_control": {
     "marked": true
    }
   },
   "outputs": [
    {
     "data": {
      "text/html": [
       "<div>\n",
       "<style scoped>\n",
       "    .dataframe tbody tr th:only-of-type {\n",
       "        vertical-align: middle;\n",
       "    }\n",
       "\n",
       "    .dataframe tbody tr th {\n",
       "        vertical-align: top;\n",
       "    }\n",
       "\n",
       "    .dataframe thead th {\n",
       "        text-align: right;\n",
       "    }\n",
       "</style>\n",
       "<table border=\"1\" class=\"dataframe\">\n",
       "  <thead>\n",
       "    <tr style=\"text-align: right;\">\n",
       "      <th></th>\n",
       "      <th>index</th>\n",
       "      <th>Customer ID</th>\n",
       "      <th>Email</th>\n",
       "      <th>Gender</th>\n",
       "      <th>Age</th>\n",
       "      <th>Postcode</th>\n",
       "    </tr>\n",
       "  </thead>\n",
       "  <tbody>\n",
       "    <tr>\n",
       "      <th>0</th>\n",
       "      <td>0</td>\n",
       "      <td>CO183683</td>\n",
       "      <td>NLUPPITT14@PARALLELS.COM</td>\n",
       "      <td>Male</td>\n",
       "      <td>90</td>\n",
       "      <td>None</td>\n",
       "    </tr>\n",
       "    <tr>\n",
       "      <th>1</th>\n",
       "      <td>1</td>\n",
       "      <td>CO314757</td>\n",
       "      <td>None</td>\n",
       "      <td>Female</td>\n",
       "      <td>90</td>\n",
       "      <td>None</td>\n",
       "    </tr>\n",
       "    <tr>\n",
       "      <th>2</th>\n",
       "      <td>2</td>\n",
       "      <td>CO720602</td>\n",
       "      <td>None</td>\n",
       "      <td>Female</td>\n",
       "      <td>90</td>\n",
       "      <td>None</td>\n",
       "    </tr>\n",
       "    <tr>\n",
       "      <th>3</th>\n",
       "      <td>3</td>\n",
       "      <td>CO34804</td>\n",
       "      <td>None</td>\n",
       "      <td>Female</td>\n",
       "      <td>90</td>\n",
       "      <td>1495-701</td>\n",
       "    </tr>\n",
       "    <tr>\n",
       "      <th>4</th>\n",
       "      <td>4</td>\n",
       "      <td>CO474411</td>\n",
       "      <td>None</td>\n",
       "      <td>Male</td>\n",
       "      <td>90</td>\n",
       "      <td>301288</td>\n",
       "    </tr>\n",
       "  </tbody>\n",
       "</table>\n",
       "</div>"
      ],
      "text/plain": [
       "   index Customer ID                     Email  Gender  Age  Postcode\n",
       "0      0    CO183683  NLUPPITT14@PARALLELS.COM    Male   90      None\n",
       "1      1    CO314757                      None  Female   90      None\n",
       "2      2    CO720602                      None  Female   90      None\n",
       "3      3     CO34804                      None  Female   90  1495-701\n",
       "4      4    CO474411                      None    Male   90    301288"
      ]
     },
     "execution_count": 4,
     "metadata": {},
     "output_type": "execute_result"
    }
   ],
   "source": [
    "sqlite_query = \"\"\"\n",
    "SELECT * \n",
    "from Customer_Table \n",
    "limit 5\n",
    "\"\"\"\n",
    "\n",
    "pd.read_sql(sqlite_query, conn)"
   ]
  },
  {
   "cell_type": "markdown",
   "metadata": {},
   "source": [
    "The second table \"Policy_Table\" contains data relating to customer policies. The policy value is the current value of the policy. Please do not edit the below cell:"
   ]
  },
  {
   "cell_type": "code",
   "execution_count": 5,
   "metadata": {},
   "outputs": [
    {
     "data": {
      "text/html": [
       "<div>\n",
       "<style scoped>\n",
       "    .dataframe tbody tr th:only-of-type {\n",
       "        vertical-align: middle;\n",
       "    }\n",
       "\n",
       "    .dataframe tbody tr th {\n",
       "        vertical-align: top;\n",
       "    }\n",
       "\n",
       "    .dataframe thead th {\n",
       "        text-align: right;\n",
       "    }\n",
       "</style>\n",
       "<table border=\"1\" class=\"dataframe\">\n",
       "  <thead>\n",
       "    <tr style=\"text-align: right;\">\n",
       "      <th></th>\n",
       "      <th>index</th>\n",
       "      <th>Policy Number</th>\n",
       "      <th>Customer ID</th>\n",
       "      <th>Product Category</th>\n",
       "      <th>Product Name</th>\n",
       "      <th>Policy Value</th>\n",
       "      <th>Policy Start Date</th>\n",
       "    </tr>\n",
       "  </thead>\n",
       "  <tbody>\n",
       "    <tr>\n",
       "      <th>0</th>\n",
       "      <td>0</td>\n",
       "      <td>RET100072</td>\n",
       "      <td>CO276506</td>\n",
       "      <td>RETIREMENT</td>\n",
       "      <td>RETIREMENT ACCOUNT</td>\n",
       "      <td>270033.0</td>\n",
       "      <td>2016-01-02 00:00:00</td>\n",
       "    </tr>\n",
       "    <tr>\n",
       "      <th>1</th>\n",
       "      <td>1</td>\n",
       "      <td>RET100931</td>\n",
       "      <td>CO831289</td>\n",
       "      <td>RETIREMENT</td>\n",
       "      <td>RETIREMENT ACCOUNT</td>\n",
       "      <td>26394.0</td>\n",
       "      <td>2016-01-04 00:00:00</td>\n",
       "    </tr>\n",
       "    <tr>\n",
       "      <th>2</th>\n",
       "      <td>2</td>\n",
       "      <td>RET100682</td>\n",
       "      <td>CO784249</td>\n",
       "      <td>RETIREMENT</td>\n",
       "      <td>RETIREMENT ACCOUNT</td>\n",
       "      <td>773567.0</td>\n",
       "      <td>2016-01-04 00:00:00</td>\n",
       "    </tr>\n",
       "    <tr>\n",
       "      <th>3</th>\n",
       "      <td>3</td>\n",
       "      <td>RET100447</td>\n",
       "      <td>CO295533</td>\n",
       "      <td>RETIREMENT</td>\n",
       "      <td>RETIREMENT ACCOUNT</td>\n",
       "      <td>35512.0</td>\n",
       "      <td>2016-01-07 00:00:00</td>\n",
       "    </tr>\n",
       "    <tr>\n",
       "      <th>4</th>\n",
       "      <td>4</td>\n",
       "      <td>RET100390</td>\n",
       "      <td>CO901735</td>\n",
       "      <td>RETIREMENT</td>\n",
       "      <td>RETIREMENT ACCOUNT</td>\n",
       "      <td>767580.0</td>\n",
       "      <td>2016-01-08 00:00:00</td>\n",
       "    </tr>\n",
       "  </tbody>\n",
       "</table>\n",
       "</div>"
      ],
      "text/plain": [
       "   index Policy Number Customer ID Product Category        Product Name  \\\n",
       "0      0     RET100072    CO276506       RETIREMENT  RETIREMENT ACCOUNT   \n",
       "1      1     RET100931    CO831289       RETIREMENT  RETIREMENT ACCOUNT   \n",
       "2      2     RET100682    CO784249       RETIREMENT  RETIREMENT ACCOUNT   \n",
       "3      3     RET100447    CO295533       RETIREMENT  RETIREMENT ACCOUNT   \n",
       "4      4     RET100390    CO901735       RETIREMENT  RETIREMENT ACCOUNT   \n",
       "\n",
       "   Policy Value    Policy Start Date  \n",
       "0      270033.0  2016-01-02 00:00:00  \n",
       "1       26394.0  2016-01-04 00:00:00  \n",
       "2      773567.0  2016-01-04 00:00:00  \n",
       "3       35512.0  2016-01-07 00:00:00  \n",
       "4      767580.0  2016-01-08 00:00:00  "
      ]
     },
     "execution_count": 5,
     "metadata": {},
     "output_type": "execute_result"
    }
   ],
   "source": [
    "sqlite_query = \"\"\"\n",
    "SELECT * \n",
    "from Policy_Table \n",
    "limit 5\n",
    "\"\"\"\n",
    "\n",
    "pd.read_sql(sqlite_query, conn)"
   ]
  },
  {
   "cell_type": "markdown",
   "metadata": {},
   "source": [
    "The final table \"Fund_Table\" contains historic data on the Policy Value (Policy_Value_Snapshot). The Policy_Value_Snapshot represents the value of the policy and the Date column is the date at which that value was recorded. The value may have changed overtime due to changes in the fund price or quanity of units the policy was invested in. Please do not edit the below cell:"
   ]
  },
  {
   "cell_type": "code",
   "execution_count": 6,
   "metadata": {},
   "outputs": [
    {
     "data": {
      "text/html": [
       "<div>\n",
       "<style scoped>\n",
       "    .dataframe tbody tr th:only-of-type {\n",
       "        vertical-align: middle;\n",
       "    }\n",
       "\n",
       "    .dataframe tbody tr th {\n",
       "        vertical-align: top;\n",
       "    }\n",
       "\n",
       "    .dataframe thead th {\n",
       "        text-align: right;\n",
       "    }\n",
       "</style>\n",
       "<table border=\"1\" class=\"dataframe\">\n",
       "  <thead>\n",
       "    <tr style=\"text-align: right;\">\n",
       "      <th></th>\n",
       "      <th>index</th>\n",
       "      <th>Policy Number</th>\n",
       "      <th>Customer ID</th>\n",
       "      <th>Date</th>\n",
       "      <th>Product Category</th>\n",
       "      <th>Product Name</th>\n",
       "      <th>Policy_Value_Snapshot</th>\n",
       "    </tr>\n",
       "  </thead>\n",
       "  <tbody>\n",
       "    <tr>\n",
       "      <th>0</th>\n",
       "      <td>0</td>\n",
       "      <td>ANN1221</td>\n",
       "      <td>CO408564</td>\n",
       "      <td>2009-10-31 00:00:00</td>\n",
       "      <td>ANNUITY</td>\n",
       "      <td>STANDARD ANNUITY</td>\n",
       "      <td>None</td>\n",
       "    </tr>\n",
       "    <tr>\n",
       "      <th>1</th>\n",
       "      <td>1</td>\n",
       "      <td>ANN1221</td>\n",
       "      <td>CO408564</td>\n",
       "      <td>2009-11-30 00:00:00</td>\n",
       "      <td>ANNUITY</td>\n",
       "      <td>STANDARD ANNUITY</td>\n",
       "      <td>None</td>\n",
       "    </tr>\n",
       "    <tr>\n",
       "      <th>2</th>\n",
       "      <td>2</td>\n",
       "      <td>ANN1221</td>\n",
       "      <td>CO408564</td>\n",
       "      <td>2009-12-31 00:00:00</td>\n",
       "      <td>ANNUITY</td>\n",
       "      <td>STANDARD ANNUITY</td>\n",
       "      <td>None</td>\n",
       "    </tr>\n",
       "    <tr>\n",
       "      <th>3</th>\n",
       "      <td>3</td>\n",
       "      <td>ANN1221</td>\n",
       "      <td>CO408564</td>\n",
       "      <td>2010-01-31 00:00:00</td>\n",
       "      <td>ANNUITY</td>\n",
       "      <td>STANDARD ANNUITY</td>\n",
       "      <td>None</td>\n",
       "    </tr>\n",
       "    <tr>\n",
       "      <th>4</th>\n",
       "      <td>4</td>\n",
       "      <td>ANN1221</td>\n",
       "      <td>CO408564</td>\n",
       "      <td>2010-02-28 00:00:00</td>\n",
       "      <td>ANNUITY</td>\n",
       "      <td>STANDARD ANNUITY</td>\n",
       "      <td>None</td>\n",
       "    </tr>\n",
       "  </tbody>\n",
       "</table>\n",
       "</div>"
      ],
      "text/plain": [
       "   index Policy Number Customer ID                 Date Product Category  \\\n",
       "0      0       ANN1221    CO408564  2009-10-31 00:00:00          ANNUITY   \n",
       "1      1       ANN1221    CO408564  2009-11-30 00:00:00          ANNUITY   \n",
       "2      2       ANN1221    CO408564  2009-12-31 00:00:00          ANNUITY   \n",
       "3      3       ANN1221    CO408564  2010-01-31 00:00:00          ANNUITY   \n",
       "4      4       ANN1221    CO408564  2010-02-28 00:00:00          ANNUITY   \n",
       "\n",
       "       Product Name Policy_Value_Snapshot  \n",
       "0  STANDARD ANNUITY                  None  \n",
       "1  STANDARD ANNUITY                  None  \n",
       "2  STANDARD ANNUITY                  None  \n",
       "3  STANDARD ANNUITY                  None  \n",
       "4  STANDARD ANNUITY                  None  "
      ]
     },
     "execution_count": 6,
     "metadata": {},
     "output_type": "execute_result"
    }
   ],
   "source": [
    "sqlite_query = \"\"\"\n",
    "SELECT \n",
    "*\n",
    "from Fund_Table\n",
    "limit 5\n",
    "\n",
    "\"\"\"\n",
    "\n",
    "pd.read_sql(sqlite_query, conn)"
   ]
  },
  {
   "cell_type": "markdown",
   "metadata": {},
   "source": [
    "If a question requires additional explanation for your answer, please add additional cells below the code. "
   ]
  },
  {
   "cell_type": "markdown",
   "metadata": {
    "run_control": {
     "marked": true
    }
   },
   "source": [
    "## Q1: What is the current average policy value split by each product name? "
   ]
  },
  {
   "cell_type": "code",
   "execution_count": null,
   "metadata": {
    "run_control": {
     "marked": true
    }
   },
   "outputs": [],
   "source": [
    "sqlite_query = \"\"\"\n",
    "\n",
    "\"\"\"\n",
    "\n",
    "pd.read_sql(sqlite_query, conn)"
   ]
  },
  {
   "cell_type": "markdown",
   "metadata": {
    "run_control": {
     "marked": true
    }
   },
   "source": [
    "## Q2: How many customers opened a new policy in Q1 2017 who already had an existing pension product? "
   ]
  },
  {
   "cell_type": "code",
   "execution_count": null,
   "metadata": {
    "run_control": {
     "marked": true
    },
    "scrolled": true
   },
   "outputs": [],
   "source": [
    "sqlite_query = \"\"\"\n",
    "\n",
    "\"\"\"\n",
    "pd.read_sql(sqlite_query, conn)"
   ]
  },
  {
   "cell_type": "markdown",
   "metadata": {
    "run_control": {
     "marked": true
    }
   },
   "source": [
    "## Q3: What was the customer ID that had the biggest difference in policy value between its earliest and latest date (for any product) ?"
   ]
  },
  {
   "cell_type": "code",
   "execution_count": null,
   "metadata": {
    "run_control": {
     "marked": true
    }
   },
   "outputs": [],
   "source": [
    "sqlite_query = \"\"\"\n",
    "\n",
    "\"\"\"\n",
    "\n",
    "pd.read_sql(sqlite_query, conn)"
   ]
  },
  {
   "cell_type": "markdown",
   "metadata": {
    "run_control": {
     "marked": true
    }
   },
   "source": [
    "# Python Test\n",
    "\n",
    "Same data, but now let's have some fun in python. Please do not use SQL for this part of the exercise. \n",
    "\n",
    "Feel free to add more cells of code or text"
   ]
  },
  {
   "cell_type": "code",
   "execution_count": null,
   "metadata": {
    "run_control": {
     "marked": true
    }
   },
   "outputs": [],
   "source": [
    "Customer_Table = pd.read_sql('SELECT * FROM Customer_Table', conn)\n",
    "Policy_Table = pd.read_sql('SELECT * FROM Policy_Table', conn)\n",
    "Fund_Table = pd.read_sql('SELECT * FROM Fund_Table', conn)"
   ]
  },
  {
   "cell_type": "markdown",
   "metadata": {
    "run_control": {
     "marked": true
    }
   },
   "source": [
    "## Q4: Produce a list of customers which have an invalid email address. What do you notice about these customers? ##\n",
    "\n",
    "Feel free to use any packages of your choice"
   ]
  },
  {
   "cell_type": "code",
   "execution_count": null,
   "metadata": {
    "run_control": {
     "marked": true
    }
   },
   "outputs": [],
   "source": [
    "#Insert your answer below: "
   ]
  },
  {
   "cell_type": "markdown",
   "metadata": {
    "run_control": {
     "marked": true
    }
   },
   "source": [
    "## Q5: The Managing Director of Pru Wealth needs to see how policy value differs between other variables in the database (e.g. customer demographics) . They don't have time to read a report, so have asked for a cool visualisation that tells a story.\n",
    "\n",
    "Visualise something cool, tell us a story! You can use packages like Matplotlib, Seaborn or Plotly.Tell us why you chose to visualise the data in this way and how it can be used from a business perspective.\n"
   ]
  },
  {
   "cell_type": "code",
   "execution_count": null,
   "metadata": {
    "run_control": {
     "marked": true
    }
   },
   "outputs": [],
   "source": [
    "# Insert your answer below: \n"
   ]
  }
 ],
 "metadata": {
  "celltoolbar": "Raw Cell Format",
  "kernelspec": {
   "display_name": "Python 3",
   "language": "python",
   "name": "python3"
  },
  "language_info": {
   "codemirror_mode": {
    "name": "ipython",
    "version": 3
   },
   "file_extension": ".py",
   "mimetype": "text/x-python",
   "name": "python",
   "nbconvert_exporter": "python",
   "pygments_lexer": "ipython3",
   "version": "3.6.4"
  },
  "toc": {
   "colors": {
    "hover_highlight": "#DAA520",
    "running_highlight": "#FF0000",
    "selected_highlight": "#FFD700"
   },
   "moveMenuLeft": true,
   "nav_menu": {},
   "navigate_menu": true,
   "number_sections": true,
   "sideBar": true,
   "skip_h1_title": false,
   "threshold": 4,
   "toc_cell": false,
   "toc_position": {
    "height": "977px",
    "left": "0px",
    "right": "1457.01px",
    "top": "107px",
    "width": "214px"
   },
   "toc_section_display": "block",
   "toc_window_display": true
  }
 },
 "nbformat": 4,
 "nbformat_minor": 1
}
